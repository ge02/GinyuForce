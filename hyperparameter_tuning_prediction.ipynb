{
 "cells": [
  {
   "cell_type": "code",
   "execution_count": 175,
   "id": "initial_id",
   "metadata": {
    "collapsed": true,
    "ExecuteTime": {
     "end_time": "2025-01-27T22:52:46.144452Z",
     "start_time": "2025-01-27T22:52:42.266339Z"
    }
   },
   "outputs": [],
   "source": [
    "\n",
    "\n",
    "import pandas as pd\n",
    "import seaborn as sns\n",
    "import matplotlib.pyplot as plt\n",
    "import math\n",
    "import numpy as np\n",
    "\n",
    "from scipy.stats import loguniform\n",
    "from sklearn.tree import DecisionTreeRegressor\n",
    "from sklearn.linear_model import Lasso\n",
    "from sklearn import metrics\n",
    "from sklearn.metrics import mean_squared_error, mean_absolute_error, r2_score\n",
    "from sklearn.ensemble import RandomForestRegressor\n",
    "from sklearn.pipeline import Pipeline\n",
    "from sklearn.compose import ColumnTransformer\n",
    "from sklearn.preprocessing import OneHotEncoder, StandardScaler\n",
    "from sklearn.model_selection import RandomizedSearchCV, RepeatedStratifiedKFold, train_test_split\n",
    "\n",
    "# Import keras libraries\n",
    "import tensorflow\n",
    "from tensorflow import keras\n",
    "from keras import layers\n",
    "import keras_tuner\n",
    "from keras_tuner.tuners import Hyperband\n",
    "import IPython\n",
    "\n",
    "import warnings\n",
    "from pandas.errors import SettingWithCopyWarning\n",
    "warnings.simplefilter(action=\"ignore\", category=SettingWithCopyWarning)\n",
    "\n",
    "# import dataset (which we created in Task 1)\n",
    "# dfPhiladelphiaIncluding0TripsUniqueHours = pd.read_csv(\"data/exports/dfPhiladelphiaIncluding0TripsUniqueHours.csv.zip\")\n",
    "# dfPhiladelphiaIncluding0TripsUniqueHours.info()"
   ]
  },
  {
   "cell_type": "code",
   "outputs": [],
   "source": [
    "# read in dataset\n",
    "charging_set_complete = pd.read_csv(\"data/cleaned_charging_set_new.csv\")"
   ],
   "metadata": {
    "collapsed": false,
    "ExecuteTime": {
     "end_time": "2025-01-27T22:52:48.104039Z",
     "start_time": "2025-01-27T22:52:46.144011Z"
    }
   },
   "id": "77a26448a4ceed9b",
   "execution_count": 176
  },
  {
   "cell_type": "code",
   "outputs": [],
   "source": [
    "# read in dataset\n",
    "weather_set = pd.read_csv(\"data/cleaned_weather_set.csv\")"
   ],
   "metadata": {
    "collapsed": false,
    "ExecuteTime": {
     "end_time": "2025-01-27T22:52:48.558422Z",
     "start_time": "2025-01-27T22:52:47.811532Z"
    }
   },
   "id": "ec1656cd851f062a",
   "execution_count": 177
  },
  {
   "cell_type": "code",
   "outputs": [],
   "source": [
    "# seperate data into site 1 and site 2\n",
    "charging_set_site1 = charging_set_complete[charging_set_complete[\"siteID\"] == 1]\n",
    "charging_set_site2 = charging_set_complete[charging_set_complete[\"siteID\"] == 2]"
   ],
   "metadata": {
    "collapsed": false,
    "ExecuteTime": {
     "end_time": "2025-01-27T22:52:48.618858Z",
     "start_time": "2025-01-27T22:52:48.166405Z"
    }
   },
   "id": "88f9b88dd5fba1a5",
   "execution_count": 178
  },
  {
   "cell_type": "code",
   "outputs": [
    {
     "data": {
      "text/plain": "                       hour\n0 2018-09-05 11:00:00+00:00\n1 2018-09-05 12:00:00+00:00\n2 2018-09-05 13:00:00+00:00\n3 2018-09-05 14:00:00+00:00\n4 2018-09-05 15:00:00+00:00",
      "text/html": "<div>\n<style scoped>\n    .dataframe tbody tr th:only-of-type {\n        vertical-align: middle;\n    }\n\n    .dataframe tbody tr th {\n        vertical-align: top;\n    }\n\n    .dataframe thead th {\n        text-align: right;\n    }\n</style>\n<table border=\"1\" class=\"dataframe\">\n  <thead>\n    <tr style=\"text-align: right;\">\n      <th></th>\n      <th>hour</th>\n    </tr>\n  </thead>\n  <tbody>\n    <tr>\n      <th>0</th>\n      <td>2018-09-05 11:00:00+00:00</td>\n    </tr>\n    <tr>\n      <th>1</th>\n      <td>2018-09-05 12:00:00+00:00</td>\n    </tr>\n    <tr>\n      <th>2</th>\n      <td>2018-09-05 13:00:00+00:00</td>\n    </tr>\n    <tr>\n      <th>3</th>\n      <td>2018-09-05 14:00:00+00:00</td>\n    </tr>\n    <tr>\n      <th>4</th>\n      <td>2018-09-05 15:00:00+00:00</td>\n    </tr>\n  </tbody>\n</table>\n</div>"
     },
     "execution_count": 179,
     "metadata": {},
     "output_type": "execute_result"
    }
   ],
   "source": [
    "# Create a copy of the DataFrame to avoid the warning\n",
    "charging_set_site1 = charging_set_site1.copy()\n",
    "\n",
    "# Convert to datetime\n",
    "charging_set_site1[\"connectionTime\"] = pd.to_datetime(charging_set_site1[\"connectionTime\"])\n",
    "charging_set_site1[\"disconnectTime\"] = pd.to_datetime(charging_set_site1[\"disconnectTime\"])\n",
    "\n",
    "# Sort ascending\n",
    "charging_set_site1 = charging_set_site1.sort_values(by=\"connectionTime\").reset_index(drop=True)\n",
    "\n",
    "# Set min and max time\n",
    "min_time = charging_set_site1[\"connectionTime\"].min().floor(\"h\")\n",
    "max_time = charging_set_site1[\"disconnectTime\"].max().ceil(\"h\")\n",
    "\n",
    "# Create DataFrame for every hour\n",
    "hours_df = pd.DataFrame({\"hour\": pd.date_range(start=min_time, end=max_time, freq=\"h\")})\n",
    "hours_df.head()\n"
   ],
   "metadata": {
    "collapsed": false,
    "ExecuteTime": {
     "end_time": "2025-01-27T22:52:48.982939Z",
     "start_time": "2025-01-27T22:52:48.433314Z"
    }
   },
   "id": "83114cdbe1dc46b7",
   "execution_count": 179
  },
  {
   "cell_type": "code",
   "outputs": [
    {
     "data": {
      "text/plain": "                       hour\n0 2018-04-25 11:00:00+00:00\n1 2018-04-25 12:00:00+00:00\n2 2018-04-25 13:00:00+00:00\n3 2018-04-25 14:00:00+00:00\n4 2018-04-25 15:00:00+00:00",
      "text/html": "<div>\n<style scoped>\n    .dataframe tbody tr th:only-of-type {\n        vertical-align: middle;\n    }\n\n    .dataframe tbody tr th {\n        vertical-align: top;\n    }\n\n    .dataframe thead th {\n        text-align: right;\n    }\n</style>\n<table border=\"1\" class=\"dataframe\">\n  <thead>\n    <tr style=\"text-align: right;\">\n      <th></th>\n      <th>hour</th>\n    </tr>\n  </thead>\n  <tbody>\n    <tr>\n      <th>0</th>\n      <td>2018-04-25 11:00:00+00:00</td>\n    </tr>\n    <tr>\n      <th>1</th>\n      <td>2018-04-25 12:00:00+00:00</td>\n    </tr>\n    <tr>\n      <th>2</th>\n      <td>2018-04-25 13:00:00+00:00</td>\n    </tr>\n    <tr>\n      <th>3</th>\n      <td>2018-04-25 14:00:00+00:00</td>\n    </tr>\n    <tr>\n      <th>4</th>\n      <td>2018-04-25 15:00:00+00:00</td>\n    </tr>\n  </tbody>\n</table>\n</div>"
     },
     "execution_count": 180,
     "metadata": {},
     "output_type": "execute_result"
    }
   ],
   "source": [
    "# Combine date and time columns into single datetime columns\n",
    "charging_set_site2 = charging_set_site2.copy()\n",
    "\n",
    "charging_set_site2[\"connectionTime\"] = pd.to_datetime(charging_set_site2[\"connectionTime\"])\n",
    "charging_set_site2[\"disconnectTime\"] = pd.to_datetime(charging_set_site2[\"disconnectTime\"])\n",
    "# sort ascending\n",
    "charging_set_site2 = charging_set_site2.sort_values(by='connectionTime').reset_index(drop=True)\n",
    "# set min and max time \n",
    "min_time = charging_set_site2['connectionTime'].min().floor('h')\n",
    "max_time = charging_set_site2['disconnectTime'].max().ceil('h')\n",
    "# create df\n",
    "hours_df2 = pd.DataFrame({'hour': pd.date_range(start=min_time, end=max_time, freq='h')})\n",
    "hours_df2.head()\n"
   ],
   "metadata": {
    "collapsed": false,
    "ExecuteTime": {
     "end_time": "2025-01-27T22:52:49.562099Z",
     "start_time": "2025-01-27T22:52:48.876364Z"
    }
   },
   "id": "a1fb7f322f138ab6",
   "execution_count": 180
  },
  {
   "cell_type": "markdown",
   "source": [
    "Now we want to create our target variables that we want to predict later. For this we create 2 values:\n",
    "- connectedCars: the number of active charging sessions for each other\n",
    "    - utilization: the actual number of minutes that was charged for each hour\n",
    "\n",
    "The utiliaztion column effectivly sums up the active charging minutes for each hour and divides that by the maximum number of minutes that could be charged. In case of sitze 1 for example that would mean 60x52 = 3120 are the max charging miinutes for this site per hour. If we divide the minutes of active sessions by this value, we get the precise percentage of the charging site utilization."
   ],
   "metadata": {
    "collapsed": false
   },
   "id": "7dacf0f7993f3d4b"
  },
  {
   "cell_type": "markdown",
   "source": [
    "# CALCULATION FOR SITE 1"
   ],
   "metadata": {
    "collapsed": false
   },
   "id": "c176247dd73b5ec7"
  },
  {
   "cell_type": "code",
   "outputs": [
    {
     "data": {
      "text/plain": "                       hour  utilization  connectedCars\n0 2018-09-05 11:00:00+00:00     0.034498              2\n1 2018-09-05 12:00:00+00:00     0.049119              4\n2 2018-09-05 13:00:00+00:00     0.139071             10\n3 2018-09-05 14:00:00+00:00     0.260994             15\n4 2018-09-05 15:00:00+00:00     0.269231             14",
      "text/html": "<div>\n<style scoped>\n    .dataframe tbody tr th:only-of-type {\n        vertical-align: middle;\n    }\n\n    .dataframe tbody tr th {\n        vertical-align: top;\n    }\n\n    .dataframe thead th {\n        text-align: right;\n    }\n</style>\n<table border=\"1\" class=\"dataframe\">\n  <thead>\n    <tr style=\"text-align: right;\">\n      <th></th>\n      <th>hour</th>\n      <th>utilization</th>\n      <th>connectedCars</th>\n    </tr>\n  </thead>\n  <tbody>\n    <tr>\n      <th>0</th>\n      <td>2018-09-05 11:00:00+00:00</td>\n      <td>0.034498</td>\n      <td>2</td>\n    </tr>\n    <tr>\n      <th>1</th>\n      <td>2018-09-05 12:00:00+00:00</td>\n      <td>0.049119</td>\n      <td>4</td>\n    </tr>\n    <tr>\n      <th>2</th>\n      <td>2018-09-05 13:00:00+00:00</td>\n      <td>0.139071</td>\n      <td>10</td>\n    </tr>\n    <tr>\n      <th>3</th>\n      <td>2018-09-05 14:00:00+00:00</td>\n      <td>0.260994</td>\n      <td>15</td>\n    </tr>\n    <tr>\n      <th>4</th>\n      <td>2018-09-05 15:00:00+00:00</td>\n      <td>0.269231</td>\n      <td>14</td>\n    </tr>\n  </tbody>\n</table>\n</div>"
     },
     "execution_count": 181,
     "metadata": {},
     "output_type": "execute_result"
    }
   ],
   "source": [
    "\n",
    "\n",
    "# Number of spaces (total available spaces site 1)\n",
    "total_spaces = 52\n",
    "\n",
    "# Function to calculate active session minutes for each hour\n",
    "def calculate_utilization(hour, charging_set_site1, total_spaces):\n",
    "    start_of_hour = hour\n",
    "    end_of_hour = hour + pd.Timedelta(hours=1)\n",
    "\n",
    "    # Filter sessions active during this hour\n",
    "    active_sessions = charging_set_site1[\n",
    "        (charging_set_site1['connectionTime'] < end_of_hour) & (charging_set_site1['disconnectTime'] > start_of_hour)\n",
    "        ]\n",
    "\n",
    "    # Calculate active minutes for each session\n",
    "    active_minutes = 0\n",
    "    for _, session in active_sessions.iterrows():\n",
    "        session_start = max(session['connectionTime'], start_of_hour)\n",
    "        session_end = min(session['disconnectTime'], end_of_hour)\n",
    "        active_minutes += (session_end - session_start).total_seconds() / 60  # Convert to minutes\n",
    "\n",
    "    # count number of cars\n",
    "    connected_cars = len(active_sessions)\n",
    "    # Utilization as a percentage\n",
    "    possible_minutes = total_spaces * 60  # 60 minutes per hour per space\n",
    "    utilization = active_minutes / possible_minutes if possible_minutes > 0 else 0\n",
    "    return utilization, connected_cars\n",
    "\n",
    "\n",
    "# Compute utilization column\n",
    "hours_df['utilization'] = hours_df['hour'].apply(\n",
    "    lambda h: calculate_utilization(h, charging_set_site1, total_spaces)[0]\n",
    ")\n",
    "\n",
    "# Compute connectedCars column\n",
    "hours_df['connectedCars'] = hours_df['hour'].apply(\n",
    "    lambda h: calculate_utilization(h, charging_set_site1, total_spaces)[1]\n",
    ")\n",
    "\n",
    "# Display results\n",
    "hours_df.head()\n"
   ],
   "metadata": {
    "collapsed": false,
    "ExecuteTime": {
     "end_time": "2025-01-27T22:54:49.724909Z",
     "start_time": "2025-01-27T22:52:49.173374Z"
    }
   },
   "id": "e747c1da49a85c95",
   "execution_count": 181
  },
  {
   "cell_type": "markdown",
   "source": [
    "# CALCULATION FOR SITE 2"
   ],
   "metadata": {
    "collapsed": false
   },
   "id": "3af908f139778b18"
  },
  {
   "cell_type": "code",
   "outputs": [
    {
     "data": {
      "text/plain": "                       hour  utilization  connectedCars\n0 2018-04-25 11:00:00+00:00     0.016029              1\n1 2018-04-25 12:00:00+00:00     0.018519              1\n2 2018-04-25 13:00:00+00:00     0.015175              3\n3 2018-04-25 14:00:00+00:00     0.059378              7\n4 2018-04-25 15:00:00+00:00     0.253596             22",
      "text/html": "<div>\n<style scoped>\n    .dataframe tbody tr th:only-of-type {\n        vertical-align: middle;\n    }\n\n    .dataframe tbody tr th {\n        vertical-align: top;\n    }\n\n    .dataframe thead th {\n        text-align: right;\n    }\n</style>\n<table border=\"1\" class=\"dataframe\">\n  <thead>\n    <tr style=\"text-align: right;\">\n      <th></th>\n      <th>hour</th>\n      <th>utilization</th>\n      <th>connectedCars</th>\n    </tr>\n  </thead>\n  <tbody>\n    <tr>\n      <th>0</th>\n      <td>2018-04-25 11:00:00+00:00</td>\n      <td>0.016029</td>\n      <td>1</td>\n    </tr>\n    <tr>\n      <th>1</th>\n      <td>2018-04-25 12:00:00+00:00</td>\n      <td>0.018519</td>\n      <td>1</td>\n    </tr>\n    <tr>\n      <th>2</th>\n      <td>2018-04-25 13:00:00+00:00</td>\n      <td>0.015175</td>\n      <td>3</td>\n    </tr>\n    <tr>\n      <th>3</th>\n      <td>2018-04-25 14:00:00+00:00</td>\n      <td>0.059378</td>\n      <td>7</td>\n    </tr>\n    <tr>\n      <th>4</th>\n      <td>2018-04-25 15:00:00+00:00</td>\n      <td>0.253596</td>\n      <td>22</td>\n    </tr>\n  </tbody>\n</table>\n</div>"
     },
     "execution_count": 182,
     "metadata": {},
     "output_type": "execute_result"
    }
   ],
   "source": [
    "# Number of spaces (total available spaces site 1)\n",
    "total_spaces = 54\n",
    "\n",
    "# Function to calculate active session minutes for each hour\n",
    "def calculate_utilization(hour, charging_set_site2, total_spaces):\n",
    "    start_of_hour = hour\n",
    "    end_of_hour = hour + pd.Timedelta(hours=1)\n",
    "\n",
    "    # Filter sessions active during this hour\n",
    "    active_sessions = charging_set_site2[\n",
    "        (charging_set_site2['connectionTime'] < end_of_hour) & (charging_set_site2['disconnectTime'] > start_of_hour)\n",
    "        ]\n",
    "\n",
    "    # Calculate active minutes for each session\n",
    "    active_minutes = 0\n",
    "    for _, session in active_sessions.iterrows():\n",
    "        session_start = max(session['connectionTime'], start_of_hour)\n",
    "        session_end = min(session['disconnectTime'], end_of_hour)\n",
    "        active_minutes += (session_end - session_start).total_seconds() / 60  # Convert to minutes\n",
    "\n",
    "    # count number of cars\n",
    "    connected_cars = len(active_sessions)\n",
    "    # Utilization as a percentage\n",
    "    possible_minutes = total_spaces * 60  # 60 minutes per hour per space\n",
    "    utilization = active_minutes / possible_minutes if possible_minutes > 0 else 0\n",
    "    return utilization, connected_cars\n",
    "\n",
    "\n",
    "# Compute utilization column\n",
    "hours_df2['utilization'] = hours_df2['hour'].apply(\n",
    "    lambda h: calculate_utilization(h, charging_set_site2, total_spaces)[0]\n",
    ")\n",
    "\n",
    "# Compute connectedCars column\n",
    "hours_df2['connectedCars'] = hours_df2['hour'].apply(\n",
    "    lambda h: calculate_utilization(h, charging_set_site2, total_spaces)[1]\n",
    ")\n",
    "\n",
    "# Display results\n",
    "hours_df2.head()\n"
   ],
   "metadata": {
    "collapsed": false,
    "ExecuteTime": {
     "end_time": "2025-01-27T22:56:13.906162Z",
     "start_time": "2025-01-27T22:54:49.723644Z"
    }
   },
   "id": "9fc1f31364c47e83",
   "execution_count": 182
  },
  {
   "cell_type": "markdown",
   "source": [
    "# MERGE TARGET VARIABLE AND WEATHER DATASET"
   ],
   "metadata": {
    "collapsed": false
   },
   "id": "23c8bec5fe7ad1cb"
  },
  {
   "cell_type": "code",
   "outputs": [],
   "source": [
    "# transform column to the same format\n",
    "hours_df[\"hour\"] = hours_df[\"hour\"].dt.tz_localize(None)\n",
    "hours_df2[\"hour\"] = hours_df2[\"hour\"].dt.tz_localize(None)\n",
    "\n",
    "# Convert the \"timestamp\" column in the weather data to datetime\n",
    "weather_set[\"timestamp\"] = pd.to_datetime(weather_set[\"timestamp\"])\n",
    "\n",
    "# Round the weather data timestamps to the nearest hour\n",
    "weather_set[\"timestamp\"] = weather_set[\"timestamp\"].dt.floor(\"h\")\n",
    "\n",
    "# Merge the datasets based on the \"timestamp\" column\n",
    "merged_data_site1 = pd.merge(hours_df, weather_set, left_on=\"hour\", right_on=\"timestamp\", how=\"left\")\n",
    "merged_data_site2 = pd.merge(hours_df2, weather_set, left_on=\"hour\", right_on=\"timestamp\", how=\"left\")\n",
    "# Drop the redundant \"timestamp\" column from the weather data after merging\n",
    "merged_data_site1 = merged_data_site1.drop(columns=[\"timestamp\"])\n",
    "merged_data_site2 = merged_data_site2.drop(columns=[\"timestamp\"])"
   ],
   "metadata": {
    "collapsed": false,
    "ExecuteTime": {
     "end_time": "2025-01-27T22:56:14.066969Z",
     "start_time": "2025-01-27T22:56:13.924981Z"
    }
   },
   "id": "3db67a9f2de1d032",
   "execution_count": 183
  },
  {
   "cell_type": "code",
   "outputs": [
    {
     "name": "stdout",
     "output_type": "stream",
     "text": [
      "2300 2300\n"
     ]
    }
   ],
   "source": [
    "start_date = \"2020-08-02\"\n",
    "end_date = \"2020-10-31\"\n",
    "\n",
    "filtered_data = merged_data_site1.loc[\n",
    "    (merged_data_site1['hour'] >= pd.to_datetime(start_date)) &\n",
    "    (merged_data_site1['hour'] <= pd.to_datetime(end_date))\n",
    "    ]\n",
    "filtered_data2 = merged_data_site2.loc[\n",
    "    (merged_data_site2['hour'] >= pd.to_datetime(start_date)) &\n",
    "    (merged_data_site2['hour'] <= pd.to_datetime(end_date))\n",
    "    ]\n",
    "print(len(filtered_data),len(filtered_data2))"
   ],
   "metadata": {
    "collapsed": false,
    "ExecuteTime": {
     "end_time": "2025-01-27T22:56:14.079343Z",
     "start_time": "2025-01-27T22:56:14.036676Z"
    }
   },
   "id": "6a0c8aeaa83fc137",
   "execution_count": 184
  },
  {
   "cell_type": "code",
   "outputs": [],
   "source": [
    "merged_data_site1 = merged_data_site1.loc[\n",
    "    ~((merged_data_site1['hour'] >= pd.to_datetime(start_date)) &\n",
    "      (merged_data_site1['hour'] <= pd.to_datetime(end_date)))\n",
    "]\n",
    "merged_data_site2 = merged_data_site2.loc[\n",
    "    ~((merged_data_site2['hour'] >= pd.to_datetime(start_date)) &\n",
    "      (merged_data_site2['hour'] <= pd.to_datetime(end_date)))\n",
    "]"
   ],
   "metadata": {
    "collapsed": false,
    "ExecuteTime": {
     "end_time": "2025-01-27T22:56:14.227766Z",
     "start_time": "2025-01-27T22:56:14.069433Z"
    }
   },
   "id": "163b790ab92b78e6",
   "execution_count": 185
  },
  {
   "cell_type": "markdown",
   "source": [
    "# FEATURE ENGINEERING"
   ],
   "metadata": {
    "collapsed": false
   },
   "id": "d92448ca2acb5e5a"
  },
  {
   "cell_type": "markdown",
   "source": [
    "CREATE NEW FEATURES FOR SITE 1"
   ],
   "metadata": {
    "collapsed": false
   },
   "id": "ea5defd541fc279c"
  },
  {
   "cell_type": "code",
   "outputs": [
    {
     "data": {
      "text/plain": "                 hour  utilization  connectedCars     city  temperature  \\\n0 2018-09-05 11:00:00     0.034498              2  Burbank         19.0   \n1 2018-09-05 12:00:00     0.049119              4  Burbank         19.0   \n2 2018-09-05 13:00:00     0.139071             10  Burbank         19.0   \n3 2018-09-05 13:00:00     0.139071             10  Burbank         19.0   \n4 2018-09-05 14:00:00     0.260994             15  Burbank         19.0   \n\n   cloud_cover cloud_cover_description  pressure  windspeed  precipitation  \\\n0         26.0                  Cloudy    984.83        6.0            0.0   \n1         26.0                  Cloudy    985.49        6.0            0.0   \n2         28.0           Mostly Cloudy    986.15        7.0            0.0   \n3         28.0           Mostly Cloudy    986.15        7.0            0.0   \n4         28.0           Mostly Cloudy    986.81        0.0            0.0   \n\n   ...  thunder  thunder_in_vicinity  cloudy  smoke  covid weekday  Season  \\\n0  ...      0.0                  0.0     1.0    0.0      0       2     3.0   \n1  ...      0.0                  0.0     1.0    0.0      0       2     3.0   \n2  ...      0.0                  0.0     1.0    0.0      0       2     3.0   \n3  ...      0.0                  0.0     1.0    0.0      0       2     3.0   \n4  ...      0.0                  0.0     1.0    0.0      0       2     3.0   \n\n   Weekday/Weekend  time_of_day  hour_of_day  \n0                0            1           11  \n1                0            2           12  \n2                0            2           13  \n3                0            2           13  \n4                0            2           14  \n\n[5 rows x 38 columns]",
      "text/html": "<div>\n<style scoped>\n    .dataframe tbody tr th:only-of-type {\n        vertical-align: middle;\n    }\n\n    .dataframe tbody tr th {\n        vertical-align: top;\n    }\n\n    .dataframe thead th {\n        text-align: right;\n    }\n</style>\n<table border=\"1\" class=\"dataframe\">\n  <thead>\n    <tr style=\"text-align: right;\">\n      <th></th>\n      <th>hour</th>\n      <th>utilization</th>\n      <th>connectedCars</th>\n      <th>city</th>\n      <th>temperature</th>\n      <th>cloud_cover</th>\n      <th>cloud_cover_description</th>\n      <th>pressure</th>\n      <th>windspeed</th>\n      <th>precipitation</th>\n      <th>...</th>\n      <th>thunder</th>\n      <th>thunder_in_vicinity</th>\n      <th>cloudy</th>\n      <th>smoke</th>\n      <th>covid</th>\n      <th>weekday</th>\n      <th>Season</th>\n      <th>Weekday/Weekend</th>\n      <th>time_of_day</th>\n      <th>hour_of_day</th>\n    </tr>\n  </thead>\n  <tbody>\n    <tr>\n      <th>0</th>\n      <td>2018-09-05 11:00:00</td>\n      <td>0.034498</td>\n      <td>2</td>\n      <td>Burbank</td>\n      <td>19.0</td>\n      <td>26.0</td>\n      <td>Cloudy</td>\n      <td>984.83</td>\n      <td>6.0</td>\n      <td>0.0</td>\n      <td>...</td>\n      <td>0.0</td>\n      <td>0.0</td>\n      <td>1.0</td>\n      <td>0.0</td>\n      <td>0</td>\n      <td>2</td>\n      <td>3.0</td>\n      <td>0</td>\n      <td>1</td>\n      <td>11</td>\n    </tr>\n    <tr>\n      <th>1</th>\n      <td>2018-09-05 12:00:00</td>\n      <td>0.049119</td>\n      <td>4</td>\n      <td>Burbank</td>\n      <td>19.0</td>\n      <td>26.0</td>\n      <td>Cloudy</td>\n      <td>985.49</td>\n      <td>6.0</td>\n      <td>0.0</td>\n      <td>...</td>\n      <td>0.0</td>\n      <td>0.0</td>\n      <td>1.0</td>\n      <td>0.0</td>\n      <td>0</td>\n      <td>2</td>\n      <td>3.0</td>\n      <td>0</td>\n      <td>2</td>\n      <td>12</td>\n    </tr>\n    <tr>\n      <th>2</th>\n      <td>2018-09-05 13:00:00</td>\n      <td>0.139071</td>\n      <td>10</td>\n      <td>Burbank</td>\n      <td>19.0</td>\n      <td>28.0</td>\n      <td>Mostly Cloudy</td>\n      <td>986.15</td>\n      <td>7.0</td>\n      <td>0.0</td>\n      <td>...</td>\n      <td>0.0</td>\n      <td>0.0</td>\n      <td>1.0</td>\n      <td>0.0</td>\n      <td>0</td>\n      <td>2</td>\n      <td>3.0</td>\n      <td>0</td>\n      <td>2</td>\n      <td>13</td>\n    </tr>\n    <tr>\n      <th>3</th>\n      <td>2018-09-05 13:00:00</td>\n      <td>0.139071</td>\n      <td>10</td>\n      <td>Burbank</td>\n      <td>19.0</td>\n      <td>28.0</td>\n      <td>Mostly Cloudy</td>\n      <td>986.15</td>\n      <td>7.0</td>\n      <td>0.0</td>\n      <td>...</td>\n      <td>0.0</td>\n      <td>0.0</td>\n      <td>1.0</td>\n      <td>0.0</td>\n      <td>0</td>\n      <td>2</td>\n      <td>3.0</td>\n      <td>0</td>\n      <td>2</td>\n      <td>13</td>\n    </tr>\n    <tr>\n      <th>4</th>\n      <td>2018-09-05 14:00:00</td>\n      <td>0.260994</td>\n      <td>15</td>\n      <td>Burbank</td>\n      <td>19.0</td>\n      <td>28.0</td>\n      <td>Mostly Cloudy</td>\n      <td>986.81</td>\n      <td>0.0</td>\n      <td>0.0</td>\n      <td>...</td>\n      <td>0.0</td>\n      <td>0.0</td>\n      <td>1.0</td>\n      <td>0.0</td>\n      <td>0</td>\n      <td>2</td>\n      <td>3.0</td>\n      <td>0</td>\n      <td>2</td>\n      <td>14</td>\n    </tr>\n  </tbody>\n</table>\n<p>5 rows × 38 columns</p>\n</div>"
     },
     "execution_count": 186,
     "metadata": {},
     "output_type": "execute_result"
    }
   ],
   "source": [
    "# create season column and weekend/weekday column and covvid column\n",
    "merged_data_site1[\"hour\"] = pd.to_datetime(merged_data_site1[\"hour\"])\n",
    "# Add covid column\n",
    "merged_data_site1[\"covid\"] = merged_data_site1[\"hour\"].apply(lambda x: 0 if x < pd.Timestamp(\"2020-03-01\") else 1)\n",
    "\n",
    "merged_data_site1[\"weekday\"] = merged_data_site1[\"hour\"].apply(lambda x: x.weekday())\n",
    "\n",
    "# Function to map months to seasons\n",
    "def get_season(month):\n",
    "    if month in [12, 1, 2]:\n",
    "        return \"Winter\"\n",
    "    elif month in [3, 4, 5]:\n",
    "        return \"Spring\"\n",
    "    elif month in [6, 7, 8]:\n",
    "        return \"Summer\"\n",
    "    elif month in [9, 10,11]:\n",
    "        return \"Fall\"\n",
    "    return np.nan\n",
    "\n",
    "# Apply the season mapping\n",
    "merged_data_site1[\"Season\"] = merged_data_site1[\"date_month\"].apply(get_season)\n",
    "\n",
    "# Add weekday/weekend column \n",
    "merged_data_site1[\"Weekday/Weekend\"] = merged_data_site1[\"hour\"].apply(lambda x: 1 if x.weekday()>=5 else 0)\n",
    "# Mapping seasons to numeric values\n",
    "season_mapping = {\"Winter\": 0, \"Spring\": 1, \"Summer\": 2, \"Fall\": 3}\n",
    "merged_data_site1[\"Season\"] = merged_data_site1[\"Season\"].map(season_mapping)\n",
    "\n",
    "\n",
    "# create df column for time of day\n",
    "def assign_category(hour):\n",
    "    if hour >= 23 or hour < 6:\n",
    "        return 0  # Night\n",
    "    elif 6 <= hour < 12:\n",
    "        return 1  # Morning\n",
    "    elif 12 <= hour < 18:\n",
    "        return 2  # Afternoon\n",
    "    else:\n",
    "        return 3  # Evening\n",
    "\n",
    "# Apply the function to create a new column\n",
    "merged_data_site1[\"time_of_day\"] = merged_data_site1[\"hour\"].dt.hour.apply(assign_category)\n",
    "\n",
    "# create  precise hour of day column\n",
    "merged_data_site1[\"hour_of_day\"] = merged_data_site1[\"hour\"].dt.hour\n",
    "\n",
    "# Resulting DataFrame\n",
    "merged_data_site1.head()\n"
   ],
   "metadata": {
    "collapsed": false,
    "ExecuteTime": {
     "end_time": "2025-01-27T22:56:14.329702Z",
     "start_time": "2025-01-27T22:56:14.152400Z"
    }
   },
   "id": "d00d25ef1baca012",
   "execution_count": 186
  },
  {
   "cell_type": "code",
   "outputs": [],
   "source": [
    "# drop NaN values\n",
    "merged_data_site1 = merged_data_site1.dropna()\n",
    "merged_data_site2 = merged_data_site2.dropna()"
   ],
   "metadata": {
    "collapsed": false,
    "ExecuteTime": {
     "end_time": "2025-01-27T22:56:14.477481Z",
     "start_time": "2025-01-27T22:56:14.305205Z"
    }
   },
   "id": "4b51112bdc2bbda4",
   "execution_count": 187
  },
  {
   "cell_type": "code",
   "outputs": [],
   "source": [],
   "metadata": {
    "collapsed": false,
    "ExecuteTime": {
     "end_time": "2025-01-27T22:56:14.488673Z",
     "start_time": "2025-01-27T22:56:14.336585Z"
    }
   },
   "id": "d2997a6469301a0a",
   "execution_count": 187
  },
  {
   "cell_type": "code",
   "outputs": [],
   "source": [
    "start_date = \"2020-08-02\"\n",
    "end_date = \"2020-10-31\"\n",
    "\n",
    "filtered_data = merged_data_site1.loc[\n",
    "    (merged_data_site1['hour'] >= pd.to_datetime(start_date)) &\n",
    "    (merged_data_site1['hour'] <= pd.to_datetime(end_date))\n",
    "    ]\n",
    "filtered_data2 = merged_data_site2.loc[\n",
    "    (merged_data_site2['hour'] >= pd.to_datetime(start_date)) &\n",
    "    (merged_data_site2['hour'] <= pd.to_datetime(end_date))\n",
    "    ]\n",
    "# print(len(filtered_data),len(filtered_data2))"
   ],
   "metadata": {
    "collapsed": false,
    "ExecuteTime": {
     "end_time": "2025-01-27T22:56:14.558592Z",
     "start_time": "2025-01-27T22:56:14.352788Z"
    }
   },
   "id": "4cdf22e98b1b6635",
   "execution_count": 188
  },
  {
   "cell_type": "code",
   "outputs": [
    {
     "name": "stdout",
     "output_type": "stream",
     "text": [
      "0 0\n"
     ]
    }
   ],
   "source": [
    "zero_connected_cars_count = filtered_data[filtered_data['connectedCars'] == 0].shape[0]\n",
    "zero_connected_cars_count2 = filtered_data2[filtered_data2['connectedCars'] == 0].shape[0]\n",
    "print(zero_connected_cars_count,zero_connected_cars_count2)"
   ],
   "metadata": {
    "collapsed": false,
    "ExecuteTime": {
     "end_time": "2025-01-27T22:56:14.571207Z",
     "start_time": "2025-01-27T22:56:14.360989Z"
    }
   },
   "id": "f784dd31435aaef1",
   "execution_count": 189
  },
  {
   "cell_type": "markdown",
   "source": [
    "## REMOVE DATA GAP FROM AUGUST 2020 UNTIL OKTOBER 2020"
   ],
   "metadata": {
    "collapsed": false
   },
   "id": "28af69849f85e1f"
  },
  {
   "cell_type": "code",
   "outputs": [],
   "source": [
    "merged_data_site1 = merged_data_site1.loc[\n",
    "    ~((merged_data_site1['hour'] >= pd.to_datetime(start_date)) &\n",
    "      (merged_data_site1['hour'] <= pd.to_datetime(end_date)))\n",
    "]\n",
    "merged_data_site2 = merged_data_site2.loc[\n",
    "    ~((merged_data_site2['hour'] >= pd.to_datetime(start_date)) &\n",
    "      (merged_data_site2['hour'] <= pd.to_datetime(end_date)))\n",
    "]"
   ],
   "metadata": {
    "collapsed": false,
    "ExecuteTime": {
     "end_time": "2025-01-27T22:56:14.627074Z",
     "start_time": "2025-01-27T22:56:14.374423Z"
    }
   },
   "id": "396645f1f990b90a",
   "execution_count": 190
  },
  {
   "cell_type": "markdown",
   "source": [
    "# CREATE NEW FEATURES FOR SITE 1"
   ],
   "metadata": {
    "collapsed": false
   },
   "id": "55fd540b8ce85c9a"
  },
  {
   "cell_type": "code",
   "outputs": [
    {
     "data": {
      "text/plain": "                 hour  utilization  connectedCars     city  temperature  \\\n0 2018-09-05 11:00:00     0.034498              2  Burbank         19.0   \n1 2018-09-05 12:00:00     0.049119              4  Burbank         19.0   \n2 2018-09-05 13:00:00     0.139071             10  Burbank         19.0   \n3 2018-09-05 13:00:00     0.139071             10  Burbank         19.0   \n4 2018-09-05 14:00:00     0.260994             15  Burbank         19.0   \n\n   cloud_cover cloud_cover_description  pressure  windspeed  precipitation  \\\n0         26.0                  Cloudy    984.83        6.0            0.0   \n1         26.0                  Cloudy    985.49        6.0            0.0   \n2         28.0           Mostly Cloudy    986.15        7.0            0.0   \n3         28.0           Mostly Cloudy    986.15        7.0            0.0   \n4         28.0           Mostly Cloudy    986.81        0.0            0.0   \n\n   ...  thunder  thunder_in_vicinity  cloudy  smoke  covid weekday  Season  \\\n0  ...      0.0                  0.0     1.0    0.0      0       2       3   \n1  ...      0.0                  0.0     1.0    0.0      0       2       3   \n2  ...      0.0                  0.0     1.0    0.0      0       2       3   \n3  ...      0.0                  0.0     1.0    0.0      0       2       3   \n4  ...      0.0                  0.0     1.0    0.0      0       2       3   \n\n   Weekday/Weekend  time_of_day  hour_of_day  \n0                0            1           11  \n1                0            2           12  \n2                0            2           13  \n3                0            2           13  \n4                0            2           14  \n\n[5 rows x 38 columns]",
      "text/html": "<div>\n<style scoped>\n    .dataframe tbody tr th:only-of-type {\n        vertical-align: middle;\n    }\n\n    .dataframe tbody tr th {\n        vertical-align: top;\n    }\n\n    .dataframe thead th {\n        text-align: right;\n    }\n</style>\n<table border=\"1\" class=\"dataframe\">\n  <thead>\n    <tr style=\"text-align: right;\">\n      <th></th>\n      <th>hour</th>\n      <th>utilization</th>\n      <th>connectedCars</th>\n      <th>city</th>\n      <th>temperature</th>\n      <th>cloud_cover</th>\n      <th>cloud_cover_description</th>\n      <th>pressure</th>\n      <th>windspeed</th>\n      <th>precipitation</th>\n      <th>...</th>\n      <th>thunder</th>\n      <th>thunder_in_vicinity</th>\n      <th>cloudy</th>\n      <th>smoke</th>\n      <th>covid</th>\n      <th>weekday</th>\n      <th>Season</th>\n      <th>Weekday/Weekend</th>\n      <th>time_of_day</th>\n      <th>hour_of_day</th>\n    </tr>\n  </thead>\n  <tbody>\n    <tr>\n      <th>0</th>\n      <td>2018-09-05 11:00:00</td>\n      <td>0.034498</td>\n      <td>2</td>\n      <td>Burbank</td>\n      <td>19.0</td>\n      <td>26.0</td>\n      <td>Cloudy</td>\n      <td>984.83</td>\n      <td>6.0</td>\n      <td>0.0</td>\n      <td>...</td>\n      <td>0.0</td>\n      <td>0.0</td>\n      <td>1.0</td>\n      <td>0.0</td>\n      <td>0</td>\n      <td>2</td>\n      <td>3</td>\n      <td>0</td>\n      <td>1</td>\n      <td>11</td>\n    </tr>\n    <tr>\n      <th>1</th>\n      <td>2018-09-05 12:00:00</td>\n      <td>0.049119</td>\n      <td>4</td>\n      <td>Burbank</td>\n      <td>19.0</td>\n      <td>26.0</td>\n      <td>Cloudy</td>\n      <td>985.49</td>\n      <td>6.0</td>\n      <td>0.0</td>\n      <td>...</td>\n      <td>0.0</td>\n      <td>0.0</td>\n      <td>1.0</td>\n      <td>0.0</td>\n      <td>0</td>\n      <td>2</td>\n      <td>3</td>\n      <td>0</td>\n      <td>2</td>\n      <td>12</td>\n    </tr>\n    <tr>\n      <th>2</th>\n      <td>2018-09-05 13:00:00</td>\n      <td>0.139071</td>\n      <td>10</td>\n      <td>Burbank</td>\n      <td>19.0</td>\n      <td>28.0</td>\n      <td>Mostly Cloudy</td>\n      <td>986.15</td>\n      <td>7.0</td>\n      <td>0.0</td>\n      <td>...</td>\n      <td>0.0</td>\n      <td>0.0</td>\n      <td>1.0</td>\n      <td>0.0</td>\n      <td>0</td>\n      <td>2</td>\n      <td>3</td>\n      <td>0</td>\n      <td>2</td>\n      <td>13</td>\n    </tr>\n    <tr>\n      <th>3</th>\n      <td>2018-09-05 13:00:00</td>\n      <td>0.139071</td>\n      <td>10</td>\n      <td>Burbank</td>\n      <td>19.0</td>\n      <td>28.0</td>\n      <td>Mostly Cloudy</td>\n      <td>986.15</td>\n      <td>7.0</td>\n      <td>0.0</td>\n      <td>...</td>\n      <td>0.0</td>\n      <td>0.0</td>\n      <td>1.0</td>\n      <td>0.0</td>\n      <td>0</td>\n      <td>2</td>\n      <td>3</td>\n      <td>0</td>\n      <td>2</td>\n      <td>13</td>\n    </tr>\n    <tr>\n      <th>4</th>\n      <td>2018-09-05 14:00:00</td>\n      <td>0.260994</td>\n      <td>15</td>\n      <td>Burbank</td>\n      <td>19.0</td>\n      <td>28.0</td>\n      <td>Mostly Cloudy</td>\n      <td>986.81</td>\n      <td>0.0</td>\n      <td>0.0</td>\n      <td>...</td>\n      <td>0.0</td>\n      <td>0.0</td>\n      <td>1.0</td>\n      <td>0.0</td>\n      <td>0</td>\n      <td>2</td>\n      <td>3</td>\n      <td>0</td>\n      <td>2</td>\n      <td>14</td>\n    </tr>\n  </tbody>\n</table>\n<p>5 rows × 38 columns</p>\n</div>"
     },
     "execution_count": 191,
     "metadata": {},
     "output_type": "execute_result"
    }
   ],
   "source": [
    "# create season column and weekend/weekday column and covvid column\n",
    "merged_data_site1[\"hour\"] = pd.to_datetime(merged_data_site1[\"hour\"])\n",
    "# Add covid column\n",
    "merged_data_site1[\"covid\"] = merged_data_site1[\"hour\"].apply(lambda x: 0 if x < pd.Timestamp(\"2020-03-01\") else 1)\n",
    "\n",
    "merged_data_site1[\"weekday\"] = merged_data_site1[\"hour\"].apply(lambda x: x.weekday())\n",
    "\n",
    "# Function to map months to seasons\n",
    "def get_season(month):\n",
    "    if month in [12, 1, 2]:\n",
    "        return \"Winter\"\n",
    "    elif month in [3, 4, 5]:\n",
    "        return \"Spring\"\n",
    "    elif month in [6, 7, 8]:\n",
    "        return \"Summer\"\n",
    "    elif month in [9, 10,11]:\n",
    "        return \"Fall\"\n",
    "    return np.nan\n",
    "\n",
    "# Apply the season mapping\n",
    "merged_data_site1[\"Season\"] = merged_data_site1[\"date_month\"].apply(get_season)\n",
    "\n",
    "# Add weekday/weekend column \n",
    "merged_data_site1[\"Weekday/Weekend\"] = merged_data_site1[\"hour\"].apply(lambda x: 1 if x.weekday()>=5 else 0)\n",
    "# Mapping seasons to numeric values\n",
    "season_mapping = {\"Winter\": 0, \"Spring\": 1, \"Summer\": 2, \"Fall\": 3}\n",
    "merged_data_site1[\"Season\"] = merged_data_site1[\"Season\"].map(season_mapping)\n",
    "\n",
    "\n",
    "# create df column for time of day\n",
    "def assign_category(hour):\n",
    "    if hour >= 23 or hour < 6:\n",
    "        return 0  # Night\n",
    "    elif 6 <= hour < 12:\n",
    "        return 1  # Morning\n",
    "    elif 12 <= hour < 18:\n",
    "        return 2  # Afternoon\n",
    "    else:\n",
    "        return 3  # Evening\n",
    "\n",
    "# Apply the function to create a new column\n",
    "merged_data_site1[\"time_of_day\"] = merged_data_site1[\"hour\"].dt.hour.apply(assign_category)\n",
    "\n",
    "# create  precise hour of day column\n",
    "merged_data_site1[\"hour_of_day\"] = merged_data_site1[\"hour\"].dt.hour\n",
    "\n",
    "# Resulting DataFrame\n",
    "merged_data_site1.head()\n"
   ],
   "metadata": {
    "collapsed": false,
    "ExecuteTime": {
     "end_time": "2025-01-27T22:56:14.715848Z",
     "start_time": "2025-01-27T22:56:14.406783Z"
    }
   },
   "id": "a4742f74df7ec109",
   "execution_count": 191
  },
  {
   "cell_type": "markdown",
   "source": [
    "# CREATE NEW FEATURES FOR SITE 2"
   ],
   "metadata": {
    "collapsed": false
   },
   "id": "27a95871e4aa0f77"
  },
  {
   "cell_type": "code",
   "outputs": [
    {
     "data": {
      "text/plain": "                 hour  utilization  connectedCars     city  temperature  \\\n0 2018-04-25 11:00:00     0.016029              1  Burbank         12.0   \n1 2018-04-25 12:00:00     0.018519              1  Burbank         12.0   \n2 2018-04-25 12:00:00     0.018519              1  Burbank         12.0   \n3 2018-04-25 13:00:00     0.015175              3  Burbank         12.0   \n4 2018-04-25 13:00:00     0.015175              3  Burbank         12.0   \n\n   cloud_cover cloud_cover_description  pressure  windspeed  precipitation  \\\n0         27.0           Mostly Cloudy    989.11        6.0            0.0   \n1         27.0           Mostly Cloudy    989.11        7.0            0.0   \n2         28.0           Mostly Cloudy    989.11        9.0            0.0   \n3         20.0                     Fog    989.44        9.0            0.0   \n4         20.0                     Fog    989.44        7.0            0.0   \n\n   ...  thunder  thunder_in_vicinity  cloudy  smoke  covid weekday  Season  \\\n0  ...      0.0                  0.0     1.0    0.0      0       2       1   \n1  ...      0.0                  0.0     1.0    0.0      0       2       1   \n2  ...      0.0                  0.0     1.0    0.0      0       2       1   \n3  ...      0.0                  0.0     0.0    0.0      0       2       1   \n4  ...      0.0                  0.0     0.0    0.0      0       2       1   \n\n   Weekday/Weekend  time_of_day  hour_of_day  \n0                0            1           11  \n1                0            2           12  \n2                0            2           12  \n3                0            2           13  \n4                0            2           13  \n\n[5 rows x 38 columns]",
      "text/html": "<div>\n<style scoped>\n    .dataframe tbody tr th:only-of-type {\n        vertical-align: middle;\n    }\n\n    .dataframe tbody tr th {\n        vertical-align: top;\n    }\n\n    .dataframe thead th {\n        text-align: right;\n    }\n</style>\n<table border=\"1\" class=\"dataframe\">\n  <thead>\n    <tr style=\"text-align: right;\">\n      <th></th>\n      <th>hour</th>\n      <th>utilization</th>\n      <th>connectedCars</th>\n      <th>city</th>\n      <th>temperature</th>\n      <th>cloud_cover</th>\n      <th>cloud_cover_description</th>\n      <th>pressure</th>\n      <th>windspeed</th>\n      <th>precipitation</th>\n      <th>...</th>\n      <th>thunder</th>\n      <th>thunder_in_vicinity</th>\n      <th>cloudy</th>\n      <th>smoke</th>\n      <th>covid</th>\n      <th>weekday</th>\n      <th>Season</th>\n      <th>Weekday/Weekend</th>\n      <th>time_of_day</th>\n      <th>hour_of_day</th>\n    </tr>\n  </thead>\n  <tbody>\n    <tr>\n      <th>0</th>\n      <td>2018-04-25 11:00:00</td>\n      <td>0.016029</td>\n      <td>1</td>\n      <td>Burbank</td>\n      <td>12.0</td>\n      <td>27.0</td>\n      <td>Mostly Cloudy</td>\n      <td>989.11</td>\n      <td>6.0</td>\n      <td>0.0</td>\n      <td>...</td>\n      <td>0.0</td>\n      <td>0.0</td>\n      <td>1.0</td>\n      <td>0.0</td>\n      <td>0</td>\n      <td>2</td>\n      <td>1</td>\n      <td>0</td>\n      <td>1</td>\n      <td>11</td>\n    </tr>\n    <tr>\n      <th>1</th>\n      <td>2018-04-25 12:00:00</td>\n      <td>0.018519</td>\n      <td>1</td>\n      <td>Burbank</td>\n      <td>12.0</td>\n      <td>27.0</td>\n      <td>Mostly Cloudy</td>\n      <td>989.11</td>\n      <td>7.0</td>\n      <td>0.0</td>\n      <td>...</td>\n      <td>0.0</td>\n      <td>0.0</td>\n      <td>1.0</td>\n      <td>0.0</td>\n      <td>0</td>\n      <td>2</td>\n      <td>1</td>\n      <td>0</td>\n      <td>2</td>\n      <td>12</td>\n    </tr>\n    <tr>\n      <th>2</th>\n      <td>2018-04-25 12:00:00</td>\n      <td>0.018519</td>\n      <td>1</td>\n      <td>Burbank</td>\n      <td>12.0</td>\n      <td>28.0</td>\n      <td>Mostly Cloudy</td>\n      <td>989.11</td>\n      <td>9.0</td>\n      <td>0.0</td>\n      <td>...</td>\n      <td>0.0</td>\n      <td>0.0</td>\n      <td>1.0</td>\n      <td>0.0</td>\n      <td>0</td>\n      <td>2</td>\n      <td>1</td>\n      <td>0</td>\n      <td>2</td>\n      <td>12</td>\n    </tr>\n    <tr>\n      <th>3</th>\n      <td>2018-04-25 13:00:00</td>\n      <td>0.015175</td>\n      <td>3</td>\n      <td>Burbank</td>\n      <td>12.0</td>\n      <td>20.0</td>\n      <td>Fog</td>\n      <td>989.44</td>\n      <td>9.0</td>\n      <td>0.0</td>\n      <td>...</td>\n      <td>0.0</td>\n      <td>0.0</td>\n      <td>0.0</td>\n      <td>0.0</td>\n      <td>0</td>\n      <td>2</td>\n      <td>1</td>\n      <td>0</td>\n      <td>2</td>\n      <td>13</td>\n    </tr>\n    <tr>\n      <th>4</th>\n      <td>2018-04-25 13:00:00</td>\n      <td>0.015175</td>\n      <td>3</td>\n      <td>Burbank</td>\n      <td>12.0</td>\n      <td>20.0</td>\n      <td>Fog</td>\n      <td>989.44</td>\n      <td>7.0</td>\n      <td>0.0</td>\n      <td>...</td>\n      <td>0.0</td>\n      <td>0.0</td>\n      <td>0.0</td>\n      <td>0.0</td>\n      <td>0</td>\n      <td>2</td>\n      <td>1</td>\n      <td>0</td>\n      <td>2</td>\n      <td>13</td>\n    </tr>\n  </tbody>\n</table>\n<p>5 rows × 38 columns</p>\n</div>"
     },
     "execution_count": 192,
     "metadata": {},
     "output_type": "execute_result"
    }
   ],
   "source": [
    "# create season column and weekend/weekday column and covvid column\n",
    "merged_data_site2[\"hour\"] = pd.to_datetime(merged_data_site2[\"hour\"])\n",
    "# Add covid column\n",
    "merged_data_site2[\"covid\"] = merged_data_site2[\"hour\"].apply(lambda x: 0 if x < pd.Timestamp(\"2020-03-01\") else 1)\n",
    "\n",
    "merged_data_site2[\"weekday\"] = merged_data_site2[\"hour\"].apply(lambda x: x.weekday())\n",
    "\n",
    "# Function to map months to seasons\n",
    "def get_season(month):\n",
    "    if month in [12, 1, 2]:\n",
    "        return \"Winter\"\n",
    "    elif month in [3, 4, 5]:\n",
    "        return \"Spring\"\n",
    "    elif month in [6, 7, 8]:\n",
    "        return \"Summer\"\n",
    "    elif month in [9, 10,11]:\n",
    "        return \"Fall\"\n",
    "    return np.nan\n",
    "\n",
    "# Apply the season mapping\n",
    "merged_data_site2[\"Season\"] = merged_data_site2[\"date_month\"].apply(get_season)\n",
    "\n",
    "# Add weekday/weekend column \n",
    "merged_data_site2[\"Weekday/Weekend\"] = merged_data_site2[\"hour\"].apply(lambda x: 1 if x.weekday()>=5 else 0)\n",
    "# Mapping seasons to numeric values\n",
    "season_mapping = {\"Winter\": 0, \"Spring\": 1, \"Summer\": 2, \"Fall\": 3}\n",
    "merged_data_site2[\"Season\"] = merged_data_site2[\"Season\"].map(season_mapping)\n",
    "\n",
    "\n",
    "# create df column for time of day\n",
    "def assign_category(hour):\n",
    "    if hour >= 23 or hour < 6:\n",
    "        return 0  # Night\n",
    "    elif 6 <= hour < 12:\n",
    "        return 1  # Morning\n",
    "    elif 12 <= hour < 18:\n",
    "        return 2  # Afternoon\n",
    "    else:\n",
    "        return 3  # Evening\n",
    "\n",
    "# Apply the function to create a new column\n",
    "merged_data_site2[\"time_of_day\"] = merged_data_site2[\"hour\"].dt.hour.apply(assign_category)\n",
    "\n",
    "# create  precise hour of day column\n",
    "merged_data_site2[\"hour_of_day\"] = merged_data_site2[\"hour\"].dt.hour\n",
    "# Resulting DataFrame\n",
    "merged_data_site2.head()\n"
   ],
   "metadata": {
    "collapsed": false,
    "ExecuteTime": {
     "end_time": "2025-01-27T22:56:14.985805Z",
     "start_time": "2025-01-27T22:56:14.601491Z"
    }
   },
   "id": "c128d573f5ba9812",
   "execution_count": 192
  },
  {
   "cell_type": "markdown",
   "source": [
    "## REMOVE CITY & CLOUD_COVER_DESCRIPTION FROM DATASET"
   ],
   "metadata": {
    "collapsed": false
   },
   "id": "647921ec90e22ce0"
  },
  {
   "cell_type": "code",
   "outputs": [
    {
     "name": "stdout",
     "output_type": "stream",
     "text": [
      "merged data site 1: Index(['hour', 'utilization', 'connectedCars', 'city', 'temperature',\n",
      "       'cloud_cover', 'cloud_cover_description', 'pressure', 'windspeed',\n",
      "       'precipitation', 'felt_temperature', 'temperature_difference',\n",
      "       'date_year', 'date_month', 'date_day', 'time', 'mostly', 'heavy', 'fog',\n",
      "       'windy', 'blowing_dust', 'fair', 'haze', 'partly', 'rain',\n",
      "       'light_rain_thunder', 'light', 't-storm', 'thunder',\n",
      "       'thunder_in_vicinity', 'cloudy', 'smoke', 'covid', 'weekday', 'Season',\n",
      "       'Weekday/Weekend', 'time_of_day', 'hour_of_day'],\n",
      "      dtype='object')\n",
      "merged data site 2: Index(['hour', 'utilization', 'connectedCars', 'city', 'temperature',\n",
      "       'cloud_cover', 'cloud_cover_description', 'pressure', 'windspeed',\n",
      "       'precipitation', 'felt_temperature', 'temperature_difference',\n",
      "       'date_year', 'date_month', 'date_day', 'time', 'mostly', 'heavy', 'fog',\n",
      "       'windy', 'blowing_dust', 'fair', 'haze', 'partly', 'rain',\n",
      "       'light_rain_thunder', 'light', 't-storm', 'thunder',\n",
      "       'thunder_in_vicinity', 'cloudy', 'smoke', 'covid', 'weekday', 'Season',\n",
      "       'Weekday/Weekend', 'time_of_day', 'hour_of_day'],\n",
      "      dtype='object')\n"
     ]
    }
   ],
   "source": [
    "print(\"merged data site 1:\", merged_data_site1.columns)\n",
    "print(\"merged data site 2:\", merged_data_site2.columns)"
   ],
   "metadata": {
    "collapsed": false,
    "ExecuteTime": {
     "end_time": "2025-01-27T22:56:15.009616Z",
     "start_time": "2025-01-27T22:56:14.806548Z"
    }
   },
   "id": "f2c410770519a63d",
   "execution_count": 193
  },
  {
   "cell_type": "code",
   "outputs": [],
   "source": [
    "merged_data_site1.drop(columns=['city', 'cloud_cover_description', 'hour', 'time'], axis=1, inplace=True)\n",
    "merged_data_site2.drop(columns=['city', 'cloud_cover_description', 'hour', 'time'], axis=1, inplace=True)"
   ],
   "metadata": {
    "collapsed": false,
    "ExecuteTime": {
     "end_time": "2025-01-27T22:56:15.069198Z",
     "start_time": "2025-01-27T22:56:14.824265Z"
    }
   },
   "id": "643afd2229eb09f7",
   "execution_count": 194
  },
  {
   "cell_type": "markdown",
   "source": [
    "# FEATURE SELECTION FOR SITE 1"
   ],
   "metadata": {
    "collapsed": false
   },
   "id": "3b978c99e78e3934"
  },
  {
   "cell_type": "code",
   "outputs": [
    {
     "name": "stdout",
     "output_type": "stream",
     "text": [
      "Correlation with connectedCars:\n",
      "connectedCars             1.000000\n",
      "utilization               0.990629\n",
      "hour_of_day               0.437452\n",
      "time_of_day               0.381940\n",
      "felt_temperature          0.228024\n",
      "temperature               0.226568\n",
      "windspeed                 0.148433\n",
      "haze                      0.067648\n",
      "temperature_difference    0.036816\n",
      "precipitation             0.032400\n",
      "t-storm                   0.032212\n",
      "cloud_cover               0.026539\n",
      "partly                    0.024899\n",
      "heavy                     0.022309\n",
      "thunder                   0.017571\n",
      "rain                      0.012029\n",
      "pressure                  0.010279\n",
      "windy                     0.010257\n",
      "light                     0.007884\n",
      "Season                    0.007207\n",
      "fair                     -0.000660\n",
      "mostly                   -0.005568\n",
      "fog                      -0.008701\n",
      "date_day                 -0.016249\n",
      "cloudy                   -0.023833\n",
      "smoke                    -0.026687\n",
      "date_month               -0.040253\n",
      "date_year                -0.175331\n",
      "covid                    -0.274937\n",
      "weekday                  -0.305483\n",
      "Weekday/Weekend          -0.359556\n",
      "blowing_dust                   NaN\n",
      "light_rain_thunder             NaN\n",
      "thunder_in_vicinity            NaN\n",
      "Name: connectedCars, dtype: float64\n"
     ]
    }
   ],
   "source": [
    "\n",
    "# Compute correlation matrix\n",
    "correlation_matrix = merged_data_site1.corr()\n",
    "\n",
    "\n",
    "# Correlation with target feature\n",
    "target_correlation = correlation_matrix['connectedCars'].sort_values(ascending=False)\n",
    "print(\"Correlation with connectedCars:\")\n",
    "print(target_correlation)\n"
   ],
   "metadata": {
    "collapsed": false,
    "ExecuteTime": {
     "end_time": "2025-01-27T22:56:15.085739Z",
     "start_time": "2025-01-27T22:56:14.851293Z"
    }
   },
   "id": "9c43f47ab29902e2",
   "execution_count": 195
  },
  {
   "cell_type": "code",
   "outputs": [
    {
     "data": {
      "text/plain": "<Figure size 1200x800 with 2 Axes>",
      "image/png": "[encoded data removed]"
     },
     "metadata": {},
     "output_type": "display_data"
    }
   ],
   "source": [
    "# compute correlation and display correlation for newly selected features\n",
    "predictionDF_site1 = merged_data_site1[[\"connectedCars\", \"utilization\",\"time_of_day\",\"windspeed\",\"temperature\",\"felt_temperature\",\"date_month\",\"weekday\",\"Weekday/Weekend\",\"covid\",\"hour_of_day\"]]\n",
    "correlation_matrix = predictionDF_site1.corr()\n",
    "# Plot heatmap\n",
    "plt.figure(figsize=(12, 8))\n",
    "sns.heatmap(correlation_matrix, annot=True, cmap='coolwarm', fmt=\".2f\")\n",
    "plt.title(\"Correlation Matrix\")\n",
    "plt.show()"
   ],
   "metadata": {
    "collapsed": false,
    "ExecuteTime": {
     "end_time": "2025-01-27T22:56:15.789448Z",
     "start_time": "2025-01-27T22:56:14.967045Z"
    }
   },
   "id": "25b177f5e930f579",
   "execution_count": 196
  },
  {
   "cell_type": "markdown",
   "source": [
    "# FEATURE SELECTION SITE 2"
   ],
   "metadata": {
    "collapsed": false
   },
   "id": "7479433f2e0b761e"
  },
  {
   "cell_type": "code",
   "outputs": [
    {
     "name": "stdout",
     "output_type": "stream",
     "text": [
      "Correlation with connectedCars:\n",
      "connectedCars             1.000000\n",
      "utilization               0.989156\n",
      "felt_temperature          0.408933\n",
      "temperature               0.405166\n",
      "hour_of_day               0.305628\n",
      "time_of_day               0.236789\n",
      "windspeed                 0.231861\n",
      "Season                    0.151461\n",
      "temperature_difference    0.115575\n",
      "cloud_cover               0.084475\n",
      "fair                      0.052255\n",
      "partly                    0.035498\n",
      "date_month                0.032912\n",
      "haze                      0.029883\n",
      "thunder                   0.021855\n",
      "t-storm                   0.016176\n",
      "smoke                     0.009457\n",
      "windy                    -0.002048\n",
      "date_day                 -0.003853\n",
      "heavy                    -0.008798\n",
      "precipitation            -0.011147\n",
      "light                    -0.026306\n",
      "mostly                   -0.027441\n",
      "rain                     -0.034919\n",
      "fog                      -0.035822\n",
      "cloudy                   -0.043821\n",
      "pressure                 -0.106504\n",
      "weekday                  -0.171881\n",
      "Weekday/Weekend          -0.235393\n",
      "covid                    -0.385150\n",
      "date_year                -0.485583\n",
      "blowing_dust                   NaN\n",
      "light_rain_thunder             NaN\n",
      "thunder_in_vicinity            NaN\n",
      "Name: connectedCars, dtype: float64\n"
     ]
    }
   ],
   "source": [
    "\n",
    "# Compute correlation matrix\n",
    "correlation_matrix = merged_data_site2.corr()\n",
    "\n",
    "\n",
    "# Correlation with target feature\n",
    "target_correlation = correlation_matrix['connectedCars'].sort_values(ascending=False)\n",
    "print(\"Correlation with connectedCars:\")\n",
    "print(target_correlation)"
   ],
   "metadata": {
    "collapsed": false,
    "ExecuteTime": {
     "end_time": "2025-01-27T22:56:15.916618Z",
     "start_time": "2025-01-27T22:56:15.778684Z"
    }
   },
   "id": "2cd3a6d940c60fda",
   "execution_count": 197
  },
  {
   "cell_type": "code",
   "outputs": [
    {
     "data": {
      "text/plain": "<Figure size 1200x800 with 2 Axes>",
      "image/png": "[encoded data removed]"
     },
     "metadata": {},
     "output_type": "display_data"
    }
   ],
   "source": [
    "# compute correlation and display correlation for newly selected features\n",
    "predictionDF_site2 = merged_data_site2[[\"connectedCars\", \"utilization\",\"time_of_day\",\"windspeed\",\"temperature\",\"felt_temperature\",\"Season\",\"date_month\",\"weekday\",\"Weekday/Weekend\",\"covid\",\"hour_of_day\"]]\n",
    "correlation_matrix = predictionDF_site2.corr()\n",
    "# Plot heatmap\n",
    "plt.figure(figsize=(12, 8))\n",
    "sns.heatmap(correlation_matrix, annot=True, cmap='coolwarm', fmt=\".2f\")\n",
    "plt.title(\"Correlation Matrix\")\n",
    "plt.show()"
   ],
   "metadata": {
    "collapsed": false,
    "ExecuteTime": {
     "end_time": "2025-01-27T22:56:16.456849Z",
     "start_time": "2025-01-27T22:56:15.861550Z"
    }
   },
   "id": "ff9e02cc83834774",
   "execution_count": 198
  },
  {
   "cell_type": "markdown",
   "source": [
    "# ------------------------------------------------------------------------------------\n"
   ],
   "metadata": {
    "collapsed": false
   },
   "id": "3357bd134b493e50"
  },
  {
   "cell_type": "markdown",
   "source": [
    "# ---------------------------------HOT STUFF---------------------------------"
   ],
   "metadata": {
    "collapsed": false
   },
   "id": "b8a37df2b5a76efa"
  },
  {
   "cell_type": "markdown",
   "source": [
    "# ------------------------------------------------------------------------------------"
   ],
   "metadata": {
    "collapsed": false
   },
   "id": "5ca1d6da54db9c42"
  },
  {
   "cell_type": "markdown",
   "source": [
    "## NEURAL NETWORK: PREDICTION connectedCars SITE 1"
   ],
   "metadata": {
    "collapsed": false
   },
   "id": "10a9ee440aa0e5cb"
  },
  {
   "cell_type": "code",
   "outputs": [],
   "source": [
    "X_s1 = predictionDF_site1.copy()\n",
    "X_s1 = X_s1.drop([\"connectedCars\",\"utilization\",\"temperature\",\"time_of_day\"], axis = 1)\n",
    "y_s1 = predictionDF_site1[[\"connectedCars\"]]"
   ],
   "metadata": {
    "collapsed": false,
    "ExecuteTime": {
     "end_time": "2025-01-27T22:56:16.557998Z",
     "start_time": "2025-01-27T22:56:16.461257Z"
    }
   },
   "id": "bb9aa6b0bcbd70e9",
   "execution_count": 199
  },
  {
   "cell_type": "code",
   "outputs": [
    {
     "name": "stdout",
     "output_type": "stream",
     "text": [
      "<class 'pandas.core.frame.DataFrame'>\n",
      "Index: 20351 entries, 0 to 22813\n",
      "Data columns (total 7 columns):\n",
      " #   Column            Non-Null Count  Dtype  \n",
      "---  ------            --------------  -----  \n",
      " 0   windspeed         20351 non-null  float64\n",
      " 1   felt_temperature  20351 non-null  float64\n",
      " 2   date_month        20351 non-null  float64\n",
      " 3   weekday           20351 non-null  int64  \n",
      " 4   Weekday/Weekend   20351 non-null  int64  \n",
      " 5   covid             20351 non-null  int64  \n",
      " 6   hour_of_day       20351 non-null  int32  \n",
      "dtypes: float64(3), int32(1), int64(3)\n",
      "memory usage: 1.2 MB\n"
     ]
    }
   ],
   "source": [
    "X_s1.info()"
   ],
   "metadata": {
    "collapsed": false,
    "ExecuteTime": {
     "end_time": "2025-01-27T22:56:16.619601Z",
     "start_time": "2025-01-27T22:56:16.476969Z"
    }
   },
   "id": "f2b99b94ebfe2be0",
   "execution_count": 200
  },
  {
   "cell_type": "code",
   "outputs": [],
   "source": [
    "# Split data into train and test sets\n",
    "X_s1_train, X_s1_test, y_s1_train, y_s1_test = train_test_split(X_s1, y_s1, test_size=0.3, random_state=42)\n",
    "X_s1_train, X_s1_val, y_s1_train, y_s1_val = train_test_split(X_s1_train, y_s1_train, test_size=(0.2/0.7),random_state = 42)\n",
    "\n",
    "                                                  # Standardize the feature values\n",
    "scaler = StandardScaler()\n",
    "X_s1_train = scaler.fit_transform(X_s1_train)\n",
    "X_s1_val = scaler.fit_transform(X_s1_val)\n",
    "X_s1_test = scaler.transform(X_s1_test)"
   ],
   "metadata": {
    "collapsed": false,
    "ExecuteTime": {
     "end_time": "2025-01-27T22:56:16.636665Z",
     "start_time": "2025-01-27T22:56:16.522859Z"
    }
   },
   "id": "400ab6e1f4003d48",
   "execution_count": 201
  },
  {
   "cell_type": "code",
   "outputs": [],
   "source": [
    "def build_model_nn_s1(hp):\n",
    "    # Input Layer\n",
    "    inputs = keras.Input(shape=(7,)) # shapesize dependent of input feature count\n",
    "\n",
    "    # Hidden Layers\n",
    "    ## First Hidden Layer\n",
    "    dense = layers.Dense(units=hp.Int('hidden_layer_1_units', min_value=32, max_value=256, step=32), activation='relu')\n",
    "    x = dense(inputs)\n",
    "\n",
    "    ## Possible additional Hidden Layers\n",
    "    for i in range(hp.Int('total_added_hidden_layers', 0, 10)):\n",
    "        x = layers.Dense(units=hp.Int(f'hidden_layers_{i+2}_units', min_value=32, max_value=256, step=32), activation='relu')(x)\n",
    "\n",
    "    # Output Layer\n",
    "    output = layers.Dense(1, activation='relu')(x)\n",
    "\n",
    "    # Instantiate the model\n",
    "    model_ann = keras.Model(inputs, output, name='connectedCars_NN_site1')\n",
    "\n",
    "    # Compile the model\n",
    "    model_ann.compile(optimizer='Adam', loss='mean_squared_error')\n",
    "\n",
    "    return model_ann"
   ],
   "metadata": {
    "collapsed": false,
    "ExecuteTime": {
     "end_time": "2025-01-27T22:56:16.717373Z",
     "start_time": "2025-01-27T22:56:16.564638Z"
    }
   },
   "id": "15ab2e98610c4cc8",
   "execution_count": 202
  },
  {
   "cell_type": "markdown",
   "source": [
    "# HYPERPARAMETER TUNING SITE 1"
   ],
   "metadata": {
    "collapsed": false
   },
   "id": "b465cb5bd828e4b7"
  },
  {
   "cell_type": "code",
   "outputs": [],
   "source": [
    "tuner_nn_s1 = Hyperband(\n",
    "    build_model_nn_s1,\n",
    "    objective = 'val_loss',\n",
    "    max_epochs = 20,\n",
    "    factor = 3,\n",
    "    executions_per_trial = 1,\n",
    "    project_name = 'kerastuner_LOG',\n",
    "    overwrite = True # deletes old LOG's\n",
    ")"
   ],
   "metadata": {
    "collapsed": false,
    "ExecuteTime": {
     "end_time": "2025-01-27T22:56:16.939203Z",
     "start_time": "2025-01-27T22:56:16.574268Z"
    }
   },
   "id": "2b4da20048cf2e5d",
   "execution_count": 203
  },
  {
   "cell_type": "code",
   "outputs": [
    {
     "name": "stdout",
     "output_type": "stream",
     "text": [
      "Search space summary\n",
      "Default search space size: 2\n",
      "hidden_layer_1_units (Int)\n",
      "{'default': None, 'conditions': [], 'min_value': 32, 'max_value': 256, 'step': 32, 'sampling': 'linear'}\n",
      "total_added_hidden_layers (Int)\n",
      "{'default': None, 'conditions': [], 'min_value': 0, 'max_value': 10, 'step': 1, 'sampling': 'linear'}\n"
     ]
    }
   ],
   "source": [
    "# display search space\n",
    "tuner_nn_s1.search_space_summary()"
   ],
   "metadata": {
    "collapsed": false,
    "ExecuteTime": {
     "end_time": "2025-01-27T22:56:17.012094Z",
     "start_time": "2025-01-27T22:56:16.907387Z"
    }
   },
   "id": "f6a74eec358140c0",
   "execution_count": 204
  },
  {
   "cell_type": "code",
   "outputs": [],
   "source": [
    "# define callback to clear training outputs at end of every training step\n",
    "class ClearTrainingOutput(keras.callbacks.Callback):\n",
    "    def on_train_end(*args, **kwargs):\n",
    "        IPython.display.clear_output(wait = True)"
   ],
   "metadata": {
    "collapsed": false,
    "ExecuteTime": {
     "end_time": "2025-01-27T22:56:17.023099Z",
     "start_time": "2025-01-27T22:56:16.920322Z"
    }
   },
   "id": "ee285397b0550506",
   "execution_count": 205
  },
  {
   "cell_type": "markdown",
   "source": [
    "# RUN HYPERPARAMETER SEARCH"
   ],
   "metadata": {
    "collapsed": false
   },
   "id": "da00488237af02eb"
  },
  {
   "cell_type": "code",
   "outputs": [
    {
     "name": "stdout",
     "output_type": "stream",
     "text": [
      "Trial 30 Complete [00h 00m 38s]\n",
      "val_loss: 51.349456787109375\n",
      "\n",
      "Best val_loss So Far: 48.357398986816406\n",
      "Total elapsed time: 00h 08m 01s\n"
     ]
    }
   ],
   "source": [
    "tuner_nn_s1.search(\n",
    "    X_s1_train,\n",
    "    y_s1_train,\n",
    "    validation_data=(X_s1_val,y_s1_val),\n",
    "    callbacks = [ClearTrainingOutput()]\n",
    ")"
   ],
   "metadata": {
    "collapsed": false
   },
   "id": "3787dd111e90595e",
   "execution_count": 206
  },
  {
   "cell_type": "code",
   "outputs": [
    {
     "name": "stdout",
     "output_type": "stream",
     "text": [
      "Results summary\n",
      "Results in ./kerastuner_LOG\n",
      "Showing 10 best trials\n",
      "Objective(name=\"val_loss\", direction=\"min\")\n",
      "\n",
      "Trial 0026 summary\n",
      "Hyperparameters:\n",
      "hidden_layer_1_units: 256\n",
      "total_added_hidden_layers: 8\n",
      "hidden_layers_2_units: 224\n",
      "hidden_layers_3_units: 32\n",
      "hidden_layers_4_units: 256\n",
      "hidden_layers_5_units: 256\n",
      "hidden_layers_6_units: 224\n",
      "hidden_layers_7_units: 256\n",
      "hidden_layers_8_units: 32\n",
      "hidden_layers_9_units: 256\n",
      "hidden_layers_10_units: 64\n",
      "hidden_layers_11_units: 224\n",
      "tuner/epochs: 20\n",
      "tuner/initial_epoch: 0\n",
      "tuner/bracket: 0\n",
      "tuner/round: 0\n",
      "Score: 48.357398986816406\n",
      "\n",
      "Trial 0024 summary\n",
      "Hyperparameters:\n",
      "hidden_layer_1_units: 128\n",
      "total_added_hidden_layers: 5\n",
      "hidden_layers_2_units: 96\n",
      "hidden_layers_3_units: 224\n",
      "hidden_layers_4_units: 192\n",
      "hidden_layers_5_units: 64\n",
      "hidden_layers_6_units: 160\n",
      "hidden_layers_7_units: 160\n",
      "hidden_layers_8_units: 64\n",
      "hidden_layers_9_units: 128\n",
      "hidden_layers_10_units: 192\n",
      "hidden_layers_11_units: 64\n",
      "tuner/epochs: 20\n",
      "tuner/initial_epoch: 7\n",
      "tuner/bracket: 1\n",
      "tuner/round: 1\n",
      "tuner/trial_id: 0018\n",
      "Score: 48.70688247680664\n",
      "\n",
      "Trial 0017 summary\n",
      "Hyperparameters:\n",
      "hidden_layer_1_units: 96\n",
      "total_added_hidden_layers: 4\n",
      "hidden_layers_2_units: 128\n",
      "hidden_layers_3_units: 64\n",
      "hidden_layers_4_units: 160\n",
      "hidden_layers_5_units: 256\n",
      "hidden_layers_6_units: 256\n",
      "hidden_layers_7_units: 96\n",
      "hidden_layers_8_units: 256\n",
      "hidden_layers_9_units: 128\n",
      "hidden_layers_10_units: 128\n",
      "hidden_layers_11_units: 256\n",
      "tuner/epochs: 20\n",
      "tuner/initial_epoch: 7\n",
      "tuner/bracket: 2\n",
      "tuner/round: 2\n",
      "tuner/trial_id: 0013\n",
      "Score: 49.79848861694336\n",
      "\n",
      "Trial 0016 summary\n",
      "Hyperparameters:\n",
      "hidden_layer_1_units: 128\n",
      "total_added_hidden_layers: 6\n",
      "hidden_layers_2_units: 128\n",
      "hidden_layers_3_units: 128\n",
      "hidden_layers_4_units: 192\n",
      "hidden_layers_5_units: 224\n",
      "hidden_layers_6_units: 32\n",
      "hidden_layers_7_units: 32\n",
      "hidden_layers_8_units: 256\n",
      "hidden_layers_9_units: 96\n",
      "hidden_layers_10_units: 192\n",
      "hidden_layers_11_units: 160\n",
      "tuner/epochs: 20\n",
      "tuner/initial_epoch: 7\n",
      "tuner/bracket: 2\n",
      "tuner/round: 2\n",
      "tuner/trial_id: 0014\n",
      "Score: 50.49030303955078\n",
      "\n",
      "Trial 0025 summary\n",
      "Hyperparameters:\n",
      "hidden_layer_1_units: 128\n",
      "total_added_hidden_layers: 6\n",
      "hidden_layers_2_units: 256\n",
      "hidden_layers_3_units: 224\n",
      "hidden_layers_4_units: 96\n",
      "hidden_layers_5_units: 32\n",
      "hidden_layers_6_units: 160\n",
      "hidden_layers_7_units: 160\n",
      "hidden_layers_8_units: 256\n",
      "hidden_layers_9_units: 64\n",
      "hidden_layers_10_units: 96\n",
      "hidden_layers_11_units: 160\n",
      "tuner/epochs: 20\n",
      "tuner/initial_epoch: 7\n",
      "tuner/bracket: 1\n",
      "tuner/round: 1\n",
      "tuner/trial_id: 0020\n",
      "Score: 50.95698165893555\n",
      "\n",
      "Trial 0029 summary\n",
      "Hyperparameters:\n",
      "hidden_layer_1_units: 32\n",
      "total_added_hidden_layers: 10\n",
      "hidden_layers_2_units: 224\n",
      "hidden_layers_3_units: 256\n",
      "hidden_layers_4_units: 32\n",
      "hidden_layers_5_units: 224\n",
      "hidden_layers_6_units: 32\n",
      "hidden_layers_7_units: 32\n",
      "hidden_layers_8_units: 256\n",
      "hidden_layers_9_units: 128\n",
      "hidden_layers_10_units: 96\n",
      "hidden_layers_11_units: 128\n",
      "tuner/epochs: 20\n",
      "tuner/initial_epoch: 0\n",
      "tuner/bracket: 0\n",
      "tuner/round: 0\n",
      "Score: 51.349456787109375\n",
      "\n",
      "Trial 0014 summary\n",
      "Hyperparameters:\n",
      "hidden_layer_1_units: 128\n",
      "total_added_hidden_layers: 6\n",
      "hidden_layers_2_units: 128\n",
      "hidden_layers_3_units: 128\n",
      "hidden_layers_4_units: 192\n",
      "hidden_layers_5_units: 224\n",
      "hidden_layers_6_units: 32\n",
      "hidden_layers_7_units: 32\n",
      "hidden_layers_8_units: 256\n",
      "hidden_layers_9_units: 96\n",
      "hidden_layers_10_units: 192\n",
      "hidden_layers_11_units: 160\n",
      "tuner/epochs: 7\n",
      "tuner/initial_epoch: 3\n",
      "tuner/bracket: 2\n",
      "tuner/round: 1\n",
      "tuner/trial_id: 0010\n",
      "Score: 54.54301071166992\n",
      "\n",
      "Trial 0013 summary\n",
      "Hyperparameters:\n",
      "hidden_layer_1_units: 96\n",
      "total_added_hidden_layers: 4\n",
      "hidden_layers_2_units: 128\n",
      "hidden_layers_3_units: 64\n",
      "hidden_layers_4_units: 160\n",
      "hidden_layers_5_units: 256\n",
      "hidden_layers_6_units: 256\n",
      "hidden_layers_7_units: 96\n",
      "hidden_layers_8_units: 256\n",
      "hidden_layers_9_units: 128\n",
      "hidden_layers_10_units: 128\n",
      "hidden_layers_11_units: 256\n",
      "tuner/epochs: 7\n",
      "tuner/initial_epoch: 3\n",
      "tuner/bracket: 2\n",
      "tuner/round: 1\n",
      "tuner/trial_id: 0005\n",
      "Score: 54.568824768066406\n",
      "\n",
      "Trial 0012 summary\n",
      "Hyperparameters:\n",
      "hidden_layer_1_units: 192\n",
      "total_added_hidden_layers: 8\n",
      "tuner/epochs: 7\n",
      "tuner/initial_epoch: 3\n",
      "tuner/bracket: 2\n",
      "tuner/round: 1\n",
      "hidden_layers_2_units: 32\n",
      "hidden_layers_3_units: 32\n",
      "hidden_layers_4_units: 32\n",
      "hidden_layers_5_units: 32\n",
      "hidden_layers_6_units: 32\n",
      "hidden_layers_7_units: 32\n",
      "hidden_layers_8_units: 32\n",
      "hidden_layers_9_units: 32\n",
      "tuner/trial_id: 0000\n",
      "hidden_layers_10_units: 192\n",
      "hidden_layers_11_units: 160\n",
      "Score: 54.84486389160156\n",
      "\n",
      "Trial 0018 summary\n",
      "Hyperparameters:\n",
      "hidden_layer_1_units: 128\n",
      "total_added_hidden_layers: 5\n",
      "hidden_layers_2_units: 96\n",
      "hidden_layers_3_units: 224\n",
      "hidden_layers_4_units: 192\n",
      "hidden_layers_5_units: 64\n",
      "hidden_layers_6_units: 160\n",
      "hidden_layers_7_units: 160\n",
      "hidden_layers_8_units: 64\n",
      "hidden_layers_9_units: 128\n",
      "hidden_layers_10_units: 192\n",
      "hidden_layers_11_units: 64\n",
      "tuner/epochs: 7\n",
      "tuner/initial_epoch: 0\n",
      "tuner/bracket: 1\n",
      "tuner/round: 0\n",
      "Score: 56.19326400756836\n"
     ]
    }
   ],
   "source": [
    "# display best models, their hyperparameters and the resulting metrics\n",
    "tuner_nn_s1.results_summary()"
   ],
   "metadata": {
    "collapsed": false,
    "ExecuteTime": {
     "end_time": "2025-01-27T23:04:17.881111Z",
     "start_time": "2025-01-27T23:04:17.822299Z"
    }
   },
   "id": "bd3af91cf1f37f68",
   "execution_count": 207
  },
  {
   "cell_type": "code",
   "outputs": [
    {
     "name": "stdout",
     "output_type": "stream",
     "text": [
      "\n",
      "The hyperparameter search is complete. \n",
      "The optimal number of units in the first hidden layer is 160 \n",
      "and the total number of hidden layers is 7.\n"
     ]
    }
   ],
   "source": [
    "nn_best_hps_site1 = tuner.get_best_hyperparameters(num_trials = 1)[0]\n",
    "\n",
    "print(f\"\"\"\n",
    "The hyperparameter search is complete. \n",
    "The optimal number of units in the first hidden layer is {nn_best_hps_site1.get('hidden_layer_1_units')} \n",
    "and the total number of hidden layers is {nn_best_hps_site1.get('total_added_hidden_layers')+1}.\n",
    "\"\"\")"
   ],
   "metadata": {
    "collapsed": false,
    "ExecuteTime": {
     "end_time": "2025-01-27T23:04:17.909555Z",
     "start_time": "2025-01-27T23:04:17.837534Z"
    }
   },
   "id": "c7661420d9f3e2eb",
   "execution_count": 208
  },
  {
   "cell_type": "code",
   "outputs": [
    {
     "name": "stderr",
     "output_type": "stream",
     "text": [
      "/Users/anthonyge/Desktop/UNI/_MASTER/semester_1/Analytics_&_Applications/GinyuForce/venv/lib/python3.9/site-packages/keras/src/saving/saving_lib.py:757: UserWarning: Skipping variable loading for optimizer 'adam', because it has 2 variables whereas the saved optimizer has 42 variables. \n",
      "  saveable.load_own_variables(weights_store.get(inner_path))\n"
     ]
    }
   ],
   "source": [
    "# get best model\n",
    "nn_model_site1 = tuner_nn_s1.get_best_models(num_models=1)[0]"
   ],
   "metadata": {
    "collapsed": false,
    "ExecuteTime": {
     "end_time": "2025-01-27T23:04:21.217796Z",
     "start_time": "2025-01-27T23:04:17.856659Z"
    }
   },
   "id": "fa9c5f0716f6e2a4",
   "execution_count": 209
  },
  {
   "cell_type": "code",
   "outputs": [
    {
     "data": {
      "text/plain": "\u001B[1mModel: \"connectedCars_NN_site1\"\u001B[0m\n",
      "text/html": "<pre style=\"white-space:pre;overflow-x:auto;line-height:normal;font-family:Menlo,'DejaVu Sans Mono',consolas,'Courier New',monospace\"><span style=\"font-weight: bold\">Model: \"connectedCars_NN_site1\"</span>\n</pre>\n"
     },
     "metadata": {},
     "output_type": "display_data"
    },
    {
     "data": {
      "text/plain": "┏━━━━━━━━━━━━━━━━━━━━━━━━━━━━━━━━━┳━━━━━━━━━━━━━━━━━━━━━━━━┳━━━━━━━━━━━━━━━┓\n┃\u001B[1m \u001B[0m\u001B[1mLayer (type)                   \u001B[0m\u001B[1m \u001B[0m┃\u001B[1m \u001B[0m\u001B[1mOutput Shape          \u001B[0m\u001B[1m \u001B[0m┃\u001B[1m \u001B[0m\u001B[1m      Param #\u001B[0m\u001B[1m \u001B[0m┃\n┡━━━━━━━━━━━━━━━━━━━━━━━━━━━━━━━━━╇━━━━━━━━━━━━━━━━━━━━━━━━╇━━━━━━━━━━━━━━━┩\n│ input_layer (\u001B[38;5;33mInputLayer\u001B[0m)        │ (\u001B[38;5;45mNone\u001B[0m, \u001B[38;5;34m7\u001B[0m)              │             \u001B[38;5;34m0\u001B[0m │\n├─────────────────────────────────┼────────────────────────┼───────────────┤\n│ dense (\u001B[38;5;33mDense\u001B[0m)                   │ (\u001B[38;5;45mNone\u001B[0m, \u001B[38;5;34m256\u001B[0m)            │         \u001B[38;5;34m2,048\u001B[0m │\n├─────────────────────────────────┼────────────────────────┼───────────────┤\n│ dense_1 (\u001B[38;5;33mDense\u001B[0m)                 │ (\u001B[38;5;45mNone\u001B[0m, \u001B[38;5;34m224\u001B[0m)            │        \u001B[38;5;34m57,568\u001B[0m │\n├─────────────────────────────────┼────────────────────────┼───────────────┤\n│ dense_2 (\u001B[38;5;33mDense\u001B[0m)                 │ (\u001B[38;5;45mNone\u001B[0m, \u001B[38;5;34m32\u001B[0m)             │         \u001B[38;5;34m7,200\u001B[0m │\n├─────────────────────────────────┼────────────────────────┼───────────────┤\n│ dense_3 (\u001B[38;5;33mDense\u001B[0m)                 │ (\u001B[38;5;45mNone\u001B[0m, \u001B[38;5;34m256\u001B[0m)            │         \u001B[38;5;34m8,448\u001B[0m │\n├─────────────────────────────────┼────────────────────────┼───────────────┤\n│ dense_4 (\u001B[38;5;33mDense\u001B[0m)                 │ (\u001B[38;5;45mNone\u001B[0m, \u001B[38;5;34m256\u001B[0m)            │        \u001B[38;5;34m65,792\u001B[0m │\n├─────────────────────────────────┼────────────────────────┼───────────────┤\n│ dense_5 (\u001B[38;5;33mDense\u001B[0m)                 │ (\u001B[38;5;45mNone\u001B[0m, \u001B[38;5;34m224\u001B[0m)            │        \u001B[38;5;34m57,568\u001B[0m │\n├─────────────────────────────────┼────────────────────────┼───────────────┤\n│ dense_6 (\u001B[38;5;33mDense\u001B[0m)                 │ (\u001B[38;5;45mNone\u001B[0m, \u001B[38;5;34m256\u001B[0m)            │        \u001B[38;5;34m57,600\u001B[0m │\n├─────────────────────────────────┼────────────────────────┼───────────────┤\n│ dense_7 (\u001B[38;5;33mDense\u001B[0m)                 │ (\u001B[38;5;45mNone\u001B[0m, \u001B[38;5;34m32\u001B[0m)             │         \u001B[38;5;34m8,224\u001B[0m │\n├─────────────────────────────────┼────────────────────────┼───────────────┤\n│ dense_8 (\u001B[38;5;33mDense\u001B[0m)                 │ (\u001B[38;5;45mNone\u001B[0m, \u001B[38;5;34m256\u001B[0m)            │         \u001B[38;5;34m8,448\u001B[0m │\n├─────────────────────────────────┼────────────────────────┼───────────────┤\n│ dense_9 (\u001B[38;5;33mDense\u001B[0m)                 │ (\u001B[38;5;45mNone\u001B[0m, \u001B[38;5;34m1\u001B[0m)              │           \u001B[38;5;34m257\u001B[0m │\n└─────────────────────────────────┴────────────────────────┴───────────────┘\n",
      "text/html": "<pre style=\"white-space:pre;overflow-x:auto;line-height:normal;font-family:Menlo,'DejaVu Sans Mono',consolas,'Courier New',monospace\">┏━━━━━━━━━━━━━━━━━━━━━━━━━━━━━━━━━┳━━━━━━━━━━━━━━━━━━━━━━━━┳━━━━━━━━━━━━━━━┓\n┃<span style=\"font-weight: bold\"> Layer (type)                    </span>┃<span style=\"font-weight: bold\"> Output Shape           </span>┃<span style=\"font-weight: bold\">       Param # </span>┃\n┡━━━━━━━━━━━━━━━━━━━━━━━━━━━━━━━━━╇━━━━━━━━━━━━━━━━━━━━━━━━╇━━━━━━━━━━━━━━━┩\n│ input_layer (<span style=\"color: #0087ff; text-decoration-color: #0087ff\">InputLayer</span>)        │ (<span style=\"color: #00d7ff; text-decoration-color: #00d7ff\">None</span>, <span style=\"color: #00af00; text-decoration-color: #00af00\">7</span>)              │             <span style=\"color: #00af00; text-decoration-color: #00af00\">0</span> │\n├─────────────────────────────────┼────────────────────────┼───────────────┤\n│ dense (<span style=\"color: #0087ff; text-decoration-color: #0087ff\">Dense</span>)                   │ (<span style=\"color: #00d7ff; text-decoration-color: #00d7ff\">None</span>, <span style=\"color: #00af00; text-decoration-color: #00af00\">256</span>)            │         <span style=\"color: #00af00; text-decoration-color: #00af00\">2,048</span> │\n├─────────────────────────────────┼────────────────────────┼───────────────┤\n│ dense_1 (<span style=\"color: #0087ff; text-decoration-color: #0087ff\">Dense</span>)                 │ (<span style=\"color: #00d7ff; text-decoration-color: #00d7ff\">None</span>, <span style=\"color: #00af00; text-decoration-color: #00af00\">224</span>)            │        <span style=\"color: #00af00; text-decoration-color: #00af00\">57,568</span> │\n├─────────────────────────────────┼────────────────────────┼───────────────┤\n│ dense_2 (<span style=\"color: #0087ff; text-decoration-color: #0087ff\">Dense</span>)                 │ (<span style=\"color: #00d7ff; text-decoration-color: #00d7ff\">None</span>, <span style=\"color: #00af00; text-decoration-color: #00af00\">32</span>)             │         <span style=\"color: #00af00; text-decoration-color: #00af00\">7,200</span> │\n├─────────────────────────────────┼────────────────────────┼───────────────┤\n│ dense_3 (<span style=\"color: #0087ff; text-decoration-color: #0087ff\">Dense</span>)                 │ (<span style=\"color: #00d7ff; text-decoration-color: #00d7ff\">None</span>, <span style=\"color: #00af00; text-decoration-color: #00af00\">256</span>)            │         <span style=\"color: #00af00; text-decoration-color: #00af00\">8,448</span> │\n├─────────────────────────────────┼────────────────────────┼───────────────┤\n│ dense_4 (<span style=\"color: #0087ff; text-decoration-color: #0087ff\">Dense</span>)                 │ (<span style=\"color: #00d7ff; text-decoration-color: #00d7ff\">None</span>, <span style=\"color: #00af00; text-decoration-color: #00af00\">256</span>)            │        <span style=\"color: #00af00; text-decoration-color: #00af00\">65,792</span> │\n├─────────────────────────────────┼────────────────────────┼───────────────┤\n│ dense_5 (<span style=\"color: #0087ff; text-decoration-color: #0087ff\">Dense</span>)                 │ (<span style=\"color: #00d7ff; text-decoration-color: #00d7ff\">None</span>, <span style=\"color: #00af00; text-decoration-color: #00af00\">224</span>)            │        <span style=\"color: #00af00; text-decoration-color: #00af00\">57,568</span> │\n├─────────────────────────────────┼────────────────────────┼───────────────┤\n│ dense_6 (<span style=\"color: #0087ff; text-decoration-color: #0087ff\">Dense</span>)                 │ (<span style=\"color: #00d7ff; text-decoration-color: #00d7ff\">None</span>, <span style=\"color: #00af00; text-decoration-color: #00af00\">256</span>)            │        <span style=\"color: #00af00; text-decoration-color: #00af00\">57,600</span> │\n├─────────────────────────────────┼────────────────────────┼───────────────┤\n│ dense_7 (<span style=\"color: #0087ff; text-decoration-color: #0087ff\">Dense</span>)                 │ (<span style=\"color: #00d7ff; text-decoration-color: #00d7ff\">None</span>, <span style=\"color: #00af00; text-decoration-color: #00af00\">32</span>)             │         <span style=\"color: #00af00; text-decoration-color: #00af00\">8,224</span> │\n├─────────────────────────────────┼────────────────────────┼───────────────┤\n│ dense_8 (<span style=\"color: #0087ff; text-decoration-color: #0087ff\">Dense</span>)                 │ (<span style=\"color: #00d7ff; text-decoration-color: #00d7ff\">None</span>, <span style=\"color: #00af00; text-decoration-color: #00af00\">256</span>)            │         <span style=\"color: #00af00; text-decoration-color: #00af00\">8,448</span> │\n├─────────────────────────────────┼────────────────────────┼───────────────┤\n│ dense_9 (<span style=\"color: #0087ff; text-decoration-color: #0087ff\">Dense</span>)                 │ (<span style=\"color: #00d7ff; text-decoration-color: #00d7ff\">None</span>, <span style=\"color: #00af00; text-decoration-color: #00af00\">1</span>)              │           <span style=\"color: #00af00; text-decoration-color: #00af00\">257</span> │\n└─────────────────────────────────┴────────────────────────┴───────────────┘\n</pre>\n"
     },
     "metadata": {},
     "output_type": "display_data"
    },
    {
     "data": {
      "text/plain": "\u001B[1m Total params: \u001B[0m\u001B[38;5;34m273,153\u001B[0m (1.04 MB)\n",
      "text/html": "<pre style=\"white-space:pre;overflow-x:auto;line-height:normal;font-family:Menlo,'DejaVu Sans Mono',consolas,'Courier New',monospace\"><span style=\"font-weight: bold\"> Total params: </span><span style=\"color: #00af00; text-decoration-color: #00af00\">273,153</span> (1.04 MB)\n</pre>\n"
     },
     "metadata": {},
     "output_type": "display_data"
    },
    {
     "data": {
      "text/plain": "\u001B[1m Trainable params: \u001B[0m\u001B[38;5;34m273,153\u001B[0m (1.04 MB)\n",
      "text/html": "<pre style=\"white-space:pre;overflow-x:auto;line-height:normal;font-family:Menlo,'DejaVu Sans Mono',consolas,'Courier New',monospace\"><span style=\"font-weight: bold\"> Trainable params: </span><span style=\"color: #00af00; text-decoration-color: #00af00\">273,153</span> (1.04 MB)\n</pre>\n"
     },
     "metadata": {},
     "output_type": "display_data"
    },
    {
     "data": {
      "text/plain": "\u001B[1m Non-trainable params: \u001B[0m\u001B[38;5;34m0\u001B[0m (0.00 B)\n",
      "text/html": "<pre style=\"white-space:pre;overflow-x:auto;line-height:normal;font-family:Menlo,'DejaVu Sans Mono',consolas,'Courier New',monospace\"><span style=\"font-weight: bold\"> Non-trainable params: </span><span style=\"color: #00af00; text-decoration-color: #00af00\">0</span> (0.00 B)\n</pre>\n"
     },
     "metadata": {},
     "output_type": "display_data"
    }
   ],
   "source": [
    "nn_model_site1.summary()"
   ],
   "metadata": {
    "collapsed": false,
    "ExecuteTime": {
     "end_time": "2025-01-27T23:04:21.270700Z",
     "start_time": "2025-01-27T23:04:21.226883Z"
    }
   },
   "id": "f04b4ed643e355c9",
   "execution_count": 210
  },
  {
   "cell_type": "code",
   "outputs": [],
   "source": [
    "callback = keras.callbacks.EarlyStopping(\n",
    "    monitor='val_loss',\n",
    "    mode='min',\n",
    "    patience=100,\n",
    "    restore_best_weights=True\n",
    ")"
   ],
   "metadata": {
    "collapsed": false,
    "ExecuteTime": {
     "end_time": "2025-01-27T23:04:21.274338Z",
     "start_time": "2025-01-27T23:04:21.255688Z"
    }
   },
   "id": "a0f243c771566978",
   "execution_count": 211
  },
  {
   "cell_type": "code",
   "outputs": [
    {
     "name": "stdout",
     "output_type": "stream",
     "text": [
      "Epoch 1/1000\n",
      "\u001B[1m318/318\u001B[0m \u001B[32m━━━━━━━━━━━━━━━━━━━━\u001B[0m\u001B[37m\u001B[0m \u001B[1m5s\u001B[0m 6ms/step - loss: 50.6217 - val_loss: 50.8152\n",
      "Epoch 2/1000\n",
      "\u001B[1m318/318\u001B[0m \u001B[32m━━━━━━━━━━━━━━━━━━━━\u001B[0m\u001B[37m\u001B[0m \u001B[1m2s\u001B[0m 6ms/step - loss: 43.8557 - val_loss: 59.3137\n",
      "Epoch 3/1000\n",
      "\u001B[1m318/318\u001B[0m \u001B[32m━━━━━━━━━━━━━━━━━━━━\u001B[0m\u001B[37m\u001B[0m \u001B[1m2s\u001B[0m 5ms/step - loss: 44.4910 - val_loss: 53.7349\n",
      "Epoch 4/1000\n",
      "\u001B[1m318/318\u001B[0m \u001B[32m━━━━━━━━━━━━━━━━━━━━\u001B[0m\u001B[37m\u001B[0m \u001B[1m2s\u001B[0m 5ms/step - loss: 48.9085 - val_loss: 53.2770\n",
      "Epoch 5/1000\n",
      "\u001B[1m318/318\u001B[0m \u001B[32m━━━━━━━━━━━━━━━━━━━━\u001B[0m\u001B[37m\u001B[0m \u001B[1m2s\u001B[0m 6ms/step - loss: 40.4284 - val_loss: 50.4442\n",
      "Epoch 6/1000\n",
      "\u001B[1m318/318\u001B[0m \u001B[32m━━━━━━━━━━━━━━━━━━━━\u001B[0m\u001B[37m\u001B[0m \u001B[1m2s\u001B[0m 5ms/step - loss: 42.8156 - val_loss: 54.6420\n",
      "Epoch 7/1000\n",
      "\u001B[1m318/318\u001B[0m \u001B[32m━━━━━━━━━━━━━━━━━━━━\u001B[0m\u001B[37m\u001B[0m \u001B[1m2s\u001B[0m 5ms/step - loss: 48.5419 - val_loss: 52.1983\n",
      "Epoch 8/1000\n",
      "\u001B[1m318/318\u001B[0m \u001B[32m━━━━━━━━━━━━━━━━━━━━\u001B[0m\u001B[37m\u001B[0m \u001B[1m2s\u001B[0m 5ms/step - loss: 46.0318 - val_loss: 54.9998\n",
      "Epoch 9/1000\n",
      "\u001B[1m318/318\u001B[0m \u001B[32m━━━━━━━━━━━━━━━━━━━━\u001B[0m\u001B[37m\u001B[0m \u001B[1m2s\u001B[0m 5ms/step - loss: 44.7567 - val_loss: 50.0042\n",
      "Epoch 10/1000\n",
      "\u001B[1m318/318\u001B[0m \u001B[32m━━━━━━━━━━━━━━━━━━━━\u001B[0m\u001B[37m\u001B[0m \u001B[1m2s\u001B[0m 6ms/step - loss: 41.8231 - val_loss: 57.7826\n",
      "Epoch 11/1000\n",
      "\u001B[1m318/318\u001B[0m \u001B[32m━━━━━━━━━━━━━━━━━━━━\u001B[0m\u001B[37m\u001B[0m \u001B[1m2s\u001B[0m 5ms/step - loss: 44.0902 - val_loss: 51.2654\n",
      "Epoch 12/1000\n",
      "\u001B[1m318/318\u001B[0m \u001B[32m━━━━━━━━━━━━━━━━━━━━\u001B[0m\u001B[37m\u001B[0m \u001B[1m2s\u001B[0m 6ms/step - loss: 42.5930 - val_loss: 57.4166\n",
      "Epoch 13/1000\n",
      "\u001B[1m318/318\u001B[0m \u001B[32m━━━━━━━━━━━━━━━━━━━━\u001B[0m\u001B[37m\u001B[0m \u001B[1m2s\u001B[0m 5ms/step - loss: 45.7477 - val_loss: 54.0813\n",
      "Epoch 14/1000\n",
      "\u001B[1m318/318\u001B[0m \u001B[32m━━━━━━━━━━━━━━━━━━━━\u001B[0m\u001B[37m\u001B[0m \u001B[1m2s\u001B[0m 5ms/step - loss: 38.4953 - val_loss: 50.1730\n",
      "Epoch 15/1000\n",
      "\u001B[1m318/318\u001B[0m \u001B[32m━━━━━━━━━━━━━━━━━━━━\u001B[0m\u001B[37m\u001B[0m \u001B[1m2s\u001B[0m 5ms/step - loss: 39.6045 - val_loss: 56.3249\n",
      "Epoch 16/1000\n",
      "\u001B[1m318/318\u001B[0m \u001B[32m━━━━━━━━━━━━━━━━━━━━\u001B[0m\u001B[37m\u001B[0m \u001B[1m2s\u001B[0m 5ms/step - loss: 42.4611 - val_loss: 49.7980\n",
      "Epoch 17/1000\n",
      "\u001B[1m318/318\u001B[0m \u001B[32m━━━━━━━━━━━━━━━━━━━━\u001B[0m\u001B[37m\u001B[0m \u001B[1m2s\u001B[0m 5ms/step - loss: 41.0312 - val_loss: 51.6485\n",
      "Epoch 18/1000\n",
      "\u001B[1m318/318\u001B[0m \u001B[32m━━━━━━━━━━━━━━━━━━━━\u001B[0m\u001B[37m\u001B[0m \u001B[1m2s\u001B[0m 6ms/step - loss: 38.9774 - val_loss: 48.4231\n",
      "Epoch 19/1000\n",
      "\u001B[1m318/318\u001B[0m \u001B[32m━━━━━━━━━━━━━━━━━━━━\u001B[0m\u001B[37m\u001B[0m \u001B[1m2s\u001B[0m 6ms/step - loss: 40.3654 - val_loss: 48.2301\n",
      "Epoch 20/1000\n",
      "\u001B[1m318/318\u001B[0m \u001B[32m━━━━━━━━━━━━━━━━━━━━\u001B[0m\u001B[37m\u001B[0m \u001B[1m2s\u001B[0m 6ms/step - loss: 36.9226 - val_loss: 53.7743\n",
      "Epoch 21/1000\n",
      "\u001B[1m318/318\u001B[0m \u001B[32m━━━━━━━━━━━━━━━━━━━━\u001B[0m\u001B[37m\u001B[0m \u001B[1m2s\u001B[0m 6ms/step - loss: 40.2347 - val_loss: 46.6938\n",
      "Epoch 22/1000\n",
      "\u001B[1m318/318\u001B[0m \u001B[32m━━━━━━━━━━━━━━━━━━━━\u001B[0m\u001B[37m\u001B[0m \u001B[1m2s\u001B[0m 6ms/step - loss: 37.2838 - val_loss: 49.9728\n",
      "Epoch 23/1000\n",
      "\u001B[1m318/318\u001B[0m \u001B[32m━━━━━━━━━━━━━━━━━━━━\u001B[0m\u001B[37m\u001B[0m \u001B[1m2s\u001B[0m 6ms/step - loss: 36.3657 - val_loss: 52.2279\n",
      "Epoch 24/1000\n",
      "\u001B[1m318/318\u001B[0m \u001B[32m━━━━━━━━━━━━━━━━━━━━\u001B[0m\u001B[37m\u001B[0m \u001B[1m2s\u001B[0m 6ms/step - loss: 37.5306 - val_loss: 62.5165\n",
      "Epoch 25/1000\n",
      "\u001B[1m318/318\u001B[0m \u001B[32m━━━━━━━━━━━━━━━━━━━━\u001B[0m\u001B[37m\u001B[0m \u001B[1m2s\u001B[0m 5ms/step - loss: 41.0274 - val_loss: 51.7773\n",
      "Epoch 26/1000\n",
      "\u001B[1m318/318\u001B[0m \u001B[32m━━━━━━━━━━━━━━━━━━━━\u001B[0m\u001B[37m\u001B[0m \u001B[1m2s\u001B[0m 6ms/step - loss: 35.7257 - val_loss: 49.9363\n",
      "Epoch 27/1000\n",
      "\u001B[1m318/318\u001B[0m \u001B[32m━━━━━━━━━━━━━━━━━━━━\u001B[0m\u001B[37m\u001B[0m \u001B[1m2s\u001B[0m 5ms/step - loss: 35.4809 - val_loss: 48.9218\n",
      "Epoch 28/1000\n",
      "\u001B[1m318/318\u001B[0m \u001B[32m━━━━━━━━━━━━━━━━━━━━\u001B[0m\u001B[37m\u001B[0m \u001B[1m2s\u001B[0m 5ms/step - loss: 34.9265 - val_loss: 50.3553\n",
      "Epoch 29/1000\n",
      "\u001B[1m318/318\u001B[0m \u001B[32m━━━━━━━━━━━━━━━━━━━━\u001B[0m\u001B[37m\u001B[0m \u001B[1m2s\u001B[0m 6ms/step - loss: 36.2761 - val_loss: 53.4271\n",
      "Epoch 30/1000\n",
      "\u001B[1m318/318\u001B[0m \u001B[32m━━━━━━━━━━━━━━━━━━━━\u001B[0m\u001B[37m\u001B[0m \u001B[1m2s\u001B[0m 6ms/step - loss: 35.3788 - val_loss: 54.5494\n",
      "Epoch 31/1000\n",
      "\u001B[1m318/318\u001B[0m \u001B[32m━━━━━━━━━━━━━━━━━━━━\u001B[0m\u001B[37m\u001B[0m \u001B[1m2s\u001B[0m 6ms/step - loss: 37.7047 - val_loss: 54.8050\n",
      "Epoch 32/1000\n",
      "\u001B[1m318/318\u001B[0m \u001B[32m━━━━━━━━━━━━━━━━━━━━\u001B[0m\u001B[37m\u001B[0m \u001B[1m2s\u001B[0m 6ms/step - loss: 35.6125 - val_loss: 52.0393\n",
      "Epoch 33/1000\n",
      "\u001B[1m318/318\u001B[0m \u001B[32m━━━━━━━━━━━━━━━━━━━━\u001B[0m\u001B[37m\u001B[0m \u001B[1m2s\u001B[0m 5ms/step - loss: 36.8916 - val_loss: 47.8026\n",
      "Epoch 34/1000\n",
      "\u001B[1m318/318\u001B[0m \u001B[32m━━━━━━━━━━━━━━━━━━━━\u001B[0m\u001B[37m\u001B[0m \u001B[1m2s\u001B[0m 6ms/step - loss: 33.8363 - val_loss: 49.2636\n",
      "Epoch 35/1000\n",
      "\u001B[1m318/318\u001B[0m \u001B[32m━━━━━━━━━━━━━━━━━━━━\u001B[0m\u001B[37m\u001B[0m \u001B[1m2s\u001B[0m 5ms/step - loss: 33.1342 - val_loss: 52.0535\n",
      "Epoch 36/1000\n",
      "\u001B[1m318/318\u001B[0m \u001B[32m━━━━━━━━━━━━━━━━━━━━\u001B[0m\u001B[37m\u001B[0m \u001B[1m2s\u001B[0m 5ms/step - loss: 33.2853 - val_loss: 49.0623\n",
      "Epoch 37/1000\n",
      "\u001B[1m318/318\u001B[0m \u001B[32m━━━━━━━━━━━━━━━━━━━━\u001B[0m\u001B[37m\u001B[0m \u001B[1m2s\u001B[0m 5ms/step - loss: 31.7217 - val_loss: 48.6706\n",
      "Epoch 38/1000\n",
      "\u001B[1m318/318\u001B[0m \u001B[32m━━━━━━━━━━━━━━━━━━━━\u001B[0m\u001B[37m\u001B[0m \u001B[1m2s\u001B[0m 5ms/step - loss: 32.5589 - val_loss: 51.4526\n",
      "Epoch 39/1000\n",
      "\u001B[1m318/318\u001B[0m \u001B[32m━━━━━━━━━━━━━━━━━━━━\u001B[0m\u001B[37m\u001B[0m \u001B[1m2s\u001B[0m 6ms/step - loss: 32.8807 - val_loss: 50.5133\n",
      "Epoch 40/1000\n",
      "\u001B[1m318/318\u001B[0m \u001B[32m━━━━━━━━━━━━━━━━━━━━\u001B[0m\u001B[37m\u001B[0m \u001B[1m2s\u001B[0m 5ms/step - loss: 32.6304 - val_loss: 56.8277\n",
      "Epoch 41/1000\n",
      "\u001B[1m318/318\u001B[0m \u001B[32m━━━━━━━━━━━━━━━━━━━━\u001B[0m\u001B[37m\u001B[0m \u001B[1m2s\u001B[0m 6ms/step - loss: 31.0462 - val_loss: 52.4868\n",
      "Epoch 42/1000\n",
      "\u001B[1m318/318\u001B[0m \u001B[32m━━━━━━━━━━━━━━━━━━━━\u001B[0m\u001B[37m\u001B[0m \u001B[1m2s\u001B[0m 5ms/step - loss: 34.8751 - val_loss: 50.5602\n",
      "Epoch 43/1000\n",
      "\u001B[1m318/318\u001B[0m \u001B[32m━━━━━━━━━━━━━━━━━━━━\u001B[0m\u001B[37m\u001B[0m \u001B[1m2s\u001B[0m 5ms/step - loss: 29.2507 - val_loss: 53.0801\n",
      "Epoch 44/1000\n",
      "\u001B[1m318/318\u001B[0m \u001B[32m━━━━━━━━━━━━━━━━━━━━\u001B[0m\u001B[37m\u001B[0m \u001B[1m2s\u001B[0m 5ms/step - loss: 27.1627 - val_loss: 55.7480\n",
      "Epoch 45/1000\n",
      "\u001B[1m318/318\u001B[0m \u001B[32m━━━━━━━━━━━━━━━━━━━━\u001B[0m\u001B[37m\u001B[0m \u001B[1m2s\u001B[0m 5ms/step - loss: 34.3460 - val_loss: 52.1231\n",
      "Epoch 46/1000\n",
      "\u001B[1m318/318\u001B[0m \u001B[32m━━━━━━━━━━━━━━━━━━━━\u001B[0m\u001B[37m\u001B[0m \u001B[1m2s\u001B[0m 6ms/step - loss: 33.1629 - val_loss: 51.7019\n",
      "Epoch 47/1000\n",
      "\u001B[1m318/318\u001B[0m \u001B[32m━━━━━━━━━━━━━━━━━━━━\u001B[0m\u001B[37m\u001B[0m \u001B[1m2s\u001B[0m 5ms/step - loss: 30.5443 - val_loss: 51.5301\n",
      "Epoch 48/1000\n",
      "\u001B[1m318/318\u001B[0m \u001B[32m━━━━━━━━━━━━━━━━━━━━\u001B[0m\u001B[37m\u001B[0m \u001B[1m2s\u001B[0m 5ms/step - loss: 30.1532 - val_loss: 51.7395\n",
      "Epoch 49/1000\n",
      "\u001B[1m318/318\u001B[0m \u001B[32m━━━━━━━━━━━━━━━━━━━━\u001B[0m\u001B[37m\u001B[0m \u001B[1m2s\u001B[0m 6ms/step - loss: 32.9941 - val_loss: 50.0548\n",
      "Epoch 50/1000\n",
      "\u001B[1m318/318\u001B[0m \u001B[32m━━━━━━━━━━━━━━━━━━━━\u001B[0m\u001B[37m\u001B[0m \u001B[1m2s\u001B[0m 6ms/step - loss: 31.4491 - val_loss: 53.1154\n",
      "Epoch 51/1000\n",
      "\u001B[1m318/318\u001B[0m \u001B[32m━━━━━━━━━━━━━━━━━━━━\u001B[0m\u001B[37m\u001B[0m \u001B[1m2s\u001B[0m 6ms/step - loss: 30.8993 - val_loss: 51.8024\n",
      "Epoch 52/1000\n",
      "\u001B[1m318/318\u001B[0m \u001B[32m━━━━━━━━━━━━━━━━━━━━\u001B[0m\u001B[37m\u001B[0m \u001B[1m2s\u001B[0m 5ms/step - loss: 28.4584 - val_loss: 48.2756\n",
      "Epoch 53/1000\n",
      "\u001B[1m318/318\u001B[0m \u001B[32m━━━━━━━━━━━━━━━━━━━━\u001B[0m\u001B[37m\u001B[0m \u001B[1m2s\u001B[0m 6ms/step - loss: 29.5847 - val_loss: 52.2985\n",
      "Epoch 54/1000\n",
      "\u001B[1m318/318\u001B[0m \u001B[32m━━━━━━━━━━━━━━━━━━━━\u001B[0m\u001B[37m\u001B[0m \u001B[1m2s\u001B[0m 5ms/step - loss: 30.9529 - val_loss: 52.1647\n",
      "Epoch 55/1000\n",
      "\u001B[1m318/318\u001B[0m \u001B[32m━━━━━━━━━━━━━━━━━━━━\u001B[0m\u001B[37m\u001B[0m \u001B[1m2s\u001B[0m 6ms/step - loss: 28.1650 - val_loss: 50.9522\n",
      "Epoch 56/1000\n",
      "\u001B[1m318/318\u001B[0m \u001B[32m━━━━━━━━━━━━━━━━━━━━\u001B[0m\u001B[37m\u001B[0m \u001B[1m2s\u001B[0m 6ms/step - loss: 27.0845 - val_loss: 50.1962\n",
      "Epoch 57/1000\n",
      "\u001B[1m318/318\u001B[0m \u001B[32m━━━━━━━━━━━━━━━━━━━━\u001B[0m\u001B[37m\u001B[0m \u001B[1m2s\u001B[0m 5ms/step - loss: 30.4092 - val_loss: 50.7231\n",
      "Epoch 58/1000\n",
      "\u001B[1m318/318\u001B[0m \u001B[32m━━━━━━━━━━━━━━━━━━━━\u001B[0m\u001B[37m\u001B[0m \u001B[1m2s\u001B[0m 6ms/step - loss: 28.8372 - val_loss: 50.3329\n",
      "Epoch 59/1000\n",
      "\u001B[1m318/318\u001B[0m \u001B[32m━━━━━━━━━━━━━━━━━━━━\u001B[0m\u001B[37m\u001B[0m \u001B[1m2s\u001B[0m 5ms/step - loss: 28.4877 - val_loss: 48.4926\n",
      "Epoch 60/1000\n",
      "\u001B[1m318/318\u001B[0m \u001B[32m━━━━━━━━━━━━━━━━━━━━\u001B[0m\u001B[37m\u001B[0m \u001B[1m2s\u001B[0m 6ms/step - loss: 27.3138 - val_loss: 52.1778\n",
      "Epoch 61/1000\n",
      "\u001B[1m318/318\u001B[0m \u001B[32m━━━━━━━━━━━━━━━━━━━━\u001B[0m\u001B[37m\u001B[0m \u001B[1m2s\u001B[0m 6ms/step - loss: 29.0658 - val_loss: 51.3470\n",
      "Epoch 62/1000\n",
      "\u001B[1m318/318\u001B[0m \u001B[32m━━━━━━━━━━━━━━━━━━━━\u001B[0m\u001B[37m\u001B[0m \u001B[1m2s\u001B[0m 6ms/step - loss: 29.5183 - val_loss: 51.3312\n",
      "Epoch 63/1000\n",
      "\u001B[1m318/318\u001B[0m \u001B[32m━━━━━━━━━━━━━━━━━━━━\u001B[0m\u001B[37m\u001B[0m \u001B[1m2s\u001B[0m 6ms/step - loss: 26.5519 - val_loss: 51.7060\n",
      "Epoch 64/1000\n",
      "\u001B[1m318/318\u001B[0m \u001B[32m━━━━━━━━━━━━━━━━━━━━\u001B[0m\u001B[37m\u001B[0m \u001B[1m2s\u001B[0m 5ms/step - loss: 25.3509 - val_loss: 51.7120\n",
      "Epoch 65/1000\n",
      "\u001B[1m318/318\u001B[0m \u001B[32m━━━━━━━━━━━━━━━━━━━━\u001B[0m\u001B[37m\u001B[0m \u001B[1m2s\u001B[0m 6ms/step - loss: 28.9367 - val_loss: 52.0936\n",
      "Epoch 66/1000\n",
      "\u001B[1m318/318\u001B[0m \u001B[32m━━━━━━━━━━━━━━━━━━━━\u001B[0m\u001B[37m\u001B[0m \u001B[1m2s\u001B[0m 6ms/step - loss: 25.9874 - val_loss: 51.7478\n",
      "Epoch 67/1000\n",
      "\u001B[1m318/318\u001B[0m \u001B[32m━━━━━━━━━━━━━━━━━━━━\u001B[0m\u001B[37m\u001B[0m \u001B[1m2s\u001B[0m 6ms/step - loss: 29.3568 - val_loss: 52.5900\n",
      "Epoch 68/1000\n",
      "\u001B[1m318/318\u001B[0m \u001B[32m━━━━━━━━━━━━━━━━━━━━\u001B[0m\u001B[37m\u001B[0m \u001B[1m2s\u001B[0m 7ms/step - loss: 26.4023 - val_loss: 60.4901\n",
      "Epoch 69/1000\n",
      "\u001B[1m318/318\u001B[0m \u001B[32m━━━━━━━━━━━━━━━━━━━━\u001B[0m\u001B[37m\u001B[0m \u001B[1m2s\u001B[0m 6ms/step - loss: 26.3670 - val_loss: 52.0020\n",
      "Epoch 70/1000\n",
      "\u001B[1m318/318\u001B[0m \u001B[32m━━━━━━━━━━━━━━━━━━━━\u001B[0m\u001B[37m\u001B[0m \u001B[1m2s\u001B[0m 6ms/step - loss: 26.4289 - val_loss: 52.0314\n",
      "Epoch 71/1000\n",
      "\u001B[1m318/318\u001B[0m \u001B[32m━━━━━━━━━━━━━━━━━━━━\u001B[0m\u001B[37m\u001B[0m \u001B[1m2s\u001B[0m 8ms/step - loss: 28.5950 - val_loss: 55.4497\n",
      "Epoch 72/1000\n",
      "\u001B[1m318/318\u001B[0m \u001B[32m━━━━━━━━━━━━━━━━━━━━\u001B[0m\u001B[37m\u001B[0m \u001B[1m3s\u001B[0m 8ms/step - loss: 27.7933 - val_loss: 56.1919\n",
      "Epoch 73/1000\n",
      "\u001B[1m318/318\u001B[0m \u001B[32m━━━━━━━━━━━━━━━━━━━━\u001B[0m\u001B[37m\u001B[0m \u001B[1m2s\u001B[0m 7ms/step - loss: 25.3938 - val_loss: 55.3455\n",
      "Epoch 74/1000\n",
      "\u001B[1m318/318\u001B[0m \u001B[32m━━━━━━━━━━━━━━━━━━━━\u001B[0m\u001B[37m\u001B[0m \u001B[1m3s\u001B[0m 8ms/step - loss: 29.0273 - val_loss: 55.9990\n",
      "Epoch 75/1000\n",
      "\u001B[1m318/318\u001B[0m \u001B[32m━━━━━━━━━━━━━━━━━━━━\u001B[0m\u001B[37m\u001B[0m \u001B[1m3s\u001B[0m 8ms/step - loss: 29.4050 - val_loss: 53.6723\n",
      "Epoch 76/1000\n",
      "\u001B[1m318/318\u001B[0m \u001B[32m━━━━━━━━━━━━━━━━━━━━\u001B[0m\u001B[37m\u001B[0m \u001B[1m2s\u001B[0m 8ms/step - loss: 23.8127 - val_loss: 56.2691\n",
      "Epoch 77/1000\n",
      "\u001B[1m318/318\u001B[0m \u001B[32m━━━━━━━━━━━━━━━━━━━━\u001B[0m\u001B[37m\u001B[0m \u001B[1m3s\u001B[0m 8ms/step - loss: 25.8216 - val_loss: 56.0116\n",
      "Epoch 78/1000\n",
      "\u001B[1m318/318\u001B[0m \u001B[32m━━━━━━━━━━━━━━━━━━━━\u001B[0m\u001B[37m\u001B[0m \u001B[1m3s\u001B[0m 8ms/step - loss: 21.1315 - val_loss: 55.4736\n",
      "Epoch 79/1000\n",
      "\u001B[1m318/318\u001B[0m \u001B[32m━━━━━━━━━━━━━━━━━━━━\u001B[0m\u001B[37m\u001B[0m \u001B[1m3s\u001B[0m 8ms/step - loss: 24.2543 - val_loss: 51.8350\n",
      "Epoch 80/1000\n",
      "\u001B[1m318/318\u001B[0m \u001B[32m━━━━━━━━━━━━━━━━━━━━\u001B[0m\u001B[37m\u001B[0m \u001B[1m2s\u001B[0m 7ms/step - loss: 22.7648 - val_loss: 52.0379\n",
      "Epoch 81/1000\n",
      "\u001B[1m318/318\u001B[0m \u001B[32m━━━━━━━━━━━━━━━━━━━━\u001B[0m\u001B[37m\u001B[0m \u001B[1m2s\u001B[0m 7ms/step - loss: 27.4239 - val_loss: 54.4101\n",
      "Epoch 82/1000\n",
      "\u001B[1m318/318\u001B[0m \u001B[32m━━━━━━━━━━━━━━━━━━━━\u001B[0m\u001B[37m\u001B[0m \u001B[1m3s\u001B[0m 8ms/step - loss: 20.6508 - val_loss: 54.7104\n",
      "Epoch 83/1000\n",
      "\u001B[1m318/318\u001B[0m \u001B[32m━━━━━━━━━━━━━━━━━━━━\u001B[0m\u001B[37m\u001B[0m \u001B[1m2s\u001B[0m 7ms/step - loss: 23.8373 - val_loss: 54.2745\n",
      "Epoch 84/1000\n",
      "\u001B[1m318/318\u001B[0m \u001B[32m━━━━━━━━━━━━━━━━━━━━\u001B[0m\u001B[37m\u001B[0m \u001B[1m3s\u001B[0m 8ms/step - loss: 23.2288 - val_loss: 51.6980\n",
      "Epoch 85/1000\n",
      "\u001B[1m318/318\u001B[0m \u001B[32m━━━━━━━━━━━━━━━━━━━━\u001B[0m\u001B[37m\u001B[0m \u001B[1m2s\u001B[0m 8ms/step - loss: 23.2698 - val_loss: 55.1925\n",
      "Epoch 86/1000\n",
      "\u001B[1m318/318\u001B[0m \u001B[32m━━━━━━━━━━━━━━━━━━━━\u001B[0m\u001B[37m\u001B[0m \u001B[1m3s\u001B[0m 8ms/step - loss: 24.2842 - val_loss: 54.4817\n",
      "Epoch 87/1000\n",
      "\u001B[1m318/318\u001B[0m \u001B[32m━━━━━━━━━━━━━━━━━━━━\u001B[0m\u001B[37m\u001B[0m \u001B[1m2s\u001B[0m 7ms/step - loss: 23.3853 - val_loss: 50.7928\n",
      "Epoch 88/1000\n",
      "\u001B[1m318/318\u001B[0m \u001B[32m━━━━━━━━━━━━━━━━━━━━\u001B[0m\u001B[37m\u001B[0m \u001B[1m3s\u001B[0m 8ms/step - loss: 23.2196 - val_loss: 53.0515\n",
      "Epoch 89/1000\n",
      "\u001B[1m318/318\u001B[0m \u001B[32m━━━━━━━━━━━━━━━━━━━━\u001B[0m\u001B[37m\u001B[0m \u001B[1m2s\u001B[0m 6ms/step - loss: 23.9643 - val_loss: 55.2372\n",
      "Epoch 90/1000\n",
      "\u001B[1m318/318\u001B[0m \u001B[32m━━━━━━━━━━━━━━━━━━━━\u001B[0m\u001B[37m\u001B[0m \u001B[1m2s\u001B[0m 6ms/step - loss: 26.9371 - val_loss: 57.8242\n",
      "Epoch 91/1000\n",
      "\u001B[1m318/318\u001B[0m \u001B[32m━━━━━━━━━━━━━━━━━━━━\u001B[0m\u001B[37m\u001B[0m \u001B[1m3s\u001B[0m 8ms/step - loss: 26.4794 - val_loss: 55.4252\n",
      "Epoch 92/1000\n",
      "\u001B[1m318/318\u001B[0m \u001B[32m━━━━━━━━━━━━━━━━━━━━\u001B[0m\u001B[37m\u001B[0m \u001B[1m2s\u001B[0m 7ms/step - loss: 22.8411 - val_loss: 56.2448\n",
      "Epoch 93/1000\n",
      "\u001B[1m318/318\u001B[0m \u001B[32m━━━━━━━━━━━━━━━━━━━━\u001B[0m\u001B[37m\u001B[0m \u001B[1m2s\u001B[0m 6ms/step - loss: 22.6508 - val_loss: 55.7220\n",
      "Epoch 94/1000\n",
      "\u001B[1m318/318\u001B[0m \u001B[32m━━━━━━━━━━━━━━━━━━━━\u001B[0m\u001B[37m\u001B[0m \u001B[1m2s\u001B[0m 6ms/step - loss: 20.8934 - val_loss: 53.9314\n",
      "Epoch 95/1000\n",
      "\u001B[1m318/318\u001B[0m \u001B[32m━━━━━━━━━━━━━━━━━━━━\u001B[0m\u001B[37m\u001B[0m \u001B[1m2s\u001B[0m 6ms/step - loss: 21.6279 - val_loss: 57.4177\n",
      "Epoch 96/1000\n",
      "\u001B[1m318/318\u001B[0m \u001B[32m━━━━━━━━━━━━━━━━━━━━\u001B[0m\u001B[37m\u001B[0m \u001B[1m2s\u001B[0m 6ms/step - loss: 24.2674 - val_loss: 53.8925\n",
      "Epoch 97/1000\n",
      "\u001B[1m318/318\u001B[0m \u001B[32m━━━━━━━━━━━━━━━━━━━━\u001B[0m\u001B[37m\u001B[0m \u001B[1m2s\u001B[0m 6ms/step - loss: 19.7903 - val_loss: 54.5740\n",
      "Epoch 98/1000\n",
      "\u001B[1m318/318\u001B[0m \u001B[32m━━━━━━━━━━━━━━━━━━━━\u001B[0m\u001B[37m\u001B[0m \u001B[1m2s\u001B[0m 6ms/step - loss: 21.4083 - val_loss: 57.6929\n",
      "Epoch 99/1000\n",
      "\u001B[1m318/318\u001B[0m \u001B[32m━━━━━━━━━━━━━━━━━━━━\u001B[0m\u001B[37m\u001B[0m \u001B[1m2s\u001B[0m 6ms/step - loss: 24.7626 - val_loss: 55.7533\n",
      "Epoch 100/1000\n",
      "\u001B[1m318/318\u001B[0m \u001B[32m━━━━━━━━━━━━━━━━━━━━\u001B[0m\u001B[37m\u001B[0m \u001B[1m2s\u001B[0m 6ms/step - loss: 24.1498 - val_loss: 55.2555\n",
      "Epoch 101/1000\n",
      "\u001B[1m318/318\u001B[0m \u001B[32m━━━━━━━━━━━━━━━━━━━━\u001B[0m\u001B[37m\u001B[0m \u001B[1m2s\u001B[0m 6ms/step - loss: 21.3379 - val_loss: 54.1333\n",
      "Epoch 102/1000\n",
      "\u001B[1m318/318\u001B[0m \u001B[32m━━━━━━━━━━━━━━━━━━━━\u001B[0m\u001B[37m\u001B[0m \u001B[1m2s\u001B[0m 6ms/step - loss: 20.9897 - val_loss: 55.0051\n",
      "Epoch 103/1000\n",
      "\u001B[1m318/318\u001B[0m \u001B[32m━━━━━━━━━━━━━━━━━━━━\u001B[0m\u001B[37m\u001B[0m \u001B[1m2s\u001B[0m 6ms/step - loss: 22.3947 - val_loss: 54.0182\n",
      "Epoch 104/1000\n",
      "\u001B[1m318/318\u001B[0m \u001B[32m━━━━━━━━━━━━━━━━━━━━\u001B[0m\u001B[37m\u001B[0m \u001B[1m2s\u001B[0m 6ms/step - loss: 20.9388 - val_loss: 52.6571\n",
      "Epoch 105/1000\n",
      "\u001B[1m318/318\u001B[0m \u001B[32m━━━━━━━━━━━━━━━━━━━━\u001B[0m\u001B[37m\u001B[0m \u001B[1m2s\u001B[0m 6ms/step - loss: 19.6303 - val_loss: 55.5632\n",
      "Epoch 106/1000\n",
      "\u001B[1m318/318\u001B[0m \u001B[32m━━━━━━━━━━━━━━━━━━━━\u001B[0m\u001B[37m\u001B[0m \u001B[1m2s\u001B[0m 8ms/step - loss: 21.5427 - val_loss: 52.9483\n",
      "Epoch 107/1000\n",
      "\u001B[1m318/318\u001B[0m \u001B[32m━━━━━━━━━━━━━━━━━━━━\u001B[0m\u001B[37m\u001B[0m \u001B[1m2s\u001B[0m 6ms/step - loss: 22.3617 - val_loss: 57.3322\n",
      "Epoch 108/1000\n",
      "\u001B[1m318/318\u001B[0m \u001B[32m━━━━━━━━━━━━━━━━━━━━\u001B[0m\u001B[37m\u001B[0m \u001B[1m2s\u001B[0m 6ms/step - loss: 18.9493 - val_loss: 52.1133\n",
      "Epoch 109/1000\n",
      "\u001B[1m318/318\u001B[0m \u001B[32m━━━━━━━━━━━━━━━━━━━━\u001B[0m\u001B[37m\u001B[0m \u001B[1m2s\u001B[0m 6ms/step - loss: 19.9676 - val_loss: 59.7442\n",
      "Epoch 110/1000\n",
      "\u001B[1m318/318\u001B[0m \u001B[32m━━━━━━━━━━━━━━━━━━━━\u001B[0m\u001B[37m\u001B[0m \u001B[1m2s\u001B[0m 6ms/step - loss: 20.7662 - val_loss: 55.0457\n",
      "Epoch 111/1000\n",
      "\u001B[1m318/318\u001B[0m \u001B[32m━━━━━━━━━━━━━━━━━━━━\u001B[0m\u001B[37m\u001B[0m \u001B[1m2s\u001B[0m 6ms/step - loss: 20.4414 - val_loss: 56.7229\n",
      "Epoch 112/1000\n",
      "\u001B[1m318/318\u001B[0m \u001B[32m━━━━━━━━━━━━━━━━━━━━\u001B[0m\u001B[37m\u001B[0m \u001B[1m2s\u001B[0m 6ms/step - loss: 19.3206 - val_loss: 59.1261\n",
      "Epoch 113/1000\n",
      "\u001B[1m318/318\u001B[0m \u001B[32m━━━━━━━━━━━━━━━━━━━━\u001B[0m\u001B[37m\u001B[0m \u001B[1m2s\u001B[0m 6ms/step - loss: 17.8306 - val_loss: 57.8383\n",
      "Epoch 114/1000\n",
      "\u001B[1m318/318\u001B[0m \u001B[32m━━━━━━━━━━━━━━━━━━━━\u001B[0m\u001B[37m\u001B[0m \u001B[1m2s\u001B[0m 6ms/step - loss: 20.3468 - val_loss: 55.5868\n",
      "Epoch 115/1000\n",
      "\u001B[1m318/318\u001B[0m \u001B[32m━━━━━━━━━━━━━━━━━━━━\u001B[0m\u001B[37m\u001B[0m \u001B[1m2s\u001B[0m 6ms/step - loss: 23.8358 - val_loss: 56.8977\n",
      "Epoch 116/1000\n",
      "\u001B[1m318/318\u001B[0m \u001B[32m━━━━━━━━━━━━━━━━━━━━\u001B[0m\u001B[37m\u001B[0m \u001B[1m2s\u001B[0m 6ms/step - loss: 20.6265 - val_loss: 56.2134\n",
      "Epoch 117/1000\n",
      "\u001B[1m318/318\u001B[0m \u001B[32m━━━━━━━━━━━━━━━━━━━━\u001B[0m\u001B[37m\u001B[0m \u001B[1m2s\u001B[0m 6ms/step - loss: 19.4087 - val_loss: 54.8777\n",
      "Epoch 118/1000\n",
      "\u001B[1m318/318\u001B[0m \u001B[32m━━━━━━━━━━━━━━━━━━━━\u001B[0m\u001B[37m\u001B[0m \u001B[1m2s\u001B[0m 6ms/step - loss: 18.4699 - val_loss: 56.6530\n",
      "Epoch 119/1000\n",
      "\u001B[1m318/318\u001B[0m \u001B[32m━━━━━━━━━━━━━━━━━━━━\u001B[0m\u001B[37m\u001B[0m \u001B[1m2s\u001B[0m 5ms/step - loss: 17.7418 - val_loss: 60.5107\n",
      "Epoch 120/1000\n",
      "\u001B[1m318/318\u001B[0m \u001B[32m━━━━━━━━━━━━━━━━━━━━\u001B[0m\u001B[37m\u001B[0m \u001B[1m2s\u001B[0m 6ms/step - loss: 22.8189 - val_loss: 58.7421\n",
      "Epoch 121/1000\n",
      "\u001B[1m318/318\u001B[0m \u001B[32m━━━━━━━━━━━━━━━━━━━━\u001B[0m\u001B[37m\u001B[0m \u001B[1m2s\u001B[0m 6ms/step - loss: 23.4613 - val_loss: 50.7182\n"
     ]
    },
    {
     "data": {
      "text/plain": "<keras.src.callbacks.history.History at 0x18da23f10>"
     },
     "execution_count": 212,
     "metadata": {},
     "output_type": "execute_result"
    }
   ],
   "source": [
    "nn_model_site1.fit(X_s1_train, y_s1_train, epochs=1000, validation_data=(X_s1_val,y_s1_val), callbacks=[callback])\n"
   ],
   "metadata": {
    "collapsed": false,
    "ExecuteTime": {
     "end_time": "2025-01-27T23:08:19.085370Z",
     "start_time": "2025-01-27T23:04:21.262886Z"
    }
   },
   "id": "a3da3b3f8bbc7708",
   "execution_count": 212
  },
  {
   "cell_type": "code",
   "outputs": [
    {
     "name": "stdout",
     "output_type": "stream",
     "text": [
      "\u001B[1m191/191\u001B[0m \u001B[32m━━━━━━━━━━━━━━━━━━━━\u001B[0m\u001B[37m\u001B[0m \u001B[1m1s\u001B[0m 3ms/step\n",
      "MAE: 3.358940362930298\n",
      "RMSE: 7.207355969564809\n",
      "R2: 0.8538559675216675\n",
      "Accuracy: 72.09 %\n"
     ]
    }
   ],
   "source": [
    "nn_pred_site1 = nn_model_site1.predict(X_s1_test)\n",
    "\n",
    "# Calculate MAE, RMSE and r2\n",
    "nn_mae_s1 = mean_absolute_error(y_s1_test,nn_pred_site1)\n",
    "nn_rmse_s1 = mean_squared_error(y_s1_test,nn_pred_site1)**0.5\n",
    "nn_r2_s1 = r2_score(y_s1_test, nn_pred_site1)\n",
    "\n",
    "print(\"MAE:\", nn_mae_s1)\n",
    "print(\"RMSE:\", nn_rmse_s1)\n",
    "print(\"R2:\", nn_r2_s1)\n",
    "print(\"Accuracy:\", round((1-(nn_mae_s1/predictionDF_site1[\"connectedCars\"].mean()))*100,2), \"%\")\n"
   ],
   "metadata": {
    "collapsed": false,
    "ExecuteTime": {
     "end_time": "2025-01-27T23:08:19.890194Z",
     "start_time": "2025-01-27T23:08:19.089246Z"
    }
   },
   "id": "3ce189f06fbda341",
   "execution_count": 213
  },
  {
   "cell_type": "markdown",
   "source": [
    "# NEURAL NETWORK: PREDICTION connectedCars SITE 2"
   ],
   "metadata": {
    "collapsed": false
   },
   "id": "30122325ae276fca"
  },
  {
   "cell_type": "code",
   "outputs": [],
   "source": [
    "X_s2 = predictionDF_site2.copy()\n",
    "X_s2 = X_s2.drop([\"connectedCars\",\"utilization\",\"temperature\",\"time_of_day\"], axis = 1)\n",
    "y_s2 = predictionDF_site2[[\"connectedCars\"]]"
   ],
   "metadata": {
    "collapsed": false,
    "ExecuteTime": {
     "end_time": "2025-01-27T23:08:19.941475Z",
     "start_time": "2025-01-27T23:08:19.892510Z"
    }
   },
   "id": "6faa8d9564bea3f7",
   "execution_count": 214
  },
  {
   "cell_type": "code",
   "outputs": [
    {
     "name": "stdout",
     "output_type": "stream",
     "text": [
      "<class 'pandas.core.frame.DataFrame'>\n",
      "Index: 23792 entries, 0 to 26295\n",
      "Data columns (total 8 columns):\n",
      " #   Column            Non-Null Count  Dtype  \n",
      "---  ------            --------------  -----  \n",
      " 0   windspeed         23792 non-null  float64\n",
      " 1   felt_temperature  23792 non-null  float64\n",
      " 2   Season            23792 non-null  int64  \n",
      " 3   date_month        23792 non-null  float64\n",
      " 4   weekday           23792 non-null  int64  \n",
      " 5   Weekday/Weekend   23792 non-null  int64  \n",
      " 6   covid             23792 non-null  int64  \n",
      " 7   hour_of_day       23792 non-null  int32  \n",
      "dtypes: float64(3), int32(1), int64(4)\n",
      "memory usage: 1.5 MB\n"
     ]
    }
   ],
   "source": [
    "X_s2.info()"
   ],
   "metadata": {
    "collapsed": false,
    "ExecuteTime": {
     "end_time": "2025-01-27T23:08:19.946528Z",
     "start_time": "2025-01-27T23:08:19.917618Z"
    }
   },
   "id": "18bb6c7917970f4b",
   "execution_count": 215
  },
  {
   "cell_type": "code",
   "outputs": [
    {
     "data": {
      "text/plain": "   windspeed  felt_temperature  Season  date_month  weekday  Weekday/Weekend  \\\n0        6.0              12.0       1         4.0        2                0   \n1        7.0              12.0       1         4.0        2                0   \n2        9.0              12.0       1         4.0        2                0   \n3        9.0              12.0       1         4.0        2                0   \n4        7.0              12.0       1         4.0        2                0   \n\n   covid  hour_of_day  \n0      0           11  \n1      0           12  \n2      0           12  \n3      0           13  \n4      0           13  ",
      "text/html": "<div>\n<style scoped>\n    .dataframe tbody tr th:only-of-type {\n        vertical-align: middle;\n    }\n\n    .dataframe tbody tr th {\n        vertical-align: top;\n    }\n\n    .dataframe thead th {\n        text-align: right;\n    }\n</style>\n<table border=\"1\" class=\"dataframe\">\n  <thead>\n    <tr style=\"text-align: right;\">\n      <th></th>\n      <th>windspeed</th>\n      <th>felt_temperature</th>\n      <th>Season</th>\n      <th>date_month</th>\n      <th>weekday</th>\n      <th>Weekday/Weekend</th>\n      <th>covid</th>\n      <th>hour_of_day</th>\n    </tr>\n  </thead>\n  <tbody>\n    <tr>\n      <th>0</th>\n      <td>6.0</td>\n      <td>12.0</td>\n      <td>1</td>\n      <td>4.0</td>\n      <td>2</td>\n      <td>0</td>\n      <td>0</td>\n      <td>11</td>\n    </tr>\n    <tr>\n      <th>1</th>\n      <td>7.0</td>\n      <td>12.0</td>\n      <td>1</td>\n      <td>4.0</td>\n      <td>2</td>\n      <td>0</td>\n      <td>0</td>\n      <td>12</td>\n    </tr>\n    <tr>\n      <th>2</th>\n      <td>9.0</td>\n      <td>12.0</td>\n      <td>1</td>\n      <td>4.0</td>\n      <td>2</td>\n      <td>0</td>\n      <td>0</td>\n      <td>12</td>\n    </tr>\n    <tr>\n      <th>3</th>\n      <td>9.0</td>\n      <td>12.0</td>\n      <td>1</td>\n      <td>4.0</td>\n      <td>2</td>\n      <td>0</td>\n      <td>0</td>\n      <td>13</td>\n    </tr>\n    <tr>\n      <th>4</th>\n      <td>7.0</td>\n      <td>12.0</td>\n      <td>1</td>\n      <td>4.0</td>\n      <td>2</td>\n      <td>0</td>\n      <td>0</td>\n      <td>13</td>\n    </tr>\n  </tbody>\n</table>\n</div>"
     },
     "execution_count": 216,
     "metadata": {},
     "output_type": "execute_result"
    }
   ],
   "source": [
    "X_s2.head()"
   ],
   "metadata": {
    "collapsed": false,
    "ExecuteTime": {
     "end_time": "2025-01-27T23:08:20.023490Z",
     "start_time": "2025-01-27T23:08:19.951866Z"
    }
   },
   "id": "e31d38f09969459a",
   "execution_count": 216
  },
  {
   "cell_type": "code",
   "outputs": [
    {
     "data": {
      "text/plain": "   windspeed  felt_temperature  date_month  weekday  Weekday/Weekend  covid  \\\n0        6.0              19.0         9.0        2                0      0   \n1        6.0              19.0         9.0        2                0      0   \n2        7.0              19.0         9.0        2                0      0   \n3        7.0              19.0         9.0        2                0      0   \n4        0.0              19.0         9.0        2                0      0   \n\n   hour_of_day  \n0           11  \n1           12  \n2           13  \n3           13  \n4           14  ",
      "text/html": "<div>\n<style scoped>\n    .dataframe tbody tr th:only-of-type {\n        vertical-align: middle;\n    }\n\n    .dataframe tbody tr th {\n        vertical-align: top;\n    }\n\n    .dataframe thead th {\n        text-align: right;\n    }\n</style>\n<table border=\"1\" class=\"dataframe\">\n  <thead>\n    <tr style=\"text-align: right;\">\n      <th></th>\n      <th>windspeed</th>\n      <th>felt_temperature</th>\n      <th>date_month</th>\n      <th>weekday</th>\n      <th>Weekday/Weekend</th>\n      <th>covid</th>\n      <th>hour_of_day</th>\n    </tr>\n  </thead>\n  <tbody>\n    <tr>\n      <th>0</th>\n      <td>6.0</td>\n      <td>19.0</td>\n      <td>9.0</td>\n      <td>2</td>\n      <td>0</td>\n      <td>0</td>\n      <td>11</td>\n    </tr>\n    <tr>\n      <th>1</th>\n      <td>6.0</td>\n      <td>19.0</td>\n      <td>9.0</td>\n      <td>2</td>\n      <td>0</td>\n      <td>0</td>\n      <td>12</td>\n    </tr>\n    <tr>\n      <th>2</th>\n      <td>7.0</td>\n      <td>19.0</td>\n      <td>9.0</td>\n      <td>2</td>\n      <td>0</td>\n      <td>0</td>\n      <td>13</td>\n    </tr>\n    <tr>\n      <th>3</th>\n      <td>7.0</td>\n      <td>19.0</td>\n      <td>9.0</td>\n      <td>2</td>\n      <td>0</td>\n      <td>0</td>\n      <td>13</td>\n    </tr>\n    <tr>\n      <th>4</th>\n      <td>0.0</td>\n      <td>19.0</td>\n      <td>9.0</td>\n      <td>2</td>\n      <td>0</td>\n      <td>0</td>\n      <td>14</td>\n    </tr>\n  </tbody>\n</table>\n</div>"
     },
     "execution_count": 217,
     "metadata": {},
     "output_type": "execute_result"
    }
   ],
   "source": [
    "X_s1.head()"
   ],
   "metadata": {
    "collapsed": false,
    "ExecuteTime": {
     "end_time": "2025-01-27T23:08:20.086123Z",
     "start_time": "2025-01-27T23:08:19.967259Z"
    }
   },
   "id": "adea84b8b4600f4f",
   "execution_count": 217
  },
  {
   "cell_type": "code",
   "outputs": [],
   "source": [
    "# Split data into train and test sets\n",
    "X_s2_train, X_s2_test, y_s2_train, y_s2_test = train_test_split(X_s2, y_s2, test_size=0.3, random_state=42)\n",
    "X_s2_train, X_s2_val, y_s2_train, y_s2_val = train_test_split(X_s2_train, y_s2_train, test_size=(0.2/0.7),random_state = 42)\n",
    "\n",
    "# Standardize the feature values\n",
    "scaler = StandardScaler()\n",
    "X_s2_train = scaler.fit_transform(X_s2_train)\n",
    "X_s2_val = scaler.fit_transform(X_s2_val)\n",
    "X_s2_test = scaler.transform(X_s2_test)"
   ],
   "metadata": {
    "collapsed": false,
    "ExecuteTime": {
     "end_time": "2025-01-27T23:08:20.109030Z",
     "start_time": "2025-01-27T23:08:19.984088Z"
    }
   },
   "id": "bbe41eda66f5e054",
   "execution_count": 218
  },
  {
   "cell_type": "code",
   "outputs": [],
   "source": [
    "def build_model_nn_s2(hp):\n",
    "    # Input Layer\n",
    "    # season is in here, but not in site 1 df\n",
    "    inputs = keras.Input(shape=(8,)) # shapesize dependent of input feature count\n",
    "\n",
    "    # Hidden Layers\n",
    "    ## First Hidden Layer\n",
    "    dense = layers.Dense(units=hp.Int('hidden_layer_1_units', min_value=32, max_value=256, step=32), activation='relu')\n",
    "    x = dense(inputs)\n",
    "\n",
    "    ## Possible additional Hidden Layers\n",
    "    for i in range(hp.Int('total_added_hidden_layers', 0, 10)):\n",
    "        x = layers.Dense(units=hp.Int(f'hidden_layers_{i+2}_units', min_value=32, max_value=256, step=32), activation='relu')(x)\n",
    "\n",
    "    # Output Layer\n",
    "    output = layers.Dense(1, activation='relu')(x)\n",
    "\n",
    "    # Instantiate the model\n",
    "    model_ann = keras.Model(inputs, output, name='connectedCars_NN_site1')\n",
    "\n",
    "    # Compile the model\n",
    "    model_ann.compile(optimizer='Adam', loss='mean_squared_error')\n",
    "\n",
    "    return model_ann"
   ],
   "metadata": {
    "collapsed": false,
    "ExecuteTime": {
     "end_time": "2025-01-27T23:08:20.150464Z",
     "start_time": "2025-01-27T23:08:20.027871Z"
    }
   },
   "id": "720c9343bb73ab6c",
   "execution_count": 219
  },
  {
   "cell_type": "markdown",
   "source": [
    "# HYPERPARAMETER TUNING SITE 2"
   ],
   "metadata": {
    "collapsed": false
   },
   "id": "dda38d82c864ebef"
  },
  {
   "cell_type": "code",
   "outputs": [],
   "source": [
    "tuner_nn_s2 = Hyperband(\n",
    "    build_model_nn_s2,\n",
    "    objective = 'val_loss',\n",
    "    max_epochs = 20,\n",
    "    factor = 3,\n",
    "    executions_per_trial = 1,\n",
    "    project_name = 'kerastuner_LOG_nn_site2',\n",
    "    overwrite = True # deletes old LOG's\n",
    ")"
   ],
   "metadata": {
    "collapsed": false,
    "ExecuteTime": {
     "end_time": "2025-01-27T23:08:20.386417Z",
     "start_time": "2025-01-27T23:08:20.039785Z"
    }
   },
   "id": "4a2dd22bf81fca95",
   "execution_count": 220
  },
  {
   "cell_type": "code",
   "outputs": [
    {
     "name": "stdout",
     "output_type": "stream",
     "text": [
      "Search space summary\n",
      "Default search space size: 2\n",
      "hidden_layer_1_units (Int)\n",
      "{'default': None, 'conditions': [], 'min_value': 32, 'max_value': 256, 'step': 32, 'sampling': 'linear'}\n",
      "total_added_hidden_layers (Int)\n",
      "{'default': None, 'conditions': [], 'min_value': 0, 'max_value': 10, 'step': 1, 'sampling': 'linear'}\n"
     ]
    }
   ],
   "source": [
    "tuner_nn_s2.search_space_summary()"
   ],
   "metadata": {
    "collapsed": false,
    "ExecuteTime": {
     "end_time": "2025-01-27T23:08:20.391798Z",
     "start_time": "2025-01-27T23:08:20.208196Z"
    }
   },
   "id": "6510a4f644cd17d2",
   "execution_count": 221
  },
  {
   "cell_type": "markdown",
   "source": [
    "# RUN HYPERPARAMETER SEARCH SITE 2"
   ],
   "metadata": {
    "collapsed": false
   },
   "id": "b5dfabebdf74a755"
  },
  {
   "cell_type": "code",
   "outputs": [
    {
     "name": "stdout",
     "output_type": "stream",
     "text": [
      "Trial 30 Complete [00h 00m 37s]\n",
      "val_loss: 32.66353988647461\n",
      "\n",
      "Best val_loss So Far: 31.52553367614746\n",
      "Total elapsed time: 00h 41m 20s\n"
     ]
    }
   ],
   "source": [
    "tuner_nn_s2.search(\n",
    "    X_s2_train,\n",
    "    y_s2_train,\n",
    "    validation_data=(X_s2_val,y_s2_val),\n",
    "    callbacks = [ClearTrainingOutput()]\n",
    ")"
   ],
   "metadata": {
    "collapsed": false
   },
   "id": "1c9607ebdbc2df23",
   "execution_count": 222
  },
  {
   "cell_type": "code",
   "outputs": [
    {
     "name": "stdout",
     "output_type": "stream",
     "text": [
      "Results summary\n",
      "Results in ./kerastuner_LOG_nn_site2\n",
      "Showing 10 best trials\n",
      "Objective(name=\"val_loss\", direction=\"min\")\n",
      "\n",
      "Trial 0016 summary\n",
      "Hyperparameters:\n",
      "hidden_layer_1_units: 128\n",
      "total_added_hidden_layers: 3\n",
      "hidden_layers_2_units: 32\n",
      "hidden_layers_3_units: 192\n",
      "hidden_layers_4_units: 160\n",
      "hidden_layers_5_units: 64\n",
      "hidden_layers_6_units: 64\n",
      "hidden_layers_7_units: 160\n",
      "hidden_layers_8_units: 256\n",
      "hidden_layers_9_units: 160\n",
      "hidden_layers_10_units: 192\n",
      "tuner/epochs: 20\n",
      "tuner/initial_epoch: 7\n",
      "tuner/bracket: 2\n",
      "tuner/round: 2\n",
      "tuner/trial_id: 0014\n",
      "hidden_layers_11_units: 192\n",
      "Score: 31.52553367614746\n",
      "\n",
      "Trial 0024 summary\n",
      "Hyperparameters:\n",
      "hidden_layer_1_units: 224\n",
      "total_added_hidden_layers: 8\n",
      "hidden_layers_2_units: 256\n",
      "hidden_layers_3_units: 32\n",
      "hidden_layers_4_units: 160\n",
      "hidden_layers_5_units: 32\n",
      "hidden_layers_6_units: 160\n",
      "hidden_layers_7_units: 256\n",
      "hidden_layers_8_units: 256\n",
      "hidden_layers_9_units: 192\n",
      "hidden_layers_10_units: 96\n",
      "hidden_layers_11_units: 64\n",
      "tuner/epochs: 20\n",
      "tuner/initial_epoch: 7\n",
      "tuner/bracket: 1\n",
      "tuner/round: 1\n",
      "tuner/trial_id: 0019\n",
      "Score: 31.672103881835938\n",
      "\n",
      "Trial 0025 summary\n",
      "Hyperparameters:\n",
      "hidden_layer_1_units: 160\n",
      "total_added_hidden_layers: 9\n",
      "hidden_layers_2_units: 256\n",
      "hidden_layers_3_units: 96\n",
      "hidden_layers_4_units: 64\n",
      "hidden_layers_5_units: 160\n",
      "hidden_layers_6_units: 192\n",
      "hidden_layers_7_units: 128\n",
      "hidden_layers_8_units: 128\n",
      "hidden_layers_9_units: 160\n",
      "hidden_layers_10_units: 128\n",
      "hidden_layers_11_units: 128\n",
      "tuner/epochs: 20\n",
      "tuner/initial_epoch: 7\n",
      "tuner/bracket: 1\n",
      "tuner/round: 1\n",
      "tuner/trial_id: 0022\n",
      "Score: 32.04621887207031\n",
      "\n",
      "Trial 0026 summary\n",
      "Hyperparameters:\n",
      "hidden_layer_1_units: 224\n",
      "total_added_hidden_layers: 2\n",
      "hidden_layers_2_units: 192\n",
      "hidden_layers_3_units: 32\n",
      "hidden_layers_4_units: 256\n",
      "hidden_layers_5_units: 224\n",
      "hidden_layers_6_units: 64\n",
      "hidden_layers_7_units: 256\n",
      "hidden_layers_8_units: 32\n",
      "hidden_layers_9_units: 96\n",
      "hidden_layers_10_units: 96\n",
      "hidden_layers_11_units: 64\n",
      "tuner/epochs: 20\n",
      "tuner/initial_epoch: 0\n",
      "tuner/bracket: 0\n",
      "tuner/round: 0\n",
      "Score: 32.23420715332031\n",
      "\n",
      "Trial 0027 summary\n",
      "Hyperparameters:\n",
      "hidden_layer_1_units: 96\n",
      "total_added_hidden_layers: 10\n",
      "hidden_layers_2_units: 256\n",
      "hidden_layers_3_units: 32\n",
      "hidden_layers_4_units: 64\n",
      "hidden_layers_5_units: 96\n",
      "hidden_layers_6_units: 256\n",
      "hidden_layers_7_units: 96\n",
      "hidden_layers_8_units: 224\n",
      "hidden_layers_9_units: 96\n",
      "hidden_layers_10_units: 32\n",
      "hidden_layers_11_units: 192\n",
      "tuner/epochs: 20\n",
      "tuner/initial_epoch: 0\n",
      "tuner/bracket: 0\n",
      "tuner/round: 0\n",
      "Score: 32.599124908447266\n",
      "\n",
      "Trial 0029 summary\n",
      "Hyperparameters:\n",
      "hidden_layer_1_units: 192\n",
      "total_added_hidden_layers: 3\n",
      "hidden_layers_2_units: 32\n",
      "hidden_layers_3_units: 96\n",
      "hidden_layers_4_units: 128\n",
      "hidden_layers_5_units: 96\n",
      "hidden_layers_6_units: 224\n",
      "hidden_layers_7_units: 32\n",
      "hidden_layers_8_units: 160\n",
      "hidden_layers_9_units: 96\n",
      "hidden_layers_10_units: 224\n",
      "hidden_layers_11_units: 96\n",
      "tuner/epochs: 20\n",
      "tuner/initial_epoch: 0\n",
      "tuner/bracket: 0\n",
      "tuner/round: 0\n",
      "Score: 32.66353988647461\n",
      "\n",
      "Trial 0017 summary\n",
      "Hyperparameters:\n",
      "hidden_layer_1_units: 128\n",
      "total_added_hidden_layers: 9\n",
      "tuner/epochs: 20\n",
      "tuner/initial_epoch: 7\n",
      "tuner/bracket: 2\n",
      "tuner/round: 2\n",
      "hidden_layers_2_units: 32\n",
      "hidden_layers_3_units: 32\n",
      "hidden_layers_4_units: 32\n",
      "hidden_layers_5_units: 32\n",
      "hidden_layers_6_units: 32\n",
      "hidden_layers_7_units: 32\n",
      "hidden_layers_8_units: 32\n",
      "hidden_layers_9_units: 32\n",
      "hidden_layers_10_units: 32\n",
      "tuner/trial_id: 0015\n",
      "hidden_layers_11_units: 256\n",
      "Score: 33.436767578125\n",
      "\n",
      "Trial 0019 summary\n",
      "Hyperparameters:\n",
      "hidden_layer_1_units: 224\n",
      "total_added_hidden_layers: 8\n",
      "hidden_layers_2_units: 256\n",
      "hidden_layers_3_units: 32\n",
      "hidden_layers_4_units: 160\n",
      "hidden_layers_5_units: 32\n",
      "hidden_layers_6_units: 160\n",
      "hidden_layers_7_units: 256\n",
      "hidden_layers_8_units: 256\n",
      "hidden_layers_9_units: 192\n",
      "hidden_layers_10_units: 96\n",
      "hidden_layers_11_units: 64\n",
      "tuner/epochs: 7\n",
      "tuner/initial_epoch: 0\n",
      "tuner/bracket: 1\n",
      "tuner/round: 0\n",
      "Score: 33.56833267211914\n",
      "\n",
      "Trial 0014 summary\n",
      "Hyperparameters:\n",
      "hidden_layer_1_units: 128\n",
      "total_added_hidden_layers: 3\n",
      "hidden_layers_2_units: 32\n",
      "hidden_layers_3_units: 192\n",
      "hidden_layers_4_units: 160\n",
      "hidden_layers_5_units: 64\n",
      "hidden_layers_6_units: 64\n",
      "hidden_layers_7_units: 160\n",
      "hidden_layers_8_units: 256\n",
      "hidden_layers_9_units: 160\n",
      "hidden_layers_10_units: 192\n",
      "tuner/epochs: 7\n",
      "tuner/initial_epoch: 3\n",
      "tuner/bracket: 2\n",
      "tuner/round: 1\n",
      "tuner/trial_id: 0008\n",
      "hidden_layers_11_units: 192\n",
      "Score: 33.60741424560547\n",
      "\n",
      "Trial 0022 summary\n",
      "Hyperparameters:\n",
      "hidden_layer_1_units: 160\n",
      "total_added_hidden_layers: 9\n",
      "hidden_layers_2_units: 256\n",
      "hidden_layers_3_units: 96\n",
      "hidden_layers_4_units: 64\n",
      "hidden_layers_5_units: 160\n",
      "hidden_layers_6_units: 192\n",
      "hidden_layers_7_units: 128\n",
      "hidden_layers_8_units: 128\n",
      "hidden_layers_9_units: 160\n",
      "hidden_layers_10_units: 128\n",
      "hidden_layers_11_units: 128\n",
      "tuner/epochs: 7\n",
      "tuner/initial_epoch: 0\n",
      "tuner/bracket: 1\n",
      "tuner/round: 0\n",
      "Score: 33.921722412109375\n"
     ]
    }
   ],
   "source": [
    "# display best models, their hyperparameters and the resulting metrics\n",
    "tuner_nn_s2.results_summary()"
   ],
   "metadata": {
    "collapsed": false,
    "ExecuteTime": {
     "end_time": "2025-01-27T23:49:40.538554Z",
     "start_time": "2025-01-27T23:49:40.465375Z"
    }
   },
   "id": "dd425dadc5c17c0a",
   "execution_count": 223
  },
  {
   "cell_type": "code",
   "outputs": [
    {
     "name": "stdout",
     "output_type": "stream",
     "text": [
      "\n",
      "The hyperparameter search is complete. \n",
      "The optimal number of units in the first hidden layer is 160 \n",
      "and the total number of hidden layers is 7.\n"
     ]
    }
   ],
   "source": [
    "nn_best_hps_site2 = tuner.get_best_hyperparameters(num_trials = 1)[0]\n",
    "\n",
    "print(f\"\"\"\n",
    "The hyperparameter search is complete. \n",
    "The optimal number of units in the first hidden layer is {nn_best_hps_site2.get('hidden_layer_1_units')} \n",
    "and the total number of hidden layers is {nn_best_hps_site2.get('total_added_hidden_layers')+1}.\n",
    "\"\"\")"
   ],
   "metadata": {
    "collapsed": false,
    "ExecuteTime": {
     "end_time": "2025-01-27T23:49:40.579415Z",
     "start_time": "2025-01-27T23:49:40.476745Z"
    }
   },
   "id": "b4097c3e91fd40f",
   "execution_count": 224
  },
  {
   "cell_type": "code",
   "outputs": [
    {
     "name": "stderr",
     "output_type": "stream",
     "text": [
      "/Users/anthonyge/Desktop/UNI/_MASTER/semester_1/Analytics_&_Applications/GinyuForce/venv/lib/python3.9/site-packages/keras/src/saving/saving_lib.py:757: UserWarning: Skipping variable loading for optimizer 'adam', because it has 2 variables whereas the saved optimizer has 22 variables. \n",
      "  saveable.load_own_variables(weights_store.get(inner_path))\n"
     ]
    }
   ],
   "source": [
    "# get best model\n",
    "nn_model_site2 = tuner_nn_s2.get_best_models(num_models=1)[0]"
   ],
   "metadata": {
    "collapsed": false,
    "ExecuteTime": {
     "end_time": "2025-01-27T23:49:46.420127Z",
     "start_time": "2025-01-27T23:49:43.227884Z"
    }
   },
   "id": "9edd88b0583dae46",
   "execution_count": 225
  },
  {
   "cell_type": "code",
   "outputs": [
    {
     "data": {
      "text/plain": "\u001B[1mModel: \"connectedCars_NN_site1\"\u001B[0m\n",
      "text/html": "<pre style=\"white-space:pre;overflow-x:auto;line-height:normal;font-family:Menlo,'DejaVu Sans Mono',consolas,'Courier New',monospace\"><span style=\"font-weight: bold\">Model: \"connectedCars_NN_site1\"</span>\n</pre>\n"
     },
     "metadata": {},
     "output_type": "display_data"
    },
    {
     "data": {
      "text/plain": "┏━━━━━━━━━━━━━━━━━━━━━━━━━━━━━━━━━┳━━━━━━━━━━━━━━━━━━━━━━━━┳━━━━━━━━━━━━━━━┓\n┃\u001B[1m \u001B[0m\u001B[1mLayer (type)                   \u001B[0m\u001B[1m \u001B[0m┃\u001B[1m \u001B[0m\u001B[1mOutput Shape          \u001B[0m\u001B[1m \u001B[0m┃\u001B[1m \u001B[0m\u001B[1m      Param #\u001B[0m\u001B[1m \u001B[0m┃\n┡━━━━━━━━━━━━━━━━━━━━━━━━━━━━━━━━━╇━━━━━━━━━━━━━━━━━━━━━━━━╇━━━━━━━━━━━━━━━┩\n│ input_layer (\u001B[38;5;33mInputLayer\u001B[0m)        │ (\u001B[38;5;45mNone\u001B[0m, \u001B[38;5;34m8\u001B[0m)              │             \u001B[38;5;34m0\u001B[0m │\n├─────────────────────────────────┼────────────────────────┼───────────────┤\n│ dense (\u001B[38;5;33mDense\u001B[0m)                   │ (\u001B[38;5;45mNone\u001B[0m, \u001B[38;5;34m128\u001B[0m)            │         \u001B[38;5;34m1,152\u001B[0m │\n├─────────────────────────────────┼────────────────────────┼───────────────┤\n│ dense_1 (\u001B[38;5;33mDense\u001B[0m)                 │ (\u001B[38;5;45mNone\u001B[0m, \u001B[38;5;34m32\u001B[0m)             │         \u001B[38;5;34m4,128\u001B[0m │\n├─────────────────────────────────┼────────────────────────┼───────────────┤\n│ dense_2 (\u001B[38;5;33mDense\u001B[0m)                 │ (\u001B[38;5;45mNone\u001B[0m, \u001B[38;5;34m192\u001B[0m)            │         \u001B[38;5;34m6,336\u001B[0m │\n├─────────────────────────────────┼────────────────────────┼───────────────┤\n│ dense_3 (\u001B[38;5;33mDense\u001B[0m)                 │ (\u001B[38;5;45mNone\u001B[0m, \u001B[38;5;34m160\u001B[0m)            │        \u001B[38;5;34m30,880\u001B[0m │\n├─────────────────────────────────┼────────────────────────┼───────────────┤\n│ dense_4 (\u001B[38;5;33mDense\u001B[0m)                 │ (\u001B[38;5;45mNone\u001B[0m, \u001B[38;5;34m1\u001B[0m)              │           \u001B[38;5;34m161\u001B[0m │\n└─────────────────────────────────┴────────────────────────┴───────────────┘\n",
      "text/html": "<pre style=\"white-space:pre;overflow-x:auto;line-height:normal;font-family:Menlo,'DejaVu Sans Mono',consolas,'Courier New',monospace\">┏━━━━━━━━━━━━━━━━━━━━━━━━━━━━━━━━━┳━━━━━━━━━━━━━━━━━━━━━━━━┳━━━━━━━━━━━━━━━┓\n┃<span style=\"font-weight: bold\"> Layer (type)                    </span>┃<span style=\"font-weight: bold\"> Output Shape           </span>┃<span style=\"font-weight: bold\">       Param # </span>┃\n┡━━━━━━━━━━━━━━━━━━━━━━━━━━━━━━━━━╇━━━━━━━━━━━━━━━━━━━━━━━━╇━━━━━━━━━━━━━━━┩\n│ input_layer (<span style=\"color: #0087ff; text-decoration-color: #0087ff\">InputLayer</span>)        │ (<span style=\"color: #00d7ff; text-decoration-color: #00d7ff\">None</span>, <span style=\"color: #00af00; text-decoration-color: #00af00\">8</span>)              │             <span style=\"color: #00af00; text-decoration-color: #00af00\">0</span> │\n├─────────────────────────────────┼────────────────────────┼───────────────┤\n│ dense (<span style=\"color: #0087ff; text-decoration-color: #0087ff\">Dense</span>)                   │ (<span style=\"color: #00d7ff; text-decoration-color: #00d7ff\">None</span>, <span style=\"color: #00af00; text-decoration-color: #00af00\">128</span>)            │         <span style=\"color: #00af00; text-decoration-color: #00af00\">1,152</span> │\n├─────────────────────────────────┼────────────────────────┼───────────────┤\n│ dense_1 (<span style=\"color: #0087ff; text-decoration-color: #0087ff\">Dense</span>)                 │ (<span style=\"color: #00d7ff; text-decoration-color: #00d7ff\">None</span>, <span style=\"color: #00af00; text-decoration-color: #00af00\">32</span>)             │         <span style=\"color: #00af00; text-decoration-color: #00af00\">4,128</span> │\n├─────────────────────────────────┼────────────────────────┼───────────────┤\n│ dense_2 (<span style=\"color: #0087ff; text-decoration-color: #0087ff\">Dense</span>)                 │ (<span style=\"color: #00d7ff; text-decoration-color: #00d7ff\">None</span>, <span style=\"color: #00af00; text-decoration-color: #00af00\">192</span>)            │         <span style=\"color: #00af00; text-decoration-color: #00af00\">6,336</span> │\n├─────────────────────────────────┼────────────────────────┼───────────────┤\n│ dense_3 (<span style=\"color: #0087ff; text-decoration-color: #0087ff\">Dense</span>)                 │ (<span style=\"color: #00d7ff; text-decoration-color: #00d7ff\">None</span>, <span style=\"color: #00af00; text-decoration-color: #00af00\">160</span>)            │        <span style=\"color: #00af00; text-decoration-color: #00af00\">30,880</span> │\n├─────────────────────────────────┼────────────────────────┼───────────────┤\n│ dense_4 (<span style=\"color: #0087ff; text-decoration-color: #0087ff\">Dense</span>)                 │ (<span style=\"color: #00d7ff; text-decoration-color: #00d7ff\">None</span>, <span style=\"color: #00af00; text-decoration-color: #00af00\">1</span>)              │           <span style=\"color: #00af00; text-decoration-color: #00af00\">161</span> │\n└─────────────────────────────────┴────────────────────────┴───────────────┘\n</pre>\n"
     },
     "metadata": {},
     "output_type": "display_data"
    },
    {
     "data": {
      "text/plain": "\u001B[1m Total params: \u001B[0m\u001B[38;5;34m42,657\u001B[0m (166.63 KB)\n",
      "text/html": "<pre style=\"white-space:pre;overflow-x:auto;line-height:normal;font-family:Menlo,'DejaVu Sans Mono',consolas,'Courier New',monospace\"><span style=\"font-weight: bold\"> Total params: </span><span style=\"color: #00af00; text-decoration-color: #00af00\">42,657</span> (166.63 KB)\n</pre>\n"
     },
     "metadata": {},
     "output_type": "display_data"
    },
    {
     "data": {
      "text/plain": "\u001B[1m Trainable params: \u001B[0m\u001B[38;5;34m42,657\u001B[0m (166.63 KB)\n",
      "text/html": "<pre style=\"white-space:pre;overflow-x:auto;line-height:normal;font-family:Menlo,'DejaVu Sans Mono',consolas,'Courier New',monospace\"><span style=\"font-weight: bold\"> Trainable params: </span><span style=\"color: #00af00; text-decoration-color: #00af00\">42,657</span> (166.63 KB)\n</pre>\n"
     },
     "metadata": {},
     "output_type": "display_data"
    },
    {
     "data": {
      "text/plain": "\u001B[1m Non-trainable params: \u001B[0m\u001B[38;5;34m0\u001B[0m (0.00 B)\n",
      "text/html": "<pre style=\"white-space:pre;overflow-x:auto;line-height:normal;font-family:Menlo,'DejaVu Sans Mono',consolas,'Courier New',monospace\"><span style=\"font-weight: bold\"> Non-trainable params: </span><span style=\"color: #00af00; text-decoration-color: #00af00\">0</span> (0.00 B)\n</pre>\n"
     },
     "metadata": {},
     "output_type": "display_data"
    }
   ],
   "source": [
    "nn_model_site2.summary()"
   ],
   "metadata": {
    "collapsed": false,
    "ExecuteTime": {
     "end_time": "2025-01-27T23:49:46.544200Z",
     "start_time": "2025-01-27T23:49:46.423020Z"
    }
   },
   "id": "b1a2cdee07814d72",
   "execution_count": 226
  },
  {
   "cell_type": "markdown",
   "source": [],
   "metadata": {
    "collapsed": false
   },
   "id": "cba9f4f5ab593b2"
  },
  {
   "cell_type": "code",
   "outputs": [],
   "source": [
    "callback = keras.callbacks.EarlyStopping(\n",
    "    monitor='val_loss',\n",
    "    mode='min',\n",
    "    patience=100,\n",
    "    restore_best_weights=True\n",
    ")"
   ],
   "metadata": {
    "collapsed": false,
    "ExecuteTime": {
     "end_time": "2025-01-27T23:49:46.649076Z",
     "start_time": "2025-01-27T23:49:46.459157Z"
    }
   },
   "id": "47e7541ec8645217",
   "execution_count": 227
  },
  {
   "cell_type": "code",
   "outputs": [
    {
     "name": "stdout",
     "output_type": "stream",
     "text": [
      "Epoch 1/1000\n",
      "\u001B[1m372/372\u001B[0m \u001B[32m━━━━━━━━━━━━━━━━━━━━\u001B[0m\u001B[37m\u001B[0m \u001B[1m4s\u001B[0m 5ms/step - loss: 27.2750 - val_loss: 32.4701\n",
      "Epoch 2/1000\n",
      "\u001B[1m372/372\u001B[0m \u001B[32m━━━━━━━━━━━━━━━━━━━━\u001B[0m\u001B[37m\u001B[0m \u001B[1m2s\u001B[0m 3ms/step - loss: 27.3168 - val_loss: 33.0509\n",
      "Epoch 3/1000\n",
      "\u001B[1m372/372\u001B[0m \u001B[32m━━━━━━━━━━━━━━━━━━━━\u001B[0m\u001B[37m\u001B[0m \u001B[1m2s\u001B[0m 4ms/step - loss: 27.3317 - val_loss: 35.1598\n",
      "Epoch 4/1000\n",
      "\u001B[1m372/372\u001B[0m \u001B[32m━━━━━━━━━━━━━━━━━━━━\u001B[0m\u001B[37m\u001B[0m \u001B[1m1s\u001B[0m 4ms/step - loss: 26.2418 - val_loss: 31.8511\n",
      "Epoch 5/1000\n",
      "\u001B[1m372/372\u001B[0m \u001B[32m━━━━━━━━━━━━━━━━━━━━\u001B[0m\u001B[37m\u001B[0m \u001B[1m2s\u001B[0m 4ms/step - loss: 26.2913 - val_loss: 34.0545\n",
      "Epoch 6/1000\n",
      "\u001B[1m372/372\u001B[0m \u001B[32m━━━━━━━━━━━━━━━━━━━━\u001B[0m\u001B[37m\u001B[0m \u001B[1m1s\u001B[0m 3ms/step - loss: 26.3341 - val_loss: 34.0060\n",
      "Epoch 7/1000\n",
      "\u001B[1m372/372\u001B[0m \u001B[32m━━━━━━━━━━━━━━━━━━━━\u001B[0m\u001B[37m\u001B[0m \u001B[1m1s\u001B[0m 3ms/step - loss: 26.5011 - val_loss: 31.7076\n",
      "Epoch 8/1000\n",
      "\u001B[1m372/372\u001B[0m \u001B[32m━━━━━━━━━━━━━━━━━━━━\u001B[0m\u001B[37m\u001B[0m \u001B[1m2s\u001B[0m 4ms/step - loss: 26.3869 - val_loss: 35.0189\n",
      "Epoch 9/1000\n",
      "\u001B[1m372/372\u001B[0m \u001B[32m━━━━━━━━━━━━━━━━━━━━\u001B[0m\u001B[37m\u001B[0m \u001B[1m1s\u001B[0m 3ms/step - loss: 25.4619 - val_loss: 31.4625\n",
      "Epoch 10/1000\n",
      "\u001B[1m372/372\u001B[0m \u001B[32m━━━━━━━━━━━━━━━━━━━━\u001B[0m\u001B[37m\u001B[0m \u001B[1m1s\u001B[0m 3ms/step - loss: 25.7851 - val_loss: 35.4775\n",
      "Epoch 11/1000\n",
      "\u001B[1m372/372\u001B[0m \u001B[32m━━━━━━━━━━━━━━━━━━━━\u001B[0m\u001B[37m\u001B[0m \u001B[1m1s\u001B[0m 3ms/step - loss: 25.9324 - val_loss: 32.8828\n",
      "Epoch 12/1000\n",
      "\u001B[1m372/372\u001B[0m \u001B[32m━━━━━━━━━━━━━━━━━━━━\u001B[0m\u001B[37m\u001B[0m \u001B[1m1s\u001B[0m 3ms/step - loss: 25.4719 - val_loss: 32.2219\n",
      "Epoch 13/1000\n",
      "\u001B[1m372/372\u001B[0m \u001B[32m━━━━━━━━━━━━━━━━━━━━\u001B[0m\u001B[37m\u001B[0m \u001B[1m1s\u001B[0m 3ms/step - loss: 25.1014 - val_loss: 30.9963\n",
      "Epoch 14/1000\n",
      "\u001B[1m372/372\u001B[0m \u001B[32m━━━━━━━━━━━━━━━━━━━━\u001B[0m\u001B[37m\u001B[0m \u001B[1m1s\u001B[0m 4ms/step - loss: 24.6029 - val_loss: 32.1650\n",
      "Epoch 15/1000\n",
      "\u001B[1m372/372\u001B[0m \u001B[32m━━━━━━━━━━━━━━━━━━━━\u001B[0m\u001B[37m\u001B[0m \u001B[1m1s\u001B[0m 3ms/step - loss: 26.0677 - val_loss: 33.9498\n",
      "Epoch 16/1000\n",
      "\u001B[1m372/372\u001B[0m \u001B[32m━━━━━━━━━━━━━━━━━━━━\u001B[0m\u001B[37m\u001B[0m \u001B[1m1s\u001B[0m 3ms/step - loss: 24.6227 - val_loss: 31.7946\n",
      "Epoch 17/1000\n",
      "\u001B[1m372/372\u001B[0m \u001B[32m━━━━━━━━━━━━━━━━━━━━\u001B[0m\u001B[37m\u001B[0m \u001B[1m1s\u001B[0m 3ms/step - loss: 25.5836 - val_loss: 30.8791\n",
      "Epoch 18/1000\n",
      "\u001B[1m372/372\u001B[0m \u001B[32m━━━━━━━━━━━━━━━━━━━━\u001B[0m\u001B[37m\u001B[0m \u001B[1m1s\u001B[0m 3ms/step - loss: 24.3269 - val_loss: 32.2485\n",
      "Epoch 19/1000\n",
      "\u001B[1m372/372\u001B[0m \u001B[32m━━━━━━━━━━━━━━━━━━━━\u001B[0m\u001B[37m\u001B[0m \u001B[1m1s\u001B[0m 3ms/step - loss: 24.7515 - val_loss: 32.2835\n",
      "Epoch 20/1000\n",
      "\u001B[1m372/372\u001B[0m \u001B[32m━━━━━━━━━━━━━━━━━━━━\u001B[0m\u001B[37m\u001B[0m \u001B[1m1s\u001B[0m 3ms/step - loss: 24.7282 - val_loss: 31.6727\n",
      "Epoch 21/1000\n",
      "\u001B[1m372/372\u001B[0m \u001B[32m━━━━━━━━━━━━━━━━━━━━\u001B[0m\u001B[37m\u001B[0m \u001B[1m1s\u001B[0m 4ms/step - loss: 24.0655 - val_loss: 31.9841\n",
      "Epoch 22/1000\n",
      "\u001B[1m372/372\u001B[0m \u001B[32m━━━━━━━━━━━━━━━━━━━━\u001B[0m\u001B[37m\u001B[0m \u001B[1m1s\u001B[0m 3ms/step - loss: 24.3756 - val_loss: 31.4553\n",
      "Epoch 23/1000\n",
      "\u001B[1m372/372\u001B[0m \u001B[32m━━━━━━━━━━━━━━━━━━━━\u001B[0m\u001B[37m\u001B[0m \u001B[1m1s\u001B[0m 3ms/step - loss: 24.3489 - val_loss: 32.4406\n",
      "Epoch 24/1000\n",
      "\u001B[1m372/372\u001B[0m \u001B[32m━━━━━━━━━━━━━━━━━━━━\u001B[0m\u001B[37m\u001B[0m \u001B[1m1s\u001B[0m 3ms/step - loss: 23.4509 - val_loss: 30.6655\n",
      "Epoch 25/1000\n",
      "\u001B[1m372/372\u001B[0m \u001B[32m━━━━━━━━━━━━━━━━━━━━\u001B[0m\u001B[37m\u001B[0m \u001B[1m1s\u001B[0m 3ms/step - loss: 23.1692 - val_loss: 32.1588\n",
      "Epoch 26/1000\n",
      "\u001B[1m372/372\u001B[0m \u001B[32m━━━━━━━━━━━━━━━━━━━━\u001B[0m\u001B[37m\u001B[0m \u001B[1m2s\u001B[0m 4ms/step - loss: 23.7071 - val_loss: 32.0257\n",
      "Epoch 27/1000\n",
      "\u001B[1m372/372\u001B[0m \u001B[32m━━━━━━━━━━━━━━━━━━━━\u001B[0m\u001B[37m\u001B[0m \u001B[1m1s\u001B[0m 4ms/step - loss: 23.8282 - val_loss: 29.7041\n",
      "Epoch 28/1000\n",
      "\u001B[1m372/372\u001B[0m \u001B[32m━━━━━━━━━━━━━━━━━━━━\u001B[0m\u001B[37m\u001B[0m \u001B[1m2s\u001B[0m 5ms/step - loss: 23.7018 - val_loss: 30.7340\n",
      "Epoch 29/1000\n",
      "\u001B[1m372/372\u001B[0m \u001B[32m━━━━━━━━━━━━━━━━━━━━\u001B[0m\u001B[37m\u001B[0m \u001B[1m1s\u001B[0m 3ms/step - loss: 23.6116 - val_loss: 30.9801\n",
      "Epoch 30/1000\n",
      "\u001B[1m372/372\u001B[0m \u001B[32m━━━━━━━━━━━━━━━━━━━━\u001B[0m\u001B[37m\u001B[0m \u001B[1m2s\u001B[0m 5ms/step - loss: 22.9387 - val_loss: 30.6191\n",
      "Epoch 31/1000\n",
      "\u001B[1m372/372\u001B[0m \u001B[32m━━━━━━━━━━━━━━━━━━━━\u001B[0m\u001B[37m\u001B[0m \u001B[1m1s\u001B[0m 3ms/step - loss: 23.3916 - val_loss: 32.8420\n",
      "Epoch 32/1000\n",
      "\u001B[1m372/372\u001B[0m \u001B[32m━━━━━━━━━━━━━━━━━━━━\u001B[0m\u001B[37m\u001B[0m \u001B[1m1s\u001B[0m 3ms/step - loss: 22.2379 - val_loss: 31.6023\n",
      "Epoch 33/1000\n",
      "\u001B[1m372/372\u001B[0m \u001B[32m━━━━━━━━━━━━━━━━━━━━\u001B[0m\u001B[37m\u001B[0m \u001B[1m1s\u001B[0m 3ms/step - loss: 23.3837 - val_loss: 30.5445\n",
      "Epoch 34/1000\n",
      "\u001B[1m372/372\u001B[0m \u001B[32m━━━━━━━━━━━━━━━━━━━━\u001B[0m\u001B[37m\u001B[0m \u001B[1m1s\u001B[0m 3ms/step - loss: 22.2783 - val_loss: 30.3088\n",
      "Epoch 35/1000\n",
      "\u001B[1m372/372\u001B[0m \u001B[32m━━━━━━━━━━━━━━━━━━━━\u001B[0m\u001B[37m\u001B[0m \u001B[1m1s\u001B[0m 2ms/step - loss: 22.9892 - val_loss: 30.8600\n",
      "Epoch 36/1000\n",
      "\u001B[1m372/372\u001B[0m \u001B[32m━━━━━━━━━━━━━━━━━━━━\u001B[0m\u001B[37m\u001B[0m \u001B[1m1s\u001B[0m 3ms/step - loss: 22.7672 - val_loss: 30.8919\n",
      "Epoch 37/1000\n",
      "\u001B[1m372/372\u001B[0m \u001B[32m━━━━━━━━━━━━━━━━━━━━\u001B[0m\u001B[37m\u001B[0m \u001B[1m2s\u001B[0m 5ms/step - loss: 21.3560 - val_loss: 30.9064\n",
      "Epoch 38/1000\n",
      "\u001B[1m372/372\u001B[0m \u001B[32m━━━━━━━━━━━━━━━━━━━━\u001B[0m\u001B[37m\u001B[0m \u001B[1m2s\u001B[0m 4ms/step - loss: 21.8855 - val_loss: 30.5948\n",
      "Epoch 39/1000\n",
      "\u001B[1m372/372\u001B[0m \u001B[32m━━━━━━━━━━━━━━━━━━━━\u001B[0m\u001B[37m\u001B[0m \u001B[1m2s\u001B[0m 5ms/step - loss: 21.4892 - val_loss: 30.7224\n",
      "Epoch 40/1000\n",
      "\u001B[1m372/372\u001B[0m \u001B[32m━━━━━━━━━━━━━━━━━━━━\u001B[0m\u001B[37m\u001B[0m \u001B[1m2s\u001B[0m 6ms/step - loss: 21.8693 - val_loss: 30.8719\n",
      "Epoch 41/1000\n",
      "\u001B[1m372/372\u001B[0m \u001B[32m━━━━━━━━━━━━━━━━━━━━\u001B[0m\u001B[37m\u001B[0m \u001B[1m3s\u001B[0m 8ms/step - loss: 21.4130 - val_loss: 31.7884\n",
      "Epoch 42/1000\n",
      "\u001B[1m372/372\u001B[0m \u001B[32m━━━━━━━━━━━━━━━━━━━━\u001B[0m\u001B[37m\u001B[0m \u001B[1m5s\u001B[0m 8ms/step - loss: 22.7862 - val_loss: 30.1484\n",
      "Epoch 43/1000\n",
      "\u001B[1m372/372\u001B[0m \u001B[32m━━━━━━━━━━━━━━━━━━━━\u001B[0m\u001B[37m\u001B[0m \u001B[1m6s\u001B[0m 10ms/step - loss: 21.9565 - val_loss: 31.3820\n",
      "Epoch 44/1000\n",
      "\u001B[1m372/372\u001B[0m \u001B[32m━━━━━━━━━━━━━━━━━━━━\u001B[0m\u001B[37m\u001B[0m \u001B[1m2s\u001B[0m 6ms/step - loss: 21.7179 - val_loss: 30.4954\n",
      "Epoch 45/1000\n",
      "\u001B[1m372/372\u001B[0m \u001B[32m━━━━━━━━━━━━━━━━━━━━\u001B[0m\u001B[37m\u001B[0m \u001B[1m4s\u001B[0m 11ms/step - loss: 21.6531 - val_loss: 30.5171\n",
      "Epoch 46/1000\n",
      "\u001B[1m372/372\u001B[0m \u001B[32m━━━━━━━━━━━━━━━━━━━━\u001B[0m\u001B[37m\u001B[0m \u001B[1m3s\u001B[0m 6ms/step - loss: 20.9997 - val_loss: 30.6049\n",
      "Epoch 47/1000\n",
      "\u001B[1m372/372\u001B[0m \u001B[32m━━━━━━━━━━━━━━━━━━━━\u001B[0m\u001B[37m\u001B[0m \u001B[1m2s\u001B[0m 6ms/step - loss: 21.2425 - val_loss: 30.6564\n",
      "Epoch 48/1000\n",
      "\u001B[1m372/372\u001B[0m \u001B[32m━━━━━━━━━━━━━━━━━━━━\u001B[0m\u001B[37m\u001B[0m \u001B[1m2s\u001B[0m 4ms/step - loss: 21.3417 - val_loss: 31.7555\n",
      "Epoch 49/1000\n",
      "\u001B[1m372/372\u001B[0m \u001B[32m━━━━━━━━━━━━━━━━━━━━\u001B[0m\u001B[37m\u001B[0m \u001B[1m2s\u001B[0m 4ms/step - loss: 20.6168 - val_loss: 29.9281\n",
      "Epoch 50/1000\n",
      "\u001B[1m372/372\u001B[0m \u001B[32m━━━━━━━━━━━━━━━━━━━━\u001B[0m\u001B[37m\u001B[0m \u001B[1m2s\u001B[0m 5ms/step - loss: 21.0394 - val_loss: 30.4857\n",
      "Epoch 51/1000\n",
      "\u001B[1m372/372\u001B[0m \u001B[32m━━━━━━━━━━━━━━━━━━━━\u001B[0m\u001B[37m\u001B[0m \u001B[1m1s\u001B[0m 3ms/step - loss: 20.3743 - val_loss: 30.0896\n",
      "Epoch 52/1000\n",
      "\u001B[1m372/372\u001B[0m \u001B[32m━━━━━━━━━━━━━━━━━━━━\u001B[0m\u001B[37m\u001B[0m \u001B[1m2s\u001B[0m 5ms/step - loss: 20.3935 - val_loss: 30.0021\n",
      "Epoch 53/1000\n",
      "\u001B[1m372/372\u001B[0m \u001B[32m━━━━━━━━━━━━━━━━━━━━\u001B[0m\u001B[37m\u001B[0m \u001B[1m2s\u001B[0m 4ms/step - loss: 20.6096 - val_loss: 29.9965\n",
      "Epoch 54/1000\n",
      "\u001B[1m372/372\u001B[0m \u001B[32m━━━━━━━━━━━━━━━━━━━━\u001B[0m\u001B[37m\u001B[0m \u001B[1m2s\u001B[0m 4ms/step - loss: 20.1794 - val_loss: 29.6429\n",
      "Epoch 55/1000\n",
      "\u001B[1m372/372\u001B[0m \u001B[32m━━━━━━━━━━━━━━━━━━━━\u001B[0m\u001B[37m\u001B[0m \u001B[1m2s\u001B[0m 4ms/step - loss: 19.6875 - val_loss: 29.9669\n",
      "Epoch 56/1000\n",
      "\u001B[1m372/372\u001B[0m \u001B[32m━━━━━━━━━━━━━━━━━━━━\u001B[0m\u001B[37m\u001B[0m \u001B[1m2s\u001B[0m 4ms/step - loss: 19.3018 - val_loss: 29.9613\n",
      "Epoch 57/1000\n",
      "\u001B[1m372/372\u001B[0m \u001B[32m━━━━━━━━━━━━━━━━━━━━\u001B[0m\u001B[37m\u001B[0m \u001B[1m1s\u001B[0m 4ms/step - loss: 19.7407 - val_loss: 32.2914\n",
      "Epoch 58/1000\n",
      "\u001B[1m372/372\u001B[0m \u001B[32m━━━━━━━━━━━━━━━━━━━━\u001B[0m\u001B[37m\u001B[0m \u001B[1m1s\u001B[0m 4ms/step - loss: 20.3053 - val_loss: 31.1671\n",
      "Epoch 59/1000\n",
      "\u001B[1m372/372\u001B[0m \u001B[32m━━━━━━━━━━━━━━━━━━━━\u001B[0m\u001B[37m\u001B[0m \u001B[1m2s\u001B[0m 4ms/step - loss: 20.6455 - val_loss: 31.3782\n",
      "Epoch 60/1000\n",
      "\u001B[1m372/372\u001B[0m \u001B[32m━━━━━━━━━━━━━━━━━━━━\u001B[0m\u001B[37m\u001B[0m \u001B[1m2s\u001B[0m 4ms/step - loss: 18.9322 - val_loss: 31.3549\n",
      "Epoch 61/1000\n",
      "\u001B[1m372/372\u001B[0m \u001B[32m━━━━━━━━━━━━━━━━━━━━\u001B[0m\u001B[37m\u001B[0m \u001B[1m2s\u001B[0m 4ms/step - loss: 19.1225 - val_loss: 31.3821\n",
      "Epoch 62/1000\n",
      "\u001B[1m372/372\u001B[0m \u001B[32m━━━━━━━━━━━━━━━━━━━━\u001B[0m\u001B[37m\u001B[0m \u001B[1m2s\u001B[0m 5ms/step - loss: 20.4025 - val_loss: 29.1999\n",
      "Epoch 63/1000\n",
      "\u001B[1m372/372\u001B[0m \u001B[32m━━━━━━━━━━━━━━━━━━━━\u001B[0m\u001B[37m\u001B[0m \u001B[1m3s\u001B[0m 7ms/step - loss: 18.8388 - val_loss: 31.1205\n",
      "Epoch 64/1000\n",
      "\u001B[1m372/372\u001B[0m \u001B[32m━━━━━━━━━━━━━━━━━━━━\u001B[0m\u001B[37m\u001B[0m \u001B[1m1s\u001B[0m 4ms/step - loss: 19.8609 - val_loss: 31.8154\n",
      "Epoch 65/1000\n",
      "\u001B[1m372/372\u001B[0m \u001B[32m━━━━━━━━━━━━━━━━━━━━\u001B[0m\u001B[37m\u001B[0m \u001B[1m2s\u001B[0m 5ms/step - loss: 19.6527 - val_loss: 32.4834\n",
      "Epoch 66/1000\n",
      "\u001B[1m372/372\u001B[0m \u001B[32m━━━━━━━━━━━━━━━━━━━━\u001B[0m\u001B[37m\u001B[0m \u001B[1m2s\u001B[0m 5ms/step - loss: 20.2388 - val_loss: 32.2916\n",
      "Epoch 67/1000\n",
      "\u001B[1m372/372\u001B[0m \u001B[32m━━━━━━━━━━━━━━━━━━━━\u001B[0m\u001B[37m\u001B[0m \u001B[1m1s\u001B[0m 3ms/step - loss: 19.7625 - val_loss: 29.8050\n",
      "Epoch 68/1000\n",
      "\u001B[1m372/372\u001B[0m \u001B[32m━━━━━━━━━━━━━━━━━━━━\u001B[0m\u001B[37m\u001B[0m \u001B[1m2s\u001B[0m 5ms/step - loss: 19.0488 - val_loss: 30.5000\n",
      "Epoch 69/1000\n",
      "\u001B[1m372/372\u001B[0m \u001B[32m━━━━━━━━━━━━━━━━━━━━\u001B[0m\u001B[37m\u001B[0m \u001B[1m2s\u001B[0m 4ms/step - loss: 18.6442 - val_loss: 30.3835\n",
      "Epoch 70/1000\n",
      "\u001B[1m372/372\u001B[0m \u001B[32m━━━━━━━━━━━━━━━━━━━━\u001B[0m\u001B[37m\u001B[0m \u001B[1m1s\u001B[0m 3ms/step - loss: 19.2721 - val_loss: 30.1347\n",
      "Epoch 71/1000\n",
      "\u001B[1m372/372\u001B[0m \u001B[32m━━━━━━━━━━━━━━━━━━━━\u001B[0m\u001B[37m\u001B[0m \u001B[1m1s\u001B[0m 4ms/step - loss: 18.1739 - val_loss: 29.7256\n",
      "Epoch 72/1000\n",
      "\u001B[1m372/372\u001B[0m \u001B[32m━━━━━━━━━━━━━━━━━━━━\u001B[0m\u001B[37m\u001B[0m \u001B[1m1s\u001B[0m 4ms/step - loss: 18.4321 - val_loss: 31.0899\n",
      "Epoch 73/1000\n",
      "\u001B[1m372/372\u001B[0m \u001B[32m━━━━━━━━━━━━━━━━━━━━\u001B[0m\u001B[37m\u001B[0m \u001B[1m1s\u001B[0m 3ms/step - loss: 17.8122 - val_loss: 30.2468\n",
      "Epoch 74/1000\n",
      "\u001B[1m372/372\u001B[0m \u001B[32m━━━━━━━━━━━━━━━━━━━━\u001B[0m\u001B[37m\u001B[0m \u001B[1m1s\u001B[0m 4ms/step - loss: 17.5481 - val_loss: 30.5925\n",
      "Epoch 75/1000\n",
      "\u001B[1m372/372\u001B[0m \u001B[32m━━━━━━━━━━━━━━━━━━━━\u001B[0m\u001B[37m\u001B[0m \u001B[1m1s\u001B[0m 4ms/step - loss: 18.1592 - val_loss: 30.9622\n",
      "Epoch 76/1000\n",
      "\u001B[1m372/372\u001B[0m \u001B[32m━━━━━━━━━━━━━━━━━━━━\u001B[0m\u001B[37m\u001B[0m \u001B[1m1s\u001B[0m 4ms/step - loss: 18.4587 - val_loss: 30.9580\n",
      "Epoch 77/1000\n",
      "\u001B[1m372/372\u001B[0m \u001B[32m━━━━━━━━━━━━━━━━━━━━\u001B[0m\u001B[37m\u001B[0m \u001B[1m1s\u001B[0m 3ms/step - loss: 18.1519 - val_loss: 31.1859\n",
      "Epoch 78/1000\n",
      "\u001B[1m372/372\u001B[0m \u001B[32m━━━━━━━━━━━━━━━━━━━━\u001B[0m\u001B[37m\u001B[0m \u001B[1m2s\u001B[0m 4ms/step - loss: 18.0519 - val_loss: 31.1229\n",
      "Epoch 79/1000\n",
      "\u001B[1m372/372\u001B[0m \u001B[32m━━━━━━━━━━━━━━━━━━━━\u001B[0m\u001B[37m\u001B[0m \u001B[1m1s\u001B[0m 3ms/step - loss: 18.0897 - val_loss: 30.1423\n",
      "Epoch 80/1000\n",
      "\u001B[1m372/372\u001B[0m \u001B[32m━━━━━━━━━━━━━━━━━━━━\u001B[0m\u001B[37m\u001B[0m \u001B[1m1s\u001B[0m 3ms/step - loss: 18.2240 - val_loss: 30.4948\n",
      "Epoch 81/1000\n",
      "\u001B[1m372/372\u001B[0m \u001B[32m━━━━━━━━━━━━━━━━━━━━\u001B[0m\u001B[37m\u001B[0m \u001B[1m2s\u001B[0m 4ms/step - loss: 17.8691 - val_loss: 30.2535\n",
      "Epoch 82/1000\n",
      "\u001B[1m372/372\u001B[0m \u001B[32m━━━━━━━━━━━━━━━━━━━━\u001B[0m\u001B[37m\u001B[0m \u001B[1m1s\u001B[0m 4ms/step - loss: 17.2331 - val_loss: 31.3744\n",
      "Epoch 83/1000\n",
      "\u001B[1m372/372\u001B[0m \u001B[32m━━━━━━━━━━━━━━━━━━━━\u001B[0m\u001B[37m\u001B[0m \u001B[1m1s\u001B[0m 3ms/step - loss: 16.5825 - val_loss: 31.8586\n",
      "Epoch 84/1000\n",
      "\u001B[1m372/372\u001B[0m \u001B[32m━━━━━━━━━━━━━━━━━━━━\u001B[0m\u001B[37m\u001B[0m \u001B[1m1s\u001B[0m 4ms/step - loss: 16.9614 - val_loss: 32.0883\n",
      "Epoch 85/1000\n",
      "\u001B[1m372/372\u001B[0m \u001B[32m━━━━━━━━━━━━━━━━━━━━\u001B[0m\u001B[37m\u001B[0m \u001B[1m1s\u001B[0m 4ms/step - loss: 16.4077 - val_loss: 33.0366\n",
      "Epoch 86/1000\n",
      "\u001B[1m372/372\u001B[0m \u001B[32m━━━━━━━━━━━━━━━━━━━━\u001B[0m\u001B[37m\u001B[0m \u001B[1m1s\u001B[0m 3ms/step - loss: 16.9553 - val_loss: 32.8254\n",
      "Epoch 87/1000\n",
      "\u001B[1m372/372\u001B[0m \u001B[32m━━━━━━━━━━━━━━━━━━━━\u001B[0m\u001B[37m\u001B[0m \u001B[1m1s\u001B[0m 4ms/step - loss: 16.9969 - val_loss: 32.5681\n",
      "Epoch 88/1000\n",
      "\u001B[1m372/372\u001B[0m \u001B[32m━━━━━━━━━━━━━━━━━━━━\u001B[0m\u001B[37m\u001B[0m \u001B[1m1s\u001B[0m 4ms/step - loss: 16.9362 - val_loss: 31.3670\n",
      "Epoch 89/1000\n",
      "\u001B[1m372/372\u001B[0m \u001B[32m━━━━━━━━━━━━━━━━━━━━\u001B[0m\u001B[37m\u001B[0m \u001B[1m1s\u001B[0m 3ms/step - loss: 17.1933 - val_loss: 31.1076\n",
      "Epoch 90/1000\n",
      "\u001B[1m372/372\u001B[0m \u001B[32m━━━━━━━━━━━━━━━━━━━━\u001B[0m\u001B[37m\u001B[0m \u001B[1m1s\u001B[0m 4ms/step - loss: 16.1629 - val_loss: 31.8837\n",
      "Epoch 91/1000\n",
      "\u001B[1m372/372\u001B[0m \u001B[32m━━━━━━━━━━━━━━━━━━━━\u001B[0m\u001B[37m\u001B[0m \u001B[1m2s\u001B[0m 4ms/step - loss: 16.5134 - val_loss: 31.0317\n",
      "Epoch 92/1000\n",
      "\u001B[1m372/372\u001B[0m \u001B[32m━━━━━━━━━━━━━━━━━━━━\u001B[0m\u001B[37m\u001B[0m \u001B[1m1s\u001B[0m 4ms/step - loss: 16.7018 - val_loss: 32.5962\n",
      "Epoch 93/1000\n",
      "\u001B[1m372/372\u001B[0m \u001B[32m━━━━━━━━━━━━━━━━━━━━\u001B[0m\u001B[37m\u001B[0m \u001B[1m1s\u001B[0m 4ms/step - loss: 17.0802 - val_loss: 31.3305\n",
      "Epoch 94/1000\n",
      "\u001B[1m372/372\u001B[0m \u001B[32m━━━━━━━━━━━━━━━━━━━━\u001B[0m\u001B[37m\u001B[0m \u001B[1m2s\u001B[0m 5ms/step - loss: 16.2307 - val_loss: 31.9277\n",
      "Epoch 95/1000\n",
      "\u001B[1m372/372\u001B[0m \u001B[32m━━━━━━━━━━━━━━━━━━━━\u001B[0m\u001B[37m\u001B[0m \u001B[1m2s\u001B[0m 4ms/step - loss: 16.7026 - val_loss: 30.9180\n",
      "Epoch 96/1000\n",
      "\u001B[1m372/372\u001B[0m \u001B[32m━━━━━━━━━━━━━━━━━━━━\u001B[0m\u001B[37m\u001B[0m \u001B[1m2s\u001B[0m 4ms/step - loss: 16.8837 - val_loss: 30.2316\n",
      "Epoch 97/1000\n",
      "\u001B[1m372/372\u001B[0m \u001B[32m━━━━━━━━━━━━━━━━━━━━\u001B[0m\u001B[37m\u001B[0m \u001B[1m2s\u001B[0m 4ms/step - loss: 16.0295 - val_loss: 33.3079\n",
      "Epoch 98/1000\n",
      "\u001B[1m372/372\u001B[0m \u001B[32m━━━━━━━━━━━━━━━━━━━━\u001B[0m\u001B[37m\u001B[0m \u001B[1m1s\u001B[0m 4ms/step - loss: 15.6315 - val_loss: 31.9927\n",
      "Epoch 99/1000\n",
      "\u001B[1m372/372\u001B[0m \u001B[32m━━━━━━━━━━━━━━━━━━━━\u001B[0m\u001B[37m\u001B[0m \u001B[1m1s\u001B[0m 3ms/step - loss: 15.7495 - val_loss: 32.0815\n",
      "Epoch 100/1000\n",
      "\u001B[1m372/372\u001B[0m \u001B[32m━━━━━━━━━━━━━━━━━━━━\u001B[0m\u001B[37m\u001B[0m \u001B[1m1s\u001B[0m 4ms/step - loss: 16.0941 - val_loss: 32.2094\n",
      "Epoch 101/1000\n",
      "\u001B[1m372/372\u001B[0m \u001B[32m━━━━━━━━━━━━━━━━━━━━\u001B[0m\u001B[37m\u001B[0m \u001B[1m1s\u001B[0m 3ms/step - loss: 15.7007 - val_loss: 31.1592\n",
      "Epoch 102/1000\n",
      "\u001B[1m372/372\u001B[0m \u001B[32m━━━━━━━━━━━━━━━━━━━━\u001B[0m\u001B[37m\u001B[0m \u001B[1m1s\u001B[0m 3ms/step - loss: 15.8507 - val_loss: 32.1923\n",
      "Epoch 103/1000\n",
      "\u001B[1m372/372\u001B[0m \u001B[32m━━━━━━━━━━━━━━━━━━━━\u001B[0m\u001B[37m\u001B[0m \u001B[1m1s\u001B[0m 4ms/step - loss: 15.0065 - val_loss: 31.5876\n",
      "Epoch 104/1000\n",
      "\u001B[1m372/372\u001B[0m \u001B[32m━━━━━━━━━━━━━━━━━━━━\u001B[0m\u001B[37m\u001B[0m \u001B[1m1s\u001B[0m 4ms/step - loss: 15.1828 - val_loss: 32.2164\n",
      "Epoch 105/1000\n",
      "\u001B[1m372/372\u001B[0m \u001B[32m━━━━━━━━━━━━━━━━━━━━\u001B[0m\u001B[37m\u001B[0m \u001B[1m1s\u001B[0m 3ms/step - loss: 15.6561 - val_loss: 31.0653\n",
      "Epoch 106/1000\n",
      "\u001B[1m372/372\u001B[0m \u001B[32m━━━━━━━━━━━━━━━━━━━━\u001B[0m\u001B[37m\u001B[0m \u001B[1m1s\u001B[0m 4ms/step - loss: 15.0369 - val_loss: 31.8336\n",
      "Epoch 107/1000\n",
      "\u001B[1m372/372\u001B[0m \u001B[32m━━━━━━━━━━━━━━━━━━━━\u001B[0m\u001B[37m\u001B[0m \u001B[1m1s\u001B[0m 4ms/step - loss: 15.3661 - val_loss: 34.6089\n",
      "Epoch 108/1000\n",
      "\u001B[1m372/372\u001B[0m \u001B[32m━━━━━━━━━━━━━━━━━━━━\u001B[0m\u001B[37m\u001B[0m \u001B[1m1s\u001B[0m 3ms/step - loss: 15.5809 - val_loss: 32.2642\n",
      "Epoch 109/1000\n",
      "\u001B[1m372/372\u001B[0m \u001B[32m━━━━━━━━━━━━━━━━━━━━\u001B[0m\u001B[37m\u001B[0m \u001B[1m1s\u001B[0m 3ms/step - loss: 15.3120 - val_loss: 31.9280\n",
      "Epoch 110/1000\n",
      "\u001B[1m372/372\u001B[0m \u001B[32m━━━━━━━━━━━━━━━━━━━━\u001B[0m\u001B[37m\u001B[0m \u001B[1m1s\u001B[0m 4ms/step - loss: 14.8069 - val_loss: 32.1131\n",
      "Epoch 111/1000\n",
      "\u001B[1m372/372\u001B[0m \u001B[32m━━━━━━━━━━━━━━━━━━━━\u001B[0m\u001B[37m\u001B[0m \u001B[1m1s\u001B[0m 4ms/step - loss: 14.5447 - val_loss: 32.6632\n",
      "Epoch 112/1000\n",
      "\u001B[1m372/372\u001B[0m \u001B[32m━━━━━━━━━━━━━━━━━━━━\u001B[0m\u001B[37m\u001B[0m \u001B[1m1s\u001B[0m 3ms/step - loss: 15.1710 - val_loss: 32.6918\n",
      "Epoch 113/1000\n",
      "\u001B[1m372/372\u001B[0m \u001B[32m━━━━━━━━━━━━━━━━━━━━\u001B[0m\u001B[37m\u001B[0m \u001B[1m1s\u001B[0m 4ms/step - loss: 14.4584 - val_loss: 32.8744\n",
      "Epoch 114/1000\n",
      "\u001B[1m372/372\u001B[0m \u001B[32m━━━━━━━━━━━━━━━━━━━━\u001B[0m\u001B[37m\u001B[0m \u001B[1m1s\u001B[0m 3ms/step - loss: 15.3073 - val_loss: 32.4755\n",
      "Epoch 115/1000\n",
      "\u001B[1m372/372\u001B[0m \u001B[32m━━━━━━━━━━━━━━━━━━━━\u001B[0m\u001B[37m\u001B[0m \u001B[1m1s\u001B[0m 4ms/step - loss: 15.1357 - val_loss: 32.5081\n",
      "Epoch 116/1000\n",
      "\u001B[1m372/372\u001B[0m \u001B[32m━━━━━━━━━━━━━━━━━━━━\u001B[0m\u001B[37m\u001B[0m \u001B[1m2s\u001B[0m 4ms/step - loss: 15.6792 - val_loss: 32.5710\n",
      "Epoch 117/1000\n",
      "\u001B[1m372/372\u001B[0m \u001B[32m━━━━━━━━━━━━━━━━━━━━\u001B[0m\u001B[37m\u001B[0m \u001B[1m1s\u001B[0m 3ms/step - loss: 14.2654 - val_loss: 32.7636\n",
      "Epoch 118/1000\n",
      "\u001B[1m372/372\u001B[0m \u001B[32m━━━━━━━━━━━━━━━━━━━━\u001B[0m\u001B[37m\u001B[0m \u001B[1m1s\u001B[0m 3ms/step - loss: 14.0188 - val_loss: 32.0324\n",
      "Epoch 119/1000\n",
      "\u001B[1m372/372\u001B[0m \u001B[32m━━━━━━━━━━━━━━━━━━━━\u001B[0m\u001B[37m\u001B[0m \u001B[1m1s\u001B[0m 4ms/step - loss: 14.1974 - val_loss: 31.9430\n",
      "Epoch 120/1000\n",
      "\u001B[1m372/372\u001B[0m \u001B[32m━━━━━━━━━━━━━━━━━━━━\u001B[0m\u001B[37m\u001B[0m \u001B[1m1s\u001B[0m 3ms/step - loss: 14.0253 - val_loss: 33.1339\n",
      "Epoch 121/1000\n",
      "\u001B[1m372/372\u001B[0m \u001B[32m━━━━━━━━━━━━━━━━━━━━\u001B[0m\u001B[37m\u001B[0m \u001B[1m1s\u001B[0m 3ms/step - loss: 14.8957 - val_loss: 31.9101\n",
      "Epoch 122/1000\n",
      "\u001B[1m372/372\u001B[0m \u001B[32m━━━━━━━━━━━━━━━━━━━━\u001B[0m\u001B[37m\u001B[0m \u001B[1m2s\u001B[0m 4ms/step - loss: 14.2026 - val_loss: 31.8394\n",
      "Epoch 123/1000\n",
      "\u001B[1m372/372\u001B[0m \u001B[32m━━━━━━━━━━━━━━━━━━━━\u001B[0m\u001B[37m\u001B[0m \u001B[1m1s\u001B[0m 4ms/step - loss: 13.9804 - val_loss: 32.0615\n",
      "Epoch 124/1000\n",
      "\u001B[1m372/372\u001B[0m \u001B[32m━━━━━━━━━━━━━━━━━━━━\u001B[0m\u001B[37m\u001B[0m \u001B[1m1s\u001B[0m 3ms/step - loss: 15.1074 - val_loss: 33.4157\n",
      "Epoch 125/1000\n",
      "\u001B[1m372/372\u001B[0m \u001B[32m━━━━━━━━━━━━━━━━━━━━\u001B[0m\u001B[37m\u001B[0m \u001B[1m1s\u001B[0m 4ms/step - loss: 13.6486 - val_loss: 32.6365\n",
      "Epoch 126/1000\n",
      "\u001B[1m372/372\u001B[0m \u001B[32m━━━━━━━━━━━━━━━━━━━━\u001B[0m\u001B[37m\u001B[0m \u001B[1m1s\u001B[0m 4ms/step - loss: 13.2162 - val_loss: 32.9937\n",
      "Epoch 127/1000\n",
      "\u001B[1m372/372\u001B[0m \u001B[32m━━━━━━━━━━━━━━━━━━━━\u001B[0m\u001B[37m\u001B[0m \u001B[1m2s\u001B[0m 4ms/step - loss: 13.9934 - val_loss: 32.7963\n",
      "Epoch 128/1000\n",
      "\u001B[1m372/372\u001B[0m \u001B[32m━━━━━━━━━━━━━━━━━━━━\u001B[0m\u001B[37m\u001B[0m \u001B[1m2s\u001B[0m 5ms/step - loss: 13.3703 - val_loss: 32.4219\n",
      "Epoch 129/1000\n",
      "\u001B[1m372/372\u001B[0m \u001B[32m━━━━━━━━━━━━━━━━━━━━\u001B[0m\u001B[37m\u001B[0m \u001B[1m2s\u001B[0m 4ms/step - loss: 13.8750 - val_loss: 33.7641\n",
      "Epoch 130/1000\n",
      "\u001B[1m372/372\u001B[0m \u001B[32m━━━━━━━━━━━━━━━━━━━━\u001B[0m\u001B[37m\u001B[0m \u001B[1m2s\u001B[0m 4ms/step - loss: 13.6417 - val_loss: 32.4050\n",
      "Epoch 131/1000\n",
      "\u001B[1m372/372\u001B[0m \u001B[32m━━━━━━━━━━━━━━━━━━━━\u001B[0m\u001B[37m\u001B[0m \u001B[1m2s\u001B[0m 5ms/step - loss: 12.8472 - val_loss: 32.2693\n",
      "Epoch 132/1000\n",
      "\u001B[1m372/372\u001B[0m \u001B[32m━━━━━━━━━━━━━━━━━━━━\u001B[0m\u001B[37m\u001B[0m \u001B[1m1s\u001B[0m 4ms/step - loss: 13.0894 - val_loss: 32.5882\n",
      "Epoch 133/1000\n",
      "\u001B[1m372/372\u001B[0m \u001B[32m━━━━━━━━━━━━━━━━━━━━\u001B[0m\u001B[37m\u001B[0m \u001B[1m1s\u001B[0m 3ms/step - loss: 14.2126 - val_loss: 32.8099\n",
      "Epoch 134/1000\n",
      "\u001B[1m372/372\u001B[0m \u001B[32m━━━━━━━━━━━━━━━━━━━━\u001B[0m\u001B[37m\u001B[0m \u001B[1m1s\u001B[0m 4ms/step - loss: 14.0312 - val_loss: 31.5123\n",
      "Epoch 135/1000\n",
      "\u001B[1m372/372\u001B[0m \u001B[32m━━━━━━━━━━━━━━━━━━━━\u001B[0m\u001B[37m\u001B[0m \u001B[1m2s\u001B[0m 5ms/step - loss: 12.9374 - val_loss: 32.3181\n",
      "Epoch 136/1000\n",
      "\u001B[1m372/372\u001B[0m \u001B[32m━━━━━━━━━━━━━━━━━━━━\u001B[0m\u001B[37m\u001B[0m \u001B[1m2s\u001B[0m 4ms/step - loss: 13.0895 - val_loss: 34.1177\n",
      "Epoch 137/1000\n",
      "\u001B[1m372/372\u001B[0m \u001B[32m━━━━━━━━━━━━━━━━━━━━\u001B[0m\u001B[37m\u001B[0m \u001B[1m1s\u001B[0m 3ms/step - loss: 12.7529 - val_loss: 32.1079\n",
      "Epoch 138/1000\n",
      "\u001B[1m372/372\u001B[0m \u001B[32m━━━━━━━━━━━━━━━━━━━━\u001B[0m\u001B[37m\u001B[0m \u001B[1m2s\u001B[0m 4ms/step - loss: 13.2810 - val_loss: 33.0939\n",
      "Epoch 139/1000\n",
      "\u001B[1m372/372\u001B[0m \u001B[32m━━━━━━━━━━━━━━━━━━━━\u001B[0m\u001B[37m\u001B[0m \u001B[1m1s\u001B[0m 4ms/step - loss: 13.3107 - val_loss: 33.5109\n",
      "Epoch 140/1000\n",
      "\u001B[1m372/372\u001B[0m \u001B[32m━━━━━━━━━━━━━━━━━━━━\u001B[0m\u001B[37m\u001B[0m \u001B[1m1s\u001B[0m 4ms/step - loss: 12.8404 - val_loss: 33.4906\n",
      "Epoch 141/1000\n",
      "\u001B[1m372/372\u001B[0m \u001B[32m━━━━━━━━━━━━━━━━━━━━\u001B[0m\u001B[37m\u001B[0m \u001B[1m2s\u001B[0m 5ms/step - loss: 13.1766 - val_loss: 34.2240\n",
      "Epoch 142/1000\n",
      "\u001B[1m372/372\u001B[0m \u001B[32m━━━━━━━━━━━━━━━━━━━━\u001B[0m\u001B[37m\u001B[0m \u001B[1m2s\u001B[0m 4ms/step - loss: 13.2420 - val_loss: 33.5560\n",
      "Epoch 143/1000\n",
      "\u001B[1m372/372\u001B[0m \u001B[32m━━━━━━━━━━━━━━━━━━━━\u001B[0m\u001B[37m\u001B[0m \u001B[1m2s\u001B[0m 5ms/step - loss: 11.9501 - val_loss: 32.8430\n",
      "Epoch 144/1000\n",
      "\u001B[1m372/372\u001B[0m \u001B[32m━━━━━━━━━━━━━━━━━━━━\u001B[0m\u001B[37m\u001B[0m \u001B[1m2s\u001B[0m 5ms/step - loss: 12.7861 - val_loss: 32.4527\n",
      "Epoch 145/1000\n",
      "\u001B[1m372/372\u001B[0m \u001B[32m━━━━━━━━━━━━━━━━━━━━\u001B[0m\u001B[37m\u001B[0m \u001B[1m1s\u001B[0m 4ms/step - loss: 12.4234 - val_loss: 32.7962\n",
      "Epoch 146/1000\n",
      "\u001B[1m372/372\u001B[0m \u001B[32m━━━━━━━━━━━━━━━━━━━━\u001B[0m\u001B[37m\u001B[0m \u001B[1m1s\u001B[0m 4ms/step - loss: 12.4188 - val_loss: 33.9534\n",
      "Epoch 147/1000\n",
      "\u001B[1m372/372\u001B[0m \u001B[32m━━━━━━━━━━━━━━━━━━━━\u001B[0m\u001B[37m\u001B[0m \u001B[1m2s\u001B[0m 4ms/step - loss: 12.7385 - val_loss: 34.3672\n",
      "Epoch 148/1000\n",
      "\u001B[1m372/372\u001B[0m \u001B[32m━━━━━━━━━━━━━━━━━━━━\u001B[0m\u001B[37m\u001B[0m \u001B[1m1s\u001B[0m 3ms/step - loss: 12.4072 - val_loss: 34.0259\n",
      "Epoch 149/1000\n",
      "\u001B[1m372/372\u001B[0m \u001B[32m━━━━━━━━━━━━━━━━━━━━\u001B[0m\u001B[37m\u001B[0m \u001B[1m1s\u001B[0m 4ms/step - loss: 12.8285 - val_loss: 33.2552\n",
      "Epoch 150/1000\n",
      "\u001B[1m372/372\u001B[0m \u001B[32m━━━━━━━━━━━━━━━━━━━━\u001B[0m\u001B[37m\u001B[0m \u001B[1m2s\u001B[0m 4ms/step - loss: 12.5310 - val_loss: 33.4392\n",
      "Epoch 151/1000\n",
      "\u001B[1m372/372\u001B[0m \u001B[32m━━━━━━━━━━━━━━━━━━━━\u001B[0m\u001B[37m\u001B[0m \u001B[1m1s\u001B[0m 3ms/step - loss: 13.0097 - val_loss: 33.3941\n",
      "Epoch 152/1000\n",
      "\u001B[1m372/372\u001B[0m \u001B[32m━━━━━━━━━━━━━━━━━━━━\u001B[0m\u001B[37m\u001B[0m \u001B[1m1s\u001B[0m 3ms/step - loss: 12.2463 - val_loss: 34.6232\n",
      "Epoch 153/1000\n",
      "\u001B[1m372/372\u001B[0m \u001B[32m━━━━━━━━━━━━━━━━━━━━\u001B[0m\u001B[37m\u001B[0m \u001B[1m1s\u001B[0m 4ms/step - loss: 12.4367 - val_loss: 33.7667\n",
      "Epoch 154/1000\n",
      "\u001B[1m372/372\u001B[0m \u001B[32m━━━━━━━━━━━━━━━━━━━━\u001B[0m\u001B[37m\u001B[0m \u001B[1m1s\u001B[0m 3ms/step - loss: 12.3811 - val_loss: 33.6307\n",
      "Epoch 155/1000\n",
      "\u001B[1m372/372\u001B[0m \u001B[32m━━━━━━━━━━━━━━━━━━━━\u001B[0m\u001B[37m\u001B[0m \u001B[1m1s\u001B[0m 4ms/step - loss: 11.7214 - val_loss: 32.7815\n",
      "Epoch 156/1000\n",
      "\u001B[1m372/372\u001B[0m \u001B[32m━━━━━━━━━━━━━━━━━━━━\u001B[0m\u001B[37m\u001B[0m \u001B[1m2s\u001B[0m 5ms/step - loss: 12.3941 - val_loss: 34.1196\n",
      "Epoch 157/1000\n",
      "\u001B[1m372/372\u001B[0m \u001B[32m━━━━━━━━━━━━━━━━━━━━\u001B[0m\u001B[37m\u001B[0m \u001B[1m2s\u001B[0m 4ms/step - loss: 11.6485 - val_loss: 32.7771\n",
      "Epoch 158/1000\n",
      "\u001B[1m372/372\u001B[0m \u001B[32m━━━━━━━━━━━━━━━━━━━━\u001B[0m\u001B[37m\u001B[0m \u001B[1m1s\u001B[0m 3ms/step - loss: 12.3574 - val_loss: 33.1540\n",
      "Epoch 159/1000\n",
      "\u001B[1m372/372\u001B[0m \u001B[32m━━━━━━━━━━━━━━━━━━━━\u001B[0m\u001B[37m\u001B[0m \u001B[1m1s\u001B[0m 3ms/step - loss: 11.4079 - val_loss: 33.4922\n",
      "Epoch 160/1000\n",
      "\u001B[1m372/372\u001B[0m \u001B[32m━━━━━━━━━━━━━━━━━━━━\u001B[0m\u001B[37m\u001B[0m \u001B[1m1s\u001B[0m 3ms/step - loss: 12.2540 - val_loss: 33.1718\n",
      "Epoch 161/1000\n",
      "\u001B[1m372/372\u001B[0m \u001B[32m━━━━━━━━━━━━━━━━━━━━\u001B[0m\u001B[37m\u001B[0m \u001B[1m2s\u001B[0m 4ms/step - loss: 12.4496 - val_loss: 33.6530\n",
      "Epoch 162/1000\n",
      "\u001B[1m372/372\u001B[0m \u001B[32m━━━━━━━━━━━━━━━━━━━━\u001B[0m\u001B[37m\u001B[0m \u001B[1m2s\u001B[0m 4ms/step - loss: 12.0958 - val_loss: 33.6221\n"
     ]
    },
    {
     "data": {
      "text/plain": "<keras.src.callbacks.history.History at 0x194856e80>"
     },
     "execution_count": 228,
     "metadata": {},
     "output_type": "execute_result"
    }
   ],
   "source": [
    "nn_model_site2.fit(X_s2_train, y_s2_train, epochs=1000, validation_data=(X_s2_val,y_s2_val), callbacks=[callback])"
   ],
   "metadata": {
    "collapsed": false,
    "ExecuteTime": {
     "end_time": "2025-01-27T23:54:01.588917Z",
     "start_time": "2025-01-27T23:49:46.468300Z"
    }
   },
   "id": "8d6f130ecef27abe",
   "execution_count": 228
  },
  {
   "cell_type": "code",
   "outputs": [
    {
     "name": "stdout",
     "output_type": "stream",
     "text": [
      "\u001B[1m224/224\u001B[0m \u001B[32m━━━━━━━━━━━━━━━━━━━━\u001B[0m\u001B[37m\u001B[0m \u001B[1m1s\u001B[0m 2ms/step\n",
      "MAE: 3.2957139015197754\n",
      "RMSE: 5.297323652413355\n",
      "R2: 0.788433313369751\n",
      "Accuracy: 62.22 %\n",
      "average hourly connectedCars site 1: 12.034740307601592\n",
      "average hourly connectedCars site 2: 8.724066913248151\n"
     ]
    }
   ],
   "source": [
    "nn_pred_site2 = nn_model_site2.predict(X_s2_test)\n",
    "\n",
    "# Calculate MAE, RMSE and r2\n",
    "nn_mae_s2 = mean_absolute_error(y_s2_test,nn_pred_site2)\n",
    "nn_rmse_s2 = mean_squared_error(y_s2_test,nn_pred_site2)**0.5\n",
    "nn_r2_s2 = r2_score(y_s2_test, nn_pred_site2)\n",
    "mean_site1_connectedCars = predictionDF_site1[\"connectedCars\"].mean()\n",
    "mean_site2_connectedCars = predictionDF_site2[\"connectedCars\"].mean()\n",
    "\n",
    "print(\"MAE:\", nn_mae_s2)\n",
    "print(\"RMSE:\", nn_rmse_s2)\n",
    "print(\"R2:\", nn_r2_s2)\n",
    "print(\"Accuracy:\", round((1-(nn_mae_s2/predictionDF_site2[\"connectedCars\"].mean()))*100,2), \"%\")\n",
    "print(\"average hourly connectedCars site 1:\", mean_site1_connectedCars)\n",
    "print(\"average hourly connectedCars site 2:\", mean_site2_connectedCars)"
   ],
   "metadata": {
    "collapsed": false,
    "ExecuteTime": {
     "end_time": "2025-01-27T23:54:02.515129Z",
     "start_time": "2025-01-27T23:54:01.578144Z"
    }
   },
   "id": "ad56de99f3fd97a2",
   "execution_count": 229
  }
 ],
 "metadata": {
  "kernelspec": {
   "display_name": "Python 3",
   "language": "python",
   "name": "python3"
  },
  "language_info": {
   "codemirror_mode": {
    "name": "ipython",
    "version": 2
   },
   "file_extension": ".py",
   "mimetype": "text/x-python",
   "name": "python",
   "nbconvert_exporter": "python",
   "pygments_lexer": "ipython2",
   "version": "2.7.6"
  }
 },
 "nbformat": 4,
 "nbformat_minor": 5
}
