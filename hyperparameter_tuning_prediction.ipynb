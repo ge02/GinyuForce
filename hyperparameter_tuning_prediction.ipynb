{
 "cells": [
  {
   "cell_type": "code",
   "execution_count": 125,
   "id": "initial_id",
   "metadata": {
    "collapsed": true,
    "ExecuteTime": {
     "end_time": "2025-01-28T10:47:02.126685Z",
     "start_time": "2025-01-28T10:47:01.337212Z"
    }
   },
   "outputs": [],
   "source": [
    "\n",
    "\n",
    "import pandas as pd\n",
    "import seaborn as sns\n",
    "import matplotlib.pyplot as plt\n",
    "import math\n",
    "import numpy as np\n",
    "\n",
    "from scipy.stats import loguniform\n",
    "from sklearn.tree import DecisionTreeRegressor\n",
    "from sklearn.linear_model import Lasso\n",
    "from sklearn import metrics\n",
    "from sklearn.metrics import mean_squared_error, mean_absolute_error, r2_score\n",
    "from sklearn.ensemble import RandomForestRegressor\n",
    "from sklearn.pipeline import Pipeline\n",
    "from sklearn.compose import ColumnTransformer\n",
    "from sklearn.preprocessing import OneHotEncoder, StandardScaler\n",
    "from sklearn.model_selection import RandomizedSearchCV, RepeatedStratifiedKFold, train_test_split\n",
    "\n",
    "# Import keras libraries\n",
    "import tensorflow\n",
    "from tensorflow import keras\n",
    "from keras import layers\n",
    "import keras_tuner\n",
    "from keras_tuner.tuners import Hyperband\n",
    "import IPython\n",
    "\n",
    "import warnings\n",
    "from pandas.errors import SettingWithCopyWarning\n",
    "warnings.simplefilter(action=\"ignore\", category=SettingWithCopyWarning)\n",
    "\n",
    "# import dataset (which we created in Task 1)\n",
    "# dfPhiladelphiaIncluding0TripsUniqueHours = pd.read_csv(\"data/exports/dfPhiladelphiaIncluding0TripsUniqueHours.csv.zip\")\n",
    "# dfPhiladelphiaIncluding0TripsUniqueHours.info()"
   ]
  },
  {
   "cell_type": "code",
   "outputs": [],
   "source": [
    "# read in dataset\n",
    "charging_set_complete = pd.read_csv(\"data/cleaned_charging_set_new.csv\")"
   ],
   "metadata": {
    "collapsed": false,
    "ExecuteTime": {
     "end_time": "2025-01-28T10:47:03.346109Z",
     "start_time": "2025-01-28T10:47:02.132084Z"
    }
   },
   "id": "77a26448a4ceed9b",
   "execution_count": 126
  },
  {
   "cell_type": "code",
   "outputs": [],
   "source": [
    "# read in dataset\n",
    "weather_set = pd.read_csv(\"data/cleaned_weather_set.csv\")"
   ],
   "metadata": {
    "collapsed": false,
    "ExecuteTime": {
     "end_time": "2025-01-28T10:47:03.651690Z",
     "start_time": "2025-01-28T10:47:03.327106Z"
    }
   },
   "id": "ec1656cd851f062a",
   "execution_count": 127
  },
  {
   "cell_type": "code",
   "outputs": [],
   "source": [
    "# seperate data into site 1 and site 2\n",
    "charging_set_site1 = charging_set_complete[charging_set_complete[\"siteID\"] == 1]\n",
    "charging_set_site2 = charging_set_complete[charging_set_complete[\"siteID\"] == 2]"
   ],
   "metadata": {
    "collapsed": false,
    "ExecuteTime": {
     "end_time": "2025-01-28T10:47:03.718355Z",
     "start_time": "2025-01-28T10:47:03.476179Z"
    }
   },
   "id": "88f9b88dd5fba1a5",
   "execution_count": 128
  },
  {
   "cell_type": "code",
   "outputs": [
    {
     "data": {
      "text/plain": "                       hour\n0 2018-09-05 11:00:00+00:00\n1 2018-09-05 12:00:00+00:00\n2 2018-09-05 13:00:00+00:00\n3 2018-09-05 14:00:00+00:00\n4 2018-09-05 15:00:00+00:00",
      "text/html": "<div>\n<style scoped>\n    .dataframe tbody tr th:only-of-type {\n        vertical-align: middle;\n    }\n\n    .dataframe tbody tr th {\n        vertical-align: top;\n    }\n\n    .dataframe thead th {\n        text-align: right;\n    }\n</style>\n<table border=\"1\" class=\"dataframe\">\n  <thead>\n    <tr style=\"text-align: right;\">\n      <th></th>\n      <th>hour</th>\n    </tr>\n  </thead>\n  <tbody>\n    <tr>\n      <th>0</th>\n      <td>2018-09-05 11:00:00+00:00</td>\n    </tr>\n    <tr>\n      <th>1</th>\n      <td>2018-09-05 12:00:00+00:00</td>\n    </tr>\n    <tr>\n      <th>2</th>\n      <td>2018-09-05 13:00:00+00:00</td>\n    </tr>\n    <tr>\n      <th>3</th>\n      <td>2018-09-05 14:00:00+00:00</td>\n    </tr>\n    <tr>\n      <th>4</th>\n      <td>2018-09-05 15:00:00+00:00</td>\n    </tr>\n  </tbody>\n</table>\n</div>"
     },
     "execution_count": 129,
     "metadata": {},
     "output_type": "execute_result"
    }
   ],
   "source": [
    "# Create a copy of the DataFrame to avoid the warning\n",
    "charging_set_site1 = charging_set_site1.copy()\n",
    "\n",
    "# Convert to datetime\n",
    "charging_set_site1[\"connectionTime\"] = pd.to_datetime(charging_set_site1[\"connectionTime\"])\n",
    "charging_set_site1[\"disconnectTime\"] = pd.to_datetime(charging_set_site1[\"disconnectTime\"])\n",
    "\n",
    "# Sort ascending\n",
    "charging_set_site1 = charging_set_site1.sort_values(by=\"connectionTime\").reset_index(drop=True)\n",
    "\n",
    "# Set min and max time\n",
    "min_time = charging_set_site1[\"connectionTime\"].min().floor(\"h\")\n",
    "max_time = charging_set_site1[\"disconnectTime\"].max().ceil(\"h\")\n",
    "\n",
    "# Create DataFrame for every hour\n",
    "hours_df = pd.DataFrame({\"hour\": pd.date_range(start=min_time, end=max_time, freq=\"h\")})\n",
    "hours_df.head()\n"
   ],
   "metadata": {
    "collapsed": false,
    "ExecuteTime": {
     "end_time": "2025-01-28T10:47:03.938430Z",
     "start_time": "2025-01-28T10:47:03.531110Z"
    }
   },
   "id": "83114cdbe1dc46b7",
   "execution_count": 129
  },
  {
   "cell_type": "code",
   "outputs": [
    {
     "data": {
      "text/plain": "                       hour\n0 2018-04-25 11:00:00+00:00\n1 2018-04-25 12:00:00+00:00\n2 2018-04-25 13:00:00+00:00\n3 2018-04-25 14:00:00+00:00\n4 2018-04-25 15:00:00+00:00",
      "text/html": "<div>\n<style scoped>\n    .dataframe tbody tr th:only-of-type {\n        vertical-align: middle;\n    }\n\n    .dataframe tbody tr th {\n        vertical-align: top;\n    }\n\n    .dataframe thead th {\n        text-align: right;\n    }\n</style>\n<table border=\"1\" class=\"dataframe\">\n  <thead>\n    <tr style=\"text-align: right;\">\n      <th></th>\n      <th>hour</th>\n    </tr>\n  </thead>\n  <tbody>\n    <tr>\n      <th>0</th>\n      <td>2018-04-25 11:00:00+00:00</td>\n    </tr>\n    <tr>\n      <th>1</th>\n      <td>2018-04-25 12:00:00+00:00</td>\n    </tr>\n    <tr>\n      <th>2</th>\n      <td>2018-04-25 13:00:00+00:00</td>\n    </tr>\n    <tr>\n      <th>3</th>\n      <td>2018-04-25 14:00:00+00:00</td>\n    </tr>\n    <tr>\n      <th>4</th>\n      <td>2018-04-25 15:00:00+00:00</td>\n    </tr>\n  </tbody>\n</table>\n</div>"
     },
     "execution_count": 130,
     "metadata": {},
     "output_type": "execute_result"
    }
   ],
   "source": [
    "# Combine date and time columns into single datetime columns\n",
    "charging_set_site2 = charging_set_site2.copy()\n",
    "\n",
    "charging_set_site2[\"connectionTime\"] = pd.to_datetime(charging_set_site2[\"connectionTime\"])\n",
    "charging_set_site2[\"disconnectTime\"] = pd.to_datetime(charging_set_site2[\"disconnectTime\"])\n",
    "# sort ascending\n",
    "charging_set_site2 = charging_set_site2.sort_values(by='connectionTime').reset_index(drop=True)\n",
    "# set min and max time \n",
    "min_time = charging_set_site2['connectionTime'].min().floor('h')\n",
    "max_time = charging_set_site2['disconnectTime'].max().ceil('h')\n",
    "# create df\n",
    "hours_df2 = pd.DataFrame({'hour': pd.date_range(start=min_time, end=max_time, freq='h')})\n",
    "hours_df2.head()\n"
   ],
   "metadata": {
    "collapsed": false,
    "ExecuteTime": {
     "end_time": "2025-01-28T10:47:04.277689Z",
     "start_time": "2025-01-28T10:47:03.749895Z"
    }
   },
   "id": "a1fb7f322f138ab6",
   "execution_count": 130
  },
  {
   "cell_type": "markdown",
   "source": [
    "Now we want to create our target variables that we want to predict later. For this we create 2 values:\n",
    "- connectedCars: the number of active charging sessions for each other\n",
    "    - utilization: the actual number of minutes that was charged for each hour\n",
    "\n",
    "The utiliaztion column effectivly sums up the active charging minutes for each hour and divides that by the maximum number of minutes that could be charged. In case of sitze 1 for example that would mean 60x52 = 3120 are the max charging miinutes for this site per hour. If we divide the minutes of active sessions by this value, we get the precise percentage of the charging site utilization."
   ],
   "metadata": {
    "collapsed": false
   },
   "id": "7dacf0f7993f3d4b"
  },
  {
   "cell_type": "markdown",
   "source": [
    "# CALCULATION FOR SITE 1"
   ],
   "metadata": {
    "collapsed": false
   },
   "id": "c176247dd73b5ec7"
  },
  {
   "cell_type": "code",
   "outputs": [
    {
     "data": {
      "text/plain": "                       hour  utilization  connectedCars\n0 2018-09-05 11:00:00+00:00     0.034498              2\n1 2018-09-05 12:00:00+00:00     0.049119              4\n2 2018-09-05 13:00:00+00:00     0.139071             10\n3 2018-09-05 14:00:00+00:00     0.260994             15\n4 2018-09-05 15:00:00+00:00     0.269231             14",
      "text/html": "<div>\n<style scoped>\n    .dataframe tbody tr th:only-of-type {\n        vertical-align: middle;\n    }\n\n    .dataframe tbody tr th {\n        vertical-align: top;\n    }\n\n    .dataframe thead th {\n        text-align: right;\n    }\n</style>\n<table border=\"1\" class=\"dataframe\">\n  <thead>\n    <tr style=\"text-align: right;\">\n      <th></th>\n      <th>hour</th>\n      <th>utilization</th>\n      <th>connectedCars</th>\n    </tr>\n  </thead>\n  <tbody>\n    <tr>\n      <th>0</th>\n      <td>2018-09-05 11:00:00+00:00</td>\n      <td>0.034498</td>\n      <td>2</td>\n    </tr>\n    <tr>\n      <th>1</th>\n      <td>2018-09-05 12:00:00+00:00</td>\n      <td>0.049119</td>\n      <td>4</td>\n    </tr>\n    <tr>\n      <th>2</th>\n      <td>2018-09-05 13:00:00+00:00</td>\n      <td>0.139071</td>\n      <td>10</td>\n    </tr>\n    <tr>\n      <th>3</th>\n      <td>2018-09-05 14:00:00+00:00</td>\n      <td>0.260994</td>\n      <td>15</td>\n    </tr>\n    <tr>\n      <th>4</th>\n      <td>2018-09-05 15:00:00+00:00</td>\n      <td>0.269231</td>\n      <td>14</td>\n    </tr>\n  </tbody>\n</table>\n</div>"
     },
     "execution_count": 131,
     "metadata": {},
     "output_type": "execute_result"
    }
   ],
   "source": [
    "\n",
    "\n",
    "# Number of spaces (total available spaces site 1)\n",
    "total_spaces = 52\n",
    "\n",
    "# Function to calculate active session minutes for each hour\n",
    "def calculate_utilization(hour, charging_set_site1, total_spaces):\n",
    "    start_of_hour = hour\n",
    "    end_of_hour = hour + pd.Timedelta(hours=1)\n",
    "\n",
    "    # Filter sessions active during this hour\n",
    "    active_sessions = charging_set_site1[\n",
    "        (charging_set_site1['connectionTime'] < end_of_hour) & (charging_set_site1['disconnectTime'] > start_of_hour)\n",
    "        ]\n",
    "\n",
    "    # Calculate active minutes for each session\n",
    "    active_minutes = 0\n",
    "    for _, session in active_sessions.iterrows():\n",
    "        session_start = max(session['connectionTime'], start_of_hour)\n",
    "        session_end = min(session['disconnectTime'], end_of_hour)\n",
    "        active_minutes += (session_end - session_start).total_seconds() / 60  # Convert to minutes\n",
    "\n",
    "    # count number of cars\n",
    "    connected_cars = len(active_sessions)\n",
    "    # Utilization as a percentage\n",
    "    possible_minutes = total_spaces * 60  # 60 minutes per hour per space\n",
    "    utilization = active_minutes / possible_minutes if possible_minutes > 0 else 0\n",
    "    return utilization, connected_cars\n",
    "\n",
    "\n",
    "# Compute utilization column\n",
    "hours_df['utilization'] = hours_df['hour'].apply(\n",
    "    lambda h: calculate_utilization(h, charging_set_site1, total_spaces)[0]\n",
    ")\n",
    "\n",
    "# Compute connectedCars column\n",
    "hours_df['connectedCars'] = hours_df['hour'].apply(\n",
    "    lambda h: calculate_utilization(h, charging_set_site1, total_spaces)[1]\n",
    ")\n",
    "\n",
    "# Display results\n",
    "hours_df.head()\n"
   ],
   "metadata": {
    "collapsed": false,
    "ExecuteTime": {
     "end_time": "2025-01-28T10:49:05.189822Z",
     "start_time": "2025-01-28T10:47:04.022485Z"
    }
   },
   "id": "e747c1da49a85c95",
   "execution_count": 131
  },
  {
   "cell_type": "markdown",
   "source": [
    "# CALCULATION FOR SITE 2"
   ],
   "metadata": {
    "collapsed": false
   },
   "id": "3af908f139778b18"
  },
  {
   "cell_type": "code",
   "outputs": [
    {
     "data": {
      "text/plain": "                       hour  utilization  connectedCars\n0 2018-04-25 11:00:00+00:00     0.016029              1\n1 2018-04-25 12:00:00+00:00     0.018519              1\n2 2018-04-25 13:00:00+00:00     0.015175              3\n3 2018-04-25 14:00:00+00:00     0.059378              7\n4 2018-04-25 15:00:00+00:00     0.253596             22",
      "text/html": "<div>\n<style scoped>\n    .dataframe tbody tr th:only-of-type {\n        vertical-align: middle;\n    }\n\n    .dataframe tbody tr th {\n        vertical-align: top;\n    }\n\n    .dataframe thead th {\n        text-align: right;\n    }\n</style>\n<table border=\"1\" class=\"dataframe\">\n  <thead>\n    <tr style=\"text-align: right;\">\n      <th></th>\n      <th>hour</th>\n      <th>utilization</th>\n      <th>connectedCars</th>\n    </tr>\n  </thead>\n  <tbody>\n    <tr>\n      <th>0</th>\n      <td>2018-04-25 11:00:00+00:00</td>\n      <td>0.016029</td>\n      <td>1</td>\n    </tr>\n    <tr>\n      <th>1</th>\n      <td>2018-04-25 12:00:00+00:00</td>\n      <td>0.018519</td>\n      <td>1</td>\n    </tr>\n    <tr>\n      <th>2</th>\n      <td>2018-04-25 13:00:00+00:00</td>\n      <td>0.015175</td>\n      <td>3</td>\n    </tr>\n    <tr>\n      <th>3</th>\n      <td>2018-04-25 14:00:00+00:00</td>\n      <td>0.059378</td>\n      <td>7</td>\n    </tr>\n    <tr>\n      <th>4</th>\n      <td>2018-04-25 15:00:00+00:00</td>\n      <td>0.253596</td>\n      <td>22</td>\n    </tr>\n  </tbody>\n</table>\n</div>"
     },
     "execution_count": 132,
     "metadata": {},
     "output_type": "execute_result"
    }
   ],
   "source": [
    "# Number of spaces (total available spaces site 1)\n",
    "total_spaces = 54\n",
    "\n",
    "# Function to calculate active session minutes for each hour\n",
    "def calculate_utilization(hour, charging_set_site2, total_spaces):\n",
    "    start_of_hour = hour\n",
    "    end_of_hour = hour + pd.Timedelta(hours=1)\n",
    "\n",
    "    # Filter sessions active during this hour\n",
    "    active_sessions = charging_set_site2[\n",
    "        (charging_set_site2['connectionTime'] < end_of_hour) & (charging_set_site2['disconnectTime'] > start_of_hour)\n",
    "        ]\n",
    "\n",
    "    # Calculate active minutes for each session\n",
    "    active_minutes = 0\n",
    "    for _, session in active_sessions.iterrows():\n",
    "        session_start = max(session['connectionTime'], start_of_hour)\n",
    "        session_end = min(session['disconnectTime'], end_of_hour)\n",
    "        active_minutes += (session_end - session_start).total_seconds() / 60  # Convert to minutes\n",
    "\n",
    "    # count number of cars\n",
    "    connected_cars = len(active_sessions)\n",
    "    # Utilization as a percentage\n",
    "    possible_minutes = total_spaces * 60  # 60 minutes per hour per space\n",
    "    utilization = active_minutes / possible_minutes if possible_minutes > 0 else 0\n",
    "    return utilization, connected_cars\n",
    "\n",
    "\n",
    "# Compute utilization column\n",
    "hours_df2['utilization'] = hours_df2['hour'].apply(\n",
    "    lambda h: calculate_utilization(h, charging_set_site2, total_spaces)[0]\n",
    ")\n",
    "\n",
    "# Compute connectedCars column\n",
    "hours_df2['connectedCars'] = hours_df2['hour'].apply(\n",
    "    lambda h: calculate_utilization(h, charging_set_site2, total_spaces)[1]\n",
    ")\n",
    "\n",
    "# Display results\n",
    "hours_df2.head()\n"
   ],
   "metadata": {
    "collapsed": false,
    "ExecuteTime": {
     "end_time": "2025-01-28T10:50:53.638574Z",
     "start_time": "2025-01-28T10:49:05.216966Z"
    }
   },
   "id": "9fc1f31364c47e83",
   "execution_count": 132
  },
  {
   "cell_type": "markdown",
   "source": [
    "# MERGE TARGET VARIABLE AND WEATHER DATASET"
   ],
   "metadata": {
    "collapsed": false
   },
   "id": "23c8bec5fe7ad1cb"
  },
  {
   "cell_type": "code",
   "outputs": [],
   "source": [
    "# transform column to the same format\n",
    "hours_df[\"hour\"] = hours_df[\"hour\"].dt.tz_localize(None)\n",
    "hours_df2[\"hour\"] = hours_df2[\"hour\"].dt.tz_localize(None)\n",
    "\n",
    "# Convert the \"timestamp\" column in the weather data to datetime\n",
    "weather_set[\"timestamp\"] = pd.to_datetime(weather_set[\"timestamp\"])\n",
    "\n",
    "# Round the weather data timestamps to the nearest hour\n",
    "weather_set[\"timestamp\"] = weather_set[\"timestamp\"].dt.floor(\"h\")\n",
    "\n",
    "# Merge the datasets based on the \"timestamp\" column\n",
    "merged_data_site1 = pd.merge(hours_df, weather_set, left_on=\"hour\", right_on=\"timestamp\", how=\"left\")\n",
    "merged_data_site2 = pd.merge(hours_df2, weather_set, left_on=\"hour\", right_on=\"timestamp\", how=\"left\")\n",
    "# Drop the redundant \"timestamp\" column from the weather data after merging\n",
    "merged_data_site1 = merged_data_site1.drop(columns=[\"timestamp\"])\n",
    "merged_data_site2 = merged_data_site2.drop(columns=[\"timestamp\"])"
   ],
   "metadata": {
    "collapsed": false,
    "ExecuteTime": {
     "end_time": "2025-01-28T10:50:53.821991Z",
     "start_time": "2025-01-28T10:50:53.659679Z"
    }
   },
   "id": "3db67a9f2de1d032",
   "execution_count": 133
  },
  {
   "cell_type": "code",
   "outputs": [
    {
     "name": "stdout",
     "output_type": "stream",
     "text": [
      "2300 2300\n"
     ]
    }
   ],
   "source": [
    "start_date = \"2020-08-02\"\n",
    "end_date = \"2020-10-31\"\n",
    "\n",
    "filtered_data = merged_data_site1.loc[\n",
    "    (merged_data_site1['hour'] >= pd.to_datetime(start_date)) &\n",
    "    (merged_data_site1['hour'] <= pd.to_datetime(end_date))\n",
    "    ]\n",
    "filtered_data2 = merged_data_site2.loc[\n",
    "    (merged_data_site2['hour'] >= pd.to_datetime(start_date)) &\n",
    "    (merged_data_site2['hour'] <= pd.to_datetime(end_date))\n",
    "    ]\n",
    "print(len(filtered_data),len(filtered_data2))"
   ],
   "metadata": {
    "collapsed": false,
    "ExecuteTime": {
     "end_time": "2025-01-28T10:50:53.835237Z",
     "start_time": "2025-01-28T10:50:53.771962Z"
    }
   },
   "id": "6a0c8aeaa83fc137",
   "execution_count": 134
  },
  {
   "cell_type": "code",
   "outputs": [],
   "source": [
    "merged_data_site1 = merged_data_site1.loc[\n",
    "    ~((merged_data_site1['hour'] >= pd.to_datetime(start_date)) &\n",
    "      (merged_data_site1['hour'] <= pd.to_datetime(end_date)))\n",
    "]\n",
    "merged_data_site2 = merged_data_site2.loc[\n",
    "    ~((merged_data_site2['hour'] >= pd.to_datetime(start_date)) &\n",
    "      (merged_data_site2['hour'] <= pd.to_datetime(end_date)))\n",
    "]"
   ],
   "metadata": {
    "collapsed": false,
    "ExecuteTime": {
     "end_time": "2025-01-28T10:50:53.949650Z",
     "start_time": "2025-01-28T10:50:53.804798Z"
    }
   },
   "id": "163b790ab92b78e6",
   "execution_count": 135
  },
  {
   "cell_type": "markdown",
   "source": [
    "# FEATURE ENGINEERING"
   ],
   "metadata": {
    "collapsed": false
   },
   "id": "d92448ca2acb5e5a"
  },
  {
   "cell_type": "markdown",
   "source": [
    "CREATE NEW FEATURES FOR SITE 1"
   ],
   "metadata": {
    "collapsed": false
   },
   "id": "ea5defd541fc279c"
  },
  {
   "cell_type": "code",
   "outputs": [
    {
     "data": {
      "text/plain": "                 hour  utilization  connectedCars     city  temperature  \\\n0 2018-09-05 11:00:00     0.034498              2  Burbank         19.0   \n1 2018-09-05 12:00:00     0.049119              4  Burbank         19.0   \n2 2018-09-05 13:00:00     0.139071             10  Burbank         19.0   \n3 2018-09-05 13:00:00     0.139071             10  Burbank         19.0   \n4 2018-09-05 14:00:00     0.260994             15  Burbank         19.0   \n\n   cloud_cover cloud_cover_description  pressure  windspeed  precipitation  \\\n0         26.0                  Cloudy    984.83        6.0            0.0   \n1         26.0                  Cloudy    985.49        6.0            0.0   \n2         28.0           Mostly Cloudy    986.15        7.0            0.0   \n3         28.0           Mostly Cloudy    986.15        7.0            0.0   \n4         28.0           Mostly Cloudy    986.81        0.0            0.0   \n\n   ...  thunder  thunder_in_vicinity  cloudy  smoke  covid weekday  Season  \\\n0  ...      0.0                  0.0     1.0    0.0      0       2     3.0   \n1  ...      0.0                  0.0     1.0    0.0      0       2     3.0   \n2  ...      0.0                  0.0     1.0    0.0      0       2     3.0   \n3  ...      0.0                  0.0     1.0    0.0      0       2     3.0   \n4  ...      0.0                  0.0     1.0    0.0      0       2     3.0   \n\n   Weekday/Weekend  time_of_day  hour_of_day  \n0                0            1           11  \n1                0            2           12  \n2                0            2           13  \n3                0            2           13  \n4                0            2           14  \n\n[5 rows x 38 columns]",
      "text/html": "<div>\n<style scoped>\n    .dataframe tbody tr th:only-of-type {\n        vertical-align: middle;\n    }\n\n    .dataframe tbody tr th {\n        vertical-align: top;\n    }\n\n    .dataframe thead th {\n        text-align: right;\n    }\n</style>\n<table border=\"1\" class=\"dataframe\">\n  <thead>\n    <tr style=\"text-align: right;\">\n      <th></th>\n      <th>hour</th>\n      <th>utilization</th>\n      <th>connectedCars</th>\n      <th>city</th>\n      <th>temperature</th>\n      <th>cloud_cover</th>\n      <th>cloud_cover_description</th>\n      <th>pressure</th>\n      <th>windspeed</th>\n      <th>precipitation</th>\n      <th>...</th>\n      <th>thunder</th>\n      <th>thunder_in_vicinity</th>\n      <th>cloudy</th>\n      <th>smoke</th>\n      <th>covid</th>\n      <th>weekday</th>\n      <th>Season</th>\n      <th>Weekday/Weekend</th>\n      <th>time_of_day</th>\n      <th>hour_of_day</th>\n    </tr>\n  </thead>\n  <tbody>\n    <tr>\n      <th>0</th>\n      <td>2018-09-05 11:00:00</td>\n      <td>0.034498</td>\n      <td>2</td>\n      <td>Burbank</td>\n      <td>19.0</td>\n      <td>26.0</td>\n      <td>Cloudy</td>\n      <td>984.83</td>\n      <td>6.0</td>\n      <td>0.0</td>\n      <td>...</td>\n      <td>0.0</td>\n      <td>0.0</td>\n      <td>1.0</td>\n      <td>0.0</td>\n      <td>0</td>\n      <td>2</td>\n      <td>3.0</td>\n      <td>0</td>\n      <td>1</td>\n      <td>11</td>\n    </tr>\n    <tr>\n      <th>1</th>\n      <td>2018-09-05 12:00:00</td>\n      <td>0.049119</td>\n      <td>4</td>\n      <td>Burbank</td>\n      <td>19.0</td>\n      <td>26.0</td>\n      <td>Cloudy</td>\n      <td>985.49</td>\n      <td>6.0</td>\n      <td>0.0</td>\n      <td>...</td>\n      <td>0.0</td>\n      <td>0.0</td>\n      <td>1.0</td>\n      <td>0.0</td>\n      <td>0</td>\n      <td>2</td>\n      <td>3.0</td>\n      <td>0</td>\n      <td>2</td>\n      <td>12</td>\n    </tr>\n    <tr>\n      <th>2</th>\n      <td>2018-09-05 13:00:00</td>\n      <td>0.139071</td>\n      <td>10</td>\n      <td>Burbank</td>\n      <td>19.0</td>\n      <td>28.0</td>\n      <td>Mostly Cloudy</td>\n      <td>986.15</td>\n      <td>7.0</td>\n      <td>0.0</td>\n      <td>...</td>\n      <td>0.0</td>\n      <td>0.0</td>\n      <td>1.0</td>\n      <td>0.0</td>\n      <td>0</td>\n      <td>2</td>\n      <td>3.0</td>\n      <td>0</td>\n      <td>2</td>\n      <td>13</td>\n    </tr>\n    <tr>\n      <th>3</th>\n      <td>2018-09-05 13:00:00</td>\n      <td>0.139071</td>\n      <td>10</td>\n      <td>Burbank</td>\n      <td>19.0</td>\n      <td>28.0</td>\n      <td>Mostly Cloudy</td>\n      <td>986.15</td>\n      <td>7.0</td>\n      <td>0.0</td>\n      <td>...</td>\n      <td>0.0</td>\n      <td>0.0</td>\n      <td>1.0</td>\n      <td>0.0</td>\n      <td>0</td>\n      <td>2</td>\n      <td>3.0</td>\n      <td>0</td>\n      <td>2</td>\n      <td>13</td>\n    </tr>\n    <tr>\n      <th>4</th>\n      <td>2018-09-05 14:00:00</td>\n      <td>0.260994</td>\n      <td>15</td>\n      <td>Burbank</td>\n      <td>19.0</td>\n      <td>28.0</td>\n      <td>Mostly Cloudy</td>\n      <td>986.81</td>\n      <td>0.0</td>\n      <td>0.0</td>\n      <td>...</td>\n      <td>0.0</td>\n      <td>0.0</td>\n      <td>1.0</td>\n      <td>0.0</td>\n      <td>0</td>\n      <td>2</td>\n      <td>3.0</td>\n      <td>0</td>\n      <td>2</td>\n      <td>14</td>\n    </tr>\n  </tbody>\n</table>\n<p>5 rows × 38 columns</p>\n</div>"
     },
     "execution_count": 136,
     "metadata": {},
     "output_type": "execute_result"
    }
   ],
   "source": [
    "# create season column and weekend/weekday column and covvid column\n",
    "merged_data_site1[\"hour\"] = pd.to_datetime(merged_data_site1[\"hour\"])\n",
    "# Add covid column\n",
    "merged_data_site1[\"covid\"] = merged_data_site1[\"hour\"].apply(lambda x: 0 if x < pd.Timestamp(\"2020-03-01\") else 1)\n",
    "\n",
    "merged_data_site1[\"weekday\"] = merged_data_site1[\"hour\"].apply(lambda x: x.weekday())\n",
    "\n",
    "# Function to map months to seasons\n",
    "def get_season(month):\n",
    "    if month in [12, 1, 2]:\n",
    "        return \"Winter\"\n",
    "    elif month in [3, 4, 5]:\n",
    "        return \"Spring\"\n",
    "    elif month in [6, 7, 8]:\n",
    "        return \"Summer\"\n",
    "    elif month in [9, 10,11]:\n",
    "        return \"Fall\"\n",
    "    return np.nan\n",
    "\n",
    "# Apply the season mapping\n",
    "merged_data_site1[\"Season\"] = merged_data_site1[\"date_month\"].apply(get_season)\n",
    "\n",
    "# Add weekday/weekend column \n",
    "merged_data_site1[\"Weekday/Weekend\"] = merged_data_site1[\"hour\"].apply(lambda x: 1 if x.weekday()>=5 else 0)\n",
    "# Mapping seasons to numeric values\n",
    "season_mapping = {\"Winter\": 0, \"Spring\": 1, \"Summer\": 2, \"Fall\": 3}\n",
    "merged_data_site1[\"Season\"] = merged_data_site1[\"Season\"].map(season_mapping)\n",
    "\n",
    "\n",
    "# create df column for time of day\n",
    "def assign_category(hour):\n",
    "    if hour >= 23 or hour < 6:\n",
    "        return 0  # Night\n",
    "    elif 6 <= hour < 12:\n",
    "        return 1  # Morning\n",
    "    elif 12 <= hour < 18:\n",
    "        return 2  # Afternoon\n",
    "    else:\n",
    "        return 3  # Evening\n",
    "\n",
    "# Apply the function to create a new column\n",
    "merged_data_site1[\"time_of_day\"] = merged_data_site1[\"hour\"].dt.hour.apply(assign_category)\n",
    "\n",
    "# create  precise hour of day column\n",
    "merged_data_site1[\"hour_of_day\"] = merged_data_site1[\"hour\"].dt.hour\n",
    "\n",
    "# Resulting DataFrame\n",
    "merged_data_site1.head()\n"
   ],
   "metadata": {
    "collapsed": false,
    "ExecuteTime": {
     "end_time": "2025-01-28T10:50:54.208523Z",
     "start_time": "2025-01-28T10:50:53.867451Z"
    }
   },
   "id": "d00d25ef1baca012",
   "execution_count": 136
  },
  {
   "cell_type": "code",
   "outputs": [],
   "source": [
    "# drop NaN values\n",
    "merged_data_site1 = merged_data_site1.dropna()\n",
    "merged_data_site2 = merged_data_site2.dropna()"
   ],
   "metadata": {
    "collapsed": false,
    "ExecuteTime": {
     "end_time": "2025-01-28T10:50:54.279967Z",
     "start_time": "2025-01-28T10:50:54.215459Z"
    }
   },
   "id": "4b51112bdc2bbda4",
   "execution_count": 137
  },
  {
   "cell_type": "code",
   "outputs": [],
   "source": [],
   "metadata": {
    "collapsed": false,
    "ExecuteTime": {
     "end_time": "2025-01-28T10:50:54.325719Z",
     "start_time": "2025-01-28T10:50:54.246604Z"
    }
   },
   "id": "d2997a6469301a0a",
   "execution_count": 137
  },
  {
   "cell_type": "code",
   "outputs": [],
   "source": [
    "start_date = \"2020-08-02\"\n",
    "end_date = \"2020-10-31\"\n",
    "\n",
    "filtered_data = merged_data_site1.loc[\n",
    "    (merged_data_site1['hour'] >= pd.to_datetime(start_date)) &\n",
    "    (merged_data_site1['hour'] <= pd.to_datetime(end_date))\n",
    "    ]\n",
    "filtered_data2 = merged_data_site2.loc[\n",
    "    (merged_data_site2['hour'] >= pd.to_datetime(start_date)) &\n",
    "    (merged_data_site2['hour'] <= pd.to_datetime(end_date))\n",
    "    ]\n",
    "# print(len(filtered_data),len(filtered_data2))"
   ],
   "metadata": {
    "collapsed": false,
    "ExecuteTime": {
     "end_time": "2025-01-28T10:50:54.445955Z",
     "start_time": "2025-01-28T10:50:54.263049Z"
    }
   },
   "id": "4cdf22e98b1b6635",
   "execution_count": 138
  },
  {
   "cell_type": "code",
   "outputs": [
    {
     "name": "stdout",
     "output_type": "stream",
     "text": [
      "0 0\n"
     ]
    }
   ],
   "source": [
    "zero_connected_cars_count = filtered_data[filtered_data['connectedCars'] == 0].shape[0]\n",
    "zero_connected_cars_count2 = filtered_data2[filtered_data2['connectedCars'] == 0].shape[0]\n",
    "print(zero_connected_cars_count,zero_connected_cars_count2)"
   ],
   "metadata": {
    "collapsed": false,
    "ExecuteTime": {
     "end_time": "2025-01-28T10:50:54.456552Z",
     "start_time": "2025-01-28T10:50:54.285820Z"
    }
   },
   "id": "f784dd31435aaef1",
   "execution_count": 139
  },
  {
   "cell_type": "markdown",
   "source": [
    "## REMOVE DATA GAP FROM AUGUST 2020 UNTIL OKTOBER 2020"
   ],
   "metadata": {
    "collapsed": false
   },
   "id": "28af69849f85e1f"
  },
  {
   "cell_type": "code",
   "outputs": [],
   "source": [
    "merged_data_site1 = merged_data_site1.loc[\n",
    "    ~((merged_data_site1['hour'] >= pd.to_datetime(start_date)) &\n",
    "      (merged_data_site1['hour'] <= pd.to_datetime(end_date)))\n",
    "]\n",
    "merged_data_site2 = merged_data_site2.loc[\n",
    "    ~((merged_data_site2['hour'] >= pd.to_datetime(start_date)) &\n",
    "      (merged_data_site2['hour'] <= pd.to_datetime(end_date)))\n",
    "]"
   ],
   "metadata": {
    "collapsed": false,
    "ExecuteTime": {
     "end_time": "2025-01-28T10:50:54.497795Z",
     "start_time": "2025-01-28T10:50:54.300013Z"
    }
   },
   "id": "396645f1f990b90a",
   "execution_count": 140
  },
  {
   "cell_type": "markdown",
   "source": [
    "# CREATE NEW FEATURES FOR SITE 1"
   ],
   "metadata": {
    "collapsed": false
   },
   "id": "55fd540b8ce85c9a"
  },
  {
   "cell_type": "code",
   "outputs": [
    {
     "data": {
      "text/plain": "                 hour  utilization  connectedCars     city  temperature  \\\n0 2018-09-05 11:00:00     0.034498              2  Burbank         19.0   \n1 2018-09-05 12:00:00     0.049119              4  Burbank         19.0   \n2 2018-09-05 13:00:00     0.139071             10  Burbank         19.0   \n3 2018-09-05 13:00:00     0.139071             10  Burbank         19.0   \n4 2018-09-05 14:00:00     0.260994             15  Burbank         19.0   \n\n   cloud_cover cloud_cover_description  pressure  windspeed  precipitation  \\\n0         26.0                  Cloudy    984.83        6.0            0.0   \n1         26.0                  Cloudy    985.49        6.0            0.0   \n2         28.0           Mostly Cloudy    986.15        7.0            0.0   \n3         28.0           Mostly Cloudy    986.15        7.0            0.0   \n4         28.0           Mostly Cloudy    986.81        0.0            0.0   \n\n   ...  thunder  thunder_in_vicinity  cloudy  smoke  covid weekday  Season  \\\n0  ...      0.0                  0.0     1.0    0.0      0       2       3   \n1  ...      0.0                  0.0     1.0    0.0      0       2       3   \n2  ...      0.0                  0.0     1.0    0.0      0       2       3   \n3  ...      0.0                  0.0     1.0    0.0      0       2       3   \n4  ...      0.0                  0.0     1.0    0.0      0       2       3   \n\n   Weekday/Weekend  time_of_day  hour_of_day  \n0                0            1           11  \n1                0            2           12  \n2                0            2           13  \n3                0            2           13  \n4                0            2           14  \n\n[5 rows x 38 columns]",
      "text/html": "<div>\n<style scoped>\n    .dataframe tbody tr th:only-of-type {\n        vertical-align: middle;\n    }\n\n    .dataframe tbody tr th {\n        vertical-align: top;\n    }\n\n    .dataframe thead th {\n        text-align: right;\n    }\n</style>\n<table border=\"1\" class=\"dataframe\">\n  <thead>\n    <tr style=\"text-align: right;\">\n      <th></th>\n      <th>hour</th>\n      <th>utilization</th>\n      <th>connectedCars</th>\n      <th>city</th>\n      <th>temperature</th>\n      <th>cloud_cover</th>\n      <th>cloud_cover_description</th>\n      <th>pressure</th>\n      <th>windspeed</th>\n      <th>precipitation</th>\n      <th>...</th>\n      <th>thunder</th>\n      <th>thunder_in_vicinity</th>\n      <th>cloudy</th>\n      <th>smoke</th>\n      <th>covid</th>\n      <th>weekday</th>\n      <th>Season</th>\n      <th>Weekday/Weekend</th>\n      <th>time_of_day</th>\n      <th>hour_of_day</th>\n    </tr>\n  </thead>\n  <tbody>\n    <tr>\n      <th>0</th>\n      <td>2018-09-05 11:00:00</td>\n      <td>0.034498</td>\n      <td>2</td>\n      <td>Burbank</td>\n      <td>19.0</td>\n      <td>26.0</td>\n      <td>Cloudy</td>\n      <td>984.83</td>\n      <td>6.0</td>\n      <td>0.0</td>\n      <td>...</td>\n      <td>0.0</td>\n      <td>0.0</td>\n      <td>1.0</td>\n      <td>0.0</td>\n      <td>0</td>\n      <td>2</td>\n      <td>3</td>\n      <td>0</td>\n      <td>1</td>\n      <td>11</td>\n    </tr>\n    <tr>\n      <th>1</th>\n      <td>2018-09-05 12:00:00</td>\n      <td>0.049119</td>\n      <td>4</td>\n      <td>Burbank</td>\n      <td>19.0</td>\n      <td>26.0</td>\n      <td>Cloudy</td>\n      <td>985.49</td>\n      <td>6.0</td>\n      <td>0.0</td>\n      <td>...</td>\n      <td>0.0</td>\n      <td>0.0</td>\n      <td>1.0</td>\n      <td>0.0</td>\n      <td>0</td>\n      <td>2</td>\n      <td>3</td>\n      <td>0</td>\n      <td>2</td>\n      <td>12</td>\n    </tr>\n    <tr>\n      <th>2</th>\n      <td>2018-09-05 13:00:00</td>\n      <td>0.139071</td>\n      <td>10</td>\n      <td>Burbank</td>\n      <td>19.0</td>\n      <td>28.0</td>\n      <td>Mostly Cloudy</td>\n      <td>986.15</td>\n      <td>7.0</td>\n      <td>0.0</td>\n      <td>...</td>\n      <td>0.0</td>\n      <td>0.0</td>\n      <td>1.0</td>\n      <td>0.0</td>\n      <td>0</td>\n      <td>2</td>\n      <td>3</td>\n      <td>0</td>\n      <td>2</td>\n      <td>13</td>\n    </tr>\n    <tr>\n      <th>3</th>\n      <td>2018-09-05 13:00:00</td>\n      <td>0.139071</td>\n      <td>10</td>\n      <td>Burbank</td>\n      <td>19.0</td>\n      <td>28.0</td>\n      <td>Mostly Cloudy</td>\n      <td>986.15</td>\n      <td>7.0</td>\n      <td>0.0</td>\n      <td>...</td>\n      <td>0.0</td>\n      <td>0.0</td>\n      <td>1.0</td>\n      <td>0.0</td>\n      <td>0</td>\n      <td>2</td>\n      <td>3</td>\n      <td>0</td>\n      <td>2</td>\n      <td>13</td>\n    </tr>\n    <tr>\n      <th>4</th>\n      <td>2018-09-05 14:00:00</td>\n      <td>0.260994</td>\n      <td>15</td>\n      <td>Burbank</td>\n      <td>19.0</td>\n      <td>28.0</td>\n      <td>Mostly Cloudy</td>\n      <td>986.81</td>\n      <td>0.0</td>\n      <td>0.0</td>\n      <td>...</td>\n      <td>0.0</td>\n      <td>0.0</td>\n      <td>1.0</td>\n      <td>0.0</td>\n      <td>0</td>\n      <td>2</td>\n      <td>3</td>\n      <td>0</td>\n      <td>2</td>\n      <td>14</td>\n    </tr>\n  </tbody>\n</table>\n<p>5 rows × 38 columns</p>\n</div>"
     },
     "execution_count": 141,
     "metadata": {},
     "output_type": "execute_result"
    }
   ],
   "source": [
    "# create season column and weekend/weekday column and covvid column\n",
    "merged_data_site1[\"hour\"] = pd.to_datetime(merged_data_site1[\"hour\"])\n",
    "# Add covid column\n",
    "merged_data_site1[\"covid\"] = merged_data_site1[\"hour\"].apply(lambda x: 0 if x < pd.Timestamp(\"2020-03-01\") else 1)\n",
    "\n",
    "merged_data_site1[\"weekday\"] = merged_data_site1[\"hour\"].apply(lambda x: x.weekday())\n",
    "\n",
    "# Function to map months to seasons\n",
    "def get_season(month):\n",
    "    if month in [12, 1, 2]:\n",
    "        return \"Winter\"\n",
    "    elif month in [3, 4, 5]:\n",
    "        return \"Spring\"\n",
    "    elif month in [6, 7, 8]:\n",
    "        return \"Summer\"\n",
    "    elif month in [9, 10,11]:\n",
    "        return \"Fall\"\n",
    "    return np.nan\n",
    "\n",
    "# Apply the season mapping\n",
    "merged_data_site1[\"Season\"] = merged_data_site1[\"date_month\"].apply(get_season)\n",
    "\n",
    "# Add weekday/weekend column \n",
    "merged_data_site1[\"Weekday/Weekend\"] = merged_data_site1[\"hour\"].apply(lambda x: 1 if x.weekday()>=5 else 0)\n",
    "# Mapping seasons to numeric values\n",
    "season_mapping = {\"Winter\": 0, \"Spring\": 1, \"Summer\": 2, \"Fall\": 3}\n",
    "merged_data_site1[\"Season\"] = merged_data_site1[\"Season\"].map(season_mapping)\n",
    "\n",
    "\n",
    "# create df column for time of day\n",
    "def assign_category(hour):\n",
    "    if hour >= 23 or hour < 6:\n",
    "        return 0  # Night\n",
    "    elif 6 <= hour < 12:\n",
    "        return 1  # Morning\n",
    "    elif 12 <= hour < 18:\n",
    "        return 2  # Afternoon\n",
    "    else:\n",
    "        return 3  # Evening\n",
    "\n",
    "# Apply the function to create a new column\n",
    "merged_data_site1[\"time_of_day\"] = merged_data_site1[\"hour\"].dt.hour.apply(assign_category)\n",
    "\n",
    "# create  precise hour of day column\n",
    "merged_data_site1[\"hour_of_day\"] = merged_data_site1[\"hour\"].dt.hour\n",
    "\n",
    "# Resulting DataFrame\n",
    "merged_data_site1.head()\n"
   ],
   "metadata": {
    "collapsed": false,
    "ExecuteTime": {
     "end_time": "2025-01-28T10:50:54.641059Z",
     "start_time": "2025-01-28T10:50:54.341165Z"
    }
   },
   "id": "a4742f74df7ec109",
   "execution_count": 141
  },
  {
   "cell_type": "markdown",
   "source": [
    "# CREATE NEW FEATURES FOR SITE 2"
   ],
   "metadata": {
    "collapsed": false
   },
   "id": "27a95871e4aa0f77"
  },
  {
   "cell_type": "code",
   "outputs": [
    {
     "data": {
      "text/plain": "                 hour  utilization  connectedCars     city  temperature  \\\n0 2018-04-25 11:00:00     0.016029              1  Burbank         12.0   \n1 2018-04-25 12:00:00     0.018519              1  Burbank         12.0   \n2 2018-04-25 12:00:00     0.018519              1  Burbank         12.0   \n3 2018-04-25 13:00:00     0.015175              3  Burbank         12.0   \n4 2018-04-25 13:00:00     0.015175              3  Burbank         12.0   \n\n   cloud_cover cloud_cover_description  pressure  windspeed  precipitation  \\\n0         27.0           Mostly Cloudy    989.11        6.0            0.0   \n1         27.0           Mostly Cloudy    989.11        7.0            0.0   \n2         28.0           Mostly Cloudy    989.11        9.0            0.0   \n3         20.0                     Fog    989.44        9.0            0.0   \n4         20.0                     Fog    989.44        7.0            0.0   \n\n   ...  thunder  thunder_in_vicinity  cloudy  smoke  covid weekday  Season  \\\n0  ...      0.0                  0.0     1.0    0.0      0       2       1   \n1  ...      0.0                  0.0     1.0    0.0      0       2       1   \n2  ...      0.0                  0.0     1.0    0.0      0       2       1   \n3  ...      0.0                  0.0     0.0    0.0      0       2       1   \n4  ...      0.0                  0.0     0.0    0.0      0       2       1   \n\n   Weekday/Weekend  time_of_day  hour_of_day  \n0                0            1           11  \n1                0            2           12  \n2                0            2           12  \n3                0            2           13  \n4                0            2           13  \n\n[5 rows x 38 columns]",
      "text/html": "<div>\n<style scoped>\n    .dataframe tbody tr th:only-of-type {\n        vertical-align: middle;\n    }\n\n    .dataframe tbody tr th {\n        vertical-align: top;\n    }\n\n    .dataframe thead th {\n        text-align: right;\n    }\n</style>\n<table border=\"1\" class=\"dataframe\">\n  <thead>\n    <tr style=\"text-align: right;\">\n      <th></th>\n      <th>hour</th>\n      <th>utilization</th>\n      <th>connectedCars</th>\n      <th>city</th>\n      <th>temperature</th>\n      <th>cloud_cover</th>\n      <th>cloud_cover_description</th>\n      <th>pressure</th>\n      <th>windspeed</th>\n      <th>precipitation</th>\n      <th>...</th>\n      <th>thunder</th>\n      <th>thunder_in_vicinity</th>\n      <th>cloudy</th>\n      <th>smoke</th>\n      <th>covid</th>\n      <th>weekday</th>\n      <th>Season</th>\n      <th>Weekday/Weekend</th>\n      <th>time_of_day</th>\n      <th>hour_of_day</th>\n    </tr>\n  </thead>\n  <tbody>\n    <tr>\n      <th>0</th>\n      <td>2018-04-25 11:00:00</td>\n      <td>0.016029</td>\n      <td>1</td>\n      <td>Burbank</td>\n      <td>12.0</td>\n      <td>27.0</td>\n      <td>Mostly Cloudy</td>\n      <td>989.11</td>\n      <td>6.0</td>\n      <td>0.0</td>\n      <td>...</td>\n      <td>0.0</td>\n      <td>0.0</td>\n      <td>1.0</td>\n      <td>0.0</td>\n      <td>0</td>\n      <td>2</td>\n      <td>1</td>\n      <td>0</td>\n      <td>1</td>\n      <td>11</td>\n    </tr>\n    <tr>\n      <th>1</th>\n      <td>2018-04-25 12:00:00</td>\n      <td>0.018519</td>\n      <td>1</td>\n      <td>Burbank</td>\n      <td>12.0</td>\n      <td>27.0</td>\n      <td>Mostly Cloudy</td>\n      <td>989.11</td>\n      <td>7.0</td>\n      <td>0.0</td>\n      <td>...</td>\n      <td>0.0</td>\n      <td>0.0</td>\n      <td>1.0</td>\n      <td>0.0</td>\n      <td>0</td>\n      <td>2</td>\n      <td>1</td>\n      <td>0</td>\n      <td>2</td>\n      <td>12</td>\n    </tr>\n    <tr>\n      <th>2</th>\n      <td>2018-04-25 12:00:00</td>\n      <td>0.018519</td>\n      <td>1</td>\n      <td>Burbank</td>\n      <td>12.0</td>\n      <td>28.0</td>\n      <td>Mostly Cloudy</td>\n      <td>989.11</td>\n      <td>9.0</td>\n      <td>0.0</td>\n      <td>...</td>\n      <td>0.0</td>\n      <td>0.0</td>\n      <td>1.0</td>\n      <td>0.0</td>\n      <td>0</td>\n      <td>2</td>\n      <td>1</td>\n      <td>0</td>\n      <td>2</td>\n      <td>12</td>\n    </tr>\n    <tr>\n      <th>3</th>\n      <td>2018-04-25 13:00:00</td>\n      <td>0.015175</td>\n      <td>3</td>\n      <td>Burbank</td>\n      <td>12.0</td>\n      <td>20.0</td>\n      <td>Fog</td>\n      <td>989.44</td>\n      <td>9.0</td>\n      <td>0.0</td>\n      <td>...</td>\n      <td>0.0</td>\n      <td>0.0</td>\n      <td>0.0</td>\n      <td>0.0</td>\n      <td>0</td>\n      <td>2</td>\n      <td>1</td>\n      <td>0</td>\n      <td>2</td>\n      <td>13</td>\n    </tr>\n    <tr>\n      <th>4</th>\n      <td>2018-04-25 13:00:00</td>\n      <td>0.015175</td>\n      <td>3</td>\n      <td>Burbank</td>\n      <td>12.0</td>\n      <td>20.0</td>\n      <td>Fog</td>\n      <td>989.44</td>\n      <td>7.0</td>\n      <td>0.0</td>\n      <td>...</td>\n      <td>0.0</td>\n      <td>0.0</td>\n      <td>0.0</td>\n      <td>0.0</td>\n      <td>0</td>\n      <td>2</td>\n      <td>1</td>\n      <td>0</td>\n      <td>2</td>\n      <td>13</td>\n    </tr>\n  </tbody>\n</table>\n<p>5 rows × 38 columns</p>\n</div>"
     },
     "execution_count": 142,
     "metadata": {},
     "output_type": "execute_result"
    }
   ],
   "source": [
    "# create season column and weekend/weekday column and covvid column\n",
    "merged_data_site2[\"hour\"] = pd.to_datetime(merged_data_site2[\"hour\"])\n",
    "# Add covid column\n",
    "merged_data_site2[\"covid\"] = merged_data_site2[\"hour\"].apply(lambda x: 0 if x < pd.Timestamp(\"2020-03-01\") else 1)\n",
    "\n",
    "merged_data_site2[\"weekday\"] = merged_data_site2[\"hour\"].apply(lambda x: x.weekday())\n",
    "\n",
    "# Function to map months to seasons\n",
    "def get_season(month):\n",
    "    if month in [12, 1, 2]:\n",
    "        return \"Winter\"\n",
    "    elif month in [3, 4, 5]:\n",
    "        return \"Spring\"\n",
    "    elif month in [6, 7, 8]:\n",
    "        return \"Summer\"\n",
    "    elif month in [9, 10,11]:\n",
    "        return \"Fall\"\n",
    "    return np.nan\n",
    "\n",
    "# Apply the season mapping\n",
    "merged_data_site2[\"Season\"] = merged_data_site2[\"date_month\"].apply(get_season)\n",
    "\n",
    "# Add weekday/weekend column \n",
    "merged_data_site2[\"Weekday/Weekend\"] = merged_data_site2[\"hour\"].apply(lambda x: 1 if x.weekday()>=5 else 0)\n",
    "# Mapping seasons to numeric values\n",
    "season_mapping = {\"Winter\": 0, \"Spring\": 1, \"Summer\": 2, \"Fall\": 3}\n",
    "merged_data_site2[\"Season\"] = merged_data_site2[\"Season\"].map(season_mapping)\n",
    "\n",
    "\n",
    "# create df column for time of day\n",
    "def assign_category(hour):\n",
    "    if hour >= 23 or hour < 6:\n",
    "        return 0  # Night\n",
    "    elif 6 <= hour < 12:\n",
    "        return 1  # Morning\n",
    "    elif 12 <= hour < 18:\n",
    "        return 2  # Afternoon\n",
    "    else:\n",
    "        return 3  # Evening\n",
    "\n",
    "# Apply the function to create a new column\n",
    "merged_data_site2[\"time_of_day\"] = merged_data_site2[\"hour\"].dt.hour.apply(assign_category)\n",
    "\n",
    "# create  precise hour of day column\n",
    "merged_data_site2[\"hour_of_day\"] = merged_data_site2[\"hour\"].dt.hour\n",
    "# Resulting DataFrame\n",
    "merged_data_site2.head()\n"
   ],
   "metadata": {
    "collapsed": false,
    "ExecuteTime": {
     "end_time": "2025-01-28T10:50:55.020705Z",
     "start_time": "2025-01-28T10:50:54.668905Z"
    }
   },
   "id": "c128d573f5ba9812",
   "execution_count": 142
  },
  {
   "cell_type": "markdown",
   "source": [
    "## REMOVE CITY & CLOUD_COVER_DESCRIPTION FROM DATASET"
   ],
   "metadata": {
    "collapsed": false
   },
   "id": "647921ec90e22ce0"
  },
  {
   "cell_type": "code",
   "outputs": [
    {
     "name": "stdout",
     "output_type": "stream",
     "text": [
      "merged data site 1: Index(['hour', 'utilization', 'connectedCars', 'city', 'temperature',\n",
      "       'cloud_cover', 'cloud_cover_description', 'pressure', 'windspeed',\n",
      "       'precipitation', 'felt_temperature', 'temperature_difference',\n",
      "       'date_year', 'date_month', 'date_day', 'time', 'mostly', 'heavy', 'fog',\n",
      "       'windy', 'blowing_dust', 'fair', 'haze', 'partly', 'rain',\n",
      "       'light_rain_thunder', 'light', 't-storm', 'thunder',\n",
      "       'thunder_in_vicinity', 'cloudy', 'smoke', 'covid', 'weekday', 'Season',\n",
      "       'Weekday/Weekend', 'time_of_day', 'hour_of_day'],\n",
      "      dtype='object')\n",
      "merged data site 2: Index(['hour', 'utilization', 'connectedCars', 'city', 'temperature',\n",
      "       'cloud_cover', 'cloud_cover_description', 'pressure', 'windspeed',\n",
      "       'precipitation', 'felt_temperature', 'temperature_difference',\n",
      "       'date_year', 'date_month', 'date_day', 'time', 'mostly', 'heavy', 'fog',\n",
      "       'windy', 'blowing_dust', 'fair', 'haze', 'partly', 'rain',\n",
      "       'light_rain_thunder', 'light', 't-storm', 'thunder',\n",
      "       'thunder_in_vicinity', 'cloudy', 'smoke', 'covid', 'weekday', 'Season',\n",
      "       'Weekday/Weekend', 'time_of_day', 'hour_of_day'],\n",
      "      dtype='object')\n"
     ]
    }
   ],
   "source": [
    "print(\"merged data site 1:\", merged_data_site1.columns)\n",
    "print(\"merged data site 2:\", merged_data_site2.columns)"
   ],
   "metadata": {
    "collapsed": false,
    "ExecuteTime": {
     "end_time": "2025-01-28T10:50:55.242256Z",
     "start_time": "2025-01-28T10:50:55.030215Z"
    }
   },
   "id": "f2c410770519a63d",
   "execution_count": 143
  },
  {
   "cell_type": "code",
   "outputs": [],
   "source": [
    "merged_data_site1.drop(columns=['city', 'cloud_cover_description', 'hour', 'time'], axis=1, inplace=True)\n",
    "merged_data_site2.drop(columns=['city', 'cloud_cover_description', 'hour', 'time'], axis=1, inplace=True)"
   ],
   "metadata": {
    "collapsed": false,
    "ExecuteTime": {
     "end_time": "2025-01-28T10:50:55.246131Z",
     "start_time": "2025-01-28T10:50:55.068681Z"
    }
   },
   "id": "643afd2229eb09f7",
   "execution_count": 144
  },
  {
   "cell_type": "markdown",
   "source": [
    "# FEATURE SELECTION FOR SITE 1"
   ],
   "metadata": {
    "collapsed": false
   },
   "id": "3b978c99e78e3934"
  },
  {
   "cell_type": "code",
   "outputs": [
    {
     "name": "stdout",
     "output_type": "stream",
     "text": [
      "Correlation with connectedCars:\n",
      "connectedCars             1.000000\n",
      "utilization               0.990622\n",
      "hour_of_day               0.437645\n",
      "time_of_day               0.382096\n",
      "felt_temperature          0.227559\n",
      "temperature               0.226119\n",
      "windspeed                 0.148586\n",
      "haze                      0.067633\n",
      "temperature_difference    0.036858\n",
      "precipitation             0.032606\n",
      "t-storm                   0.032275\n",
      "cloud_cover               0.026339\n",
      "partly                    0.025046\n",
      "heavy                     0.022425\n",
      "thunder                   0.017620\n",
      "rain                      0.012352\n",
      "pressure                  0.010597\n",
      "windy                     0.010358\n",
      "light                     0.008150\n",
      "Season                    0.006217\n",
      "fair                     -0.000765\n",
      "mostly                   -0.005502\n",
      "fog                      -0.008564\n",
      "date_day                 -0.016239\n",
      "cloudy                   -0.023917\n",
      "smoke                    -0.026620\n",
      "date_month               -0.040711\n",
      "date_year                -0.174011\n",
      "covid                    -0.274274\n",
      "weekday                  -0.305036\n",
      "Weekday/Weekend          -0.358943\n",
      "blowing_dust                   NaN\n",
      "light_rain_thunder             NaN\n",
      "thunder_in_vicinity            NaN\n",
      "Name: connectedCars, dtype: float64\n"
     ]
    }
   ],
   "source": [
    "\n",
    "# Compute correlation matrix\n",
    "correlation_matrix = merged_data_site1.corr()\n",
    "\n",
    "\n",
    "# Correlation with target feature\n",
    "target_correlation = correlation_matrix['connectedCars'].sort_values(ascending=False)\n",
    "print(\"Correlation with connectedCars:\")\n",
    "print(target_correlation)\n"
   ],
   "metadata": {
    "collapsed": false,
    "ExecuteTime": {
     "end_time": "2025-01-28T10:50:55.332115Z",
     "start_time": "2025-01-28T10:50:55.094311Z"
    }
   },
   "id": "9c43f47ab29902e2",
   "execution_count": 145
  },
  {
   "cell_type": "code",
   "outputs": [
    {
     "data": {
      "text/plain": "<Figure size 1200x800 with 2 Axes>",
      "image/png": "[encoded data removed]"
     },
     "metadata": {},
     "output_type": "display_data"
    }
   ],
   "source": [
    "# compute correlation and display correlation for newly selected features\n",
    "predictionDF_site1 = merged_data_site1[[\"connectedCars\", \"utilization\",\"time_of_day\",\"windspeed\",\"temperature\",\"felt_temperature\",\"date_month\",\"weekday\",\"Weekday/Weekend\",\"covid\",\"hour_of_day\"]]\n",
    "correlation_matrix = predictionDF_site1.corr()\n",
    "# Plot heatmap\n",
    "plt.figure(figsize=(12, 8))\n",
    "sns.heatmap(correlation_matrix, annot=True, cmap='coolwarm', fmt=\".2f\")\n",
    "plt.title(\"Correlation Matrix\")\n",
    "plt.show()"
   ],
   "metadata": {
    "collapsed": false,
    "ExecuteTime": {
     "end_time": "2025-01-28T10:50:56.215697Z",
     "start_time": "2025-01-28T10:50:55.214780Z"
    }
   },
   "id": "25b177f5e930f579",
   "execution_count": 146
  },
  {
   "cell_type": "markdown",
   "source": [
    "# FEATURE SELECTION SITE 2"
   ],
   "metadata": {
    "collapsed": false
   },
   "id": "7479433f2e0b761e"
  },
  {
   "cell_type": "code",
   "outputs": [
    {
     "name": "stdout",
     "output_type": "stream",
     "text": [
      "Correlation with connectedCars:\n",
      "connectedCars             1.000000\n",
      "utilization               0.988808\n",
      "felt_temperature          0.406886\n",
      "temperature               0.403437\n",
      "hour_of_day               0.310937\n",
      "time_of_day               0.240828\n",
      "windspeed                 0.233049\n",
      "Season                    0.140222\n",
      "temperature_difference    0.118462\n",
      "cloud_cover               0.086688\n",
      "fair                      0.055569\n",
      "partly                    0.033636\n",
      "haze                      0.031960\n",
      "date_month                0.031942\n",
      "thunder                   0.022552\n",
      "t-storm                   0.016446\n",
      "smoke                     0.001943\n",
      "windy                    -0.001683\n",
      "date_day                 -0.004771\n",
      "heavy                    -0.007930\n",
      "precipitation            -0.009303\n",
      "light                    -0.025933\n",
      "mostly                   -0.028087\n",
      "rain                     -0.033953\n",
      "fog                      -0.036501\n",
      "cloudy                   -0.047277\n",
      "pressure                 -0.100740\n",
      "weekday                  -0.179227\n",
      "Weekday/Weekend          -0.248505\n",
      "covid                    -0.367772\n",
      "date_year                -0.457506\n",
      "blowing_dust                   NaN\n",
      "light_rain_thunder             NaN\n",
      "thunder_in_vicinity            NaN\n",
      "Name: connectedCars, dtype: float64\n"
     ]
    }
   ],
   "source": [
    "\n",
    "# Compute correlation matrix\n",
    "correlation_matrix = merged_data_site2.corr()\n",
    "\n",
    "\n",
    "# Correlation with target feature\n",
    "target_correlation = correlation_matrix['connectedCars'].sort_values(ascending=False)\n",
    "print(\"Correlation with connectedCars:\")\n",
    "print(target_correlation)"
   ],
   "metadata": {
    "collapsed": false,
    "ExecuteTime": {
     "end_time": "2025-01-28T10:50:56.487355Z",
     "start_time": "2025-01-28T10:50:56.215983Z"
    }
   },
   "id": "2cd3a6d940c60fda",
   "execution_count": 147
  },
  {
   "cell_type": "code",
   "outputs": [
    {
     "data": {
      "text/plain": "<Figure size 1200x800 with 2 Axes>",
      "image/png": "[encoded data removed]"
     },
     "metadata": {},
     "output_type": "display_data"
    }
   ],
   "source": [
    "# compute correlation and display correlation for newly selected features\n",
    "predictionDF_site2 = merged_data_site2[[\"connectedCars\", \"utilization\",\"time_of_day\",\"windspeed\",\"temperature\",\"felt_temperature\",\"Season\",\"date_month\",\"weekday\",\"Weekday/Weekend\",\"covid\",\"hour_of_day\"]]\n",
    "correlation_matrix = predictionDF_site2.corr()\n",
    "# Plot heatmap\n",
    "plt.figure(figsize=(12, 8))\n",
    "sns.heatmap(correlation_matrix, annot=True, cmap='coolwarm', fmt=\".2f\")\n",
    "plt.title(\"Correlation Matrix\")\n",
    "plt.show()"
   ],
   "metadata": {
    "collapsed": false,
    "ExecuteTime": {
     "end_time": "2025-01-28T10:50:59.487546Z",
     "start_time": "2025-01-28T10:50:56.326046Z"
    }
   },
   "id": "ff9e02cc83834774",
   "execution_count": 148
  },
  {
   "cell_type": "markdown",
   "source": [
    "# ------------------------------------------------------------------------------------\n"
   ],
   "metadata": {
    "collapsed": false
   },
   "id": "3357bd134b493e50"
  },
  {
   "cell_type": "markdown",
   "source": [
    "# ---------------------------------HOT STUFF---------------------------------"
   ],
   "metadata": {
    "collapsed": false
   },
   "id": "b8a37df2b5a76efa"
  },
  {
   "cell_type": "markdown",
   "source": [
    "# ------------------------------------------------------------------------------------"
   ],
   "metadata": {
    "collapsed": false
   },
   "id": "5ca1d6da54db9c42"
  },
  {
   "cell_type": "markdown",
   "source": [
    "## NEURAL NETWORK: PREDICTION connectedCars SITE 1"
   ],
   "metadata": {
    "collapsed": false
   },
   "id": "10a9ee440aa0e5cb"
  },
  {
   "cell_type": "code",
   "outputs": [],
   "source": [
    "X_s1 = predictionDF_site1.copy()\n",
    "X_s1 = X_s1.drop([\"connectedCars\",\"utilization\",\"temperature\",\"time_of_day\"], axis = 1)\n",
    "y_s1 = predictionDF_site1[[\"connectedCars\"]]"
   ],
   "metadata": {
    "collapsed": false,
    "ExecuteTime": {
     "end_time": "2025-01-28T10:50:59.518972Z",
     "start_time": "2025-01-28T10:50:59.489019Z"
    }
   },
   "id": "bb9aa6b0bcbd70e9",
   "execution_count": 149
  },
  {
   "cell_type": "code",
   "outputs": [
    {
     "name": "stdout",
     "output_type": "stream",
     "text": [
      "<class 'pandas.core.frame.DataFrame'>\n",
      "Index: 20351 entries, 0 to 22813\n",
      "Data columns (total 7 columns):\n",
      " #   Column            Non-Null Count  Dtype  \n",
      "---  ------            --------------  -----  \n",
      " 0   windspeed         20351 non-null  float64\n",
      " 1   felt_temperature  20351 non-null  float64\n",
      " 2   date_month        20351 non-null  float64\n",
      " 3   weekday           20351 non-null  int64  \n",
      " 4   Weekday/Weekend   20351 non-null  int64  \n",
      " 5   covid             20351 non-null  int64  \n",
      " 6   hour_of_day       20351 non-null  int32  \n",
      "dtypes: float64(3), int32(1), int64(3)\n",
      "memory usage: 1.2 MB\n"
     ]
    }
   ],
   "source": [
    "X_s1.info()"
   ],
   "metadata": {
    "collapsed": false,
    "ExecuteTime": {
     "end_time": "2025-01-28T10:50:59.766058Z",
     "start_time": "2025-01-28T10:50:59.505488Z"
    }
   },
   "id": "f2b99b94ebfe2be0",
   "execution_count": 150
  },
  {
   "cell_type": "code",
   "outputs": [],
   "source": [
    "# Split data into train and test sets\n",
    "X_s1_train, X_s1_test, y_s1_train, y_s1_test = train_test_split(X_s1, y_s1, test_size=0.3, random_state=42)\n",
    "X_s1_train, X_s1_val, y_s1_train, y_s1_val = train_test_split(X_s1_train, y_s1_train, test_size=(0.2/0.7),random_state = 42)\n",
    "\n",
    "                                                  # Standardize the feature values\n",
    "scaler = StandardScaler()\n",
    "X_s1_train = scaler.fit_transform(X_s1_train)\n",
    "X_s1_val = scaler.fit_transform(X_s1_val)\n",
    "X_s1_test = scaler.transform(X_s1_test)"
   ],
   "metadata": {
    "collapsed": false,
    "ExecuteTime": {
     "end_time": "2025-01-28T10:50:59.878433Z",
     "start_time": "2025-01-28T10:50:59.530804Z"
    }
   },
   "id": "400ab6e1f4003d48",
   "execution_count": 151
  },
  {
   "cell_type": "code",
   "outputs": [],
   "source": [
    "def build_model_nn_s1(hp):\n",
    "    # Input Layer\n",
    "    inputs = keras.Input(shape=(7,)) # shapesize dependent of input feature count\n",
    "\n",
    "    # Hidden Layers\n",
    "    ## First Hidden Layer\n",
    "    dense = layers.Dense(units=hp.Int('hidden_layer_1_units', min_value=32, max_value=256, step=32), activation='relu')\n",
    "    x = dense(inputs)\n",
    "\n",
    "    ## Possible additional Hidden Layers\n",
    "    for i in range(hp.Int('total_added_hidden_layers', 0, 10)):\n",
    "        x = layers.Dense(units=hp.Int(f'hidden_layers_{i+2}_units', min_value=32, max_value=256, step=32), activation='relu')(x)\n",
    "\n",
    "    # Output Layer\n",
    "    output = layers.Dense(1, activation='relu')(x)\n",
    "\n",
    "    # Instantiate the model\n",
    "    model_ann = keras.Model(inputs, output, name='connectedCars_NN_site1')\n",
    "\n",
    "    # Compile the model\n",
    "    model_ann.compile(optimizer='Adam', loss='mean_squared_error')\n",
    "\n",
    "    return model_ann"
   ],
   "metadata": {
    "collapsed": false,
    "ExecuteTime": {
     "end_time": "2025-01-28T10:50:59.882738Z",
     "start_time": "2025-01-28T10:50:59.592126Z"
    }
   },
   "id": "15ab2e98610c4cc8",
   "execution_count": 152
  },
  {
   "cell_type": "markdown",
   "source": [
    "# HYPERPARAMETER TUNING SITE 1"
   ],
   "metadata": {
    "collapsed": false
   },
   "id": "b465cb5bd828e4b7"
  },
  {
   "cell_type": "code",
   "outputs": [],
   "source": [
    "tuner_nn_s1 = Hyperband(\n",
    "    build_model_nn_s1,\n",
    "    objective = 'val_loss',\n",
    "    max_epochs = 20,\n",
    "    factor = 3,\n",
    "    executions_per_trial = 1,\n",
    "    project_name = 'kerastuner_LOG',\n",
    "    overwrite = True # deletes old LOG's\n",
    ")"
   ],
   "metadata": {
    "collapsed": false,
    "ExecuteTime": {
     "end_time": "2025-01-28T10:50:59.910202Z",
     "start_time": "2025-01-28T10:50:59.603033Z"
    }
   },
   "id": "2b4da20048cf2e5d",
   "execution_count": 153
  },
  {
   "cell_type": "code",
   "outputs": [
    {
     "name": "stdout",
     "output_type": "stream",
     "text": [
      "Search space summary\n",
      "Default search space size: 2\n",
      "hidden_layer_1_units (Int)\n",
      "{'default': None, 'conditions': [], 'min_value': 32, 'max_value': 256, 'step': 32, 'sampling': 'linear'}\n",
      "total_added_hidden_layers (Int)\n",
      "{'default': None, 'conditions': [], 'min_value': 0, 'max_value': 10, 'step': 1, 'sampling': 'linear'}\n"
     ]
    }
   ],
   "source": [
    "# display search space\n",
    "tuner_nn_s1.search_space_summary()"
   ],
   "metadata": {
    "collapsed": false,
    "ExecuteTime": {
     "end_time": "2025-01-28T10:50:59.942878Z",
     "start_time": "2025-01-28T10:50:59.656561Z"
    }
   },
   "id": "f6a74eec358140c0",
   "execution_count": 154
  },
  {
   "cell_type": "code",
   "outputs": [],
   "source": [
    "# define callback to clear training outputs at end of every training step\n",
    "class ClearTrainingOutput(keras.callbacks.Callback):\n",
    "    def on_train_end(*args, **kwargs):\n",
    "        IPython.display.clear_output(wait = True)"
   ],
   "metadata": {
    "collapsed": false,
    "ExecuteTime": {
     "end_time": "2025-01-28T10:50:59.950390Z",
     "start_time": "2025-01-28T10:50:59.669096Z"
    }
   },
   "id": "ee285397b0550506",
   "execution_count": 155
  },
  {
   "cell_type": "markdown",
   "source": [
    "# RUN HYPERPARAMETER SEARCH"
   ],
   "metadata": {
    "collapsed": false
   },
   "id": "da00488237af02eb"
  },
  {
   "cell_type": "code",
   "outputs": [
    {
     "name": "stdout",
     "output_type": "stream",
     "text": [
      "Trial 30 Complete [00h 00m 34s]\n",
      "val_loss: 505.4062805175781\n",
      "\n",
      "Best val_loss So Far: 50.122596740722656\n",
      "Total elapsed time: 00h 07m 40s\n"
     ]
    }
   ],
   "source": [
    "tuner_nn_s1.search(\n",
    "    X_s1_train,\n",
    "    y_s1_train,\n",
    "    validation_data=(X_s1_val,y_s1_val),\n",
    "    callbacks = [ClearTrainingOutput()]\n",
    ")"
   ],
   "metadata": {
    "collapsed": false
   },
   "id": "3787dd111e90595e",
   "execution_count": 156
  },
  {
   "cell_type": "code",
   "outputs": [
    {
     "name": "stdout",
     "output_type": "stream",
     "text": [
      "Results summary\n",
      "Results in ./kerastuner_LOG\n",
      "Showing 10 best trials\n",
      "Objective(name=\"val_loss\", direction=\"min\")\n",
      "\n",
      "Trial 0028 summary\n",
      "Hyperparameters:\n",
      "hidden_layer_1_units: 128\n",
      "total_added_hidden_layers: 10\n",
      "hidden_layers_2_units: 160\n",
      "hidden_layers_3_units: 64\n",
      "hidden_layers_4_units: 160\n",
      "hidden_layers_5_units: 128\n",
      "hidden_layers_6_units: 192\n",
      "hidden_layers_7_units: 32\n",
      "hidden_layers_8_units: 224\n",
      "hidden_layers_9_units: 224\n",
      "hidden_layers_10_units: 224\n",
      "hidden_layers_11_units: 160\n",
      "tuner/epochs: 20\n",
      "tuner/initial_epoch: 0\n",
      "tuner/bracket: 0\n",
      "tuner/round: 0\n",
      "Score: 50.122596740722656\n",
      "\n",
      "Trial 0025 summary\n",
      "Hyperparameters:\n",
      "hidden_layer_1_units: 224\n",
      "total_added_hidden_layers: 7\n",
      "hidden_layers_2_units: 160\n",
      "hidden_layers_3_units: 192\n",
      "hidden_layers_4_units: 96\n",
      "hidden_layers_5_units: 96\n",
      "hidden_layers_6_units: 64\n",
      "hidden_layers_7_units: 128\n",
      "hidden_layers_8_units: 224\n",
      "hidden_layers_9_units: 64\n",
      "hidden_layers_10_units: 256\n",
      "hidden_layers_11_units: 192\n",
      "tuner/epochs: 20\n",
      "tuner/initial_epoch: 7\n",
      "tuner/bracket: 1\n",
      "tuner/round: 1\n",
      "tuner/trial_id: 0022\n",
      "Score: 50.23587417602539\n",
      "\n",
      "Trial 0027 summary\n",
      "Hyperparameters:\n",
      "hidden_layer_1_units: 64\n",
      "total_added_hidden_layers: 10\n",
      "hidden_layers_2_units: 96\n",
      "hidden_layers_3_units: 32\n",
      "hidden_layers_4_units: 128\n",
      "hidden_layers_5_units: 192\n",
      "hidden_layers_6_units: 256\n",
      "hidden_layers_7_units: 128\n",
      "hidden_layers_8_units: 128\n",
      "hidden_layers_9_units: 128\n",
      "hidden_layers_10_units: 256\n",
      "hidden_layers_11_units: 256\n",
      "tuner/epochs: 20\n",
      "tuner/initial_epoch: 0\n",
      "tuner/bracket: 0\n",
      "tuner/round: 0\n",
      "Score: 51.868560791015625\n",
      "\n",
      "Trial 0016 summary\n",
      "Hyperparameters:\n",
      "hidden_layer_1_units: 256\n",
      "total_added_hidden_layers: 10\n",
      "hidden_layers_2_units: 64\n",
      "hidden_layers_3_units: 128\n",
      "hidden_layers_4_units: 32\n",
      "hidden_layers_5_units: 128\n",
      "hidden_layers_6_units: 32\n",
      "hidden_layers_7_units: 192\n",
      "hidden_layers_8_units: 32\n",
      "hidden_layers_9_units: 32\n",
      "tuner/epochs: 20\n",
      "tuner/initial_epoch: 7\n",
      "tuner/bracket: 2\n",
      "tuner/round: 2\n",
      "hidden_layers_10_units: 32\n",
      "hidden_layers_11_units: 32\n",
      "tuner/trial_id: 0014\n",
      "Score: 51.919368743896484\n",
      "\n",
      "Trial 0024 summary\n",
      "Hyperparameters:\n",
      "hidden_layer_1_units: 128\n",
      "total_added_hidden_layers: 4\n",
      "hidden_layers_2_units: 32\n",
      "hidden_layers_3_units: 96\n",
      "hidden_layers_4_units: 224\n",
      "hidden_layers_5_units: 96\n",
      "hidden_layers_6_units: 128\n",
      "hidden_layers_7_units: 32\n",
      "hidden_layers_8_units: 192\n",
      "hidden_layers_9_units: 64\n",
      "hidden_layers_10_units: 64\n",
      "hidden_layers_11_units: 128\n",
      "tuner/epochs: 20\n",
      "tuner/initial_epoch: 7\n",
      "tuner/bracket: 1\n",
      "tuner/round: 1\n",
      "tuner/trial_id: 0023\n",
      "Score: 52.0280647277832\n",
      "\n",
      "Trial 0026 summary\n",
      "Hyperparameters:\n",
      "hidden_layer_1_units: 64\n",
      "total_added_hidden_layers: 10\n",
      "hidden_layers_2_units: 256\n",
      "hidden_layers_3_units: 256\n",
      "hidden_layers_4_units: 64\n",
      "hidden_layers_5_units: 32\n",
      "hidden_layers_6_units: 64\n",
      "hidden_layers_7_units: 224\n",
      "hidden_layers_8_units: 96\n",
      "hidden_layers_9_units: 96\n",
      "hidden_layers_10_units: 64\n",
      "hidden_layers_11_units: 256\n",
      "tuner/epochs: 20\n",
      "tuner/initial_epoch: 0\n",
      "tuner/bracket: 0\n",
      "tuner/round: 0\n",
      "Score: 52.720027923583984\n",
      "\n",
      "Trial 0017 summary\n",
      "Hyperparameters:\n",
      "hidden_layer_1_units: 256\n",
      "total_added_hidden_layers: 8\n",
      "hidden_layers_2_units: 32\n",
      "hidden_layers_3_units: 32\n",
      "hidden_layers_4_units: 192\n",
      "hidden_layers_5_units: 160\n",
      "hidden_layers_6_units: 32\n",
      "tuner/epochs: 20\n",
      "tuner/initial_epoch: 7\n",
      "tuner/bracket: 2\n",
      "tuner/round: 2\n",
      "hidden_layers_7_units: 32\n",
      "hidden_layers_8_units: 32\n",
      "hidden_layers_9_units: 32\n",
      "tuner/trial_id: 0012\n",
      "hidden_layers_10_units: 160\n",
      "hidden_layers_11_units: 160\n",
      "Score: 53.528202056884766\n",
      "\n",
      "Trial 0023 summary\n",
      "Hyperparameters:\n",
      "hidden_layer_1_units: 128\n",
      "total_added_hidden_layers: 4\n",
      "hidden_layers_2_units: 32\n",
      "hidden_layers_3_units: 96\n",
      "hidden_layers_4_units: 224\n",
      "hidden_layers_5_units: 96\n",
      "hidden_layers_6_units: 128\n",
      "hidden_layers_7_units: 32\n",
      "hidden_layers_8_units: 192\n",
      "hidden_layers_9_units: 64\n",
      "hidden_layers_10_units: 64\n",
      "hidden_layers_11_units: 128\n",
      "tuner/epochs: 7\n",
      "tuner/initial_epoch: 0\n",
      "tuner/bracket: 1\n",
      "tuner/round: 0\n",
      "Score: 56.615882873535156\n",
      "\n",
      "Trial 0014 summary\n",
      "Hyperparameters:\n",
      "hidden_layer_1_units: 256\n",
      "total_added_hidden_layers: 10\n",
      "hidden_layers_2_units: 64\n",
      "hidden_layers_3_units: 128\n",
      "hidden_layers_4_units: 32\n",
      "hidden_layers_5_units: 128\n",
      "hidden_layers_6_units: 32\n",
      "hidden_layers_7_units: 192\n",
      "hidden_layers_8_units: 32\n",
      "hidden_layers_9_units: 32\n",
      "tuner/epochs: 7\n",
      "tuner/initial_epoch: 3\n",
      "tuner/bracket: 2\n",
      "tuner/round: 1\n",
      "hidden_layers_10_units: 32\n",
      "hidden_layers_11_units: 32\n",
      "tuner/trial_id: 0004\n",
      "Score: 56.709129333496094\n",
      "\n",
      "Trial 0012 summary\n",
      "Hyperparameters:\n",
      "hidden_layer_1_units: 256\n",
      "total_added_hidden_layers: 8\n",
      "hidden_layers_2_units: 32\n",
      "hidden_layers_3_units: 32\n",
      "hidden_layers_4_units: 192\n",
      "hidden_layers_5_units: 160\n",
      "hidden_layers_6_units: 32\n",
      "tuner/epochs: 7\n",
      "tuner/initial_epoch: 3\n",
      "tuner/bracket: 2\n",
      "tuner/round: 1\n",
      "hidden_layers_7_units: 32\n",
      "hidden_layers_8_units: 32\n",
      "hidden_layers_9_units: 32\n",
      "tuner/trial_id: 0003\n",
      "hidden_layers_10_units: 160\n",
      "hidden_layers_11_units: 160\n",
      "Score: 56.85222625732422\n"
     ]
    }
   ],
   "source": [
    "# display best models, their hyperparameters and the resulting metrics\n",
    "tuner_nn_s1.results_summary()"
   ],
   "metadata": {
    "collapsed": false,
    "ExecuteTime": {
     "end_time": "2025-01-28T10:58:39.310934Z",
     "start_time": "2025-01-28T10:58:39.286508Z"
    }
   },
   "id": "bd3af91cf1f37f68",
   "execution_count": 157
  },
  {
   "cell_type": "code",
   "outputs": [
    {
     "name": "stdout",
     "output_type": "stream",
     "text": [
      "\n",
      "The hyperparameter search is complete. \n",
      "The optimal number of units in the first hidden layer is 128 \n",
      "and the total number of hidden layers is 11.\n"
     ]
    }
   ],
   "source": [
    "nn_best_hps_site1 = tuner_nn_s1.get_best_hyperparameters(num_trials = 1)[0]\n",
    "\n",
    "print(f\"\"\"\n",
    "The hyperparameter search is complete. \n",
    "The optimal number of units in the first hidden layer is {nn_best_hps_site1.get('hidden_layer_1_units')} \n",
    "and the total number of hidden layers is {nn_best_hps_site1.get('total_added_hidden_layers')+1}.\n",
    "\"\"\")"
   ],
   "metadata": {
    "collapsed": false,
    "ExecuteTime": {
     "end_time": "2025-01-28T10:58:39.415383Z",
     "start_time": "2025-01-28T10:58:39.305015Z"
    }
   },
   "id": "c7661420d9f3e2eb",
   "execution_count": 158
  },
  {
   "cell_type": "code",
   "outputs": [
    {
     "name": "stderr",
     "output_type": "stream",
     "text": [
      "/Users/anthonyge/Desktop/UNI/_MASTER/semester_1/Analytics_&_Applications/GinyuForce/venv/lib/python3.9/site-packages/keras/src/saving/saving_lib.py:757: UserWarning: Skipping variable loading for optimizer 'adam', because it has 2 variables whereas the saved optimizer has 50 variables. \n",
      "  saveable.load_own_variables(weights_store.get(inner_path))\n"
     ]
    }
   ],
   "source": [
    "# get best model\n",
    "nn_model_site1 = tuner_nn_s1.get_best_models(num_models=1)[0]"
   ],
   "metadata": {
    "collapsed": false,
    "ExecuteTime": {
     "end_time": "2025-01-28T10:58:41.229878Z",
     "start_time": "2025-01-28T10:58:41.035010Z"
    }
   },
   "id": "fa9c5f0716f6e2a4",
   "execution_count": 159
  },
  {
   "cell_type": "code",
   "outputs": [
    {
     "data": {
      "text/plain": "\u001B[1mModel: \"connectedCars_NN_site1\"\u001B[0m\n",
      "text/html": "<pre style=\"white-space:pre;overflow-x:auto;line-height:normal;font-family:Menlo,'DejaVu Sans Mono',consolas,'Courier New',monospace\"><span style=\"font-weight: bold\">Model: \"connectedCars_NN_site1\"</span>\n</pre>\n"
     },
     "metadata": {},
     "output_type": "display_data"
    },
    {
     "data": {
      "text/plain": "┏━━━━━━━━━━━━━━━━━━━━━━━━━━━━━━━━━┳━━━━━━━━━━━━━━━━━━━━━━━━┳━━━━━━━━━━━━━━━┓\n┃\u001B[1m \u001B[0m\u001B[1mLayer (type)                   \u001B[0m\u001B[1m \u001B[0m┃\u001B[1m \u001B[0m\u001B[1mOutput Shape          \u001B[0m\u001B[1m \u001B[0m┃\u001B[1m \u001B[0m\u001B[1m      Param #\u001B[0m\u001B[1m \u001B[0m┃\n┡━━━━━━━━━━━━━━━━━━━━━━━━━━━━━━━━━╇━━━━━━━━━━━━━━━━━━━━━━━━╇━━━━━━━━━━━━━━━┩\n│ input_layer (\u001B[38;5;33mInputLayer\u001B[0m)        │ (\u001B[38;5;45mNone\u001B[0m, \u001B[38;5;34m7\u001B[0m)              │             \u001B[38;5;34m0\u001B[0m │\n├─────────────────────────────────┼────────────────────────┼───────────────┤\n│ dense (\u001B[38;5;33mDense\u001B[0m)                   │ (\u001B[38;5;45mNone\u001B[0m, \u001B[38;5;34m128\u001B[0m)            │         \u001B[38;5;34m1,024\u001B[0m │\n├─────────────────────────────────┼────────────────────────┼───────────────┤\n│ dense_1 (\u001B[38;5;33mDense\u001B[0m)                 │ (\u001B[38;5;45mNone\u001B[0m, \u001B[38;5;34m160\u001B[0m)            │        \u001B[38;5;34m20,640\u001B[0m │\n├─────────────────────────────────┼────────────────────────┼───────────────┤\n│ dense_2 (\u001B[38;5;33mDense\u001B[0m)                 │ (\u001B[38;5;45mNone\u001B[0m, \u001B[38;5;34m64\u001B[0m)             │        \u001B[38;5;34m10,304\u001B[0m │\n├─────────────────────────────────┼────────────────────────┼───────────────┤\n│ dense_3 (\u001B[38;5;33mDense\u001B[0m)                 │ (\u001B[38;5;45mNone\u001B[0m, \u001B[38;5;34m160\u001B[0m)            │        \u001B[38;5;34m10,400\u001B[0m │\n├─────────────────────────────────┼────────────────────────┼───────────────┤\n│ dense_4 (\u001B[38;5;33mDense\u001B[0m)                 │ (\u001B[38;5;45mNone\u001B[0m, \u001B[38;5;34m128\u001B[0m)            │        \u001B[38;5;34m20,608\u001B[0m │\n├─────────────────────────────────┼────────────────────────┼───────────────┤\n│ dense_5 (\u001B[38;5;33mDense\u001B[0m)                 │ (\u001B[38;5;45mNone\u001B[0m, \u001B[38;5;34m192\u001B[0m)            │        \u001B[38;5;34m24,768\u001B[0m │\n├─────────────────────────────────┼────────────────────────┼───────────────┤\n│ dense_6 (\u001B[38;5;33mDense\u001B[0m)                 │ (\u001B[38;5;45mNone\u001B[0m, \u001B[38;5;34m32\u001B[0m)             │         \u001B[38;5;34m6,176\u001B[0m │\n├─────────────────────────────────┼────────────────────────┼───────────────┤\n│ dense_7 (\u001B[38;5;33mDense\u001B[0m)                 │ (\u001B[38;5;45mNone\u001B[0m, \u001B[38;5;34m224\u001B[0m)            │         \u001B[38;5;34m7,392\u001B[0m │\n├─────────────────────────────────┼────────────────────────┼───────────────┤\n│ dense_8 (\u001B[38;5;33mDense\u001B[0m)                 │ (\u001B[38;5;45mNone\u001B[0m, \u001B[38;5;34m224\u001B[0m)            │        \u001B[38;5;34m50,400\u001B[0m │\n├─────────────────────────────────┼────────────────────────┼───────────────┤\n│ dense_9 (\u001B[38;5;33mDense\u001B[0m)                 │ (\u001B[38;5;45mNone\u001B[0m, \u001B[38;5;34m224\u001B[0m)            │        \u001B[38;5;34m50,400\u001B[0m │\n├─────────────────────────────────┼────────────────────────┼───────────────┤\n│ dense_10 (\u001B[38;5;33mDense\u001B[0m)                │ (\u001B[38;5;45mNone\u001B[0m, \u001B[38;5;34m160\u001B[0m)            │        \u001B[38;5;34m36,000\u001B[0m │\n├─────────────────────────────────┼────────────────────────┼───────────────┤\n│ dense_11 (\u001B[38;5;33mDense\u001B[0m)                │ (\u001B[38;5;45mNone\u001B[0m, \u001B[38;5;34m1\u001B[0m)              │           \u001B[38;5;34m161\u001B[0m │\n└─────────────────────────────────┴────────────────────────┴───────────────┘\n",
      "text/html": "<pre style=\"white-space:pre;overflow-x:auto;line-height:normal;font-family:Menlo,'DejaVu Sans Mono',consolas,'Courier New',monospace\">┏━━━━━━━━━━━━━━━━━━━━━━━━━━━━━━━━━┳━━━━━━━━━━━━━━━━━━━━━━━━┳━━━━━━━━━━━━━━━┓\n┃<span style=\"font-weight: bold\"> Layer (type)                    </span>┃<span style=\"font-weight: bold\"> Output Shape           </span>┃<span style=\"font-weight: bold\">       Param # </span>┃\n┡━━━━━━━━━━━━━━━━━━━━━━━━━━━━━━━━━╇━━━━━━━━━━━━━━━━━━━━━━━━╇━━━━━━━━━━━━━━━┩\n│ input_layer (<span style=\"color: #0087ff; text-decoration-color: #0087ff\">InputLayer</span>)        │ (<span style=\"color: #00d7ff; text-decoration-color: #00d7ff\">None</span>, <span style=\"color: #00af00; text-decoration-color: #00af00\">7</span>)              │             <span style=\"color: #00af00; text-decoration-color: #00af00\">0</span> │\n├─────────────────────────────────┼────────────────────────┼───────────────┤\n│ dense (<span style=\"color: #0087ff; text-decoration-color: #0087ff\">Dense</span>)                   │ (<span style=\"color: #00d7ff; text-decoration-color: #00d7ff\">None</span>, <span style=\"color: #00af00; text-decoration-color: #00af00\">128</span>)            │         <span style=\"color: #00af00; text-decoration-color: #00af00\">1,024</span> │\n├─────────────────────────────────┼────────────────────────┼───────────────┤\n│ dense_1 (<span style=\"color: #0087ff; text-decoration-color: #0087ff\">Dense</span>)                 │ (<span style=\"color: #00d7ff; text-decoration-color: #00d7ff\">None</span>, <span style=\"color: #00af00; text-decoration-color: #00af00\">160</span>)            │        <span style=\"color: #00af00; text-decoration-color: #00af00\">20,640</span> │\n├─────────────────────────────────┼────────────────────────┼───────────────┤\n│ dense_2 (<span style=\"color: #0087ff; text-decoration-color: #0087ff\">Dense</span>)                 │ (<span style=\"color: #00d7ff; text-decoration-color: #00d7ff\">None</span>, <span style=\"color: #00af00; text-decoration-color: #00af00\">64</span>)             │        <span style=\"color: #00af00; text-decoration-color: #00af00\">10,304</span> │\n├─────────────────────────────────┼────────────────────────┼───────────────┤\n│ dense_3 (<span style=\"color: #0087ff; text-decoration-color: #0087ff\">Dense</span>)                 │ (<span style=\"color: #00d7ff; text-decoration-color: #00d7ff\">None</span>, <span style=\"color: #00af00; text-decoration-color: #00af00\">160</span>)            │        <span style=\"color: #00af00; text-decoration-color: #00af00\">10,400</span> │\n├─────────────────────────────────┼────────────────────────┼───────────────┤\n│ dense_4 (<span style=\"color: #0087ff; text-decoration-color: #0087ff\">Dense</span>)                 │ (<span style=\"color: #00d7ff; text-decoration-color: #00d7ff\">None</span>, <span style=\"color: #00af00; text-decoration-color: #00af00\">128</span>)            │        <span style=\"color: #00af00; text-decoration-color: #00af00\">20,608</span> │\n├─────────────────────────────────┼────────────────────────┼───────────────┤\n│ dense_5 (<span style=\"color: #0087ff; text-decoration-color: #0087ff\">Dense</span>)                 │ (<span style=\"color: #00d7ff; text-decoration-color: #00d7ff\">None</span>, <span style=\"color: #00af00; text-decoration-color: #00af00\">192</span>)            │        <span style=\"color: #00af00; text-decoration-color: #00af00\">24,768</span> │\n├─────────────────────────────────┼────────────────────────┼───────────────┤\n│ dense_6 (<span style=\"color: #0087ff; text-decoration-color: #0087ff\">Dense</span>)                 │ (<span style=\"color: #00d7ff; text-decoration-color: #00d7ff\">None</span>, <span style=\"color: #00af00; text-decoration-color: #00af00\">32</span>)             │         <span style=\"color: #00af00; text-decoration-color: #00af00\">6,176</span> │\n├─────────────────────────────────┼────────────────────────┼───────────────┤\n│ dense_7 (<span style=\"color: #0087ff; text-decoration-color: #0087ff\">Dense</span>)                 │ (<span style=\"color: #00d7ff; text-decoration-color: #00d7ff\">None</span>, <span style=\"color: #00af00; text-decoration-color: #00af00\">224</span>)            │         <span style=\"color: #00af00; text-decoration-color: #00af00\">7,392</span> │\n├─────────────────────────────────┼────────────────────────┼───────────────┤\n│ dense_8 (<span style=\"color: #0087ff; text-decoration-color: #0087ff\">Dense</span>)                 │ (<span style=\"color: #00d7ff; text-decoration-color: #00d7ff\">None</span>, <span style=\"color: #00af00; text-decoration-color: #00af00\">224</span>)            │        <span style=\"color: #00af00; text-decoration-color: #00af00\">50,400</span> │\n├─────────────────────────────────┼────────────────────────┼───────────────┤\n│ dense_9 (<span style=\"color: #0087ff; text-decoration-color: #0087ff\">Dense</span>)                 │ (<span style=\"color: #00d7ff; text-decoration-color: #00d7ff\">None</span>, <span style=\"color: #00af00; text-decoration-color: #00af00\">224</span>)            │        <span style=\"color: #00af00; text-decoration-color: #00af00\">50,400</span> │\n├─────────────────────────────────┼────────────────────────┼───────────────┤\n│ dense_10 (<span style=\"color: #0087ff; text-decoration-color: #0087ff\">Dense</span>)                │ (<span style=\"color: #00d7ff; text-decoration-color: #00d7ff\">None</span>, <span style=\"color: #00af00; text-decoration-color: #00af00\">160</span>)            │        <span style=\"color: #00af00; text-decoration-color: #00af00\">36,000</span> │\n├─────────────────────────────────┼────────────────────────┼───────────────┤\n│ dense_11 (<span style=\"color: #0087ff; text-decoration-color: #0087ff\">Dense</span>)                │ (<span style=\"color: #00d7ff; text-decoration-color: #00d7ff\">None</span>, <span style=\"color: #00af00; text-decoration-color: #00af00\">1</span>)              │           <span style=\"color: #00af00; text-decoration-color: #00af00\">161</span> │\n└─────────────────────────────────┴────────────────────────┴───────────────┘\n</pre>\n"
     },
     "metadata": {},
     "output_type": "display_data"
    },
    {
     "data": {
      "text/plain": "\u001B[1m Total params: \u001B[0m\u001B[38;5;34m238,273\u001B[0m (930.75 KB)\n",
      "text/html": "<pre style=\"white-space:pre;overflow-x:auto;line-height:normal;font-family:Menlo,'DejaVu Sans Mono',consolas,'Courier New',monospace\"><span style=\"font-weight: bold\"> Total params: </span><span style=\"color: #00af00; text-decoration-color: #00af00\">238,273</span> (930.75 KB)\n</pre>\n"
     },
     "metadata": {},
     "output_type": "display_data"
    },
    {
     "data": {
      "text/plain": "\u001B[1m Trainable params: \u001B[0m\u001B[38;5;34m238,273\u001B[0m (930.75 KB)\n",
      "text/html": "<pre style=\"white-space:pre;overflow-x:auto;line-height:normal;font-family:Menlo,'DejaVu Sans Mono',consolas,'Courier New',monospace\"><span style=\"font-weight: bold\"> Trainable params: </span><span style=\"color: #00af00; text-decoration-color: #00af00\">238,273</span> (930.75 KB)\n</pre>\n"
     },
     "metadata": {},
     "output_type": "display_data"
    },
    {
     "data": {
      "text/plain": "\u001B[1m Non-trainable params: \u001B[0m\u001B[38;5;34m0\u001B[0m (0.00 B)\n",
      "text/html": "<pre style=\"white-space:pre;overflow-x:auto;line-height:normal;font-family:Menlo,'DejaVu Sans Mono',consolas,'Courier New',monospace\"><span style=\"font-weight: bold\"> Non-trainable params: </span><span style=\"color: #00af00; text-decoration-color: #00af00\">0</span> (0.00 B)\n</pre>\n"
     },
     "metadata": {},
     "output_type": "display_data"
    }
   ],
   "source": [
    "nn_model_site1.summary()"
   ],
   "metadata": {
    "collapsed": false,
    "ExecuteTime": {
     "end_time": "2025-01-28T10:58:41.288217Z",
     "start_time": "2025-01-28T10:58:41.227029Z"
    }
   },
   "id": "f04b4ed643e355c9",
   "execution_count": 160
  },
  {
   "cell_type": "code",
   "outputs": [],
   "source": [
    "callback = keras.callbacks.EarlyStopping(\n",
    "    monitor='val_loss',\n",
    "    mode='min',\n",
    "    patience=100,\n",
    "    restore_best_weights=True\n",
    ")"
   ],
   "metadata": {
    "collapsed": false,
    "ExecuteTime": {
     "end_time": "2025-01-28T10:58:41.323188Z",
     "start_time": "2025-01-28T10:58:41.256716Z"
    }
   },
   "id": "a0f243c771566978",
   "execution_count": 161
  },
  {
   "cell_type": "code",
   "outputs": [
    {
     "name": "stdout",
     "output_type": "stream",
     "text": [
      "Epoch 1/1000\n",
      "\u001B[1m318/318\u001B[0m \u001B[32m━━━━━━━━━━━━━━━━━━━━\u001B[0m\u001B[37m\u001B[0m \u001B[1m5s\u001B[0m 6ms/step - loss: 52.9400 - val_loss: 51.1731\n",
      "Epoch 2/1000\n",
      "\u001B[1m318/318\u001B[0m \u001B[32m━━━━━━━━━━━━━━━━━━━━\u001B[0m\u001B[37m\u001B[0m \u001B[1m2s\u001B[0m 6ms/step - loss: 53.1205 - val_loss: 56.3690\n",
      "Epoch 3/1000\n",
      "\u001B[1m318/318\u001B[0m \u001B[32m━━━━━━━━━━━━━━━━━━━━\u001B[0m\u001B[37m\u001B[0m \u001B[1m2s\u001B[0m 5ms/step - loss: 46.0426 - val_loss: 53.8670\n",
      "Epoch 4/1000\n",
      "\u001B[1m318/318\u001B[0m \u001B[32m━━━━━━━━━━━━━━━━━━━━\u001B[0m\u001B[37m\u001B[0m \u001B[1m2s\u001B[0m 5ms/step - loss: 45.4296 - val_loss: 61.6413\n",
      "Epoch 5/1000\n",
      "\u001B[1m318/318\u001B[0m \u001B[32m━━━━━━━━━━━━━━━━━━━━\u001B[0m\u001B[37m\u001B[0m \u001B[1m2s\u001B[0m 5ms/step - loss: 48.0027 - val_loss: 49.8183\n",
      "Epoch 6/1000\n",
      "\u001B[1m318/318\u001B[0m \u001B[32m━━━━━━━━━━━━━━━━━━━━\u001B[0m\u001B[37m\u001B[0m \u001B[1m2s\u001B[0m 5ms/step - loss: 41.8387 - val_loss: 50.4425\n",
      "Epoch 7/1000\n",
      "\u001B[1m318/318\u001B[0m \u001B[32m━━━━━━━━━━━━━━━━━━━━\u001B[0m\u001B[37m\u001B[0m \u001B[1m2s\u001B[0m 5ms/step - loss: 44.0092 - val_loss: 49.7677\n",
      "Epoch 8/1000\n",
      "\u001B[1m318/318\u001B[0m \u001B[32m━━━━━━━━━━━━━━━━━━━━\u001B[0m\u001B[37m\u001B[0m \u001B[1m2s\u001B[0m 5ms/step - loss: 43.8535 - val_loss: 51.4635\n",
      "Epoch 9/1000\n",
      "\u001B[1m318/318\u001B[0m \u001B[32m━━━━━━━━━━━━━━━━━━━━\u001B[0m\u001B[37m\u001B[0m \u001B[1m1s\u001B[0m 5ms/step - loss: 46.1974 - val_loss: 56.6471\n",
      "Epoch 10/1000\n",
      "\u001B[1m318/318\u001B[0m \u001B[32m━━━━━━━━━━━━━━━━━━━━\u001B[0m\u001B[37m\u001B[0m \u001B[1m2s\u001B[0m 5ms/step - loss: 45.2301 - val_loss: 55.5446\n",
      "Epoch 11/1000\n",
      "\u001B[1m318/318\u001B[0m \u001B[32m━━━━━━━━━━━━━━━━━━━━\u001B[0m\u001B[37m\u001B[0m \u001B[1m1s\u001B[0m 5ms/step - loss: 41.2265 - val_loss: 52.2192\n",
      "Epoch 12/1000\n",
      "\u001B[1m318/318\u001B[0m \u001B[32m━━━━━━━━━━━━━━━━━━━━\u001B[0m\u001B[37m\u001B[0m \u001B[1m1s\u001B[0m 5ms/step - loss: 46.7595 - val_loss: 59.4819\n",
      "Epoch 13/1000\n",
      "\u001B[1m318/318\u001B[0m \u001B[32m━━━━━━━━━━━━━━━━━━━━\u001B[0m\u001B[37m\u001B[0m \u001B[1m1s\u001B[0m 4ms/step - loss: 42.9377 - val_loss: 50.4012\n",
      "Epoch 14/1000\n",
      "\u001B[1m318/318\u001B[0m \u001B[32m━━━━━━━━━━━━━━━━━━━━\u001B[0m\u001B[37m\u001B[0m \u001B[1m1s\u001B[0m 4ms/step - loss: 39.4385 - val_loss: 61.4140\n",
      "Epoch 15/1000\n",
      "\u001B[1m318/318\u001B[0m \u001B[32m━━━━━━━━━━━━━━━━━━━━\u001B[0m\u001B[37m\u001B[0m \u001B[1m1s\u001B[0m 4ms/step - loss: 46.0419 - val_loss: 56.0575\n",
      "Epoch 16/1000\n",
      "\u001B[1m318/318\u001B[0m \u001B[32m━━━━━━━━━━━━━━━━━━━━\u001B[0m\u001B[37m\u001B[0m \u001B[1m1s\u001B[0m 4ms/step - loss: 44.5697 - val_loss: 51.8243\n",
      "Epoch 17/1000\n",
      "\u001B[1m318/318\u001B[0m \u001B[32m━━━━━━━━━━━━━━━━━━━━\u001B[0m\u001B[37m\u001B[0m \u001B[1m1s\u001B[0m 4ms/step - loss: 44.3520 - val_loss: 52.0162\n",
      "Epoch 18/1000\n",
      "\u001B[1m318/318\u001B[0m \u001B[32m━━━━━━━━━━━━━━━━━━━━\u001B[0m\u001B[37m\u001B[0m \u001B[1m1s\u001B[0m 4ms/step - loss: 39.9274 - val_loss: 58.0155\n",
      "Epoch 19/1000\n",
      "\u001B[1m318/318\u001B[0m \u001B[32m━━━━━━━━━━━━━━━━━━━━\u001B[0m\u001B[37m\u001B[0m \u001B[1m1s\u001B[0m 4ms/step - loss: 44.3554 - val_loss: 50.0507\n",
      "Epoch 20/1000\n",
      "\u001B[1m318/318\u001B[0m \u001B[32m━━━━━━━━━━━━━━━━━━━━\u001B[0m\u001B[37m\u001B[0m \u001B[1m1s\u001B[0m 4ms/step - loss: 42.7300 - val_loss: 49.7295\n",
      "Epoch 21/1000\n",
      "\u001B[1m318/318\u001B[0m \u001B[32m━━━━━━━━━━━━━━━━━━━━\u001B[0m\u001B[37m\u001B[0m \u001B[1m1s\u001B[0m 4ms/step - loss: 43.9461 - val_loss: 56.0743\n",
      "Epoch 22/1000\n",
      "\u001B[1m318/318\u001B[0m \u001B[32m━━━━━━━━━━━━━━━━━━━━\u001B[0m\u001B[37m\u001B[0m \u001B[1m2s\u001B[0m 5ms/step - loss: 41.1391 - val_loss: 47.8042\n",
      "Epoch 23/1000\n",
      "\u001B[1m318/318\u001B[0m \u001B[32m━━━━━━━━━━━━━━━━━━━━\u001B[0m\u001B[37m\u001B[0m \u001B[1m2s\u001B[0m 6ms/step - loss: 42.8808 - val_loss: 52.6772\n",
      "Epoch 24/1000\n",
      "\u001B[1m318/318\u001B[0m \u001B[32m━━━━━━━━━━━━━━━━━━━━\u001B[0m\u001B[37m\u001B[0m \u001B[1m2s\u001B[0m 5ms/step - loss: 38.0700 - val_loss: 53.5113\n",
      "Epoch 25/1000\n",
      "\u001B[1m318/318\u001B[0m \u001B[32m━━━━━━━━━━━━━━━━━━━━\u001B[0m\u001B[37m\u001B[0m \u001B[1m2s\u001B[0m 5ms/step - loss: 36.2464 - val_loss: 60.6993\n",
      "Epoch 26/1000\n",
      "\u001B[1m318/318\u001B[0m \u001B[32m━━━━━━━━━━━━━━━━━━━━\u001B[0m\u001B[37m\u001B[0m \u001B[1m2s\u001B[0m 5ms/step - loss: 42.7485 - val_loss: 49.7663\n",
      "Epoch 27/1000\n",
      "\u001B[1m318/318\u001B[0m \u001B[32m━━━━━━━━━━━━━━━━━━━━\u001B[0m\u001B[37m\u001B[0m \u001B[1m2s\u001B[0m 5ms/step - loss: 41.1674 - val_loss: 53.4937\n",
      "Epoch 28/1000\n",
      "\u001B[1m318/318\u001B[0m \u001B[32m━━━━━━━━━━━━━━━━━━━━\u001B[0m\u001B[37m\u001B[0m \u001B[1m2s\u001B[0m 5ms/step - loss: 37.7976 - val_loss: 54.6263\n",
      "Epoch 29/1000\n",
      "\u001B[1m318/318\u001B[0m \u001B[32m━━━━━━━━━━━━━━━━━━━━\u001B[0m\u001B[37m\u001B[0m \u001B[1m2s\u001B[0m 5ms/step - loss: 39.1300 - val_loss: 49.0715\n",
      "Epoch 30/1000\n",
      "\u001B[1m318/318\u001B[0m \u001B[32m━━━━━━━━━━━━━━━━━━━━\u001B[0m\u001B[37m\u001B[0m \u001B[1m2s\u001B[0m 5ms/step - loss: 39.1321 - val_loss: 50.7488\n",
      "Epoch 31/1000\n",
      "\u001B[1m318/318\u001B[0m \u001B[32m━━━━━━━━━━━━━━━━━━━━\u001B[0m\u001B[37m\u001B[0m \u001B[1m2s\u001B[0m 5ms/step - loss: 37.1943 - val_loss: 50.4749\n",
      "Epoch 32/1000\n",
      "\u001B[1m318/318\u001B[0m \u001B[32m━━━━━━━━━━━━━━━━━━━━\u001B[0m\u001B[37m\u001B[0m \u001B[1m2s\u001B[0m 5ms/step - loss: 37.2374 - val_loss: 53.4637\n",
      "Epoch 33/1000\n",
      "\u001B[1m318/318\u001B[0m \u001B[32m━━━━━━━━━━━━━━━━━━━━\u001B[0m\u001B[37m\u001B[0m \u001B[1m2s\u001B[0m 5ms/step - loss: 36.3493 - val_loss: 52.3114\n",
      "Epoch 34/1000\n",
      "\u001B[1m318/318\u001B[0m \u001B[32m━━━━━━━━━━━━━━━━━━━━\u001B[0m\u001B[37m\u001B[0m \u001B[1m2s\u001B[0m 5ms/step - loss: 38.7636 - val_loss: 51.3507\n",
      "Epoch 35/1000\n",
      "\u001B[1m318/318\u001B[0m \u001B[32m━━━━━━━━━━━━━━━━━━━━\u001B[0m\u001B[37m\u001B[0m \u001B[1m2s\u001B[0m 5ms/step - loss: 36.0241 - val_loss: 60.4925\n",
      "Epoch 36/1000\n",
      "\u001B[1m318/318\u001B[0m \u001B[32m━━━━━━━━━━━━━━━━━━━━\u001B[0m\u001B[37m\u001B[0m \u001B[1m2s\u001B[0m 5ms/step - loss: 37.8583 - val_loss: 52.2345\n",
      "Epoch 37/1000\n",
      "\u001B[1m318/318\u001B[0m \u001B[32m━━━━━━━━━━━━━━━━━━━━\u001B[0m\u001B[37m\u001B[0m \u001B[1m2s\u001B[0m 5ms/step - loss: 36.4034 - val_loss: 50.9899\n",
      "Epoch 38/1000\n",
      "\u001B[1m318/318\u001B[0m \u001B[32m━━━━━━━━━━━━━━━━━━━━\u001B[0m\u001B[37m\u001B[0m \u001B[1m2s\u001B[0m 5ms/step - loss: 41.4183 - val_loss: 50.9300\n",
      "Epoch 39/1000\n",
      "\u001B[1m318/318\u001B[0m \u001B[32m━━━━━━━━━━━━━━━━━━━━\u001B[0m\u001B[37m\u001B[0m \u001B[1m2s\u001B[0m 5ms/step - loss: 36.2274 - val_loss: 52.1284\n",
      "Epoch 40/1000\n",
      "\u001B[1m318/318\u001B[0m \u001B[32m━━━━━━━━━━━━━━━━━━━━\u001B[0m\u001B[37m\u001B[0m \u001B[1m2s\u001B[0m 5ms/step - loss: 33.7648 - val_loss: 52.4378\n",
      "Epoch 41/1000\n",
      "\u001B[1m318/318\u001B[0m \u001B[32m━━━━━━━━━━━━━━━━━━━━\u001B[0m\u001B[37m\u001B[0m \u001B[1m2s\u001B[0m 5ms/step - loss: 34.0215 - val_loss: 53.2354\n",
      "Epoch 42/1000\n",
      "\u001B[1m318/318\u001B[0m \u001B[32m━━━━━━━━━━━━━━━━━━━━\u001B[0m\u001B[37m\u001B[0m \u001B[1m2s\u001B[0m 5ms/step - loss: 35.4801 - val_loss: 52.6211\n",
      "Epoch 43/1000\n",
      "\u001B[1m318/318\u001B[0m \u001B[32m━━━━━━━━━━━━━━━━━━━━\u001B[0m\u001B[37m\u001B[0m \u001B[1m2s\u001B[0m 5ms/step - loss: 33.3519 - val_loss: 52.8093\n",
      "Epoch 44/1000\n",
      "\u001B[1m318/318\u001B[0m \u001B[32m━━━━━━━━━━━━━━━━━━━━\u001B[0m\u001B[37m\u001B[0m \u001B[1m2s\u001B[0m 5ms/step - loss: 32.5300 - val_loss: 60.3692\n",
      "Epoch 45/1000\n",
      "\u001B[1m318/318\u001B[0m \u001B[32m━━━━━━━━━━━━━━━━━━━━\u001B[0m\u001B[37m\u001B[0m \u001B[1m2s\u001B[0m 5ms/step - loss: 43.1964 - val_loss: 51.3472\n",
      "Epoch 46/1000\n",
      "\u001B[1m318/318\u001B[0m \u001B[32m━━━━━━━━━━━━━━━━━━━━\u001B[0m\u001B[37m\u001B[0m \u001B[1m2s\u001B[0m 5ms/step - loss: 30.8257 - val_loss: 51.4815\n",
      "Epoch 47/1000\n",
      "\u001B[1m318/318\u001B[0m \u001B[32m━━━━━━━━━━━━━━━━━━━━\u001B[0m\u001B[37m\u001B[0m \u001B[1m2s\u001B[0m 5ms/step - loss: 34.0485 - val_loss: 49.8215\n",
      "Epoch 48/1000\n",
      "\u001B[1m318/318\u001B[0m \u001B[32m━━━━━━━━━━━━━━━━━━━━\u001B[0m\u001B[37m\u001B[0m \u001B[1m2s\u001B[0m 5ms/step - loss: 34.1654 - val_loss: 51.4635\n",
      "Epoch 49/1000\n",
      "\u001B[1m318/318\u001B[0m \u001B[32m━━━━━━━━━━━━━━━━━━━━\u001B[0m\u001B[37m\u001B[0m \u001B[1m2s\u001B[0m 6ms/step - loss: 33.1730 - val_loss: 50.0899\n",
      "Epoch 50/1000\n",
      "\u001B[1m318/318\u001B[0m \u001B[32m━━━━━━━━━━━━━━━━━━━━\u001B[0m\u001B[37m\u001B[0m \u001B[1m2s\u001B[0m 5ms/step - loss: 35.4921 - val_loss: 54.2739\n",
      "Epoch 51/1000\n",
      "\u001B[1m318/318\u001B[0m \u001B[32m━━━━━━━━━━━━━━━━━━━━\u001B[0m\u001B[37m\u001B[0m \u001B[1m2s\u001B[0m 5ms/step - loss: 32.2904 - val_loss: 51.9976\n",
      "Epoch 52/1000\n",
      "\u001B[1m318/318\u001B[0m \u001B[32m━━━━━━━━━━━━━━━━━━━━\u001B[0m\u001B[37m\u001B[0m \u001B[1m2s\u001B[0m 5ms/step - loss: 33.6951 - val_loss: 63.0537\n",
      "Epoch 53/1000\n",
      "\u001B[1m318/318\u001B[0m \u001B[32m━━━━━━━━━━━━━━━━━━━━\u001B[0m\u001B[37m\u001B[0m \u001B[1m2s\u001B[0m 5ms/step - loss: 40.6517 - val_loss: 50.5403\n",
      "Epoch 54/1000\n",
      "\u001B[1m318/318\u001B[0m \u001B[32m━━━━━━━━━━━━━━━━━━━━\u001B[0m\u001B[37m\u001B[0m \u001B[1m2s\u001B[0m 6ms/step - loss: 31.3526 - val_loss: 51.3432\n",
      "Epoch 55/1000\n",
      "\u001B[1m318/318\u001B[0m \u001B[32m━━━━━━━━━━━━━━━━━━━━\u001B[0m\u001B[37m\u001B[0m \u001B[1m2s\u001B[0m 5ms/step - loss: 34.3421 - val_loss: 51.0116\n",
      "Epoch 56/1000\n",
      "\u001B[1m318/318\u001B[0m \u001B[32m━━━━━━━━━━━━━━━━━━━━\u001B[0m\u001B[37m\u001B[0m \u001B[1m2s\u001B[0m 5ms/step - loss: 30.4894 - val_loss: 51.0849\n",
      "Epoch 57/1000\n",
      "\u001B[1m318/318\u001B[0m \u001B[32m━━━━━━━━━━━━━━━━━━━━\u001B[0m\u001B[37m\u001B[0m \u001B[1m2s\u001B[0m 5ms/step - loss: 32.8549 - val_loss: 51.7533\n",
      "Epoch 58/1000\n",
      "\u001B[1m318/318\u001B[0m \u001B[32m━━━━━━━━━━━━━━━━━━━━\u001B[0m\u001B[37m\u001B[0m \u001B[1m2s\u001B[0m 5ms/step - loss: 32.4598 - val_loss: 57.5246\n",
      "Epoch 59/1000\n",
      "\u001B[1m318/318\u001B[0m \u001B[32m━━━━━━━━━━━━━━━━━━━━\u001B[0m\u001B[37m\u001B[0m \u001B[1m2s\u001B[0m 5ms/step - loss: 38.7221 - val_loss: 49.4825\n",
      "Epoch 60/1000\n",
      "\u001B[1m318/318\u001B[0m \u001B[32m━━━━━━━━━━━━━━━━━━━━\u001B[0m\u001B[37m\u001B[0m \u001B[1m2s\u001B[0m 5ms/step - loss: 32.8388 - val_loss: 52.9637\n",
      "Epoch 61/1000\n",
      "\u001B[1m318/318\u001B[0m \u001B[32m━━━━━━━━━━━━━━━━━━━━\u001B[0m\u001B[37m\u001B[0m \u001B[1m2s\u001B[0m 5ms/step - loss: 28.6940 - val_loss: 52.0368\n",
      "Epoch 62/1000\n",
      "\u001B[1m318/318\u001B[0m \u001B[32m━━━━━━━━━━━━━━━━━━━━\u001B[0m\u001B[37m\u001B[0m \u001B[1m2s\u001B[0m 5ms/step - loss: 33.3456 - val_loss: 52.5738\n",
      "Epoch 63/1000\n",
      "\u001B[1m318/318\u001B[0m \u001B[32m━━━━━━━━━━━━━━━━━━━━\u001B[0m\u001B[37m\u001B[0m \u001B[1m2s\u001B[0m 5ms/step - loss: 28.4000 - val_loss: 50.5482\n",
      "Epoch 64/1000\n",
      "\u001B[1m318/318\u001B[0m \u001B[32m━━━━━━━━━━━━━━━━━━━━\u001B[0m\u001B[37m\u001B[0m \u001B[1m2s\u001B[0m 5ms/step - loss: 29.9712 - val_loss: 51.6627\n",
      "Epoch 65/1000\n",
      "\u001B[1m318/318\u001B[0m \u001B[32m━━━━━━━━━━━━━━━━━━━━\u001B[0m\u001B[37m\u001B[0m \u001B[1m2s\u001B[0m 5ms/step - loss: 31.3504 - val_loss: 52.1001\n",
      "Epoch 66/1000\n",
      "\u001B[1m318/318\u001B[0m \u001B[32m━━━━━━━━━━━━━━━━━━━━\u001B[0m\u001B[37m\u001B[0m \u001B[1m2s\u001B[0m 5ms/step - loss: 28.4100 - val_loss: 57.8382\n",
      "Epoch 67/1000\n",
      "\u001B[1m318/318\u001B[0m \u001B[32m━━━━━━━━━━━━━━━━━━━━\u001B[0m\u001B[37m\u001B[0m \u001B[1m2s\u001B[0m 5ms/step - loss: 28.3033 - val_loss: 52.8467\n",
      "Epoch 68/1000\n",
      "\u001B[1m318/318\u001B[0m \u001B[32m━━━━━━━━━━━━━━━━━━━━\u001B[0m\u001B[37m\u001B[0m \u001B[1m2s\u001B[0m 5ms/step - loss: 27.9101 - val_loss: 52.6672\n",
      "Epoch 69/1000\n",
      "\u001B[1m318/318\u001B[0m \u001B[32m━━━━━━━━━━━━━━━━━━━━\u001B[0m\u001B[37m\u001B[0m \u001B[1m2s\u001B[0m 6ms/step - loss: 31.5042 - val_loss: 52.9868\n",
      "Epoch 70/1000\n",
      "\u001B[1m318/318\u001B[0m \u001B[32m━━━━━━━━━━━━━━━━━━━━\u001B[0m\u001B[37m\u001B[0m \u001B[1m2s\u001B[0m 7ms/step - loss: 32.6911 - val_loss: 50.9148\n",
      "Epoch 71/1000\n",
      "\u001B[1m318/318\u001B[0m \u001B[32m━━━━━━━━━━━━━━━━━━━━\u001B[0m\u001B[37m\u001B[0m \u001B[1m2s\u001B[0m 6ms/step - loss: 25.6465 - val_loss: 47.7442\n",
      "Epoch 72/1000\n",
      "\u001B[1m318/318\u001B[0m \u001B[32m━━━━━━━━━━━━━━━━━━━━\u001B[0m\u001B[37m\u001B[0m \u001B[1m2s\u001B[0m 5ms/step - loss: 27.2783 - val_loss: 50.6119\n",
      "Epoch 73/1000\n",
      "\u001B[1m318/318\u001B[0m \u001B[32m━━━━━━━━━━━━━━━━━━━━\u001B[0m\u001B[37m\u001B[0m \u001B[1m2s\u001B[0m 5ms/step - loss: 27.5195 - val_loss: 50.9311\n",
      "Epoch 74/1000\n",
      "\u001B[1m318/318\u001B[0m \u001B[32m━━━━━━━━━━━━━━━━━━━━\u001B[0m\u001B[37m\u001B[0m \u001B[1m2s\u001B[0m 5ms/step - loss: 31.8801 - val_loss: 49.2406\n",
      "Epoch 75/1000\n",
      "\u001B[1m318/318\u001B[0m \u001B[32m━━━━━━━━━━━━━━━━━━━━\u001B[0m\u001B[37m\u001B[0m \u001B[1m2s\u001B[0m 5ms/step - loss: 27.9295 - val_loss: 53.3360\n",
      "Epoch 76/1000\n",
      "\u001B[1m318/318\u001B[0m \u001B[32m━━━━━━━━━━━━━━━━━━━━\u001B[0m\u001B[37m\u001B[0m \u001B[1m2s\u001B[0m 5ms/step - loss: 29.7491 - val_loss: 51.5427\n",
      "Epoch 77/1000\n",
      "\u001B[1m318/318\u001B[0m \u001B[32m━━━━━━━━━━━━━━━━━━━━\u001B[0m\u001B[37m\u001B[0m \u001B[1m2s\u001B[0m 5ms/step - loss: 30.0817 - val_loss: 48.4155\n",
      "Epoch 78/1000\n",
      "\u001B[1m318/318\u001B[0m \u001B[32m━━━━━━━━━━━━━━━━━━━━\u001B[0m\u001B[37m\u001B[0m \u001B[1m1s\u001B[0m 5ms/step - loss: 27.5995 - val_loss: 57.8479\n",
      "Epoch 79/1000\n",
      "\u001B[1m318/318\u001B[0m \u001B[32m━━━━━━━━━━━━━━━━━━━━\u001B[0m\u001B[37m\u001B[0m \u001B[1m1s\u001B[0m 4ms/step - loss: 30.3172 - val_loss: 50.7770\n",
      "Epoch 80/1000\n",
      "\u001B[1m318/318\u001B[0m \u001B[32m━━━━━━━━━━━━━━━━━━━━\u001B[0m\u001B[37m\u001B[0m \u001B[1m1s\u001B[0m 4ms/step - loss: 28.7175 - val_loss: 49.2188\n",
      "Epoch 81/1000\n",
      "\u001B[1m318/318\u001B[0m \u001B[32m━━━━━━━━━━━━━━━━━━━━\u001B[0m\u001B[37m\u001B[0m \u001B[1m2s\u001B[0m 5ms/step - loss: 28.5698 - val_loss: 53.7015\n",
      "Epoch 82/1000\n",
      "\u001B[1m318/318\u001B[0m \u001B[32m━━━━━━━━━━━━━━━━━━━━\u001B[0m\u001B[37m\u001B[0m \u001B[1m2s\u001B[0m 5ms/step - loss: 25.6751 - val_loss: 53.4941\n",
      "Epoch 83/1000\n",
      "\u001B[1m318/318\u001B[0m \u001B[32m━━━━━━━━━━━━━━━━━━━━\u001B[0m\u001B[37m\u001B[0m \u001B[1m2s\u001B[0m 6ms/step - loss: 29.0833 - val_loss: 51.5890\n",
      "Epoch 84/1000\n",
      "\u001B[1m318/318\u001B[0m \u001B[32m━━━━━━━━━━━━━━━━━━━━\u001B[0m\u001B[37m\u001B[0m \u001B[1m2s\u001B[0m 6ms/step - loss: 26.5878 - val_loss: 54.1056\n",
      "Epoch 85/1000\n",
      "\u001B[1m318/318\u001B[0m \u001B[32m━━━━━━━━━━━━━━━━━━━━\u001B[0m\u001B[37m\u001B[0m \u001B[1m2s\u001B[0m 6ms/step - loss: 27.2122 - val_loss: 55.3721\n",
      "Epoch 86/1000\n",
      "\u001B[1m318/318\u001B[0m \u001B[32m━━━━━━━━━━━━━━━━━━━━\u001B[0m\u001B[37m\u001B[0m \u001B[1m2s\u001B[0m 7ms/step - loss: 29.9684 - val_loss: 54.7900\n",
      "Epoch 87/1000\n",
      "\u001B[1m318/318\u001B[0m \u001B[32m━━━━━━━━━━━━━━━━━━━━\u001B[0m\u001B[37m\u001B[0m \u001B[1m2s\u001B[0m 6ms/step - loss: 27.9106 - val_loss: 55.7791\n",
      "Epoch 88/1000\n",
      "\u001B[1m318/318\u001B[0m \u001B[32m━━━━━━━━━━━━━━━━━━━━\u001B[0m\u001B[37m\u001B[0m \u001B[1m2s\u001B[0m 6ms/step - loss: 25.0778 - val_loss: 51.7376\n",
      "Epoch 89/1000\n",
      "\u001B[1m318/318\u001B[0m \u001B[32m━━━━━━━━━━━━━━━━━━━━\u001B[0m\u001B[37m\u001B[0m \u001B[1m2s\u001B[0m 6ms/step - loss: 23.6891 - val_loss: 51.9640\n",
      "Epoch 90/1000\n",
      "\u001B[1m318/318\u001B[0m \u001B[32m━━━━━━━━━━━━━━━━━━━━\u001B[0m\u001B[37m\u001B[0m \u001B[1m2s\u001B[0m 5ms/step - loss: 28.2209 - val_loss: 52.7475\n",
      "Epoch 91/1000\n",
      "\u001B[1m318/318\u001B[0m \u001B[32m━━━━━━━━━━━━━━━━━━━━\u001B[0m\u001B[37m\u001B[0m \u001B[1m2s\u001B[0m 5ms/step - loss: 23.5169 - val_loss: 55.2142\n",
      "Epoch 92/1000\n",
      "\u001B[1m318/318\u001B[0m \u001B[32m━━━━━━━━━━━━━━━━━━━━\u001B[0m\u001B[37m\u001B[0m \u001B[1m2s\u001B[0m 5ms/step - loss: 23.5893 - val_loss: 51.7983\n",
      "Epoch 93/1000\n",
      "\u001B[1m318/318\u001B[0m \u001B[32m━━━━━━━━━━━━━━━━━━━━\u001B[0m\u001B[37m\u001B[0m \u001B[1m2s\u001B[0m 5ms/step - loss: 23.6378 - val_loss: 52.2248\n",
      "Epoch 94/1000\n",
      "\u001B[1m318/318\u001B[0m \u001B[32m━━━━━━━━━━━━━━━━━━━━\u001B[0m\u001B[37m\u001B[0m \u001B[1m2s\u001B[0m 5ms/step - loss: 25.6910 - val_loss: 53.3033\n",
      "Epoch 95/1000\n",
      "\u001B[1m318/318\u001B[0m \u001B[32m━━━━━━━━━━━━━━━━━━━━\u001B[0m\u001B[37m\u001B[0m \u001B[1m2s\u001B[0m 5ms/step - loss: 27.6026 - val_loss: 51.5033\n",
      "Epoch 96/1000\n",
      "\u001B[1m318/318\u001B[0m \u001B[32m━━━━━━━━━━━━━━━━━━━━\u001B[0m\u001B[37m\u001B[0m \u001B[1m2s\u001B[0m 5ms/step - loss: 20.3244 - val_loss: 57.8174\n",
      "Epoch 97/1000\n",
      "\u001B[1m318/318\u001B[0m \u001B[32m━━━━━━━━━━━━━━━━━━━━\u001B[0m\u001B[37m\u001B[0m \u001B[1m2s\u001B[0m 5ms/step - loss: 27.9146 - val_loss: 65.0185\n",
      "Epoch 98/1000\n",
      "\u001B[1m318/318\u001B[0m \u001B[32m━━━━━━━━━━━━━━━━━━━━\u001B[0m\u001B[37m\u001B[0m \u001B[1m2s\u001B[0m 5ms/step - loss: 32.0637 - val_loss: 51.2053\n",
      "Epoch 99/1000\n",
      "\u001B[1m318/318\u001B[0m \u001B[32m━━━━━━━━━━━━━━━━━━━━\u001B[0m\u001B[37m\u001B[0m \u001B[1m2s\u001B[0m 5ms/step - loss: 25.0429 - val_loss: 51.4993\n",
      "Epoch 100/1000\n",
      "\u001B[1m318/318\u001B[0m \u001B[32m━━━━━━━━━━━━━━━━━━━━\u001B[0m\u001B[37m\u001B[0m \u001B[1m2s\u001B[0m 5ms/step - loss: 26.8563 - val_loss: 56.1907\n",
      "Epoch 101/1000\n",
      "\u001B[1m318/318\u001B[0m \u001B[32m━━━━━━━━━━━━━━━━━━━━\u001B[0m\u001B[37m\u001B[0m \u001B[1m2s\u001B[0m 5ms/step - loss: 26.8616 - val_loss: 57.7365\n",
      "Epoch 102/1000\n",
      "\u001B[1m318/318\u001B[0m \u001B[32m━━━━━━━━━━━━━━━━━━━━\u001B[0m\u001B[37m\u001B[0m \u001B[1m2s\u001B[0m 5ms/step - loss: 25.3438 - val_loss: 53.3462\n",
      "Epoch 103/1000\n",
      "\u001B[1m318/318\u001B[0m \u001B[32m━━━━━━━━━━━━━━━━━━━━\u001B[0m\u001B[37m\u001B[0m \u001B[1m2s\u001B[0m 5ms/step - loss: 25.5012 - val_loss: 58.7527\n",
      "Epoch 104/1000\n",
      "\u001B[1m318/318\u001B[0m \u001B[32m━━━━━━━━━━━━━━━━━━━━\u001B[0m\u001B[37m\u001B[0m \u001B[1m2s\u001B[0m 5ms/step - loss: 29.0000 - val_loss: 52.1145\n",
      "Epoch 105/1000\n",
      "\u001B[1m318/318\u001B[0m \u001B[32m━━━━━━━━━━━━━━━━━━━━\u001B[0m\u001B[37m\u001B[0m \u001B[1m2s\u001B[0m 7ms/step - loss: 26.3403 - val_loss: 51.7699\n",
      "Epoch 106/1000\n",
      "\u001B[1m318/318\u001B[0m \u001B[32m━━━━━━━━━━━━━━━━━━━━\u001B[0m\u001B[37m\u001B[0m \u001B[1m2s\u001B[0m 6ms/step - loss: 22.1569 - val_loss: 54.1867\n",
      "Epoch 107/1000\n",
      "\u001B[1m318/318\u001B[0m \u001B[32m━━━━━━━━━━━━━━━━━━━━\u001B[0m\u001B[37m\u001B[0m \u001B[1m2s\u001B[0m 7ms/step - loss: 26.2090 - val_loss: 57.1796\n",
      "Epoch 108/1000\n",
      "\u001B[1m318/318\u001B[0m \u001B[32m━━━━━━━━━━━━━━━━━━━━\u001B[0m\u001B[37m\u001B[0m \u001B[1m2s\u001B[0m 5ms/step - loss: 24.2431 - val_loss: 56.3012\n",
      "Epoch 109/1000\n",
      "\u001B[1m318/318\u001B[0m \u001B[32m━━━━━━━━━━━━━━━━━━━━\u001B[0m\u001B[37m\u001B[0m \u001B[1m2s\u001B[0m 5ms/step - loss: 24.8827 - val_loss: 54.3831\n",
      "Epoch 110/1000\n",
      "\u001B[1m318/318\u001B[0m \u001B[32m━━━━━━━━━━━━━━━━━━━━\u001B[0m\u001B[37m\u001B[0m \u001B[1m2s\u001B[0m 5ms/step - loss: 25.6548 - val_loss: 58.4463\n",
      "Epoch 111/1000\n",
      "\u001B[1m318/318\u001B[0m \u001B[32m━━━━━━━━━━━━━━━━━━━━\u001B[0m\u001B[37m\u001B[0m \u001B[1m2s\u001B[0m 5ms/step - loss: 26.2027 - val_loss: 54.8644\n",
      "Epoch 112/1000\n",
      "\u001B[1m318/318\u001B[0m \u001B[32m━━━━━━━━━━━━━━━━━━━━\u001B[0m\u001B[37m\u001B[0m \u001B[1m2s\u001B[0m 5ms/step - loss: 23.6808 - val_loss: 53.1682\n",
      "Epoch 113/1000\n",
      "\u001B[1m318/318\u001B[0m \u001B[32m━━━━━━━━━━━━━━━━━━━━\u001B[0m\u001B[37m\u001B[0m \u001B[1m2s\u001B[0m 5ms/step - loss: 25.4007 - val_loss: 62.0544\n",
      "Epoch 114/1000\n",
      "\u001B[1m318/318\u001B[0m \u001B[32m━━━━━━━━━━━━━━━━━━━━\u001B[0m\u001B[37m\u001B[0m \u001B[1m2s\u001B[0m 5ms/step - loss: 28.2039 - val_loss: 53.8178\n",
      "Epoch 115/1000\n",
      "\u001B[1m318/318\u001B[0m \u001B[32m━━━━━━━━━━━━━━━━━━━━\u001B[0m\u001B[37m\u001B[0m \u001B[1m2s\u001B[0m 5ms/step - loss: 21.3763 - val_loss: 61.9968\n",
      "Epoch 116/1000\n",
      "\u001B[1m318/318\u001B[0m \u001B[32m━━━━━━━━━━━━━━━━━━━━\u001B[0m\u001B[37m\u001B[0m \u001B[1m2s\u001B[0m 5ms/step - loss: 25.5458 - val_loss: 54.6606\n",
      "Epoch 117/1000\n",
      "\u001B[1m318/318\u001B[0m \u001B[32m━━━━━━━━━━━━━━━━━━━━\u001B[0m\u001B[37m\u001B[0m \u001B[1m2s\u001B[0m 5ms/step - loss: 23.3292 - val_loss: 52.8346\n",
      "Epoch 118/1000\n",
      "\u001B[1m318/318\u001B[0m \u001B[32m━━━━━━━━━━━━━━━━━━━━\u001B[0m\u001B[37m\u001B[0m \u001B[1m2s\u001B[0m 5ms/step - loss: 22.1630 - val_loss: 51.1070\n",
      "Epoch 119/1000\n",
      "\u001B[1m318/318\u001B[0m \u001B[32m━━━━━━━━━━━━━━━━━━━━\u001B[0m\u001B[37m\u001B[0m \u001B[1m2s\u001B[0m 5ms/step - loss: 22.0707 - val_loss: 55.9642\n",
      "Epoch 120/1000\n",
      "\u001B[1m318/318\u001B[0m \u001B[32m━━━━━━━━━━━━━━━━━━━━\u001B[0m\u001B[37m\u001B[0m \u001B[1m2s\u001B[0m 5ms/step - loss: 24.5083 - val_loss: 53.3100\n",
      "Epoch 121/1000\n",
      "\u001B[1m318/318\u001B[0m \u001B[32m━━━━━━━━━━━━━━━━━━━━\u001B[0m\u001B[37m\u001B[0m \u001B[1m2s\u001B[0m 5ms/step - loss: 24.5088 - val_loss: 53.4476\n",
      "Epoch 122/1000\n",
      "\u001B[1m318/318\u001B[0m \u001B[32m━━━━━━━━━━━━━━━━━━━━\u001B[0m\u001B[37m\u001B[0m \u001B[1m2s\u001B[0m 5ms/step - loss: 20.7618 - val_loss: 58.0362\n",
      "Epoch 123/1000\n",
      "\u001B[1m318/318\u001B[0m \u001B[32m━━━━━━━━━━━━━━━━━━━━\u001B[0m\u001B[37m\u001B[0m \u001B[1m2s\u001B[0m 5ms/step - loss: 22.4374 - val_loss: 56.3669\n",
      "Epoch 124/1000\n",
      "\u001B[1m318/318\u001B[0m \u001B[32m━━━━━━━━━━━━━━━━━━━━\u001B[0m\u001B[37m\u001B[0m \u001B[1m2s\u001B[0m 5ms/step - loss: 18.6219 - val_loss: 54.2846\n",
      "Epoch 125/1000\n",
      "\u001B[1m318/318\u001B[0m \u001B[32m━━━━━━━━━━━━━━━━━━━━\u001B[0m\u001B[37m\u001B[0m \u001B[1m2s\u001B[0m 5ms/step - loss: 18.0305 - val_loss: 55.4640\n",
      "Epoch 126/1000\n",
      "\u001B[1m318/318\u001B[0m \u001B[32m━━━━━━━━━━━━━━━━━━━━\u001B[0m\u001B[37m\u001B[0m \u001B[1m2s\u001B[0m 5ms/step - loss: 21.6107 - val_loss: 62.2314\n",
      "Epoch 127/1000\n",
      "\u001B[1m318/318\u001B[0m \u001B[32m━━━━━━━━━━━━━━━━━━━━\u001B[0m\u001B[37m\u001B[0m \u001B[1m2s\u001B[0m 5ms/step - loss: 20.9680 - val_loss: 59.5911\n",
      "Epoch 128/1000\n",
      "\u001B[1m318/318\u001B[0m \u001B[32m━━━━━━━━━━━━━━━━━━━━\u001B[0m\u001B[37m\u001B[0m \u001B[1m2s\u001B[0m 5ms/step - loss: 24.9659 - val_loss: 53.1937\n",
      "Epoch 129/1000\n",
      "\u001B[1m318/318\u001B[0m \u001B[32m━━━━━━━━━━━━━━━━━━━━\u001B[0m\u001B[37m\u001B[0m \u001B[1m2s\u001B[0m 5ms/step - loss: 22.3910 - val_loss: 56.6351\n",
      "Epoch 130/1000\n",
      "\u001B[1m318/318\u001B[0m \u001B[32m━━━━━━━━━━━━━━━━━━━━\u001B[0m\u001B[37m\u001B[0m \u001B[1m2s\u001B[0m 5ms/step - loss: 20.0703 - val_loss: 53.8221\n",
      "Epoch 131/1000\n",
      "\u001B[1m318/318\u001B[0m \u001B[32m━━━━━━━━━━━━━━━━━━━━\u001B[0m\u001B[37m\u001B[0m \u001B[1m2s\u001B[0m 5ms/step - loss: 19.1443 - val_loss: 51.1445\n",
      "Epoch 132/1000\n",
      "\u001B[1m318/318\u001B[0m \u001B[32m━━━━━━━━━━━━━━━━━━━━\u001B[0m\u001B[37m\u001B[0m \u001B[1m2s\u001B[0m 5ms/step - loss: 18.6806 - val_loss: 60.9930\n",
      "Epoch 133/1000\n",
      "\u001B[1m318/318\u001B[0m \u001B[32m━━━━━━━━━━━━━━━━━━━━\u001B[0m\u001B[37m\u001B[0m \u001B[1m2s\u001B[0m 5ms/step - loss: 25.8472 - val_loss: 59.4251\n",
      "Epoch 134/1000\n",
      "\u001B[1m318/318\u001B[0m \u001B[32m━━━━━━━━━━━━━━━━━━━━\u001B[0m\u001B[37m\u001B[0m \u001B[1m2s\u001B[0m 6ms/step - loss: 19.6113 - val_loss: 54.7421\n",
      "Epoch 135/1000\n",
      "\u001B[1m318/318\u001B[0m \u001B[32m━━━━━━━━━━━━━━━━━━━━\u001B[0m\u001B[37m\u001B[0m \u001B[1m2s\u001B[0m 5ms/step - loss: 17.4036 - val_loss: 52.8070\n",
      "Epoch 136/1000\n",
      "\u001B[1m318/318\u001B[0m \u001B[32m━━━━━━━━━━━━━━━━━━━━\u001B[0m\u001B[37m\u001B[0m \u001B[1m2s\u001B[0m 5ms/step - loss: 17.1754 - val_loss: 54.5420\n",
      "Epoch 137/1000\n",
      "\u001B[1m318/318\u001B[0m \u001B[32m━━━━━━━━━━━━━━━━━━━━\u001B[0m\u001B[37m\u001B[0m \u001B[1m2s\u001B[0m 5ms/step - loss: 15.7560 - val_loss: 54.2678\n",
      "Epoch 138/1000\n",
      "\u001B[1m318/318\u001B[0m \u001B[32m━━━━━━━━━━━━━━━━━━━━\u001B[0m\u001B[37m\u001B[0m \u001B[1m2s\u001B[0m 5ms/step - loss: 21.1974 - val_loss: 54.4566\n",
      "Epoch 139/1000\n",
      "\u001B[1m318/318\u001B[0m \u001B[32m━━━━━━━━━━━━━━━━━━━━\u001B[0m\u001B[37m\u001B[0m \u001B[1m2s\u001B[0m 5ms/step - loss: 19.2321 - val_loss: 56.5026\n",
      "Epoch 140/1000\n",
      "\u001B[1m318/318\u001B[0m \u001B[32m━━━━━━━━━━━━━━━━━━━━\u001B[0m\u001B[37m\u001B[0m \u001B[1m2s\u001B[0m 6ms/step - loss: 20.1451 - val_loss: 54.3548\n",
      "Epoch 141/1000\n",
      "\u001B[1m318/318\u001B[0m \u001B[32m━━━━━━━━━━━━━━━━━━━━\u001B[0m\u001B[37m\u001B[0m \u001B[1m2s\u001B[0m 5ms/step - loss: 20.4357 - val_loss: 54.3607\n",
      "Epoch 142/1000\n",
      "\u001B[1m318/318\u001B[0m \u001B[32m━━━━━━━━━━━━━━━━━━━━\u001B[0m\u001B[37m\u001B[0m \u001B[1m2s\u001B[0m 5ms/step - loss: 20.6757 - val_loss: 60.6954\n",
      "Epoch 143/1000\n",
      "\u001B[1m318/318\u001B[0m \u001B[32m━━━━━━━━━━━━━━━━━━━━\u001B[0m\u001B[37m\u001B[0m \u001B[1m2s\u001B[0m 5ms/step - loss: 18.8979 - val_loss: 56.4505\n",
      "Epoch 144/1000\n",
      "\u001B[1m318/318\u001B[0m \u001B[32m━━━━━━━━━━━━━━━━━━━━\u001B[0m\u001B[37m\u001B[0m \u001B[1m2s\u001B[0m 5ms/step - loss: 19.4163 - val_loss: 56.1400\n",
      "Epoch 145/1000\n",
      "\u001B[1m318/318\u001B[0m \u001B[32m━━━━━━━━━━━━━━━━━━━━\u001B[0m\u001B[37m\u001B[0m \u001B[1m2s\u001B[0m 5ms/step - loss: 20.0684 - val_loss: 57.1414\n",
      "Epoch 146/1000\n",
      "\u001B[1m318/318\u001B[0m \u001B[32m━━━━━━━━━━━━━━━━━━━━\u001B[0m\u001B[37m\u001B[0m \u001B[1m2s\u001B[0m 5ms/step - loss: 21.9634 - val_loss: 55.0501\n",
      "Epoch 147/1000\n",
      "\u001B[1m318/318\u001B[0m \u001B[32m━━━━━━━━━━━━━━━━━━━━\u001B[0m\u001B[37m\u001B[0m \u001B[1m2s\u001B[0m 5ms/step - loss: 20.7405 - val_loss: 54.2302\n",
      "Epoch 148/1000\n",
      "\u001B[1m318/318\u001B[0m \u001B[32m━━━━━━━━━━━━━━━━━━━━\u001B[0m\u001B[37m\u001B[0m \u001B[1m2s\u001B[0m 5ms/step - loss: 19.1524 - val_loss: 53.7134\n",
      "Epoch 149/1000\n",
      "\u001B[1m318/318\u001B[0m \u001B[32m━━━━━━━━━━━━━━━━━━━━\u001B[0m\u001B[37m\u001B[0m \u001B[1m2s\u001B[0m 5ms/step - loss: 18.7914 - val_loss: 57.8307\n",
      "Epoch 150/1000\n",
      "\u001B[1m318/318\u001B[0m \u001B[32m━━━━━━━━━━━━━━━━━━━━\u001B[0m\u001B[37m\u001B[0m \u001B[1m2s\u001B[0m 5ms/step - loss: 18.3002 - val_loss: 56.3115\n",
      "Epoch 151/1000\n",
      "\u001B[1m318/318\u001B[0m \u001B[32m━━━━━━━━━━━━━━━━━━━━\u001B[0m\u001B[37m\u001B[0m \u001B[1m2s\u001B[0m 5ms/step - loss: 20.9331 - val_loss: 53.9797\n",
      "Epoch 152/1000\n",
      "\u001B[1m318/318\u001B[0m \u001B[32m━━━━━━━━━━━━━━━━━━━━\u001B[0m\u001B[37m\u001B[0m \u001B[1m2s\u001B[0m 5ms/step - loss: 16.3093 - val_loss: 59.3970\n",
      "Epoch 153/1000\n",
      "\u001B[1m318/318\u001B[0m \u001B[32m━━━━━━━━━━━━━━━━━━━━\u001B[0m\u001B[37m\u001B[0m \u001B[1m2s\u001B[0m 5ms/step - loss: 22.7910 - val_loss: 58.7970\n",
      "Epoch 154/1000\n",
      "\u001B[1m318/318\u001B[0m \u001B[32m━━━━━━━━━━━━━━━━━━━━\u001B[0m\u001B[37m\u001B[0m \u001B[1m2s\u001B[0m 5ms/step - loss: 18.2546 - val_loss: 53.3865\n",
      "Epoch 155/1000\n",
      "\u001B[1m318/318\u001B[0m \u001B[32m━━━━━━━━━━━━━━━━━━━━\u001B[0m\u001B[37m\u001B[0m \u001B[1m2s\u001B[0m 5ms/step - loss: 16.7055 - val_loss: 55.5149\n",
      "Epoch 156/1000\n",
      "\u001B[1m318/318\u001B[0m \u001B[32m━━━━━━━━━━━━━━━━━━━━\u001B[0m\u001B[37m\u001B[0m \u001B[1m2s\u001B[0m 5ms/step - loss: 16.6885 - val_loss: 61.0076\n",
      "Epoch 157/1000\n",
      "\u001B[1m318/318\u001B[0m \u001B[32m━━━━━━━━━━━━━━━━━━━━\u001B[0m\u001B[37m\u001B[0m \u001B[1m2s\u001B[0m 6ms/step - loss: 18.0538 - val_loss: 58.1666\n",
      "Epoch 158/1000\n",
      "\u001B[1m318/318\u001B[0m \u001B[32m━━━━━━━━━━━━━━━━━━━━\u001B[0m\u001B[37m\u001B[0m \u001B[1m2s\u001B[0m 6ms/step - loss: 19.5623 - val_loss: 55.3865\n",
      "Epoch 159/1000\n",
      "\u001B[1m318/318\u001B[0m \u001B[32m━━━━━━━━━━━━━━━━━━━━\u001B[0m\u001B[37m\u001B[0m \u001B[1m2s\u001B[0m 5ms/step - loss: 15.5691 - val_loss: 53.7333\n",
      "Epoch 160/1000\n",
      "\u001B[1m318/318\u001B[0m \u001B[32m━━━━━━━━━━━━━━━━━━━━\u001B[0m\u001B[37m\u001B[0m \u001B[1m2s\u001B[0m 5ms/step - loss: 17.4282 - val_loss: 59.1494\n",
      "Epoch 161/1000\n",
      "\u001B[1m318/318\u001B[0m \u001B[32m━━━━━━━━━━━━━━━━━━━━\u001B[0m\u001B[37m\u001B[0m \u001B[1m2s\u001B[0m 5ms/step - loss: 16.9384 - val_loss: 52.5613\n",
      "Epoch 162/1000\n",
      "\u001B[1m318/318\u001B[0m \u001B[32m━━━━━━━━━━━━━━━━━━━━\u001B[0m\u001B[37m\u001B[0m \u001B[1m2s\u001B[0m 5ms/step - loss: 16.0864 - val_loss: 58.3511\n",
      "Epoch 163/1000\n",
      "\u001B[1m318/318\u001B[0m \u001B[32m━━━━━━━━━━━━━━━━━━━━\u001B[0m\u001B[37m\u001B[0m \u001B[1m2s\u001B[0m 5ms/step - loss: 20.3566 - val_loss: 57.8010\n",
      "Epoch 164/1000\n",
      "\u001B[1m318/318\u001B[0m \u001B[32m━━━━━━━━━━━━━━━━━━━━\u001B[0m\u001B[37m\u001B[0m \u001B[1m2s\u001B[0m 6ms/step - loss: 19.5295 - val_loss: 60.0135\n",
      "Epoch 165/1000\n",
      "\u001B[1m318/318\u001B[0m \u001B[32m━━━━━━━━━━━━━━━━━━━━\u001B[0m\u001B[37m\u001B[0m \u001B[1m2s\u001B[0m 5ms/step - loss: 24.3373 - val_loss: 54.6194\n",
      "Epoch 166/1000\n",
      "\u001B[1m318/318\u001B[0m \u001B[32m━━━━━━━━━━━━━━━━━━━━\u001B[0m\u001B[37m\u001B[0m \u001B[1m2s\u001B[0m 5ms/step - loss: 18.7668 - val_loss: 54.8755\n",
      "Epoch 167/1000\n",
      "\u001B[1m318/318\u001B[0m \u001B[32m━━━━━━━━━━━━━━━━━━━━\u001B[0m\u001B[37m\u001B[0m \u001B[1m2s\u001B[0m 5ms/step - loss: 19.5958 - val_loss: 61.6939\n",
      "Epoch 168/1000\n",
      "\u001B[1m318/318\u001B[0m \u001B[32m━━━━━━━━━━━━━━━━━━━━\u001B[0m\u001B[37m\u001B[0m \u001B[1m2s\u001B[0m 5ms/step - loss: 19.4022 - val_loss: 60.4487\n",
      "Epoch 169/1000\n",
      "\u001B[1m318/318\u001B[0m \u001B[32m━━━━━━━━━━━━━━━━━━━━\u001B[0m\u001B[37m\u001B[0m \u001B[1m2s\u001B[0m 6ms/step - loss: 21.2243 - val_loss: 53.7263\n",
      "Epoch 170/1000\n",
      "\u001B[1m318/318\u001B[0m \u001B[32m━━━━━━━━━━━━━━━━━━━━\u001B[0m\u001B[37m\u001B[0m \u001B[1m2s\u001B[0m 5ms/step - loss: 18.9736 - val_loss: 57.8295\n",
      "Epoch 171/1000\n",
      "\u001B[1m318/318\u001B[0m \u001B[32m━━━━━━━━━━━━━━━━━━━━\u001B[0m\u001B[37m\u001B[0m \u001B[1m2s\u001B[0m 5ms/step - loss: 20.6706 - val_loss: 60.8090\n"
     ]
    },
    {
     "data": {
      "text/plain": "<keras.src.callbacks.history.History at 0x15a5c90d0>"
     },
     "execution_count": 162,
     "metadata": {},
     "output_type": "execute_result"
    }
   ],
   "source": [
    "nn_model_site1.fit(X_s1_train, y_s1_train, epochs=1000, validation_data=(X_s1_val,y_s1_val), callbacks=[callback])\n"
   ],
   "metadata": {
    "collapsed": false,
    "ExecuteTime": {
     "end_time": "2025-01-28T11:03:33.228006Z",
     "start_time": "2025-01-28T10:58:41.265007Z"
    }
   },
   "id": "a3da3b3f8bbc7708",
   "execution_count": 162
  },
  {
   "cell_type": "code",
   "outputs": [
    {
     "name": "stdout",
     "output_type": "stream",
     "text": [
      "\u001B[1m191/191\u001B[0m \u001B[32m━━━━━━━━━━━━━━━━━━━━\u001B[0m\u001B[37m\u001B[0m \u001B[1m1s\u001B[0m 2ms/step\n",
      "MAE: 3.2738418579101562\n",
      "RMSE: 7.171414628555388\n",
      "R2: 0.8550764918327332\n",
      "Accuracy: 72.74 %\n"
     ]
    }
   ],
   "source": [
    "nn_pred_site1 = nn_model_site1.predict(X_s1_test)\n",
    "\n",
    "# Calculate MAE, RMSE and r2\n",
    "nn_mae_s1 = mean_absolute_error(y_s1_test,nn_pred_site1)\n",
    "nn_rmse_s1 = mean_squared_error(y_s1_test,nn_pred_site1)**0.5\n",
    "nn_r2_s1 = r2_score(y_s1_test, nn_pred_site1)\n",
    "\n",
    "print(\"MAE:\", nn_mae_s1)\n",
    "print(\"RMSE:\", nn_rmse_s1)\n",
    "print(\"R2:\", nn_r2_s1)\n",
    "print(\"Accuracy:\", round((1-(nn_mae_s1/predictionDF_site1[\"connectedCars\"].mean()))*100,2), \"%\")\n"
   ],
   "metadata": {
    "collapsed": false,
    "ExecuteTime": {
     "end_time": "2025-01-28T11:03:33.928902Z",
     "start_time": "2025-01-28T11:03:33.210276Z"
    }
   },
   "id": "3ce189f06fbda341",
   "execution_count": 163
  },
  {
   "cell_type": "markdown",
   "source": [
    "# NEURAL NETWORK: PREDICTION connectedCars SITE 2"
   ],
   "metadata": {
    "collapsed": false
   },
   "id": "30122325ae276fca"
  },
  {
   "cell_type": "code",
   "outputs": [],
   "source": [
    "X_s2 = predictionDF_site2.copy()\n",
    "X_s2 = X_s2.drop([\"connectedCars\",\"utilization\",\"temperature\",\"time_of_day\"], axis = 1)\n",
    "y_s2 = predictionDF_site2[[\"connectedCars\"]]"
   ],
   "metadata": {
    "collapsed": false,
    "ExecuteTime": {
     "end_time": "2025-01-28T11:03:33.985983Z",
     "start_time": "2025-01-28T11:03:33.921536Z"
    }
   },
   "id": "6faa8d9564bea3f7",
   "execution_count": 164
  },
  {
   "cell_type": "code",
   "outputs": [
    {
     "name": "stdout",
     "output_type": "stream",
     "text": [
      "<class 'pandas.core.frame.DataFrame'>\n",
      "Index: 23792 entries, 0 to 26295\n",
      "Data columns (total 8 columns):\n",
      " #   Column            Non-Null Count  Dtype  \n",
      "---  ------            --------------  -----  \n",
      " 0   windspeed         23792 non-null  float64\n",
      " 1   felt_temperature  23792 non-null  float64\n",
      " 2   Season            23792 non-null  int64  \n",
      " 3   date_month        23792 non-null  float64\n",
      " 4   weekday           23792 non-null  int64  \n",
      " 5   Weekday/Weekend   23792 non-null  int64  \n",
      " 6   covid             23792 non-null  int64  \n",
      " 7   hour_of_day       23792 non-null  int32  \n",
      "dtypes: float64(3), int32(1), int64(4)\n",
      "memory usage: 1.5 MB\n"
     ]
    }
   ],
   "source": [
    "X_s2.info()"
   ],
   "metadata": {
    "collapsed": false,
    "ExecuteTime": {
     "end_time": "2025-01-28T11:03:34.027074Z",
     "start_time": "2025-01-28T11:03:33.948713Z"
    }
   },
   "id": "18bb6c7917970f4b",
   "execution_count": 165
  },
  {
   "cell_type": "code",
   "outputs": [
    {
     "data": {
      "text/plain": "   windspeed  felt_temperature  Season  date_month  weekday  Weekday/Weekend  \\\n0        6.0              12.0       1         4.0        2                0   \n1        7.0              12.0       1         4.0        2                0   \n2        9.0              12.0       1         4.0        2                0   \n3        9.0              12.0       1         4.0        2                0   \n4        7.0              12.0       1         4.0        2                0   \n\n   covid  hour_of_day  \n0      0           11  \n1      0           12  \n2      0           12  \n3      0           13  \n4      0           13  ",
      "text/html": "<div>\n<style scoped>\n    .dataframe tbody tr th:only-of-type {\n        vertical-align: middle;\n    }\n\n    .dataframe tbody tr th {\n        vertical-align: top;\n    }\n\n    .dataframe thead th {\n        text-align: right;\n    }\n</style>\n<table border=\"1\" class=\"dataframe\">\n  <thead>\n    <tr style=\"text-align: right;\">\n      <th></th>\n      <th>windspeed</th>\n      <th>felt_temperature</th>\n      <th>Season</th>\n      <th>date_month</th>\n      <th>weekday</th>\n      <th>Weekday/Weekend</th>\n      <th>covid</th>\n      <th>hour_of_day</th>\n    </tr>\n  </thead>\n  <tbody>\n    <tr>\n      <th>0</th>\n      <td>6.0</td>\n      <td>12.0</td>\n      <td>1</td>\n      <td>4.0</td>\n      <td>2</td>\n      <td>0</td>\n      <td>0</td>\n      <td>11</td>\n    </tr>\n    <tr>\n      <th>1</th>\n      <td>7.0</td>\n      <td>12.0</td>\n      <td>1</td>\n      <td>4.0</td>\n      <td>2</td>\n      <td>0</td>\n      <td>0</td>\n      <td>12</td>\n    </tr>\n    <tr>\n      <th>2</th>\n      <td>9.0</td>\n      <td>12.0</td>\n      <td>1</td>\n      <td>4.0</td>\n      <td>2</td>\n      <td>0</td>\n      <td>0</td>\n      <td>12</td>\n    </tr>\n    <tr>\n      <th>3</th>\n      <td>9.0</td>\n      <td>12.0</td>\n      <td>1</td>\n      <td>4.0</td>\n      <td>2</td>\n      <td>0</td>\n      <td>0</td>\n      <td>13</td>\n    </tr>\n    <tr>\n      <th>4</th>\n      <td>7.0</td>\n      <td>12.0</td>\n      <td>1</td>\n      <td>4.0</td>\n      <td>2</td>\n      <td>0</td>\n      <td>0</td>\n      <td>13</td>\n    </tr>\n  </tbody>\n</table>\n</div>"
     },
     "execution_count": 166,
     "metadata": {},
     "output_type": "execute_result"
    }
   ],
   "source": [
    "X_s2.head()"
   ],
   "metadata": {
    "collapsed": false,
    "ExecuteTime": {
     "end_time": "2025-01-28T11:03:34.039589Z",
     "start_time": "2025-01-28T11:03:33.965825Z"
    }
   },
   "id": "e31d38f09969459a",
   "execution_count": 166
  },
  {
   "cell_type": "code",
   "outputs": [
    {
     "data": {
      "text/plain": "   windspeed  felt_temperature  date_month  weekday  Weekday/Weekend  covid  \\\n0        6.0              19.0         9.0        2                0      0   \n1        6.0              19.0         9.0        2                0      0   \n2        7.0              19.0         9.0        2                0      0   \n3        7.0              19.0         9.0        2                0      0   \n4        0.0              19.0         9.0        2                0      0   \n\n   hour_of_day  \n0           11  \n1           12  \n2           13  \n3           13  \n4           14  ",
      "text/html": "<div>\n<style scoped>\n    .dataframe tbody tr th:only-of-type {\n        vertical-align: middle;\n    }\n\n    .dataframe tbody tr th {\n        vertical-align: top;\n    }\n\n    .dataframe thead th {\n        text-align: right;\n    }\n</style>\n<table border=\"1\" class=\"dataframe\">\n  <thead>\n    <tr style=\"text-align: right;\">\n      <th></th>\n      <th>windspeed</th>\n      <th>felt_temperature</th>\n      <th>date_month</th>\n      <th>weekday</th>\n      <th>Weekday/Weekend</th>\n      <th>covid</th>\n      <th>hour_of_day</th>\n    </tr>\n  </thead>\n  <tbody>\n    <tr>\n      <th>0</th>\n      <td>6.0</td>\n      <td>19.0</td>\n      <td>9.0</td>\n      <td>2</td>\n      <td>0</td>\n      <td>0</td>\n      <td>11</td>\n    </tr>\n    <tr>\n      <th>1</th>\n      <td>6.0</td>\n      <td>19.0</td>\n      <td>9.0</td>\n      <td>2</td>\n      <td>0</td>\n      <td>0</td>\n      <td>12</td>\n    </tr>\n    <tr>\n      <th>2</th>\n      <td>7.0</td>\n      <td>19.0</td>\n      <td>9.0</td>\n      <td>2</td>\n      <td>0</td>\n      <td>0</td>\n      <td>13</td>\n    </tr>\n    <tr>\n      <th>3</th>\n      <td>7.0</td>\n      <td>19.0</td>\n      <td>9.0</td>\n      <td>2</td>\n      <td>0</td>\n      <td>0</td>\n      <td>13</td>\n    </tr>\n    <tr>\n      <th>4</th>\n      <td>0.0</td>\n      <td>19.0</td>\n      <td>9.0</td>\n      <td>2</td>\n      <td>0</td>\n      <td>0</td>\n      <td>14</td>\n    </tr>\n  </tbody>\n</table>\n</div>"
     },
     "execution_count": 167,
     "metadata": {},
     "output_type": "execute_result"
    }
   ],
   "source": [
    "X_s1.head()"
   ],
   "metadata": {
    "collapsed": false,
    "ExecuteTime": {
     "end_time": "2025-01-28T11:03:34.086404Z",
     "start_time": "2025-01-28T11:03:33.982778Z"
    }
   },
   "id": "adea84b8b4600f4f",
   "execution_count": 167
  },
  {
   "cell_type": "code",
   "outputs": [],
   "source": [
    "# Split data into train and test sets\n",
    "X_s2_train, X_s2_test, y_s2_train, y_s2_test = train_test_split(X_s2, y_s2, test_size=0.3, random_state=42)\n",
    "X_s2_train, X_s2_val, y_s2_train, y_s2_val = train_test_split(X_s2_train, y_s2_train, test_size=(0.2/0.7),random_state = 42)\n",
    "\n",
    "# Standardize the feature values\n",
    "scaler = StandardScaler()\n",
    "X_s2_train = scaler.fit_transform(X_s2_train)\n",
    "X_s2_val = scaler.fit_transform(X_s2_val)\n",
    "X_s2_test = scaler.transform(X_s2_test)"
   ],
   "metadata": {
    "collapsed": false,
    "ExecuteTime": {
     "end_time": "2025-01-28T11:03:34.124461Z",
     "start_time": "2025-01-28T11:03:33.993362Z"
    }
   },
   "id": "bbe41eda66f5e054",
   "execution_count": 168
  },
  {
   "cell_type": "code",
   "outputs": [],
   "source": [
    "def build_model_nn_s2(hp):\n",
    "    # Input Layer\n",
    "    # season is in here, but not in site 1 df\n",
    "    inputs = keras.Input(shape=(8,)) # shapesize dependent of input feature count\n",
    "\n",
    "    # Hidden Layers\n",
    "    ## First Hidden Layer\n",
    "    dense = layers.Dense(units=hp.Int('hidden_layer_1_units', min_value=32, max_value=256, step=32), activation='relu')\n",
    "    x = dense(inputs)\n",
    "\n",
    "    ## Possible additional Hidden Layers\n",
    "    for i in range(hp.Int('total_added_hidden_layers', 0, 10)):\n",
    "        x = layers.Dense(units=hp.Int(f'hidden_layers_{i+2}_units', min_value=32, max_value=256, step=32), activation='relu')(x)\n",
    "\n",
    "    # Output Layer\n",
    "    output = layers.Dense(1, activation='relu')(x)\n",
    "\n",
    "    # Instantiate the model\n",
    "    model_ann = keras.Model(inputs, output, name='connectedCars_NN_site1')\n",
    "\n",
    "    # Compile the model\n",
    "    model_ann.compile(optimizer='Adam', loss='mean_squared_error')\n",
    "\n",
    "    return model_ann"
   ],
   "metadata": {
    "collapsed": false,
    "ExecuteTime": {
     "end_time": "2025-01-28T11:03:34.178626Z",
     "start_time": "2025-01-28T11:03:34.020225Z"
    }
   },
   "id": "720c9343bb73ab6c",
   "execution_count": 169
  },
  {
   "cell_type": "markdown",
   "source": [
    "# HYPERPARAMETER TUNING SITE 2"
   ],
   "metadata": {
    "collapsed": false
   },
   "id": "dda38d82c864ebef"
  },
  {
   "cell_type": "code",
   "outputs": [],
   "source": [
    "tuner_nn_s2 = Hyperband(\n",
    "    build_model_nn_s2,\n",
    "    objective = 'val_loss',\n",
    "    max_epochs = 20,\n",
    "    factor = 3,\n",
    "    executions_per_trial = 1,\n",
    "    project_name = 'kerastuner_LOG_nn_site2',\n",
    "    overwrite = True # deletes old LOG's\n",
    ")"
   ],
   "metadata": {
    "collapsed": false,
    "ExecuteTime": {
     "end_time": "2025-01-28T11:03:34.347325Z",
     "start_time": "2025-01-28T11:03:34.035703Z"
    }
   },
   "id": "4a2dd22bf81fca95",
   "execution_count": 170
  },
  {
   "cell_type": "code",
   "outputs": [],
   "source": [
    "# tuner_nn_s2.search_space_summary()"
   ],
   "metadata": {
    "collapsed": false,
    "ExecuteTime": {
     "end_time": "2025-01-28T11:03:34.358915Z",
     "start_time": "2025-01-28T11:03:34.198077Z"
    }
   },
   "id": "6510a4f644cd17d2",
   "execution_count": 171
  },
  {
   "cell_type": "markdown",
   "source": [
    "# RUN HYPERPARAMETER SEARCH SITE 2"
   ],
   "metadata": {
    "collapsed": false
   },
   "id": "b5dfabebdf74a755"
  },
  {
   "cell_type": "code",
   "outputs": [
    {
     "name": "stdout",
     "output_type": "stream",
     "text": [
      "Trial 30 Complete [00h 00m 29s]\n",
      "val_loss: 31.39129066467285\n",
      "\n",
      "Best val_loss So Far: 28.865205764770508\n",
      "Total elapsed time: 00h 07m 21s\n"
     ]
    }
   ],
   "source": [
    "tuner_nn_s2.search(\n",
    "    X_s2_train,\n",
    "    y_s2_train,\n",
    "    validation_data=(X_s2_val,y_s2_val),\n",
    "    callbacks = [ClearTrainingOutput()]\n",
    ")"
   ],
   "metadata": {
    "collapsed": false
   },
   "id": "1c9607ebdbc2df23",
   "execution_count": 172
  },
  {
   "cell_type": "code",
   "outputs": [
    {
     "name": "stdout",
     "output_type": "stream",
     "text": [
      "Results summary\n",
      "Results in ./kerastuner_LOG_nn_site2\n",
      "Showing 10 best trials\n",
      "Objective(name=\"val_loss\", direction=\"min\")\n",
      "\n",
      "Trial 0025 summary\n",
      "Hyperparameters:\n",
      "hidden_layer_1_units: 192\n",
      "total_added_hidden_layers: 4\n",
      "hidden_layers_2_units: 64\n",
      "hidden_layers_3_units: 256\n",
      "hidden_layers_4_units: 224\n",
      "hidden_layers_5_units: 96\n",
      "hidden_layers_6_units: 96\n",
      "hidden_layers_7_units: 32\n",
      "hidden_layers_8_units: 96\n",
      "hidden_layers_9_units: 256\n",
      "hidden_layers_10_units: 64\n",
      "hidden_layers_11_units: 224\n",
      "tuner/epochs: 20\n",
      "tuner/initial_epoch: 7\n",
      "tuner/bracket: 1\n",
      "tuner/round: 1\n",
      "tuner/trial_id: 0021\n",
      "Score: 28.865205764770508\n",
      "\n",
      "Trial 0027 summary\n",
      "Hyperparameters:\n",
      "hidden_layer_1_units: 160\n",
      "total_added_hidden_layers: 4\n",
      "hidden_layers_2_units: 256\n",
      "hidden_layers_3_units: 32\n",
      "hidden_layers_4_units: 192\n",
      "hidden_layers_5_units: 32\n",
      "hidden_layers_6_units: 160\n",
      "hidden_layers_7_units: 224\n",
      "hidden_layers_8_units: 128\n",
      "hidden_layers_9_units: 96\n",
      "hidden_layers_10_units: 224\n",
      "hidden_layers_11_units: 256\n",
      "tuner/epochs: 20\n",
      "tuner/initial_epoch: 0\n",
      "tuner/bracket: 0\n",
      "tuner/round: 0\n",
      "Score: 29.159013748168945\n",
      "\n",
      "Trial 0028 summary\n",
      "Hyperparameters:\n",
      "hidden_layer_1_units: 160\n",
      "total_added_hidden_layers: 8\n",
      "hidden_layers_2_units: 96\n",
      "hidden_layers_3_units: 32\n",
      "hidden_layers_4_units: 96\n",
      "hidden_layers_5_units: 96\n",
      "hidden_layers_6_units: 64\n",
      "hidden_layers_7_units: 160\n",
      "hidden_layers_8_units: 192\n",
      "hidden_layers_9_units: 256\n",
      "hidden_layers_10_units: 224\n",
      "hidden_layers_11_units: 256\n",
      "tuner/epochs: 20\n",
      "tuner/initial_epoch: 0\n",
      "tuner/bracket: 0\n",
      "tuner/round: 0\n",
      "Score: 29.446407318115234\n",
      "\n",
      "Trial 0016 summary\n",
      "Hyperparameters:\n",
      "hidden_layer_1_units: 96\n",
      "total_added_hidden_layers: 4\n",
      "hidden_layers_2_units: 64\n",
      "hidden_layers_3_units: 128\n",
      "hidden_layers_4_units: 160\n",
      "hidden_layers_5_units: 160\n",
      "hidden_layers_6_units: 128\n",
      "hidden_layers_7_units: 192\n",
      "hidden_layers_8_units: 160\n",
      "hidden_layers_9_units: 192\n",
      "hidden_layers_10_units: 192\n",
      "hidden_layers_11_units: 64\n",
      "tuner/epochs: 20\n",
      "tuner/initial_epoch: 7\n",
      "tuner/bracket: 2\n",
      "tuner/round: 2\n",
      "tuner/trial_id: 0014\n",
      "Score: 29.449132919311523\n",
      "\n",
      "Trial 0024 summary\n",
      "Hyperparameters:\n",
      "hidden_layer_1_units: 128\n",
      "total_added_hidden_layers: 6\n",
      "hidden_layers_2_units: 64\n",
      "hidden_layers_3_units: 96\n",
      "hidden_layers_4_units: 64\n",
      "hidden_layers_5_units: 160\n",
      "hidden_layers_6_units: 96\n",
      "hidden_layers_7_units: 32\n",
      "hidden_layers_8_units: 160\n",
      "hidden_layers_9_units: 160\n",
      "hidden_layers_10_units: 224\n",
      "hidden_layers_11_units: 96\n",
      "tuner/epochs: 20\n",
      "tuner/initial_epoch: 7\n",
      "tuner/bracket: 1\n",
      "tuner/round: 1\n",
      "tuner/trial_id: 0018\n",
      "Score: 29.453472137451172\n",
      "\n",
      "Trial 0017 summary\n",
      "Hyperparameters:\n",
      "hidden_layer_1_units: 32\n",
      "total_added_hidden_layers: 5\n",
      "hidden_layers_2_units: 32\n",
      "hidden_layers_3_units: 64\n",
      "hidden_layers_4_units: 32\n",
      "hidden_layers_5_units: 160\n",
      "hidden_layers_6_units: 128\n",
      "hidden_layers_7_units: 128\n",
      "hidden_layers_8_units: 256\n",
      "hidden_layers_9_units: 64\n",
      "tuner/epochs: 20\n",
      "tuner/initial_epoch: 7\n",
      "tuner/bracket: 2\n",
      "tuner/round: 2\n",
      "tuner/trial_id: 0015\n",
      "hidden_layers_10_units: 192\n",
      "hidden_layers_11_units: 192\n",
      "Score: 29.647560119628906\n",
      "\n",
      "Trial 0026 summary\n",
      "Hyperparameters:\n",
      "hidden_layer_1_units: 32\n",
      "total_added_hidden_layers: 8\n",
      "hidden_layers_2_units: 96\n",
      "hidden_layers_3_units: 256\n",
      "hidden_layers_4_units: 192\n",
      "hidden_layers_5_units: 192\n",
      "hidden_layers_6_units: 96\n",
      "hidden_layers_7_units: 192\n",
      "hidden_layers_8_units: 32\n",
      "hidden_layers_9_units: 64\n",
      "hidden_layers_10_units: 32\n",
      "hidden_layers_11_units: 160\n",
      "tuner/epochs: 20\n",
      "tuner/initial_epoch: 0\n",
      "tuner/bracket: 0\n",
      "tuner/round: 0\n",
      "Score: 29.820247650146484\n",
      "\n",
      "Trial 0018 summary\n",
      "Hyperparameters:\n",
      "hidden_layer_1_units: 128\n",
      "total_added_hidden_layers: 6\n",
      "hidden_layers_2_units: 64\n",
      "hidden_layers_3_units: 96\n",
      "hidden_layers_4_units: 64\n",
      "hidden_layers_5_units: 160\n",
      "hidden_layers_6_units: 96\n",
      "hidden_layers_7_units: 32\n",
      "hidden_layers_8_units: 160\n",
      "hidden_layers_9_units: 160\n",
      "hidden_layers_10_units: 224\n",
      "hidden_layers_11_units: 96\n",
      "tuner/epochs: 7\n",
      "tuner/initial_epoch: 0\n",
      "tuner/bracket: 1\n",
      "tuner/round: 0\n",
      "Score: 30.70151710510254\n",
      "\n",
      "Trial 0029 summary\n",
      "Hyperparameters:\n",
      "hidden_layer_1_units: 256\n",
      "total_added_hidden_layers: 1\n",
      "hidden_layers_2_units: 96\n",
      "hidden_layers_3_units: 192\n",
      "hidden_layers_4_units: 96\n",
      "hidden_layers_5_units: 128\n",
      "hidden_layers_6_units: 64\n",
      "hidden_layers_7_units: 128\n",
      "hidden_layers_8_units: 96\n",
      "hidden_layers_9_units: 256\n",
      "hidden_layers_10_units: 32\n",
      "hidden_layers_11_units: 128\n",
      "tuner/epochs: 20\n",
      "tuner/initial_epoch: 0\n",
      "tuner/bracket: 0\n",
      "tuner/round: 0\n",
      "Score: 31.39129066467285\n",
      "\n",
      "Trial 0014 summary\n",
      "Hyperparameters:\n",
      "hidden_layer_1_units: 96\n",
      "total_added_hidden_layers: 4\n",
      "hidden_layers_2_units: 64\n",
      "hidden_layers_3_units: 128\n",
      "hidden_layers_4_units: 160\n",
      "hidden_layers_5_units: 160\n",
      "hidden_layers_6_units: 128\n",
      "hidden_layers_7_units: 192\n",
      "hidden_layers_8_units: 160\n",
      "hidden_layers_9_units: 192\n",
      "hidden_layers_10_units: 192\n",
      "hidden_layers_11_units: 64\n",
      "tuner/epochs: 7\n",
      "tuner/initial_epoch: 3\n",
      "tuner/bracket: 2\n",
      "tuner/round: 1\n",
      "tuner/trial_id: 0011\n",
      "Score: 31.541685104370117\n"
     ]
    }
   ],
   "source": [
    "# display best models, their hyperparameters and the resulting metrics\n",
    "tuner_nn_s2.results_summary()"
   ],
   "metadata": {
    "collapsed": false,
    "ExecuteTime": {
     "end_time": "2025-01-28T11:10:55.291133Z",
     "start_time": "2025-01-28T11:10:55.216175Z"
    }
   },
   "id": "dd425dadc5c17c0a",
   "execution_count": 173
  },
  {
   "cell_type": "code",
   "outputs": [
    {
     "name": "stdout",
     "output_type": "stream",
     "text": [
      "\n",
      "The hyperparameter search is complete. \n",
      "The optimal number of units in the first hidden layer is 192 \n",
      "and the total number of hidden layers is 5.\n"
     ]
    }
   ],
   "source": [
    "nn_best_hps_site2 = tuner_nn_s2.get_best_hyperparameters(num_trials = 1)[0]\n",
    "\n",
    "print(f\"\"\"\n",
    "The hyperparameter search is complete. \n",
    "The optimal number of units in the first hidden layer is {nn_best_hps_site2.get('hidden_layer_1_units')} \n",
    "and the total number of hidden layers is {nn_best_hps_site2.get('total_added_hidden_layers')+1}.\n",
    "\"\"\")"
   ],
   "metadata": {
    "collapsed": false,
    "ExecuteTime": {
     "end_time": "2025-01-28T11:10:55.350643Z",
     "start_time": "2025-01-28T11:10:55.232955Z"
    }
   },
   "id": "b4097c3e91fd40f",
   "execution_count": 174
  },
  {
   "cell_type": "code",
   "outputs": [
    {
     "name": "stderr",
     "output_type": "stream",
     "text": [
      "/Users/anthonyge/Desktop/UNI/_MASTER/semester_1/Analytics_&_Applications/GinyuForce/venv/lib/python3.9/site-packages/keras/src/saving/saving_lib.py:757: UserWarning: Skipping variable loading for optimizer 'adam', because it has 2 variables whereas the saved optimizer has 26 variables. \n",
      "  saveable.load_own_variables(weights_store.get(inner_path))\n"
     ]
    }
   ],
   "source": [
    "# get best model\n",
    "nn_model_site2 = tuner_nn_s2.get_best_models(num_models=1)[0]"
   ],
   "metadata": {
    "collapsed": false,
    "ExecuteTime": {
     "end_time": "2025-01-28T11:10:57.559012Z",
     "start_time": "2025-01-28T11:10:57.382405Z"
    }
   },
   "id": "9edd88b0583dae46",
   "execution_count": 175
  },
  {
   "cell_type": "code",
   "outputs": [
    {
     "data": {
      "text/plain": "\u001B[1mModel: \"connectedCars_NN_site1\"\u001B[0m\n",
      "text/html": "<pre style=\"white-space:pre;overflow-x:auto;line-height:normal;font-family:Menlo,'DejaVu Sans Mono',consolas,'Courier New',monospace\"><span style=\"font-weight: bold\">Model: \"connectedCars_NN_site1\"</span>\n</pre>\n"
     },
     "metadata": {},
     "output_type": "display_data"
    },
    {
     "data": {
      "text/plain": "┏━━━━━━━━━━━━━━━━━━━━━━━━━━━━━━━━━┳━━━━━━━━━━━━━━━━━━━━━━━━┳━━━━━━━━━━━━━━━┓\n┃\u001B[1m \u001B[0m\u001B[1mLayer (type)                   \u001B[0m\u001B[1m \u001B[0m┃\u001B[1m \u001B[0m\u001B[1mOutput Shape          \u001B[0m\u001B[1m \u001B[0m┃\u001B[1m \u001B[0m\u001B[1m      Param #\u001B[0m\u001B[1m \u001B[0m┃\n┡━━━━━━━━━━━━━━━━━━━━━━━━━━━━━━━━━╇━━━━━━━━━━━━━━━━━━━━━━━━╇━━━━━━━━━━━━━━━┩\n│ input_layer (\u001B[38;5;33mInputLayer\u001B[0m)        │ (\u001B[38;5;45mNone\u001B[0m, \u001B[38;5;34m8\u001B[0m)              │             \u001B[38;5;34m0\u001B[0m │\n├─────────────────────────────────┼────────────────────────┼───────────────┤\n│ dense (\u001B[38;5;33mDense\u001B[0m)                   │ (\u001B[38;5;45mNone\u001B[0m, \u001B[38;5;34m192\u001B[0m)            │         \u001B[38;5;34m1,728\u001B[0m │\n├─────────────────────────────────┼────────────────────────┼───────────────┤\n│ dense_1 (\u001B[38;5;33mDense\u001B[0m)                 │ (\u001B[38;5;45mNone\u001B[0m, \u001B[38;5;34m64\u001B[0m)             │        \u001B[38;5;34m12,352\u001B[0m │\n├─────────────────────────────────┼────────────────────────┼───────────────┤\n│ dense_2 (\u001B[38;5;33mDense\u001B[0m)                 │ (\u001B[38;5;45mNone\u001B[0m, \u001B[38;5;34m256\u001B[0m)            │        \u001B[38;5;34m16,640\u001B[0m │\n├─────────────────────────────────┼────────────────────────┼───────────────┤\n│ dense_3 (\u001B[38;5;33mDense\u001B[0m)                 │ (\u001B[38;5;45mNone\u001B[0m, \u001B[38;5;34m224\u001B[0m)            │        \u001B[38;5;34m57,568\u001B[0m │\n├─────────────────────────────────┼────────────────────────┼───────────────┤\n│ dense_4 (\u001B[38;5;33mDense\u001B[0m)                 │ (\u001B[38;5;45mNone\u001B[0m, \u001B[38;5;34m96\u001B[0m)             │        \u001B[38;5;34m21,600\u001B[0m │\n├─────────────────────────────────┼────────────────────────┼───────────────┤\n│ dense_5 (\u001B[38;5;33mDense\u001B[0m)                 │ (\u001B[38;5;45mNone\u001B[0m, \u001B[38;5;34m1\u001B[0m)              │            \u001B[38;5;34m97\u001B[0m │\n└─────────────────────────────────┴────────────────────────┴───────────────┘\n",
      "text/html": "<pre style=\"white-space:pre;overflow-x:auto;line-height:normal;font-family:Menlo,'DejaVu Sans Mono',consolas,'Courier New',monospace\">┏━━━━━━━━━━━━━━━━━━━━━━━━━━━━━━━━━┳━━━━━━━━━━━━━━━━━━━━━━━━┳━━━━━━━━━━━━━━━┓\n┃<span style=\"font-weight: bold\"> Layer (type)                    </span>┃<span style=\"font-weight: bold\"> Output Shape           </span>┃<span style=\"font-weight: bold\">       Param # </span>┃\n┡━━━━━━━━━━━━━━━━━━━━━━━━━━━━━━━━━╇━━━━━━━━━━━━━━━━━━━━━━━━╇━━━━━━━━━━━━━━━┩\n│ input_layer (<span style=\"color: #0087ff; text-decoration-color: #0087ff\">InputLayer</span>)        │ (<span style=\"color: #00d7ff; text-decoration-color: #00d7ff\">None</span>, <span style=\"color: #00af00; text-decoration-color: #00af00\">8</span>)              │             <span style=\"color: #00af00; text-decoration-color: #00af00\">0</span> │\n├─────────────────────────────────┼────────────────────────┼───────────────┤\n│ dense (<span style=\"color: #0087ff; text-decoration-color: #0087ff\">Dense</span>)                   │ (<span style=\"color: #00d7ff; text-decoration-color: #00d7ff\">None</span>, <span style=\"color: #00af00; text-decoration-color: #00af00\">192</span>)            │         <span style=\"color: #00af00; text-decoration-color: #00af00\">1,728</span> │\n├─────────────────────────────────┼────────────────────────┼───────────────┤\n│ dense_1 (<span style=\"color: #0087ff; text-decoration-color: #0087ff\">Dense</span>)                 │ (<span style=\"color: #00d7ff; text-decoration-color: #00d7ff\">None</span>, <span style=\"color: #00af00; text-decoration-color: #00af00\">64</span>)             │        <span style=\"color: #00af00; text-decoration-color: #00af00\">12,352</span> │\n├─────────────────────────────────┼────────────────────────┼───────────────┤\n│ dense_2 (<span style=\"color: #0087ff; text-decoration-color: #0087ff\">Dense</span>)                 │ (<span style=\"color: #00d7ff; text-decoration-color: #00d7ff\">None</span>, <span style=\"color: #00af00; text-decoration-color: #00af00\">256</span>)            │        <span style=\"color: #00af00; text-decoration-color: #00af00\">16,640</span> │\n├─────────────────────────────────┼────────────────────────┼───────────────┤\n│ dense_3 (<span style=\"color: #0087ff; text-decoration-color: #0087ff\">Dense</span>)                 │ (<span style=\"color: #00d7ff; text-decoration-color: #00d7ff\">None</span>, <span style=\"color: #00af00; text-decoration-color: #00af00\">224</span>)            │        <span style=\"color: #00af00; text-decoration-color: #00af00\">57,568</span> │\n├─────────────────────────────────┼────────────────────────┼───────────────┤\n│ dense_4 (<span style=\"color: #0087ff; text-decoration-color: #0087ff\">Dense</span>)                 │ (<span style=\"color: #00d7ff; text-decoration-color: #00d7ff\">None</span>, <span style=\"color: #00af00; text-decoration-color: #00af00\">96</span>)             │        <span style=\"color: #00af00; text-decoration-color: #00af00\">21,600</span> │\n├─────────────────────────────────┼────────────────────────┼───────────────┤\n│ dense_5 (<span style=\"color: #0087ff; text-decoration-color: #0087ff\">Dense</span>)                 │ (<span style=\"color: #00d7ff; text-decoration-color: #00d7ff\">None</span>, <span style=\"color: #00af00; text-decoration-color: #00af00\">1</span>)              │            <span style=\"color: #00af00; text-decoration-color: #00af00\">97</span> │\n└─────────────────────────────────┴────────────────────────┴───────────────┘\n</pre>\n"
     },
     "metadata": {},
     "output_type": "display_data"
    },
    {
     "data": {
      "text/plain": "\u001B[1m Total params: \u001B[0m\u001B[38;5;34m109,985\u001B[0m (429.63 KB)\n",
      "text/html": "<pre style=\"white-space:pre;overflow-x:auto;line-height:normal;font-family:Menlo,'DejaVu Sans Mono',consolas,'Courier New',monospace\"><span style=\"font-weight: bold\"> Total params: </span><span style=\"color: #00af00; text-decoration-color: #00af00\">109,985</span> (429.63 KB)\n</pre>\n"
     },
     "metadata": {},
     "output_type": "display_data"
    },
    {
     "data": {
      "text/plain": "\u001B[1m Trainable params: \u001B[0m\u001B[38;5;34m109,985\u001B[0m (429.63 KB)\n",
      "text/html": "<pre style=\"white-space:pre;overflow-x:auto;line-height:normal;font-family:Menlo,'DejaVu Sans Mono',consolas,'Courier New',monospace\"><span style=\"font-weight: bold\"> Trainable params: </span><span style=\"color: #00af00; text-decoration-color: #00af00\">109,985</span> (429.63 KB)\n</pre>\n"
     },
     "metadata": {},
     "output_type": "display_data"
    },
    {
     "data": {
      "text/plain": "\u001B[1m Non-trainable params: \u001B[0m\u001B[38;5;34m0\u001B[0m (0.00 B)\n",
      "text/html": "<pre style=\"white-space:pre;overflow-x:auto;line-height:normal;font-family:Menlo,'DejaVu Sans Mono',consolas,'Courier New',monospace\"><span style=\"font-weight: bold\"> Non-trainable params: </span><span style=\"color: #00af00; text-decoration-color: #00af00\">0</span> (0.00 B)\n</pre>\n"
     },
     "metadata": {},
     "output_type": "display_data"
    }
   ],
   "source": [
    "nn_model_site2.summary()"
   ],
   "metadata": {
    "collapsed": false,
    "ExecuteTime": {
     "end_time": "2025-01-28T11:10:57.638495Z",
     "start_time": "2025-01-28T11:10:57.554672Z"
    }
   },
   "id": "b1a2cdee07814d72",
   "execution_count": 176
  },
  {
   "cell_type": "code",
   "outputs": [],
   "source": [
    "callback = keras.callbacks.EarlyStopping(\n",
    "    monitor='val_loss',\n",
    "    mode='min',\n",
    "    patience=100,\n",
    "    restore_best_weights=True\n",
    ")"
   ],
   "metadata": {
    "collapsed": false,
    "ExecuteTime": {
     "end_time": "2025-01-28T11:10:57.686601Z",
     "start_time": "2025-01-28T11:10:57.582694Z"
    }
   },
   "id": "47e7541ec8645217",
   "execution_count": 177
  },
  {
   "cell_type": "code",
   "outputs": [
    {
     "name": "stdout",
     "output_type": "stream",
     "text": [
      "Epoch 1/1000\n",
      "\u001B[1m372/372\u001B[0m \u001B[32m━━━━━━━━━━━━━━━━━━━━\u001B[0m\u001B[37m\u001B[0m \u001B[1m4s\u001B[0m 6ms/step - loss: 25.4136 - val_loss: 30.7327\n",
      "Epoch 2/1000\n",
      "\u001B[1m372/372\u001B[0m \u001B[32m━━━━━━━━━━━━━━━━━━━━\u001B[0m\u001B[37m\u001B[0m \u001B[1m2s\u001B[0m 4ms/step - loss: 24.4360 - val_loss: 28.9902\n",
      "Epoch 3/1000\n",
      "\u001B[1m372/372\u001B[0m \u001B[32m━━━━━━━━━━━━━━━━━━━━\u001B[0m\u001B[37m\u001B[0m \u001B[1m1s\u001B[0m 4ms/step - loss: 24.5448 - val_loss: 28.7975\n",
      "Epoch 4/1000\n",
      "\u001B[1m372/372\u001B[0m \u001B[32m━━━━━━━━━━━━━━━━━━━━\u001B[0m\u001B[37m\u001B[0m \u001B[1m1s\u001B[0m 4ms/step - loss: 24.4154 - val_loss: 28.7418\n",
      "Epoch 5/1000\n",
      "\u001B[1m372/372\u001B[0m \u001B[32m━━━━━━━━━━━━━━━━━━━━\u001B[0m\u001B[37m\u001B[0m \u001B[1m1s\u001B[0m 4ms/step - loss: 23.6498 - val_loss: 31.0180\n",
      "Epoch 6/1000\n",
      "\u001B[1m372/372\u001B[0m \u001B[32m━━━━━━━━━━━━━━━━━━━━\u001B[0m\u001B[37m\u001B[0m \u001B[1m1s\u001B[0m 4ms/step - loss: 24.7862 - val_loss: 28.9821\n",
      "Epoch 7/1000\n",
      "\u001B[1m372/372\u001B[0m \u001B[32m━━━━━━━━━━━━━━━━━━━━\u001B[0m\u001B[37m\u001B[0m \u001B[1m1s\u001B[0m 4ms/step - loss: 23.8296 - val_loss: 29.7181\n",
      "Epoch 8/1000\n",
      "\u001B[1m372/372\u001B[0m \u001B[32m━━━━━━━━━━━━━━━━━━━━\u001B[0m\u001B[37m\u001B[0m \u001B[1m1s\u001B[0m 4ms/step - loss: 23.4073 - val_loss: 31.0251\n",
      "Epoch 9/1000\n",
      "\u001B[1m372/372\u001B[0m \u001B[32m━━━━━━━━━━━━━━━━━━━━\u001B[0m\u001B[37m\u001B[0m \u001B[1m1s\u001B[0m 4ms/step - loss: 23.1887 - val_loss: 28.6006\n",
      "Epoch 10/1000\n",
      "\u001B[1m372/372\u001B[0m \u001B[32m━━━━━━━━━━━━━━━━━━━━\u001B[0m\u001B[37m\u001B[0m \u001B[1m1s\u001B[0m 4ms/step - loss: 23.1855 - val_loss: 30.8960\n",
      "Epoch 11/1000\n",
      "\u001B[1m372/372\u001B[0m \u001B[32m━━━━━━━━━━━━━━━━━━━━\u001B[0m\u001B[37m\u001B[0m \u001B[1m1s\u001B[0m 4ms/step - loss: 23.8330 - val_loss: 28.7391\n",
      "Epoch 12/1000\n",
      "\u001B[1m372/372\u001B[0m \u001B[32m━━━━━━━━━━━━━━━━━━━━\u001B[0m\u001B[37m\u001B[0m \u001B[1m1s\u001B[0m 4ms/step - loss: 23.0733 - val_loss: 28.6765\n",
      "Epoch 13/1000\n",
      "\u001B[1m372/372\u001B[0m \u001B[32m━━━━━━━━━━━━━━━━━━━━\u001B[0m\u001B[37m\u001B[0m \u001B[1m1s\u001B[0m 4ms/step - loss: 22.4965 - val_loss: 32.1327\n",
      "Epoch 14/1000\n",
      "\u001B[1m372/372\u001B[0m \u001B[32m━━━━━━━━━━━━━━━━━━━━\u001B[0m\u001B[37m\u001B[0m \u001B[1m2s\u001B[0m 4ms/step - loss: 23.3268 - val_loss: 28.6523\n",
      "Epoch 15/1000\n",
      "\u001B[1m372/372\u001B[0m \u001B[32m━━━━━━━━━━━━━━━━━━━━\u001B[0m\u001B[37m\u001B[0m \u001B[1m2s\u001B[0m 4ms/step - loss: 22.6813 - val_loss: 29.1133\n",
      "Epoch 16/1000\n",
      "\u001B[1m372/372\u001B[0m \u001B[32m━━━━━━━━━━━━━━━━━━━━\u001B[0m\u001B[37m\u001B[0m \u001B[1m2s\u001B[0m 4ms/step - loss: 21.5369 - val_loss: 28.7823\n",
      "Epoch 17/1000\n",
      "\u001B[1m372/372\u001B[0m \u001B[32m━━━━━━━━━━━━━━━━━━━━\u001B[0m\u001B[37m\u001B[0m \u001B[1m1s\u001B[0m 4ms/step - loss: 23.2680 - val_loss: 32.1192\n",
      "Epoch 18/1000\n",
      "\u001B[1m372/372\u001B[0m \u001B[32m━━━━━━━━━━━━━━━━━━━━\u001B[0m\u001B[37m\u001B[0m \u001B[1m1s\u001B[0m 4ms/step - loss: 22.4995 - val_loss: 28.3347\n",
      "Epoch 19/1000\n",
      "\u001B[1m372/372\u001B[0m \u001B[32m━━━━━━━━━━━━━━━━━━━━\u001B[0m\u001B[37m\u001B[0m \u001B[1m1s\u001B[0m 4ms/step - loss: 20.6941 - val_loss: 28.8140\n",
      "Epoch 20/1000\n",
      "\u001B[1m372/372\u001B[0m \u001B[32m━━━━━━━━━━━━━━━━━━━━\u001B[0m\u001B[37m\u001B[0m \u001B[1m1s\u001B[0m 4ms/step - loss: 21.8231 - val_loss: 27.9634\n",
      "Epoch 21/1000\n",
      "\u001B[1m372/372\u001B[0m \u001B[32m━━━━━━━━━━━━━━━━━━━━\u001B[0m\u001B[37m\u001B[0m \u001B[1m1s\u001B[0m 4ms/step - loss: 21.8370 - val_loss: 29.5742\n",
      "Epoch 22/1000\n",
      "\u001B[1m372/372\u001B[0m \u001B[32m━━━━━━━━━━━━━━━━━━━━\u001B[0m\u001B[37m\u001B[0m \u001B[1m1s\u001B[0m 4ms/step - loss: 21.1617 - val_loss: 29.6785\n",
      "Epoch 23/1000\n",
      "\u001B[1m372/372\u001B[0m \u001B[32m━━━━━━━━━━━━━━━━━━━━\u001B[0m\u001B[37m\u001B[0m \u001B[1m1s\u001B[0m 4ms/step - loss: 21.8589 - val_loss: 29.8007\n",
      "Epoch 24/1000\n",
      "\u001B[1m372/372\u001B[0m \u001B[32m━━━━━━━━━━━━━━━━━━━━\u001B[0m\u001B[37m\u001B[0m \u001B[1m1s\u001B[0m 4ms/step - loss: 21.2840 - val_loss: 29.1701\n",
      "Epoch 25/1000\n",
      "\u001B[1m372/372\u001B[0m \u001B[32m━━━━━━━━━━━━━━━━━━━━\u001B[0m\u001B[37m\u001B[0m \u001B[1m1s\u001B[0m 4ms/step - loss: 21.5019 - val_loss: 27.3131\n",
      "Epoch 26/1000\n",
      "\u001B[1m372/372\u001B[0m \u001B[32m━━━━━━━━━━━━━━━━━━━━\u001B[0m\u001B[37m\u001B[0m \u001B[1m1s\u001B[0m 4ms/step - loss: 21.0511 - val_loss: 32.5182\n",
      "Epoch 27/1000\n",
      "\u001B[1m372/372\u001B[0m \u001B[32m━━━━━━━━━━━━━━━━━━━━\u001B[0m\u001B[37m\u001B[0m \u001B[1m1s\u001B[0m 4ms/step - loss: 21.3807 - val_loss: 27.8130\n",
      "Epoch 28/1000\n",
      "\u001B[1m372/372\u001B[0m \u001B[32m━━━━━━━━━━━━━━━━━━━━\u001B[0m\u001B[37m\u001B[0m \u001B[1m1s\u001B[0m 4ms/step - loss: 19.8113 - val_loss: 29.4904\n",
      "Epoch 29/1000\n",
      "\u001B[1m372/372\u001B[0m \u001B[32m━━━━━━━━━━━━━━━━━━━━\u001B[0m\u001B[37m\u001B[0m \u001B[1m1s\u001B[0m 4ms/step - loss: 20.9397 - val_loss: 28.8374\n",
      "Epoch 30/1000\n",
      "\u001B[1m372/372\u001B[0m \u001B[32m━━━━━━━━━━━━━━━━━━━━\u001B[0m\u001B[37m\u001B[0m \u001B[1m1s\u001B[0m 4ms/step - loss: 20.1081 - val_loss: 30.6236\n",
      "Epoch 31/1000\n",
      "\u001B[1m372/372\u001B[0m \u001B[32m━━━━━━━━━━━━━━━━━━━━\u001B[0m\u001B[37m\u001B[0m \u001B[1m1s\u001B[0m 4ms/step - loss: 19.8571 - val_loss: 28.6359\n",
      "Epoch 32/1000\n",
      "\u001B[1m372/372\u001B[0m \u001B[32m━━━━━━━━━━━━━━━━━━━━\u001B[0m\u001B[37m\u001B[0m \u001B[1m1s\u001B[0m 4ms/step - loss: 19.5014 - val_loss: 26.9575\n",
      "Epoch 33/1000\n",
      "\u001B[1m372/372\u001B[0m \u001B[32m━━━━━━━━━━━━━━━━━━━━\u001B[0m\u001B[37m\u001B[0m \u001B[1m1s\u001B[0m 4ms/step - loss: 19.3472 - val_loss: 27.6845\n",
      "Epoch 34/1000\n",
      "\u001B[1m372/372\u001B[0m \u001B[32m━━━━━━━━━━━━━━━━━━━━\u001B[0m\u001B[37m\u001B[0m \u001B[1m1s\u001B[0m 4ms/step - loss: 19.6386 - val_loss: 27.8770\n",
      "Epoch 35/1000\n",
      "\u001B[1m372/372\u001B[0m \u001B[32m━━━━━━━━━━━━━━━━━━━━\u001B[0m\u001B[37m\u001B[0m \u001B[1m1s\u001B[0m 4ms/step - loss: 18.5963 - val_loss: 27.9090\n",
      "Epoch 36/1000\n",
      "\u001B[1m372/372\u001B[0m \u001B[32m━━━━━━━━━━━━━━━━━━━━\u001B[0m\u001B[37m\u001B[0m \u001B[1m1s\u001B[0m 4ms/step - loss: 19.6429 - val_loss: 28.2510\n",
      "Epoch 37/1000\n",
      "\u001B[1m372/372\u001B[0m \u001B[32m━━━━━━━━━━━━━━━━━━━━\u001B[0m\u001B[37m\u001B[0m \u001B[1m1s\u001B[0m 4ms/step - loss: 18.4194 - val_loss: 28.2495\n",
      "Epoch 38/1000\n",
      "\u001B[1m372/372\u001B[0m \u001B[32m━━━━━━━━━━━━━━━━━━━━\u001B[0m\u001B[37m\u001B[0m \u001B[1m1s\u001B[0m 4ms/step - loss: 18.7661 - val_loss: 28.0497\n",
      "Epoch 39/1000\n",
      "\u001B[1m372/372\u001B[0m \u001B[32m━━━━━━━━━━━━━━━━━━━━\u001B[0m\u001B[37m\u001B[0m \u001B[1m1s\u001B[0m 4ms/step - loss: 18.8425 - val_loss: 30.2195\n",
      "Epoch 40/1000\n",
      "\u001B[1m372/372\u001B[0m \u001B[32m━━━━━━━━━━━━━━━━━━━━\u001B[0m\u001B[37m\u001B[0m \u001B[1m1s\u001B[0m 4ms/step - loss: 18.6942 - val_loss: 28.3963\n",
      "Epoch 41/1000\n",
      "\u001B[1m372/372\u001B[0m \u001B[32m━━━━━━━━━━━━━━━━━━━━\u001B[0m\u001B[37m\u001B[0m \u001B[1m1s\u001B[0m 4ms/step - loss: 18.1840 - val_loss: 28.6769\n",
      "Epoch 42/1000\n",
      "\u001B[1m372/372\u001B[0m \u001B[32m━━━━━━━━━━━━━━━━━━━━\u001B[0m\u001B[37m\u001B[0m \u001B[1m1s\u001B[0m 4ms/step - loss: 19.5479 - val_loss: 29.1511\n",
      "Epoch 43/1000\n",
      "\u001B[1m372/372\u001B[0m \u001B[32m━━━━━━━━━━━━━━━━━━━━\u001B[0m\u001B[37m\u001B[0m \u001B[1m1s\u001B[0m 4ms/step - loss: 17.9061 - val_loss: 27.5628\n",
      "Epoch 44/1000\n",
      "\u001B[1m372/372\u001B[0m \u001B[32m━━━━━━━━━━━━━━━━━━━━\u001B[0m\u001B[37m\u001B[0m \u001B[1m1s\u001B[0m 4ms/step - loss: 17.9689 - val_loss: 27.2456\n",
      "Epoch 45/1000\n",
      "\u001B[1m372/372\u001B[0m \u001B[32m━━━━━━━━━━━━━━━━━━━━\u001B[0m\u001B[37m\u001B[0m \u001B[1m1s\u001B[0m 4ms/step - loss: 18.8564 - val_loss: 29.3695\n",
      "Epoch 46/1000\n",
      "\u001B[1m372/372\u001B[0m \u001B[32m━━━━━━━━━━━━━━━━━━━━\u001B[0m\u001B[37m\u001B[0m \u001B[1m1s\u001B[0m 4ms/step - loss: 18.8059 - val_loss: 29.9595\n",
      "Epoch 47/1000\n",
      "\u001B[1m372/372\u001B[0m \u001B[32m━━━━━━━━━━━━━━━━━━━━\u001B[0m\u001B[37m\u001B[0m \u001B[1m1s\u001B[0m 4ms/step - loss: 18.8249 - val_loss: 27.6869\n",
      "Epoch 48/1000\n",
      "\u001B[1m372/372\u001B[0m \u001B[32m━━━━━━━━━━━━━━━━━━━━\u001B[0m\u001B[37m\u001B[0m \u001B[1m1s\u001B[0m 4ms/step - loss: 18.0639 - val_loss: 29.6714\n",
      "Epoch 49/1000\n",
      "\u001B[1m372/372\u001B[0m \u001B[32m━━━━━━━━━━━━━━━━━━━━\u001B[0m\u001B[37m\u001B[0m \u001B[1m1s\u001B[0m 4ms/step - loss: 18.1702 - val_loss: 28.1815\n",
      "Epoch 50/1000\n",
      "\u001B[1m372/372\u001B[0m \u001B[32m━━━━━━━━━━━━━━━━━━━━\u001B[0m\u001B[37m\u001B[0m \u001B[1m1s\u001B[0m 4ms/step - loss: 17.6454 - val_loss: 28.5025\n",
      "Epoch 51/1000\n",
      "\u001B[1m372/372\u001B[0m \u001B[32m━━━━━━━━━━━━━━━━━━━━\u001B[0m\u001B[37m\u001B[0m \u001B[1m1s\u001B[0m 4ms/step - loss: 17.6566 - val_loss: 28.2650\n",
      "Epoch 52/1000\n",
      "\u001B[1m372/372\u001B[0m \u001B[32m━━━━━━━━━━━━━━━━━━━━\u001B[0m\u001B[37m\u001B[0m \u001B[1m1s\u001B[0m 4ms/step - loss: 17.0813 - val_loss: 27.8717\n",
      "Epoch 53/1000\n",
      "\u001B[1m372/372\u001B[0m \u001B[32m━━━━━━━━━━━━━━━━━━━━\u001B[0m\u001B[37m\u001B[0m \u001B[1m1s\u001B[0m 4ms/step - loss: 16.7650 - val_loss: 27.8443\n",
      "Epoch 54/1000\n",
      "\u001B[1m372/372\u001B[0m \u001B[32m━━━━━━━━━━━━━━━━━━━━\u001B[0m\u001B[37m\u001B[0m \u001B[1m1s\u001B[0m 4ms/step - loss: 18.5183 - val_loss: 28.3826\n",
      "Epoch 55/1000\n",
      "\u001B[1m372/372\u001B[0m \u001B[32m━━━━━━━━━━━━━━━━━━━━\u001B[0m\u001B[37m\u001B[0m \u001B[1m2s\u001B[0m 4ms/step - loss: 16.2294 - val_loss: 28.1208\n",
      "Epoch 56/1000\n",
      "\u001B[1m372/372\u001B[0m \u001B[32m━━━━━━━━━━━━━━━━━━━━\u001B[0m\u001B[37m\u001B[0m \u001B[1m2s\u001B[0m 4ms/step - loss: 16.5804 - val_loss: 28.3729\n",
      "Epoch 57/1000\n",
      "\u001B[1m372/372\u001B[0m \u001B[32m━━━━━━━━━━━━━━━━━━━━\u001B[0m\u001B[37m\u001B[0m \u001B[1m2s\u001B[0m 4ms/step - loss: 16.6626 - val_loss: 28.5330\n",
      "Epoch 58/1000\n",
      "\u001B[1m372/372\u001B[0m \u001B[32m━━━━━━━━━━━━━━━━━━━━\u001B[0m\u001B[37m\u001B[0m \u001B[1m1s\u001B[0m 4ms/step - loss: 17.4352 - val_loss: 27.9046\n",
      "Epoch 59/1000\n",
      "\u001B[1m372/372\u001B[0m \u001B[32m━━━━━━━━━━━━━━━━━━━━\u001B[0m\u001B[37m\u001B[0m \u001B[1m1s\u001B[0m 4ms/step - loss: 16.3941 - val_loss: 29.1242\n",
      "Epoch 60/1000\n",
      "\u001B[1m372/372\u001B[0m \u001B[32m━━━━━━━━━━━━━━━━━━━━\u001B[0m\u001B[37m\u001B[0m \u001B[1m1s\u001B[0m 4ms/step - loss: 17.2471 - val_loss: 28.2981\n",
      "Epoch 61/1000\n",
      "\u001B[1m372/372\u001B[0m \u001B[32m━━━━━━━━━━━━━━━━━━━━\u001B[0m\u001B[37m\u001B[0m \u001B[1m1s\u001B[0m 4ms/step - loss: 16.3344 - val_loss: 28.1865\n",
      "Epoch 62/1000\n",
      "\u001B[1m372/372\u001B[0m \u001B[32m━━━━━━━━━━━━━━━━━━━━\u001B[0m\u001B[37m\u001B[0m \u001B[1m1s\u001B[0m 4ms/step - loss: 15.9298 - val_loss: 28.3115\n",
      "Epoch 63/1000\n",
      "\u001B[1m372/372\u001B[0m \u001B[32m━━━━━━━━━━━━━━━━━━━━\u001B[0m\u001B[37m\u001B[0m \u001B[1m1s\u001B[0m 4ms/step - loss: 16.3458 - val_loss: 29.0981\n",
      "Epoch 64/1000\n",
      "\u001B[1m372/372\u001B[0m \u001B[32m━━━━━━━━━━━━━━━━━━━━\u001B[0m\u001B[37m\u001B[0m \u001B[1m1s\u001B[0m 4ms/step - loss: 15.9454 - val_loss: 28.1791\n",
      "Epoch 65/1000\n",
      "\u001B[1m372/372\u001B[0m \u001B[32m━━━━━━━━━━━━━━━━━━━━\u001B[0m\u001B[37m\u001B[0m \u001B[1m1s\u001B[0m 4ms/step - loss: 16.3457 - val_loss: 28.5828\n",
      "Epoch 66/1000\n",
      "\u001B[1m372/372\u001B[0m \u001B[32m━━━━━━━━━━━━━━━━━━━━\u001B[0m\u001B[37m\u001B[0m \u001B[1m2s\u001B[0m 4ms/step - loss: 16.8763 - val_loss: 28.8199\n",
      "Epoch 67/1000\n",
      "\u001B[1m372/372\u001B[0m \u001B[32m━━━━━━━━━━━━━━━━━━━━\u001B[0m\u001B[37m\u001B[0m \u001B[1m2s\u001B[0m 4ms/step - loss: 15.6836 - val_loss: 28.3506\n",
      "Epoch 68/1000\n",
      "\u001B[1m372/372\u001B[0m \u001B[32m━━━━━━━━━━━━━━━━━━━━\u001B[0m\u001B[37m\u001B[0m \u001B[1m2s\u001B[0m 4ms/step - loss: 15.6311 - val_loss: 29.6372\n",
      "Epoch 69/1000\n",
      "\u001B[1m372/372\u001B[0m \u001B[32m━━━━━━━━━━━━━━━━━━━━\u001B[0m\u001B[37m\u001B[0m \u001B[1m2s\u001B[0m 4ms/step - loss: 15.3558 - val_loss: 29.3050\n",
      "Epoch 70/1000\n",
      "\u001B[1m372/372\u001B[0m \u001B[32m━━━━━━━━━━━━━━━━━━━━\u001B[0m\u001B[37m\u001B[0m \u001B[1m1s\u001B[0m 4ms/step - loss: 15.3075 - val_loss: 28.8734\n",
      "Epoch 71/1000\n",
      "\u001B[1m372/372\u001B[0m \u001B[32m━━━━━━━━━━━━━━━━━━━━\u001B[0m\u001B[37m\u001B[0m \u001B[1m1s\u001B[0m 4ms/step - loss: 15.8500 - val_loss: 27.7674\n",
      "Epoch 72/1000\n",
      "\u001B[1m372/372\u001B[0m \u001B[32m━━━━━━━━━━━━━━━━━━━━\u001B[0m\u001B[37m\u001B[0m \u001B[1m1s\u001B[0m 4ms/step - loss: 15.9702 - val_loss: 28.3988\n",
      "Epoch 73/1000\n",
      "\u001B[1m372/372\u001B[0m \u001B[32m━━━━━━━━━━━━━━━━━━━━\u001B[0m\u001B[37m\u001B[0m \u001B[1m1s\u001B[0m 4ms/step - loss: 14.8824 - val_loss: 28.7188\n",
      "Epoch 74/1000\n",
      "\u001B[1m372/372\u001B[0m \u001B[32m━━━━━━━━━━━━━━━━━━━━\u001B[0m\u001B[37m\u001B[0m \u001B[1m1s\u001B[0m 4ms/step - loss: 15.0505 - val_loss: 27.9641\n",
      "Epoch 75/1000\n",
      "\u001B[1m372/372\u001B[0m \u001B[32m━━━━━━━━━━━━━━━━━━━━\u001B[0m\u001B[37m\u001B[0m \u001B[1m1s\u001B[0m 4ms/step - loss: 15.1822 - val_loss: 29.0803\n",
      "Epoch 76/1000\n",
      "\u001B[1m372/372\u001B[0m \u001B[32m━━━━━━━━━━━━━━━━━━━━\u001B[0m\u001B[37m\u001B[0m \u001B[1m1s\u001B[0m 4ms/step - loss: 15.2406 - val_loss: 28.2156\n",
      "Epoch 77/1000\n",
      "\u001B[1m372/372\u001B[0m \u001B[32m━━━━━━━━━━━━━━━━━━━━\u001B[0m\u001B[37m\u001B[0m \u001B[1m1s\u001B[0m 4ms/step - loss: 14.8398 - val_loss: 29.4682\n",
      "Epoch 78/1000\n",
      "\u001B[1m372/372\u001B[0m \u001B[32m━━━━━━━━━━━━━━━━━━━━\u001B[0m\u001B[37m\u001B[0m \u001B[1m1s\u001B[0m 4ms/step - loss: 14.1247 - val_loss: 28.4028\n",
      "Epoch 79/1000\n",
      "\u001B[1m372/372\u001B[0m \u001B[32m━━━━━━━━━━━━━━━━━━━━\u001B[0m\u001B[37m\u001B[0m \u001B[1m1s\u001B[0m 4ms/step - loss: 14.2193 - val_loss: 27.7906\n",
      "Epoch 80/1000\n",
      "\u001B[1m372/372\u001B[0m \u001B[32m━━━━━━━━━━━━━━━━━━━━\u001B[0m\u001B[37m\u001B[0m \u001B[1m1s\u001B[0m 4ms/step - loss: 13.8067 - val_loss: 28.6420\n",
      "Epoch 81/1000\n",
      "\u001B[1m372/372\u001B[0m \u001B[32m━━━━━━━━━━━━━━━━━━━━\u001B[0m\u001B[37m\u001B[0m \u001B[1m1s\u001B[0m 4ms/step - loss: 14.4306 - val_loss: 29.6571\n",
      "Epoch 82/1000\n",
      "\u001B[1m372/372\u001B[0m \u001B[32m━━━━━━━━━━━━━━━━━━━━\u001B[0m\u001B[37m\u001B[0m \u001B[1m1s\u001B[0m 4ms/step - loss: 14.6996 - val_loss: 29.8340\n",
      "Epoch 83/1000\n",
      "\u001B[1m372/372\u001B[0m \u001B[32m━━━━━━━━━━━━━━━━━━━━\u001B[0m\u001B[37m\u001B[0m \u001B[1m1s\u001B[0m 4ms/step - loss: 13.1437 - val_loss: 28.9340\n",
      "Epoch 84/1000\n",
      "\u001B[1m372/372\u001B[0m \u001B[32m━━━━━━━━━━━━━━━━━━━━\u001B[0m\u001B[37m\u001B[0m \u001B[1m1s\u001B[0m 4ms/step - loss: 13.3242 - val_loss: 31.1889\n",
      "Epoch 85/1000\n",
      "\u001B[1m372/372\u001B[0m \u001B[32m━━━━━━━━━━━━━━━━━━━━\u001B[0m\u001B[37m\u001B[0m \u001B[1m1s\u001B[0m 4ms/step - loss: 13.2553 - val_loss: 29.7705\n",
      "Epoch 86/1000\n",
      "\u001B[1m372/372\u001B[0m \u001B[32m━━━━━━━━━━━━━━━━━━━━\u001B[0m\u001B[37m\u001B[0m \u001B[1m1s\u001B[0m 4ms/step - loss: 14.4302 - val_loss: 30.1070\n",
      "Epoch 87/1000\n",
      "\u001B[1m372/372\u001B[0m \u001B[32m━━━━━━━━━━━━━━━━━━━━\u001B[0m\u001B[37m\u001B[0m \u001B[1m1s\u001B[0m 4ms/step - loss: 13.9038 - val_loss: 29.6862\n",
      "Epoch 88/1000\n",
      "\u001B[1m372/372\u001B[0m \u001B[32m━━━━━━━━━━━━━━━━━━━━\u001B[0m\u001B[37m\u001B[0m \u001B[1m1s\u001B[0m 4ms/step - loss: 13.1552 - val_loss: 31.0052\n",
      "Epoch 89/1000\n",
      "\u001B[1m372/372\u001B[0m \u001B[32m━━━━━━━━━━━━━━━━━━━━\u001B[0m\u001B[37m\u001B[0m \u001B[1m1s\u001B[0m 4ms/step - loss: 13.4345 - val_loss: 29.5305\n",
      "Epoch 90/1000\n",
      "\u001B[1m372/372\u001B[0m \u001B[32m━━━━━━━━━━━━━━━━━━━━\u001B[0m\u001B[37m\u001B[0m \u001B[1m1s\u001B[0m 4ms/step - loss: 13.1079 - val_loss: 29.6960\n",
      "Epoch 91/1000\n",
      "\u001B[1m372/372\u001B[0m \u001B[32m━━━━━━━━━━━━━━━━━━━━\u001B[0m\u001B[37m\u001B[0m \u001B[1m1s\u001B[0m 4ms/step - loss: 12.9661 - val_loss: 28.8157\n",
      "Epoch 92/1000\n",
      "\u001B[1m372/372\u001B[0m \u001B[32m━━━━━━━━━━━━━━━━━━━━\u001B[0m\u001B[37m\u001B[0m \u001B[1m1s\u001B[0m 4ms/step - loss: 13.0170 - val_loss: 29.5787\n",
      "Epoch 93/1000\n",
      "\u001B[1m372/372\u001B[0m \u001B[32m━━━━━━━━━━━━━━━━━━━━\u001B[0m\u001B[37m\u001B[0m \u001B[1m1s\u001B[0m 4ms/step - loss: 12.7135 - val_loss: 29.8268\n",
      "Epoch 94/1000\n",
      "\u001B[1m372/372\u001B[0m \u001B[32m━━━━━━━━━━━━━━━━━━━━\u001B[0m\u001B[37m\u001B[0m \u001B[1m1s\u001B[0m 4ms/step - loss: 12.8382 - val_loss: 30.3009\n",
      "Epoch 95/1000\n",
      "\u001B[1m372/372\u001B[0m \u001B[32m━━━━━━━━━━━━━━━━━━━━\u001B[0m\u001B[37m\u001B[0m \u001B[1m1s\u001B[0m 4ms/step - loss: 12.9754 - val_loss: 29.0160\n",
      "Epoch 96/1000\n",
      "\u001B[1m372/372\u001B[0m \u001B[32m━━━━━━━━━━━━━━━━━━━━\u001B[0m\u001B[37m\u001B[0m \u001B[1m1s\u001B[0m 4ms/step - loss: 12.5292 - val_loss: 30.1069\n",
      "Epoch 97/1000\n",
      "\u001B[1m372/372\u001B[0m \u001B[32m━━━━━━━━━━━━━━━━━━━━\u001B[0m\u001B[37m\u001B[0m \u001B[1m1s\u001B[0m 3ms/step - loss: 13.1611 - val_loss: 30.7533\n",
      "Epoch 98/1000\n",
      "\u001B[1m372/372\u001B[0m \u001B[32m━━━━━━━━━━━━━━━━━━━━\u001B[0m\u001B[37m\u001B[0m \u001B[1m1s\u001B[0m 3ms/step - loss: 11.9675 - val_loss: 30.2585\n",
      "Epoch 99/1000\n",
      "\u001B[1m372/372\u001B[0m \u001B[32m━━━━━━━━━━━━━━━━━━━━\u001B[0m\u001B[37m\u001B[0m \u001B[1m1s\u001B[0m 3ms/step - loss: 12.3600 - val_loss: 30.3882\n",
      "Epoch 100/1000\n",
      "\u001B[1m372/372\u001B[0m \u001B[32m━━━━━━━━━━━━━━━━━━━━\u001B[0m\u001B[37m\u001B[0m \u001B[1m1s\u001B[0m 3ms/step - loss: 12.6714 - val_loss: 30.9738\n",
      "Epoch 101/1000\n",
      "\u001B[1m372/372\u001B[0m \u001B[32m━━━━━━━━━━━━━━━━━━━━\u001B[0m\u001B[37m\u001B[0m \u001B[1m1s\u001B[0m 3ms/step - loss: 12.0560 - val_loss: 31.8470\n",
      "Epoch 102/1000\n",
      "\u001B[1m372/372\u001B[0m \u001B[32m━━━━━━━━━━━━━━━━━━━━\u001B[0m\u001B[37m\u001B[0m \u001B[1m1s\u001B[0m 3ms/step - loss: 12.2592 - val_loss: 31.1457\n",
      "Epoch 103/1000\n",
      "\u001B[1m372/372\u001B[0m \u001B[32m━━━━━━━━━━━━━━━━━━━━\u001B[0m\u001B[37m\u001B[0m \u001B[1m1s\u001B[0m 3ms/step - loss: 11.8271 - val_loss: 29.3212\n",
      "Epoch 104/1000\n",
      "\u001B[1m372/372\u001B[0m \u001B[32m━━━━━━━━━━━━━━━━━━━━\u001B[0m\u001B[37m\u001B[0m \u001B[1m1s\u001B[0m 3ms/step - loss: 11.5163 - val_loss: 30.6101\n",
      "Epoch 105/1000\n",
      "\u001B[1m372/372\u001B[0m \u001B[32m━━━━━━━━━━━━━━━━━━━━\u001B[0m\u001B[37m\u001B[0m \u001B[1m1s\u001B[0m 4ms/step - loss: 11.2437 - val_loss: 30.9720\n",
      "Epoch 106/1000\n",
      "\u001B[1m372/372\u001B[0m \u001B[32m━━━━━━━━━━━━━━━━━━━━\u001B[0m\u001B[37m\u001B[0m \u001B[1m1s\u001B[0m 4ms/step - loss: 12.4772 - val_loss: 31.9677\n",
      "Epoch 107/1000\n",
      "\u001B[1m372/372\u001B[0m \u001B[32m━━━━━━━━━━━━━━━━━━━━\u001B[0m\u001B[37m\u001B[0m \u001B[1m1s\u001B[0m 4ms/step - loss: 11.9162 - val_loss: 31.0100\n",
      "Epoch 108/1000\n",
      "\u001B[1m372/372\u001B[0m \u001B[32m━━━━━━━━━━━━━━━━━━━━\u001B[0m\u001B[37m\u001B[0m \u001B[1m1s\u001B[0m 4ms/step - loss: 11.7340 - val_loss: 30.1382\n",
      "Epoch 109/1000\n",
      "\u001B[1m372/372\u001B[0m \u001B[32m━━━━━━━━━━━━━━━━━━━━\u001B[0m\u001B[37m\u001B[0m \u001B[1m1s\u001B[0m 4ms/step - loss: 11.9736 - val_loss: 31.7114\n",
      "Epoch 110/1000\n",
      "\u001B[1m372/372\u001B[0m \u001B[32m━━━━━━━━━━━━━━━━━━━━\u001B[0m\u001B[37m\u001B[0m \u001B[1m2s\u001B[0m 4ms/step - loss: 12.0964 - val_loss: 30.3253\n",
      "Epoch 111/1000\n",
      "\u001B[1m372/372\u001B[0m \u001B[32m━━━━━━━━━━━━━━━━━━━━\u001B[0m\u001B[37m\u001B[0m \u001B[1m1s\u001B[0m 4ms/step - loss: 11.1117 - val_loss: 31.3135\n",
      "Epoch 112/1000\n",
      "\u001B[1m372/372\u001B[0m \u001B[32m━━━━━━━━━━━━━━━━━━━━\u001B[0m\u001B[37m\u001B[0m \u001B[1m1s\u001B[0m 4ms/step - loss: 11.7594 - val_loss: 32.0892\n",
      "Epoch 113/1000\n",
      "\u001B[1m372/372\u001B[0m \u001B[32m━━━━━━━━━━━━━━━━━━━━\u001B[0m\u001B[37m\u001B[0m \u001B[1m1s\u001B[0m 4ms/step - loss: 10.2850 - val_loss: 31.2949\n",
      "Epoch 114/1000\n",
      "\u001B[1m372/372\u001B[0m \u001B[32m━━━━━━━━━━━━━━━━━━━━\u001B[0m\u001B[37m\u001B[0m \u001B[1m1s\u001B[0m 4ms/step - loss: 11.8635 - val_loss: 32.2277\n",
      "Epoch 115/1000\n",
      "\u001B[1m372/372\u001B[0m \u001B[32m━━━━━━━━━━━━━━━━━━━━\u001B[0m\u001B[37m\u001B[0m \u001B[1m1s\u001B[0m 4ms/step - loss: 10.6674 - val_loss: 31.9335\n",
      "Epoch 116/1000\n",
      "\u001B[1m372/372\u001B[0m \u001B[32m━━━━━━━━━━━━━━━━━━━━\u001B[0m\u001B[37m\u001B[0m \u001B[1m1s\u001B[0m 4ms/step - loss: 10.9099 - val_loss: 31.0719\n",
      "Epoch 117/1000\n",
      "\u001B[1m372/372\u001B[0m \u001B[32m━━━━━━━━━━━━━━━━━━━━\u001B[0m\u001B[37m\u001B[0m \u001B[1m1s\u001B[0m 4ms/step - loss: 11.5365 - val_loss: 30.8933\n",
      "Epoch 118/1000\n",
      "\u001B[1m372/372\u001B[0m \u001B[32m━━━━━━━━━━━━━━━━━━━━\u001B[0m\u001B[37m\u001B[0m \u001B[1m1s\u001B[0m 4ms/step - loss: 10.5564 - val_loss: 31.0422\n",
      "Epoch 119/1000\n",
      "\u001B[1m372/372\u001B[0m \u001B[32m━━━━━━━━━━━━━━━━━━━━\u001B[0m\u001B[37m\u001B[0m \u001B[1m1s\u001B[0m 4ms/step - loss: 10.0068 - val_loss: 31.7911\n",
      "Epoch 120/1000\n",
      "\u001B[1m372/372\u001B[0m \u001B[32m━━━━━━━━━━━━━━━━━━━━\u001B[0m\u001B[37m\u001B[0m \u001B[1m1s\u001B[0m 4ms/step - loss: 9.9263 - val_loss: 31.4183\n",
      "Epoch 121/1000\n",
      "\u001B[1m372/372\u001B[0m \u001B[32m━━━━━━━━━━━━━━━━━━━━\u001B[0m\u001B[37m\u001B[0m \u001B[1m1s\u001B[0m 4ms/step - loss: 9.7650 - val_loss: 31.2515\n",
      "Epoch 122/1000\n",
      "\u001B[1m372/372\u001B[0m \u001B[32m━━━━━━━━━━━━━━━━━━━━\u001B[0m\u001B[37m\u001B[0m \u001B[1m1s\u001B[0m 4ms/step - loss: 10.4574 - val_loss: 30.9823\n",
      "Epoch 123/1000\n",
      "\u001B[1m372/372\u001B[0m \u001B[32m━━━━━━━━━━━━━━━━━━━━\u001B[0m\u001B[37m\u001B[0m \u001B[1m1s\u001B[0m 4ms/step - loss: 10.3310 - val_loss: 31.5472\n",
      "Epoch 124/1000\n",
      "\u001B[1m372/372\u001B[0m \u001B[32m━━━━━━━━━━━━━━━━━━━━\u001B[0m\u001B[37m\u001B[0m \u001B[1m1s\u001B[0m 4ms/step - loss: 10.0016 - val_loss: 31.5773\n",
      "Epoch 125/1000\n",
      "\u001B[1m372/372\u001B[0m \u001B[32m━━━━━━━━━━━━━━━━━━━━\u001B[0m\u001B[37m\u001B[0m \u001B[1m1s\u001B[0m 4ms/step - loss: 9.6781 - val_loss: 31.9329\n",
      "Epoch 126/1000\n",
      "\u001B[1m372/372\u001B[0m \u001B[32m━━━━━━━━━━━━━━━━━━━━\u001B[0m\u001B[37m\u001B[0m \u001B[1m1s\u001B[0m 4ms/step - loss: 9.7954 - val_loss: 32.2736\n",
      "Epoch 127/1000\n",
      "\u001B[1m372/372\u001B[0m \u001B[32m━━━━━━━━━━━━━━━━━━━━\u001B[0m\u001B[37m\u001B[0m \u001B[1m1s\u001B[0m 4ms/step - loss: 10.1775 - val_loss: 32.5930\n",
      "Epoch 128/1000\n",
      "\u001B[1m372/372\u001B[0m \u001B[32m━━━━━━━━━━━━━━━━━━━━\u001B[0m\u001B[37m\u001B[0m \u001B[1m1s\u001B[0m 4ms/step - loss: 9.5844 - val_loss: 32.0311\n",
      "Epoch 129/1000\n",
      "\u001B[1m372/372\u001B[0m \u001B[32m━━━━━━━━━━━━━━━━━━━━\u001B[0m\u001B[37m\u001B[0m \u001B[1m1s\u001B[0m 4ms/step - loss: 9.5446 - val_loss: 31.5342\n",
      "Epoch 130/1000\n",
      "\u001B[1m372/372\u001B[0m \u001B[32m━━━━━━━━━━━━━━━━━━━━\u001B[0m\u001B[37m\u001B[0m \u001B[1m1s\u001B[0m 4ms/step - loss: 9.6385 - val_loss: 32.8817\n",
      "Epoch 131/1000\n",
      "\u001B[1m372/372\u001B[0m \u001B[32m━━━━━━━━━━━━━━━━━━━━\u001B[0m\u001B[37m\u001B[0m \u001B[1m1s\u001B[0m 4ms/step - loss: 9.1309 - val_loss: 32.1650\n",
      "Epoch 132/1000\n",
      "\u001B[1m372/372\u001B[0m \u001B[32m━━━━━━━━━━━━━━━━━━━━\u001B[0m\u001B[37m\u001B[0m \u001B[1m1s\u001B[0m 4ms/step - loss: 9.6955 - val_loss: 31.9303\n"
     ]
    },
    {
     "data": {
      "text/plain": "<keras.src.callbacks.history.History at 0x18ae22940>"
     },
     "execution_count": 178,
     "metadata": {},
     "output_type": "execute_result"
    }
   ],
   "source": [
    "nn_model_site2.fit(X_s2_train, y_s2_train, epochs=1000, validation_data=(X_s2_val,y_s2_val), callbacks=[callback])"
   ],
   "metadata": {
    "collapsed": false,
    "ExecuteTime": {
     "end_time": "2025-01-28T11:14:11.892110Z",
     "start_time": "2025-01-28T11:10:57.586612Z"
    }
   },
   "id": "8d6f130ecef27abe",
   "execution_count": 178
  },
  {
   "cell_type": "code",
   "outputs": [
    {
     "name": "stdout",
     "output_type": "stream",
     "text": [
      "\u001B[1m224/224\u001B[0m \u001B[32m━━━━━━━━━━━━━━━━━━━━\u001B[0m\u001B[37m\u001B[0m \u001B[1m1s\u001B[0m 2ms/step\n",
      "MAE: 3.1464755535125732\n",
      "RMSE: 5.077848174546009\n",
      "R2: 0.7980289459228516\n",
      "Accuracy: 61.55 %\n",
      "average hourly connectedCars site 1: 12.009139600019655\n",
      "average hourly connectedCars site 2: 8.183885339609953\n"
     ]
    }
   ],
   "source": [
    "nn_pred_site2 = nn_model_site2.predict(X_s2_test)\n",
    "\n",
    "# Calculate MAE, RMSE and r2\n",
    "nn_mae_s2 = mean_absolute_error(y_s2_test,nn_pred_site2)\n",
    "nn_rmse_s2 = mean_squared_error(y_s2_test,nn_pred_site2)**0.5\n",
    "nn_r2_s2 = r2_score(y_s2_test, nn_pred_site2)\n",
    "mean_site1_connectedCars = predictionDF_site1[\"connectedCars\"].mean()\n",
    "mean_site2_connectedCars = predictionDF_site2[\"connectedCars\"].mean()\n",
    "\n",
    "print(\"MAE:\", nn_mae_s2)\n",
    "print(\"RMSE:\", nn_rmse_s2)\n",
    "print(\"R2:\", nn_r2_s2)\n",
    "print(\"Accuracy:\", round((1-(nn_mae_s2/predictionDF_site2[\"connectedCars\"].mean()))*100,2), \"%\")\n",
    "print(\"average hourly connectedCars site 1:\", mean_site1_connectedCars)\n",
    "print(\"average hourly connectedCars site 2:\", mean_site2_connectedCars)"
   ],
   "metadata": {
    "collapsed": false,
    "ExecuteTime": {
     "end_time": "2025-01-28T11:14:12.626138Z",
     "start_time": "2025-01-28T11:14:11.896619Z"
    }
   },
   "id": "ad56de99f3fd97a2",
   "execution_count": 179
  },
  {
   "cell_type": "markdown",
   "source": [
    "# UTILIZATION PREDICTION SITE 1"
   ],
   "metadata": {
    "collapsed": false
   },
   "id": "4f7aaca791ba7b81"
  },
  {
   "cell_type": "code",
   "outputs": [],
   "source": [
    "X_s1_util = predictionDF_site1.copy()\n",
    "X_s1_util = predictionDF_site1.drop([\"connectedCars\",\"utilization\",\"temperature\",\"time_of_day\"],axis = 1)\n",
    "y_s1_util = predictionDF_site1[[\"utilization\"]]"
   ],
   "metadata": {
    "collapsed": false,
    "ExecuteTime": {
     "end_time": "2025-01-28T11:14:12.681430Z",
     "start_time": "2025-01-28T11:14:12.620713Z"
    }
   },
   "id": "d00a7cee1eb593cb",
   "execution_count": 180
  },
  {
   "cell_type": "code",
   "outputs": [
    {
     "ename": "NameError",
     "evalue": "name 'X' is not defined",
     "output_type": "error",
     "traceback": [
      "\u001B[0;31m---------------------------------------------------------------------------\u001B[0m",
      "\u001B[0;31mNameError\u001B[0m                                 Traceback (most recent call last)",
      "Cell \u001B[0;32mIn[181], line 2\u001B[0m\n\u001B[1;32m      1\u001B[0m \u001B[38;5;66;03m# Split data into train and test sets\u001B[39;00m\n\u001B[0;32m----> 2\u001B[0m X_train, X_test, y_train, y_test \u001B[38;5;241m=\u001B[39m train_test_split(\u001B[43mX\u001B[49m, y, test_size\u001B[38;5;241m=\u001B[39m\u001B[38;5;241m0.3\u001B[39m, random_state\u001B[38;5;241m=\u001B[39m\u001B[38;5;241m42\u001B[39m)\n\u001B[1;32m      4\u001B[0m \u001B[38;5;66;03m# Standardize the feature values\u001B[39;00m\n\u001B[1;32m      5\u001B[0m scaler \u001B[38;5;241m=\u001B[39m StandardScaler()\n",
      "\u001B[0;31mNameError\u001B[0m: name 'X' is not defined"
     ]
    }
   ],
   "source": [
    "\n",
    "# Split data into train and test sets\n",
    "X_train, X_test, y_train, y_test = train_test_split(X, y, test_size=0.3, random_state=42)\n",
    "\n",
    "# Standardize the feature values\n",
    "scaler = StandardScaler()\n",
    "X_train = scaler.fit_transform(X_train)\n",
    "X_test = scaler.transform(X_test)\n",
    "\n"
   ],
   "metadata": {
    "collapsed": false,
    "ExecuteTime": {
     "end_time": "2025-01-28T11:14:12.719233Z",
     "start_time": "2025-01-28T11:14:12.642445Z"
    }
   },
   "id": "118b2397cf6e20de",
   "execution_count": 181
  },
  {
   "cell_type": "code",
   "outputs": [],
   "source": [],
   "metadata": {
    "collapsed": false,
    "ExecuteTime": {
     "start_time": "2025-01-28T11:14:12.684789Z"
    }
   },
   "id": "2ce5286ec7d3ebc6"
  }
 ],
 "metadata": {
  "kernelspec": {
   "display_name": "Python 3",
   "language": "python",
   "name": "python3"
  },
  "language_info": {
   "codemirror_mode": {
    "name": "ipython",
    "version": 2
   },
   "file_extension": ".py",
   "mimetype": "text/x-python",
   "name": "python",
   "nbconvert_exporter": "python",
   "pygments_lexer": "ipython2",
   "version": "2.7.6"
  }
 },
 "nbformat": 4,
 "nbformat_minor": 5
}
