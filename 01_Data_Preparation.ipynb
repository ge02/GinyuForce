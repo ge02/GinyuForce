{
 "cells": [
  {
   "cell_type": "code",
   "execution_count": 320,
   "id": "initial_id",
   "metadata": {
    "collapsed": true,
    "ExecuteTime": {
     "end_time": "2025-01-25T22:29:36.440723Z",
     "start_time": "2025-01-25T22:29:36.390252Z"
    }
   },
   "outputs": [],
   "source": [
    "import numpy as np\n",
    "import pandas as pd\n",
    "\n",
    "import matplotlib.pyplot as plt\n",
    "import seaborn as sns\n",
    "\n",
    "import warnings\n",
    "warnings.filterwarnings('ignore')\n",
    "\n",
    "import ast"
   ]
  },
  {
   "cell_type": "markdown",
   "source": [
    "# 1 Charging Set"
   ],
   "metadata": {
    "collapsed": false
   },
   "id": "5af3644029314b78"
  },
  {
   "cell_type": "code",
   "outputs": [],
   "source": [
    "charging_set = pd.read_csv(\"data/charging_sessions.csv\")"
   ],
   "metadata": {
    "collapsed": false,
    "ExecuteTime": {
     "end_time": "2025-01-25T23:07:12.105214Z",
     "start_time": "2025-01-25T23:07:11.343943Z"
    }
   },
   "id": "f77772a29efaf39a",
   "execution_count": 398
  },
  {
   "cell_type": "markdown",
   "source": [
    "## 1.1 Overview of Raw Data"
   ],
   "metadata": {
    "collapsed": false
   },
   "id": "5f097a37f5967edc"
  },
  {
   "cell_type": "code",
   "outputs": [
    {
     "name": "stdout",
     "output_type": "stream",
     "text": [
      "columns:\n",
      "Index(['Unnamed: 0', 'id', 'connectionTime', 'disconnectTime',\n",
      "       'doneChargingTime', 'kWhDelivered', 'sessionID', 'siteID', 'spaceID',\n",
      "       'stationID', 'timezone', 'userID', 'userInputs'],\n",
      "      dtype='object')\n",
      "-------------------------------------------------------------------------\n",
      "info():\n",
      "<class 'pandas.core.frame.DataFrame'>\n",
      "RangeIndex: 66450 entries, 0 to 66449\n",
      "Data columns (total 13 columns):\n",
      " #   Column            Non-Null Count  Dtype  \n",
      "---  ------            --------------  -----  \n",
      " 0   Unnamed: 0        66450 non-null  int64  \n",
      " 1   id                66450 non-null  object \n",
      " 2   connectionTime    66450 non-null  object \n",
      " 3   disconnectTime    66450 non-null  object \n",
      " 4   doneChargingTime  62362 non-null  object \n",
      " 5   kWhDelivered      66450 non-null  float64\n",
      " 6   sessionID         66450 non-null  object \n",
      " 7   siteID            66450 non-null  int64  \n",
      " 8   spaceID           66450 non-null  object \n",
      " 9   stationID         66450 non-null  object \n",
      " 10  timezone          66450 non-null  object \n",
      " 11  userID            49187 non-null  float64\n",
      " 12  userInputs        49187 non-null  object \n",
      "dtypes: float64(2), int64(2), object(9)\n",
      "memory usage: 6.6+ MB\n",
      "None\n",
      "-------------------------------------------------------------------------\n",
      "describe():\n",
      "         Unnamed: 0  kWhDelivered        siteID        userID\n",
      "count  66450.000000  66450.000000  66450.000000  49187.000000\n",
      "mean    4726.102062     11.787916      1.472656   1800.494582\n",
      "std     3568.025394     10.314789      0.499256   2617.548614\n",
      "min        0.000000      0.501000      1.000000      1.000000\n",
      "25%     1845.000000      5.097000      1.000000    431.000000\n",
      "50%     3960.000000      9.140000      1.000000    818.000000\n",
      "75%     7027.000000     14.183000      2.000000   1805.000000\n",
      "max    15291.000000    108.797242      2.000000  19923.000000\n"
     ]
    }
   ],
   "source": [
    "print(\"columns:\")\n",
    "print(charging_set.columns)\n",
    "print(\"-------------------------------------------------------------------------\")\n",
    "print(\"info():\")\n",
    "print(charging_set.info())\n",
    "print(\"-------------------------------------------------------------------------\")\n",
    "print(\"describe():\")\n",
    "print(charging_set.describe())"
   ],
   "metadata": {
    "collapsed": false,
    "ExecuteTime": {
     "end_time": "2025-01-25T23:07:12.214917Z",
     "start_time": "2025-01-25T23:07:12.091704Z"
    }
   },
   "id": "e88f69a0e055f98b",
   "execution_count": 399
  },
  {
   "cell_type": "code",
   "outputs": [
    {
     "data": {
      "text/plain": "   Unnamed: 0                        id             connectionTime  \\\n0           0  5e23b149f9af8b5fe4b973cf  2020-01-02 13:08:54+00:00   \n1           1  5e23b149f9af8b5fe4b973d0  2020-01-02 13:36:50+00:00   \n2           2  5e23b149f9af8b5fe4b973d1  2020-01-02 13:56:35+00:00   \n3           3  5e23b149f9af8b5fe4b973d2  2020-01-02 13:59:58+00:00   \n4           4  5e23b149f9af8b5fe4b973d3  2020-01-02 14:00:01+00:00   \n5           5  5e23b149f9af8b5fe4b973d4  2020-01-02 14:00:13+00:00   \n6           6  5e23b149f9af8b5fe4b973d5  2020-01-02 14:09:14+00:00   \n7           7  5e23b149f9af8b5fe4b973d6  2020-01-02 14:17:32+00:00   \n8           8  5e23b149f9af8b5fe4b973d7  2020-01-02 14:25:38+00:00   \n9           9  5e23b149f9af8b5fe4b973d8  2020-01-02 14:27:40+00:00   \n\n              disconnectTime           doneChargingTime  kWhDelivered  \\\n0  2020-01-02 19:11:15+00:00  2020-01-02 17:31:35+00:00        25.016   \n1  2020-01-02 22:38:21+00:00  2020-01-02 20:18:05+00:00        33.097   \n2  2020-01-03 00:39:22+00:00  2020-01-02 16:35:06+00:00         6.521   \n3  2020-01-02 16:38:39+00:00  2020-01-02 15:18:45+00:00         2.355   \n4  2020-01-02 22:08:40+00:00  2020-01-02 18:17:30+00:00        13.375   \n5  2020-01-02 23:00:41+00:00  2020-01-02 20:13:21+00:00        13.370   \n6  2020-01-03 01:57:58+00:00  2020-01-03 00:59:21+00:00        43.477   \n7  2020-01-03 00:44:54+00:00  2020-01-02 20:22:40+00:00        32.441   \n8  2020-01-02 19:36:05+00:00  2020-01-02 18:38:39+00:00        13.264   \n9  2020-01-02 20:01:48+00:00  2020-01-02 19:17:46+00:00        13.285   \n\n                                sessionID  siteID  spaceID    stationID  \\\n0  1_1_179_810_2020-01-02 13:08:53.870034       1  AG-3F30  1-1-179-810   \n1  1_1_193_825_2020-01-02 13:36:49.599853       1  AG-1F01  1-1-193-825   \n2  1_1_193_829_2020-01-02 13:56:35.214993       1  AG-1F03  1-1-193-829   \n3  1_1_193_820_2020-01-02 13:59:58.309319       1  AG-1F04  1-1-193-820   \n4  1_1_193_819_2020-01-02 14:00:00.779967       1  AG-1F06  1-1-193-819   \n5  1_1_194_821_2020-01-02 14:00:05.241573       1  AG-1F13  1-1-194-821   \n6  1_1_178_817_2020-01-02 14:09:14.451827       1  AG-1F09  1-1-178-817   \n7  1_1_191_804_2020-01-02 14:17:32.329535       1  AG-4F34  1-1-191-804   \n8  1_1_194_826_2020-01-02 14:25:37.578692       1  AG-1F11  1-1-194-826   \n9  1_1_178_823_2020-01-02 14:27:39.582337       1  AG-1F08  1-1-178-823   \n\n              timezone  userID  \\\n0  America/Los_Angeles   194.0   \n1  America/Los_Angeles  4275.0   \n2  America/Los_Angeles   344.0   \n3  America/Los_Angeles  1117.0   \n4  America/Los_Angeles   334.0   \n5  America/Los_Angeles  3519.0   \n6  America/Los_Angeles   933.0   \n7  America/Los_Angeles  3737.0   \n8  America/Los_Angeles   419.0   \n9  America/Los_Angeles   651.0   \n\n                                          userInputs  \n0  [{'WhPerMile': 250, 'kWhRequested': 25.0, 'mil...  \n1  [{'WhPerMile': 280, 'kWhRequested': 70.0, 'mil...  \n2  [{'WhPerMile': 400, 'kWhRequested': 8.0, 'mile...  \n3  [{'WhPerMile': 400, 'kWhRequested': 8.0, 'mile...  \n4  [{'WhPerMile': 400, 'kWhRequested': 16.0, 'mil...  \n5  [{'WhPerMile': 600, 'kWhRequested': 24.0, 'mil...  \n6  [{'WhPerMile': 385, 'kWhRequested': 65.45, 'mi...  \n7  [{'WhPerMile': 300, 'kWhRequested': 45.0, 'mil...  \n8  [{'WhPerMile': 400, 'kWhRequested': 40.0, 'mil...  \n9  [{'WhPerMile': 400, 'kWhRequested': 20.0, 'mil...  ",
      "text/html": "<div>\n<style scoped>\n    .dataframe tbody tr th:only-of-type {\n        vertical-align: middle;\n    }\n\n    .dataframe tbody tr th {\n        vertical-align: top;\n    }\n\n    .dataframe thead th {\n        text-align: right;\n    }\n</style>\n<table border=\"1\" class=\"dataframe\">\n  <thead>\n    <tr style=\"text-align: right;\">\n      <th></th>\n      <th>Unnamed: 0</th>\n      <th>id</th>\n      <th>connectionTime</th>\n      <th>disconnectTime</th>\n      <th>doneChargingTime</th>\n      <th>kWhDelivered</th>\n      <th>sessionID</th>\n      <th>siteID</th>\n      <th>spaceID</th>\n      <th>stationID</th>\n      <th>timezone</th>\n      <th>userID</th>\n      <th>userInputs</th>\n    </tr>\n  </thead>\n  <tbody>\n    <tr>\n      <th>0</th>\n      <td>0</td>\n      <td>5e23b149f9af8b5fe4b973cf</td>\n      <td>2020-01-02 13:08:54+00:00</td>\n      <td>2020-01-02 19:11:15+00:00</td>\n      <td>2020-01-02 17:31:35+00:00</td>\n      <td>25.016</td>\n      <td>1_1_179_810_2020-01-02 13:08:53.870034</td>\n      <td>1</td>\n      <td>AG-3F30</td>\n      <td>1-1-179-810</td>\n      <td>America/Los_Angeles</td>\n      <td>194.0</td>\n      <td>[{'WhPerMile': 250, 'kWhRequested': 25.0, 'mil...</td>\n    </tr>\n    <tr>\n      <th>1</th>\n      <td>1</td>\n      <td>5e23b149f9af8b5fe4b973d0</td>\n      <td>2020-01-02 13:36:50+00:00</td>\n      <td>2020-01-02 22:38:21+00:00</td>\n      <td>2020-01-02 20:18:05+00:00</td>\n      <td>33.097</td>\n      <td>1_1_193_825_2020-01-02 13:36:49.599853</td>\n      <td>1</td>\n      <td>AG-1F01</td>\n      <td>1-1-193-825</td>\n      <td>America/Los_Angeles</td>\n      <td>4275.0</td>\n      <td>[{'WhPerMile': 280, 'kWhRequested': 70.0, 'mil...</td>\n    </tr>\n    <tr>\n      <th>2</th>\n      <td>2</td>\n      <td>5e23b149f9af8b5fe4b973d1</td>\n      <td>2020-01-02 13:56:35+00:00</td>\n      <td>2020-01-03 00:39:22+00:00</td>\n      <td>2020-01-02 16:35:06+00:00</td>\n      <td>6.521</td>\n      <td>1_1_193_829_2020-01-02 13:56:35.214993</td>\n      <td>1</td>\n      <td>AG-1F03</td>\n      <td>1-1-193-829</td>\n      <td>America/Los_Angeles</td>\n      <td>344.0</td>\n      <td>[{'WhPerMile': 400, 'kWhRequested': 8.0, 'mile...</td>\n    </tr>\n    <tr>\n      <th>3</th>\n      <td>3</td>\n      <td>5e23b149f9af8b5fe4b973d2</td>\n      <td>2020-01-02 13:59:58+00:00</td>\n      <td>2020-01-02 16:38:39+00:00</td>\n      <td>2020-01-02 15:18:45+00:00</td>\n      <td>2.355</td>\n      <td>1_1_193_820_2020-01-02 13:59:58.309319</td>\n      <td>1</td>\n      <td>AG-1F04</td>\n      <td>1-1-193-820</td>\n      <td>America/Los_Angeles</td>\n      <td>1117.0</td>\n      <td>[{'WhPerMile': 400, 'kWhRequested': 8.0, 'mile...</td>\n    </tr>\n    <tr>\n      <th>4</th>\n      <td>4</td>\n      <td>5e23b149f9af8b5fe4b973d3</td>\n      <td>2020-01-02 14:00:01+00:00</td>\n      <td>2020-01-02 22:08:40+00:00</td>\n      <td>2020-01-02 18:17:30+00:00</td>\n      <td>13.375</td>\n      <td>1_1_193_819_2020-01-02 14:00:00.779967</td>\n      <td>1</td>\n      <td>AG-1F06</td>\n      <td>1-1-193-819</td>\n      <td>America/Los_Angeles</td>\n      <td>334.0</td>\n      <td>[{'WhPerMile': 400, 'kWhRequested': 16.0, 'mil...</td>\n    </tr>\n    <tr>\n      <th>5</th>\n      <td>5</td>\n      <td>5e23b149f9af8b5fe4b973d4</td>\n      <td>2020-01-02 14:00:13+00:00</td>\n      <td>2020-01-02 23:00:41+00:00</td>\n      <td>2020-01-02 20:13:21+00:00</td>\n      <td>13.370</td>\n      <td>1_1_194_821_2020-01-02 14:00:05.241573</td>\n      <td>1</td>\n      <td>AG-1F13</td>\n      <td>1-1-194-821</td>\n      <td>America/Los_Angeles</td>\n      <td>3519.0</td>\n      <td>[{'WhPerMile': 600, 'kWhRequested': 24.0, 'mil...</td>\n    </tr>\n    <tr>\n      <th>6</th>\n      <td>6</td>\n      <td>5e23b149f9af8b5fe4b973d5</td>\n      <td>2020-01-02 14:09:14+00:00</td>\n      <td>2020-01-03 01:57:58+00:00</td>\n      <td>2020-01-03 00:59:21+00:00</td>\n      <td>43.477</td>\n      <td>1_1_178_817_2020-01-02 14:09:14.451827</td>\n      <td>1</td>\n      <td>AG-1F09</td>\n      <td>1-1-178-817</td>\n      <td>America/Los_Angeles</td>\n      <td>933.0</td>\n      <td>[{'WhPerMile': 385, 'kWhRequested': 65.45, 'mi...</td>\n    </tr>\n    <tr>\n      <th>7</th>\n      <td>7</td>\n      <td>5e23b149f9af8b5fe4b973d6</td>\n      <td>2020-01-02 14:17:32+00:00</td>\n      <td>2020-01-03 00:44:54+00:00</td>\n      <td>2020-01-02 20:22:40+00:00</td>\n      <td>32.441</td>\n      <td>1_1_191_804_2020-01-02 14:17:32.329535</td>\n      <td>1</td>\n      <td>AG-4F34</td>\n      <td>1-1-191-804</td>\n      <td>America/Los_Angeles</td>\n      <td>3737.0</td>\n      <td>[{'WhPerMile': 300, 'kWhRequested': 45.0, 'mil...</td>\n    </tr>\n    <tr>\n      <th>8</th>\n      <td>8</td>\n      <td>5e23b149f9af8b5fe4b973d7</td>\n      <td>2020-01-02 14:25:38+00:00</td>\n      <td>2020-01-02 19:36:05+00:00</td>\n      <td>2020-01-02 18:38:39+00:00</td>\n      <td>13.264</td>\n      <td>1_1_194_826_2020-01-02 14:25:37.578692</td>\n      <td>1</td>\n      <td>AG-1F11</td>\n      <td>1-1-194-826</td>\n      <td>America/Los_Angeles</td>\n      <td>419.0</td>\n      <td>[{'WhPerMile': 400, 'kWhRequested': 40.0, 'mil...</td>\n    </tr>\n    <tr>\n      <th>9</th>\n      <td>9</td>\n      <td>5e23b149f9af8b5fe4b973d8</td>\n      <td>2020-01-02 14:27:40+00:00</td>\n      <td>2020-01-02 20:01:48+00:00</td>\n      <td>2020-01-02 19:17:46+00:00</td>\n      <td>13.285</td>\n      <td>1_1_178_823_2020-01-02 14:27:39.582337</td>\n      <td>1</td>\n      <td>AG-1F08</td>\n      <td>1-1-178-823</td>\n      <td>America/Los_Angeles</td>\n      <td>651.0</td>\n      <td>[{'WhPerMile': 400, 'kWhRequested': 20.0, 'mil...</td>\n    </tr>\n  </tbody>\n</table>\n</div>"
     },
     "execution_count": 400,
     "metadata": {},
     "output_type": "execute_result"
    }
   ],
   "source": [
    "charging_set.head(10)"
   ],
   "metadata": {
    "collapsed": false,
    "ExecuteTime": {
     "end_time": "2025-01-25T23:07:12.217989Z",
     "start_time": "2025-01-25T23:07:12.160054Z"
    }
   },
   "id": "fddbc933e36e7118",
   "execution_count": 400
  },
  {
   "cell_type": "markdown",
   "source": [
    "## 1.2 Remove Unnecessary Columns\n",
    "\n",
    "We remove the columns that have no additional value to our dataset, either because the column makes no sense (e.g. \"Unnamed 0\") or  because the data only holds one information that was already given by us (e.g. \"timezone\" only has \"America/Los_Angeles\")."
   ],
   "metadata": {
    "collapsed": false
   },
   "id": "82ea505ea061972"
  },
  {
   "cell_type": "code",
   "outputs": [],
   "source": [
    "charging_set.drop('Unnamed: 0', axis=1, inplace=True)\n",
    "charging_set.drop('timezone', axis=1, inplace=True)"
   ],
   "metadata": {
    "collapsed": false,
    "ExecuteTime": {
     "end_time": "2025-01-25T23:07:12.305103Z",
     "start_time": "2025-01-25T23:07:12.185354Z"
    }
   },
   "id": "6f99a0d3e13de0a3",
   "execution_count": 401
  },
  {
   "cell_type": "markdown",
   "source": [
    "## 1.3 Splitting Multi-Info Columns"
   ],
   "metadata": {
    "collapsed": false
   },
   "id": "8e51165c3630efba"
  },
  {
   "cell_type": "markdown",
   "source": [
    "With the first look on the head of the dataset the column \"userInputs\" stands out since the data in that column is a dictionary. We split this column into separate columns first."
   ],
   "metadata": {
    "collapsed": false
   },
   "id": "d51a22ea8f4eba81"
  },
  {
   "cell_type": "code",
   "outputs": [
    {
     "data": {
      "text/plain": "                             id             connectionTime  \\\n0      5e23b149f9af8b5fe4b973cf  2020-01-02 13:08:54+00:00   \n1      5e23b149f9af8b5fe4b973d0  2020-01-02 13:36:50+00:00   \n2      5e23b149f9af8b5fe4b973d1  2020-01-02 13:56:35+00:00   \n3      5e23b149f9af8b5fe4b973d2  2020-01-02 13:59:58+00:00   \n4      5e23b149f9af8b5fe4b973d3  2020-01-02 14:00:01+00:00   \n...                         ...                        ...   \n66445  5d574ad2f9af8b4c10c03652  2019-07-31 18:08:04+00:00   \n66446  5d574ad2f9af8b4c10c03653  2019-07-31 18:40:41+00:00   \n66447  5d574ad2f9af8b4c10c03654  2019-07-31 19:04:40+00:00   \n66448  5d574ad2f9af8b4c10c03655  2019-07-31 19:19:47+00:00   \n66449  5d574ad2f9af8b4c10c03656  2019-07-31 19:21:47+00:00   \n\n                  disconnectTime           doneChargingTime  kWhDelivered  \\\n0      2020-01-02 19:11:15+00:00  2020-01-02 17:31:35+00:00        25.016   \n1      2020-01-02 22:38:21+00:00  2020-01-02 20:18:05+00:00        33.097   \n2      2020-01-03 00:39:22+00:00  2020-01-02 16:35:06+00:00         6.521   \n3      2020-01-02 16:38:39+00:00  2020-01-02 15:18:45+00:00         2.355   \n4      2020-01-02 22:08:40+00:00  2020-01-02 18:17:30+00:00        13.375   \n...                          ...                        ...           ...   \n66445  2019-07-31 23:29:18+00:00  2019-07-31 23:30:18+00:00        28.787   \n66446  2019-08-01 00:59:42+00:00  2019-07-31 21:44:23+00:00         7.787   \n66447  2019-07-31 22:44:22+00:00  2019-07-31 22:45:21+00:00        11.274   \n66448  2019-08-01 00:34:51+00:00  2019-07-31 21:25:30+00:00        11.589   \n66449  2019-07-31 22:00:04+00:00  2019-07-31 20:51:34+00:00         0.897   \n\n                                    sessionID  siteID  spaceID    stationID  \\\n0      1_1_179_810_2020-01-02 13:08:53.870034       1  AG-3F30  1-1-179-810   \n1      1_1_193_825_2020-01-02 13:36:49.599853       1  AG-1F01  1-1-193-825   \n2      1_1_193_829_2020-01-02 13:56:35.214993       1  AG-1F03  1-1-193-829   \n3      1_1_193_820_2020-01-02 13:59:58.309319       1  AG-1F04  1-1-193-820   \n4      1_1_193_819_2020-01-02 14:00:00.779967       1  AG-1F06  1-1-193-819   \n...                                       ...     ...      ...          ...   \n66445  1_1_179_809_2019-07-31 18:08:04.432654       1  AG-3F27  1-1-179-809   \n66446  1_1_179_810_2019-07-31 18:40:40.900203       1  AG-3F30  1-1-179-810   \n66447  1_1_191_795_2019-07-31 19:04:40.098273       1  AG-4F51  1-1-191-795   \n66448  1_1_191_778_2019-07-31 19:19:46.919358       1  AG-4F43  1-1-191-778   \n66449  1_1_178_817_2019-07-31 19:21:46.727697       1  AG-1F09  1-1-178-817   \n\n       userID  WhPerMile  kWhRequested  milesRequested  minutesAvailable  \\\n0       194.0      250.0         25.00           100.0             463.0   \n1      4275.0      280.0         70.00           250.0             595.0   \n2       344.0      400.0          8.00            20.0              60.0   \n3      1117.0      400.0          8.00            20.0              65.0   \n4       334.0      400.0         16.00            40.0             504.0   \n...       ...        ...           ...             ...               ...   \n66445   393.0      240.0         31.20           130.0             355.0   \n66446   220.0      333.0          6.66            20.0             455.0   \n66447  1974.0      333.0         19.98            60.0             184.0   \n66448   942.0      275.0         22.00            80.0              60.0   \n66449     NaN        NaN           NaN             NaN               NaN   \n\n                          modifiedAt paymentRequired  \\\n0      Thu, 02 Jan 2020 13:09:39 GMT            True   \n1      Thu, 02 Jan 2020 13:37:11 GMT            True   \n2      Thu, 02 Jan 2020 13:57:17 GMT            True   \n3      Thu, 02 Jan 2020 14:00:03 GMT            True   \n4      Thu, 02 Jan 2020 14:00:13 GMT            True   \n...                              ...             ...   \n66445  Wed, 31 Jul 2019 18:08:23 GMT            True   \n66446  Wed, 31 Jul 2019 18:41:02 GMT            True   \n66447  Wed, 31 Jul 2019 19:04:57 GMT            True   \n66448  Wed, 31 Jul 2019 19:20:10 GMT            True   \n66449                           None            None   \n\n                  requestedDeparture  \n0      Thu, 02 Jan 2020 20:51:54 GMT  \n1      Thu, 02 Jan 2020 23:31:50 GMT  \n2      Thu, 02 Jan 2020 14:56:35 GMT  \n3      Thu, 02 Jan 2020 15:04:58 GMT  \n4      Thu, 02 Jan 2020 22:24:01 GMT  \n...                              ...  \n66445  Thu, 01 Aug 2019 00:03:04 GMT  \n66446  Thu, 01 Aug 2019 02:15:41 GMT  \n66447  Wed, 31 Jul 2019 22:08:40 GMT  \n66448  Wed, 31 Jul 2019 20:19:47 GMT  \n66449                           None  \n\n[66450 rows x 17 columns]",
      "text/html": "<div>\n<style scoped>\n    .dataframe tbody tr th:only-of-type {\n        vertical-align: middle;\n    }\n\n    .dataframe tbody tr th {\n        vertical-align: top;\n    }\n\n    .dataframe thead th {\n        text-align: right;\n    }\n</style>\n<table border=\"1\" class=\"dataframe\">\n  <thead>\n    <tr style=\"text-align: right;\">\n      <th></th>\n      <th>id</th>\n      <th>connectionTime</th>\n      <th>disconnectTime</th>\n      <th>doneChargingTime</th>\n      <th>kWhDelivered</th>\n      <th>sessionID</th>\n      <th>siteID</th>\n      <th>spaceID</th>\n      <th>stationID</th>\n      <th>userID</th>\n      <th>WhPerMile</th>\n      <th>kWhRequested</th>\n      <th>milesRequested</th>\n      <th>minutesAvailable</th>\n      <th>modifiedAt</th>\n      <th>paymentRequired</th>\n      <th>requestedDeparture</th>\n    </tr>\n  </thead>\n  <tbody>\n    <tr>\n      <th>0</th>\n      <td>5e23b149f9af8b5fe4b973cf</td>\n      <td>2020-01-02 13:08:54+00:00</td>\n      <td>2020-01-02 19:11:15+00:00</td>\n      <td>2020-01-02 17:31:35+00:00</td>\n      <td>25.016</td>\n      <td>1_1_179_810_2020-01-02 13:08:53.870034</td>\n      <td>1</td>\n      <td>AG-3F30</td>\n      <td>1-1-179-810</td>\n      <td>194.0</td>\n      <td>250.0</td>\n      <td>25.00</td>\n      <td>100.0</td>\n      <td>463.0</td>\n      <td>Thu, 02 Jan 2020 13:09:39 GMT</td>\n      <td>True</td>\n      <td>Thu, 02 Jan 2020 20:51:54 GMT</td>\n    </tr>\n    <tr>\n      <th>1</th>\n      <td>5e23b149f9af8b5fe4b973d0</td>\n      <td>2020-01-02 13:36:50+00:00</td>\n      <td>2020-01-02 22:38:21+00:00</td>\n      <td>2020-01-02 20:18:05+00:00</td>\n      <td>33.097</td>\n      <td>1_1_193_825_2020-01-02 13:36:49.599853</td>\n      <td>1</td>\n      <td>AG-1F01</td>\n      <td>1-1-193-825</td>\n      <td>4275.0</td>\n      <td>280.0</td>\n      <td>70.00</td>\n      <td>250.0</td>\n      <td>595.0</td>\n      <td>Thu, 02 Jan 2020 13:37:11 GMT</td>\n      <td>True</td>\n      <td>Thu, 02 Jan 2020 23:31:50 GMT</td>\n    </tr>\n    <tr>\n      <th>2</th>\n      <td>5e23b149f9af8b5fe4b973d1</td>\n      <td>2020-01-02 13:56:35+00:00</td>\n      <td>2020-01-03 00:39:22+00:00</td>\n      <td>2020-01-02 16:35:06+00:00</td>\n      <td>6.521</td>\n      <td>1_1_193_829_2020-01-02 13:56:35.214993</td>\n      <td>1</td>\n      <td>AG-1F03</td>\n      <td>1-1-193-829</td>\n      <td>344.0</td>\n      <td>400.0</td>\n      <td>8.00</td>\n      <td>20.0</td>\n      <td>60.0</td>\n      <td>Thu, 02 Jan 2020 13:57:17 GMT</td>\n      <td>True</td>\n      <td>Thu, 02 Jan 2020 14:56:35 GMT</td>\n    </tr>\n    <tr>\n      <th>3</th>\n      <td>5e23b149f9af8b5fe4b973d2</td>\n      <td>2020-01-02 13:59:58+00:00</td>\n      <td>2020-01-02 16:38:39+00:00</td>\n      <td>2020-01-02 15:18:45+00:00</td>\n      <td>2.355</td>\n      <td>1_1_193_820_2020-01-02 13:59:58.309319</td>\n      <td>1</td>\n      <td>AG-1F04</td>\n      <td>1-1-193-820</td>\n      <td>1117.0</td>\n      <td>400.0</td>\n      <td>8.00</td>\n      <td>20.0</td>\n      <td>65.0</td>\n      <td>Thu, 02 Jan 2020 14:00:03 GMT</td>\n      <td>True</td>\n      <td>Thu, 02 Jan 2020 15:04:58 GMT</td>\n    </tr>\n    <tr>\n      <th>4</th>\n      <td>5e23b149f9af8b5fe4b973d3</td>\n      <td>2020-01-02 14:00:01+00:00</td>\n      <td>2020-01-02 22:08:40+00:00</td>\n      <td>2020-01-02 18:17:30+00:00</td>\n      <td>13.375</td>\n      <td>1_1_193_819_2020-01-02 14:00:00.779967</td>\n      <td>1</td>\n      <td>AG-1F06</td>\n      <td>1-1-193-819</td>\n      <td>334.0</td>\n      <td>400.0</td>\n      <td>16.00</td>\n      <td>40.0</td>\n      <td>504.0</td>\n      <td>Thu, 02 Jan 2020 14:00:13 GMT</td>\n      <td>True</td>\n      <td>Thu, 02 Jan 2020 22:24:01 GMT</td>\n    </tr>\n    <tr>\n      <th>...</th>\n      <td>...</td>\n      <td>...</td>\n      <td>...</td>\n      <td>...</td>\n      <td>...</td>\n      <td>...</td>\n      <td>...</td>\n      <td>...</td>\n      <td>...</td>\n      <td>...</td>\n      <td>...</td>\n      <td>...</td>\n      <td>...</td>\n      <td>...</td>\n      <td>...</td>\n      <td>...</td>\n      <td>...</td>\n    </tr>\n    <tr>\n      <th>66445</th>\n      <td>5d574ad2f9af8b4c10c03652</td>\n      <td>2019-07-31 18:08:04+00:00</td>\n      <td>2019-07-31 23:29:18+00:00</td>\n      <td>2019-07-31 23:30:18+00:00</td>\n      <td>28.787</td>\n      <td>1_1_179_809_2019-07-31 18:08:04.432654</td>\n      <td>1</td>\n      <td>AG-3F27</td>\n      <td>1-1-179-809</td>\n      <td>393.0</td>\n      <td>240.0</td>\n      <td>31.20</td>\n      <td>130.0</td>\n      <td>355.0</td>\n      <td>Wed, 31 Jul 2019 18:08:23 GMT</td>\n      <td>True</td>\n      <td>Thu, 01 Aug 2019 00:03:04 GMT</td>\n    </tr>\n    <tr>\n      <th>66446</th>\n      <td>5d574ad2f9af8b4c10c03653</td>\n      <td>2019-07-31 18:40:41+00:00</td>\n      <td>2019-08-01 00:59:42+00:00</td>\n      <td>2019-07-31 21:44:23+00:00</td>\n      <td>7.787</td>\n      <td>1_1_179_810_2019-07-31 18:40:40.900203</td>\n      <td>1</td>\n      <td>AG-3F30</td>\n      <td>1-1-179-810</td>\n      <td>220.0</td>\n      <td>333.0</td>\n      <td>6.66</td>\n      <td>20.0</td>\n      <td>455.0</td>\n      <td>Wed, 31 Jul 2019 18:41:02 GMT</td>\n      <td>True</td>\n      <td>Thu, 01 Aug 2019 02:15:41 GMT</td>\n    </tr>\n    <tr>\n      <th>66447</th>\n      <td>5d574ad2f9af8b4c10c03654</td>\n      <td>2019-07-31 19:04:40+00:00</td>\n      <td>2019-07-31 22:44:22+00:00</td>\n      <td>2019-07-31 22:45:21+00:00</td>\n      <td>11.274</td>\n      <td>1_1_191_795_2019-07-31 19:04:40.098273</td>\n      <td>1</td>\n      <td>AG-4F51</td>\n      <td>1-1-191-795</td>\n      <td>1974.0</td>\n      <td>333.0</td>\n      <td>19.98</td>\n      <td>60.0</td>\n      <td>184.0</td>\n      <td>Wed, 31 Jul 2019 19:04:57 GMT</td>\n      <td>True</td>\n      <td>Wed, 31 Jul 2019 22:08:40 GMT</td>\n    </tr>\n    <tr>\n      <th>66448</th>\n      <td>5d574ad2f9af8b4c10c03655</td>\n      <td>2019-07-31 19:19:47+00:00</td>\n      <td>2019-08-01 00:34:51+00:00</td>\n      <td>2019-07-31 21:25:30+00:00</td>\n      <td>11.589</td>\n      <td>1_1_191_778_2019-07-31 19:19:46.919358</td>\n      <td>1</td>\n      <td>AG-4F43</td>\n      <td>1-1-191-778</td>\n      <td>942.0</td>\n      <td>275.0</td>\n      <td>22.00</td>\n      <td>80.0</td>\n      <td>60.0</td>\n      <td>Wed, 31 Jul 2019 19:20:10 GMT</td>\n      <td>True</td>\n      <td>Wed, 31 Jul 2019 20:19:47 GMT</td>\n    </tr>\n    <tr>\n      <th>66449</th>\n      <td>5d574ad2f9af8b4c10c03656</td>\n      <td>2019-07-31 19:21:47+00:00</td>\n      <td>2019-07-31 22:00:04+00:00</td>\n      <td>2019-07-31 20:51:34+00:00</td>\n      <td>0.897</td>\n      <td>1_1_178_817_2019-07-31 19:21:46.727697</td>\n      <td>1</td>\n      <td>AG-1F09</td>\n      <td>1-1-178-817</td>\n      <td>NaN</td>\n      <td>NaN</td>\n      <td>NaN</td>\n      <td>NaN</td>\n      <td>NaN</td>\n      <td>None</td>\n      <td>None</td>\n      <td>None</td>\n    </tr>\n  </tbody>\n</table>\n<p>66450 rows × 17 columns</p>\n</div>"
     },
     "execution_count": 402,
     "metadata": {},
     "output_type": "execute_result"
    }
   ],
   "source": [
    "def parse_user_inputs(row):\n",
    "    \"\"\"\n",
    "    This function parses one row of data that is a python object, like a dictionary in this case \n",
    "    \n",
    "    param row : string representation of python object like a dictionary, or NaN.\n",
    "    \n",
    "    :return: first dictionary from the parsed list if valid, or an empty dictionary otherwise.\n",
    "    \"\"\"\n",
    "    try:\n",
    "        # Parse the row as a Python object (e.g., list of dicts)\n",
    "        parsed = ast.literal_eval(row) if pd.notnull(row) else []\n",
    "        return parsed[0] if isinstance(parsed, list) and len(parsed) > 0 else {}\n",
    "    except (ValueError, SyntaxError):\n",
    "        return {}\n",
    "\n",
    "# Parse 'userInputs' column in charging_set\n",
    "charging_set['userInputs'] = charging_set['userInputs'].apply(parse_user_inputs)\n",
    "\n",
    "# Specify the desired features to extract\n",
    "desired_features = [\n",
    "    'WhPerMile', 'kWhRequested', 'milesRequested',\n",
    "    'minutesAvailable', 'modifiedAt', 'paymentRequired',\n",
    "    'requestedDeparture'\n",
    "]\n",
    "\n",
    "# Extract desired features and create new columns\n",
    "for feature in desired_features:\n",
    "    charging_set[feature] = charging_set['userInputs'].apply(\n",
    "        lambda x: x.get(feature) if isinstance(x, dict) else None\n",
    "    )\n",
    "charging_set = charging_set.drop(columns=['userInputs'])\n",
    "charging_set"
   ],
   "metadata": {
    "collapsed": false,
    "ExecuteTime": {
     "end_time": "2025-01-25T23:07:18.435385Z",
     "start_time": "2025-01-25T23:07:12.595349Z"
    }
   },
   "id": "79cc5939f0371f6a",
   "execution_count": 402
  },
  {
   "cell_type": "markdown",
   "source": [
    "## 1.3 Duplicates"
   ],
   "metadata": {
    "collapsed": false
   },
   "id": "579abe5da92a6194"
  },
  {
   "cell_type": "code",
   "outputs": [
    {
     "name": "stdout",
     "output_type": "stream",
     "text": [
      "sum of duplicates: 1413\n"
     ]
    },
    {
     "data": {
      "text/plain": "                         id             connectionTime  \\\n0  5e23b149f9af8b5fe4b973cf  2020-01-02 13:08:54+00:00   \n1  5e23b149f9af8b5fe4b973d0  2020-01-02 13:36:50+00:00   \n2  5e23b149f9af8b5fe4b973d1  2020-01-02 13:56:35+00:00   \n3  5e23b149f9af8b5fe4b973d2  2020-01-02 13:59:58+00:00   \n4  5e23b149f9af8b5fe4b973d3  2020-01-02 14:00:01+00:00   \n\n              disconnectTime           doneChargingTime  kWhDelivered  \\\n0  2020-01-02 19:11:15+00:00  2020-01-02 17:31:35+00:00        25.016   \n1  2020-01-02 22:38:21+00:00  2020-01-02 20:18:05+00:00        33.097   \n2  2020-01-03 00:39:22+00:00  2020-01-02 16:35:06+00:00         6.521   \n3  2020-01-02 16:38:39+00:00  2020-01-02 15:18:45+00:00         2.355   \n4  2020-01-02 22:08:40+00:00  2020-01-02 18:17:30+00:00        13.375   \n\n                                sessionID  siteID  spaceID    stationID  \\\n0  1_1_179_810_2020-01-02 13:08:53.870034       1  AG-3F30  1-1-179-810   \n1  1_1_193_825_2020-01-02 13:36:49.599853       1  AG-1F01  1-1-193-825   \n2  1_1_193_829_2020-01-02 13:56:35.214993       1  AG-1F03  1-1-193-829   \n3  1_1_193_820_2020-01-02 13:59:58.309319       1  AG-1F04  1-1-193-820   \n4  1_1_193_819_2020-01-02 14:00:00.779967       1  AG-1F06  1-1-193-819   \n\n   userID  WhPerMile  kWhRequested  milesRequested  minutesAvailable  \\\n0   194.0      250.0          25.0           100.0             463.0   \n1  4275.0      280.0          70.0           250.0             595.0   \n2   344.0      400.0           8.0            20.0              60.0   \n3  1117.0      400.0           8.0            20.0              65.0   \n4   334.0      400.0          16.0            40.0             504.0   \n\n                      modifiedAt paymentRequired  \\\n0  Thu, 02 Jan 2020 13:09:39 GMT            True   \n1  Thu, 02 Jan 2020 13:37:11 GMT            True   \n2  Thu, 02 Jan 2020 13:57:17 GMT            True   \n3  Thu, 02 Jan 2020 14:00:03 GMT            True   \n4  Thu, 02 Jan 2020 14:00:13 GMT            True   \n\n              requestedDeparture  \n0  Thu, 02 Jan 2020 20:51:54 GMT  \n1  Thu, 02 Jan 2020 23:31:50 GMT  \n2  Thu, 02 Jan 2020 14:56:35 GMT  \n3  Thu, 02 Jan 2020 15:04:58 GMT  \n4  Thu, 02 Jan 2020 22:24:01 GMT  ",
      "text/html": "<div>\n<style scoped>\n    .dataframe tbody tr th:only-of-type {\n        vertical-align: middle;\n    }\n\n    .dataframe tbody tr th {\n        vertical-align: top;\n    }\n\n    .dataframe thead th {\n        text-align: right;\n    }\n</style>\n<table border=\"1\" class=\"dataframe\">\n  <thead>\n    <tr style=\"text-align: right;\">\n      <th></th>\n      <th>id</th>\n      <th>connectionTime</th>\n      <th>disconnectTime</th>\n      <th>doneChargingTime</th>\n      <th>kWhDelivered</th>\n      <th>sessionID</th>\n      <th>siteID</th>\n      <th>spaceID</th>\n      <th>stationID</th>\n      <th>userID</th>\n      <th>WhPerMile</th>\n      <th>kWhRequested</th>\n      <th>milesRequested</th>\n      <th>minutesAvailable</th>\n      <th>modifiedAt</th>\n      <th>paymentRequired</th>\n      <th>requestedDeparture</th>\n    </tr>\n  </thead>\n  <tbody>\n    <tr>\n      <th>0</th>\n      <td>5e23b149f9af8b5fe4b973cf</td>\n      <td>2020-01-02 13:08:54+00:00</td>\n      <td>2020-01-02 19:11:15+00:00</td>\n      <td>2020-01-02 17:31:35+00:00</td>\n      <td>25.016</td>\n      <td>1_1_179_810_2020-01-02 13:08:53.870034</td>\n      <td>1</td>\n      <td>AG-3F30</td>\n      <td>1-1-179-810</td>\n      <td>194.0</td>\n      <td>250.0</td>\n      <td>25.0</td>\n      <td>100.0</td>\n      <td>463.0</td>\n      <td>Thu, 02 Jan 2020 13:09:39 GMT</td>\n      <td>True</td>\n      <td>Thu, 02 Jan 2020 20:51:54 GMT</td>\n    </tr>\n    <tr>\n      <th>1</th>\n      <td>5e23b149f9af8b5fe4b973d0</td>\n      <td>2020-01-02 13:36:50+00:00</td>\n      <td>2020-01-02 22:38:21+00:00</td>\n      <td>2020-01-02 20:18:05+00:00</td>\n      <td>33.097</td>\n      <td>1_1_193_825_2020-01-02 13:36:49.599853</td>\n      <td>1</td>\n      <td>AG-1F01</td>\n      <td>1-1-193-825</td>\n      <td>4275.0</td>\n      <td>280.0</td>\n      <td>70.0</td>\n      <td>250.0</td>\n      <td>595.0</td>\n      <td>Thu, 02 Jan 2020 13:37:11 GMT</td>\n      <td>True</td>\n      <td>Thu, 02 Jan 2020 23:31:50 GMT</td>\n    </tr>\n    <tr>\n      <th>2</th>\n      <td>5e23b149f9af8b5fe4b973d1</td>\n      <td>2020-01-02 13:56:35+00:00</td>\n      <td>2020-01-03 00:39:22+00:00</td>\n      <td>2020-01-02 16:35:06+00:00</td>\n      <td>6.521</td>\n      <td>1_1_193_829_2020-01-02 13:56:35.214993</td>\n      <td>1</td>\n      <td>AG-1F03</td>\n      <td>1-1-193-829</td>\n      <td>344.0</td>\n      <td>400.0</td>\n      <td>8.0</td>\n      <td>20.0</td>\n      <td>60.0</td>\n      <td>Thu, 02 Jan 2020 13:57:17 GMT</td>\n      <td>True</td>\n      <td>Thu, 02 Jan 2020 14:56:35 GMT</td>\n    </tr>\n    <tr>\n      <th>3</th>\n      <td>5e23b149f9af8b5fe4b973d2</td>\n      <td>2020-01-02 13:59:58+00:00</td>\n      <td>2020-01-02 16:38:39+00:00</td>\n      <td>2020-01-02 15:18:45+00:00</td>\n      <td>2.355</td>\n      <td>1_1_193_820_2020-01-02 13:59:58.309319</td>\n      <td>1</td>\n      <td>AG-1F04</td>\n      <td>1-1-193-820</td>\n      <td>1117.0</td>\n      <td>400.0</td>\n      <td>8.0</td>\n      <td>20.0</td>\n      <td>65.0</td>\n      <td>Thu, 02 Jan 2020 14:00:03 GMT</td>\n      <td>True</td>\n      <td>Thu, 02 Jan 2020 15:04:58 GMT</td>\n    </tr>\n    <tr>\n      <th>4</th>\n      <td>5e23b149f9af8b5fe4b973d3</td>\n      <td>2020-01-02 14:00:01+00:00</td>\n      <td>2020-01-02 22:08:40+00:00</td>\n      <td>2020-01-02 18:17:30+00:00</td>\n      <td>13.375</td>\n      <td>1_1_193_819_2020-01-02 14:00:00.779967</td>\n      <td>1</td>\n      <td>AG-1F06</td>\n      <td>1-1-193-819</td>\n      <td>334.0</td>\n      <td>400.0</td>\n      <td>16.0</td>\n      <td>40.0</td>\n      <td>504.0</td>\n      <td>Thu, 02 Jan 2020 14:00:13 GMT</td>\n      <td>True</td>\n      <td>Thu, 02 Jan 2020 22:24:01 GMT</td>\n    </tr>\n  </tbody>\n</table>\n</div>"
     },
     "execution_count": 403,
     "metadata": {},
     "output_type": "execute_result"
    }
   ],
   "source": [
    "# check number of duplicates\n",
    "n_duplicates = charging_set.duplicated().sum()\n",
    "print(\"sum of duplicates:\", n_duplicates)\n",
    "\n",
    "# remove all duplicates\n",
    "charging_set.drop_duplicates(inplace=True)\n",
    "(charging_set.head(5))"
   ],
   "metadata": {
    "collapsed": false,
    "ExecuteTime": {
     "end_time": "2025-01-25T23:07:18.897187Z",
     "start_time": "2025-01-25T23:07:18.491981Z"
    }
   },
   "id": "a4b5c950ce4199ca",
   "execution_count": 403
  },
  {
   "cell_type": "markdown",
   "source": [
    "## 1.4 Missing Data"
   ],
   "metadata": {
    "collapsed": false
   },
   "id": "286833e7cad922a6"
  },
  {
   "cell_type": "code",
   "outputs": [
    {
     "name": "stdout",
     "output_type": "stream",
     "text": [
      "Feature: requestedDeparture, Count of NaN-Values: 17215\n",
      "Feature: milesRequested, Count of NaN-Values: 17215\n",
      "Feature: paymentRequired, Count of NaN-Values: 17215\n",
      "Feature: modifiedAt, Count of NaN-Values: 17215\n",
      "Feature: minutesAvailable, Count of NaN-Values: 17215\n",
      "Feature: WhPerMile, Count of NaN-Values: 17215\n",
      "Feature: kWhRequested, Count of NaN-Values: 17215\n",
      "Feature: userID, Count of NaN-Values: 17215\n",
      "Feature: doneChargingTime, Count of NaN-Values: 4087\n",
      "Feature: id, Count of NaN-Values: 0\n",
      "Feature: stationID, Count of NaN-Values: 0\n",
      "Feature: siteID, Count of NaN-Values: 0\n",
      "Feature: spaceID, Count of NaN-Values: 0\n",
      "Feature: kWhDelivered, Count of NaN-Values: 0\n",
      "Feature: disconnectTime, Count of NaN-Values: 0\n",
      "Feature: connectionTime, Count of NaN-Values: 0\n",
      "Feature: sessionID, Count of NaN-Values: 0\n"
     ]
    }
   ],
   "source": [
    "# check number of none-values\n",
    "nan_counts = charging_set.isna().sum()\n",
    "nan_counts_sorted = nan_counts.sort_values(ascending=False)\n",
    "\n",
    "for column, count in nan_counts_sorted.items():\n",
    "    print(f\"Feature: {column}, Count of NaN-Values: {count}\")"
   ],
   "metadata": {
    "collapsed": false,
    "ExecuteTime": {
     "end_time": "2025-01-25T23:07:18.992107Z",
     "start_time": "2025-01-25T23:07:18.842216Z"
    }
   },
   "id": "79e5553f082a98b6",
   "execution_count": 404
  },
  {
   "cell_type": "markdown",
   "source": [
    "We observe a large number of NaN-values in the columns that were separated from the column \\\"userInputs\\\". It is very noticeable that the number of NaN-values of the \\\"userInputs\\\"-columns is the same as the number of the NaN-values in the \\\"userID\\\"-column. Accordingly, we assume that the NaN-values in the \\\"userInputs\\\"-columns originate from users not being registered. In the following, we check if our assumption is correct:"
   ],
   "metadata": {
    "collapsed": false
   },
   "id": "51e57cc7c106ba87"
  },
  {
   "cell_type": "code",
   "outputs": [
    {
     "name": "stdout",
     "output_type": "stream",
     "text": [
      "Unregistered users are the reason for NaN-values in userInputs columns: True\n"
     ]
    }
   ],
   "source": [
    "# list of userInputs columns\n",
    "user_inputs = [\"requestedDeparture\", \"milesRequested\", \"paymentRequired\", \"modifiedAt\", \"minutesAvailable\", \"WhPerMile\", \"kWhRequested\"]\n",
    "\n",
    "def check_user_inputs_nan_condition(user_inputs_columns):\n",
    "    \"\"\"\n",
    "    This function checks if userID is NaN for all NaN records in the userInputs columns.\n",
    "    \n",
    "    :param user_inputs_columns: list of user input columns that were stored in the former \"userInputs\"-column\n",
    "    :return: True if no violations are found, False if a userID exists with NaN in the corresponding userInput column.\n",
    "    \"\"\"\n",
    "    # iterate over each row and compare userID-value to userInputs-values\n",
    "    for idx, row in charging_set.iterrows():\n",
    "        user_id_value = row[\"userID\"]\n",
    "\n",
    "        for user_input_column in user_inputs_columns:\n",
    "            user_input_value = row[user_input_column]\n",
    "\n",
    "            # if userID is not NaN but the userInputs-column is NaN, return false\n",
    "            if (pd.isna(user_input_value) and not pd.isna(user_id_value)) or (not pd.isna(user_input_value) and pd.isna(user_id_value)):\n",
    "                return False\n",
    "\n",
    "    # if no violation of condition is found, return true\n",
    "    return True\n",
    "\n",
    "# check if unregistered users are the reason for NaN-values in userInputs columns\n",
    "print(\"Unregistered users are the reason for NaN-values in userInputs columns:\", check_user_inputs_nan_condition(user_inputs))"
   ],
   "metadata": {
    "collapsed": false,
    "ExecuteTime": {
     "end_time": "2025-01-25T23:07:29.649655Z",
     "start_time": "2025-01-25T23:07:18.900255Z"
    }
   },
   "id": "5d689579aa214384",
   "execution_count": 405
  },
  {
   "cell_type": "markdown",
   "source": [
    "Now that we have identified the reason for the NaN values in the userInputs columns as being unregistered users, it implies that these NaN values carry meaningful information. Therefore, we cannot simply remove the rows, as doing so would discard valuable data about the unregistered users. We replace the NaN-values with the number -1. For the time-data we choose a timestamp way out of our given time frame (2018-2021) as the value of the placeholder: 01.01.2025.\n",
    "For the numerical data, we check if we can use the number as a placeholder first."
   ],
   "metadata": {
    "collapsed": false
   },
   "id": "ba3945ad02b52313"
  },
  {
   "cell_type": "code",
   "outputs": [
    {
     "name": "stdout",
     "output_type": "stream",
     "text": [
      "user-data column contains a -1 value:\n",
      " userID              False\n",
      "milesRequested      False\n",
      "paymentRequired     False\n",
      "minutesAvailable    False\n",
      "WhPerMile           False\n",
      "kWhRequested        False\n",
      "dtype: bool\n"
     ]
    }
   ],
   "source": [
    "# non-time data columns\n",
    "columns_contain_nan = [\"userID\", \"milesRequested\", \"paymentRequired\", \"minutesAvailable\", \"WhPerMile\", \"kWhRequested\"]\n",
    "time_data_contain_nan = [\"modifiedAt\", \"requestedDeparture\"]\n",
    "\n",
    "# check if relevant columns already contain -1\n",
    "contains_zero_value = (charging_set[columns_contain_nan] == -1).any()\n",
    "print(\"user-data column contains a -1 value:\\n\", contains_zero_value)"
   ],
   "metadata": {
    "collapsed": false,
    "ExecuteTime": {
     "end_time": "2025-01-25T23:07:29.668072Z",
     "start_time": "2025-01-25T23:07:29.643008Z"
    }
   },
   "id": "12239d6f20593253",
   "execution_count": 406
  },
  {
   "cell_type": "code",
   "outputs": [],
   "source": [
    "# fill nan-placeholder in relevant columns\n",
    "charging_set[columns_contain_nan] = charging_set[columns_contain_nan].fillna(-1)\n",
    "\n",
    "# fill placholder in time data\n",
    "placeholder_datetime_gmt = 'Wed, 01 Jan 2025 00:00:00 GMT'\n",
    "charging_set[time_data_contain_nan] = charging_set[time_data_contain_nan].fillna(placeholder_datetime_gmt)"
   ],
   "metadata": {
    "collapsed": false,
    "ExecuteTime": {
     "end_time": "2025-01-25T23:07:29.733275Z",
     "start_time": "2025-01-25T23:07:29.663420Z"
    }
   },
   "id": "91bd50e96785d19b",
   "execution_count": 407
  },
  {
   "cell_type": "markdown",
   "source": [
    "As we saw earlier, there are stil 4087 missing values in the column \"doneChargingTime\""
   ],
   "metadata": {
    "collapsed": false
   },
   "id": "bf4b0ff5b3bd8462"
  },
  {
   "cell_type": "code",
   "outputs": [
    {
     "name": "stdout",
     "output_type": "stream",
     "text": [
      "Relative share of missing values in the column 'doneChargingTime': 6.71%\n"
     ]
    }
   ],
   "source": [
    "doneChargingTime_missing_values = charging_set[\"doneChargingTime\"].isna().sum()\n",
    "doneChargingTime_values = charging_set[\"doneChargingTime\"].count()\n",
    "print(\n",
    "    f\"Relative share of missing values in the column 'doneChargingTime': {(doneChargingTime_missing_values / doneChargingTime_values) * 100:.2f}%\")"
   ],
   "metadata": {
    "collapsed": false,
    "ExecuteTime": {
     "end_time": "2025-01-25T23:07:29.743809Z",
     "start_time": "2025-01-25T23:07:29.711324Z"
    }
   },
   "id": "6008e6ebecc73786",
   "execution_count": 408
  },
  {
   "cell_type": "markdown",
   "source": [
    "The definition of the feature \"doneChargingTime\" provided in the Team Assignment document is that doneChargingTime is the last Time when \"the last non-zero current draw recorded\". This means that \"doneChargingTime\" is the timestamp at which the EV actively draws energy from the charging hub for the last time.\n",
    "\n",
    "We see that in 6.71% of all records, \"doneChargingTime\" does not have a value. We interpret this as the EV not being charged to 100% state of charge in the respective charging session.\n",
    "\n",
    "However, we want to check if \"doneChargingTime\" is always within the time period of \"connectionTime\" and \"disconnectTime\"."
   ],
   "metadata": {
    "collapsed": false
   },
   "id": "b155ab9b8c16f5f7"
  },
  {
   "cell_type": "code",
   "outputs": [
    {
     "name": "stdout",
     "output_type": "stream",
     "text": [
      "Results:\n",
      "There are cases where doneChargingTime does not satisfy the condition.\n",
      "Percentage of cases where the condition is not satisfied: 13.08%\n",
      "\n",
      "Mean time difference (condition satisfied): -184.39 min\n",
      "Mean time difference (condition not satisfied): -1.31 min\n",
      "\n",
      "Rows where the condition is not satisfied:\n"
     ]
    },
    {
     "data": {
      "text/plain": "                             id            connectionTime  \\\n12     5e23b149f9af8b5fe4b973db 2020-01-02 15:04:38+00:00   \n20     5e23b149f9af8b5fe4b973e3 2020-01-02 15:28:47+00:00   \n25     5e23b149f9af8b5fe4b973e8 2020-01-02 15:42:05+00:00   \n26     5e23b149f9af8b5fe4b973e9 2020-01-02 15:57:24+00:00   \n33     5e23b149f9af8b5fe4b973f0 2020-01-02 16:34:35+00:00   \n...                         ...                       ...   \n65028  5d2fbdd3f9af8b4d0dd0d546 2019-07-01 19:20:31+00:00   \n65030  5d2fbdd3f9af8b4d0dd0d548 2019-07-01 20:01:07+00:00   \n65033  5d2fbdd3f9af8b4d0dd0d54b 2019-07-01 21:58:45+00:00   \n65034  5d2fbdd3f9af8b4d0dd0d54c 2019-07-01 22:02:21+00:00   \n65035  5d2fbdd3f9af8b4d0dd0d54d 2019-07-01 22:23:44+00:00   \n\n                 disconnectTime          doneChargingTime  kWhDelivered  \\\n12    2020-01-02 22:08:39+00:00 2020-01-02 22:09:36+00:00        25.567   \n20    2020-01-02 19:01:54+00:00 2020-01-02 19:02:51+00:00         7.417   \n25    2020-01-02 21:58:45+00:00 2020-01-02 21:59:42+00:00        36.701   \n26    2020-01-02 16:35:37+00:00 2020-01-02 16:36:34+00:00         3.689   \n33    2020-01-02 18:49:41+00:00 2020-01-02 18:50:38+00:00         7.120   \n...                         ...                       ...           ...   \n65028 2019-07-02 00:16:32+00:00 2019-07-02 00:16:42+00:00        26.324   \n65030 2019-07-02 00:32:26+00:00 2019-07-02 00:32:59+00:00        21.588   \n65033 2019-07-02 00:39:48+00:00 2019-07-02 00:40:21+00:00        16.864   \n65034 2019-07-02 00:58:50+00:00 2019-07-02 00:59:23+00:00        18.335   \n65035 2019-07-02 02:03:36+00:00 2019-07-02 02:04:06+00:00        22.815   \n\n                                    sessionID  siteID  spaceID    stationID  \\\n12     1_1_178_824_2020-01-02 15:04:38.051735       1  AG-1F07  1-1-178-824   \n20     1_1_193_827_2020-01-02 15:28:46.685366       1  AG-1F02  1-1-193-827   \n25     1_1_179_797_2020-01-02 15:42:05.217965       1  AG-3F23  1-1-179-797   \n26     1_1_179_781_2020-01-02 15:57:23.951170       1  AG-3F31  1-1-179-781   \n33     1_1_179_790_2020-01-02 16:34:34.999200       1  AG-3F19  1-1-179-790   \n...                                       ...     ...      ...          ...   \n65028  1_1_179_783_2019-07-01 19:20:30.955300       1  AG-3F29  1-1-179-783   \n65030  1_1_179_800_2019-07-01 20:01:06.782562       1  AG-3F32  1-1-179-800   \n65033  1_1_179_794_2019-07-01 21:58:44.571011       1  AG-3F20  1-1-179-794   \n65034  1_1_191_807_2019-07-01 22:02:20.810735       1  AG-4F47  1-1-191-807   \n65035  1_1_179_781_2019-07-01 22:23:32.496137       1  AG-3F31  1-1-179-781   \n\n       userID  WhPerMile  kWhRequested  milesRequested  minutesAvailable  \\\n12      528.0      250.0         50.00           200.0             555.0   \n20     1283.0      350.0         42.00           120.0             238.0   \n25      474.0      400.0         32.00            80.0             532.0   \n26      724.0      400.0          8.00            20.0              89.0   \n33     2276.0      600.0         18.00            30.0             165.0   \n...       ...        ...           ...             ...               ...   \n65028   458.0      400.0          8.00            20.0             204.0   \n65030  1479.0      275.0         19.25            70.0             286.0   \n65033   364.0      400.0         40.00           100.0             234.0   \n65034  2050.0      333.0         29.97            90.0             309.0   \n65035  1626.0      200.0         34.00           170.0              99.0   \n\n                          modifiedAt paymentRequired  \\\n12     Thu, 02 Jan 2020 15:04:49 GMT            True   \n20     Thu, 02 Jan 2020 15:29:16 GMT            True   \n25     Thu, 02 Jan 2020 15:42:11 GMT            True   \n26     Thu, 02 Jan 2020 15:57:39 GMT            True   \n33     Thu, 02 Jan 2020 16:35:06 GMT            True   \n...                              ...             ...   \n65028  Mon, 01 Jul 2019 19:23:09 GMT            True   \n65030  Mon, 01 Jul 2019 20:03:21 GMT            True   \n65033  Mon, 01 Jul 2019 21:59:09 GMT            True   \n65034  Mon, 01 Jul 2019 22:02:37 GMT            True   \n65035  Mon, 01 Jul 2019 22:23:43 GMT            True   \n\n                  requestedDeparture  time_diff_hours  \n12     Fri, 03 Jan 2020 00:19:38 GMT         0.950000  \n20     Thu, 02 Jan 2020 19:26:47 GMT         0.950000  \n25     Fri, 03 Jan 2020 00:34:05 GMT         0.950000  \n26     Thu, 02 Jan 2020 17:26:24 GMT         0.950000  \n33     Thu, 02 Jan 2020 19:19:35 GMT         0.950000  \n...                              ...              ...  \n65028  Mon, 01 Jul 2019 22:44:31 GMT         0.166667  \n65030  Tue, 02 Jul 2019 00:47:07 GMT         0.550000  \n65033  Tue, 02 Jul 2019 01:52:45 GMT         0.550000  \n65034  Tue, 02 Jul 2019 03:11:21 GMT         0.550000  \n65035  Tue, 02 Jul 2019 00:02:44 GMT         0.500000  \n\n[8508 rows x 18 columns]",
      "text/html": "<div>\n<style scoped>\n    .dataframe tbody tr th:only-of-type {\n        vertical-align: middle;\n    }\n\n    .dataframe tbody tr th {\n        vertical-align: top;\n    }\n\n    .dataframe thead th {\n        text-align: right;\n    }\n</style>\n<table border=\"1\" class=\"dataframe\">\n  <thead>\n    <tr style=\"text-align: right;\">\n      <th></th>\n      <th>id</th>\n      <th>connectionTime</th>\n      <th>disconnectTime</th>\n      <th>doneChargingTime</th>\n      <th>kWhDelivered</th>\n      <th>sessionID</th>\n      <th>siteID</th>\n      <th>spaceID</th>\n      <th>stationID</th>\n      <th>userID</th>\n      <th>WhPerMile</th>\n      <th>kWhRequested</th>\n      <th>milesRequested</th>\n      <th>minutesAvailable</th>\n      <th>modifiedAt</th>\n      <th>paymentRequired</th>\n      <th>requestedDeparture</th>\n      <th>time_diff_hours</th>\n    </tr>\n  </thead>\n  <tbody>\n    <tr>\n      <th>12</th>\n      <td>5e23b149f9af8b5fe4b973db</td>\n      <td>2020-01-02 15:04:38+00:00</td>\n      <td>2020-01-02 22:08:39+00:00</td>\n      <td>2020-01-02 22:09:36+00:00</td>\n      <td>25.567</td>\n      <td>1_1_178_824_2020-01-02 15:04:38.051735</td>\n      <td>1</td>\n      <td>AG-1F07</td>\n      <td>1-1-178-824</td>\n      <td>528.0</td>\n      <td>250.0</td>\n      <td>50.00</td>\n      <td>200.0</td>\n      <td>555.0</td>\n      <td>Thu, 02 Jan 2020 15:04:49 GMT</td>\n      <td>True</td>\n      <td>Fri, 03 Jan 2020 00:19:38 GMT</td>\n      <td>0.950000</td>\n    </tr>\n    <tr>\n      <th>20</th>\n      <td>5e23b149f9af8b5fe4b973e3</td>\n      <td>2020-01-02 15:28:47+00:00</td>\n      <td>2020-01-02 19:01:54+00:00</td>\n      <td>2020-01-02 19:02:51+00:00</td>\n      <td>7.417</td>\n      <td>1_1_193_827_2020-01-02 15:28:46.685366</td>\n      <td>1</td>\n      <td>AG-1F02</td>\n      <td>1-1-193-827</td>\n      <td>1283.0</td>\n      <td>350.0</td>\n      <td>42.00</td>\n      <td>120.0</td>\n      <td>238.0</td>\n      <td>Thu, 02 Jan 2020 15:29:16 GMT</td>\n      <td>True</td>\n      <td>Thu, 02 Jan 2020 19:26:47 GMT</td>\n      <td>0.950000</td>\n    </tr>\n    <tr>\n      <th>25</th>\n      <td>5e23b149f9af8b5fe4b973e8</td>\n      <td>2020-01-02 15:42:05+00:00</td>\n      <td>2020-01-02 21:58:45+00:00</td>\n      <td>2020-01-02 21:59:42+00:00</td>\n      <td>36.701</td>\n      <td>1_1_179_797_2020-01-02 15:42:05.217965</td>\n      <td>1</td>\n      <td>AG-3F23</td>\n      <td>1-1-179-797</td>\n      <td>474.0</td>\n      <td>400.0</td>\n      <td>32.00</td>\n      <td>80.0</td>\n      <td>532.0</td>\n      <td>Thu, 02 Jan 2020 15:42:11 GMT</td>\n      <td>True</td>\n      <td>Fri, 03 Jan 2020 00:34:05 GMT</td>\n      <td>0.950000</td>\n    </tr>\n    <tr>\n      <th>26</th>\n      <td>5e23b149f9af8b5fe4b973e9</td>\n      <td>2020-01-02 15:57:24+00:00</td>\n      <td>2020-01-02 16:35:37+00:00</td>\n      <td>2020-01-02 16:36:34+00:00</td>\n      <td>3.689</td>\n      <td>1_1_179_781_2020-01-02 15:57:23.951170</td>\n      <td>1</td>\n      <td>AG-3F31</td>\n      <td>1-1-179-781</td>\n      <td>724.0</td>\n      <td>400.0</td>\n      <td>8.00</td>\n      <td>20.0</td>\n      <td>89.0</td>\n      <td>Thu, 02 Jan 2020 15:57:39 GMT</td>\n      <td>True</td>\n      <td>Thu, 02 Jan 2020 17:26:24 GMT</td>\n      <td>0.950000</td>\n    </tr>\n    <tr>\n      <th>33</th>\n      <td>5e23b149f9af8b5fe4b973f0</td>\n      <td>2020-01-02 16:34:35+00:00</td>\n      <td>2020-01-02 18:49:41+00:00</td>\n      <td>2020-01-02 18:50:38+00:00</td>\n      <td>7.120</td>\n      <td>1_1_179_790_2020-01-02 16:34:34.999200</td>\n      <td>1</td>\n      <td>AG-3F19</td>\n      <td>1-1-179-790</td>\n      <td>2276.0</td>\n      <td>600.0</td>\n      <td>18.00</td>\n      <td>30.0</td>\n      <td>165.0</td>\n      <td>Thu, 02 Jan 2020 16:35:06 GMT</td>\n      <td>True</td>\n      <td>Thu, 02 Jan 2020 19:19:35 GMT</td>\n      <td>0.950000</td>\n    </tr>\n    <tr>\n      <th>...</th>\n      <td>...</td>\n      <td>...</td>\n      <td>...</td>\n      <td>...</td>\n      <td>...</td>\n      <td>...</td>\n      <td>...</td>\n      <td>...</td>\n      <td>...</td>\n      <td>...</td>\n      <td>...</td>\n      <td>...</td>\n      <td>...</td>\n      <td>...</td>\n      <td>...</td>\n      <td>...</td>\n      <td>...</td>\n      <td>...</td>\n    </tr>\n    <tr>\n      <th>65028</th>\n      <td>5d2fbdd3f9af8b4d0dd0d546</td>\n      <td>2019-07-01 19:20:31+00:00</td>\n      <td>2019-07-02 00:16:32+00:00</td>\n      <td>2019-07-02 00:16:42+00:00</td>\n      <td>26.324</td>\n      <td>1_1_179_783_2019-07-01 19:20:30.955300</td>\n      <td>1</td>\n      <td>AG-3F29</td>\n      <td>1-1-179-783</td>\n      <td>458.0</td>\n      <td>400.0</td>\n      <td>8.00</td>\n      <td>20.0</td>\n      <td>204.0</td>\n      <td>Mon, 01 Jul 2019 19:23:09 GMT</td>\n      <td>True</td>\n      <td>Mon, 01 Jul 2019 22:44:31 GMT</td>\n      <td>0.166667</td>\n    </tr>\n    <tr>\n      <th>65030</th>\n      <td>5d2fbdd3f9af8b4d0dd0d548</td>\n      <td>2019-07-01 20:01:07+00:00</td>\n      <td>2019-07-02 00:32:26+00:00</td>\n      <td>2019-07-02 00:32:59+00:00</td>\n      <td>21.588</td>\n      <td>1_1_179_800_2019-07-01 20:01:06.782562</td>\n      <td>1</td>\n      <td>AG-3F32</td>\n      <td>1-1-179-800</td>\n      <td>1479.0</td>\n      <td>275.0</td>\n      <td>19.25</td>\n      <td>70.0</td>\n      <td>286.0</td>\n      <td>Mon, 01 Jul 2019 20:03:21 GMT</td>\n      <td>True</td>\n      <td>Tue, 02 Jul 2019 00:47:07 GMT</td>\n      <td>0.550000</td>\n    </tr>\n    <tr>\n      <th>65033</th>\n      <td>5d2fbdd3f9af8b4d0dd0d54b</td>\n      <td>2019-07-01 21:58:45+00:00</td>\n      <td>2019-07-02 00:39:48+00:00</td>\n      <td>2019-07-02 00:40:21+00:00</td>\n      <td>16.864</td>\n      <td>1_1_179_794_2019-07-01 21:58:44.571011</td>\n      <td>1</td>\n      <td>AG-3F20</td>\n      <td>1-1-179-794</td>\n      <td>364.0</td>\n      <td>400.0</td>\n      <td>40.00</td>\n      <td>100.0</td>\n      <td>234.0</td>\n      <td>Mon, 01 Jul 2019 21:59:09 GMT</td>\n      <td>True</td>\n      <td>Tue, 02 Jul 2019 01:52:45 GMT</td>\n      <td>0.550000</td>\n    </tr>\n    <tr>\n      <th>65034</th>\n      <td>5d2fbdd3f9af8b4d0dd0d54c</td>\n      <td>2019-07-01 22:02:21+00:00</td>\n      <td>2019-07-02 00:58:50+00:00</td>\n      <td>2019-07-02 00:59:23+00:00</td>\n      <td>18.335</td>\n      <td>1_1_191_807_2019-07-01 22:02:20.810735</td>\n      <td>1</td>\n      <td>AG-4F47</td>\n      <td>1-1-191-807</td>\n      <td>2050.0</td>\n      <td>333.0</td>\n      <td>29.97</td>\n      <td>90.0</td>\n      <td>309.0</td>\n      <td>Mon, 01 Jul 2019 22:02:37 GMT</td>\n      <td>True</td>\n      <td>Tue, 02 Jul 2019 03:11:21 GMT</td>\n      <td>0.550000</td>\n    </tr>\n    <tr>\n      <th>65035</th>\n      <td>5d2fbdd3f9af8b4d0dd0d54d</td>\n      <td>2019-07-01 22:23:44+00:00</td>\n      <td>2019-07-02 02:03:36+00:00</td>\n      <td>2019-07-02 02:04:06+00:00</td>\n      <td>22.815</td>\n      <td>1_1_179_781_2019-07-01 22:23:32.496137</td>\n      <td>1</td>\n      <td>AG-3F31</td>\n      <td>1-1-179-781</td>\n      <td>1626.0</td>\n      <td>200.0</td>\n      <td>34.00</td>\n      <td>170.0</td>\n      <td>99.0</td>\n      <td>Mon, 01 Jul 2019 22:23:43 GMT</td>\n      <td>True</td>\n      <td>Tue, 02 Jul 2019 00:02:44 GMT</td>\n      <td>0.500000</td>\n    </tr>\n  </tbody>\n</table>\n<p>8508 rows × 18 columns</p>\n</div>"
     },
     "execution_count": 409,
     "metadata": {},
     "output_type": "execute_result"
    }
   ],
   "source": [
    "# Convert time-related columns to datetime format\n",
    "charging_set['doneChargingTime'] = pd.to_datetime(charging_set['doneChargingTime'])\n",
    "charging_set['connectionTime'] = pd.to_datetime(charging_set['connectionTime'])\n",
    "charging_set['disconnectTime'] = pd.to_datetime(charging_set['disconnectTime'])\n",
    "\n",
    "# Check condition: connectionTime < doneChargingTime < disconnectionTime\n",
    "condition = (\n",
    "        charging_set['doneChargingTime'].notna() &\n",
    "        (charging_set['doneChargingTime'] > charging_set['connectionTime']) &\n",
    "        (charging_set['doneChargingTime'] < charging_set['disconnectTime'])\n",
    ")\n",
    "\n",
    "\n",
    "# Calculate the percentage of cases where the condition is not satisfied\n",
    "total_cases = len(charging_set)\n",
    "unsatisfied_cases = (~condition).sum()\n",
    "percentage_unsatisfied = (unsatisfied_cases / total_cases) * 100\n",
    "\n",
    "# Calculate time differences in hours\n",
    "charging_set['time_diff_hours'] = charging_set.apply(\n",
    "    lambda row: (row['doneChargingTime'] - row['disconnectTime']).total_seconds() / 60 if pd.notna(row['doneChargingTime']) else 0,\n",
    "    axis=1\n",
    ")\n",
    "mean_time_diff_unsatisfied = charging_set.loc[~condition, 'time_diff_hours'].mean() if unsatisfied_cases > 0 else None\n",
    "\n",
    "# Mean time difference for rows where the condition is satisfied\n",
    "mean_time_diff_satisfied = charging_set.loc[condition, 'time_diff_hours'].mean()\n",
    "\n",
    "# Display results\n",
    "print(\"Results:\")\n",
    "if condition.all():\n",
    "    print(\"doneChargingTime is always earlier than disconnectTime and later than connectionTime.\")\n",
    "else:\n",
    "    print(\"There are cases where doneChargingTime does not satisfy the condition.\")\n",
    "    print(f\"Percentage of cases where the condition is not satisfied: {percentage_unsatisfied:.2f}%\")\n",
    "\n",
    "print(f\"\\nMean time difference (condition satisfied): {mean_time_diff_satisfied:.2f} min\")\n",
    "if mean_time_diff_unsatisfied is not None:\n",
    "    print(f\"Mean time difference (condition not satisfied): {mean_time_diff_unsatisfied:.2f} min\")\n",
    "else:\n",
    "    print(\"No rows where the condition is not satisfied.\")\n",
    "\n",
    "# Create a dataframe with cases where the condition is not satisfied\n",
    "charging_set_condition_unsatisfied = charging_set[~condition]\n",
    "\n",
    "# Display the dataframe with unsatisfied cases\n",
    "print(\"\\nRows where the condition is not satisfied:\")\n",
    "charging_set_condition_unsatisfied\n"
   ],
   "metadata": {
    "collapsed": false,
    "ExecuteTime": {
     "end_time": "2025-01-25T23:07:31.718814Z",
     "start_time": "2025-01-25T23:07:29.916341Z"
    }
   },
   "id": "8a67e41ab73c2c5f",
   "execution_count": 409
  },
  {
   "cell_type": "markdown",
   "source": [
    "So now we see that the doneChargingTime is not always in the time frame between connectionTime and disconnectTime. This occurs in 7.25% of the time. However, since the mean difference between disconnectTime and doneChargingTime is roughly 2.5 minutes, we assume that this imprecision is due to technical issues during the data collection (e.g. delay in recording the last draw by the charging hub). Therefore we set the values of \"doneChargingTime\" to be equal with \"disconnectTime\" for these records.  "
   ],
   "metadata": {
    "collapsed": false
   },
   "id": "4d54739f720caa42"
  },
  {
   "cell_type": "code",
   "outputs": [
    {
     "data": {
      "text/plain": "               doneChargingTime            disconnectTime\n12    2020-01-02 22:08:39+00:00 2020-01-02 22:08:39+00:00\n20    2020-01-02 19:01:54+00:00 2020-01-02 19:01:54+00:00\n25    2020-01-02 21:58:45+00:00 2020-01-02 21:58:45+00:00\n26    2020-01-02 16:35:37+00:00 2020-01-02 16:35:37+00:00\n33    2020-01-02 18:49:41+00:00 2020-01-02 18:49:41+00:00\n...                         ...                       ...\n65028 2019-07-02 00:16:32+00:00 2019-07-02 00:16:32+00:00\n65030 2019-07-02 00:32:26+00:00 2019-07-02 00:32:26+00:00\n65033 2019-07-02 00:39:48+00:00 2019-07-02 00:39:48+00:00\n65034 2019-07-02 00:58:50+00:00 2019-07-02 00:58:50+00:00\n65035 2019-07-02 02:03:36+00:00 2019-07-02 02:03:36+00:00\n\n[8508 rows x 2 columns]",
      "text/html": "<div>\n<style scoped>\n    .dataframe tbody tr th:only-of-type {\n        vertical-align: middle;\n    }\n\n    .dataframe tbody tr th {\n        vertical-align: top;\n    }\n\n    .dataframe thead th {\n        text-align: right;\n    }\n</style>\n<table border=\"1\" class=\"dataframe\">\n  <thead>\n    <tr style=\"text-align: right;\">\n      <th></th>\n      <th>doneChargingTime</th>\n      <th>disconnectTime</th>\n    </tr>\n  </thead>\n  <tbody>\n    <tr>\n      <th>12</th>\n      <td>2020-01-02 22:08:39+00:00</td>\n      <td>2020-01-02 22:08:39+00:00</td>\n    </tr>\n    <tr>\n      <th>20</th>\n      <td>2020-01-02 19:01:54+00:00</td>\n      <td>2020-01-02 19:01:54+00:00</td>\n    </tr>\n    <tr>\n      <th>25</th>\n      <td>2020-01-02 21:58:45+00:00</td>\n      <td>2020-01-02 21:58:45+00:00</td>\n    </tr>\n    <tr>\n      <th>26</th>\n      <td>2020-01-02 16:35:37+00:00</td>\n      <td>2020-01-02 16:35:37+00:00</td>\n    </tr>\n    <tr>\n      <th>33</th>\n      <td>2020-01-02 18:49:41+00:00</td>\n      <td>2020-01-02 18:49:41+00:00</td>\n    </tr>\n    <tr>\n      <th>...</th>\n      <td>...</td>\n      <td>...</td>\n    </tr>\n    <tr>\n      <th>65028</th>\n      <td>2019-07-02 00:16:32+00:00</td>\n      <td>2019-07-02 00:16:32+00:00</td>\n    </tr>\n    <tr>\n      <th>65030</th>\n      <td>2019-07-02 00:32:26+00:00</td>\n      <td>2019-07-02 00:32:26+00:00</td>\n    </tr>\n    <tr>\n      <th>65033</th>\n      <td>2019-07-02 00:39:48+00:00</td>\n      <td>2019-07-02 00:39:48+00:00</td>\n    </tr>\n    <tr>\n      <th>65034</th>\n      <td>2019-07-02 00:58:50+00:00</td>\n      <td>2019-07-02 00:58:50+00:00</td>\n    </tr>\n    <tr>\n      <th>65035</th>\n      <td>2019-07-02 02:03:36+00:00</td>\n      <td>2019-07-02 02:03:36+00:00</td>\n    </tr>\n  </tbody>\n</table>\n<p>8508 rows × 2 columns</p>\n</div>"
     },
     "execution_count": 410,
     "metadata": {},
     "output_type": "execute_result"
    }
   ],
   "source": [
    "# update doneChargingTime to disconnectTime for rows where the condition is not satisfied\n",
    "charging_set.loc[~condition & charging_set['doneChargingTime'].notna(), 'doneChargingTime'] = charging_set.loc[~condition & charging_set['doneChargingTime'].notna(), 'disconnectTime']\n",
    "charging_set[~condition][['doneChargingTime', 'disconnectTime']]\n"
   ],
   "metadata": {
    "collapsed": false,
    "ExecuteTime": {
     "end_time": "2025-01-25T23:07:31.763500Z",
     "start_time": "2025-01-25T23:07:31.712590Z"
    }
   },
   "id": "639583cc984f896",
   "execution_count": 410
  },
  {
   "cell_type": "markdown",
   "source": [
    "For the charging sessions where the car does not fully charge, we replace the NaN values with a placeholder just like we did for the userInputs. Here, we choose a time way out of our given time frame (2018-2021) as the value of the placeholder: 01.01.2025."
   ],
   "metadata": {
    "collapsed": false
   },
   "id": "1b2390fac56e77f3"
  },
  {
   "cell_type": "code",
   "outputs": [
    {
     "data": {
      "text/plain": "                             id            connectionTime  \\\n3756   5ea3848df9af8b428bf97225 2020-04-08 16:36:53+00:00   \n3757   5ea4d60df9af8b46573f1ee7 2020-04-09 13:23:52+00:00   \n3758   5ea4d60df9af8b46573f1ee8 2020-04-09 13:40:03+00:00   \n3759   5ea4d60df9af8b46573f1ee9 2020-04-09 14:01:53+00:00   \n3760   5ea4d60df9af8b46573f1eea 2020-04-09 15:01:06+00:00   \n...                         ...                       ...   \n60396  5cb3d2a8f9af8b4551261e66 2019-03-29 16:54:49+00:00   \n60411  5cb3d2a8f9af8b4551261e75 2019-03-30 00:32:10+00:00   \n61097  5cc8e891f9af8b45d975b819 2019-04-14 16:19:12+00:00   \n61103  5cca3a54f9af8b49aaa4cbac 2019-04-15 13:00:59+00:00   \n61117  5cca3a54f9af8b49aaa4cbba 2019-04-15 13:52:45+00:00   \n\n                 disconnectTime          doneChargingTime  kWhDelivered  \\\n3756  2020-04-09 03:43:29+00:00 2025-01-01 00:00:00+00:00        25.183   \n3757  2020-04-09 17:59:02+00:00 2025-01-01 00:00:00+00:00        14.136   \n3758  2020-04-09 21:43:22+00:00 2025-01-01 00:00:00+00:00        14.203   \n3759  2020-04-09 16:33:40+00:00 2025-01-01 00:00:00+00:00        13.041   \n3760  2020-04-09 23:38:08+00:00 2025-01-01 00:00:00+00:00         5.797   \n...                         ...                       ...           ...   \n60396 2019-03-29 21:55:22+00:00 2025-01-01 00:00:00+00:00        15.753   \n60411 2019-03-30 02:23:14+00:00 2025-01-01 00:00:00+00:00        11.148   \n61097 2019-04-14 20:38:39+00:00 2025-01-01 00:00:00+00:00        11.678   \n61103 2019-04-15 13:55:25+00:00 2025-01-01 00:00:00+00:00         3.343   \n61117 2019-04-15 14:47:01+00:00 2025-01-01 00:00:00+00:00         4.558   \n\n                                    sessionID  siteID  spaceID    stationID  \\\n3756   1_1_194_822_2020-04-08 16:36:53.316264       1  AG-1F12  1-1-194-822   \n3757   1_1_193_827_2020-04-09 13:23:51.689520       1  AG-1F02  1-1-193-827   \n3758   1_1_178_823_2020-04-09 13:39:55.115497       1  AG-1F08  1-1-178-823   \n3759   1_1_178_828_2020-04-09 14:01:53.467693       1  AG-1F10  1-1-178-828   \n3760   1_1_193_820_2020-04-09 15:01:06.343454       1  AG-1F04  1-1-193-820   \n...                                       ...     ...      ...          ...   \n60396  1_1_179_799_2019-03-29 16:54:49.239801       1  AG-3F25  1-1-179-799   \n60411  1_1_193_829_2019-03-30 00:32:10.128651       1  AG-1F03  1-1-193-829   \n61097  1_1_193_816_2019-04-14 16:19:11.864262       1  AG-1F05  1-1-193-816   \n61103  1_1_193_819_2019-04-15 13:00:58.722284       1  AG-1F06  1-1-193-819   \n61117  1_1_179_800_2019-04-15 13:52:44.693153       1  AG-3F32  1-1-179-800   \n\n       userID  WhPerMile  kWhRequested  milesRequested  minutesAvailable  \\\n3756    507.0      250.0          75.0           300.0             720.0   \n3757    419.0      400.0          40.0           100.0             479.0   \n3758   5065.0      400.0          24.0            60.0             483.0   \n3759    651.0      400.0          20.0            50.0             183.0   \n3760    466.0      300.0           6.0            20.0             182.0   \n...       ...        ...           ...             ...               ...   \n60396  1078.0      400.0          20.0            50.0             139.0   \n60411   194.0      400.0          24.0            60.0             137.0   \n61097   364.0      400.0          56.0           140.0             222.0   \n61103   651.0      400.0          20.0            50.0             158.0   \n61117   194.0      400.0          12.0            30.0              77.0   \n\n                          modifiedAt paymentRequired  \\\n3756   Wed, 08 Apr 2020 16:37:01 GMT            True   \n3757   Thu, 09 Apr 2020 13:24:06 GMT            True   \n3758   Thu, 09 Apr 2020 13:40:03 GMT            True   \n3759   Thu, 09 Apr 2020 14:02:09 GMT            True   \n3760   Thu, 09 Apr 2020 15:01:20 GMT            True   \n...                              ...             ...   \n60396  Fri, 29 Mar 2019 16:55:03 GMT            True   \n60411  Sat, 30 Mar 2019 00:32:57 GMT            True   \n61097  Sun, 14 Apr 2019 16:19:34 GMT            True   \n61103  Mon, 15 Apr 2019 13:01:13 GMT            True   \n61117  Mon, 15 Apr 2019 13:53:15 GMT            True   \n\n                  requestedDeparture  time_diff_hours  \n3756   Thu, 09 Apr 2020 04:36:53 GMT              0.0  \n3757   Thu, 09 Apr 2020 21:22:52 GMT              0.0  \n3758   Thu, 09 Apr 2020 21:43:03 GMT              0.0  \n3759   Thu, 09 Apr 2020 17:04:53 GMT              0.0  \n3760   Thu, 09 Apr 2020 18:03:06 GMT              0.0  \n...                              ...              ...  \n60396  Fri, 29 Mar 2019 19:13:49 GMT              0.0  \n60411  Sat, 30 Mar 2019 02:49:10 GMT              0.0  \n61097  Sun, 14 Apr 2019 20:01:12 GMT              0.0  \n61103  Mon, 15 Apr 2019 15:38:59 GMT              0.0  \n61117  Mon, 15 Apr 2019 15:09:45 GMT              0.0  \n\n[4087 rows x 18 columns]",
      "text/html": "<div>\n<style scoped>\n    .dataframe tbody tr th:only-of-type {\n        vertical-align: middle;\n    }\n\n    .dataframe tbody tr th {\n        vertical-align: top;\n    }\n\n    .dataframe thead th {\n        text-align: right;\n    }\n</style>\n<table border=\"1\" class=\"dataframe\">\n  <thead>\n    <tr style=\"text-align: right;\">\n      <th></th>\n      <th>id</th>\n      <th>connectionTime</th>\n      <th>disconnectTime</th>\n      <th>doneChargingTime</th>\n      <th>kWhDelivered</th>\n      <th>sessionID</th>\n      <th>siteID</th>\n      <th>spaceID</th>\n      <th>stationID</th>\n      <th>userID</th>\n      <th>WhPerMile</th>\n      <th>kWhRequested</th>\n      <th>milesRequested</th>\n      <th>minutesAvailable</th>\n      <th>modifiedAt</th>\n      <th>paymentRequired</th>\n      <th>requestedDeparture</th>\n      <th>time_diff_hours</th>\n    </tr>\n  </thead>\n  <tbody>\n    <tr>\n      <th>3756</th>\n      <td>5ea3848df9af8b428bf97225</td>\n      <td>2020-04-08 16:36:53+00:00</td>\n      <td>2020-04-09 03:43:29+00:00</td>\n      <td>2025-01-01 00:00:00+00:00</td>\n      <td>25.183</td>\n      <td>1_1_194_822_2020-04-08 16:36:53.316264</td>\n      <td>1</td>\n      <td>AG-1F12</td>\n      <td>1-1-194-822</td>\n      <td>507.0</td>\n      <td>250.0</td>\n      <td>75.0</td>\n      <td>300.0</td>\n      <td>720.0</td>\n      <td>Wed, 08 Apr 2020 16:37:01 GMT</td>\n      <td>True</td>\n      <td>Thu, 09 Apr 2020 04:36:53 GMT</td>\n      <td>0.0</td>\n    </tr>\n    <tr>\n      <th>3757</th>\n      <td>5ea4d60df9af8b46573f1ee7</td>\n      <td>2020-04-09 13:23:52+00:00</td>\n      <td>2020-04-09 17:59:02+00:00</td>\n      <td>2025-01-01 00:00:00+00:00</td>\n      <td>14.136</td>\n      <td>1_1_193_827_2020-04-09 13:23:51.689520</td>\n      <td>1</td>\n      <td>AG-1F02</td>\n      <td>1-1-193-827</td>\n      <td>419.0</td>\n      <td>400.0</td>\n      <td>40.0</td>\n      <td>100.0</td>\n      <td>479.0</td>\n      <td>Thu, 09 Apr 2020 13:24:06 GMT</td>\n      <td>True</td>\n      <td>Thu, 09 Apr 2020 21:22:52 GMT</td>\n      <td>0.0</td>\n    </tr>\n    <tr>\n      <th>3758</th>\n      <td>5ea4d60df9af8b46573f1ee8</td>\n      <td>2020-04-09 13:40:03+00:00</td>\n      <td>2020-04-09 21:43:22+00:00</td>\n      <td>2025-01-01 00:00:00+00:00</td>\n      <td>14.203</td>\n      <td>1_1_178_823_2020-04-09 13:39:55.115497</td>\n      <td>1</td>\n      <td>AG-1F08</td>\n      <td>1-1-178-823</td>\n      <td>5065.0</td>\n      <td>400.0</td>\n      <td>24.0</td>\n      <td>60.0</td>\n      <td>483.0</td>\n      <td>Thu, 09 Apr 2020 13:40:03 GMT</td>\n      <td>True</td>\n      <td>Thu, 09 Apr 2020 21:43:03 GMT</td>\n      <td>0.0</td>\n    </tr>\n    <tr>\n      <th>3759</th>\n      <td>5ea4d60df9af8b46573f1ee9</td>\n      <td>2020-04-09 14:01:53+00:00</td>\n      <td>2020-04-09 16:33:40+00:00</td>\n      <td>2025-01-01 00:00:00+00:00</td>\n      <td>13.041</td>\n      <td>1_1_178_828_2020-04-09 14:01:53.467693</td>\n      <td>1</td>\n      <td>AG-1F10</td>\n      <td>1-1-178-828</td>\n      <td>651.0</td>\n      <td>400.0</td>\n      <td>20.0</td>\n      <td>50.0</td>\n      <td>183.0</td>\n      <td>Thu, 09 Apr 2020 14:02:09 GMT</td>\n      <td>True</td>\n      <td>Thu, 09 Apr 2020 17:04:53 GMT</td>\n      <td>0.0</td>\n    </tr>\n    <tr>\n      <th>3760</th>\n      <td>5ea4d60df9af8b46573f1eea</td>\n      <td>2020-04-09 15:01:06+00:00</td>\n      <td>2020-04-09 23:38:08+00:00</td>\n      <td>2025-01-01 00:00:00+00:00</td>\n      <td>5.797</td>\n      <td>1_1_193_820_2020-04-09 15:01:06.343454</td>\n      <td>1</td>\n      <td>AG-1F04</td>\n      <td>1-1-193-820</td>\n      <td>466.0</td>\n      <td>300.0</td>\n      <td>6.0</td>\n      <td>20.0</td>\n      <td>182.0</td>\n      <td>Thu, 09 Apr 2020 15:01:20 GMT</td>\n      <td>True</td>\n      <td>Thu, 09 Apr 2020 18:03:06 GMT</td>\n      <td>0.0</td>\n    </tr>\n    <tr>\n      <th>...</th>\n      <td>...</td>\n      <td>...</td>\n      <td>...</td>\n      <td>...</td>\n      <td>...</td>\n      <td>...</td>\n      <td>...</td>\n      <td>...</td>\n      <td>...</td>\n      <td>...</td>\n      <td>...</td>\n      <td>...</td>\n      <td>...</td>\n      <td>...</td>\n      <td>...</td>\n      <td>...</td>\n      <td>...</td>\n      <td>...</td>\n    </tr>\n    <tr>\n      <th>60396</th>\n      <td>5cb3d2a8f9af8b4551261e66</td>\n      <td>2019-03-29 16:54:49+00:00</td>\n      <td>2019-03-29 21:55:22+00:00</td>\n      <td>2025-01-01 00:00:00+00:00</td>\n      <td>15.753</td>\n      <td>1_1_179_799_2019-03-29 16:54:49.239801</td>\n      <td>1</td>\n      <td>AG-3F25</td>\n      <td>1-1-179-799</td>\n      <td>1078.0</td>\n      <td>400.0</td>\n      <td>20.0</td>\n      <td>50.0</td>\n      <td>139.0</td>\n      <td>Fri, 29 Mar 2019 16:55:03 GMT</td>\n      <td>True</td>\n      <td>Fri, 29 Mar 2019 19:13:49 GMT</td>\n      <td>0.0</td>\n    </tr>\n    <tr>\n      <th>60411</th>\n      <td>5cb3d2a8f9af8b4551261e75</td>\n      <td>2019-03-30 00:32:10+00:00</td>\n      <td>2019-03-30 02:23:14+00:00</td>\n      <td>2025-01-01 00:00:00+00:00</td>\n      <td>11.148</td>\n      <td>1_1_193_829_2019-03-30 00:32:10.128651</td>\n      <td>1</td>\n      <td>AG-1F03</td>\n      <td>1-1-193-829</td>\n      <td>194.0</td>\n      <td>400.0</td>\n      <td>24.0</td>\n      <td>60.0</td>\n      <td>137.0</td>\n      <td>Sat, 30 Mar 2019 00:32:57 GMT</td>\n      <td>True</td>\n      <td>Sat, 30 Mar 2019 02:49:10 GMT</td>\n      <td>0.0</td>\n    </tr>\n    <tr>\n      <th>61097</th>\n      <td>5cc8e891f9af8b45d975b819</td>\n      <td>2019-04-14 16:19:12+00:00</td>\n      <td>2019-04-14 20:38:39+00:00</td>\n      <td>2025-01-01 00:00:00+00:00</td>\n      <td>11.678</td>\n      <td>1_1_193_816_2019-04-14 16:19:11.864262</td>\n      <td>1</td>\n      <td>AG-1F05</td>\n      <td>1-1-193-816</td>\n      <td>364.0</td>\n      <td>400.0</td>\n      <td>56.0</td>\n      <td>140.0</td>\n      <td>222.0</td>\n      <td>Sun, 14 Apr 2019 16:19:34 GMT</td>\n      <td>True</td>\n      <td>Sun, 14 Apr 2019 20:01:12 GMT</td>\n      <td>0.0</td>\n    </tr>\n    <tr>\n      <th>61103</th>\n      <td>5cca3a54f9af8b49aaa4cbac</td>\n      <td>2019-04-15 13:00:59+00:00</td>\n      <td>2019-04-15 13:55:25+00:00</td>\n      <td>2025-01-01 00:00:00+00:00</td>\n      <td>3.343</td>\n      <td>1_1_193_819_2019-04-15 13:00:58.722284</td>\n      <td>1</td>\n      <td>AG-1F06</td>\n      <td>1-1-193-819</td>\n      <td>651.0</td>\n      <td>400.0</td>\n      <td>20.0</td>\n      <td>50.0</td>\n      <td>158.0</td>\n      <td>Mon, 15 Apr 2019 13:01:13 GMT</td>\n      <td>True</td>\n      <td>Mon, 15 Apr 2019 15:38:59 GMT</td>\n      <td>0.0</td>\n    </tr>\n    <tr>\n      <th>61117</th>\n      <td>5cca3a54f9af8b49aaa4cbba</td>\n      <td>2019-04-15 13:52:45+00:00</td>\n      <td>2019-04-15 14:47:01+00:00</td>\n      <td>2025-01-01 00:00:00+00:00</td>\n      <td>4.558</td>\n      <td>1_1_179_800_2019-04-15 13:52:44.693153</td>\n      <td>1</td>\n      <td>AG-3F32</td>\n      <td>1-1-179-800</td>\n      <td>194.0</td>\n      <td>400.0</td>\n      <td>12.0</td>\n      <td>30.0</td>\n      <td>77.0</td>\n      <td>Mon, 15 Apr 2019 13:53:15 GMT</td>\n      <td>True</td>\n      <td>Mon, 15 Apr 2019 15:09:45 GMT</td>\n      <td>0.0</td>\n    </tr>\n  </tbody>\n</table>\n<p>4087 rows × 18 columns</p>\n</div>"
     },
     "execution_count": 411,
     "metadata": {},
     "output_type": "execute_result"
    }
   ],
   "source": [
    "placeholder_datetime = pd.to_datetime('2025-01-01 00:00:00+00:00')\n",
    "charging_set[\"doneChargingTime\"] = charging_set[\"doneChargingTime\"].fillna(placeholder_datetime)\n",
    "charging_set[charging_set['doneChargingTime'] == placeholder_datetime]"
   ],
   "metadata": {
    "collapsed": false,
    "ExecuteTime": {
     "end_time": "2025-01-25T23:07:31.965372Z",
     "start_time": "2025-01-25T23:07:31.748472Z"
    }
   },
   "id": "430f0eb554dfcc13",
   "execution_count": 411
  },
  {
   "cell_type": "markdown",
   "source": [
    "## 1.5 Outliers "
   ],
   "metadata": {
    "collapsed": false
   },
   "id": "4240084ffd53d439"
  },
  {
   "cell_type": "code",
   "outputs": [
    {
     "name": "stdout",
     "output_type": "stream",
     "text": [
      "Column 'kWhDelivered': min=0.501, max=108.79724166666666\n",
      "Column 'siteID': min=1, max=2\n",
      "Column 'userID': min=1.0, max=19923.0\n",
      "Column 'WhPerMile': min=50.0, max=2000.0\n",
      "Column 'kWhRequested': min=0.0, max=215.32\n",
      "Column 'milesRequested': min=0.0, max=775.0\n",
      "Column 'minutesAvailable': min=1.0, max=10062.0\n",
      "Column 'time_diff_hours': min=-9367.283333333333, max=59.93333333333333\n",
      "Column 'connectionTime_year': min=2018, max=2021\n",
      "Column 'connectionTime_month': min=1, max=12\n",
      "Column 'connectionTime_day': min=1, max=31\n",
      "Column 'connectionTime_weekday': min=0, max=6\n",
      "Column 'disconnectTime_year': min=2018, max=2021\n",
      "Column 'disconnectTime_month': min=1, max=12\n",
      "Column 'disconnectTime_day': min=1, max=31\n",
      "Column 'disconnectTime_weekday': min=0, max=6\n",
      "Column 'doneChargingTime_year': min=2018, max=2025\n",
      "Column 'doneChargingTime_month': min=1, max=12\n",
      "Column 'doneChargingTime_day': min=1, max=31\n",
      "Column 'doneChargingTime_weekday': min=0, max=6\n",
      "Column 'modifiedAt_year': min=2018, max=2025\n",
      "Column 'modifiedAt_month': min=1, max=12\n",
      "Column 'modifiedAt_day': min=1, max=31\n",
      "Column 'modifiedAt_weekday': min=0, max=6\n",
      "Column 'requestedDeparture_year': min=2018, max=2025\n",
      "Column 'requestedDeparture_month': min=1, max=12\n",
      "Column 'requestedDeparture_day': min=1, max=31\n",
      "Column 'requestedDeparture_weekday': min=0, max=6\n",
      "Column 'connectionDuration': min=0.034444444444444444, max=245.26916666666668\n",
      "Column 'chargingDuration': min=0.0008333333333333334, max=200.01583333333335\n",
      "Column 'id': unique values=['5e23b149f9af8b5fe4b973cf' '5e23b149f9af8b5fe4b973d0'\n",
      " '5e23b149f9af8b5fe4b973d1' ... '5d2fbdd3f9af8b4d0dd0d54c'\n",
      " '5d2fbdd3f9af8b4d0dd0d54d' '5d2fbdd3f9af8b4d0dd0d54e']\n",
      "Column 'connectionTime': unique values=<DatetimeArray>\n",
      "['2020-01-02 13:08:54+00:00', '2020-01-02 13:36:50+00:00',\n",
      " '2020-01-02 13:56:35+00:00', '2020-01-02 13:59:58+00:00',\n",
      " '2020-01-02 14:00:01+00:00', '2020-01-02 14:00:13+00:00',\n",
      " '2020-01-02 14:09:14+00:00', '2020-01-02 14:17:32+00:00',\n",
      " '2020-01-02 14:25:38+00:00', '2020-01-02 14:27:40+00:00',\n",
      " ...\n",
      " '2019-07-01 19:17:16+00:00', '2019-07-01 19:20:31+00:00',\n",
      " '2019-07-01 19:43:46+00:00', '2019-07-01 20:01:07+00:00',\n",
      " '2019-07-01 20:34:30+00:00', '2019-07-01 21:49:12+00:00',\n",
      " '2019-07-01 21:58:45+00:00', '2019-07-01 22:02:21+00:00',\n",
      " '2019-07-01 22:23:44+00:00', '2019-07-01 22:36:08+00:00']\n",
      "Length: 64839, dtype: datetime64[ns, UTC]\n",
      "Column 'disconnectTime': unique values=<DatetimeArray>\n",
      "['2020-01-02 19:11:15+00:00', '2020-01-02 22:38:21+00:00',\n",
      " '2020-01-03 00:39:22+00:00', '2020-01-02 16:38:39+00:00',\n",
      " '2020-01-02 22:08:40+00:00', '2020-01-02 23:00:41+00:00',\n",
      " '2020-01-03 01:57:58+00:00', '2020-01-03 00:44:54+00:00',\n",
      " '2020-01-02 19:36:05+00:00', '2020-01-02 20:01:48+00:00',\n",
      " ...\n",
      " '2019-07-02 00:41:27+00:00', '2019-07-02 00:16:32+00:00',\n",
      " '2019-07-02 02:58:53+00:00', '2019-07-02 00:32:26+00:00',\n",
      " '2019-07-02 00:30:52+00:00', '2019-07-02 01:37:18+00:00',\n",
      " '2019-07-02 00:39:48+00:00', '2019-07-02 00:58:50+00:00',\n",
      " '2019-07-02 02:03:36+00:00', '2019-07-02 01:10:52+00:00']\n",
      "Length: 64906, dtype: datetime64[ns, UTC]\n",
      "Column 'doneChargingTime': unique values=<DatetimeArray>\n",
      "['2020-01-02 17:31:35+00:00', '2020-01-02 20:18:05+00:00',\n",
      " '2020-01-02 16:35:06+00:00', '2020-01-02 15:18:45+00:00',\n",
      " '2020-01-02 18:17:30+00:00', '2020-01-02 20:13:21+00:00',\n",
      " '2020-01-03 00:59:21+00:00', '2020-01-02 20:22:40+00:00',\n",
      " '2020-01-02 18:38:39+00:00', '2020-01-02 19:17:46+00:00',\n",
      " ...\n",
      " '2019-07-02 00:41:27+00:00', '2019-07-02 00:16:32+00:00',\n",
      " '2019-07-02 02:43:53+00:00', '2019-07-02 00:32:26+00:00',\n",
      " '2019-07-01 21:27:44+00:00', '2019-07-01 23:14:33+00:00',\n",
      " '2019-07-02 00:39:48+00:00', '2019-07-02 00:58:50+00:00',\n",
      " '2019-07-02 02:03:36+00:00', '2019-07-02 00:24:32+00:00']\n",
      "Length: 60634, dtype: datetime64[ns, UTC]\n",
      "Column 'sessionID': unique values=['1_1_179_810_2020-01-02 13:08:53.870034'\n",
      " '1_1_193_825_2020-01-02 13:36:49.599853'\n",
      " '1_1_193_829_2020-01-02 13:56:35.214993' ...\n",
      " '1_1_191_807_2019-07-01 22:02:20.810735'\n",
      " '1_1_179_781_2019-07-01 22:23:32.496137'\n",
      " '1_1_193_819_2019-07-01 22:35:56.104381']\n",
      "Column 'spaceID': unique values=['AG-3F30' 'AG-1F01' 'AG-1F03' 'AG-1F04' 'AG-1F06' 'AG-1F13' 'AG-1F09'\n",
      " 'AG-4F34' 'AG-1F11' 'AG-1F08' 'AG-3F22' 'AG-1F14' 'AG-1F07' 'AG-1F12'\n",
      " 'AG-3F29' 'AG-1F05' 'AG-3F18' 'AG-1F10' 'AG-3F16' 'AG-4F37' 'AG-1F02'\n",
      " 'AG-3F28' 'AG-3F25' 'AG-3F24' 'AG-3F33' 'AG-3F23' 'AG-3F31' 'AG-3F32'\n",
      " 'AG-3F27' 'AG-3F26' 'AG-3F20' 'AG-3F17' 'AG-3F21' 'AG-3F19' 'AG-4F44'\n",
      " 'AG-4F52' 'AG-4F41' 'AG-4F48' 'AG-4F35' 'AG-4F50' 'AG-3F15' 'AG-4F51'\n",
      " 'AG-4F47' 'AG-4F46' 'AG-4F49' 'AG-4F43' 'AG-4F42' 'AG-4F45' 'AG-4F36'\n",
      " 'AG-4F38' 'AG-4F40' 'AG-4F39' 'CA-512' 'CA-327' 'CA-326' 'CA-303'\n",
      " 'CA-325' 'CA-311' 'CA-309' 'CA-491' 'CA-493' 'CA-499' 'CA-323' 'CA-313'\n",
      " 'CA-324' 'CA-513' 'CA-305' 'CA-317' 'CA-510' 'CA-315' 'CA-321' 'CA-490'\n",
      " 'CA-497' 'CA-489' 'CA-319' 'CA-492' 'CA-494' 'CA-502' 'CA-500' 'CA-495'\n",
      " 'CA-498' 'CA-304' 'CA-307' 'CA-306' 'CA-501' 'CA-318' 'CA-308' 'CA-316'\n",
      " 'CA-312' 'CA-320' 'CA-212' 'CA-508' 'CA-322' 'CA-314' 'CA-503' 'CA-504'\n",
      " 'CA-496' 'CA-310' 'CA-506' 'CA-149' 'CA-509' 'CA-507' 'CA-511' 'CA-213'\n",
      " 'CA-505' 'CA-148' '11900388']\n",
      "Column 'stationID': unique values=['1-1-179-810' '1-1-193-825' '1-1-193-829' '1-1-193-820' '1-1-193-819'\n",
      " '1-1-194-821' '1-1-178-817' '1-1-191-804' '1-1-194-826' '1-1-178-823'\n",
      " '1-1-179-788' '1-1-194-818' '1-1-178-824' '1-1-194-822' '1-1-179-783'\n",
      " '1-1-193-816' '1-1-179-798' '1-1-178-828' '1-1-179-787' '1-1-191-792'\n",
      " '1-1-193-827' '1-1-179-777' '1-1-179-799' '1-1-179-796' '1-1-179-815'\n",
      " '1-1-179-797' '1-1-179-781' '1-1-179-800' '1-1-179-809' '1-1-179-791'\n",
      " '1-1-179-794' '1-1-179-779' '1-1-179-801' '1-1-179-790' '1-1-191-802'\n",
      " '1-1-191-789' '1-1-191-806' '1-1-191-785' '1-1-191-808' '1-1-191-782'\n",
      " '1-1-179-813' '1-1-191-795' '1-1-191-807' '1-1-191-812' '1-1-191-803'\n",
      " '1-1-191-778' '1-1-191-811' '1-1-191-780' '1-1-191-786' '1-1-191-793'\n",
      " '1-1-191-784' '1-1-191-805' '2-39-138-566' '2-39-79-379' '2-39-79-378'\n",
      " '2-39-139-28' '2-39-79-377' '2-39-125-21' '2-39-127-19' '2-39-79-382'\n",
      " '2-39-78-361' '2-39-91-441' '2-39-78-366' '2-39-123-23' '2-39-79-376'\n",
      " '2-39-139-567' '2-39-131-30' '2-39-91-437' '2-39-130-564' '2-39-89-25'\n",
      " '2-39-78-365' '2-39-79-381' '2-39-95-444' '2-39-79-380' '2-39-95-27'\n",
      " '2-39-79-383' '2-39-78-367' '2-39-88-438' '2-39-90-440' '2-39-78-364'\n",
      " '2-39-92-442' '2-39-138-29' '2-39-129-17' '2-39-130-31' '2-39-89-439'\n",
      " '2-39-92-436' '2-39-128-18' '2-39-90-26' '2-39-124-22' '2-39-78-363'\n",
      " '2-39-83-386' '2-39-128-562' '2-39-78-360' '2-39-88-24' '2-39-123-557'\n",
      " '2-39-124-558' '2-39-78-362' '2-39-126-20' '2-39-126-560' '2-39-83-387'\n",
      " '2-39-129-563' '2-39-127-561' '2-39-131-565' '2-39-82-384' '2-39-125-559'\n",
      " '2-39-82-385' '2-39-81-4550']\n",
      "Column 'modifiedAt': unique values=<DatetimeArray>\n",
      "['2020-01-02 13:09:39', '2020-01-02 13:37:11', '2020-01-02 13:57:17',\n",
      " '2020-01-02 14:00:03', '2020-01-02 14:00:13', '2020-01-02 14:00:12',\n",
      " '2020-01-02 14:09:33', '2020-01-02 14:17:40', '2020-01-02 14:25:45',\n",
      " '2020-01-02 14:27:48',\n",
      " ...\n",
      " '2019-07-01 19:16:24', '2019-07-01 19:23:09', '2019-07-01 19:43:58',\n",
      " '2019-07-01 20:03:21', '2019-07-01 20:34:29', '2019-07-01 21:49:37',\n",
      " '2019-07-01 21:59:09', '2019-07-01 22:02:37', '2019-07-01 22:23:43',\n",
      " '2019-07-01 22:36:08']\n",
      "Length: 47705, dtype: datetime64[ns]\n",
      "Column 'paymentRequired': unique values=[True -1]\n",
      "Column 'requestedDeparture': unique values=<DatetimeArray>\n",
      "['2020-01-02 20:51:54', '2020-01-02 23:31:50', '2020-01-02 14:56:35',\n",
      " '2020-01-02 15:04:58', '2020-01-02 22:24:01', '2020-01-03 00:24:13',\n",
      " '2020-01-03 00:56:14', '2020-01-02 16:23:32', '2020-01-02 22:36:38',\n",
      " '2020-01-02 18:13:40',\n",
      " ...\n",
      " '2019-07-01 22:19:32', '2019-07-01 22:44:31', '2019-07-02 00:53:46',\n",
      " '2019-07-02 00:47:07', '2019-07-02 02:55:30', '2019-07-01 22:25:12',\n",
      " '2019-07-02 01:52:45', '2019-07-02 03:11:21', '2019-07-02 00:02:44',\n",
      " '2019-07-02 01:47:08']\n",
      "Length: 47774, dtype: datetime64[ns]\n",
      "Column 'connectionTime_time': unique values=[datetime.time(13, 8, 54) datetime.time(13, 36, 50)\n",
      " datetime.time(13, 56, 35) ... datetime.time(14, 44, 46)\n",
      " datetime.time(19, 17, 16) datetime.time(22, 2, 21)]\n",
      "Column 'disconnectTime_time': unique values=[datetime.time(19, 11, 15) datetime.time(22, 38, 21)\n",
      " datetime.time(0, 39, 22) ... datetime.time(19, 7, 46)\n",
      " datetime.time(23, 48, 23) datetime.time(21, 24, 59)]\n",
      "Column 'doneChargingTime_time': unique values=[datetime.time(17, 31, 35) datetime.time(20, 18, 5)\n",
      " datetime.time(16, 35, 6) ... datetime.time(0, 32, 26)\n",
      " datetime.time(23, 14, 33) datetime.time(0, 58, 50)]\n",
      "Column 'modifiedAt_time': unique values=[datetime.time(13, 9, 39) datetime.time(13, 37, 11)\n",
      " datetime.time(13, 57, 17) ... datetime.time(20, 3, 21)\n",
      " datetime.time(21, 49, 37) datetime.time(22, 2, 37)]\n",
      "Column 'requestedDeparture_time': unique values=[datetime.time(20, 51, 54) datetime.time(23, 31, 50)\n",
      " datetime.time(14, 56, 35) ... datetime.time(23, 19, 4)\n",
      " datetime.time(22, 19, 32) datetime.time(1, 52, 45)]\n"
     ]
    }
   ],
   "source": [
    "# Check ranges of numeric columns\n",
    "numeric_columns = charging_set.select_dtypes(include=[np.number])\n",
    "for col in numeric_columns.columns:\n",
    "    valid_values = numeric_columns.loc[numeric_columns[col] != -1, col]  # exclude -1, since we used it as a placeholder for NaN-values\n",
    "    print(f\"Column '{col}': min={valid_values.min()}, max={valid_values.max()}\")\n",
    "\n",
    "# Check unique values of categorical columns\n",
    "categorical_columns = charging_set.select_dtypes(exclude=[np.number])\n",
    "for col in categorical_columns.columns:\n",
    "    print(f\"Column '{col}': unique values={categorical_columns[col].unique()}\")"
   ],
   "metadata": {
    "collapsed": false,
    "ExecuteTime": {
     "end_time": "2025-01-25T23:28:37.330232Z",
     "start_time": "2025-01-25T23:28:37.057021Z"
    }
   },
   "id": "ff465f59572f17af",
   "execution_count": 422
  },
  {
   "cell_type": "markdown",
   "source": [
    "We identify multiple columns with outliers:\n",
    "    - (kWhDelivered: min approx. 2 km range)\n",
    "- WhPerMile: energy consumption of 2000 too high\n",
    "- minutesAvailable: 10.000 minutes = almost 7 days\n",
    "- connectionDuration: min. 0.05h = 3 min\n",
    "- chargingDuration: min. -0.68h, max = 200h\n",
    "\n",
    "Let's have a look at the features that seem to have extreme outliers:"
   ],
   "metadata": {
    "collapsed": false
   },
   "id": "2ef73aea7f8795f6"
  },
  {
   "cell_type": "markdown",
   "source": [
    "## 1.6 Feature Enigneering"
   ],
   "metadata": {
    "collapsed": false
   },
   "id": "38d0af3d5e5b1d92"
  },
  {
   "cell_type": "markdown",
   "source": [
    "### 1.5.1 Time Features"
   ],
   "metadata": {
    "collapsed": false
   },
   "id": "b2b095a9a8295c3a"
  },
  {
   "cell_type": "markdown",
   "source": [
    "The time data is recorded in UTC format, which is not easily readable for humans. Therefore, we break it down into more human-readable components, such as year, month, day and time."
   ],
   "metadata": {
    "collapsed": false
   },
   "id": "111f1b09621f087a"
  },
  {
   "cell_type": "code",
   "outputs": [],
   "source": [
    "# convert remaining time data features\n",
    "# connectionTime, disconnectTime and doneChargingTime have already been converted while handling missing data (chapter 1.4)\n",
    "charging_set['modifiedAt'] = pd.to_datetime(charging_set['modifiedAt'])\n",
    "charging_set['requestedDeparture'] = pd.to_datetime(charging_set['requestedDeparture'])\n",
    "\n",
    "charging_set['connectionTime_year'] = charging_set['connectionTime'].dt.year\n",
    "charging_set['connectionTime_month'] = charging_set['connectionTime'].dt.month\n",
    "charging_set['connectionTime_day'] = charging_set['connectionTime'].dt.day\n",
    "charging_set['connectionTime_time'] = charging_set['connectionTime'].dt.time\n",
    "charging_set['connectionTime_weekday'] = charging_set['connectionTime'].dt.weekday\n",
    "\n",
    "charging_set['disconnectTime_year'] = charging_set['disconnectTime'].dt.year\n",
    "charging_set['disconnectTime_month'] = charging_set['disconnectTime'].dt.month\n",
    "charging_set['disconnectTime_day'] = charging_set['disconnectTime'].dt.day\n",
    "charging_set['disconnectTime_time'] = charging_set['disconnectTime'].dt.time\n",
    "charging_set['disconnectTime_weekday'] = charging_set['disconnectTime'].dt.weekday\n",
    "\n",
    "charging_set['doneChargingTime_year'] = charging_set['doneChargingTime'].dt.year\n",
    "charging_set['doneChargingTime_month'] = charging_set['doneChargingTime'].dt.month\n",
    "charging_set['doneChargingTime_day'] = charging_set['doneChargingTime'].dt.day\n",
    "charging_set['doneChargingTime_time'] = charging_set['doneChargingTime'].dt.time\n",
    "charging_set['doneChargingTime_weekday'] = charging_set['doneChargingTime'].dt.weekday\n",
    "\n",
    "charging_set['modifiedAt_year'] = charging_set['modifiedAt'].dt.year\n",
    "charging_set['modifiedAt_month'] = charging_set['modifiedAt'].dt.month\n",
    "charging_set['modifiedAt_day'] = charging_set['modifiedAt'].dt.day\n",
    "charging_set['modifiedAt_time'] = charging_set['modifiedAt'].dt.time\n",
    "charging_set['modifiedAt_weekday'] = charging_set['modifiedAt'].dt.weekday\n",
    "\n",
    "charging_set['requestedDeparture_year'] = charging_set['requestedDeparture'].dt.year\n",
    "charging_set['requestedDeparture_month'] = charging_set['requestedDeparture'].dt.month\n",
    "charging_set['requestedDeparture_day'] = charging_set['requestedDeparture'].dt.day\n",
    "charging_set['requestedDeparture_time'] = charging_set['requestedDeparture'].dt.time\n",
    "charging_set['requestedDeparture_weekday'] = charging_set['requestedDeparture'].dt.weekday"
   ],
   "metadata": {
    "collapsed": false,
    "ExecuteTime": {
     "end_time": "2025-01-25T23:07:34.182204Z",
     "start_time": "2025-01-25T23:07:32.270691Z"
    }
   },
   "id": "cdd2957a8e686459",
   "execution_count": 412
  },
  {
   "cell_type": "markdown",
   "source": [
    "To better analyse the objectives later on we isolate valuable information into own features such as:\n",
    "- connectionDuration: the time a vehicle is connected to the charging hub (in hours)\n",
    "- chargingDuration: the time a vehicle is actively drawing energy from the charging hub (in hours)  "
   ],
   "metadata": {
    "collapsed": false
   },
   "id": "7ccf1aa3cd7da0c3"
  },
  {
   "cell_type": "code",
   "outputs": [],
   "source": [
    "charging_set[\"connectionDuration\"] = (charging_set[\"disconnectTime\"] - charging_set[\"connectionTime\"]).dt.total_seconds()/3600\n",
    "\n",
    "charging_set[\"chargingDuration\"] = charging_set.apply(\n",
    "    lambda row: row[\"connectionDuration\"] if row[\"doneChargingTime\"] == placeholder_datetime\n",
    "    else (row[\"doneChargingTime\"] - row[\"connectionTime\"]).total_seconds()/3600,\n",
    "    axis=1\n",
    ")"
   ],
   "metadata": {
    "collapsed": false,
    "ExecuteTime": {
     "end_time": "2025-01-25T23:17:19.028901Z",
     "start_time": "2025-01-25T23:17:15.318317Z"
    }
   },
   "id": "186f401a21243380",
   "execution_count": 420
  },
  {
   "cell_type": "markdown",
   "source": [
    "Since the exact ID assigned to a registered user is not of primary interest, but rather the higher-level information about whether a user is registered or not, we introduce the binary feature 'isRegistered' to indicate the user's registration status in the dataset.\n",
    "\n",
    "This also applies to the feature \"doneChargingTime\". The main focus is not on the exact time of day when the car reaches 100% charge (i.e., doneChargingTime), but rather on whether the car has charged fully and, if it has, how long the car remained connected to the charging hub without further charging (i.e., how long it stayed plugged in after reaching 100%)."
   ],
   "metadata": {
    "collapsed": false
   },
   "id": "3a0e0cf75ee93387"
  },
  {
   "cell_type": "code",
   "outputs": [
    {
     "data": {
      "text/plain": "               doneChargingTime            disconnectTime  fullyCharged  \\\n0     2020-01-02 17:31:35+00:00 2020-01-02 19:11:15+00:00             1   \n1     2020-01-02 20:18:05+00:00 2020-01-02 22:38:21+00:00             1   \n2     2020-01-02 16:35:06+00:00 2020-01-03 00:39:22+00:00             1   \n3     2020-01-02 15:18:45+00:00 2020-01-02 16:38:39+00:00             1   \n4     2020-01-02 18:17:30+00:00 2020-01-02 22:08:40+00:00             1   \n...                         ...                       ...           ...   \n65032 2019-07-01 23:14:33+00:00 2019-07-02 01:37:18+00:00             1   \n65033 2019-07-02 00:39:48+00:00 2019-07-02 00:39:48+00:00             1   \n65034 2019-07-02 00:58:50+00:00 2019-07-02 00:58:50+00:00             1   \n65035 2019-07-02 02:03:36+00:00 2019-07-02 02:03:36+00:00             1   \n65036 2019-07-02 00:24:32+00:00 2019-07-02 01:10:52+00:00             1   \n\n       parkingDuration  \n0                 1.66  \n1                 2.34  \n2                 8.07  \n3                 1.33  \n4                 3.85  \n...                ...  \n65032             2.38  \n65033             0.00  \n65034             0.00  \n65035             0.00  \n65036             0.77  \n\n[65037 rows x 4 columns]",
      "text/html": "<div>\n<style scoped>\n    .dataframe tbody tr th:only-of-type {\n        vertical-align: middle;\n    }\n\n    .dataframe tbody tr th {\n        vertical-align: top;\n    }\n\n    .dataframe thead th {\n        text-align: right;\n    }\n</style>\n<table border=\"1\" class=\"dataframe\">\n  <thead>\n    <tr style=\"text-align: right;\">\n      <th></th>\n      <th>doneChargingTime</th>\n      <th>disconnectTime</th>\n      <th>fullyCharged</th>\n      <th>parkingDuration</th>\n    </tr>\n  </thead>\n  <tbody>\n    <tr>\n      <th>0</th>\n      <td>2020-01-02 17:31:35+00:00</td>\n      <td>2020-01-02 19:11:15+00:00</td>\n      <td>1</td>\n      <td>1.66</td>\n    </tr>\n    <tr>\n      <th>1</th>\n      <td>2020-01-02 20:18:05+00:00</td>\n      <td>2020-01-02 22:38:21+00:00</td>\n      <td>1</td>\n      <td>2.34</td>\n    </tr>\n    <tr>\n      <th>2</th>\n      <td>2020-01-02 16:35:06+00:00</td>\n      <td>2020-01-03 00:39:22+00:00</td>\n      <td>1</td>\n      <td>8.07</td>\n    </tr>\n    <tr>\n      <th>3</th>\n      <td>2020-01-02 15:18:45+00:00</td>\n      <td>2020-01-02 16:38:39+00:00</td>\n      <td>1</td>\n      <td>1.33</td>\n    </tr>\n    <tr>\n      <th>4</th>\n      <td>2020-01-02 18:17:30+00:00</td>\n      <td>2020-01-02 22:08:40+00:00</td>\n      <td>1</td>\n      <td>3.85</td>\n    </tr>\n    <tr>\n      <th>...</th>\n      <td>...</td>\n      <td>...</td>\n      <td>...</td>\n      <td>...</td>\n    </tr>\n    <tr>\n      <th>65032</th>\n      <td>2019-07-01 23:14:33+00:00</td>\n      <td>2019-07-02 01:37:18+00:00</td>\n      <td>1</td>\n      <td>2.38</td>\n    </tr>\n    <tr>\n      <th>65033</th>\n      <td>2019-07-02 00:39:48+00:00</td>\n      <td>2019-07-02 00:39:48+00:00</td>\n      <td>1</td>\n      <td>0.00</td>\n    </tr>\n    <tr>\n      <th>65034</th>\n      <td>2019-07-02 00:58:50+00:00</td>\n      <td>2019-07-02 00:58:50+00:00</td>\n      <td>1</td>\n      <td>0.00</td>\n    </tr>\n    <tr>\n      <th>65035</th>\n      <td>2019-07-02 02:03:36+00:00</td>\n      <td>2019-07-02 02:03:36+00:00</td>\n      <td>1</td>\n      <td>0.00</td>\n    </tr>\n    <tr>\n      <th>65036</th>\n      <td>2019-07-02 00:24:32+00:00</td>\n      <td>2019-07-02 01:10:52+00:00</td>\n      <td>1</td>\n      <td>0.77</td>\n    </tr>\n  </tbody>\n</table>\n<p>65037 rows × 4 columns</p>\n</div>"
     },
     "execution_count": 379,
     "metadata": {},
     "output_type": "execute_result"
    }
   ],
   "source": [
    "# isRegistered should be 0 if a user is not registered (userID == NaN) and be 1 if a user is registered\n",
    "charging_set['isRegistered'] = (charging_set['userID'] != -1).astype(int)\n",
    "\n",
    "# fullyCharged\n",
    "charging_set['fullyCharged'] = (charging_set['doneChargingTime'] != placeholder_datetime).astype(int)\n",
    "\n",
    "# parkingTime\n",
    "charging_set['parkingDuration'] = charging_set.apply(\n",
    "    lambda row: (row['disconnectTime'] - row['doneChargingTime']).total_seconds() / 3600\n",
    "    if row['fullyCharged'] == 1 else 0, axis=1\n",
    ")\n",
    "\n",
    "# Optional: Round parkingTime to 2 decimal places for readability\n",
    "charging_set['parkingDuration'] = charging_set['parkingDuration'].round(2)\n",
    "\n",
    "# Display the result\n",
    "charging_set[['doneChargingTime', 'disconnectTime', 'fullyCharged', 'parkingDuration']]"
   ],
   "metadata": {
    "collapsed": false,
    "ExecuteTime": {
     "end_time": "2025-01-25T22:46:43.737111Z",
     "start_time": "2025-01-25T22:46:41.030634Z"
    }
   },
   "id": "8ab74702c2679383",
   "execution_count": 379
  },
  {
   "cell_type": "code",
   "outputs": [],
   "source": [],
   "metadata": {
    "collapsed": false,
    "ExecuteTime": {
     "end_time": "2025-01-25T22:46:43.741033Z",
     "start_time": "2025-01-25T22:46:43.734053Z"
    }
   },
   "id": "6a1468a58da2f1c3",
   "execution_count": 379
  },
  {
   "cell_type": "code",
   "outputs": [],
   "source": [],
   "metadata": {
    "collapsed": false,
    "ExecuteTime": {
     "start_time": "2025-01-25T22:41:53.488113Z"
    }
   },
   "id": "b16bab024392306f"
  }
 ],
 "metadata": {
  "kernelspec": {
   "display_name": "Python 3",
   "language": "python",
   "name": "python3"
  },
  "language_info": {
   "codemirror_mode": {
    "name": "ipython",
    "version": 2
   },
   "file_extension": ".py",
   "mimetype": "text/x-python",
   "name": "python",
   "nbconvert_exporter": "python",
   "pygments_lexer": "ipython2",
   "version": "2.7.6"
  }
 },
 "nbformat": 4,
 "nbformat_minor": 5
}
