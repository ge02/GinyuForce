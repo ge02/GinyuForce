{
 "cells": [
  {
   "cell_type": "markdown",
   "source": [
    "KPIs are undecided, therefore we prepare code with the \"TargetVariable\"."
   ],
   "metadata": {
    "collapsed": false
   }
  },
  {
   "cell_type": "markdown",
   "metadata": {},
   "source": [
    "### Split Data in Training, Validation and Test set"
   ]
  },
  {
   "cell_type": "code",
   "execution_count": 1,
   "metadata": {
    "ExecuteTime": {
     "end_time": "2025-01-08T22:47:01.065357Z",
     "start_time": "2025-01-08T22:46:57.806856Z"
    }
   },
   "outputs": [],
   "source": [
    "from sklearn.model_selection import TimeSeriesSplit, cross_val_score\n",
    "from sklearn.preprocessing import StandardScaler, OneHotEncoder\n",
    "from sklearn.compose import ColumnTransformer\n",
    "from sklearn.pipeline import Pipeline\n",
    "from sklearn.impute import SimpleImputer\n",
    "from sklearn.feature_selection import SelectKBest, f_regression\n",
    "from sklearn.linear_model import LinearRegression, Ridge, Lasso\n",
    "from sklearn.tree import DecisionTreeRegressor\n",
    "from sklearn.ensemble import RandomForestRegressor, GradientBoostingRegressor\n",
    "from sklearn.svm import SVR\n",
    "from sklearn.neighbors import KNeighborsRegressor\n",
    "from sklearn.neural_network import MLPRegressor\n",
    "from sklearn.model_selection import GridSearchCV, KFold\n",
    "import numpy as np\n",
    "import pandas as pd"
   ]
  },
  {
   "cell_type": "code",
   "outputs": [],
   "source": [
    "df = pd.read_csv(\"data/hourly_utilization_site_1.csv\")"
   ],
   "metadata": {
    "collapsed": false
   }
  },
  {
   "cell_type": "markdown",
   "metadata": {},
   "source": [
    "### Encoding"
   ]
  },
  {
   "cell_type": "code",
   "execution_count": 5,
   "metadata": {},
   "outputs": [],
   "source": [
    "from sklearn.preprocessing import LabelEncoder"
   ]
  },
  {
   "cell_type": "code",
   "execution_count": 6,
   "metadata": {},
   "outputs": [],
   "source": [
    "def encode_non_numeric_columns(df):\n",
    "    # Make a copy of the DataFrame to avoid modifying the original\n",
    "    df_encoded = df.copy()\n",
    "    \n",
    "    # Iterate through each column\n",
    "    for col in df_encoded.columns:\n",
    "        # Check if the column is non-numeric\n",
    "        if df_encoded[col].dtype == 'object' or df_encoded[col].dtype.name == 'category':\n",
    "            # Apply LabelEncoder to the column\n",
    "            le = LabelEncoder()\n",
    "            df_encoded[col] = le.fit_transform(df_encoded[col])\n",
    "    \n",
    "    return df_encoded"
   ]
  },
  {
   "cell_type": "code",
   "execution_count": 7,
   "metadata": {},
   "outputs": [],
   "source": [
    "df_encoded = encode_non_numeric_columns(df)"
   ]
  },
  {
   "cell_type": "code",
   "execution_count": 9,
   "metadata": {},
   "outputs": [],
   "source": [
    "df.set_index('timestamp', inplace=True)\n",
    "df.sort_index(inplace=True)"
   ]
  },
  {
   "cell_type": "code",
   "execution_count": null,
   "metadata": {},
   "outputs": [],
   "source": [
    "train_set = df.iloc[:int(0.7 * df.shape[0])]\n",
    "test_set = df.iloc[int(0.7 * df.shape[0]):]"
   ]
  },
  {
   "cell_type": "markdown",
   "metadata": {},
   "source": [
    "Erstellen einer Random Spalte, um die Signifikanz beim Lasso noch besser zu testen"
   ]
  },
  {
   "cell_type": "code",
   "execution_count": null,
   "metadata": {},
   "outputs": [],
   "source": [
    "train_set['random'] = np.random.normal(0,1,train_set.shape[0])"
   ]
  },
  {
   "cell_type": "code",
   "execution_count": null,
   "metadata": {},
   "outputs": [],
   "source": [
    "train_set['Target_Variable'].hist()"
   ]
  },
  {
   "cell_type": "markdown",
   "metadata": {},
   "source": [
    "X-Y-Train Test Split"
   ]
  },
  {
   "cell_type": "markdown",
   "metadata": {},
   "source": [
    "X_train = train_set.drop(['TargetVariable'], axis=1)\n",
    "y_train = train_set[['TargetVariable']]\n",
    "X_test = test_set.drop(['TargetVariable'], axis=1)\n",
    "y_test = test_set[['TargetVariable']]"
   ]
  },
  {
   "cell_type": "markdown",
   "metadata": {},
   "source": [
    "### Lasso Feature Selection"
   ]
  },
  {
   "cell_type": "code",
   "execution_count": null,
   "metadata": {},
   "outputs": [],
   "source": [
    "lasso_model = Lasso()\n",
    "# lasso_model.fit(train_set.drop(['TargetVariable'], axis = 1), train_set['TargetVariable'])\n",
    "lasso_model.fit(X_train, y_train)"
   ]
  },
  {
   "cell_type": "code",
   "execution_count": null,
   "metadata": {},
   "outputs": [],
   "source": [
    "importance = np.abs(coefficients)"
   ]
  },
  {
   "cell_type": "code",
   "execution_count": null,
   "metadata": {},
   "outputs": [],
   "source": [
    "features = train_set.columns.to_list()"
   ]
  },
  {
   "cell_type": "code",
   "execution_count": null,
   "metadata": {},
   "outputs": [],
   "source": [
    "relevant_features_lasso = np.array(features)[importance > 0]\n",
    "\n",
    "print(\"Relevante Features:\", relevant_features_lasso)"
   ]
  },
  {
   "cell_type": "code",
   "execution_count": null,
   "metadata": {},
   "outputs": [],
   "source": [
    "random_importance_index = features.index('random')\n",
    "random_importance_value = importance[random_importance_index]\n",
    "print(random_importance_value)"
   ]
  },
  {
   "cell_type": "code",
   "execution_count": null,
   "metadata": {},
   "outputs": [],
   "source": [
    "relevant_features_lasso = np.array(features)[importance > random_importance_value]\n",
    "\n",
    "print(\"Relevante Features:\", relevant_features_lasso)"
   ]
  },
  {
   "cell_type": "code",
   "execution_count": null,
   "metadata": {},
   "outputs": [],
   "source": [
    "np.array(features)[importance == 0]"
   ]
  },
  {
   "cell_type": "code",
   "execution_count": null,
   "metadata": {},
   "outputs": [],
   "source": [
    "relevant_features_indices = np.where(importance > random_importance_value)[0]\n",
    "relevant_importance = importance[relevant_features_indices]"
   ]
  },
  {
   "cell_type": "code",
   "execution_count": null,
   "metadata": {},
   "outputs": [],
   "source": [
    "plt.figure(figsize=(10, 6))\n",
    "plt.barh(relevant_features_lasso, relevant_importance, color='skyblue')\n",
    "plt.xlabel('Importance (absolute value of coefficients)')\n",
    "plt.ylabel('Features')\n",
    "plt.title('Relevant Feature Importance from Lasso Regression')\n",
    "plt.show()"
   ]
  },
  {
   "cell_type": "code",
   "execution_count": null,
   "metadata": {},
   "outputs": [],
   "source": [
    "X_train = train_set[relevant_features_lasso]\n",
    "y_train = train_set[['Days_to_Actual_Delivery']]\n",
    "X_test = test_set[relevant_features_lasso]\n",
    "y_test = test_set[['Days_to_Actual_Delivery']]"
   ]
  },
  {
   "cell_type": "code",
   "execution_count": null,
   "metadata": {},
   "outputs": [],
   "source": [
    "print(\"Shape of Train Features: {}\".format(X_train.shape))\n",
    "print(\"Shape of Test Features: {}\".format(X_test.shape))\n",
    "print(\"Shape of Train Target: {}\".format(y_train.shape))\n",
    "print(\"Shape of Test Target: {}\".format(y_test.shape))"
   ]
  },
  {
   "cell_type": "code",
   "execution_count": null,
   "metadata": {},
   "outputs": [],
   "source": [
    "plt.figure(figsize=(17, 10))\n",
    "    \n",
    "# Plot y_train\n",
    "\n",
    "train_set[['Order_Creation_Date_W', 'Days_to_Actual_Delivery']].groupby('Order_Creation_Date_W').mean().plot(label='Train')\n",
    "    \n",
    "test_set[['Order_Creation_Date_W', 'Days_to_Actual_Delivery']].groupby('Order_Creation_Date_W').mean().plot(label='Test')\n",
    "    \n",
    "plt.title('Train and Test Delivery Delay Over Time')\n",
    "plt.xlabel('Order Creation Week')\n",
    "plt.ylabel('Delivery Delay')\n",
    "plt.legend()\n",
    "plt.show()"
   ]
  },
  {
   "cell_type": "markdown",
   "metadata": {},
   "source": []
  }
 ],
 "metadata": {
  "kernelspec": {
   "display_name": "Python 3",
   "language": "python",
   "name": "python3"
  },
  "language_info": {
   "codemirror_mode": {
    "name": "ipython",
    "version": 3
   },
   "file_extension": ".py",
   "mimetype": "text/x-python",
   "name": "python",
   "nbconvert_exporter": "python",
   "pygments_lexer": "ipython3",
   "version": "3.9.5"
  }
 },
 "nbformat": 4,
 "nbformat_minor": 2
}
