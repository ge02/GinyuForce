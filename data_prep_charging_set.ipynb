{
 "cells": [
  {
   "cell_type": "code",
   "execution_count": 3,
   "id": "initial_id",
   "metadata": {
    "ExecuteTime": {
     "end_time": "2024-12-22T16:22:51.160749Z",
     "start_time": "2024-12-22T16:22:51.125360Z"
    }
   },
   "outputs": [],
   "source": [
    "import numpy as np\n",
    "import pandas as pd\n",
    "import datetime as dt\n",
    "import warnings\n",
    "warnings.filterwarnings('ignore')\n",
    "\n",
    "import matplotlib as mpl\n",
    "import matplotlib.pyplot as plt\n",
    "import seaborn as sns\n",
    "\n",
    "import sklearn\n",
    "import warnings\n",
    "from sklearn.linear_model import LinearRegression\n",
    "from sklearn import linear_model\n",
    "from sklearn.model_selection import train_test_split \n",
    "\n",
    "from sklearn.metrics import mean_squared_error, mean_absolute_error, r2_score"
   ]
  },
  {
   "cell_type": "code",
   "execution_count": 55,
   "id": "51da85eed2db08df",
   "metadata": {
    "collapsed": false,
    "ExecuteTime": {
     "end_time": "2024-12-23T12:38:06.758983Z",
     "start_time": "2024-12-23T12:38:06.056205Z"
    }
   },
   "outputs": [],
   "source": [
    "charging_set = pd.read_csv(\"data/charging_sessions.csv\")"
   ]
  },
  {
   "cell_type": "code",
   "outputs": [
    {
     "name": "stdout",
     "output_type": "stream",
     "text": [
      "columns:\n",
      "Index(['Unnamed: 0', 'id', 'connectionTime', 'disconnectTime',\n",
      "       'doneChargingTime', 'kWhDelivered', 'sessionID', 'siteID', 'spaceID',\n",
      "       'stationID', 'timezone', 'userID', 'userInputs'],\n",
      "      dtype='object')\n",
      "-------------------------------------------------------------------------\n",
      "info():\n",
      "<class 'pandas.core.frame.DataFrame'>\n",
      "RangeIndex: 66450 entries, 0 to 66449\n",
      "Data columns (total 13 columns):\n",
      " #   Column            Non-Null Count  Dtype  \n",
      "---  ------            --------------  -----  \n",
      " 0   Unnamed: 0        66450 non-null  int64  \n",
      " 1   id                66450 non-null  object \n",
      " 2   connectionTime    66450 non-null  object \n",
      " 3   disconnectTime    66450 non-null  object \n",
      " 4   doneChargingTime  62362 non-null  object \n",
      " 5   kWhDelivered      66450 non-null  float64\n",
      " 6   sessionID         66450 non-null  object \n",
      " 7   siteID            66450 non-null  int64  \n",
      " 8   spaceID           66450 non-null  object \n",
      " 9   stationID         66450 non-null  object \n",
      " 10  timezone          66450 non-null  object \n",
      " 11  userID            49187 non-null  float64\n",
      " 12  userInputs        49187 non-null  object \n",
      "dtypes: float64(2), int64(2), object(9)\n",
      "memory usage: 6.6+ MB\n",
      "None\n",
      "-------------------------------------------------------------------------\n",
      "describe():\n",
      "         Unnamed: 0  kWhDelivered        siteID        userID\n",
      "count  66450.000000  66450.000000  66450.000000  49187.000000\n",
      "mean    4726.102062     11.787916      1.472656   1800.494582\n",
      "std     3568.025394     10.314789      0.499256   2617.548614\n",
      "min        0.000000      0.501000      1.000000      1.000000\n",
      "25%     1845.000000      5.097000      1.000000    431.000000\n",
      "50%     3960.000000      9.140000      1.000000    818.000000\n",
      "75%     7027.000000     14.183000      2.000000   1805.000000\n",
      "max    15291.000000    108.797242      2.000000  19923.000000\n"
     ]
    }
   ],
   "source": [
    "# get overview of data\n",
    "print(\"columns:\")\n",
    "print(charging_set.columns)\n",
    "print(\"-------------------------------------------------------------------------\")\n",
    "print(\"info():\")\n",
    "print(charging_set.info())\n",
    "print(\"-------------------------------------------------------------------------\")\n",
    "print(\"describe():\")\n",
    "print(charging_set.describe())"
   ],
   "metadata": {
    "collapsed": false,
    "ExecuteTime": {
     "end_time": "2024-12-23T12:17:06.944955Z",
     "start_time": "2024-12-23T12:17:06.768640Z"
    }
   },
   "id": "863eaec4a97ce060",
   "execution_count": 41
  },
  {
   "cell_type": "code",
   "execution_count": 42,
   "id": "4bd9b0d96ee0f91d",
   "metadata": {
    "collapsed": false,
    "ExecuteTime": {
     "end_time": "2024-12-23T12:17:17.458867Z",
     "start_time": "2024-12-23T12:17:17.374264Z"
    }
   },
   "outputs": [
    {
     "data": {
      "text/plain": "   Unnamed: 0                        id             connectionTime  \\\n0           0  5e23b149f9af8b5fe4b973cf  2020-01-02 13:08:54+00:00   \n1           1  5e23b149f9af8b5fe4b973d0  2020-01-02 13:36:50+00:00   \n2           2  5e23b149f9af8b5fe4b973d1  2020-01-02 13:56:35+00:00   \n3           3  5e23b149f9af8b5fe4b973d2  2020-01-02 13:59:58+00:00   \n4           4  5e23b149f9af8b5fe4b973d3  2020-01-02 14:00:01+00:00   \n5           5  5e23b149f9af8b5fe4b973d4  2020-01-02 14:00:13+00:00   \n6           6  5e23b149f9af8b5fe4b973d5  2020-01-02 14:09:14+00:00   \n7           7  5e23b149f9af8b5fe4b973d6  2020-01-02 14:17:32+00:00   \n8           8  5e23b149f9af8b5fe4b973d7  2020-01-02 14:25:38+00:00   \n9           9  5e23b149f9af8b5fe4b973d8  2020-01-02 14:27:40+00:00   \n\n              disconnectTime           doneChargingTime  kWhDelivered  \\\n0  2020-01-02 19:11:15+00:00  2020-01-02 17:31:35+00:00        25.016   \n1  2020-01-02 22:38:21+00:00  2020-01-02 20:18:05+00:00        33.097   \n2  2020-01-03 00:39:22+00:00  2020-01-02 16:35:06+00:00         6.521   \n3  2020-01-02 16:38:39+00:00  2020-01-02 15:18:45+00:00         2.355   \n4  2020-01-02 22:08:40+00:00  2020-01-02 18:17:30+00:00        13.375   \n5  2020-01-02 23:00:41+00:00  2020-01-02 20:13:21+00:00        13.370   \n6  2020-01-03 01:57:58+00:00  2020-01-03 00:59:21+00:00        43.477   \n7  2020-01-03 00:44:54+00:00  2020-01-02 20:22:40+00:00        32.441   \n8  2020-01-02 19:36:05+00:00  2020-01-02 18:38:39+00:00        13.264   \n9  2020-01-02 20:01:48+00:00  2020-01-02 19:17:46+00:00        13.285   \n\n                                sessionID  siteID  spaceID    stationID  \\\n0  1_1_179_810_2020-01-02 13:08:53.870034       1  AG-3F30  1-1-179-810   \n1  1_1_193_825_2020-01-02 13:36:49.599853       1  AG-1F01  1-1-193-825   \n2  1_1_193_829_2020-01-02 13:56:35.214993       1  AG-1F03  1-1-193-829   \n3  1_1_193_820_2020-01-02 13:59:58.309319       1  AG-1F04  1-1-193-820   \n4  1_1_193_819_2020-01-02 14:00:00.779967       1  AG-1F06  1-1-193-819   \n5  1_1_194_821_2020-01-02 14:00:05.241573       1  AG-1F13  1-1-194-821   \n6  1_1_178_817_2020-01-02 14:09:14.451827       1  AG-1F09  1-1-178-817   \n7  1_1_191_804_2020-01-02 14:17:32.329535       1  AG-4F34  1-1-191-804   \n8  1_1_194_826_2020-01-02 14:25:37.578692       1  AG-1F11  1-1-194-826   \n9  1_1_178_823_2020-01-02 14:27:39.582337       1  AG-1F08  1-1-178-823   \n\n              timezone  userID  \\\n0  America/Los_Angeles   194.0   \n1  America/Los_Angeles  4275.0   \n2  America/Los_Angeles   344.0   \n3  America/Los_Angeles  1117.0   \n4  America/Los_Angeles   334.0   \n5  America/Los_Angeles  3519.0   \n6  America/Los_Angeles   933.0   \n7  America/Los_Angeles  3737.0   \n8  America/Los_Angeles   419.0   \n9  America/Los_Angeles   651.0   \n\n                                          userInputs  \n0  [{'WhPerMile': 250, 'kWhRequested': 25.0, 'mil...  \n1  [{'WhPerMile': 280, 'kWhRequested': 70.0, 'mil...  \n2  [{'WhPerMile': 400, 'kWhRequested': 8.0, 'mile...  \n3  [{'WhPerMile': 400, 'kWhRequested': 8.0, 'mile...  \n4  [{'WhPerMile': 400, 'kWhRequested': 16.0, 'mil...  \n5  [{'WhPerMile': 600, 'kWhRequested': 24.0, 'mil...  \n6  [{'WhPerMile': 385, 'kWhRequested': 65.45, 'mi...  \n7  [{'WhPerMile': 300, 'kWhRequested': 45.0, 'mil...  \n8  [{'WhPerMile': 400, 'kWhRequested': 40.0, 'mil...  \n9  [{'WhPerMile': 400, 'kWhRequested': 20.0, 'mil...  ",
      "text/html": "<div>\n<style scoped>\n    .dataframe tbody tr th:only-of-type {\n        vertical-align: middle;\n    }\n\n    .dataframe tbody tr th {\n        vertical-align: top;\n    }\n\n    .dataframe thead th {\n        text-align: right;\n    }\n</style>\n<table border=\"1\" class=\"dataframe\">\n  <thead>\n    <tr style=\"text-align: right;\">\n      <th></th>\n      <th>Unnamed: 0</th>\n      <th>id</th>\n      <th>connectionTime</th>\n      <th>disconnectTime</th>\n      <th>doneChargingTime</th>\n      <th>kWhDelivered</th>\n      <th>sessionID</th>\n      <th>siteID</th>\n      <th>spaceID</th>\n      <th>stationID</th>\n      <th>timezone</th>\n      <th>userID</th>\n      <th>userInputs</th>\n    </tr>\n  </thead>\n  <tbody>\n    <tr>\n      <th>0</th>\n      <td>0</td>\n      <td>5e23b149f9af8b5fe4b973cf</td>\n      <td>2020-01-02 13:08:54+00:00</td>\n      <td>2020-01-02 19:11:15+00:00</td>\n      <td>2020-01-02 17:31:35+00:00</td>\n      <td>25.016</td>\n      <td>1_1_179_810_2020-01-02 13:08:53.870034</td>\n      <td>1</td>\n      <td>AG-3F30</td>\n      <td>1-1-179-810</td>\n      <td>America/Los_Angeles</td>\n      <td>194.0</td>\n      <td>[{'WhPerMile': 250, 'kWhRequested': 25.0, 'mil...</td>\n    </tr>\n    <tr>\n      <th>1</th>\n      <td>1</td>\n      <td>5e23b149f9af8b5fe4b973d0</td>\n      <td>2020-01-02 13:36:50+00:00</td>\n      <td>2020-01-02 22:38:21+00:00</td>\n      <td>2020-01-02 20:18:05+00:00</td>\n      <td>33.097</td>\n      <td>1_1_193_825_2020-01-02 13:36:49.599853</td>\n      <td>1</td>\n      <td>AG-1F01</td>\n      <td>1-1-193-825</td>\n      <td>America/Los_Angeles</td>\n      <td>4275.0</td>\n      <td>[{'WhPerMile': 280, 'kWhRequested': 70.0, 'mil...</td>\n    </tr>\n    <tr>\n      <th>2</th>\n      <td>2</td>\n      <td>5e23b149f9af8b5fe4b973d1</td>\n      <td>2020-01-02 13:56:35+00:00</td>\n      <td>2020-01-03 00:39:22+00:00</td>\n      <td>2020-01-02 16:35:06+00:00</td>\n      <td>6.521</td>\n      <td>1_1_193_829_2020-01-02 13:56:35.214993</td>\n      <td>1</td>\n      <td>AG-1F03</td>\n      <td>1-1-193-829</td>\n      <td>America/Los_Angeles</td>\n      <td>344.0</td>\n      <td>[{'WhPerMile': 400, 'kWhRequested': 8.0, 'mile...</td>\n    </tr>\n    <tr>\n      <th>3</th>\n      <td>3</td>\n      <td>5e23b149f9af8b5fe4b973d2</td>\n      <td>2020-01-02 13:59:58+00:00</td>\n      <td>2020-01-02 16:38:39+00:00</td>\n      <td>2020-01-02 15:18:45+00:00</td>\n      <td>2.355</td>\n      <td>1_1_193_820_2020-01-02 13:59:58.309319</td>\n      <td>1</td>\n      <td>AG-1F04</td>\n      <td>1-1-193-820</td>\n      <td>America/Los_Angeles</td>\n      <td>1117.0</td>\n      <td>[{'WhPerMile': 400, 'kWhRequested': 8.0, 'mile...</td>\n    </tr>\n    <tr>\n      <th>4</th>\n      <td>4</td>\n      <td>5e23b149f9af8b5fe4b973d3</td>\n      <td>2020-01-02 14:00:01+00:00</td>\n      <td>2020-01-02 22:08:40+00:00</td>\n      <td>2020-01-02 18:17:30+00:00</td>\n      <td>13.375</td>\n      <td>1_1_193_819_2020-01-02 14:00:00.779967</td>\n      <td>1</td>\n      <td>AG-1F06</td>\n      <td>1-1-193-819</td>\n      <td>America/Los_Angeles</td>\n      <td>334.0</td>\n      <td>[{'WhPerMile': 400, 'kWhRequested': 16.0, 'mil...</td>\n    </tr>\n    <tr>\n      <th>5</th>\n      <td>5</td>\n      <td>5e23b149f9af8b5fe4b973d4</td>\n      <td>2020-01-02 14:00:13+00:00</td>\n      <td>2020-01-02 23:00:41+00:00</td>\n      <td>2020-01-02 20:13:21+00:00</td>\n      <td>13.370</td>\n      <td>1_1_194_821_2020-01-02 14:00:05.241573</td>\n      <td>1</td>\n      <td>AG-1F13</td>\n      <td>1-1-194-821</td>\n      <td>America/Los_Angeles</td>\n      <td>3519.0</td>\n      <td>[{'WhPerMile': 600, 'kWhRequested': 24.0, 'mil...</td>\n    </tr>\n    <tr>\n      <th>6</th>\n      <td>6</td>\n      <td>5e23b149f9af8b5fe4b973d5</td>\n      <td>2020-01-02 14:09:14+00:00</td>\n      <td>2020-01-03 01:57:58+00:00</td>\n      <td>2020-01-03 00:59:21+00:00</td>\n      <td>43.477</td>\n      <td>1_1_178_817_2020-01-02 14:09:14.451827</td>\n      <td>1</td>\n      <td>AG-1F09</td>\n      <td>1-1-178-817</td>\n      <td>America/Los_Angeles</td>\n      <td>933.0</td>\n      <td>[{'WhPerMile': 385, 'kWhRequested': 65.45, 'mi...</td>\n    </tr>\n    <tr>\n      <th>7</th>\n      <td>7</td>\n      <td>5e23b149f9af8b5fe4b973d6</td>\n      <td>2020-01-02 14:17:32+00:00</td>\n      <td>2020-01-03 00:44:54+00:00</td>\n      <td>2020-01-02 20:22:40+00:00</td>\n      <td>32.441</td>\n      <td>1_1_191_804_2020-01-02 14:17:32.329535</td>\n      <td>1</td>\n      <td>AG-4F34</td>\n      <td>1-1-191-804</td>\n      <td>America/Los_Angeles</td>\n      <td>3737.0</td>\n      <td>[{'WhPerMile': 300, 'kWhRequested': 45.0, 'mil...</td>\n    </tr>\n    <tr>\n      <th>8</th>\n      <td>8</td>\n      <td>5e23b149f9af8b5fe4b973d7</td>\n      <td>2020-01-02 14:25:38+00:00</td>\n      <td>2020-01-02 19:36:05+00:00</td>\n      <td>2020-01-02 18:38:39+00:00</td>\n      <td>13.264</td>\n      <td>1_1_194_826_2020-01-02 14:25:37.578692</td>\n      <td>1</td>\n      <td>AG-1F11</td>\n      <td>1-1-194-826</td>\n      <td>America/Los_Angeles</td>\n      <td>419.0</td>\n      <td>[{'WhPerMile': 400, 'kWhRequested': 40.0, 'mil...</td>\n    </tr>\n    <tr>\n      <th>9</th>\n      <td>9</td>\n      <td>5e23b149f9af8b5fe4b973d8</td>\n      <td>2020-01-02 14:27:40+00:00</td>\n      <td>2020-01-02 20:01:48+00:00</td>\n      <td>2020-01-02 19:17:46+00:00</td>\n      <td>13.285</td>\n      <td>1_1_178_823_2020-01-02 14:27:39.582337</td>\n      <td>1</td>\n      <td>AG-1F08</td>\n      <td>1-1-178-823</td>\n      <td>America/Los_Angeles</td>\n      <td>651.0</td>\n      <td>[{'WhPerMile': 400, 'kWhRequested': 20.0, 'mil...</td>\n    </tr>\n  </tbody>\n</table>\n</div>"
     },
     "execution_count": 42,
     "metadata": {},
     "output_type": "execute_result"
    }
   ],
   "source": [
    "charging_set.head(10)"
   ]
  },
  {
   "cell_type": "markdown",
   "id": "7c683e67-9dc3-4a3c-8a8b-8aca1cf5013f",
   "metadata": {},
   "source": [
    "# TODO\n",
    "\n",
    "- check validity of columns\n",
    "- check all columns for Na-values e.g. NaN, NaT\n",
    "- check all columns for wrong data types\n",
    "- check all columns for unidentified characters e.g. \"$\"\n",
    "\n",
    "Notes:\n",
    "- doneChargingtime has NaT values --> possible interpretation: EV is discconnected from charging hub before reaching 100% state of charge\n",
    "- what to do with IDs\n",
    "- userID has NaN values --> not all users are registered"
   ]
  },
  {
   "cell_type": "markdown",
   "id": "6338b195-ffc8-41d9-b994-520187f70038",
   "metadata": {},
   "source": [
    "# Data Cleanup\n",
    "\n",
    "## Step 1: check validity of columns\n",
    "\n",
    "- remove unnecessary \"unnamed\" column\n",
    "- \"sesionID\" = combination of \"id\"\n",
    "- check ranges of columns -->"
   ]
  },
  {
   "cell_type": "code",
   "execution_count": 56,
   "id": "f5e18851-cf2e-4ae7-aa0f-8b4d11f1ceea",
   "metadata": {
    "ExecuteTime": {
     "end_time": "2024-12-23T12:38:10.623060Z",
     "start_time": "2024-12-23T12:38:10.471447Z"
    }
   },
   "outputs": [
    {
     "data": {
      "text/plain": "                         id             connectionTime  \\\n0  5e23b149f9af8b5fe4b973cf  2020-01-02 13:08:54+00:00   \n1  5e23b149f9af8b5fe4b973d0  2020-01-02 13:36:50+00:00   \n2  5e23b149f9af8b5fe4b973d1  2020-01-02 13:56:35+00:00   \n\n              disconnectTime           doneChargingTime  kWhDelivered  siteID  \\\n0  2020-01-02 19:11:15+00:00  2020-01-02 17:31:35+00:00        25.016       1   \n1  2020-01-02 22:38:21+00:00  2020-01-02 20:18:05+00:00        33.097       1   \n2  2020-01-03 00:39:22+00:00  2020-01-02 16:35:06+00:00         6.521       1   \n\n   spaceID    stationID             timezone  userID  \\\n0  AG-3F30  1-1-179-810  America/Los_Angeles   194.0   \n1  AG-1F01  1-1-193-825  America/Los_Angeles  4275.0   \n2  AG-1F03  1-1-193-829  America/Los_Angeles   344.0   \n\n                                          userInputs  \n0  [{'WhPerMile': 250, 'kWhRequested': 25.0, 'mil...  \n1  [{'WhPerMile': 280, 'kWhRequested': 70.0, 'mil...  \n2  [{'WhPerMile': 400, 'kWhRequested': 8.0, 'mile...  ",
      "text/html": "<div>\n<style scoped>\n    .dataframe tbody tr th:only-of-type {\n        vertical-align: middle;\n    }\n\n    .dataframe tbody tr th {\n        vertical-align: top;\n    }\n\n    .dataframe thead th {\n        text-align: right;\n    }\n</style>\n<table border=\"1\" class=\"dataframe\">\n  <thead>\n    <tr style=\"text-align: right;\">\n      <th></th>\n      <th>id</th>\n      <th>connectionTime</th>\n      <th>disconnectTime</th>\n      <th>doneChargingTime</th>\n      <th>kWhDelivered</th>\n      <th>siteID</th>\n      <th>spaceID</th>\n      <th>stationID</th>\n      <th>timezone</th>\n      <th>userID</th>\n      <th>userInputs</th>\n    </tr>\n  </thead>\n  <tbody>\n    <tr>\n      <th>0</th>\n      <td>5e23b149f9af8b5fe4b973cf</td>\n      <td>2020-01-02 13:08:54+00:00</td>\n      <td>2020-01-02 19:11:15+00:00</td>\n      <td>2020-01-02 17:31:35+00:00</td>\n      <td>25.016</td>\n      <td>1</td>\n      <td>AG-3F30</td>\n      <td>1-1-179-810</td>\n      <td>America/Los_Angeles</td>\n      <td>194.0</td>\n      <td>[{'WhPerMile': 250, 'kWhRequested': 25.0, 'mil...</td>\n    </tr>\n    <tr>\n      <th>1</th>\n      <td>5e23b149f9af8b5fe4b973d0</td>\n      <td>2020-01-02 13:36:50+00:00</td>\n      <td>2020-01-02 22:38:21+00:00</td>\n      <td>2020-01-02 20:18:05+00:00</td>\n      <td>33.097</td>\n      <td>1</td>\n      <td>AG-1F01</td>\n      <td>1-1-193-825</td>\n      <td>America/Los_Angeles</td>\n      <td>4275.0</td>\n      <td>[{'WhPerMile': 280, 'kWhRequested': 70.0, 'mil...</td>\n    </tr>\n    <tr>\n      <th>2</th>\n      <td>5e23b149f9af8b5fe4b973d1</td>\n      <td>2020-01-02 13:56:35+00:00</td>\n      <td>2020-01-03 00:39:22+00:00</td>\n      <td>2020-01-02 16:35:06+00:00</td>\n      <td>6.521</td>\n      <td>1</td>\n      <td>AG-1F03</td>\n      <td>1-1-193-829</td>\n      <td>America/Los_Angeles</td>\n      <td>344.0</td>\n      <td>[{'WhPerMile': 400, 'kWhRequested': 8.0, 'mile...</td>\n    </tr>\n  </tbody>\n</table>\n</div>"
     },
     "execution_count": 56,
     "metadata": {},
     "output_type": "execute_result"
    }
   ],
   "source": [
    "# remove irrelevant columns\n",
    "charging_set.drop('Unnamed: 0', axis=1, inplace=True)\n",
    "charging_set.drop('sessionID', axis=1, inplace=True) # does not bring relevant information for our analysis\n",
    "charging_set.head(3)"
   ]
  },
  {
   "cell_type": "code",
   "outputs": [],
   "source": [
    "# split userInputs into own columns\n"
   ],
   "metadata": {
    "collapsed": false
   },
   "id": "a9b08dd3585a977c"
  },
  {
   "cell_type": "code",
   "outputs": [
    {
     "name": "stdout",
     "output_type": "stream",
     "text": [
      "sum of duplicates: 1413\n"
     ]
    },
    {
     "data": {
      "text/plain": "                             id             connectionTime  \\\n0      5e23b149f9af8b5fe4b973cf  2020-01-02 13:08:54+00:00   \n1      5e23b149f9af8b5fe4b973d0  2020-01-02 13:36:50+00:00   \n2      5e23b149f9af8b5fe4b973d1  2020-01-02 13:56:35+00:00   \n3      5e23b149f9af8b5fe4b973d2  2020-01-02 13:59:58+00:00   \n4      5e23b149f9af8b5fe4b973d3  2020-01-02 14:00:01+00:00   \n...                         ...                        ...   \n65032  5d2fbdd3f9af8b4d0dd0d54a  2019-07-01 21:49:12+00:00   \n65033  5d2fbdd3f9af8b4d0dd0d54b  2019-07-01 21:58:45+00:00   \n65034  5d2fbdd3f9af8b4d0dd0d54c  2019-07-01 22:02:21+00:00   \n65035  5d2fbdd3f9af8b4d0dd0d54d  2019-07-01 22:23:44+00:00   \n65036  5d2fbdd3f9af8b4d0dd0d54e  2019-07-01 22:36:08+00:00   \n\n                  disconnectTime           doneChargingTime  kWhDelivered  \\\n0      2020-01-02 19:11:15+00:00  2020-01-02 17:31:35+00:00        25.016   \n1      2020-01-02 22:38:21+00:00  2020-01-02 20:18:05+00:00        33.097   \n2      2020-01-03 00:39:22+00:00  2020-01-02 16:35:06+00:00         6.521   \n3      2020-01-02 16:38:39+00:00  2020-01-02 15:18:45+00:00         2.355   \n4      2020-01-02 22:08:40+00:00  2020-01-02 18:17:30+00:00        13.375   \n...                          ...                        ...           ...   \n65032  2019-07-02 01:37:18+00:00  2019-07-01 23:14:33+00:00         8.399   \n65033  2019-07-02 00:39:48+00:00  2019-07-02 00:40:21+00:00        16.864   \n65034  2019-07-02 00:58:50+00:00  2019-07-02 00:59:23+00:00        18.335   \n65035  2019-07-02 02:03:36+00:00  2019-07-02 02:04:06+00:00        22.815   \n65036  2019-07-02 01:10:52+00:00  2019-07-02 00:24:32+00:00        10.241   \n\n       siteID  spaceID    stationID             timezone  userID  \\\n0           1  AG-3F30  1-1-179-810  America/Los_Angeles   194.0   \n1           1  AG-1F01  1-1-193-825  America/Los_Angeles  4275.0   \n2           1  AG-1F03  1-1-193-829  America/Los_Angeles   344.0   \n3           1  AG-1F04  1-1-193-820  America/Los_Angeles  1117.0   \n4           1  AG-1F06  1-1-193-819  America/Los_Angeles   334.0   \n...       ...      ...          ...                  ...     ...   \n65032       1  AG-3F18  1-1-179-798  America/Los_Angeles  1346.0   \n65033       1  AG-3F20  1-1-179-794  America/Los_Angeles   364.0   \n65034       1  AG-4F47  1-1-191-807  America/Los_Angeles  2050.0   \n65035       1  AG-3F31  1-1-179-781  America/Los_Angeles  1626.0   \n65036       1  AG-1F06  1-1-193-819  America/Los_Angeles  2299.0   \n\n                                              userInputs  \n0      [{'WhPerMile': 250, 'kWhRequested': 25.0, 'mil...  \n1      [{'WhPerMile': 280, 'kWhRequested': 70.0, 'mil...  \n2      [{'WhPerMile': 400, 'kWhRequested': 8.0, 'mile...  \n3      [{'WhPerMile': 400, 'kWhRequested': 8.0, 'mile...  \n4      [{'WhPerMile': 400, 'kWhRequested': 16.0, 'mil...  \n...                                                  ...  \n65032  [{'WhPerMile': 400, 'kWhRequested': 32.0, 'mil...  \n65033  [{'WhPerMile': 400, 'kWhRequested': 40.0, 'mil...  \n65034  [{'WhPerMile': 333, 'kWhRequested': 29.97, 'mi...  \n65035  [{'WhPerMile': 200, 'kWhRequested': 34.0, 'mil...  \n65036  [{'WhPerMile': 333, 'kWhRequested': 16.65, 'mi...  \n\n[65037 rows x 11 columns]",
      "text/html": "<div>\n<style scoped>\n    .dataframe tbody tr th:only-of-type {\n        vertical-align: middle;\n    }\n\n    .dataframe tbody tr th {\n        vertical-align: top;\n    }\n\n    .dataframe thead th {\n        text-align: right;\n    }\n</style>\n<table border=\"1\" class=\"dataframe\">\n  <thead>\n    <tr style=\"text-align: right;\">\n      <th></th>\n      <th>id</th>\n      <th>connectionTime</th>\n      <th>disconnectTime</th>\n      <th>doneChargingTime</th>\n      <th>kWhDelivered</th>\n      <th>siteID</th>\n      <th>spaceID</th>\n      <th>stationID</th>\n      <th>timezone</th>\n      <th>userID</th>\n      <th>userInputs</th>\n    </tr>\n  </thead>\n  <tbody>\n    <tr>\n      <th>0</th>\n      <td>5e23b149f9af8b5fe4b973cf</td>\n      <td>2020-01-02 13:08:54+00:00</td>\n      <td>2020-01-02 19:11:15+00:00</td>\n      <td>2020-01-02 17:31:35+00:00</td>\n      <td>25.016</td>\n      <td>1</td>\n      <td>AG-3F30</td>\n      <td>1-1-179-810</td>\n      <td>America/Los_Angeles</td>\n      <td>194.0</td>\n      <td>[{'WhPerMile': 250, 'kWhRequested': 25.0, 'mil...</td>\n    </tr>\n    <tr>\n      <th>1</th>\n      <td>5e23b149f9af8b5fe4b973d0</td>\n      <td>2020-01-02 13:36:50+00:00</td>\n      <td>2020-01-02 22:38:21+00:00</td>\n      <td>2020-01-02 20:18:05+00:00</td>\n      <td>33.097</td>\n      <td>1</td>\n      <td>AG-1F01</td>\n      <td>1-1-193-825</td>\n      <td>America/Los_Angeles</td>\n      <td>4275.0</td>\n      <td>[{'WhPerMile': 280, 'kWhRequested': 70.0, 'mil...</td>\n    </tr>\n    <tr>\n      <th>2</th>\n      <td>5e23b149f9af8b5fe4b973d1</td>\n      <td>2020-01-02 13:56:35+00:00</td>\n      <td>2020-01-03 00:39:22+00:00</td>\n      <td>2020-01-02 16:35:06+00:00</td>\n      <td>6.521</td>\n      <td>1</td>\n      <td>AG-1F03</td>\n      <td>1-1-193-829</td>\n      <td>America/Los_Angeles</td>\n      <td>344.0</td>\n      <td>[{'WhPerMile': 400, 'kWhRequested': 8.0, 'mile...</td>\n    </tr>\n    <tr>\n      <th>3</th>\n      <td>5e23b149f9af8b5fe4b973d2</td>\n      <td>2020-01-02 13:59:58+00:00</td>\n      <td>2020-01-02 16:38:39+00:00</td>\n      <td>2020-01-02 15:18:45+00:00</td>\n      <td>2.355</td>\n      <td>1</td>\n      <td>AG-1F04</td>\n      <td>1-1-193-820</td>\n      <td>America/Los_Angeles</td>\n      <td>1117.0</td>\n      <td>[{'WhPerMile': 400, 'kWhRequested': 8.0, 'mile...</td>\n    </tr>\n    <tr>\n      <th>4</th>\n      <td>5e23b149f9af8b5fe4b973d3</td>\n      <td>2020-01-02 14:00:01+00:00</td>\n      <td>2020-01-02 22:08:40+00:00</td>\n      <td>2020-01-02 18:17:30+00:00</td>\n      <td>13.375</td>\n      <td>1</td>\n      <td>AG-1F06</td>\n      <td>1-1-193-819</td>\n      <td>America/Los_Angeles</td>\n      <td>334.0</td>\n      <td>[{'WhPerMile': 400, 'kWhRequested': 16.0, 'mil...</td>\n    </tr>\n    <tr>\n      <th>...</th>\n      <td>...</td>\n      <td>...</td>\n      <td>...</td>\n      <td>...</td>\n      <td>...</td>\n      <td>...</td>\n      <td>...</td>\n      <td>...</td>\n      <td>...</td>\n      <td>...</td>\n      <td>...</td>\n    </tr>\n    <tr>\n      <th>65032</th>\n      <td>5d2fbdd3f9af8b4d0dd0d54a</td>\n      <td>2019-07-01 21:49:12+00:00</td>\n      <td>2019-07-02 01:37:18+00:00</td>\n      <td>2019-07-01 23:14:33+00:00</td>\n      <td>8.399</td>\n      <td>1</td>\n      <td>AG-3F18</td>\n      <td>1-1-179-798</td>\n      <td>America/Los_Angeles</td>\n      <td>1346.0</td>\n      <td>[{'WhPerMile': 400, 'kWhRequested': 32.0, 'mil...</td>\n    </tr>\n    <tr>\n      <th>65033</th>\n      <td>5d2fbdd3f9af8b4d0dd0d54b</td>\n      <td>2019-07-01 21:58:45+00:00</td>\n      <td>2019-07-02 00:39:48+00:00</td>\n      <td>2019-07-02 00:40:21+00:00</td>\n      <td>16.864</td>\n      <td>1</td>\n      <td>AG-3F20</td>\n      <td>1-1-179-794</td>\n      <td>America/Los_Angeles</td>\n      <td>364.0</td>\n      <td>[{'WhPerMile': 400, 'kWhRequested': 40.0, 'mil...</td>\n    </tr>\n    <tr>\n      <th>65034</th>\n      <td>5d2fbdd3f9af8b4d0dd0d54c</td>\n      <td>2019-07-01 22:02:21+00:00</td>\n      <td>2019-07-02 00:58:50+00:00</td>\n      <td>2019-07-02 00:59:23+00:00</td>\n      <td>18.335</td>\n      <td>1</td>\n      <td>AG-4F47</td>\n      <td>1-1-191-807</td>\n      <td>America/Los_Angeles</td>\n      <td>2050.0</td>\n      <td>[{'WhPerMile': 333, 'kWhRequested': 29.97, 'mi...</td>\n    </tr>\n    <tr>\n      <th>65035</th>\n      <td>5d2fbdd3f9af8b4d0dd0d54d</td>\n      <td>2019-07-01 22:23:44+00:00</td>\n      <td>2019-07-02 02:03:36+00:00</td>\n      <td>2019-07-02 02:04:06+00:00</td>\n      <td>22.815</td>\n      <td>1</td>\n      <td>AG-3F31</td>\n      <td>1-1-179-781</td>\n      <td>America/Los_Angeles</td>\n      <td>1626.0</td>\n      <td>[{'WhPerMile': 200, 'kWhRequested': 34.0, 'mil...</td>\n    </tr>\n    <tr>\n      <th>65036</th>\n      <td>5d2fbdd3f9af8b4d0dd0d54e</td>\n      <td>2019-07-01 22:36:08+00:00</td>\n      <td>2019-07-02 01:10:52+00:00</td>\n      <td>2019-07-02 00:24:32+00:00</td>\n      <td>10.241</td>\n      <td>1</td>\n      <td>AG-1F06</td>\n      <td>1-1-193-819</td>\n      <td>America/Los_Angeles</td>\n      <td>2299.0</td>\n      <td>[{'WhPerMile': 333, 'kWhRequested': 16.65, 'mi...</td>\n    </tr>\n  </tbody>\n</table>\n<p>65037 rows × 11 columns</p>\n</div>"
     },
     "execution_count": 59,
     "metadata": {},
     "output_type": "execute_result"
    }
   ],
   "source": [
    "# check for duplicates\n",
    "duplicate_counter = charging_set.duplicated().sum()\n",
    "duplicates = charging_set[charging_set.duplicated()]\n",
    "print(\"sum of duplicates:\", duplicate_counter)\n",
    "charging_set.drop_duplicates()\n"
   ],
   "metadata": {
    "collapsed": false,
    "ExecuteTime": {
     "end_time": "2024-12-23T12:39:32.398507Z",
     "start_time": "2024-12-23T12:39:31.862458Z"
    }
   },
   "id": "74d6638dd49554a4",
   "execution_count": 59
  },
  {
   "cell_type": "code",
   "outputs": [
    {
     "name": "stdout",
     "output_type": "stream",
     "text": [
      "Feature: userID, Count of NaN-Values: 17263\n",
      "Feature: userInputs, Count of NaN-Values: 17263\n",
      "Feature: doneChargingTime, Count of NaN-Values: 4088\n",
      "Feature: disconnectTime, Count of NaN-Values: 0\n",
      "Feature: connectionTime, Count of NaN-Values: 0\n",
      "Feature: id, Count of NaN-Values: 0\n",
      "Feature: kWhDelivered, Count of NaN-Values: 0\n",
      "Feature: spaceID, Count of NaN-Values: 0\n",
      "Feature: siteID, Count of NaN-Values: 0\n",
      "Feature: timezone, Count of NaN-Values: 0\n",
      "Feature: stationID, Count of NaN-Values: 0\n"
     ]
    }
   ],
   "source": [
    "# check for none-values\n",
    "nan_counts = charging_set.isna().sum()\n",
    "nan_counts_sorted = nan_counts.sort_values(ascending=False)\n",
    "\n",
    "for column, count in nan_counts_sorted.items():\n",
    "    print(f\"Feature: {column}, Count of NaN-Values: {count}\")"
   ],
   "metadata": {
    "collapsed": false,
    "ExecuteTime": {
     "end_time": "2024-12-23T13:06:07.695271Z",
     "start_time": "2024-12-23T13:06:07.678066Z"
    }
   },
   "id": "5aba7030b49abcb",
   "execution_count": 60
  },
  {
   "cell_type": "code",
   "outputs": [
    {
     "name": "stdout",
     "output_type": "stream",
     "text": [
      "id types: [<class 'str'>]\n",
      "connectionTime types: [<class 'str'>]\n",
      "disconnectTime types: [<class 'str'>]\n",
      "doneChargingTime types: [<class 'str'> <class 'float'>]\n",
      "kWhDelivered types: [<class 'float'>]\n",
      "siteID types: [<class 'int'>]\n",
      "spaceID types: [<class 'str'>]\n",
      "stationID types: [<class 'str'>]\n",
      "timezone types: [<class 'str'>]\n",
      "userID types: [<class 'float'>]\n",
      "userInputs types: [<class 'str'> <class 'float'>]\n"
     ]
    }
   ],
   "source": [
    "### check data types of each column\n",
    "# Find the unique types\n",
    "id_types = charging_set[\"id\"].apply(type).unique()\n",
    "connectionTime_types = charging_set[\"connectionTime\"].apply(type).unique()\n",
    "disconnectTime_types = charging_set[\"disconnectTime\"].apply(type).unique()\n",
    "doneChargingTime_types = charging_set[\"doneChargingTime\"].apply(type).unique()\n",
    "kWhDelivered_types = charging_set[\"kWhDelivered\"].apply(type).unique()\n",
    "siteID_types = charging_set[\"siteID\"].apply(type).unique()\n",
    "spaceID_types = charging_set[\"spaceID\"].apply(type).unique()\n",
    "stationID_types = charging_set[\"stationID\"].apply(type).unique()\n",
    "timezone_types = charging_set[\"timezone\"].apply(type).unique()\n",
    "userID_types = charging_set[\"userID\"].apply(type).unique()\n",
    "userInputs_types = charging_set[\"userInputs\"].apply(type).unique()\n",
    "\n",
    "# Print the unique types\n",
    "print(\"id types:\", id_types)\n",
    "print(\"connectionTime types:\", connectionTime_types)\n",
    "print(\"disconnectTime types:\", disconnectTime_types)\n",
    "print(\"doneChargingTime types:\", doneChargingTime_types)\n",
    "print(\"kWhDelivered types:\", kWhDelivered_types)\n",
    "print(\"siteID types:\", siteID_types)\n",
    "print(\"spaceID types:\", spaceID_types)\n",
    "print(\"stationID types:\", stationID_types)\n",
    "print(\"timezone types:\", timezone_types)\n",
    "print(\"userID types:\", userID_types)\n",
    "print(\"userInputs types:\", userInputs_types)"
   ],
   "metadata": {
    "collapsed": false,
    "ExecuteTime": {
     "end_time": "2024-12-23T12:32:21.953776Z",
     "start_time": "2024-12-23T12:32:21.786929Z"
    }
   },
   "id": "6fc3854cf1daa082",
   "execution_count": 54
  },
  {
   "cell_type": "code",
   "execution_count": 51,
   "id": "ec1a12c7-7195-4a9a-a12d-4e853e972475",
   "metadata": {
    "ExecuteTime": {
     "end_time": "2024-12-23T12:28:11.764838Z",
     "start_time": "2024-12-23T12:28:11.236044Z"
    }
   },
   "outputs": [
    {
     "name": "stdout",
     "output_type": "stream",
     "text": [
      "id data range: ['5bc90cb9f9af8b0d7fe77cd2' '5bc90cb9f9af8b0d7fe77cd3'\n",
      " '5bc90cb9f9af8b0d7fe77cd4' ... '6155053bf9af8b76960e16cf'\n",
      " '6155053bf9af8b76960e16d0' '6155053bf9af8b76960e16d1']\n",
      "connectionTime data range: ['2018-04-25 11:08:04+00:00' '2018-04-25 13:45:10+00:00'\n",
      " '2018-04-25 13:45:50+00:00' ... '2021-09-14 01:08:16+00:00'\n",
      " '2021-09-14 01:52:37+00:00' '2021-09-14 05:43:39+00:00']\n",
      "disconnectTime data range: ['2018-04-25 13:20:10+00:00' '2018-04-25 18:15:46+00:00'\n",
      " '2018-04-25 18:27:51+00:00' ... '2021-09-14 03:05:10+00:00'\n",
      " '2021-09-14 03:17:55+00:00' '2021-09-14 14:46:28+00:00']\n"
     ]
    },
    {
     "ename": "TypeError",
     "evalue": "'<' not supported between instances of 'float' and 'str'",
     "output_type": "error",
     "traceback": [
      "\u001B[0;31m---------------------------------------------------------------------------\u001B[0m",
      "\u001B[0;31mTypeError\u001B[0m                                 Traceback (most recent call last)",
      "Cell \u001B[0;32mIn[51], line 5\u001B[0m\n\u001B[1;32m      3\u001B[0m \u001B[38;5;28mprint\u001B[39m(\u001B[38;5;124m\"\u001B[39m\u001B[38;5;124mconnectionTime data range:\u001B[39m\u001B[38;5;124m\"\u001B[39m, np\u001B[38;5;241m.\u001B[39msort(charging_set[\u001B[38;5;124m\"\u001B[39m\u001B[38;5;124mconnectionTime\u001B[39m\u001B[38;5;124m\"\u001B[39m]\u001B[38;5;241m.\u001B[39munique()))\n\u001B[1;32m      4\u001B[0m \u001B[38;5;28mprint\u001B[39m(\u001B[38;5;124m\"\u001B[39m\u001B[38;5;124mdisconnectTime data range:\u001B[39m\u001B[38;5;124m\"\u001B[39m, np\u001B[38;5;241m.\u001B[39msort(charging_set[\u001B[38;5;124m\"\u001B[39m\u001B[38;5;124mdisconnectTime\u001B[39m\u001B[38;5;124m\"\u001B[39m]\u001B[38;5;241m.\u001B[39munique()))\n\u001B[0;32m----> 5\u001B[0m \u001B[38;5;28mprint\u001B[39m(\u001B[38;5;124m\"\u001B[39m\u001B[38;5;124mdoneChargingTime data range:\u001B[39m\u001B[38;5;124m\"\u001B[39m, \u001B[43mnp\u001B[49m\u001B[38;5;241;43m.\u001B[39;49m\u001B[43msort\u001B[49m\u001B[43m(\u001B[49m\u001B[43mcharging_set\u001B[49m\u001B[43m[\u001B[49m\u001B[38;5;124;43m\"\u001B[39;49m\u001B[38;5;124;43mdoneChargingTime\u001B[39;49m\u001B[38;5;124;43m\"\u001B[39;49m\u001B[43m]\u001B[49m\u001B[38;5;241;43m.\u001B[39;49m\u001B[43munique\u001B[49m\u001B[43m(\u001B[49m\u001B[43m)\u001B[49m\u001B[43m)\u001B[49m)\n\u001B[1;32m      6\u001B[0m \u001B[38;5;28mprint\u001B[39m(\u001B[38;5;124m\"\u001B[39m\u001B[38;5;124mkWhDelivered data range:\u001B[39m\u001B[38;5;124m\"\u001B[39m, np\u001B[38;5;241m.\u001B[39msort(charging_set[\u001B[38;5;124m\"\u001B[39m\u001B[38;5;124mkWhDelivered\u001B[39m\u001B[38;5;124m\"\u001B[39m]\u001B[38;5;241m.\u001B[39munique()))\n\u001B[1;32m      7\u001B[0m \u001B[38;5;28mprint\u001B[39m(\u001B[38;5;124m\"\u001B[39m\u001B[38;5;124msessionID data range:\u001B[39m\u001B[38;5;124m\"\u001B[39m, np\u001B[38;5;241m.\u001B[39msort(charging_set[\u001B[38;5;124m\"\u001B[39m\u001B[38;5;124msessionID\u001B[39m\u001B[38;5;124m\"\u001B[39m]\u001B[38;5;241m.\u001B[39munique()))\n",
      "File \u001B[0;32m~/Desktop/UNI/_MASTER/semester_1/Analytics_&_Applications/GinyuForce/venv/lib/python3.9/site-packages/numpy/_core/fromnumeric.py:1077\u001B[0m, in \u001B[0;36msort\u001B[0;34m(a, axis, kind, order, stable)\u001B[0m\n\u001B[1;32m   1075\u001B[0m \u001B[38;5;28;01melse\u001B[39;00m:\n\u001B[1;32m   1076\u001B[0m     a \u001B[38;5;241m=\u001B[39m asanyarray(a)\u001B[38;5;241m.\u001B[39mcopy(order\u001B[38;5;241m=\u001B[39m\u001B[38;5;124m\"\u001B[39m\u001B[38;5;124mK\u001B[39m\u001B[38;5;124m\"\u001B[39m)\n\u001B[0;32m-> 1077\u001B[0m \u001B[43ma\u001B[49m\u001B[38;5;241;43m.\u001B[39;49m\u001B[43msort\u001B[49m\u001B[43m(\u001B[49m\u001B[43maxis\u001B[49m\u001B[38;5;241;43m=\u001B[39;49m\u001B[43maxis\u001B[49m\u001B[43m,\u001B[49m\u001B[43m \u001B[49m\u001B[43mkind\u001B[49m\u001B[38;5;241;43m=\u001B[39;49m\u001B[43mkind\u001B[49m\u001B[43m,\u001B[49m\u001B[43m \u001B[49m\u001B[43morder\u001B[49m\u001B[38;5;241;43m=\u001B[39;49m\u001B[43morder\u001B[49m\u001B[43m,\u001B[49m\u001B[43m \u001B[49m\u001B[43mstable\u001B[49m\u001B[38;5;241;43m=\u001B[39;49m\u001B[43mstable\u001B[49m\u001B[43m)\u001B[49m\n\u001B[1;32m   1078\u001B[0m \u001B[38;5;28;01mreturn\u001B[39;00m a\n",
      "\u001B[0;31mTypeError\u001B[0m: '<' not supported between instances of 'float' and 'str'"
     ]
    }
   ],
   "source": [
    "##### check ranges of column values\n",
    "print(\"id data range:\", np.sort(charging_set[\"id\"].unique()))\n",
    "print(\"connectionTime data range:\", np.sort(charging_set[\"connectionTime\"].unique()))\n",
    "print(\"disconnectTime data range:\", np.sort(charging_set[\"disconnectTime\"].unique()))\n",
    "print(\"doneChargingTime data range:\", np.sort(charging_set[\"doneChargingTime\"].unique()))\n",
    "print(\"kWhDelivered data range:\", np.sort(charging_set[\"kWhDelivered\"].unique()))\n",
    "print(\"sessionID data range:\", np.sort(charging_set[\"sessionID\"].unique()))\n",
    "print(\"siteID data range:\", np.sort(charging_set[\"siteID\"].unique()))\n",
    "print(\"spaceID data range:\", np.sort(charging_set[\"spaceID\"].unique()))\n",
    "print(\"stationID data range:\", np.sort(charging_set[\"stationID\"].unique()))\n",
    "print(\"timezone data range:\", np.sort(charging_set[\"timezone\"].unique()))\n",
    "print(\"userID data range:\", np.sort(charging_set[\"userID\"].unique()))\n",
    "print(\"userInputs data range:\", np.sort(charging_set[\"userInputs\"].unique()))\n",
    "print(\"connectionTime_date data range:\", np.sort(charging_set[\"connectionTime_date\"].unique()))\n",
    "print(\"connectionTime_time data range:\", np.sort(charging_set[\"connectionTime_time\"].unique()))\n",
    "print(\"disconnectTime_date data range:\", np.sort(charging_set[\"disconnectTime_date\"].unique()))\n",
    "print(\"disconnectTime_time data range:\", np.sort(charging_set[\"disconnectTime_time\"].unique()))\n",
    "print(\"doneChargingTime_date data range:\", np.sort(charging_set[\"doneChargingTime_date\"].unique()))\n",
    "print(\"doneChargingTime_time data range:\", np.sort(charging_set[\"doneChargingTime_time\"].unique()))"
   ]
  },
  {
   "cell_type": "markdown",
   "id": "94707c7d-6c0a-45e3-8f84-fefeff6624f1",
   "metadata": {},
   "source": [
    "Since the \"timezone\" column only has the value \"America/Los Angeles\", we can remove this column."
   ]
  },
  {
   "cell_type": "code",
   "execution_count": 11,
   "id": "fb00c952-8d0e-4908-bdc0-c7c088666d55",
   "metadata": {
    "ExecuteTime": {
     "end_time": "2024-12-22T16:24:12.315807Z",
     "start_time": "2024-12-22T16:24:12.295960Z"
    }
   },
   "outputs": [
    {
     "data": {
      "text/plain": "                         id             connectionTime  \\\n0  5e23b149f9af8b5fe4b973cf  2020-01-02 13:08:54+00:00   \n1  5e23b149f9af8b5fe4b973d0  2020-01-02 13:36:50+00:00   \n2  5e23b149f9af8b5fe4b973d1  2020-01-02 13:56:35+00:00   \n\n              disconnectTime           doneChargingTime  kWhDelivered  siteID  \\\n0  2020-01-02 19:11:15+00:00  2020-01-02 17:31:35+00:00        25.016       1   \n1  2020-01-02 22:38:21+00:00  2020-01-02 20:18:05+00:00        33.097       1   \n2  2020-01-03 00:39:22+00:00  2020-01-02 16:35:06+00:00         6.521       1   \n\n   spaceID    stationID  userID  \\\n0  AG-3F30  1-1-179-810   194.0   \n1  AG-1F01  1-1-193-825  4275.0   \n2  AG-1F03  1-1-193-829   344.0   \n\n                                          userInputs  \n0  [{'WhPerMile': 250, 'kWhRequested': 25.0, 'mil...  \n1  [{'WhPerMile': 280, 'kWhRequested': 70.0, 'mil...  \n2  [{'WhPerMile': 400, 'kWhRequested': 8.0, 'mile...  ",
      "text/html": "<div>\n<style scoped>\n    .dataframe tbody tr th:only-of-type {\n        vertical-align: middle;\n    }\n\n    .dataframe tbody tr th {\n        vertical-align: top;\n    }\n\n    .dataframe thead th {\n        text-align: right;\n    }\n</style>\n<table border=\"1\" class=\"dataframe\">\n  <thead>\n    <tr style=\"text-align: right;\">\n      <th></th>\n      <th>id</th>\n      <th>connectionTime</th>\n      <th>disconnectTime</th>\n      <th>doneChargingTime</th>\n      <th>kWhDelivered</th>\n      <th>siteID</th>\n      <th>spaceID</th>\n      <th>stationID</th>\n      <th>userID</th>\n      <th>userInputs</th>\n    </tr>\n  </thead>\n  <tbody>\n    <tr>\n      <th>0</th>\n      <td>5e23b149f9af8b5fe4b973cf</td>\n      <td>2020-01-02 13:08:54+00:00</td>\n      <td>2020-01-02 19:11:15+00:00</td>\n      <td>2020-01-02 17:31:35+00:00</td>\n      <td>25.016</td>\n      <td>1</td>\n      <td>AG-3F30</td>\n      <td>1-1-179-810</td>\n      <td>194.0</td>\n      <td>[{'WhPerMile': 250, 'kWhRequested': 25.0, 'mil...</td>\n    </tr>\n    <tr>\n      <th>1</th>\n      <td>5e23b149f9af8b5fe4b973d0</td>\n      <td>2020-01-02 13:36:50+00:00</td>\n      <td>2020-01-02 22:38:21+00:00</td>\n      <td>2020-01-02 20:18:05+00:00</td>\n      <td>33.097</td>\n      <td>1</td>\n      <td>AG-1F01</td>\n      <td>1-1-193-825</td>\n      <td>4275.0</td>\n      <td>[{'WhPerMile': 280, 'kWhRequested': 70.0, 'mil...</td>\n    </tr>\n    <tr>\n      <th>2</th>\n      <td>5e23b149f9af8b5fe4b973d1</td>\n      <td>2020-01-02 13:56:35+00:00</td>\n      <td>2020-01-03 00:39:22+00:00</td>\n      <td>2020-01-02 16:35:06+00:00</td>\n      <td>6.521</td>\n      <td>1</td>\n      <td>AG-1F03</td>\n      <td>1-1-193-829</td>\n      <td>344.0</td>\n      <td>[{'WhPerMile': 400, 'kWhRequested': 8.0, 'mile...</td>\n    </tr>\n  </tbody>\n</table>\n</div>"
     },
     "execution_count": 11,
     "metadata": {},
     "output_type": "execute_result"
    }
   ],
   "source": [
    "charging_set.drop('timezone', axis=1, inplace=True)\n",
    "charging_set.head(3)"
   ]
  },
  {
   "cell_type": "code",
   "execution_count": 12,
   "id": "937d2f0b-b086-4eff-b1f7-a34d63bd086e",
   "metadata": {
    "ExecuteTime": {
     "end_time": "2024-12-22T16:24:21.130135Z",
     "start_time": "2024-12-22T16:24:21.006141Z"
    }
   },
   "outputs": [
    {
     "name": "stdout",
     "output_type": "stream",
     "text": [
      "id types: [<class 'str'>]\n",
      "connectionTime types: [<class 'str'>]\n",
      "disconnectTime types: [<class 'str'>]\n",
      "doneChargingTime types: [<class 'str'> <class 'float'>]\n",
      "kWhDelivered types: [<class 'float'>]\n",
      "siteID types: [<class 'int'>]\n",
      "spaceID types: [<class 'str'>]\n",
      "stationID types: [<class 'str'>]\n",
      "userID types: [<class 'float'>]\n",
      "userInputs types: [<class 'str'> <class 'float'>]\n"
     ]
    }
   ],
   "source": []
  },
  {
   "cell_type": "markdown",
   "id": "ed938cfe-22fd-4458-ab73-a1cd58c47b87",
   "metadata": {},
   "source": [
    "Next step: analyze \"connectionTime\", \"disconnectTime\" and \"doneChargingTime\", since these columns should hold time-datatypes and not strings nor floats (except for NaN-values since these have the type float)."
   ]
  },
  {
   "cell_type": "markdown",
   "id": "76f55f12-a01b-4a05-82de-343f3a41f445",
   "metadata": {},
   "source": [
    "# Time Data Preparation/Feature Engineering (draft)\n",
    "\n",
    "For better data understanding and to improve data accessibility and interpretability, it is important to convert the current time data format into a human-readable time datatype. Currently the time related columns (\"connectionTime\", \"disconnectionTime\", \"doneChargingTime\") are formatted in the UTC format. To prepare the data for further interpretation we need to gather the relevant information. In this case the important information is the charging duration.\n",
    "\n",
    "To get the duration we divide each of the time related columns into separate date and datetime columns. With these columns, the difference between connecting the EV with the station (\"connectionTime\") and disconnecting the EV with the station (\"disconnectTime\") can be calculated and stored in a separate column (\"chargingDuration\").\n"
   ]
  },
  {
   "cell_type": "code",
   "execution_count": 14,
   "id": "aaad9ca0738a724d",
   "metadata": {
    "collapsed": false,
    "ExecuteTime": {
     "end_time": "2024-12-22T16:25:35.317093Z",
     "start_time": "2024-12-22T16:25:34.575986Z"
    }
   },
   "outputs": [],
   "source": [
    "### split connectionTime in separate day and time columns\n",
    "# Convert the column to datetime format\n",
    "charging_set['connectionTime'] = pd.to_datetime(charging_set['connectionTime'])\n",
    "\n",
    "# Create a new column for the date\n",
    "charging_set['connectionTime_date'] = charging_set['connectionTime'].dt.date\n",
    "\n",
    "# Create a new column for the time of the day\n",
    "charging_set['connectionTime_time'] = charging_set['connectionTime'].dt.time\n",
    "\n",
    "\n",
    "### split disconnectTime in separate day and time columns\n",
    "# Convert the column to datetime format\n",
    "charging_set['disconnectTime'] = pd.to_datetime(charging_set['disconnectTime'])\n",
    "\n",
    "# Create a new column for the date\n",
    "charging_set['disconnectTime_date'] = charging_set['disconnectTime'].dt.date\n",
    "\n",
    "# Create a new column for the time of the day\n",
    "charging_set['disconnectTime_time'] = charging_set['disconnectTime'].dt.time\n",
    "\n",
    "\n",
    "### split doneChargingTime in separate day and time columns\n",
    "# Convert the column to datetime format\n",
    "charging_set['doneChargingTime'] = pd.to_datetime(charging_set['doneChargingTime'])\n",
    "\n",
    "# Create a new column for the date\n",
    "charging_set['doneChargingTime_date'] = charging_set['doneChargingTime'].dt.date\n",
    "\n",
    "# Create a new column for the time of the day\n",
    "charging_set['doneChargingTime_time'] = charging_set['doneChargingTime'].dt.time"
   ]
  },
  {
   "cell_type": "code",
   "execution_count": 15,
   "id": "85789119",
   "metadata": {
    "ExecuteTime": {
     "end_time": "2024-12-22T16:25:36.896768Z",
     "start_time": "2024-12-22T16:25:36.804719Z"
    }
   },
   "outputs": [],
   "source": [
    "### convert date columns into separate year, month and day columns\n",
    "\n",
    "# Das muss rein, weil sonst kommt ein Fehler\n",
    "charging_set['connectionTime_date'] = pd.to_datetime(charging_set['connectionTime_date'])\n",
    "charging_set['disconnectTime_date'] = pd.to_datetime(charging_set['disconnectTime_date'])\n",
    "charging_set['doneChargingTime_date'] = pd.to_datetime(charging_set['doneChargingTime_date'])\n",
    "\n",
    "charging_set['connectionTime_year'] = charging_set['connectionTime_date'].dt.year\n",
    "charging_set['connectionTime_month'] = charging_set['connectionTime_date'].dt.month\n",
    "charging_set['connectionTime_day'] = charging_set['connectionTime_date'].dt.day\n",
    "\n",
    "charging_set['disconnectTime_year'] = charging_set['disconnectTime_date'].dt.year\n",
    "charging_set['disconnectTime_month'] = charging_set['disconnectTime_date'].dt.month\n",
    "charging_set['disconnectTime_day'] = charging_set['disconnectTime_date'].dt.day\n",
    "\n",
    "charging_set['doneChargingTime_year'] = charging_set['doneChargingTime_date'].dt.year\n",
    "charging_set['doneChargingTime_month'] = charging_set['doneChargingTime_date'].dt.month\n",
    "charging_set['doneChargingTime_day'] = charging_set['doneChargingTime_date'].dt.day"
   ]
  },
  {
   "cell_type": "code",
   "execution_count": 16,
   "id": "87a34429",
   "metadata": {
    "ExecuteTime": {
     "end_time": "2024-12-22T16:25:39.549223Z",
     "start_time": "2024-12-22T16:25:39.246972Z"
    }
   },
   "outputs": [],
   "source": [
    "def calculate_hours():\n",
    "    # Berechne die Ladezeit als Differenz zwischen disconnectTime und connectionTime\n",
    "    charging_set[\"chargingDurationTemp\"] = charging_set[\"disconnectTime\"] - charging_set[\"connectionTime\"]\n",
    "    \n",
    "    # Konvertiere die Differenz in Stunden\n",
    "    charging_set['chargingDuration'] = charging_set[\"chargingDurationTemp\"].apply(\n",
    "        lambda x: x.total_seconds() / 3600\n",
    "    )\n",
    "    \n",
    "    # Entferne die temporäre Spalte\n",
    "    charging_set.drop(columns=[\"chargingDurationTemp\"], inplace=True)\n",
    "    \n",
    "    return charging_set\n",
    "\n",
    "# Aufruf der Funktion\n",
    "charging_set = calculate_hours()"
   ]
  },
  {
   "cell_type": "code",
   "execution_count": 17,
   "id": "cc63cb18",
   "metadata": {
    "ExecuteTime": {
     "end_time": "2024-12-22T16:25:41.112872Z",
     "start_time": "2024-12-22T16:25:41.092758Z"
    }
   },
   "outputs": [],
   "source": [
    "# clean \"connectionTime\", \"disconnectTime\", \"doneChargingTime\" from dataframe\n",
    "charging_set = charging_set.drop(columns=[\"connectionTime\", \"disconnectTime\", \"doneChargingTime\"])"
   ]
  },
  {
   "cell_type": "code",
   "execution_count": 18,
   "id": "39e26240-6d28-49f5-8bce-edb7d400b761",
   "metadata": {
    "ExecuteTime": {
     "end_time": "2024-12-22T16:25:44.841169Z",
     "start_time": "2024-12-22T16:25:44.819123Z"
    }
   },
   "outputs": [],
   "source": [
    "### check column \"doneChargingTime\" for wrong datatype\n",
    "# hypothesis: all float values in this column are nan-values\n",
    "# Find the indices of float values in a column that should contain only strings\n",
    "# float_indices = [idx for idx, value in charging_set['doneChargingTime'].items() if isinstance(value, float) and not isinstance(value, str)]\n",
    "\n",
    "# Print the result\n",
    "# if float_indices:\n",
    "#     print(\"Indices of float values in column 'doneChargingTime' (all others should be strings):\", float_indices)\n",
    "# else:\n",
    "#     print(\"No float values found in the column.\")"
   ]
  },
  {
   "cell_type": "code",
   "execution_count": 19,
   "id": "d6b70353-0874-4b85-8504-1bf812d704a3",
   "metadata": {
    "ExecuteTime": {
     "end_time": "2024-12-22T16:25:45.258511Z",
     "start_time": "2024-12-22T16:25:45.250235Z"
    }
   },
   "outputs": [],
   "source": [
    "# Get indices where 'column_name' has NaN values\n",
    "# nan_indices = charging_set[charging_set['doneChargingTime'].isna()].index.tolist()\n",
    "\n",
    "# Print the indices of NaN values\n",
    "#  print(nan_indices)"
   ]
  },
  {
   "cell_type": "code",
   "execution_count": 20,
   "id": "3ff9fb9c-4488-41df-ae90-1b3b79444d49",
   "metadata": {
    "ExecuteTime": {
     "end_time": "2024-12-22T16:25:46.222008Z",
     "start_time": "2024-12-22T16:25:45.929909Z"
    }
   },
   "outputs": [
    {
     "name": "stdout",
     "output_type": "stream",
     "text": [
      "sum of duplicates: 1413\n",
      "                             id  kWhDelivered  siteID  spaceID    stationID  \\\n",
      "65037  5d2fbdd3f9af8b4d0dd0d54f         2.463       1  AG-1F02  1-1-193-827   \n",
      "65038  5d310f54f9af8b52adda3e20        12.891       1  AG-1F14  1-1-194-818   \n",
      "65039  5d310f54f9af8b52adda3e21        13.734       1  AG-1F10  1-1-178-828   \n",
      "65040  5d310f54f9af8b52adda3e22        10.619       1  AG-1F08  1-1-178-823   \n",
      "65041  5d310f54f9af8b52adda3e23        19.079       1  AG-3F25  1-1-179-799   \n",
      "...                         ...           ...     ...      ...          ...   \n",
      "66445  5d574ad2f9af8b4c10c03652        28.787       1  AG-3F27  1-1-179-809   \n",
      "66446  5d574ad2f9af8b4c10c03653         7.787       1  AG-3F30  1-1-179-810   \n",
      "66447  5d574ad2f9af8b4c10c03654        11.274       1  AG-4F51  1-1-191-795   \n",
      "66448  5d574ad2f9af8b4c10c03655        11.589       1  AG-4F43  1-1-191-778   \n",
      "66449  5d574ad2f9af8b4c10c03656         0.897       1  AG-1F09  1-1-178-817   \n",
      "\n",
      "       userID                                         userInputs  \\\n",
      "65037  1117.0  [{'WhPerMile': 200, 'kWhRequested': 4.0, 'mile...   \n",
      "65038  2834.0  [{'WhPerMile': 273, 'kWhRequested': 19.11, 'mi...   \n",
      "65039   651.0  [{'WhPerMile': 400, 'kWhRequested': 20.0, 'mil...   \n",
      "65040   406.0  [{'WhPerMile': 600, 'kWhRequested': 24.0, 'mil...   \n",
      "65041   439.0  [{'WhPerMile': 300, 'kWhRequested': 78.0, 'mil...   \n",
      "...       ...                                                ...   \n",
      "66445   393.0  [{'WhPerMile': 240, 'kWhRequested': 31.2, 'mil...   \n",
      "66446   220.0  [{'WhPerMile': 333, 'kWhRequested': 6.66, 'mil...   \n",
      "66447  1974.0  [{'WhPerMile': 333, 'kWhRequested': 19.98, 'mi...   \n",
      "66448   942.0  [{'WhPerMile': 275, 'kWhRequested': 22.0, 'mil...   \n",
      "66449     NaN                                                NaN   \n",
      "\n",
      "      connectionTime_date connectionTime_time disconnectTime_date  ...  \\\n",
      "65037          2019-07-02            00:32:46          2019-07-02  ...   \n",
      "65038          2019-07-02            12:15:28          2019-07-02  ...   \n",
      "65039          2019-07-02            12:42:49          2019-07-02  ...   \n",
      "65040          2019-07-02            12:44:46          2019-07-02  ...   \n",
      "65041          2019-07-02            12:52:53          2019-07-02  ...   \n",
      "...                   ...                 ...                 ...  ...   \n",
      "66445          2019-07-31            18:08:04          2019-07-31  ...   \n",
      "66446          2019-07-31            18:40:41          2019-08-01  ...   \n",
      "66447          2019-07-31            19:04:40          2019-07-31  ...   \n",
      "66448          2019-07-31            19:19:47          2019-08-01  ...   \n",
      "66449          2019-07-31            19:21:47          2019-07-31  ...   \n",
      "\n",
      "      connectionTime_year connectionTime_month connectionTime_day  \\\n",
      "65037                2019                    7                  2   \n",
      "65038                2019                    7                  2   \n",
      "65039                2019                    7                  2   \n",
      "65040                2019                    7                  2   \n",
      "65041                2019                    7                  2   \n",
      "...                   ...                  ...                ...   \n",
      "66445                2019                    7                 31   \n",
      "66446                2019                    7                 31   \n",
      "66447                2019                    7                 31   \n",
      "66448                2019                    7                 31   \n",
      "66449                2019                    7                 31   \n",
      "\n",
      "       disconnectTime_year  disconnectTime_month  disconnectTime_day  \\\n",
      "65037                 2019                     7                   2   \n",
      "65038                 2019                     7                   2   \n",
      "65039                 2019                     7                   2   \n",
      "65040                 2019                     7                   2   \n",
      "65041                 2019                     7                   2   \n",
      "...                    ...                   ...                 ...   \n",
      "66445                 2019                     7                  31   \n",
      "66446                 2019                     8                   1   \n",
      "66447                 2019                     7                  31   \n",
      "66448                 2019                     8                   1   \n",
      "66449                 2019                     7                  31   \n",
      "\n",
      "       doneChargingTime_year  doneChargingTime_month  doneChargingTime_day  \\\n",
      "65037                 2019.0                     7.0                   2.0   \n",
      "65038                 2019.0                     7.0                   2.0   \n",
      "65039                 2019.0                     7.0                   2.0   \n",
      "65040                 2019.0                     7.0                   2.0   \n",
      "65041                 2019.0                     7.0                   2.0   \n",
      "...                      ...                     ...                   ...   \n",
      "66445                 2019.0                     7.0                  31.0   \n",
      "66446                 2019.0                     7.0                  31.0   \n",
      "66447                 2019.0                     7.0                  31.0   \n",
      "66448                 2019.0                     7.0                  31.0   \n",
      "66449                 2019.0                     7.0                  31.0   \n",
      "\n",
      "       chargingDuration  \n",
      "65037          2.036111  \n",
      "65038          3.759167  \n",
      "65039          6.858333  \n",
      "65040          9.811944  \n",
      "65041          6.475556  \n",
      "...                 ...  \n",
      "66445          5.353889  \n",
      "66446          6.316944  \n",
      "66447          3.661667  \n",
      "66448          5.251111  \n",
      "66449          2.638056  \n",
      "\n",
      "[1413 rows x 23 columns]\n"
     ]
    }
   ],
   "source": []
  },
  {
   "cell_type": "code",
   "execution_count": 21,
   "id": "7b0e68e1-3875-4eef-98f5-d10f363d07b9",
   "metadata": {
    "ExecuteTime": {
     "end_time": "2024-12-22T16:25:50.336129Z",
     "start_time": "2024-12-22T16:25:50.081303Z"
    }
   },
   "outputs": [
    {
     "data": {
      "text/plain": "                             id  kWhDelivered  siteID  spaceID    stationID  \\\n0      5e23b149f9af8b5fe4b973cf        25.016       1  AG-3F30  1-1-179-810   \n1      5e23b149f9af8b5fe4b973d0        33.097       1  AG-1F01  1-1-193-825   \n2      5e23b149f9af8b5fe4b973d1         6.521       1  AG-1F03  1-1-193-829   \n3      5e23b149f9af8b5fe4b973d2         2.355       1  AG-1F04  1-1-193-820   \n4      5e23b149f9af8b5fe4b973d3        13.375       1  AG-1F06  1-1-193-819   \n...                         ...           ...     ...      ...          ...   \n65032  5d2fbdd3f9af8b4d0dd0d54a         8.399       1  AG-3F18  1-1-179-798   \n65033  5d2fbdd3f9af8b4d0dd0d54b        16.864       1  AG-3F20  1-1-179-794   \n65034  5d2fbdd3f9af8b4d0dd0d54c        18.335       1  AG-4F47  1-1-191-807   \n65035  5d2fbdd3f9af8b4d0dd0d54d        22.815       1  AG-3F31  1-1-179-781   \n65036  5d2fbdd3f9af8b4d0dd0d54e        10.241       1  AG-1F06  1-1-193-819   \n\n       userID                                         userInputs  \\\n0       194.0  [{'WhPerMile': 250, 'kWhRequested': 25.0, 'mil...   \n1      4275.0  [{'WhPerMile': 280, 'kWhRequested': 70.0, 'mil...   \n2       344.0  [{'WhPerMile': 400, 'kWhRequested': 8.0, 'mile...   \n3      1117.0  [{'WhPerMile': 400, 'kWhRequested': 8.0, 'mile...   \n4       334.0  [{'WhPerMile': 400, 'kWhRequested': 16.0, 'mil...   \n...       ...                                                ...   \n65032  1346.0  [{'WhPerMile': 400, 'kWhRequested': 32.0, 'mil...   \n65033   364.0  [{'WhPerMile': 400, 'kWhRequested': 40.0, 'mil...   \n65034  2050.0  [{'WhPerMile': 333, 'kWhRequested': 29.97, 'mi...   \n65035  1626.0  [{'WhPerMile': 200, 'kWhRequested': 34.0, 'mil...   \n65036  2299.0  [{'WhPerMile': 333, 'kWhRequested': 16.65, 'mi...   \n\n      connectionTime_date connectionTime_time disconnectTime_date  ...  \\\n0              2020-01-02            13:08:54          2020-01-02  ...   \n1              2020-01-02            13:36:50          2020-01-02  ...   \n2              2020-01-02            13:56:35          2020-01-03  ...   \n3              2020-01-02            13:59:58          2020-01-02  ...   \n4              2020-01-02            14:00:01          2020-01-02  ...   \n...                   ...                 ...                 ...  ...   \n65032          2019-07-01            21:49:12          2019-07-02  ...   \n65033          2019-07-01            21:58:45          2019-07-02  ...   \n65034          2019-07-01            22:02:21          2019-07-02  ...   \n65035          2019-07-01            22:23:44          2019-07-02  ...   \n65036          2019-07-01            22:36:08          2019-07-02  ...   \n\n      connectionTime_year connectionTime_month connectionTime_day  \\\n0                    2020                    1                  2   \n1                    2020                    1                  2   \n2                    2020                    1                  2   \n3                    2020                    1                  2   \n4                    2020                    1                  2   \n...                   ...                  ...                ...   \n65032                2019                    7                  1   \n65033                2019                    7                  1   \n65034                2019                    7                  1   \n65035                2019                    7                  1   \n65036                2019                    7                  1   \n\n       disconnectTime_year  disconnectTime_month  disconnectTime_day  \\\n0                     2020                     1                   2   \n1                     2020                     1                   2   \n2                     2020                     1                   3   \n3                     2020                     1                   2   \n4                     2020                     1                   2   \n...                    ...                   ...                 ...   \n65032                 2019                     7                   2   \n65033                 2019                     7                   2   \n65034                 2019                     7                   2   \n65035                 2019                     7                   2   \n65036                 2019                     7                   2   \n\n       doneChargingTime_year  doneChargingTime_month  doneChargingTime_day  \\\n0                     2020.0                     1.0                   2.0   \n1                     2020.0                     1.0                   2.0   \n2                     2020.0                     1.0                   2.0   \n3                     2020.0                     1.0                   2.0   \n4                     2020.0                     1.0                   2.0   \n...                      ...                     ...                   ...   \n65032                 2019.0                     7.0                   1.0   \n65033                 2019.0                     7.0                   2.0   \n65034                 2019.0                     7.0                   2.0   \n65035                 2019.0                     7.0                   2.0   \n65036                 2019.0                     7.0                   2.0   \n\n       chargingDuration  \n0              6.039167  \n1              9.025278  \n2             10.713056  \n3              2.644722  \n4              8.144167  \n...                 ...  \n65032          3.801667  \n65033          2.684167  \n65034          2.941389  \n65035          3.664444  \n65036          2.578889  \n\n[65037 rows x 23 columns]",
      "text/html": "<div>\n<style scoped>\n    .dataframe tbody tr th:only-of-type {\n        vertical-align: middle;\n    }\n\n    .dataframe tbody tr th {\n        vertical-align: top;\n    }\n\n    .dataframe thead th {\n        text-align: right;\n    }\n</style>\n<table border=\"1\" class=\"dataframe\">\n  <thead>\n    <tr style=\"text-align: right;\">\n      <th></th>\n      <th>id</th>\n      <th>kWhDelivered</th>\n      <th>siteID</th>\n      <th>spaceID</th>\n      <th>stationID</th>\n      <th>userID</th>\n      <th>userInputs</th>\n      <th>connectionTime_date</th>\n      <th>connectionTime_time</th>\n      <th>disconnectTime_date</th>\n      <th>...</th>\n      <th>connectionTime_year</th>\n      <th>connectionTime_month</th>\n      <th>connectionTime_day</th>\n      <th>disconnectTime_year</th>\n      <th>disconnectTime_month</th>\n      <th>disconnectTime_day</th>\n      <th>doneChargingTime_year</th>\n      <th>doneChargingTime_month</th>\n      <th>doneChargingTime_day</th>\n      <th>chargingDuration</th>\n    </tr>\n  </thead>\n  <tbody>\n    <tr>\n      <th>0</th>\n      <td>5e23b149f9af8b5fe4b973cf</td>\n      <td>25.016</td>\n      <td>1</td>\n      <td>AG-3F30</td>\n      <td>1-1-179-810</td>\n      <td>194.0</td>\n      <td>[{'WhPerMile': 250, 'kWhRequested': 25.0, 'mil...</td>\n      <td>2020-01-02</td>\n      <td>13:08:54</td>\n      <td>2020-01-02</td>\n      <td>...</td>\n      <td>2020</td>\n      <td>1</td>\n      <td>2</td>\n      <td>2020</td>\n      <td>1</td>\n      <td>2</td>\n      <td>2020.0</td>\n      <td>1.0</td>\n      <td>2.0</td>\n      <td>6.039167</td>\n    </tr>\n    <tr>\n      <th>1</th>\n      <td>5e23b149f9af8b5fe4b973d0</td>\n      <td>33.097</td>\n      <td>1</td>\n      <td>AG-1F01</td>\n      <td>1-1-193-825</td>\n      <td>4275.0</td>\n      <td>[{'WhPerMile': 280, 'kWhRequested': 70.0, 'mil...</td>\n      <td>2020-01-02</td>\n      <td>13:36:50</td>\n      <td>2020-01-02</td>\n      <td>...</td>\n      <td>2020</td>\n      <td>1</td>\n      <td>2</td>\n      <td>2020</td>\n      <td>1</td>\n      <td>2</td>\n      <td>2020.0</td>\n      <td>1.0</td>\n      <td>2.0</td>\n      <td>9.025278</td>\n    </tr>\n    <tr>\n      <th>2</th>\n      <td>5e23b149f9af8b5fe4b973d1</td>\n      <td>6.521</td>\n      <td>1</td>\n      <td>AG-1F03</td>\n      <td>1-1-193-829</td>\n      <td>344.0</td>\n      <td>[{'WhPerMile': 400, 'kWhRequested': 8.0, 'mile...</td>\n      <td>2020-01-02</td>\n      <td>13:56:35</td>\n      <td>2020-01-03</td>\n      <td>...</td>\n      <td>2020</td>\n      <td>1</td>\n      <td>2</td>\n      <td>2020</td>\n      <td>1</td>\n      <td>3</td>\n      <td>2020.0</td>\n      <td>1.0</td>\n      <td>2.0</td>\n      <td>10.713056</td>\n    </tr>\n    <tr>\n      <th>3</th>\n      <td>5e23b149f9af8b5fe4b973d2</td>\n      <td>2.355</td>\n      <td>1</td>\n      <td>AG-1F04</td>\n      <td>1-1-193-820</td>\n      <td>1117.0</td>\n      <td>[{'WhPerMile': 400, 'kWhRequested': 8.0, 'mile...</td>\n      <td>2020-01-02</td>\n      <td>13:59:58</td>\n      <td>2020-01-02</td>\n      <td>...</td>\n      <td>2020</td>\n      <td>1</td>\n      <td>2</td>\n      <td>2020</td>\n      <td>1</td>\n      <td>2</td>\n      <td>2020.0</td>\n      <td>1.0</td>\n      <td>2.0</td>\n      <td>2.644722</td>\n    </tr>\n    <tr>\n      <th>4</th>\n      <td>5e23b149f9af8b5fe4b973d3</td>\n      <td>13.375</td>\n      <td>1</td>\n      <td>AG-1F06</td>\n      <td>1-1-193-819</td>\n      <td>334.0</td>\n      <td>[{'WhPerMile': 400, 'kWhRequested': 16.0, 'mil...</td>\n      <td>2020-01-02</td>\n      <td>14:00:01</td>\n      <td>2020-01-02</td>\n      <td>...</td>\n      <td>2020</td>\n      <td>1</td>\n      <td>2</td>\n      <td>2020</td>\n      <td>1</td>\n      <td>2</td>\n      <td>2020.0</td>\n      <td>1.0</td>\n      <td>2.0</td>\n      <td>8.144167</td>\n    </tr>\n    <tr>\n      <th>...</th>\n      <td>...</td>\n      <td>...</td>\n      <td>...</td>\n      <td>...</td>\n      <td>...</td>\n      <td>...</td>\n      <td>...</td>\n      <td>...</td>\n      <td>...</td>\n      <td>...</td>\n      <td>...</td>\n      <td>...</td>\n      <td>...</td>\n      <td>...</td>\n      <td>...</td>\n      <td>...</td>\n      <td>...</td>\n      <td>...</td>\n      <td>...</td>\n      <td>...</td>\n      <td>...</td>\n    </tr>\n    <tr>\n      <th>65032</th>\n      <td>5d2fbdd3f9af8b4d0dd0d54a</td>\n      <td>8.399</td>\n      <td>1</td>\n      <td>AG-3F18</td>\n      <td>1-1-179-798</td>\n      <td>1346.0</td>\n      <td>[{'WhPerMile': 400, 'kWhRequested': 32.0, 'mil...</td>\n      <td>2019-07-01</td>\n      <td>21:49:12</td>\n      <td>2019-07-02</td>\n      <td>...</td>\n      <td>2019</td>\n      <td>7</td>\n      <td>1</td>\n      <td>2019</td>\n      <td>7</td>\n      <td>2</td>\n      <td>2019.0</td>\n      <td>7.0</td>\n      <td>1.0</td>\n      <td>3.801667</td>\n    </tr>\n    <tr>\n      <th>65033</th>\n      <td>5d2fbdd3f9af8b4d0dd0d54b</td>\n      <td>16.864</td>\n      <td>1</td>\n      <td>AG-3F20</td>\n      <td>1-1-179-794</td>\n      <td>364.0</td>\n      <td>[{'WhPerMile': 400, 'kWhRequested': 40.0, 'mil...</td>\n      <td>2019-07-01</td>\n      <td>21:58:45</td>\n      <td>2019-07-02</td>\n      <td>...</td>\n      <td>2019</td>\n      <td>7</td>\n      <td>1</td>\n      <td>2019</td>\n      <td>7</td>\n      <td>2</td>\n      <td>2019.0</td>\n      <td>7.0</td>\n      <td>2.0</td>\n      <td>2.684167</td>\n    </tr>\n    <tr>\n      <th>65034</th>\n      <td>5d2fbdd3f9af8b4d0dd0d54c</td>\n      <td>18.335</td>\n      <td>1</td>\n      <td>AG-4F47</td>\n      <td>1-1-191-807</td>\n      <td>2050.0</td>\n      <td>[{'WhPerMile': 333, 'kWhRequested': 29.97, 'mi...</td>\n      <td>2019-07-01</td>\n      <td>22:02:21</td>\n      <td>2019-07-02</td>\n      <td>...</td>\n      <td>2019</td>\n      <td>7</td>\n      <td>1</td>\n      <td>2019</td>\n      <td>7</td>\n      <td>2</td>\n      <td>2019.0</td>\n      <td>7.0</td>\n      <td>2.0</td>\n      <td>2.941389</td>\n    </tr>\n    <tr>\n      <th>65035</th>\n      <td>5d2fbdd3f9af8b4d0dd0d54d</td>\n      <td>22.815</td>\n      <td>1</td>\n      <td>AG-3F31</td>\n      <td>1-1-179-781</td>\n      <td>1626.0</td>\n      <td>[{'WhPerMile': 200, 'kWhRequested': 34.0, 'mil...</td>\n      <td>2019-07-01</td>\n      <td>22:23:44</td>\n      <td>2019-07-02</td>\n      <td>...</td>\n      <td>2019</td>\n      <td>7</td>\n      <td>1</td>\n      <td>2019</td>\n      <td>7</td>\n      <td>2</td>\n      <td>2019.0</td>\n      <td>7.0</td>\n      <td>2.0</td>\n      <td>3.664444</td>\n    </tr>\n    <tr>\n      <th>65036</th>\n      <td>5d2fbdd3f9af8b4d0dd0d54e</td>\n      <td>10.241</td>\n      <td>1</td>\n      <td>AG-1F06</td>\n      <td>1-1-193-819</td>\n      <td>2299.0</td>\n      <td>[{'WhPerMile': 333, 'kWhRequested': 16.65, 'mi...</td>\n      <td>2019-07-01</td>\n      <td>22:36:08</td>\n      <td>2019-07-02</td>\n      <td>...</td>\n      <td>2019</td>\n      <td>7</td>\n      <td>1</td>\n      <td>2019</td>\n      <td>7</td>\n      <td>2</td>\n      <td>2019.0</td>\n      <td>7.0</td>\n      <td>2.0</td>\n      <td>2.578889</td>\n    </tr>\n  </tbody>\n</table>\n<p>65037 rows × 23 columns</p>\n</div>"
     },
     "execution_count": 21,
     "metadata": {},
     "output_type": "execute_result"
    }
   ],
   "source": []
  },
  {
   "cell_type": "code",
   "execution_count": 22,
   "id": "c45dbe34",
   "metadata": {
    "ExecuteTime": {
     "end_time": "2024-12-22T16:25:55.863955Z",
     "start_time": "2024-12-22T16:25:55.836751Z"
    }
   },
   "outputs": [
    {
     "data": {
      "text/plain": "Index(['id', 'kWhDelivered', 'siteID', 'spaceID', 'stationID', 'userID',\n       'userInputs', 'connectionTime_date', 'connectionTime_time',\n       'disconnectTime_date', 'disconnectTime_time', 'doneChargingTime_date',\n       'doneChargingTime_time', 'connectionTime_year', 'connectionTime_month',\n       'connectionTime_day', 'disconnectTime_year', 'disconnectTime_month',\n       'disconnectTime_day', 'doneChargingTime_year', 'doneChargingTime_month',\n       'doneChargingTime_day', 'chargingDuration'],\n      dtype='object')"
     },
     "execution_count": 22,
     "metadata": {},
     "output_type": "execute_result"
    }
   ],
   "source": [
    "charging_set.columns"
   ]
  },
  {
   "cell_type": "markdown",
   "metadata": {},
   "source": [
    "#### Anschauen User Inputs"
   ],
   "id": "31455a5271a9cb2e"
  },
  {
   "cell_type": "code",
   "execution_count": 23,
   "id": "4a927550",
   "metadata": {
    "ExecuteTime": {
     "end_time": "2024-12-22T16:26:00.667606Z",
     "start_time": "2024-12-22T16:26:00.634710Z"
    }
   },
   "outputs": [
    {
     "data": {
      "text/plain": "<bound method Series.unique of 0        [{'WhPerMile': 250, 'kWhRequested': 25.0, 'mil...\n1        [{'WhPerMile': 280, 'kWhRequested': 70.0, 'mil...\n2        [{'WhPerMile': 400, 'kWhRequested': 8.0, 'mile...\n3        [{'WhPerMile': 400, 'kWhRequested': 8.0, 'mile...\n4        [{'WhPerMile': 400, 'kWhRequested': 16.0, 'mil...\n                               ...                        \n66445    [{'WhPerMile': 240, 'kWhRequested': 31.2, 'mil...\n66446    [{'WhPerMile': 333, 'kWhRequested': 6.66, 'mil...\n66447    [{'WhPerMile': 333, 'kWhRequested': 19.98, 'mi...\n66448    [{'WhPerMile': 275, 'kWhRequested': 22.0, 'mil...\n66449                                                  NaN\nName: userInputs, Length: 66450, dtype: object>"
     },
     "execution_count": 23,
     "metadata": {},
     "output_type": "execute_result"
    }
   ],
   "source": [
    "charging_set[\"userInputs\"].unique"
   ]
  },
  {
   "cell_type": "code",
   "execution_count": 23,
   "metadata": {
    "ExecuteTime": {
     "end_time": "2024-12-22T16:26:04.400055Z",
     "start_time": "2024-12-22T16:26:04.378110Z"
    }
   },
   "outputs": [],
   "source": [],
   "id": "bff93652bb7ae60f"
  },
  {
   "cell_type": "markdown",
   "metadata": {},
   "source": [
    "Idee: \n",
    "- entferne temporär erstmal alle nan Werte um zum checken, ob die Funktion überhaupt funktioniert\n",
    "- erstelle dafür eine temp datei\n",
    "- danach sollte man sich mit dem auffüllen / entfernen von NaNs beschäftigen"
   ],
   "id": "86075141862fffcf"
  },
  {
   "cell_type": "code",
   "execution_count": 24,
   "metadata": {
    "ExecuteTime": {
     "end_time": "2024-12-22T16:26:07.143989Z",
     "start_time": "2024-12-22T16:26:07.040414Z"
    }
   },
   "outputs": [
    {
     "data": {
      "text/plain": "                             id  kWhDelivered  siteID  spaceID    stationID  \\\n0      5e23b149f9af8b5fe4b973cf        25.016       1  AG-3F30  1-1-179-810   \n1      5e23b149f9af8b5fe4b973d0        33.097       1  AG-1F01  1-1-193-825   \n2      5e23b149f9af8b5fe4b973d1         6.521       1  AG-1F03  1-1-193-829   \n3      5e23b149f9af8b5fe4b973d2         2.355       1  AG-1F04  1-1-193-820   \n4      5e23b149f9af8b5fe4b973d3        13.375       1  AG-1F06  1-1-193-819   \n...                         ...           ...     ...      ...          ...   \n66445  5d574ad2f9af8b4c10c03652        28.787       1  AG-3F27  1-1-179-809   \n66446  5d574ad2f9af8b4c10c03653         7.787       1  AG-3F30  1-1-179-810   \n66447  5d574ad2f9af8b4c10c03654        11.274       1  AG-4F51  1-1-191-795   \n66448  5d574ad2f9af8b4c10c03655        11.589       1  AG-4F43  1-1-191-778   \n66449  5d574ad2f9af8b4c10c03656         0.897       1  AG-1F09  1-1-178-817   \n\n       userID                                         userInputs  \\\n0       194.0  [{'WhPerMile': 250, 'kWhRequested': 25.0, 'mil...   \n1      4275.0  [{'WhPerMile': 280, 'kWhRequested': 70.0, 'mil...   \n2       344.0  [{'WhPerMile': 400, 'kWhRequested': 8.0, 'mile...   \n3      1117.0  [{'WhPerMile': 400, 'kWhRequested': 8.0, 'mile...   \n4       334.0  [{'WhPerMile': 400, 'kWhRequested': 16.0, 'mil...   \n...       ...                                                ...   \n66445   393.0  [{'WhPerMile': 240, 'kWhRequested': 31.2, 'mil...   \n66446   220.0  [{'WhPerMile': 333, 'kWhRequested': 6.66, 'mil...   \n66447  1974.0  [{'WhPerMile': 333, 'kWhRequested': 19.98, 'mi...   \n66448   942.0  [{'WhPerMile': 275, 'kWhRequested': 22.0, 'mil...   \n66449     NaN                                                NaN   \n\n      connectionTime_date connectionTime_time disconnectTime_date  ...  \\\n0              2020-01-02            13:08:54          2020-01-02  ...   \n1              2020-01-02            13:36:50          2020-01-02  ...   \n2              2020-01-02            13:56:35          2020-01-03  ...   \n3              2020-01-02            13:59:58          2020-01-02  ...   \n4              2020-01-02            14:00:01          2020-01-02  ...   \n...                   ...                 ...                 ...  ...   \n66445          2019-07-31            18:08:04          2019-07-31  ...   \n66446          2019-07-31            18:40:41          2019-08-01  ...   \n66447          2019-07-31            19:04:40          2019-07-31  ...   \n66448          2019-07-31            19:19:47          2019-08-01  ...   \n66449          2019-07-31            19:21:47          2019-07-31  ...   \n\n      connectionTime_year connectionTime_month connectionTime_day  \\\n0                    2020                    1                  2   \n1                    2020                    1                  2   \n2                    2020                    1                  2   \n3                    2020                    1                  2   \n4                    2020                    1                  2   \n...                   ...                  ...                ...   \n66445                2019                    7                 31   \n66446                2019                    7                 31   \n66447                2019                    7                 31   \n66448                2019                    7                 31   \n66449                2019                    7                 31   \n\n       disconnectTime_year  disconnectTime_month  disconnectTime_day  \\\n0                     2020                     1                   2   \n1                     2020                     1                   2   \n2                     2020                     1                   3   \n3                     2020                     1                   2   \n4                     2020                     1                   2   \n...                    ...                   ...                 ...   \n66445                 2019                     7                  31   \n66446                 2019                     8                   1   \n66447                 2019                     7                  31   \n66448                 2019                     8                   1   \n66449                 2019                     7                  31   \n\n       doneChargingTime_year  doneChargingTime_month  doneChargingTime_day  \\\n0                     2020.0                     1.0                   2.0   \n1                     2020.0                     1.0                   2.0   \n2                     2020.0                     1.0                   2.0   \n3                     2020.0                     1.0                   2.0   \n4                     2020.0                     1.0                   2.0   \n...                      ...                     ...                   ...   \n66445                 2019.0                     7.0                  31.0   \n66446                 2019.0                     7.0                  31.0   \n66447                 2019.0                     7.0                  31.0   \n66448                 2019.0                     7.0                  31.0   \n66449                 2019.0                     7.0                  31.0   \n\n       chargingDuration  \n0              6.039167  \n1              9.025278  \n2             10.713056  \n3              2.644722  \n4              8.144167  \n...                 ...  \n66445          5.353889  \n66446          6.316944  \n66447          3.661667  \n66448          5.251111  \n66449          2.638056  \n\n[66450 rows x 23 columns]",
      "text/html": "<div>\n<style scoped>\n    .dataframe tbody tr th:only-of-type {\n        vertical-align: middle;\n    }\n\n    .dataframe tbody tr th {\n        vertical-align: top;\n    }\n\n    .dataframe thead th {\n        text-align: right;\n    }\n</style>\n<table border=\"1\" class=\"dataframe\">\n  <thead>\n    <tr style=\"text-align: right;\">\n      <th></th>\n      <th>id</th>\n      <th>kWhDelivered</th>\n      <th>siteID</th>\n      <th>spaceID</th>\n      <th>stationID</th>\n      <th>userID</th>\n      <th>userInputs</th>\n      <th>connectionTime_date</th>\n      <th>connectionTime_time</th>\n      <th>disconnectTime_date</th>\n      <th>...</th>\n      <th>connectionTime_year</th>\n      <th>connectionTime_month</th>\n      <th>connectionTime_day</th>\n      <th>disconnectTime_year</th>\n      <th>disconnectTime_month</th>\n      <th>disconnectTime_day</th>\n      <th>doneChargingTime_year</th>\n      <th>doneChargingTime_month</th>\n      <th>doneChargingTime_day</th>\n      <th>chargingDuration</th>\n    </tr>\n  </thead>\n  <tbody>\n    <tr>\n      <th>0</th>\n      <td>5e23b149f9af8b5fe4b973cf</td>\n      <td>25.016</td>\n      <td>1</td>\n      <td>AG-3F30</td>\n      <td>1-1-179-810</td>\n      <td>194.0</td>\n      <td>[{'WhPerMile': 250, 'kWhRequested': 25.0, 'mil...</td>\n      <td>2020-01-02</td>\n      <td>13:08:54</td>\n      <td>2020-01-02</td>\n      <td>...</td>\n      <td>2020</td>\n      <td>1</td>\n      <td>2</td>\n      <td>2020</td>\n      <td>1</td>\n      <td>2</td>\n      <td>2020.0</td>\n      <td>1.0</td>\n      <td>2.0</td>\n      <td>6.039167</td>\n    </tr>\n    <tr>\n      <th>1</th>\n      <td>5e23b149f9af8b5fe4b973d0</td>\n      <td>33.097</td>\n      <td>1</td>\n      <td>AG-1F01</td>\n      <td>1-1-193-825</td>\n      <td>4275.0</td>\n      <td>[{'WhPerMile': 280, 'kWhRequested': 70.0, 'mil...</td>\n      <td>2020-01-02</td>\n      <td>13:36:50</td>\n      <td>2020-01-02</td>\n      <td>...</td>\n      <td>2020</td>\n      <td>1</td>\n      <td>2</td>\n      <td>2020</td>\n      <td>1</td>\n      <td>2</td>\n      <td>2020.0</td>\n      <td>1.0</td>\n      <td>2.0</td>\n      <td>9.025278</td>\n    </tr>\n    <tr>\n      <th>2</th>\n      <td>5e23b149f9af8b5fe4b973d1</td>\n      <td>6.521</td>\n      <td>1</td>\n      <td>AG-1F03</td>\n      <td>1-1-193-829</td>\n      <td>344.0</td>\n      <td>[{'WhPerMile': 400, 'kWhRequested': 8.0, 'mile...</td>\n      <td>2020-01-02</td>\n      <td>13:56:35</td>\n      <td>2020-01-03</td>\n      <td>...</td>\n      <td>2020</td>\n      <td>1</td>\n      <td>2</td>\n      <td>2020</td>\n      <td>1</td>\n      <td>3</td>\n      <td>2020.0</td>\n      <td>1.0</td>\n      <td>2.0</td>\n      <td>10.713056</td>\n    </tr>\n    <tr>\n      <th>3</th>\n      <td>5e23b149f9af8b5fe4b973d2</td>\n      <td>2.355</td>\n      <td>1</td>\n      <td>AG-1F04</td>\n      <td>1-1-193-820</td>\n      <td>1117.0</td>\n      <td>[{'WhPerMile': 400, 'kWhRequested': 8.0, 'mile...</td>\n      <td>2020-01-02</td>\n      <td>13:59:58</td>\n      <td>2020-01-02</td>\n      <td>...</td>\n      <td>2020</td>\n      <td>1</td>\n      <td>2</td>\n      <td>2020</td>\n      <td>1</td>\n      <td>2</td>\n      <td>2020.0</td>\n      <td>1.0</td>\n      <td>2.0</td>\n      <td>2.644722</td>\n    </tr>\n    <tr>\n      <th>4</th>\n      <td>5e23b149f9af8b5fe4b973d3</td>\n      <td>13.375</td>\n      <td>1</td>\n      <td>AG-1F06</td>\n      <td>1-1-193-819</td>\n      <td>334.0</td>\n      <td>[{'WhPerMile': 400, 'kWhRequested': 16.0, 'mil...</td>\n      <td>2020-01-02</td>\n      <td>14:00:01</td>\n      <td>2020-01-02</td>\n      <td>...</td>\n      <td>2020</td>\n      <td>1</td>\n      <td>2</td>\n      <td>2020</td>\n      <td>1</td>\n      <td>2</td>\n      <td>2020.0</td>\n      <td>1.0</td>\n      <td>2.0</td>\n      <td>8.144167</td>\n    </tr>\n    <tr>\n      <th>...</th>\n      <td>...</td>\n      <td>...</td>\n      <td>...</td>\n      <td>...</td>\n      <td>...</td>\n      <td>...</td>\n      <td>...</td>\n      <td>...</td>\n      <td>...</td>\n      <td>...</td>\n      <td>...</td>\n      <td>...</td>\n      <td>...</td>\n      <td>...</td>\n      <td>...</td>\n      <td>...</td>\n      <td>...</td>\n      <td>...</td>\n      <td>...</td>\n      <td>...</td>\n      <td>...</td>\n    </tr>\n    <tr>\n      <th>66445</th>\n      <td>5d574ad2f9af8b4c10c03652</td>\n      <td>28.787</td>\n      <td>1</td>\n      <td>AG-3F27</td>\n      <td>1-1-179-809</td>\n      <td>393.0</td>\n      <td>[{'WhPerMile': 240, 'kWhRequested': 31.2, 'mil...</td>\n      <td>2019-07-31</td>\n      <td>18:08:04</td>\n      <td>2019-07-31</td>\n      <td>...</td>\n      <td>2019</td>\n      <td>7</td>\n      <td>31</td>\n      <td>2019</td>\n      <td>7</td>\n      <td>31</td>\n      <td>2019.0</td>\n      <td>7.0</td>\n      <td>31.0</td>\n      <td>5.353889</td>\n    </tr>\n    <tr>\n      <th>66446</th>\n      <td>5d574ad2f9af8b4c10c03653</td>\n      <td>7.787</td>\n      <td>1</td>\n      <td>AG-3F30</td>\n      <td>1-1-179-810</td>\n      <td>220.0</td>\n      <td>[{'WhPerMile': 333, 'kWhRequested': 6.66, 'mil...</td>\n      <td>2019-07-31</td>\n      <td>18:40:41</td>\n      <td>2019-08-01</td>\n      <td>...</td>\n      <td>2019</td>\n      <td>7</td>\n      <td>31</td>\n      <td>2019</td>\n      <td>8</td>\n      <td>1</td>\n      <td>2019.0</td>\n      <td>7.0</td>\n      <td>31.0</td>\n      <td>6.316944</td>\n    </tr>\n    <tr>\n      <th>66447</th>\n      <td>5d574ad2f9af8b4c10c03654</td>\n      <td>11.274</td>\n      <td>1</td>\n      <td>AG-4F51</td>\n      <td>1-1-191-795</td>\n      <td>1974.0</td>\n      <td>[{'WhPerMile': 333, 'kWhRequested': 19.98, 'mi...</td>\n      <td>2019-07-31</td>\n      <td>19:04:40</td>\n      <td>2019-07-31</td>\n      <td>...</td>\n      <td>2019</td>\n      <td>7</td>\n      <td>31</td>\n      <td>2019</td>\n      <td>7</td>\n      <td>31</td>\n      <td>2019.0</td>\n      <td>7.0</td>\n      <td>31.0</td>\n      <td>3.661667</td>\n    </tr>\n    <tr>\n      <th>66448</th>\n      <td>5d574ad2f9af8b4c10c03655</td>\n      <td>11.589</td>\n      <td>1</td>\n      <td>AG-4F43</td>\n      <td>1-1-191-778</td>\n      <td>942.0</td>\n      <td>[{'WhPerMile': 275, 'kWhRequested': 22.0, 'mil...</td>\n      <td>2019-07-31</td>\n      <td>19:19:47</td>\n      <td>2019-08-01</td>\n      <td>...</td>\n      <td>2019</td>\n      <td>7</td>\n      <td>31</td>\n      <td>2019</td>\n      <td>8</td>\n      <td>1</td>\n      <td>2019.0</td>\n      <td>7.0</td>\n      <td>31.0</td>\n      <td>5.251111</td>\n    </tr>\n    <tr>\n      <th>66449</th>\n      <td>5d574ad2f9af8b4c10c03656</td>\n      <td>0.897</td>\n      <td>1</td>\n      <td>AG-1F09</td>\n      <td>1-1-178-817</td>\n      <td>NaN</td>\n      <td>NaN</td>\n      <td>2019-07-31</td>\n      <td>19:21:47</td>\n      <td>2019-07-31</td>\n      <td>...</td>\n      <td>2019</td>\n      <td>7</td>\n      <td>31</td>\n      <td>2019</td>\n      <td>7</td>\n      <td>31</td>\n      <td>2019.0</td>\n      <td>7.0</td>\n      <td>31.0</td>\n      <td>2.638056</td>\n    </tr>\n  </tbody>\n</table>\n<p>66450 rows × 23 columns</p>\n</div>"
     },
     "execution_count": 24,
     "metadata": {},
     "output_type": "execute_result"
    }
   ],
   "source": [
    "charging_set"
   ],
   "id": "db5268f4fc02415c"
  }
 ],
 "metadata": {
  "kernelspec": {
   "display_name": "Python 3",
   "language": "python",
   "name": "python3"
  },
  "language_info": {
   "codemirror_mode": {
    "name": "ipython",
    "version": 3
   },
   "file_extension": ".py",
   "mimetype": "text/x-python",
   "name": "python",
   "nbconvert_exporter": "python",
   "pygments_lexer": "ipython3",
   "version": "3.9.5"
  }
 },
 "nbformat": 4,
 "nbformat_minor": 5
}
