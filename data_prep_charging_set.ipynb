{
 "cells": [
  {
   "cell_type": "code",
   "execution_count": 7,
   "id": "initial_id",
   "metadata": {
    "ExecuteTime": {
     "end_time": "2024-12-23T15:56:50.437941Z",
     "start_time": "2024-12-23T15:56:47.506076Z"
    }
   },
   "outputs": [],
   "source": [
    "import numpy as np\n",
    "import pandas as pd\n",
    "import datetime as dt\n",
    "import warnings\n",
    "warnings.filterwarnings('ignore')\n",
    "\n",
    "import ast\n",
    "\n",
    "import matplotlib as mpl\n",
    "import matplotlib.pyplot as plt\n",
    "import seaborn as sns\n",
    "\n",
    "import sklearn\n",
    "import warnings\n",
    "from sklearn.linear_model import LinearRegression\n",
    "from sklearn import linear_model\n",
    "from sklearn.model_selection import train_test_split \n",
    "\n",
    "from sklearn.metrics import mean_squared_error, mean_absolute_error, r2_score"
   ]
  },
  {
   "cell_type": "code",
   "execution_count": 31,
   "id": "51da85eed2db08df",
   "metadata": {
    "collapsed": false,
    "ExecuteTime": {
     "end_time": "2024-12-23T16:00:20.125423Z",
     "start_time": "2024-12-23T16:00:18.938097Z"
    }
   },
   "outputs": [],
   "source": [
    "charging_set = pd.read_csv(\"data/charging_sessions.csv\")"
   ]
  },
  {
   "cell_type": "code",
   "outputs": [
    {
     "name": "stdout",
     "output_type": "stream",
     "text": [
      "columns:\n",
      "Index(['Unnamed: 0', 'id', 'connectionTime', 'disconnectTime',\n",
      "       'doneChargingTime', 'kWhDelivered', 'sessionID', 'siteID', 'spaceID',\n",
      "       'stationID', 'timezone', 'userID', 'userInputs'],\n",
      "      dtype='object')\n",
      "-------------------------------------------------------------------------\n",
      "info():\n",
      "<class 'pandas.core.frame.DataFrame'>\n",
      "RangeIndex: 66450 entries, 0 to 66449\n",
      "Data columns (total 13 columns):\n",
      " #   Column            Non-Null Count  Dtype  \n",
      "---  ------            --------------  -----  \n",
      " 0   Unnamed: 0        66450 non-null  int64  \n",
      " 1   id                66450 non-null  object \n",
      " 2   connectionTime    66450 non-null  object \n",
      " 3   disconnectTime    66450 non-null  object \n",
      " 4   doneChargingTime  62362 non-null  object \n",
      " 5   kWhDelivered      66450 non-null  float64\n",
      " 6   sessionID         66450 non-null  object \n",
      " 7   siteID            66450 non-null  int64  \n",
      " 8   spaceID           66450 non-null  object \n",
      " 9   stationID         66450 non-null  object \n",
      " 10  timezone          66450 non-null  object \n",
      " 11  userID            49187 non-null  float64\n",
      " 12  userInputs        49187 non-null  object \n",
      "dtypes: float64(2), int64(2), object(9)\n",
      "memory usage: 6.6+ MB\n",
      "None\n",
      "-------------------------------------------------------------------------\n",
      "describe():\n",
      "         Unnamed: 0  kWhDelivered        siteID        userID\n",
      "count  66450.000000  66450.000000  66450.000000  49187.000000\n",
      "mean    4726.102062     11.787916      1.472656   1800.494582\n",
      "std     3568.025394     10.314789      0.499256   2617.548614\n",
      "min        0.000000      0.501000      1.000000      1.000000\n",
      "25%     1845.000000      5.097000      1.000000    431.000000\n",
      "50%     3960.000000      9.140000      1.000000    818.000000\n",
      "75%     7027.000000     14.183000      2.000000   1805.000000\n",
      "max    15291.000000    108.797242      2.000000  19923.000000\n"
     ]
    }
   ],
   "source": [
    "# get overview of data\n",
    "print(\"columns:\")\n",
    "print(charging_set.columns)\n",
    "print(\"-------------------------------------------------------------------------\")\n",
    "print(\"info():\")\n",
    "print(charging_set.info())\n",
    "print(\"-------------------------------------------------------------------------\")\n",
    "print(\"describe():\")\n",
    "print(charging_set.describe())"
   ],
   "metadata": {
    "collapsed": false,
    "ExecuteTime": {
     "end_time": "2024-12-23T15:56:53.073769Z",
     "start_time": "2024-12-23T15:56:52.922227Z"
    }
   },
   "id": "863eaec4a97ce060",
   "execution_count": 9
  },
  {
   "cell_type": "code",
   "execution_count": 10,
   "id": "4bd9b0d96ee0f91d",
   "metadata": {
    "collapsed": false,
    "ExecuteTime": {
     "end_time": "2024-12-23T15:56:54.439473Z",
     "start_time": "2024-12-23T15:56:54.348103Z"
    }
   },
   "outputs": [
    {
     "data": {
      "text/plain": "   Unnamed: 0                        id             connectionTime  \\\n0           0  5e23b149f9af8b5fe4b973cf  2020-01-02 13:08:54+00:00   \n1           1  5e23b149f9af8b5fe4b973d0  2020-01-02 13:36:50+00:00   \n2           2  5e23b149f9af8b5fe4b973d1  2020-01-02 13:56:35+00:00   \n3           3  5e23b149f9af8b5fe4b973d2  2020-01-02 13:59:58+00:00   \n4           4  5e23b149f9af8b5fe4b973d3  2020-01-02 14:00:01+00:00   \n5           5  5e23b149f9af8b5fe4b973d4  2020-01-02 14:00:13+00:00   \n6           6  5e23b149f9af8b5fe4b973d5  2020-01-02 14:09:14+00:00   \n7           7  5e23b149f9af8b5fe4b973d6  2020-01-02 14:17:32+00:00   \n8           8  5e23b149f9af8b5fe4b973d7  2020-01-02 14:25:38+00:00   \n9           9  5e23b149f9af8b5fe4b973d8  2020-01-02 14:27:40+00:00   \n\n              disconnectTime           doneChargingTime  kWhDelivered  \\\n0  2020-01-02 19:11:15+00:00  2020-01-02 17:31:35+00:00        25.016   \n1  2020-01-02 22:38:21+00:00  2020-01-02 20:18:05+00:00        33.097   \n2  2020-01-03 00:39:22+00:00  2020-01-02 16:35:06+00:00         6.521   \n3  2020-01-02 16:38:39+00:00  2020-01-02 15:18:45+00:00         2.355   \n4  2020-01-02 22:08:40+00:00  2020-01-02 18:17:30+00:00        13.375   \n5  2020-01-02 23:00:41+00:00  2020-01-02 20:13:21+00:00        13.370   \n6  2020-01-03 01:57:58+00:00  2020-01-03 00:59:21+00:00        43.477   \n7  2020-01-03 00:44:54+00:00  2020-01-02 20:22:40+00:00        32.441   \n8  2020-01-02 19:36:05+00:00  2020-01-02 18:38:39+00:00        13.264   \n9  2020-01-02 20:01:48+00:00  2020-01-02 19:17:46+00:00        13.285   \n\n                                sessionID  siteID  spaceID    stationID  \\\n0  1_1_179_810_2020-01-02 13:08:53.870034       1  AG-3F30  1-1-179-810   \n1  1_1_193_825_2020-01-02 13:36:49.599853       1  AG-1F01  1-1-193-825   \n2  1_1_193_829_2020-01-02 13:56:35.214993       1  AG-1F03  1-1-193-829   \n3  1_1_193_820_2020-01-02 13:59:58.309319       1  AG-1F04  1-1-193-820   \n4  1_1_193_819_2020-01-02 14:00:00.779967       1  AG-1F06  1-1-193-819   \n5  1_1_194_821_2020-01-02 14:00:05.241573       1  AG-1F13  1-1-194-821   \n6  1_1_178_817_2020-01-02 14:09:14.451827       1  AG-1F09  1-1-178-817   \n7  1_1_191_804_2020-01-02 14:17:32.329535       1  AG-4F34  1-1-191-804   \n8  1_1_194_826_2020-01-02 14:25:37.578692       1  AG-1F11  1-1-194-826   \n9  1_1_178_823_2020-01-02 14:27:39.582337       1  AG-1F08  1-1-178-823   \n\n              timezone  userID  \\\n0  America/Los_Angeles   194.0   \n1  America/Los_Angeles  4275.0   \n2  America/Los_Angeles   344.0   \n3  America/Los_Angeles  1117.0   \n4  America/Los_Angeles   334.0   \n5  America/Los_Angeles  3519.0   \n6  America/Los_Angeles   933.0   \n7  America/Los_Angeles  3737.0   \n8  America/Los_Angeles   419.0   \n9  America/Los_Angeles   651.0   \n\n                                          userInputs  \n0  [{'WhPerMile': 250, 'kWhRequested': 25.0, 'mil...  \n1  [{'WhPerMile': 280, 'kWhRequested': 70.0, 'mil...  \n2  [{'WhPerMile': 400, 'kWhRequested': 8.0, 'mile...  \n3  [{'WhPerMile': 400, 'kWhRequested': 8.0, 'mile...  \n4  [{'WhPerMile': 400, 'kWhRequested': 16.0, 'mil...  \n5  [{'WhPerMile': 600, 'kWhRequested': 24.0, 'mil...  \n6  [{'WhPerMile': 385, 'kWhRequested': 65.45, 'mi...  \n7  [{'WhPerMile': 300, 'kWhRequested': 45.0, 'mil...  \n8  [{'WhPerMile': 400, 'kWhRequested': 40.0, 'mil...  \n9  [{'WhPerMile': 400, 'kWhRequested': 20.0, 'mil...  ",
      "text/html": "<div>\n<style scoped>\n    .dataframe tbody tr th:only-of-type {\n        vertical-align: middle;\n    }\n\n    .dataframe tbody tr th {\n        vertical-align: top;\n    }\n\n    .dataframe thead th {\n        text-align: right;\n    }\n</style>\n<table border=\"1\" class=\"dataframe\">\n  <thead>\n    <tr style=\"text-align: right;\">\n      <th></th>\n      <th>Unnamed: 0</th>\n      <th>id</th>\n      <th>connectionTime</th>\n      <th>disconnectTime</th>\n      <th>doneChargingTime</th>\n      <th>kWhDelivered</th>\n      <th>sessionID</th>\n      <th>siteID</th>\n      <th>spaceID</th>\n      <th>stationID</th>\n      <th>timezone</th>\n      <th>userID</th>\n      <th>userInputs</th>\n    </tr>\n  </thead>\n  <tbody>\n    <tr>\n      <th>0</th>\n      <td>0</td>\n      <td>5e23b149f9af8b5fe4b973cf</td>\n      <td>2020-01-02 13:08:54+00:00</td>\n      <td>2020-01-02 19:11:15+00:00</td>\n      <td>2020-01-02 17:31:35+00:00</td>\n      <td>25.016</td>\n      <td>1_1_179_810_2020-01-02 13:08:53.870034</td>\n      <td>1</td>\n      <td>AG-3F30</td>\n      <td>1-1-179-810</td>\n      <td>America/Los_Angeles</td>\n      <td>194.0</td>\n      <td>[{'WhPerMile': 250, 'kWhRequested': 25.0, 'mil...</td>\n    </tr>\n    <tr>\n      <th>1</th>\n      <td>1</td>\n      <td>5e23b149f9af8b5fe4b973d0</td>\n      <td>2020-01-02 13:36:50+00:00</td>\n      <td>2020-01-02 22:38:21+00:00</td>\n      <td>2020-01-02 20:18:05+00:00</td>\n      <td>33.097</td>\n      <td>1_1_193_825_2020-01-02 13:36:49.599853</td>\n      <td>1</td>\n      <td>AG-1F01</td>\n      <td>1-1-193-825</td>\n      <td>America/Los_Angeles</td>\n      <td>4275.0</td>\n      <td>[{'WhPerMile': 280, 'kWhRequested': 70.0, 'mil...</td>\n    </tr>\n    <tr>\n      <th>2</th>\n      <td>2</td>\n      <td>5e23b149f9af8b5fe4b973d1</td>\n      <td>2020-01-02 13:56:35+00:00</td>\n      <td>2020-01-03 00:39:22+00:00</td>\n      <td>2020-01-02 16:35:06+00:00</td>\n      <td>6.521</td>\n      <td>1_1_193_829_2020-01-02 13:56:35.214993</td>\n      <td>1</td>\n      <td>AG-1F03</td>\n      <td>1-1-193-829</td>\n      <td>America/Los_Angeles</td>\n      <td>344.0</td>\n      <td>[{'WhPerMile': 400, 'kWhRequested': 8.0, 'mile...</td>\n    </tr>\n    <tr>\n      <th>3</th>\n      <td>3</td>\n      <td>5e23b149f9af8b5fe4b973d2</td>\n      <td>2020-01-02 13:59:58+00:00</td>\n      <td>2020-01-02 16:38:39+00:00</td>\n      <td>2020-01-02 15:18:45+00:00</td>\n      <td>2.355</td>\n      <td>1_1_193_820_2020-01-02 13:59:58.309319</td>\n      <td>1</td>\n      <td>AG-1F04</td>\n      <td>1-1-193-820</td>\n      <td>America/Los_Angeles</td>\n      <td>1117.0</td>\n      <td>[{'WhPerMile': 400, 'kWhRequested': 8.0, 'mile...</td>\n    </tr>\n    <tr>\n      <th>4</th>\n      <td>4</td>\n      <td>5e23b149f9af8b5fe4b973d3</td>\n      <td>2020-01-02 14:00:01+00:00</td>\n      <td>2020-01-02 22:08:40+00:00</td>\n      <td>2020-01-02 18:17:30+00:00</td>\n      <td>13.375</td>\n      <td>1_1_193_819_2020-01-02 14:00:00.779967</td>\n      <td>1</td>\n      <td>AG-1F06</td>\n      <td>1-1-193-819</td>\n      <td>America/Los_Angeles</td>\n      <td>334.0</td>\n      <td>[{'WhPerMile': 400, 'kWhRequested': 16.0, 'mil...</td>\n    </tr>\n    <tr>\n      <th>5</th>\n      <td>5</td>\n      <td>5e23b149f9af8b5fe4b973d4</td>\n      <td>2020-01-02 14:00:13+00:00</td>\n      <td>2020-01-02 23:00:41+00:00</td>\n      <td>2020-01-02 20:13:21+00:00</td>\n      <td>13.370</td>\n      <td>1_1_194_821_2020-01-02 14:00:05.241573</td>\n      <td>1</td>\n      <td>AG-1F13</td>\n      <td>1-1-194-821</td>\n      <td>America/Los_Angeles</td>\n      <td>3519.0</td>\n      <td>[{'WhPerMile': 600, 'kWhRequested': 24.0, 'mil...</td>\n    </tr>\n    <tr>\n      <th>6</th>\n      <td>6</td>\n      <td>5e23b149f9af8b5fe4b973d5</td>\n      <td>2020-01-02 14:09:14+00:00</td>\n      <td>2020-01-03 01:57:58+00:00</td>\n      <td>2020-01-03 00:59:21+00:00</td>\n      <td>43.477</td>\n      <td>1_1_178_817_2020-01-02 14:09:14.451827</td>\n      <td>1</td>\n      <td>AG-1F09</td>\n      <td>1-1-178-817</td>\n      <td>America/Los_Angeles</td>\n      <td>933.0</td>\n      <td>[{'WhPerMile': 385, 'kWhRequested': 65.45, 'mi...</td>\n    </tr>\n    <tr>\n      <th>7</th>\n      <td>7</td>\n      <td>5e23b149f9af8b5fe4b973d6</td>\n      <td>2020-01-02 14:17:32+00:00</td>\n      <td>2020-01-03 00:44:54+00:00</td>\n      <td>2020-01-02 20:22:40+00:00</td>\n      <td>32.441</td>\n      <td>1_1_191_804_2020-01-02 14:17:32.329535</td>\n      <td>1</td>\n      <td>AG-4F34</td>\n      <td>1-1-191-804</td>\n      <td>America/Los_Angeles</td>\n      <td>3737.0</td>\n      <td>[{'WhPerMile': 300, 'kWhRequested': 45.0, 'mil...</td>\n    </tr>\n    <tr>\n      <th>8</th>\n      <td>8</td>\n      <td>5e23b149f9af8b5fe4b973d7</td>\n      <td>2020-01-02 14:25:38+00:00</td>\n      <td>2020-01-02 19:36:05+00:00</td>\n      <td>2020-01-02 18:38:39+00:00</td>\n      <td>13.264</td>\n      <td>1_1_194_826_2020-01-02 14:25:37.578692</td>\n      <td>1</td>\n      <td>AG-1F11</td>\n      <td>1-1-194-826</td>\n      <td>America/Los_Angeles</td>\n      <td>419.0</td>\n      <td>[{'WhPerMile': 400, 'kWhRequested': 40.0, 'mil...</td>\n    </tr>\n    <tr>\n      <th>9</th>\n      <td>9</td>\n      <td>5e23b149f9af8b5fe4b973d8</td>\n      <td>2020-01-02 14:27:40+00:00</td>\n      <td>2020-01-02 20:01:48+00:00</td>\n      <td>2020-01-02 19:17:46+00:00</td>\n      <td>13.285</td>\n      <td>1_1_178_823_2020-01-02 14:27:39.582337</td>\n      <td>1</td>\n      <td>AG-1F08</td>\n      <td>1-1-178-823</td>\n      <td>America/Los_Angeles</td>\n      <td>651.0</td>\n      <td>[{'WhPerMile': 400, 'kWhRequested': 20.0, 'mil...</td>\n    </tr>\n  </tbody>\n</table>\n</div>"
     },
     "execution_count": 10,
     "metadata": {},
     "output_type": "execute_result"
    }
   ],
   "source": [
    "charging_set.head(10)"
   ]
  },
  {
   "cell_type": "markdown",
   "id": "7c683e67-9dc3-4a3c-8a8b-8aca1cf5013f",
   "metadata": {},
   "source": [
    "# TODO\n",
    "\n",
    "- check validity and meaning of data (userInput)\n",
    "- remove irrelevant columns\n",
    "- split userInput in own columns\n",
    "- check for duplicates\n",
    "- check for None-values (userID)\n",
    "- split userID into binary dummy (isRegistered)\n",
    "- check for None-values for isRegistered = 1 (remove None-values for registered users)\n",
    "- check data types of columns\n",
    "- look at columns with multiple data types (remove wrong entries)\n",
    "- check ranges of columns & unique values"
   ]
  },
  {
   "cell_type": "markdown",
   "id": "6338b195-ffc8-41d9-b994-520187f70038",
   "metadata": {},
   "source": [
    "# Data Cleanup\n",
    "\n",
    "## Step 1: check validity of columns\n",
    "\n",
    "- remove unnecessary \"unnamed\" column\n",
    "- sessionID does not bring any relevant information for our analysis"
   ]
  },
  {
   "cell_type": "code",
   "execution_count": 32,
   "id": "f5e18851-cf2e-4ae7-aa0f-8b4d11f1ceea",
   "metadata": {
    "ExecuteTime": {
     "end_time": "2024-12-23T16:00:21.819911Z",
     "start_time": "2024-12-23T16:00:21.680992Z"
    }
   },
   "outputs": [
    {
     "data": {
      "text/plain": "                         id             connectionTime  \\\n0  5e23b149f9af8b5fe4b973cf  2020-01-02 13:08:54+00:00   \n1  5e23b149f9af8b5fe4b973d0  2020-01-02 13:36:50+00:00   \n2  5e23b149f9af8b5fe4b973d1  2020-01-02 13:56:35+00:00   \n\n              disconnectTime           doneChargingTime  kWhDelivered  siteID  \\\n0  2020-01-02 19:11:15+00:00  2020-01-02 17:31:35+00:00        25.016       1   \n1  2020-01-02 22:38:21+00:00  2020-01-02 20:18:05+00:00        33.097       1   \n2  2020-01-03 00:39:22+00:00  2020-01-02 16:35:06+00:00         6.521       1   \n\n   spaceID    stationID             timezone  userID  \\\n0  AG-3F30  1-1-179-810  America/Los_Angeles   194.0   \n1  AG-1F01  1-1-193-825  America/Los_Angeles  4275.0   \n2  AG-1F03  1-1-193-829  America/Los_Angeles   344.0   \n\n                                          userInputs  \n0  [{'WhPerMile': 250, 'kWhRequested': 25.0, 'mil...  \n1  [{'WhPerMile': 280, 'kWhRequested': 70.0, 'mil...  \n2  [{'WhPerMile': 400, 'kWhRequested': 8.0, 'mile...  ",
      "text/html": "<div>\n<style scoped>\n    .dataframe tbody tr th:only-of-type {\n        vertical-align: middle;\n    }\n\n    .dataframe tbody tr th {\n        vertical-align: top;\n    }\n\n    .dataframe thead th {\n        text-align: right;\n    }\n</style>\n<table border=\"1\" class=\"dataframe\">\n  <thead>\n    <tr style=\"text-align: right;\">\n      <th></th>\n      <th>id</th>\n      <th>connectionTime</th>\n      <th>disconnectTime</th>\n      <th>doneChargingTime</th>\n      <th>kWhDelivered</th>\n      <th>siteID</th>\n      <th>spaceID</th>\n      <th>stationID</th>\n      <th>timezone</th>\n      <th>userID</th>\n      <th>userInputs</th>\n    </tr>\n  </thead>\n  <tbody>\n    <tr>\n      <th>0</th>\n      <td>5e23b149f9af8b5fe4b973cf</td>\n      <td>2020-01-02 13:08:54+00:00</td>\n      <td>2020-01-02 19:11:15+00:00</td>\n      <td>2020-01-02 17:31:35+00:00</td>\n      <td>25.016</td>\n      <td>1</td>\n      <td>AG-3F30</td>\n      <td>1-1-179-810</td>\n      <td>America/Los_Angeles</td>\n      <td>194.0</td>\n      <td>[{'WhPerMile': 250, 'kWhRequested': 25.0, 'mil...</td>\n    </tr>\n    <tr>\n      <th>1</th>\n      <td>5e23b149f9af8b5fe4b973d0</td>\n      <td>2020-01-02 13:36:50+00:00</td>\n      <td>2020-01-02 22:38:21+00:00</td>\n      <td>2020-01-02 20:18:05+00:00</td>\n      <td>33.097</td>\n      <td>1</td>\n      <td>AG-1F01</td>\n      <td>1-1-193-825</td>\n      <td>America/Los_Angeles</td>\n      <td>4275.0</td>\n      <td>[{'WhPerMile': 280, 'kWhRequested': 70.0, 'mil...</td>\n    </tr>\n    <tr>\n      <th>2</th>\n      <td>5e23b149f9af8b5fe4b973d1</td>\n      <td>2020-01-02 13:56:35+00:00</td>\n      <td>2020-01-03 00:39:22+00:00</td>\n      <td>2020-01-02 16:35:06+00:00</td>\n      <td>6.521</td>\n      <td>1</td>\n      <td>AG-1F03</td>\n      <td>1-1-193-829</td>\n      <td>America/Los_Angeles</td>\n      <td>344.0</td>\n      <td>[{'WhPerMile': 400, 'kWhRequested': 8.0, 'mile...</td>\n    </tr>\n  </tbody>\n</table>\n</div>"
     },
     "execution_count": 32,
     "metadata": {},
     "output_type": "execute_result"
    }
   ],
   "source": [
    "# remove irrelevant columns\n",
    "charging_set.drop('Unnamed: 0', axis=1, inplace=True)\n",
    "charging_set.drop('sessionID', axis=1, inplace=True) # does not bring relevant information for our analysis\n",
    "charging_set.head(3)"
   ]
  },
  {
   "cell_type": "code",
   "outputs": [],
   "source": [
    "# split userInputs into own columns\n",
    "def parse_user_inputs(row):\n",
    "    try:\n",
    "        # Parse the row as a Python object (e.g., list of dicts)\n",
    "        parsed = ast.literal_eval(row) if pd.notnull(row) else []\n",
    "        return parsed[0] if isinstance(parsed, list) and len(parsed) > 0 else {}\n",
    "    except (ValueError, SyntaxError):\n",
    "        return {}\n",
    "\n",
    "# Parse 'userInputs' column in charging_set\n",
    "charging_set['userInputs'] = charging_set['userInputs'].apply(parse_user_inputs)\n",
    "\n",
    "# Specify the desired features to extract\n",
    "desired_features = [\n",
    "    'WhPerMile', 'kWhRequested', 'milesRequested',\n",
    "    'minutesAvailable', 'modifiedAt', 'paymentRequired',\n",
    "    'requestedDeparture'\n",
    "]\n",
    "\n",
    "# Extract desired features and create new columns\n",
    "for feature in desired_features:\n",
    "    charging_set[feature] = charging_set['userInputs'].apply(\n",
    "        lambda x: x.get(feature) if isinstance(x, dict) else None\n",
    "    )\n",
    "# TODO: has to be commented so a cell further down in this notebook can run (it needs userInputs)\n",
    "# charging_set = charging_set.drop(columns=['userInputs'])\n",
    "charging_set"
   ],
   "metadata": {
    "collapsed": false,
    "is_executing": true
   },
   "id": "a9b08dd3585a977c",
   "execution_count": null
  },
  {
   "cell_type": "code",
   "outputs": [
    {
     "name": "stdout",
     "output_type": "stream",
     "text": [
      "sum of duplicates: 1413\n"
     ]
    },
    {
     "data": {
      "text/plain": "                             id             connectionTime  \\\n0      5e23b149f9af8b5fe4b973cf  2020-01-02 13:08:54+00:00   \n1      5e23b149f9af8b5fe4b973d0  2020-01-02 13:36:50+00:00   \n2      5e23b149f9af8b5fe4b973d1  2020-01-02 13:56:35+00:00   \n3      5e23b149f9af8b5fe4b973d2  2020-01-02 13:59:58+00:00   \n4      5e23b149f9af8b5fe4b973d3  2020-01-02 14:00:01+00:00   \n...                         ...                        ...   \n65032  5d2fbdd3f9af8b4d0dd0d54a  2019-07-01 21:49:12+00:00   \n65033  5d2fbdd3f9af8b4d0dd0d54b  2019-07-01 21:58:45+00:00   \n65034  5d2fbdd3f9af8b4d0dd0d54c  2019-07-01 22:02:21+00:00   \n65035  5d2fbdd3f9af8b4d0dd0d54d  2019-07-01 22:23:44+00:00   \n65036  5d2fbdd3f9af8b4d0dd0d54e  2019-07-01 22:36:08+00:00   \n\n                  disconnectTime           doneChargingTime  kWhDelivered  \\\n0      2020-01-02 19:11:15+00:00  2020-01-02 17:31:35+00:00        25.016   \n1      2020-01-02 22:38:21+00:00  2020-01-02 20:18:05+00:00        33.097   \n2      2020-01-03 00:39:22+00:00  2020-01-02 16:35:06+00:00         6.521   \n3      2020-01-02 16:38:39+00:00  2020-01-02 15:18:45+00:00         2.355   \n4      2020-01-02 22:08:40+00:00  2020-01-02 18:17:30+00:00        13.375   \n...                          ...                        ...           ...   \n65032  2019-07-02 01:37:18+00:00  2019-07-01 23:14:33+00:00         8.399   \n65033  2019-07-02 00:39:48+00:00  2019-07-02 00:40:21+00:00        16.864   \n65034  2019-07-02 00:58:50+00:00  2019-07-02 00:59:23+00:00        18.335   \n65035  2019-07-02 02:03:36+00:00  2019-07-02 02:04:06+00:00        22.815   \n65036  2019-07-02 01:10:52+00:00  2019-07-02 00:24:32+00:00        10.241   \n\n       siteID  spaceID    stationID             timezone  userID  WhPerMile  \\\n0           1  AG-3F30  1-1-179-810  America/Los_Angeles   194.0      250.0   \n1           1  AG-1F01  1-1-193-825  America/Los_Angeles  4275.0      280.0   \n2           1  AG-1F03  1-1-193-829  America/Los_Angeles   344.0      400.0   \n3           1  AG-1F04  1-1-193-820  America/Los_Angeles  1117.0      400.0   \n4           1  AG-1F06  1-1-193-819  America/Los_Angeles   334.0      400.0   \n...       ...      ...          ...                  ...     ...        ...   \n65032       1  AG-3F18  1-1-179-798  America/Los_Angeles  1346.0      400.0   \n65033       1  AG-3F20  1-1-179-794  America/Los_Angeles   364.0      400.0   \n65034       1  AG-4F47  1-1-191-807  America/Los_Angeles  2050.0      333.0   \n65035       1  AG-3F31  1-1-179-781  America/Los_Angeles  1626.0      200.0   \n65036       1  AG-1F06  1-1-193-819  America/Los_Angeles  2299.0      333.0   \n\n       kWhRequested  milesRequested  minutesAvailable  \\\n0             25.00           100.0             463.0   \n1             70.00           250.0             595.0   \n2              8.00            20.0              60.0   \n3              8.00            20.0              65.0   \n4             16.00            40.0             504.0   \n...             ...             ...               ...   \n65032         32.00            80.0              36.0   \n65033         40.00           100.0             234.0   \n65034         29.97            90.0             309.0   \n65035         34.00           170.0              99.0   \n65036         16.65            50.0             191.0   \n\n                          modifiedAt paymentRequired  \\\n0      Thu, 02 Jan 2020 13:09:39 GMT            True   \n1      Thu, 02 Jan 2020 13:37:11 GMT            True   \n2      Thu, 02 Jan 2020 13:57:17 GMT            True   \n3      Thu, 02 Jan 2020 14:00:03 GMT            True   \n4      Thu, 02 Jan 2020 14:00:13 GMT            True   \n...                              ...             ...   \n65032  Mon, 01 Jul 2019 21:49:37 GMT            True   \n65033  Mon, 01 Jul 2019 21:59:09 GMT            True   \n65034  Mon, 01 Jul 2019 22:02:37 GMT            True   \n65035  Mon, 01 Jul 2019 22:23:43 GMT            True   \n65036  Mon, 01 Jul 2019 22:36:08 GMT            True   \n\n                  requestedDeparture  \n0      Thu, 02 Jan 2020 20:51:54 GMT  \n1      Thu, 02 Jan 2020 23:31:50 GMT  \n2      Thu, 02 Jan 2020 14:56:35 GMT  \n3      Thu, 02 Jan 2020 15:04:58 GMT  \n4      Thu, 02 Jan 2020 22:24:01 GMT  \n...                              ...  \n65032  Mon, 01 Jul 2019 22:25:12 GMT  \n65033  Tue, 02 Jul 2019 01:52:45 GMT  \n65034  Tue, 02 Jul 2019 03:11:21 GMT  \n65035  Tue, 02 Jul 2019 00:02:44 GMT  \n65036  Tue, 02 Jul 2019 01:47:08 GMT  \n\n[65037 rows x 17 columns]",
      "text/html": "<div>\n<style scoped>\n    .dataframe tbody tr th:only-of-type {\n        vertical-align: middle;\n    }\n\n    .dataframe tbody tr th {\n        vertical-align: top;\n    }\n\n    .dataframe thead th {\n        text-align: right;\n    }\n</style>\n<table border=\"1\" class=\"dataframe\">\n  <thead>\n    <tr style=\"text-align: right;\">\n      <th></th>\n      <th>id</th>\n      <th>connectionTime</th>\n      <th>disconnectTime</th>\n      <th>doneChargingTime</th>\n      <th>kWhDelivered</th>\n      <th>siteID</th>\n      <th>spaceID</th>\n      <th>stationID</th>\n      <th>timezone</th>\n      <th>userID</th>\n      <th>WhPerMile</th>\n      <th>kWhRequested</th>\n      <th>milesRequested</th>\n      <th>minutesAvailable</th>\n      <th>modifiedAt</th>\n      <th>paymentRequired</th>\n      <th>requestedDeparture</th>\n    </tr>\n  </thead>\n  <tbody>\n    <tr>\n      <th>0</th>\n      <td>5e23b149f9af8b5fe4b973cf</td>\n      <td>2020-01-02 13:08:54+00:00</td>\n      <td>2020-01-02 19:11:15+00:00</td>\n      <td>2020-01-02 17:31:35+00:00</td>\n      <td>25.016</td>\n      <td>1</td>\n      <td>AG-3F30</td>\n      <td>1-1-179-810</td>\n      <td>America/Los_Angeles</td>\n      <td>194.0</td>\n      <td>250.0</td>\n      <td>25.00</td>\n      <td>100.0</td>\n      <td>463.0</td>\n      <td>Thu, 02 Jan 2020 13:09:39 GMT</td>\n      <td>True</td>\n      <td>Thu, 02 Jan 2020 20:51:54 GMT</td>\n    </tr>\n    <tr>\n      <th>1</th>\n      <td>5e23b149f9af8b5fe4b973d0</td>\n      <td>2020-01-02 13:36:50+00:00</td>\n      <td>2020-01-02 22:38:21+00:00</td>\n      <td>2020-01-02 20:18:05+00:00</td>\n      <td>33.097</td>\n      <td>1</td>\n      <td>AG-1F01</td>\n      <td>1-1-193-825</td>\n      <td>America/Los_Angeles</td>\n      <td>4275.0</td>\n      <td>280.0</td>\n      <td>70.00</td>\n      <td>250.0</td>\n      <td>595.0</td>\n      <td>Thu, 02 Jan 2020 13:37:11 GMT</td>\n      <td>True</td>\n      <td>Thu, 02 Jan 2020 23:31:50 GMT</td>\n    </tr>\n    <tr>\n      <th>2</th>\n      <td>5e23b149f9af8b5fe4b973d1</td>\n      <td>2020-01-02 13:56:35+00:00</td>\n      <td>2020-01-03 00:39:22+00:00</td>\n      <td>2020-01-02 16:35:06+00:00</td>\n      <td>6.521</td>\n      <td>1</td>\n      <td>AG-1F03</td>\n      <td>1-1-193-829</td>\n      <td>America/Los_Angeles</td>\n      <td>344.0</td>\n      <td>400.0</td>\n      <td>8.00</td>\n      <td>20.0</td>\n      <td>60.0</td>\n      <td>Thu, 02 Jan 2020 13:57:17 GMT</td>\n      <td>True</td>\n      <td>Thu, 02 Jan 2020 14:56:35 GMT</td>\n    </tr>\n    <tr>\n      <th>3</th>\n      <td>5e23b149f9af8b5fe4b973d2</td>\n      <td>2020-01-02 13:59:58+00:00</td>\n      <td>2020-01-02 16:38:39+00:00</td>\n      <td>2020-01-02 15:18:45+00:00</td>\n      <td>2.355</td>\n      <td>1</td>\n      <td>AG-1F04</td>\n      <td>1-1-193-820</td>\n      <td>America/Los_Angeles</td>\n      <td>1117.0</td>\n      <td>400.0</td>\n      <td>8.00</td>\n      <td>20.0</td>\n      <td>65.0</td>\n      <td>Thu, 02 Jan 2020 14:00:03 GMT</td>\n      <td>True</td>\n      <td>Thu, 02 Jan 2020 15:04:58 GMT</td>\n    </tr>\n    <tr>\n      <th>4</th>\n      <td>5e23b149f9af8b5fe4b973d3</td>\n      <td>2020-01-02 14:00:01+00:00</td>\n      <td>2020-01-02 22:08:40+00:00</td>\n      <td>2020-01-02 18:17:30+00:00</td>\n      <td>13.375</td>\n      <td>1</td>\n      <td>AG-1F06</td>\n      <td>1-1-193-819</td>\n      <td>America/Los_Angeles</td>\n      <td>334.0</td>\n      <td>400.0</td>\n      <td>16.00</td>\n      <td>40.0</td>\n      <td>504.0</td>\n      <td>Thu, 02 Jan 2020 14:00:13 GMT</td>\n      <td>True</td>\n      <td>Thu, 02 Jan 2020 22:24:01 GMT</td>\n    </tr>\n    <tr>\n      <th>...</th>\n      <td>...</td>\n      <td>...</td>\n      <td>...</td>\n      <td>...</td>\n      <td>...</td>\n      <td>...</td>\n      <td>...</td>\n      <td>...</td>\n      <td>...</td>\n      <td>...</td>\n      <td>...</td>\n      <td>...</td>\n      <td>...</td>\n      <td>...</td>\n      <td>...</td>\n      <td>...</td>\n      <td>...</td>\n    </tr>\n    <tr>\n      <th>65032</th>\n      <td>5d2fbdd3f9af8b4d0dd0d54a</td>\n      <td>2019-07-01 21:49:12+00:00</td>\n      <td>2019-07-02 01:37:18+00:00</td>\n      <td>2019-07-01 23:14:33+00:00</td>\n      <td>8.399</td>\n      <td>1</td>\n      <td>AG-3F18</td>\n      <td>1-1-179-798</td>\n      <td>America/Los_Angeles</td>\n      <td>1346.0</td>\n      <td>400.0</td>\n      <td>32.00</td>\n      <td>80.0</td>\n      <td>36.0</td>\n      <td>Mon, 01 Jul 2019 21:49:37 GMT</td>\n      <td>True</td>\n      <td>Mon, 01 Jul 2019 22:25:12 GMT</td>\n    </tr>\n    <tr>\n      <th>65033</th>\n      <td>5d2fbdd3f9af8b4d0dd0d54b</td>\n      <td>2019-07-01 21:58:45+00:00</td>\n      <td>2019-07-02 00:39:48+00:00</td>\n      <td>2019-07-02 00:40:21+00:00</td>\n      <td>16.864</td>\n      <td>1</td>\n      <td>AG-3F20</td>\n      <td>1-1-179-794</td>\n      <td>America/Los_Angeles</td>\n      <td>364.0</td>\n      <td>400.0</td>\n      <td>40.00</td>\n      <td>100.0</td>\n      <td>234.0</td>\n      <td>Mon, 01 Jul 2019 21:59:09 GMT</td>\n      <td>True</td>\n      <td>Tue, 02 Jul 2019 01:52:45 GMT</td>\n    </tr>\n    <tr>\n      <th>65034</th>\n      <td>5d2fbdd3f9af8b4d0dd0d54c</td>\n      <td>2019-07-01 22:02:21+00:00</td>\n      <td>2019-07-02 00:58:50+00:00</td>\n      <td>2019-07-02 00:59:23+00:00</td>\n      <td>18.335</td>\n      <td>1</td>\n      <td>AG-4F47</td>\n      <td>1-1-191-807</td>\n      <td>America/Los_Angeles</td>\n      <td>2050.0</td>\n      <td>333.0</td>\n      <td>29.97</td>\n      <td>90.0</td>\n      <td>309.0</td>\n      <td>Mon, 01 Jul 2019 22:02:37 GMT</td>\n      <td>True</td>\n      <td>Tue, 02 Jul 2019 03:11:21 GMT</td>\n    </tr>\n    <tr>\n      <th>65035</th>\n      <td>5d2fbdd3f9af8b4d0dd0d54d</td>\n      <td>2019-07-01 22:23:44+00:00</td>\n      <td>2019-07-02 02:03:36+00:00</td>\n      <td>2019-07-02 02:04:06+00:00</td>\n      <td>22.815</td>\n      <td>1</td>\n      <td>AG-3F31</td>\n      <td>1-1-179-781</td>\n      <td>America/Los_Angeles</td>\n      <td>1626.0</td>\n      <td>200.0</td>\n      <td>34.00</td>\n      <td>170.0</td>\n      <td>99.0</td>\n      <td>Mon, 01 Jul 2019 22:23:43 GMT</td>\n      <td>True</td>\n      <td>Tue, 02 Jul 2019 00:02:44 GMT</td>\n    </tr>\n    <tr>\n      <th>65036</th>\n      <td>5d2fbdd3f9af8b4d0dd0d54e</td>\n      <td>2019-07-01 22:36:08+00:00</td>\n      <td>2019-07-02 01:10:52+00:00</td>\n      <td>2019-07-02 00:24:32+00:00</td>\n      <td>10.241</td>\n      <td>1</td>\n      <td>AG-1F06</td>\n      <td>1-1-193-819</td>\n      <td>America/Los_Angeles</td>\n      <td>2299.0</td>\n      <td>333.0</td>\n      <td>16.65</td>\n      <td>50.0</td>\n      <td>191.0</td>\n      <td>Mon, 01 Jul 2019 22:36:08 GMT</td>\n      <td>True</td>\n      <td>Tue, 02 Jul 2019 01:47:08 GMT</td>\n    </tr>\n  </tbody>\n</table>\n<p>65037 rows × 17 columns</p>\n</div>"
     },
     "execution_count": 13,
     "metadata": {},
     "output_type": "execute_result"
    }
   ],
   "source": [
    "# check for duplicates\n",
    "duplicate_counter = charging_set.duplicated().sum()\n",
    "duplicates = charging_set[charging_set.duplicated()]\n",
    "print(\"sum of duplicates:\", duplicate_counter)\n",
    "charging_set.drop_duplicates()"
   ],
   "metadata": {
    "collapsed": false,
    "ExecuteTime": {
     "end_time": "2024-12-23T15:57:13.010189Z",
     "start_time": "2024-12-23T15:57:12.401404Z"
    }
   },
   "id": "74d6638dd49554a4",
   "execution_count": 13
  },
  {
   "cell_type": "code",
   "outputs": [
    {
     "name": "stdout",
     "output_type": "stream",
     "text": [
      "Feature: requestedDeparture, Count of NaN-Values: 17263\n",
      "Feature: milesRequested, Count of NaN-Values: 17263\n",
      "Feature: paymentRequired, Count of NaN-Values: 17263\n",
      "Feature: modifiedAt, Count of NaN-Values: 17263\n",
      "Feature: minutesAvailable, Count of NaN-Values: 17263\n",
      "Feature: WhPerMile, Count of NaN-Values: 17263\n",
      "Feature: kWhRequested, Count of NaN-Values: 17263\n",
      "Feature: userID, Count of NaN-Values: 17263\n",
      "Feature: doneChargingTime, Count of NaN-Values: 4088\n",
      "Feature: id, Count of NaN-Values: 0\n",
      "Feature: timezone, Count of NaN-Values: 0\n",
      "Feature: spaceID, Count of NaN-Values: 0\n",
      "Feature: stationID, Count of NaN-Values: 0\n",
      "Feature: kWhDelivered, Count of NaN-Values: 0\n",
      "Feature: disconnectTime, Count of NaN-Values: 0\n",
      "Feature: connectionTime, Count of NaN-Values: 0\n",
      "Feature: siteID, Count of NaN-Values: 0\n"
     ]
    }
   ],
   "source": [
    "# check for none-values\n",
    "nan_counts = charging_set.isna().sum()\n",
    "nan_counts_sorted = nan_counts.sort_values(ascending=False)\n",
    "\n",
    "for column, count in nan_counts_sorted.items():\n",
    "    print(f\"Feature: {column}, Count of NaN-Values: {count}\")"
   ],
   "metadata": {
    "collapsed": false,
    "ExecuteTime": {
     "end_time": "2024-12-23T15:57:16.449431Z",
     "start_time": "2024-12-23T15:57:16.209949Z"
    }
   },
   "id": "5aba7030b49abcb",
   "execution_count": 14
  },
  {
   "cell_type": "code",
   "outputs": [
    {
     "name": "stdout",
     "output_type": "stream",
     "text": [
      "id types: [<class 'str'>]\n",
      "connectionTime types: [<class 'str'>]\n",
      "disconnectTime types: [<class 'str'>]\n",
      "doneChargingTime types: [<class 'str'> <class 'float'>]\n",
      "kWhDelivered types: [<class 'float'>]\n",
      "siteID types: [<class 'int'>]\n",
      "spaceID types: [<class 'str'>]\n",
      "stationID types: [<class 'str'>]\n",
      "timezone types: [<class 'str'>]\n",
      "userID types: [<class 'float'>]\n"
     ]
    }
   ],
   "source": [
    "### check data types of each column\n",
    "# Find the unique types\n",
    "# TODO: add userInputs columns into here\n",
    "id_types = charging_set[\"id\"].apply(type).unique()\n",
    "connectionTime_types = charging_set[\"connectionTime\"].apply(type).unique()\n",
    "disconnectTime_types = charging_set[\"disconnectTime\"].apply(type).unique()\n",
    "doneChargingTime_types = charging_set[\"doneChargingTime\"].apply(type).unique()\n",
    "kWhDelivered_types = charging_set[\"kWhDelivered\"].apply(type).unique()\n",
    "siteID_types = charging_set[\"siteID\"].apply(type).unique()\n",
    "spaceID_types = charging_set[\"spaceID\"].apply(type).unique()\n",
    "stationID_types = charging_set[\"stationID\"].apply(type).unique()\n",
    "timezone_types = charging_set[\"timezone\"].apply(type).unique()\n",
    "userID_types = charging_set[\"userID\"].apply(type).unique()\n",
    "\n",
    "# Print the unique types\n",
    "print(\"id types:\", id_types)\n",
    "print(\"connectionTime types:\", connectionTime_types)\n",
    "print(\"disconnectTime types:\", disconnectTime_types)\n",
    "print(\"doneChargingTime types:\", doneChargingTime_types)\n",
    "print(\"kWhDelivered types:\", kWhDelivered_types)\n",
    "print(\"siteID types:\", siteID_types)\n",
    "print(\"spaceID types:\", spaceID_types)\n",
    "print(\"stationID types:\", stationID_types)\n",
    "print(\"timezone types:\", timezone_types)\n",
    "print(\"userID types:\", userID_types)"
   ],
   "metadata": {
    "collapsed": false,
    "ExecuteTime": {
     "end_time": "2024-12-23T15:57:58.484924Z",
     "start_time": "2024-12-23T15:57:58.267047Z"
    }
   },
   "id": "6fc3854cf1daa082",
   "execution_count": 16
  },
  {
   "cell_type": "code",
   "execution_count": 17,
   "id": "ec1a12c7-7195-4a9a-a12d-4e853e972475",
   "metadata": {
    "ExecuteTime": {
     "end_time": "2024-12-23T15:58:00.857295Z",
     "start_time": "2024-12-23T15:58:00.739971Z"
    }
   },
   "outputs": [],
   "source": [
    "##### check ranges of column values\n",
    "# TODO: replace None values with None-placeholders, then this cell also runs smoothly\n",
    "# print(\"id data range:\", np.sort(charging_set[\"id\"].unique()))\n",
    "# print(\"connectionTime data range:\", np.sort(charging_set[\"connectionTime\"].unique()))\n",
    "# print(\"disconnectTime data range:\", np.sort(charging_set[\"disconnectTime\"].unique()))\n",
    "# print(\"doneChargingTime data range:\", np.sort(charging_set[\"doneChargingTime\"].unique()))\n",
    "# print(\"kWhDelivered data range:\", np.sort(charging_set[\"kWhDelivered\"].unique()))\n",
    "# print(\"sessionID data range:\", np.sort(charging_set[\"sessionID\"].unique()))\n",
    "# print(\"siteID data range:\", np.sort(charging_set[\"siteID\"].unique()))\n",
    "# print(\"spaceID data range:\", np.sort(charging_set[\"spaceID\"].unique()))\n",
    "# print(\"stationID data range:\", np.sort(charging_set[\"stationID\"].unique()))\n",
    "# print(\"timezone data range:\", np.sort(charging_set[\"timezone\"].unique()))\n",
    "# print(\"userID data range:\", np.sort(charging_set[\"userID\"].unique()))\n",
    "# print(\"userInputs data range:\", np.sort(charging_set[\"userInputs\"].unique()))\n",
    "# print(\"connectionTime_date data range:\", np.sort(charging_set[\"connectionTime_date\"].unique()))\n",
    "# print(\"connectionTime_time data range:\", np.sort(charging_set[\"connectionTime_time\"].unique()))\n",
    "# print(\"disconnectTime_date data range:\", np.sort(charging_set[\"disconnectTime_date\"].unique()))\n",
    "# print(\"disconnectTime_time data range:\", np.sort(charging_set[\"disconnectTime_time\"].unique()))\n",
    "# print(\"doneChargingTime_date data range:\", np.sort(charging_set[\"doneChargingTime_date\"].unique()))\n",
    "# print(\"doneChargingTime_time data range:\", np.sort(charging_set[\"doneChargingTime_time\"].unique()))"
   ]
  },
  {
   "cell_type": "markdown",
   "id": "94707c7d-6c0a-45e3-8f84-fefeff6624f1",
   "metadata": {},
   "source": [
    "Since the \"timezone\" column only has the value \"America/Los Angeles\", we can remove this column."
   ]
  },
  {
   "cell_type": "code",
   "execution_count": 18,
   "id": "fb00c952-8d0e-4908-bdc0-c7c088666d55",
   "metadata": {
    "ExecuteTime": {
     "end_time": "2024-12-23T15:58:10.266735Z",
     "start_time": "2024-12-23T15:58:10.198476Z"
    }
   },
   "outputs": [
    {
     "data": {
      "text/plain": "                         id             connectionTime  \\\n0  5e23b149f9af8b5fe4b973cf  2020-01-02 13:08:54+00:00   \n1  5e23b149f9af8b5fe4b973d0  2020-01-02 13:36:50+00:00   \n2  5e23b149f9af8b5fe4b973d1  2020-01-02 13:56:35+00:00   \n\n              disconnectTime           doneChargingTime  kWhDelivered  siteID  \\\n0  2020-01-02 19:11:15+00:00  2020-01-02 17:31:35+00:00        25.016       1   \n1  2020-01-02 22:38:21+00:00  2020-01-02 20:18:05+00:00        33.097       1   \n2  2020-01-03 00:39:22+00:00  2020-01-02 16:35:06+00:00         6.521       1   \n\n   spaceID    stationID  userID  WhPerMile  kWhRequested  milesRequested  \\\n0  AG-3F30  1-1-179-810   194.0      250.0          25.0           100.0   \n1  AG-1F01  1-1-193-825  4275.0      280.0          70.0           250.0   \n2  AG-1F03  1-1-193-829   344.0      400.0           8.0            20.0   \n\n   minutesAvailable                     modifiedAt paymentRequired  \\\n0             463.0  Thu, 02 Jan 2020 13:09:39 GMT            True   \n1             595.0  Thu, 02 Jan 2020 13:37:11 GMT            True   \n2              60.0  Thu, 02 Jan 2020 13:57:17 GMT            True   \n\n              requestedDeparture  \n0  Thu, 02 Jan 2020 20:51:54 GMT  \n1  Thu, 02 Jan 2020 23:31:50 GMT  \n2  Thu, 02 Jan 2020 14:56:35 GMT  ",
      "text/html": "<div>\n<style scoped>\n    .dataframe tbody tr th:only-of-type {\n        vertical-align: middle;\n    }\n\n    .dataframe tbody tr th {\n        vertical-align: top;\n    }\n\n    .dataframe thead th {\n        text-align: right;\n    }\n</style>\n<table border=\"1\" class=\"dataframe\">\n  <thead>\n    <tr style=\"text-align: right;\">\n      <th></th>\n      <th>id</th>\n      <th>connectionTime</th>\n      <th>disconnectTime</th>\n      <th>doneChargingTime</th>\n      <th>kWhDelivered</th>\n      <th>siteID</th>\n      <th>spaceID</th>\n      <th>stationID</th>\n      <th>userID</th>\n      <th>WhPerMile</th>\n      <th>kWhRequested</th>\n      <th>milesRequested</th>\n      <th>minutesAvailable</th>\n      <th>modifiedAt</th>\n      <th>paymentRequired</th>\n      <th>requestedDeparture</th>\n    </tr>\n  </thead>\n  <tbody>\n    <tr>\n      <th>0</th>\n      <td>5e23b149f9af8b5fe4b973cf</td>\n      <td>2020-01-02 13:08:54+00:00</td>\n      <td>2020-01-02 19:11:15+00:00</td>\n      <td>2020-01-02 17:31:35+00:00</td>\n      <td>25.016</td>\n      <td>1</td>\n      <td>AG-3F30</td>\n      <td>1-1-179-810</td>\n      <td>194.0</td>\n      <td>250.0</td>\n      <td>25.0</td>\n      <td>100.0</td>\n      <td>463.0</td>\n      <td>Thu, 02 Jan 2020 13:09:39 GMT</td>\n      <td>True</td>\n      <td>Thu, 02 Jan 2020 20:51:54 GMT</td>\n    </tr>\n    <tr>\n      <th>1</th>\n      <td>5e23b149f9af8b5fe4b973d0</td>\n      <td>2020-01-02 13:36:50+00:00</td>\n      <td>2020-01-02 22:38:21+00:00</td>\n      <td>2020-01-02 20:18:05+00:00</td>\n      <td>33.097</td>\n      <td>1</td>\n      <td>AG-1F01</td>\n      <td>1-1-193-825</td>\n      <td>4275.0</td>\n      <td>280.0</td>\n      <td>70.0</td>\n      <td>250.0</td>\n      <td>595.0</td>\n      <td>Thu, 02 Jan 2020 13:37:11 GMT</td>\n      <td>True</td>\n      <td>Thu, 02 Jan 2020 23:31:50 GMT</td>\n    </tr>\n    <tr>\n      <th>2</th>\n      <td>5e23b149f9af8b5fe4b973d1</td>\n      <td>2020-01-02 13:56:35+00:00</td>\n      <td>2020-01-03 00:39:22+00:00</td>\n      <td>2020-01-02 16:35:06+00:00</td>\n      <td>6.521</td>\n      <td>1</td>\n      <td>AG-1F03</td>\n      <td>1-1-193-829</td>\n      <td>344.0</td>\n      <td>400.0</td>\n      <td>8.0</td>\n      <td>20.0</td>\n      <td>60.0</td>\n      <td>Thu, 02 Jan 2020 13:57:17 GMT</td>\n      <td>True</td>\n      <td>Thu, 02 Jan 2020 14:56:35 GMT</td>\n    </tr>\n  </tbody>\n</table>\n</div>"
     },
     "execution_count": 18,
     "metadata": {},
     "output_type": "execute_result"
    }
   ],
   "source": [
    "charging_set.drop('timezone', axis=1, inplace=True)\n",
    "charging_set.head(3)"
   ]
  },
  {
   "cell_type": "markdown",
   "id": "ed938cfe-22fd-4458-ab73-a1cd58c47b87",
   "metadata": {},
   "source": [
    "Next step: analyze \"connectionTime\", \"disconnectTime\" and \"doneChargingTime\", since these columns should hold time-datatypes and not strings nor floats (except for NaN-values since these have the type float)."
   ]
  },
  {
   "cell_type": "markdown",
   "id": "76f55f12-a01b-4a05-82de-343f3a41f445",
   "metadata": {},
   "source": [
    "# Time Data Preparation/Feature Engineering (draft)\n",
    "\n",
    "For better data understanding and to improve data accessibility and interpretability, it is important to convert the current time data format into a human-readable time datatype. Currently the time related columns (\"connectionTime\", \"disconnectionTime\", \"doneChargingTime\") are formatted in the UTC format. To prepare the data for further interpretation we need to gather the relevant information. In this case the important information is the charging duration.\n",
    "\n",
    "To get the duration we divide each of the time related columns into separate date and datetime columns. With these columns, the difference between connecting the EV with the station (\"connectionTime\") and disconnecting the EV with the station (\"disconnectTime\") can be calculated and stored in a separate column (\"chargingDuration\").\n"
   ]
  },
  {
   "cell_type": "code",
   "execution_count": 19,
   "id": "aaad9ca0738a724d",
   "metadata": {
    "collapsed": false,
    "ExecuteTime": {
     "end_time": "2024-12-23T15:58:16.198334Z",
     "start_time": "2024-12-23T15:58:15.468509Z"
    }
   },
   "outputs": [],
   "source": [
    "### split connectionTime in separate day and time columns\n",
    "# Convert the column to datetime format\n",
    "charging_set['connectionTime'] = pd.to_datetime(charging_set['connectionTime'])\n",
    "\n",
    "# Create a new column for the date\n",
    "charging_set['connectionTime_date'] = charging_set['connectionTime'].dt.date\n",
    "\n",
    "# Create a new column for the time of the day\n",
    "charging_set['connectionTime_time'] = charging_set['connectionTime'].dt.time\n",
    "\n",
    "\n",
    "### split disconnectTime in separate day and time columns\n",
    "# Convert the column to datetime format\n",
    "charging_set['disconnectTime'] = pd.to_datetime(charging_set['disconnectTime'])\n",
    "\n",
    "# Create a new column for the date\n",
    "charging_set['disconnectTime_date'] = charging_set['disconnectTime'].dt.date\n",
    "\n",
    "# Create a new column for the time of the day\n",
    "charging_set['disconnectTime_time'] = charging_set['disconnectTime'].dt.time\n",
    "\n",
    "\n",
    "### split doneChargingTime in separate day and time columns\n",
    "# Convert the column to datetime format\n",
    "charging_set['doneChargingTime'] = pd.to_datetime(charging_set['doneChargingTime'])\n",
    "\n",
    "# Create a new column for the date\n",
    "charging_set['doneChargingTime_date'] = charging_set['doneChargingTime'].dt.date\n",
    "\n",
    "# Create a new column for the time of the day\n",
    "charging_set['doneChargingTime_time'] = charging_set['doneChargingTime'].dt.time"
   ]
  },
  {
   "cell_type": "code",
   "execution_count": 20,
   "id": "85789119",
   "metadata": {
    "ExecuteTime": {
     "end_time": "2024-12-23T15:58:17.783999Z",
     "start_time": "2024-12-23T15:58:17.688024Z"
    }
   },
   "outputs": [],
   "source": [
    "### convert date columns into separate year, month and day columns\n",
    "\n",
    "# Das muss rein, weil sonst kommt ein Fehler\n",
    "charging_set['connectionTime_date'] = pd.to_datetime(charging_set['connectionTime_date'])\n",
    "charging_set['disconnectTime_date'] = pd.to_datetime(charging_set['disconnectTime_date'])\n",
    "charging_set['doneChargingTime_date'] = pd.to_datetime(charging_set['doneChargingTime_date'])\n",
    "\n",
    "charging_set['connectionTime_year'] = charging_set['connectionTime_date'].dt.year\n",
    "charging_set['connectionTime_month'] = charging_set['connectionTime_date'].dt.month\n",
    "charging_set['connectionTime_day'] = charging_set['connectionTime_date'].dt.day\n",
    "\n",
    "charging_set['disconnectTime_year'] = charging_set['disconnectTime_date'].dt.year\n",
    "charging_set['disconnectTime_month'] = charging_set['disconnectTime_date'].dt.month\n",
    "charging_set['disconnectTime_day'] = charging_set['disconnectTime_date'].dt.day\n",
    "\n",
    "charging_set['doneChargingTime_year'] = charging_set['doneChargingTime_date'].dt.year\n",
    "charging_set['doneChargingTime_month'] = charging_set['doneChargingTime_date'].dt.month\n",
    "charging_set['doneChargingTime_day'] = charging_set['doneChargingTime_date'].dt.day"
   ]
  },
  {
   "cell_type": "code",
   "execution_count": 21,
   "id": "87a34429",
   "metadata": {
    "ExecuteTime": {
     "end_time": "2024-12-23T15:58:19.992897Z",
     "start_time": "2024-12-23T15:58:19.667037Z"
    }
   },
   "outputs": [],
   "source": [
    "def calculate_hours():\n",
    "    # Berechne die Ladezeit als Differenz zwischen disconnectTime und connectionTime\n",
    "    charging_set[\"chargingDurationTemp\"] = charging_set[\"disconnectTime\"] - charging_set[\"connectionTime\"]\n",
    "    \n",
    "    # Konvertiere die Differenz in Stunden\n",
    "    charging_set['chargingDuration'] = charging_set[\"chargingDurationTemp\"].apply(\n",
    "        lambda x: x.total_seconds() / 3600\n",
    "    )\n",
    "    \n",
    "    # Entferne die temporäre Spalte\n",
    "    charging_set.drop(columns=[\"chargingDurationTemp\"], inplace=True)\n",
    "    \n",
    "    return charging_set\n",
    "\n",
    "# Aufruf der Funktion\n",
    "charging_set = calculate_hours()"
   ]
  },
  {
   "cell_type": "code",
   "execution_count": 22,
   "id": "cc63cb18",
   "metadata": {
    "ExecuteTime": {
     "end_time": "2024-12-23T15:58:22.530879Z",
     "start_time": "2024-12-23T15:58:22.468889Z"
    }
   },
   "outputs": [],
   "source": [
    "# clean \"connectionTime\", \"disconnectTime\", \"doneChargingTime\" from dataframe\n",
    "charging_set = charging_set.drop(columns=[\"connectionTime\", \"disconnectTime\", \"doneChargingTime\"])"
   ]
  },
  {
   "cell_type": "markdown",
   "metadata": {},
   "source": [
    "Idee: \n",
    "- entferne temporär erstmal alle nan Werte um zum checken, ob die Funktion überhaupt funktioniert\n",
    "- erstelle dafür eine temp datei\n",
    "- danach sollte man sich mit dem auffüllen / entfernen von NaNs beschäftigen"
   ],
   "id": "86075141862fffcf"
  },
  {
   "cell_type": "code",
   "outputs": [
    {
     "ename": "KeyError",
     "evalue": "'userInputs'",
     "output_type": "error",
     "traceback": [
      "\u001B[0;31m---------------------------------------------------------------------------\u001B[0m",
      "\u001B[0;31mKeyError\u001B[0m                                  Traceback (most recent call last)",
      "File \u001B[0;32m~/Desktop/UNI/_MASTER/semester_1/Analytics_&_Applications/GinyuForce/venv/lib/python3.9/site-packages/pandas/core/indexes/base.py:3805\u001B[0m, in \u001B[0;36mIndex.get_loc\u001B[0;34m(self, key)\u001B[0m\n\u001B[1;32m   3804\u001B[0m \u001B[38;5;28;01mtry\u001B[39;00m:\n\u001B[0;32m-> 3805\u001B[0m     \u001B[38;5;28;01mreturn\u001B[39;00m \u001B[38;5;28;43mself\u001B[39;49m\u001B[38;5;241;43m.\u001B[39;49m\u001B[43m_engine\u001B[49m\u001B[38;5;241;43m.\u001B[39;49m\u001B[43mget_loc\u001B[49m\u001B[43m(\u001B[49m\u001B[43mcasted_key\u001B[49m\u001B[43m)\u001B[49m\n\u001B[1;32m   3806\u001B[0m \u001B[38;5;28;01mexcept\u001B[39;00m \u001B[38;5;167;01mKeyError\u001B[39;00m \u001B[38;5;28;01mas\u001B[39;00m err:\n",
      "File \u001B[0;32mindex.pyx:167\u001B[0m, in \u001B[0;36mpandas._libs.index.IndexEngine.get_loc\u001B[0;34m()\u001B[0m\n",
      "File \u001B[0;32mindex.pyx:196\u001B[0m, in \u001B[0;36mpandas._libs.index.IndexEngine.get_loc\u001B[0;34m()\u001B[0m\n",
      "File \u001B[0;32mpandas/_libs/hashtable_class_helper.pxi:7081\u001B[0m, in \u001B[0;36mpandas._libs.hashtable.PyObjectHashTable.get_item\u001B[0;34m()\u001B[0m\n",
      "File \u001B[0;32mpandas/_libs/hashtable_class_helper.pxi:7089\u001B[0m, in \u001B[0;36mpandas._libs.hashtable.PyObjectHashTable.get_item\u001B[0;34m()\u001B[0m\n",
      "\u001B[0;31mKeyError\u001B[0m: 'userInputs'",
      "\nThe above exception was the direct cause of the following exception:\n",
      "\u001B[0;31mKeyError\u001B[0m                                  Traceback (most recent call last)",
      "Cell \u001B[0;32mIn[23], line 10\u001B[0m\n\u001B[1;32m      7\u001B[0m         \u001B[38;5;28;01mreturn\u001B[39;00m {}\n\u001B[1;32m      9\u001B[0m \u001B[38;5;66;03m# Parse 'userInputs' column in charging_set\u001B[39;00m\n\u001B[0;32m---> 10\u001B[0m charging_set[\u001B[38;5;124m'\u001B[39m\u001B[38;5;124muserInputs\u001B[39m\u001B[38;5;124m'\u001B[39m] \u001B[38;5;241m=\u001B[39m \u001B[43mcharging_set\u001B[49m\u001B[43m[\u001B[49m\u001B[38;5;124;43m'\u001B[39;49m\u001B[38;5;124;43muserInputs\u001B[39;49m\u001B[38;5;124;43m'\u001B[39;49m\u001B[43m]\u001B[49m\u001B[38;5;241m.\u001B[39mapply(parse_user_inputs)\n\u001B[1;32m     12\u001B[0m \u001B[38;5;66;03m# Specify the desired features to extract\u001B[39;00m\n\u001B[1;32m     13\u001B[0m desired_features \u001B[38;5;241m=\u001B[39m [\n\u001B[1;32m     14\u001B[0m     \u001B[38;5;124m'\u001B[39m\u001B[38;5;124mWhPerMile\u001B[39m\u001B[38;5;124m'\u001B[39m, \u001B[38;5;124m'\u001B[39m\u001B[38;5;124mkWhRequested\u001B[39m\u001B[38;5;124m'\u001B[39m, \u001B[38;5;124m'\u001B[39m\u001B[38;5;124mmilesRequested\u001B[39m\u001B[38;5;124m'\u001B[39m,\n\u001B[1;32m     15\u001B[0m     \u001B[38;5;124m'\u001B[39m\u001B[38;5;124mminutesAvailable\u001B[39m\u001B[38;5;124m'\u001B[39m, \u001B[38;5;124m'\u001B[39m\u001B[38;5;124mmodifiedAt\u001B[39m\u001B[38;5;124m'\u001B[39m, \u001B[38;5;124m'\u001B[39m\u001B[38;5;124mpaymentRequired\u001B[39m\u001B[38;5;124m'\u001B[39m,\n\u001B[1;32m     16\u001B[0m     \u001B[38;5;124m'\u001B[39m\u001B[38;5;124mrequestedDeparture\u001B[39m\u001B[38;5;124m'\u001B[39m\n\u001B[1;32m     17\u001B[0m ]\n",
      "File \u001B[0;32m~/Desktop/UNI/_MASTER/semester_1/Analytics_&_Applications/GinyuForce/venv/lib/python3.9/site-packages/pandas/core/frame.py:4102\u001B[0m, in \u001B[0;36mDataFrame.__getitem__\u001B[0;34m(self, key)\u001B[0m\n\u001B[1;32m   4100\u001B[0m \u001B[38;5;28;01mif\u001B[39;00m \u001B[38;5;28mself\u001B[39m\u001B[38;5;241m.\u001B[39mcolumns\u001B[38;5;241m.\u001B[39mnlevels \u001B[38;5;241m>\u001B[39m \u001B[38;5;241m1\u001B[39m:\n\u001B[1;32m   4101\u001B[0m     \u001B[38;5;28;01mreturn\u001B[39;00m \u001B[38;5;28mself\u001B[39m\u001B[38;5;241m.\u001B[39m_getitem_multilevel(key)\n\u001B[0;32m-> 4102\u001B[0m indexer \u001B[38;5;241m=\u001B[39m \u001B[38;5;28;43mself\u001B[39;49m\u001B[38;5;241;43m.\u001B[39;49m\u001B[43mcolumns\u001B[49m\u001B[38;5;241;43m.\u001B[39;49m\u001B[43mget_loc\u001B[49m\u001B[43m(\u001B[49m\u001B[43mkey\u001B[49m\u001B[43m)\u001B[49m\n\u001B[1;32m   4103\u001B[0m \u001B[38;5;28;01mif\u001B[39;00m is_integer(indexer):\n\u001B[1;32m   4104\u001B[0m     indexer \u001B[38;5;241m=\u001B[39m [indexer]\n",
      "File \u001B[0;32m~/Desktop/UNI/_MASTER/semester_1/Analytics_&_Applications/GinyuForce/venv/lib/python3.9/site-packages/pandas/core/indexes/base.py:3812\u001B[0m, in \u001B[0;36mIndex.get_loc\u001B[0;34m(self, key)\u001B[0m\n\u001B[1;32m   3807\u001B[0m     \u001B[38;5;28;01mif\u001B[39;00m \u001B[38;5;28misinstance\u001B[39m(casted_key, \u001B[38;5;28mslice\u001B[39m) \u001B[38;5;129;01mor\u001B[39;00m (\n\u001B[1;32m   3808\u001B[0m         \u001B[38;5;28misinstance\u001B[39m(casted_key, abc\u001B[38;5;241m.\u001B[39mIterable)\n\u001B[1;32m   3809\u001B[0m         \u001B[38;5;129;01mand\u001B[39;00m \u001B[38;5;28many\u001B[39m(\u001B[38;5;28misinstance\u001B[39m(x, \u001B[38;5;28mslice\u001B[39m) \u001B[38;5;28;01mfor\u001B[39;00m x \u001B[38;5;129;01min\u001B[39;00m casted_key)\n\u001B[1;32m   3810\u001B[0m     ):\n\u001B[1;32m   3811\u001B[0m         \u001B[38;5;28;01mraise\u001B[39;00m InvalidIndexError(key)\n\u001B[0;32m-> 3812\u001B[0m     \u001B[38;5;28;01mraise\u001B[39;00m \u001B[38;5;167;01mKeyError\u001B[39;00m(key) \u001B[38;5;28;01mfrom\u001B[39;00m \u001B[38;5;21;01merr\u001B[39;00m\n\u001B[1;32m   3813\u001B[0m \u001B[38;5;28;01mexcept\u001B[39;00m \u001B[38;5;167;01mTypeError\u001B[39;00m:\n\u001B[1;32m   3814\u001B[0m     \u001B[38;5;66;03m# If we have a listlike key, _check_indexing_error will raise\u001B[39;00m\n\u001B[1;32m   3815\u001B[0m     \u001B[38;5;66;03m#  InvalidIndexError. Otherwise we fall through and re-raise\u001B[39;00m\n\u001B[1;32m   3816\u001B[0m     \u001B[38;5;66;03m#  the TypeError.\u001B[39;00m\n\u001B[1;32m   3817\u001B[0m     \u001B[38;5;28mself\u001B[39m\u001B[38;5;241m.\u001B[39m_check_indexing_error(key)\n",
      "\u001B[0;31mKeyError\u001B[0m: 'userInputs'"
     ]
    }
   ],
   "source": [
    "# WARNING: have to \n",
    "def parse_user_inputs(row):\n",
    "    try:\n",
    "        # Parse the row as a Python object (e.g., list of dicts)\n",
    "        parsed = ast.literal_eval(row) if pd.notnull(row) else []\n",
    "        return parsed[0] if isinstance(parsed, list) and len(parsed) > 0 else {}\n",
    "    except (ValueError, SyntaxError):\n",
    "        return {}\n",
    "\n",
    "# Parse 'userInputs' column in charging_set\n",
    "charging_set['userInputs'] = charging_set['userInputs'].apply(parse_user_inputs)\n",
    "\n",
    "# Specify the desired features to extract\n",
    "desired_features = [\n",
    "    'WhPerMile', 'kWhRequested', 'milesRequested',\n",
    "    'minutesAvailable', 'modifiedAt', 'paymentRequired',\n",
    "    'requestedDeparture'\n",
    "]\n",
    "\n",
    "# Extract desired features and create new columns\n",
    "for feature in desired_features:\n",
    "    charging_set[feature] = charging_set['userInputs'].apply(\n",
    "        lambda x: x.get(feature) if isinstance(x, dict) else None\n",
    "    )\n"
   ],
   "metadata": {
    "collapsed": false,
    "ExecuteTime": {
     "end_time": "2024-12-23T15:58:30.830760Z",
     "start_time": "2024-12-23T15:58:30.679229Z"
    }
   },
   "id": "9ec50d5f3a363dba",
   "execution_count": 23
  },
  {
   "cell_type": "code",
   "outputs": [
    {
     "name": "stdout",
     "output_type": "stream",
     "text": [
      "Index([11, 41, 180, 193, 265, 276, 407, 457, 474, 500], dtype='int64')\n"
     ]
    }
   ],
   "source": [
    "nan_user_id_indices = charging_set[charging_set['userID'].isna()].index[:10]\n",
    "\n",
    "# Display the indices\n",
    "print(nan_user_id_indices)"
   ],
   "metadata": {
    "collapsed": false,
    "ExecuteTime": {
     "end_time": "2024-12-23T15:58:34.542089Z",
     "start_time": "2024-12-23T15:58:34.486581Z"
    }
   },
   "id": "45d5b5e1552d4532",
   "execution_count": 24
  },
  {
   "cell_type": "code",
   "outputs": [
    {
     "data": {
      "text/plain": "id                        5e23b149f9af8b5fe4b973da\nkWhDelivered                                 0.812\nsiteID                                           1\nspaceID                                    AG-1F14\nstationID                              1-1-194-818\nuserID                                         NaN\nWhPerMile                                      NaN\nkWhRequested                                   NaN\nmilesRequested                                 NaN\nminutesAvailable                               NaN\nmodifiedAt                                    None\npaymentRequired                               None\nrequestedDeparture                            None\nconnectionTime_date            2020-01-02 00:00:00\nconnectionTime_time                       15:04:38\ndisconnectTime_date            2020-01-02 00:00:00\ndisconnectTime_time                       23:33:26\ndoneChargingTime_date          2020-01-02 00:00:00\ndoneChargingTime_time                     22:48:48\nconnectionTime_year                           2020\nconnectionTime_month                             1\nconnectionTime_day                               2\ndisconnectTime_year                           2020\ndisconnectTime_month                             1\ndisconnectTime_day                               2\ndoneChargingTime_year                       2020.0\ndoneChargingTime_month                         1.0\ndoneChargingTime_day                           2.0\nchargingDuration                              8.48\nName: 11, dtype: object"
     },
     "execution_count": 25,
     "metadata": {},
     "output_type": "execute_result"
    }
   ],
   "source": [
    "charging_set.loc[11]"
   ],
   "metadata": {
    "collapsed": false,
    "ExecuteTime": {
     "end_time": "2024-12-23T15:58:36.293189Z",
     "start_time": "2024-12-23T15:58:36.250050Z"
    }
   },
   "id": "fac09a4bc2e113b",
   "execution_count": 25
  },
  {
   "cell_type": "code",
   "outputs": [],
   "source": [
    "charging_set['UserID'] = charging_set['userID'].apply(lambda x: 1 if pd.notna(x) else 0)"
   ],
   "metadata": {
    "collapsed": false,
    "ExecuteTime": {
     "end_time": "2024-12-23T15:58:39.481149Z",
     "start_time": "2024-12-23T15:58:39.366622Z"
    }
   },
   "id": "ea1b953f78922a22",
   "execution_count": 26
  },
  {
   "cell_type": "code",
   "outputs": [],
   "source": [
    "desired_features = [\n",
    "    'WhPerMile', 'kWhRequested', 'milesRequested',\n",
    "    'minutesAvailable', 'modifiedAt', 'paymentRequired',\n",
    "    'requestedDeparture'\n",
    "]\n",
    "\n",
    "# Convert each feature to 0 or 1 based on NaN values\n",
    "for feature in desired_features:\n",
    "    charging_set[f'{feature}_present'] = charging_set[feature].apply(lambda x: 1 if pd.notna(x) else 0)\n"
   ],
   "metadata": {
    "collapsed": false,
    "ExecuteTime": {
     "end_time": "2024-12-23T15:58:42.068400Z",
     "start_time": "2024-12-23T15:58:41.104516Z"
    }
   },
   "id": "b3f79ef61c7156de",
   "execution_count": 27
  },
  {
   "cell_type": "code",
   "outputs": [
    {
     "name": "stdout",
     "output_type": "stream",
     "text": [
      "Index([3756, 3757, 3758, 3759, 3760, 3761, 3762, 3763, 3764, 3765], dtype='int64')\n"
     ]
    }
   ],
   "source": [
    "nan_chargingTime = charging_set[charging_set['doneChargingTime_time'].isna()].index[:10]\n",
    "\n",
    "# Display the indices\n",
    "print(nan_chargingTime)\n"
   ],
   "metadata": {
    "collapsed": false,
    "ExecuteTime": {
     "end_time": "2024-12-23T15:58:43.014314Z",
     "start_time": "2024-12-23T15:58:42.955809Z"
    }
   },
   "id": "eb9a1f72c39eb56",
   "execution_count": 28
  },
  {
   "cell_type": "code",
   "outputs": [
    {
     "data": {
      "text/plain": "id                                 5ea6278df9af8b4a2e7bd22c\nkWhDelivered                                          4.725\nsiteID                                                    1\nspaceID                                             AG-1F10\nstationID                                       1-1-178-828\nuserID                                                651.0\nWhPerMile                                             400.0\nkWhRequested                                           20.0\nmilesRequested                                         50.0\nminutesAvailable                                      183.0\nmodifiedAt                    Fri, 10 Apr 2020 14:55:16 GMT\npaymentRequired                                        True\nrequestedDeparture            Fri, 10 Apr 2020 17:58:07 GMT\nconnectionTime_date                     2020-04-10 00:00:00\nconnectionTime_time                                14:55:07\ndisconnectTime_date                     2020-04-10 00:00:00\ndisconnectTime_time                                15:43:03\ndoneChargingTime_date                                   NaT\ndoneChargingTime_time                                   NaT\nconnectionTime_year                                    2020\nconnectionTime_month                                      4\nconnectionTime_day                                       10\ndisconnectTime_year                                    2020\ndisconnectTime_month                                      4\ndisconnectTime_day                                       10\ndoneChargingTime_year                                   NaN\ndoneChargingTime_month                                  NaN\ndoneChargingTime_day                                    NaN\nchargingDuration                                   0.798889\nUserID                                                    1\nWhPerMile_present                                         1\nkWhRequested_present                                      1\nmilesRequested_present                                    1\nminutesAvailable_present                                  1\nmodifiedAt_present                                        1\npaymentRequired_present                                   1\nrequestedDeparture_present                                1\nName: 3765, dtype: object"
     },
     "execution_count": 29,
     "metadata": {},
     "output_type": "execute_result"
    }
   ],
   "source": [
    "charging_set.loc[3765]"
   ],
   "metadata": {
    "collapsed": false,
    "ExecuteTime": {
     "end_time": "2024-12-23T15:58:44.946781Z",
     "start_time": "2024-12-23T15:58:44.856785Z"
    }
   },
   "id": "d3bf595f45ea7693",
   "execution_count": 29
  },
  {
   "cell_type": "code",
   "outputs": [],
   "source": [
    "charging_set.to_csv('data/cleaned_charging_set.csv', index=False)"
   ],
   "metadata": {
    "collapsed": false
   },
   "id": "4f2c77bc9787c1ce"
  }
 ],
 "metadata": {
  "kernelspec": {
   "display_name": "Python 3",
   "language": "python",
   "name": "python3"
  },
  "language_info": {
   "codemirror_mode": {
    "name": "ipython",
    "version": 3
   },
   "file_extension": ".py",
   "mimetype": "text/x-python",
   "name": "python",
   "nbconvert_exporter": "python",
   "pygments_lexer": "ipython3",
   "version": "3.9.5"
  }
 },
 "nbformat": 4,
 "nbformat_minor": 5
}
