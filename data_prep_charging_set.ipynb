{
 "cells": [
  {
   "cell_type": "code",
   "execution_count": 1,
   "id": "initial_id",
   "metadata": {
    "ExecuteTime": {
     "end_time": "2025-01-06T21:19:59.306932Z",
     "start_time": "2025-01-06T21:19:59.250211Z"
    }
   },
   "outputs": [],
   "source": [
    "import numpy as np\n",
    "import pandas as pd\n",
    "\n",
    "# for time data\n",
    "import datetime as dt\n",
    "import pytz\n",
    "\n",
    "import warnings\n",
    "warnings.filterwarnings('ignore')\n",
    "\n",
    "import ast"
   ]
  },
  {
   "cell_type": "code",
   "execution_count": 2,
   "id": "51da85eed2db08df",
   "metadata": {
    "collapsed": false,
    "ExecuteTime": {
     "end_time": "2025-01-06T21:20:11.779281Z",
     "start_time": "2025-01-06T21:20:10.269678Z"
    }
   },
   "outputs": [],
   "source": [
    "charging_set = pd.read_csv(\"data/charging_sessions.csv\")"
   ]
  },
  {
   "cell_type": "code",
   "execution_count": 3,
   "id": "863eaec4a97ce060",
   "metadata": {
    "collapsed": false,
    "ExecuteTime": {
     "end_time": "2025-01-06T21:20:13.048831Z",
     "start_time": "2025-01-06T21:20:12.896457Z"
    }
   },
   "outputs": [
    {
     "name": "stdout",
     "output_type": "stream",
     "text": [
      "columns:\n",
      "Index(['Unnamed: 0', 'id', 'connectionTime', 'disconnectTime',\n",
      "       'doneChargingTime', 'kWhDelivered', 'sessionID', 'siteID', 'spaceID',\n",
      "       'stationID', 'timezone', 'userID', 'userInputs'],\n",
      "      dtype='object')\n",
      "-------------------------------------------------------------------------\n",
      "info():\n",
      "<class 'pandas.core.frame.DataFrame'>\n",
      "RangeIndex: 66450 entries, 0 to 66449\n",
      "Data columns (total 13 columns):\n",
      " #   Column            Non-Null Count  Dtype  \n",
      "---  ------            --------------  -----  \n",
      " 0   Unnamed: 0        66450 non-null  int64  \n",
      " 1   id                66450 non-null  object \n",
      " 2   connectionTime    66450 non-null  object \n",
      " 3   disconnectTime    66450 non-null  object \n",
      " 4   doneChargingTime  62362 non-null  object \n",
      " 5   kWhDelivered      66450 non-null  float64\n",
      " 6   sessionID         66450 non-null  object \n",
      " 7   siteID            66450 non-null  int64  \n",
      " 8   spaceID           66450 non-null  object \n",
      " 9   stationID         66450 non-null  object \n",
      " 10  timezone          66450 non-null  object \n",
      " 11  userID            49187 non-null  float64\n",
      " 12  userInputs        49187 non-null  object \n",
      "dtypes: float64(2), int64(2), object(9)\n",
      "memory usage: 6.6+ MB\n",
      "None\n",
      "-------------------------------------------------------------------------\n",
      "describe():\n",
      "         Unnamed: 0  kWhDelivered        siteID        userID\n",
      "count  66450.000000  66450.000000  66450.000000  49187.000000\n",
      "mean    4726.102062     11.787916      1.472656   1800.494582\n",
      "std     3568.025394     10.314789      0.499256   2617.548614\n",
      "min        0.000000      0.501000      1.000000      1.000000\n",
      "25%     1845.000000      5.097000      1.000000    431.000000\n",
      "50%     3960.000000      9.140000      1.000000    818.000000\n",
      "75%     7027.000000     14.183000      2.000000   1805.000000\n",
      "max    15291.000000    108.797242      2.000000  19923.000000\n"
     ]
    }
   ],
   "source": [
    "# get overview of data\n",
    "print(\"columns:\")\n",
    "print(charging_set.columns)\n",
    "print(\"-------------------------------------------------------------------------\")\n",
    "print(\"info():\")\n",
    "print(charging_set.info())\n",
    "print(\"-------------------------------------------------------------------------\")\n",
    "print(\"describe():\")\n",
    "print(charging_set.describe())"
   ]
  },
  {
   "cell_type": "code",
   "execution_count": 4,
   "id": "4bd9b0d96ee0f91d",
   "metadata": {
    "collapsed": false,
    "ExecuteTime": {
     "end_time": "2025-01-06T21:20:14.695209Z",
     "start_time": "2025-01-06T21:20:14.615117Z"
    }
   },
   "outputs": [
    {
     "data": {
      "text/plain": "    Unnamed: 0                        id             connectionTime  \\\n0            0  5e23b149f9af8b5fe4b973cf  2020-01-02 13:08:54+00:00   \n1            1  5e23b149f9af8b5fe4b973d0  2020-01-02 13:36:50+00:00   \n2            2  5e23b149f9af8b5fe4b973d1  2020-01-02 13:56:35+00:00   \n3            3  5e23b149f9af8b5fe4b973d2  2020-01-02 13:59:58+00:00   \n4            4  5e23b149f9af8b5fe4b973d3  2020-01-02 14:00:01+00:00   \n5            5  5e23b149f9af8b5fe4b973d4  2020-01-02 14:00:13+00:00   \n6            6  5e23b149f9af8b5fe4b973d5  2020-01-02 14:09:14+00:00   \n7            7  5e23b149f9af8b5fe4b973d6  2020-01-02 14:17:32+00:00   \n8            8  5e23b149f9af8b5fe4b973d7  2020-01-02 14:25:38+00:00   \n9            9  5e23b149f9af8b5fe4b973d8  2020-01-02 14:27:40+00:00   \n10          10  5e23b149f9af8b5fe4b973d9  2020-01-02 14:30:45+00:00   \n11          11  5e23b149f9af8b5fe4b973da  2020-01-02 15:04:38+00:00   \n\n               disconnectTime           doneChargingTime  kWhDelivered  \\\n0   2020-01-02 19:11:15+00:00  2020-01-02 17:31:35+00:00        25.016   \n1   2020-01-02 22:38:21+00:00  2020-01-02 20:18:05+00:00        33.097   \n2   2020-01-03 00:39:22+00:00  2020-01-02 16:35:06+00:00         6.521   \n3   2020-01-02 16:38:39+00:00  2020-01-02 15:18:45+00:00         2.355   \n4   2020-01-02 22:08:40+00:00  2020-01-02 18:17:30+00:00        13.375   \n5   2020-01-02 23:00:41+00:00  2020-01-02 20:13:21+00:00        13.370   \n6   2020-01-03 01:57:58+00:00  2020-01-03 00:59:21+00:00        43.477   \n7   2020-01-03 00:44:54+00:00  2020-01-02 20:22:40+00:00        32.441   \n8   2020-01-02 19:36:05+00:00  2020-01-02 18:38:39+00:00        13.264   \n9   2020-01-02 20:01:48+00:00  2020-01-02 19:17:46+00:00        13.285   \n10  2020-01-03 00:06:42+00:00  2020-01-02 17:33:07+00:00        11.633   \n11  2020-01-02 23:33:26+00:00  2020-01-02 22:48:48+00:00         0.812   \n\n                                 sessionID  siteID  spaceID    stationID  \\\n0   1_1_179_810_2020-01-02 13:08:53.870034       1  AG-3F30  1-1-179-810   \n1   1_1_193_825_2020-01-02 13:36:49.599853       1  AG-1F01  1-1-193-825   \n2   1_1_193_829_2020-01-02 13:56:35.214993       1  AG-1F03  1-1-193-829   \n3   1_1_193_820_2020-01-02 13:59:58.309319       1  AG-1F04  1-1-193-820   \n4   1_1_193_819_2020-01-02 14:00:00.779967       1  AG-1F06  1-1-193-819   \n5   1_1_194_821_2020-01-02 14:00:05.241573       1  AG-1F13  1-1-194-821   \n6   1_1_178_817_2020-01-02 14:09:14.451827       1  AG-1F09  1-1-178-817   \n7   1_1_191_804_2020-01-02 14:17:32.329535       1  AG-4F34  1-1-191-804   \n8   1_1_194_826_2020-01-02 14:25:37.578692       1  AG-1F11  1-1-194-826   \n9   1_1_178_823_2020-01-02 14:27:39.582337       1  AG-1F08  1-1-178-823   \n10  1_1_179_788_2020-01-02 14:30:45.474776       1  AG-3F22  1-1-179-788   \n11  1_1_194_818_2020-01-02 15:04:37.511153       1  AG-1F14  1-1-194-818   \n\n               timezone  userID  \\\n0   America/Los_Angeles   194.0   \n1   America/Los_Angeles  4275.0   \n2   America/Los_Angeles   344.0   \n3   America/Los_Angeles  1117.0   \n4   America/Los_Angeles   334.0   \n5   America/Los_Angeles  3519.0   \n6   America/Los_Angeles   933.0   \n7   America/Los_Angeles  3737.0   \n8   America/Los_Angeles   419.0   \n9   America/Los_Angeles   651.0   \n10  America/Los_Angeles  2020.0   \n11  America/Los_Angeles     NaN   \n\n                                           userInputs  \n0   [{'WhPerMile': 250, 'kWhRequested': 25.0, 'mil...  \n1   [{'WhPerMile': 280, 'kWhRequested': 70.0, 'mil...  \n2   [{'WhPerMile': 400, 'kWhRequested': 8.0, 'mile...  \n3   [{'WhPerMile': 400, 'kWhRequested': 8.0, 'mile...  \n4   [{'WhPerMile': 400, 'kWhRequested': 16.0, 'mil...  \n5   [{'WhPerMile': 600, 'kWhRequested': 24.0, 'mil...  \n6   [{'WhPerMile': 385, 'kWhRequested': 65.45, 'mi...  \n7   [{'WhPerMile': 300, 'kWhRequested': 45.0, 'mil...  \n8   [{'WhPerMile': 400, 'kWhRequested': 40.0, 'mil...  \n9   [{'WhPerMile': 400, 'kWhRequested': 20.0, 'mil...  \n10  [{'WhPerMile': 400, 'kWhRequested': 32.0, 'mil...  \n11                                                NaN  ",
      "text/html": "<div>\n<style scoped>\n    .dataframe tbody tr th:only-of-type {\n        vertical-align: middle;\n    }\n\n    .dataframe tbody tr th {\n        vertical-align: top;\n    }\n\n    .dataframe thead th {\n        text-align: right;\n    }\n</style>\n<table border=\"1\" class=\"dataframe\">\n  <thead>\n    <tr style=\"text-align: right;\">\n      <th></th>\n      <th>Unnamed: 0</th>\n      <th>id</th>\n      <th>connectionTime</th>\n      <th>disconnectTime</th>\n      <th>doneChargingTime</th>\n      <th>kWhDelivered</th>\n      <th>sessionID</th>\n      <th>siteID</th>\n      <th>spaceID</th>\n      <th>stationID</th>\n      <th>timezone</th>\n      <th>userID</th>\n      <th>userInputs</th>\n    </tr>\n  </thead>\n  <tbody>\n    <tr>\n      <th>0</th>\n      <td>0</td>\n      <td>5e23b149f9af8b5fe4b973cf</td>\n      <td>2020-01-02 13:08:54+00:00</td>\n      <td>2020-01-02 19:11:15+00:00</td>\n      <td>2020-01-02 17:31:35+00:00</td>\n      <td>25.016</td>\n      <td>1_1_179_810_2020-01-02 13:08:53.870034</td>\n      <td>1</td>\n      <td>AG-3F30</td>\n      <td>1-1-179-810</td>\n      <td>America/Los_Angeles</td>\n      <td>194.0</td>\n      <td>[{'WhPerMile': 250, 'kWhRequested': 25.0, 'mil...</td>\n    </tr>\n    <tr>\n      <th>1</th>\n      <td>1</td>\n      <td>5e23b149f9af8b5fe4b973d0</td>\n      <td>2020-01-02 13:36:50+00:00</td>\n      <td>2020-01-02 22:38:21+00:00</td>\n      <td>2020-01-02 20:18:05+00:00</td>\n      <td>33.097</td>\n      <td>1_1_193_825_2020-01-02 13:36:49.599853</td>\n      <td>1</td>\n      <td>AG-1F01</td>\n      <td>1-1-193-825</td>\n      <td>America/Los_Angeles</td>\n      <td>4275.0</td>\n      <td>[{'WhPerMile': 280, 'kWhRequested': 70.0, 'mil...</td>\n    </tr>\n    <tr>\n      <th>2</th>\n      <td>2</td>\n      <td>5e23b149f9af8b5fe4b973d1</td>\n      <td>2020-01-02 13:56:35+00:00</td>\n      <td>2020-01-03 00:39:22+00:00</td>\n      <td>2020-01-02 16:35:06+00:00</td>\n      <td>6.521</td>\n      <td>1_1_193_829_2020-01-02 13:56:35.214993</td>\n      <td>1</td>\n      <td>AG-1F03</td>\n      <td>1-1-193-829</td>\n      <td>America/Los_Angeles</td>\n      <td>344.0</td>\n      <td>[{'WhPerMile': 400, 'kWhRequested': 8.0, 'mile...</td>\n    </tr>\n    <tr>\n      <th>3</th>\n      <td>3</td>\n      <td>5e23b149f9af8b5fe4b973d2</td>\n      <td>2020-01-02 13:59:58+00:00</td>\n      <td>2020-01-02 16:38:39+00:00</td>\n      <td>2020-01-02 15:18:45+00:00</td>\n      <td>2.355</td>\n      <td>1_1_193_820_2020-01-02 13:59:58.309319</td>\n      <td>1</td>\n      <td>AG-1F04</td>\n      <td>1-1-193-820</td>\n      <td>America/Los_Angeles</td>\n      <td>1117.0</td>\n      <td>[{'WhPerMile': 400, 'kWhRequested': 8.0, 'mile...</td>\n    </tr>\n    <tr>\n      <th>4</th>\n      <td>4</td>\n      <td>5e23b149f9af8b5fe4b973d3</td>\n      <td>2020-01-02 14:00:01+00:00</td>\n      <td>2020-01-02 22:08:40+00:00</td>\n      <td>2020-01-02 18:17:30+00:00</td>\n      <td>13.375</td>\n      <td>1_1_193_819_2020-01-02 14:00:00.779967</td>\n      <td>1</td>\n      <td>AG-1F06</td>\n      <td>1-1-193-819</td>\n      <td>America/Los_Angeles</td>\n      <td>334.0</td>\n      <td>[{'WhPerMile': 400, 'kWhRequested': 16.0, 'mil...</td>\n    </tr>\n    <tr>\n      <th>5</th>\n      <td>5</td>\n      <td>5e23b149f9af8b5fe4b973d4</td>\n      <td>2020-01-02 14:00:13+00:00</td>\n      <td>2020-01-02 23:00:41+00:00</td>\n      <td>2020-01-02 20:13:21+00:00</td>\n      <td>13.370</td>\n      <td>1_1_194_821_2020-01-02 14:00:05.241573</td>\n      <td>1</td>\n      <td>AG-1F13</td>\n      <td>1-1-194-821</td>\n      <td>America/Los_Angeles</td>\n      <td>3519.0</td>\n      <td>[{'WhPerMile': 600, 'kWhRequested': 24.0, 'mil...</td>\n    </tr>\n    <tr>\n      <th>6</th>\n      <td>6</td>\n      <td>5e23b149f9af8b5fe4b973d5</td>\n      <td>2020-01-02 14:09:14+00:00</td>\n      <td>2020-01-03 01:57:58+00:00</td>\n      <td>2020-01-03 00:59:21+00:00</td>\n      <td>43.477</td>\n      <td>1_1_178_817_2020-01-02 14:09:14.451827</td>\n      <td>1</td>\n      <td>AG-1F09</td>\n      <td>1-1-178-817</td>\n      <td>America/Los_Angeles</td>\n      <td>933.0</td>\n      <td>[{'WhPerMile': 385, 'kWhRequested': 65.45, 'mi...</td>\n    </tr>\n    <tr>\n      <th>7</th>\n      <td>7</td>\n      <td>5e23b149f9af8b5fe4b973d6</td>\n      <td>2020-01-02 14:17:32+00:00</td>\n      <td>2020-01-03 00:44:54+00:00</td>\n      <td>2020-01-02 20:22:40+00:00</td>\n      <td>32.441</td>\n      <td>1_1_191_804_2020-01-02 14:17:32.329535</td>\n      <td>1</td>\n      <td>AG-4F34</td>\n      <td>1-1-191-804</td>\n      <td>America/Los_Angeles</td>\n      <td>3737.0</td>\n      <td>[{'WhPerMile': 300, 'kWhRequested': 45.0, 'mil...</td>\n    </tr>\n    <tr>\n      <th>8</th>\n      <td>8</td>\n      <td>5e23b149f9af8b5fe4b973d7</td>\n      <td>2020-01-02 14:25:38+00:00</td>\n      <td>2020-01-02 19:36:05+00:00</td>\n      <td>2020-01-02 18:38:39+00:00</td>\n      <td>13.264</td>\n      <td>1_1_194_826_2020-01-02 14:25:37.578692</td>\n      <td>1</td>\n      <td>AG-1F11</td>\n      <td>1-1-194-826</td>\n      <td>America/Los_Angeles</td>\n      <td>419.0</td>\n      <td>[{'WhPerMile': 400, 'kWhRequested': 40.0, 'mil...</td>\n    </tr>\n    <tr>\n      <th>9</th>\n      <td>9</td>\n      <td>5e23b149f9af8b5fe4b973d8</td>\n      <td>2020-01-02 14:27:40+00:00</td>\n      <td>2020-01-02 20:01:48+00:00</td>\n      <td>2020-01-02 19:17:46+00:00</td>\n      <td>13.285</td>\n      <td>1_1_178_823_2020-01-02 14:27:39.582337</td>\n      <td>1</td>\n      <td>AG-1F08</td>\n      <td>1-1-178-823</td>\n      <td>America/Los_Angeles</td>\n      <td>651.0</td>\n      <td>[{'WhPerMile': 400, 'kWhRequested': 20.0, 'mil...</td>\n    </tr>\n    <tr>\n      <th>10</th>\n      <td>10</td>\n      <td>5e23b149f9af8b5fe4b973d9</td>\n      <td>2020-01-02 14:30:45+00:00</td>\n      <td>2020-01-03 00:06:42+00:00</td>\n      <td>2020-01-02 17:33:07+00:00</td>\n      <td>11.633</td>\n      <td>1_1_179_788_2020-01-02 14:30:45.474776</td>\n      <td>1</td>\n      <td>AG-3F22</td>\n      <td>1-1-179-788</td>\n      <td>America/Los_Angeles</td>\n      <td>2020.0</td>\n      <td>[{'WhPerMile': 400, 'kWhRequested': 32.0, 'mil...</td>\n    </tr>\n    <tr>\n      <th>11</th>\n      <td>11</td>\n      <td>5e23b149f9af8b5fe4b973da</td>\n      <td>2020-01-02 15:04:38+00:00</td>\n      <td>2020-01-02 23:33:26+00:00</td>\n      <td>2020-01-02 22:48:48+00:00</td>\n      <td>0.812</td>\n      <td>1_1_194_818_2020-01-02 15:04:37.511153</td>\n      <td>1</td>\n      <td>AG-1F14</td>\n      <td>1-1-194-818</td>\n      <td>America/Los_Angeles</td>\n      <td>NaN</td>\n      <td>NaN</td>\n    </tr>\n  </tbody>\n</table>\n</div>"
     },
     "execution_count": 4,
     "metadata": {},
     "output_type": "execute_result"
    }
   ],
   "source": [
    "charging_set.head(12)"
   ]
  },
  {
   "cell_type": "markdown",
   "id": "7c683e67-9dc3-4a3c-8a8b-8aca1cf5013f",
   "metadata": {},
   "source": [
    "# TODO\n",
    "\n",
    "- check validity and meaning of data (userInput)\n",
    "- remove irrelevant columns\n",
    "- split userInput in own columns\n",
    "- check for duplicates\n",
    "- check for None-values (userID)\n",
    "- split userID into binary dummy (isRegistered)\n",
    "- check for None-values for isRegistered = 1 (remove None-values for registered users)\n",
    "- check data types of columns\n",
    "- look at columns with multiple data types (remove wrong entries)\n",
    "- check ranges of columns & unique values"
   ]
  },
  {
   "cell_type": "markdown",
   "id": "6338b195-ffc8-41d9-b994-520187f70038",
   "metadata": {},
   "source": [
    "# Data Cleanup\n",
    "\n",
    "## Step 1: check validity of columns\n",
    "\n",
    "- remove unnecessary \"unnamed\" column"
   ]
  },
  {
   "cell_type": "markdown",
   "source": [
    "After the first look on the dataset the first column \"Unnamed 0\" stands out. This column shadows the index and has no value for us. Therefore we remove this column first."
   ],
   "metadata": {
    "collapsed": false
   },
   "id": "b8be95bbaa1ee372"
  },
  {
   "cell_type": "code",
   "execution_count": 5,
   "id": "f5e18851-cf2e-4ae7-aa0f-8b4d11f1ceea",
   "metadata": {
    "ExecuteTime": {
     "end_time": "2025-01-06T21:20:25.209892Z",
     "start_time": "2025-01-06T21:20:25.091703Z"
    }
   },
   "outputs": [
    {
     "data": {
      "text/plain": "                         id             connectionTime  \\\n0  5e23b149f9af8b5fe4b973cf  2020-01-02 13:08:54+00:00   \n1  5e23b149f9af8b5fe4b973d0  2020-01-02 13:36:50+00:00   \n2  5e23b149f9af8b5fe4b973d1  2020-01-02 13:56:35+00:00   \n\n              disconnectTime           doneChargingTime  kWhDelivered  \\\n0  2020-01-02 19:11:15+00:00  2020-01-02 17:31:35+00:00        25.016   \n1  2020-01-02 22:38:21+00:00  2020-01-02 20:18:05+00:00        33.097   \n2  2020-01-03 00:39:22+00:00  2020-01-02 16:35:06+00:00         6.521   \n\n                                sessionID  siteID  spaceID    stationID  \\\n0  1_1_179_810_2020-01-02 13:08:53.870034       1  AG-3F30  1-1-179-810   \n1  1_1_193_825_2020-01-02 13:36:49.599853       1  AG-1F01  1-1-193-825   \n2  1_1_193_829_2020-01-02 13:56:35.214993       1  AG-1F03  1-1-193-829   \n\n              timezone  userID  \\\n0  America/Los_Angeles   194.0   \n1  America/Los_Angeles  4275.0   \n2  America/Los_Angeles   344.0   \n\n                                          userInputs  \n0  [{'WhPerMile': 250, 'kWhRequested': 25.0, 'mil...  \n1  [{'WhPerMile': 280, 'kWhRequested': 70.0, 'mil...  \n2  [{'WhPerMile': 400, 'kWhRequested': 8.0, 'mile...  ",
      "text/html": "<div>\n<style scoped>\n    .dataframe tbody tr th:only-of-type {\n        vertical-align: middle;\n    }\n\n    .dataframe tbody tr th {\n        vertical-align: top;\n    }\n\n    .dataframe thead th {\n        text-align: right;\n    }\n</style>\n<table border=\"1\" class=\"dataframe\">\n  <thead>\n    <tr style=\"text-align: right;\">\n      <th></th>\n      <th>id</th>\n      <th>connectionTime</th>\n      <th>disconnectTime</th>\n      <th>doneChargingTime</th>\n      <th>kWhDelivered</th>\n      <th>sessionID</th>\n      <th>siteID</th>\n      <th>spaceID</th>\n      <th>stationID</th>\n      <th>timezone</th>\n      <th>userID</th>\n      <th>userInputs</th>\n    </tr>\n  </thead>\n  <tbody>\n    <tr>\n      <th>0</th>\n      <td>5e23b149f9af8b5fe4b973cf</td>\n      <td>2020-01-02 13:08:54+00:00</td>\n      <td>2020-01-02 19:11:15+00:00</td>\n      <td>2020-01-02 17:31:35+00:00</td>\n      <td>25.016</td>\n      <td>1_1_179_810_2020-01-02 13:08:53.870034</td>\n      <td>1</td>\n      <td>AG-3F30</td>\n      <td>1-1-179-810</td>\n      <td>America/Los_Angeles</td>\n      <td>194.0</td>\n      <td>[{'WhPerMile': 250, 'kWhRequested': 25.0, 'mil...</td>\n    </tr>\n    <tr>\n      <th>1</th>\n      <td>5e23b149f9af8b5fe4b973d0</td>\n      <td>2020-01-02 13:36:50+00:00</td>\n      <td>2020-01-02 22:38:21+00:00</td>\n      <td>2020-01-02 20:18:05+00:00</td>\n      <td>33.097</td>\n      <td>1_1_193_825_2020-01-02 13:36:49.599853</td>\n      <td>1</td>\n      <td>AG-1F01</td>\n      <td>1-1-193-825</td>\n      <td>America/Los_Angeles</td>\n      <td>4275.0</td>\n      <td>[{'WhPerMile': 280, 'kWhRequested': 70.0, 'mil...</td>\n    </tr>\n    <tr>\n      <th>2</th>\n      <td>5e23b149f9af8b5fe4b973d1</td>\n      <td>2020-01-02 13:56:35+00:00</td>\n      <td>2020-01-03 00:39:22+00:00</td>\n      <td>2020-01-02 16:35:06+00:00</td>\n      <td>6.521</td>\n      <td>1_1_193_829_2020-01-02 13:56:35.214993</td>\n      <td>1</td>\n      <td>AG-1F03</td>\n      <td>1-1-193-829</td>\n      <td>America/Los_Angeles</td>\n      <td>344.0</td>\n      <td>[{'WhPerMile': 400, 'kWhRequested': 8.0, 'mile...</td>\n    </tr>\n  </tbody>\n</table>\n</div>"
     },
     "execution_count": 5,
     "metadata": {},
     "output_type": "execute_result"
    }
   ],
   "source": [
    "# remove irrelevant columns\n",
    "charging_set.drop('Unnamed: 0', axis=1, inplace=True)\n",
    "charging_set.head(3)"
   ]
  },
  {
   "cell_type": "markdown",
   "source": [
    "The second column that instantly stands out is the column \"userInputs\". This column does not only store one information but a list of different data. Before we can check for duplicates and None-values we have to separate the information stored in \"userInputs\" and store them in separate columns."
   ],
   "metadata": {
    "collapsed": false
   },
   "id": "a22105e78fee3e36"
  },
  {
   "cell_type": "code",
   "execution_count": 6,
   "id": "a9b08dd3585a977c",
   "metadata": {
    "collapsed": false,
    "ExecuteTime": {
     "end_time": "2025-01-06T21:20:32.958716Z",
     "start_time": "2025-01-06T21:20:27.906387Z"
    }
   },
   "outputs": [
    {
     "data": {
      "text/plain": "                             id             connectionTime  \\\n0      5e23b149f9af8b5fe4b973cf  2020-01-02 13:08:54+00:00   \n1      5e23b149f9af8b5fe4b973d0  2020-01-02 13:36:50+00:00   \n2      5e23b149f9af8b5fe4b973d1  2020-01-02 13:56:35+00:00   \n3      5e23b149f9af8b5fe4b973d2  2020-01-02 13:59:58+00:00   \n4      5e23b149f9af8b5fe4b973d3  2020-01-02 14:00:01+00:00   \n...                         ...                        ...   \n66445  5d574ad2f9af8b4c10c03652  2019-07-31 18:08:04+00:00   \n66446  5d574ad2f9af8b4c10c03653  2019-07-31 18:40:41+00:00   \n66447  5d574ad2f9af8b4c10c03654  2019-07-31 19:04:40+00:00   \n66448  5d574ad2f9af8b4c10c03655  2019-07-31 19:19:47+00:00   \n66449  5d574ad2f9af8b4c10c03656  2019-07-31 19:21:47+00:00   \n\n                  disconnectTime           doneChargingTime  kWhDelivered  \\\n0      2020-01-02 19:11:15+00:00  2020-01-02 17:31:35+00:00        25.016   \n1      2020-01-02 22:38:21+00:00  2020-01-02 20:18:05+00:00        33.097   \n2      2020-01-03 00:39:22+00:00  2020-01-02 16:35:06+00:00         6.521   \n3      2020-01-02 16:38:39+00:00  2020-01-02 15:18:45+00:00         2.355   \n4      2020-01-02 22:08:40+00:00  2020-01-02 18:17:30+00:00        13.375   \n...                          ...                        ...           ...   \n66445  2019-07-31 23:29:18+00:00  2019-07-31 23:30:18+00:00        28.787   \n66446  2019-08-01 00:59:42+00:00  2019-07-31 21:44:23+00:00         7.787   \n66447  2019-07-31 22:44:22+00:00  2019-07-31 22:45:21+00:00        11.274   \n66448  2019-08-01 00:34:51+00:00  2019-07-31 21:25:30+00:00        11.589   \n66449  2019-07-31 22:00:04+00:00  2019-07-31 20:51:34+00:00         0.897   \n\n                                    sessionID  siteID  spaceID    stationID  \\\n0      1_1_179_810_2020-01-02 13:08:53.870034       1  AG-3F30  1-1-179-810   \n1      1_1_193_825_2020-01-02 13:36:49.599853       1  AG-1F01  1-1-193-825   \n2      1_1_193_829_2020-01-02 13:56:35.214993       1  AG-1F03  1-1-193-829   \n3      1_1_193_820_2020-01-02 13:59:58.309319       1  AG-1F04  1-1-193-820   \n4      1_1_193_819_2020-01-02 14:00:00.779967       1  AG-1F06  1-1-193-819   \n...                                       ...     ...      ...          ...   \n66445  1_1_179_809_2019-07-31 18:08:04.432654       1  AG-3F27  1-1-179-809   \n66446  1_1_179_810_2019-07-31 18:40:40.900203       1  AG-3F30  1-1-179-810   \n66447  1_1_191_795_2019-07-31 19:04:40.098273       1  AG-4F51  1-1-191-795   \n66448  1_1_191_778_2019-07-31 19:19:46.919358       1  AG-4F43  1-1-191-778   \n66449  1_1_178_817_2019-07-31 19:21:46.727697       1  AG-1F09  1-1-178-817   \n\n                  timezone  userID  WhPerMile  kWhRequested  milesRequested  \\\n0      America/Los_Angeles   194.0      250.0         25.00           100.0   \n1      America/Los_Angeles  4275.0      280.0         70.00           250.0   \n2      America/Los_Angeles   344.0      400.0          8.00            20.0   \n3      America/Los_Angeles  1117.0      400.0          8.00            20.0   \n4      America/Los_Angeles   334.0      400.0         16.00            40.0   \n...                    ...     ...        ...           ...             ...   \n66445  America/Los_Angeles   393.0      240.0         31.20           130.0   \n66446  America/Los_Angeles   220.0      333.0          6.66            20.0   \n66447  America/Los_Angeles  1974.0      333.0         19.98            60.0   \n66448  America/Los_Angeles   942.0      275.0         22.00            80.0   \n66449  America/Los_Angeles     NaN        NaN           NaN             NaN   \n\n       minutesAvailable                     modifiedAt paymentRequired  \\\n0                 463.0  Thu, 02 Jan 2020 13:09:39 GMT            True   \n1                 595.0  Thu, 02 Jan 2020 13:37:11 GMT            True   \n2                  60.0  Thu, 02 Jan 2020 13:57:17 GMT            True   \n3                  65.0  Thu, 02 Jan 2020 14:00:03 GMT            True   \n4                 504.0  Thu, 02 Jan 2020 14:00:13 GMT            True   \n...                 ...                            ...             ...   \n66445             355.0  Wed, 31 Jul 2019 18:08:23 GMT            True   \n66446             455.0  Wed, 31 Jul 2019 18:41:02 GMT            True   \n66447             184.0  Wed, 31 Jul 2019 19:04:57 GMT            True   \n66448              60.0  Wed, 31 Jul 2019 19:20:10 GMT            True   \n66449               NaN                           None            None   \n\n                  requestedDeparture  \n0      Thu, 02 Jan 2020 20:51:54 GMT  \n1      Thu, 02 Jan 2020 23:31:50 GMT  \n2      Thu, 02 Jan 2020 14:56:35 GMT  \n3      Thu, 02 Jan 2020 15:04:58 GMT  \n4      Thu, 02 Jan 2020 22:24:01 GMT  \n...                              ...  \n66445  Thu, 01 Aug 2019 00:03:04 GMT  \n66446  Thu, 01 Aug 2019 02:15:41 GMT  \n66447  Wed, 31 Jul 2019 22:08:40 GMT  \n66448  Wed, 31 Jul 2019 20:19:47 GMT  \n66449                           None  \n\n[66450 rows x 18 columns]",
      "text/html": "<div>\n<style scoped>\n    .dataframe tbody tr th:only-of-type {\n        vertical-align: middle;\n    }\n\n    .dataframe tbody tr th {\n        vertical-align: top;\n    }\n\n    .dataframe thead th {\n        text-align: right;\n    }\n</style>\n<table border=\"1\" class=\"dataframe\">\n  <thead>\n    <tr style=\"text-align: right;\">\n      <th></th>\n      <th>id</th>\n      <th>connectionTime</th>\n      <th>disconnectTime</th>\n      <th>doneChargingTime</th>\n      <th>kWhDelivered</th>\n      <th>sessionID</th>\n      <th>siteID</th>\n      <th>spaceID</th>\n      <th>stationID</th>\n      <th>timezone</th>\n      <th>userID</th>\n      <th>WhPerMile</th>\n      <th>kWhRequested</th>\n      <th>milesRequested</th>\n      <th>minutesAvailable</th>\n      <th>modifiedAt</th>\n      <th>paymentRequired</th>\n      <th>requestedDeparture</th>\n    </tr>\n  </thead>\n  <tbody>\n    <tr>\n      <th>0</th>\n      <td>5e23b149f9af8b5fe4b973cf</td>\n      <td>2020-01-02 13:08:54+00:00</td>\n      <td>2020-01-02 19:11:15+00:00</td>\n      <td>2020-01-02 17:31:35+00:00</td>\n      <td>25.016</td>\n      <td>1_1_179_810_2020-01-02 13:08:53.870034</td>\n      <td>1</td>\n      <td>AG-3F30</td>\n      <td>1-1-179-810</td>\n      <td>America/Los_Angeles</td>\n      <td>194.0</td>\n      <td>250.0</td>\n      <td>25.00</td>\n      <td>100.0</td>\n      <td>463.0</td>\n      <td>Thu, 02 Jan 2020 13:09:39 GMT</td>\n      <td>True</td>\n      <td>Thu, 02 Jan 2020 20:51:54 GMT</td>\n    </tr>\n    <tr>\n      <th>1</th>\n      <td>5e23b149f9af8b5fe4b973d0</td>\n      <td>2020-01-02 13:36:50+00:00</td>\n      <td>2020-01-02 22:38:21+00:00</td>\n      <td>2020-01-02 20:18:05+00:00</td>\n      <td>33.097</td>\n      <td>1_1_193_825_2020-01-02 13:36:49.599853</td>\n      <td>1</td>\n      <td>AG-1F01</td>\n      <td>1-1-193-825</td>\n      <td>America/Los_Angeles</td>\n      <td>4275.0</td>\n      <td>280.0</td>\n      <td>70.00</td>\n      <td>250.0</td>\n      <td>595.0</td>\n      <td>Thu, 02 Jan 2020 13:37:11 GMT</td>\n      <td>True</td>\n      <td>Thu, 02 Jan 2020 23:31:50 GMT</td>\n    </tr>\n    <tr>\n      <th>2</th>\n      <td>5e23b149f9af8b5fe4b973d1</td>\n      <td>2020-01-02 13:56:35+00:00</td>\n      <td>2020-01-03 00:39:22+00:00</td>\n      <td>2020-01-02 16:35:06+00:00</td>\n      <td>6.521</td>\n      <td>1_1_193_829_2020-01-02 13:56:35.214993</td>\n      <td>1</td>\n      <td>AG-1F03</td>\n      <td>1-1-193-829</td>\n      <td>America/Los_Angeles</td>\n      <td>344.0</td>\n      <td>400.0</td>\n      <td>8.00</td>\n      <td>20.0</td>\n      <td>60.0</td>\n      <td>Thu, 02 Jan 2020 13:57:17 GMT</td>\n      <td>True</td>\n      <td>Thu, 02 Jan 2020 14:56:35 GMT</td>\n    </tr>\n    <tr>\n      <th>3</th>\n      <td>5e23b149f9af8b5fe4b973d2</td>\n      <td>2020-01-02 13:59:58+00:00</td>\n      <td>2020-01-02 16:38:39+00:00</td>\n      <td>2020-01-02 15:18:45+00:00</td>\n      <td>2.355</td>\n      <td>1_1_193_820_2020-01-02 13:59:58.309319</td>\n      <td>1</td>\n      <td>AG-1F04</td>\n      <td>1-1-193-820</td>\n      <td>America/Los_Angeles</td>\n      <td>1117.0</td>\n      <td>400.0</td>\n      <td>8.00</td>\n      <td>20.0</td>\n      <td>65.0</td>\n      <td>Thu, 02 Jan 2020 14:00:03 GMT</td>\n      <td>True</td>\n      <td>Thu, 02 Jan 2020 15:04:58 GMT</td>\n    </tr>\n    <tr>\n      <th>4</th>\n      <td>5e23b149f9af8b5fe4b973d3</td>\n      <td>2020-01-02 14:00:01+00:00</td>\n      <td>2020-01-02 22:08:40+00:00</td>\n      <td>2020-01-02 18:17:30+00:00</td>\n      <td>13.375</td>\n      <td>1_1_193_819_2020-01-02 14:00:00.779967</td>\n      <td>1</td>\n      <td>AG-1F06</td>\n      <td>1-1-193-819</td>\n      <td>America/Los_Angeles</td>\n      <td>334.0</td>\n      <td>400.0</td>\n      <td>16.00</td>\n      <td>40.0</td>\n      <td>504.0</td>\n      <td>Thu, 02 Jan 2020 14:00:13 GMT</td>\n      <td>True</td>\n      <td>Thu, 02 Jan 2020 22:24:01 GMT</td>\n    </tr>\n    <tr>\n      <th>...</th>\n      <td>...</td>\n      <td>...</td>\n      <td>...</td>\n      <td>...</td>\n      <td>...</td>\n      <td>...</td>\n      <td>...</td>\n      <td>...</td>\n      <td>...</td>\n      <td>...</td>\n      <td>...</td>\n      <td>...</td>\n      <td>...</td>\n      <td>...</td>\n      <td>...</td>\n      <td>...</td>\n      <td>...</td>\n      <td>...</td>\n    </tr>\n    <tr>\n      <th>66445</th>\n      <td>5d574ad2f9af8b4c10c03652</td>\n      <td>2019-07-31 18:08:04+00:00</td>\n      <td>2019-07-31 23:29:18+00:00</td>\n      <td>2019-07-31 23:30:18+00:00</td>\n      <td>28.787</td>\n      <td>1_1_179_809_2019-07-31 18:08:04.432654</td>\n      <td>1</td>\n      <td>AG-3F27</td>\n      <td>1-1-179-809</td>\n      <td>America/Los_Angeles</td>\n      <td>393.0</td>\n      <td>240.0</td>\n      <td>31.20</td>\n      <td>130.0</td>\n      <td>355.0</td>\n      <td>Wed, 31 Jul 2019 18:08:23 GMT</td>\n      <td>True</td>\n      <td>Thu, 01 Aug 2019 00:03:04 GMT</td>\n    </tr>\n    <tr>\n      <th>66446</th>\n      <td>5d574ad2f9af8b4c10c03653</td>\n      <td>2019-07-31 18:40:41+00:00</td>\n      <td>2019-08-01 00:59:42+00:00</td>\n      <td>2019-07-31 21:44:23+00:00</td>\n      <td>7.787</td>\n      <td>1_1_179_810_2019-07-31 18:40:40.900203</td>\n      <td>1</td>\n      <td>AG-3F30</td>\n      <td>1-1-179-810</td>\n      <td>America/Los_Angeles</td>\n      <td>220.0</td>\n      <td>333.0</td>\n      <td>6.66</td>\n      <td>20.0</td>\n      <td>455.0</td>\n      <td>Wed, 31 Jul 2019 18:41:02 GMT</td>\n      <td>True</td>\n      <td>Thu, 01 Aug 2019 02:15:41 GMT</td>\n    </tr>\n    <tr>\n      <th>66447</th>\n      <td>5d574ad2f9af8b4c10c03654</td>\n      <td>2019-07-31 19:04:40+00:00</td>\n      <td>2019-07-31 22:44:22+00:00</td>\n      <td>2019-07-31 22:45:21+00:00</td>\n      <td>11.274</td>\n      <td>1_1_191_795_2019-07-31 19:04:40.098273</td>\n      <td>1</td>\n      <td>AG-4F51</td>\n      <td>1-1-191-795</td>\n      <td>America/Los_Angeles</td>\n      <td>1974.0</td>\n      <td>333.0</td>\n      <td>19.98</td>\n      <td>60.0</td>\n      <td>184.0</td>\n      <td>Wed, 31 Jul 2019 19:04:57 GMT</td>\n      <td>True</td>\n      <td>Wed, 31 Jul 2019 22:08:40 GMT</td>\n    </tr>\n    <tr>\n      <th>66448</th>\n      <td>5d574ad2f9af8b4c10c03655</td>\n      <td>2019-07-31 19:19:47+00:00</td>\n      <td>2019-08-01 00:34:51+00:00</td>\n      <td>2019-07-31 21:25:30+00:00</td>\n      <td>11.589</td>\n      <td>1_1_191_778_2019-07-31 19:19:46.919358</td>\n      <td>1</td>\n      <td>AG-4F43</td>\n      <td>1-1-191-778</td>\n      <td>America/Los_Angeles</td>\n      <td>942.0</td>\n      <td>275.0</td>\n      <td>22.00</td>\n      <td>80.0</td>\n      <td>60.0</td>\n      <td>Wed, 31 Jul 2019 19:20:10 GMT</td>\n      <td>True</td>\n      <td>Wed, 31 Jul 2019 20:19:47 GMT</td>\n    </tr>\n    <tr>\n      <th>66449</th>\n      <td>5d574ad2f9af8b4c10c03656</td>\n      <td>2019-07-31 19:21:47+00:00</td>\n      <td>2019-07-31 22:00:04+00:00</td>\n      <td>2019-07-31 20:51:34+00:00</td>\n      <td>0.897</td>\n      <td>1_1_178_817_2019-07-31 19:21:46.727697</td>\n      <td>1</td>\n      <td>AG-1F09</td>\n      <td>1-1-178-817</td>\n      <td>America/Los_Angeles</td>\n      <td>NaN</td>\n      <td>NaN</td>\n      <td>NaN</td>\n      <td>NaN</td>\n      <td>NaN</td>\n      <td>None</td>\n      <td>None</td>\n      <td>None</td>\n    </tr>\n  </tbody>\n</table>\n<p>66450 rows × 18 columns</p>\n</div>"
     },
     "execution_count": 6,
     "metadata": {},
     "output_type": "execute_result"
    }
   ],
   "source": [
    "# split userInputs into own columns\n",
    "def parse_user_inputs(row):\n",
    "    try:\n",
    "        # Parse the row as a Python object (e.g., list of dicts)\n",
    "        parsed = ast.literal_eval(row) if pd.notnull(row) else []\n",
    "        return parsed[0] if isinstance(parsed, list) and len(parsed) > 0 else {}\n",
    "    except (ValueError, SyntaxError):\n",
    "        return {}\n",
    "\n",
    "# Parse 'userInputs' column in charging_set\n",
    "charging_set['userInputs'] = charging_set['userInputs'].apply(parse_user_inputs)\n",
    "\n",
    "# Specify the desired features to extract\n",
    "desired_features = [\n",
    "    'WhPerMile', 'kWhRequested', 'milesRequested',\n",
    "    'minutesAvailable', 'modifiedAt', 'paymentRequired',\n",
    "    'requestedDeparture'\n",
    "]\n",
    "\n",
    "# Extract desired features and create new columns\n",
    "for feature in desired_features:\n",
    "    charging_set[feature] = charging_set['userInputs'].apply(\n",
    "        lambda x: x.get(feature) if isinstance(x, dict) else None\n",
    "    )\n",
    "charging_set = charging_set.drop(columns=['userInputs'])\n",
    "charging_set"
   ]
  },
  {
   "cell_type": "code",
   "execution_count": 7,
   "id": "74d6638dd49554a4",
   "metadata": {
    "collapsed": false,
    "ExecuteTime": {
     "end_time": "2025-01-06T21:20:36.916370Z",
     "start_time": "2025-01-06T21:20:36.082667Z"
    }
   },
   "outputs": [
    {
     "name": "stdout",
     "output_type": "stream",
     "text": [
      "sum of duplicates: 1413\n"
     ]
    },
    {
     "data": {
      "text/plain": "                             id             connectionTime  \\\n0      5e23b149f9af8b5fe4b973cf  2020-01-02 13:08:54+00:00   \n1      5e23b149f9af8b5fe4b973d0  2020-01-02 13:36:50+00:00   \n2      5e23b149f9af8b5fe4b973d1  2020-01-02 13:56:35+00:00   \n3      5e23b149f9af8b5fe4b973d2  2020-01-02 13:59:58+00:00   \n4      5e23b149f9af8b5fe4b973d3  2020-01-02 14:00:01+00:00   \n...                         ...                        ...   \n65032  5d2fbdd3f9af8b4d0dd0d54a  2019-07-01 21:49:12+00:00   \n65033  5d2fbdd3f9af8b4d0dd0d54b  2019-07-01 21:58:45+00:00   \n65034  5d2fbdd3f9af8b4d0dd0d54c  2019-07-01 22:02:21+00:00   \n65035  5d2fbdd3f9af8b4d0dd0d54d  2019-07-01 22:23:44+00:00   \n65036  5d2fbdd3f9af8b4d0dd0d54e  2019-07-01 22:36:08+00:00   \n\n                  disconnectTime           doneChargingTime  kWhDelivered  \\\n0      2020-01-02 19:11:15+00:00  2020-01-02 17:31:35+00:00        25.016   \n1      2020-01-02 22:38:21+00:00  2020-01-02 20:18:05+00:00        33.097   \n2      2020-01-03 00:39:22+00:00  2020-01-02 16:35:06+00:00         6.521   \n3      2020-01-02 16:38:39+00:00  2020-01-02 15:18:45+00:00         2.355   \n4      2020-01-02 22:08:40+00:00  2020-01-02 18:17:30+00:00        13.375   \n...                          ...                        ...           ...   \n65032  2019-07-02 01:37:18+00:00  2019-07-01 23:14:33+00:00         8.399   \n65033  2019-07-02 00:39:48+00:00  2019-07-02 00:40:21+00:00        16.864   \n65034  2019-07-02 00:58:50+00:00  2019-07-02 00:59:23+00:00        18.335   \n65035  2019-07-02 02:03:36+00:00  2019-07-02 02:04:06+00:00        22.815   \n65036  2019-07-02 01:10:52+00:00  2019-07-02 00:24:32+00:00        10.241   \n\n                                    sessionID  siteID  spaceID    stationID  \\\n0      1_1_179_810_2020-01-02 13:08:53.870034       1  AG-3F30  1-1-179-810   \n1      1_1_193_825_2020-01-02 13:36:49.599853       1  AG-1F01  1-1-193-825   \n2      1_1_193_829_2020-01-02 13:56:35.214993       1  AG-1F03  1-1-193-829   \n3      1_1_193_820_2020-01-02 13:59:58.309319       1  AG-1F04  1-1-193-820   \n4      1_1_193_819_2020-01-02 14:00:00.779967       1  AG-1F06  1-1-193-819   \n...                                       ...     ...      ...          ...   \n65032  1_1_179_798_2019-07-01 21:49:11.873404       1  AG-3F18  1-1-179-798   \n65033  1_1_179_794_2019-07-01 21:58:44.571011       1  AG-3F20  1-1-179-794   \n65034  1_1_191_807_2019-07-01 22:02:20.810735       1  AG-4F47  1-1-191-807   \n65035  1_1_179_781_2019-07-01 22:23:32.496137       1  AG-3F31  1-1-179-781   \n65036  1_1_193_819_2019-07-01 22:35:56.104381       1  AG-1F06  1-1-193-819   \n\n                  timezone  userID  WhPerMile  kWhRequested  milesRequested  \\\n0      America/Los_Angeles   194.0      250.0         25.00           100.0   \n1      America/Los_Angeles  4275.0      280.0         70.00           250.0   \n2      America/Los_Angeles   344.0      400.0          8.00            20.0   \n3      America/Los_Angeles  1117.0      400.0          8.00            20.0   \n4      America/Los_Angeles   334.0      400.0         16.00            40.0   \n...                    ...     ...        ...           ...             ...   \n65032  America/Los_Angeles  1346.0      400.0         32.00            80.0   \n65033  America/Los_Angeles   364.0      400.0         40.00           100.0   \n65034  America/Los_Angeles  2050.0      333.0         29.97            90.0   \n65035  America/Los_Angeles  1626.0      200.0         34.00           170.0   \n65036  America/Los_Angeles  2299.0      333.0         16.65            50.0   \n\n       minutesAvailable                     modifiedAt paymentRequired  \\\n0                 463.0  Thu, 02 Jan 2020 13:09:39 GMT            True   \n1                 595.0  Thu, 02 Jan 2020 13:37:11 GMT            True   \n2                  60.0  Thu, 02 Jan 2020 13:57:17 GMT            True   \n3                  65.0  Thu, 02 Jan 2020 14:00:03 GMT            True   \n4                 504.0  Thu, 02 Jan 2020 14:00:13 GMT            True   \n...                 ...                            ...             ...   \n65032              36.0  Mon, 01 Jul 2019 21:49:37 GMT            True   \n65033             234.0  Mon, 01 Jul 2019 21:59:09 GMT            True   \n65034             309.0  Mon, 01 Jul 2019 22:02:37 GMT            True   \n65035              99.0  Mon, 01 Jul 2019 22:23:43 GMT            True   \n65036             191.0  Mon, 01 Jul 2019 22:36:08 GMT            True   \n\n                  requestedDeparture  \n0      Thu, 02 Jan 2020 20:51:54 GMT  \n1      Thu, 02 Jan 2020 23:31:50 GMT  \n2      Thu, 02 Jan 2020 14:56:35 GMT  \n3      Thu, 02 Jan 2020 15:04:58 GMT  \n4      Thu, 02 Jan 2020 22:24:01 GMT  \n...                              ...  \n65032  Mon, 01 Jul 2019 22:25:12 GMT  \n65033  Tue, 02 Jul 2019 01:52:45 GMT  \n65034  Tue, 02 Jul 2019 03:11:21 GMT  \n65035  Tue, 02 Jul 2019 00:02:44 GMT  \n65036  Tue, 02 Jul 2019 01:47:08 GMT  \n\n[65037 rows x 18 columns]",
      "text/html": "<div>\n<style scoped>\n    .dataframe tbody tr th:only-of-type {\n        vertical-align: middle;\n    }\n\n    .dataframe tbody tr th {\n        vertical-align: top;\n    }\n\n    .dataframe thead th {\n        text-align: right;\n    }\n</style>\n<table border=\"1\" class=\"dataframe\">\n  <thead>\n    <tr style=\"text-align: right;\">\n      <th></th>\n      <th>id</th>\n      <th>connectionTime</th>\n      <th>disconnectTime</th>\n      <th>doneChargingTime</th>\n      <th>kWhDelivered</th>\n      <th>sessionID</th>\n      <th>siteID</th>\n      <th>spaceID</th>\n      <th>stationID</th>\n      <th>timezone</th>\n      <th>userID</th>\n      <th>WhPerMile</th>\n      <th>kWhRequested</th>\n      <th>milesRequested</th>\n      <th>minutesAvailable</th>\n      <th>modifiedAt</th>\n      <th>paymentRequired</th>\n      <th>requestedDeparture</th>\n    </tr>\n  </thead>\n  <tbody>\n    <tr>\n      <th>0</th>\n      <td>5e23b149f9af8b5fe4b973cf</td>\n      <td>2020-01-02 13:08:54+00:00</td>\n      <td>2020-01-02 19:11:15+00:00</td>\n      <td>2020-01-02 17:31:35+00:00</td>\n      <td>25.016</td>\n      <td>1_1_179_810_2020-01-02 13:08:53.870034</td>\n      <td>1</td>\n      <td>AG-3F30</td>\n      <td>1-1-179-810</td>\n      <td>America/Los_Angeles</td>\n      <td>194.0</td>\n      <td>250.0</td>\n      <td>25.00</td>\n      <td>100.0</td>\n      <td>463.0</td>\n      <td>Thu, 02 Jan 2020 13:09:39 GMT</td>\n      <td>True</td>\n      <td>Thu, 02 Jan 2020 20:51:54 GMT</td>\n    </tr>\n    <tr>\n      <th>1</th>\n      <td>5e23b149f9af8b5fe4b973d0</td>\n      <td>2020-01-02 13:36:50+00:00</td>\n      <td>2020-01-02 22:38:21+00:00</td>\n      <td>2020-01-02 20:18:05+00:00</td>\n      <td>33.097</td>\n      <td>1_1_193_825_2020-01-02 13:36:49.599853</td>\n      <td>1</td>\n      <td>AG-1F01</td>\n      <td>1-1-193-825</td>\n      <td>America/Los_Angeles</td>\n      <td>4275.0</td>\n      <td>280.0</td>\n      <td>70.00</td>\n      <td>250.0</td>\n      <td>595.0</td>\n      <td>Thu, 02 Jan 2020 13:37:11 GMT</td>\n      <td>True</td>\n      <td>Thu, 02 Jan 2020 23:31:50 GMT</td>\n    </tr>\n    <tr>\n      <th>2</th>\n      <td>5e23b149f9af8b5fe4b973d1</td>\n      <td>2020-01-02 13:56:35+00:00</td>\n      <td>2020-01-03 00:39:22+00:00</td>\n      <td>2020-01-02 16:35:06+00:00</td>\n      <td>6.521</td>\n      <td>1_1_193_829_2020-01-02 13:56:35.214993</td>\n      <td>1</td>\n      <td>AG-1F03</td>\n      <td>1-1-193-829</td>\n      <td>America/Los_Angeles</td>\n      <td>344.0</td>\n      <td>400.0</td>\n      <td>8.00</td>\n      <td>20.0</td>\n      <td>60.0</td>\n      <td>Thu, 02 Jan 2020 13:57:17 GMT</td>\n      <td>True</td>\n      <td>Thu, 02 Jan 2020 14:56:35 GMT</td>\n    </tr>\n    <tr>\n      <th>3</th>\n      <td>5e23b149f9af8b5fe4b973d2</td>\n      <td>2020-01-02 13:59:58+00:00</td>\n      <td>2020-01-02 16:38:39+00:00</td>\n      <td>2020-01-02 15:18:45+00:00</td>\n      <td>2.355</td>\n      <td>1_1_193_820_2020-01-02 13:59:58.309319</td>\n      <td>1</td>\n      <td>AG-1F04</td>\n      <td>1-1-193-820</td>\n      <td>America/Los_Angeles</td>\n      <td>1117.0</td>\n      <td>400.0</td>\n      <td>8.00</td>\n      <td>20.0</td>\n      <td>65.0</td>\n      <td>Thu, 02 Jan 2020 14:00:03 GMT</td>\n      <td>True</td>\n      <td>Thu, 02 Jan 2020 15:04:58 GMT</td>\n    </tr>\n    <tr>\n      <th>4</th>\n      <td>5e23b149f9af8b5fe4b973d3</td>\n      <td>2020-01-02 14:00:01+00:00</td>\n      <td>2020-01-02 22:08:40+00:00</td>\n      <td>2020-01-02 18:17:30+00:00</td>\n      <td>13.375</td>\n      <td>1_1_193_819_2020-01-02 14:00:00.779967</td>\n      <td>1</td>\n      <td>AG-1F06</td>\n      <td>1-1-193-819</td>\n      <td>America/Los_Angeles</td>\n      <td>334.0</td>\n      <td>400.0</td>\n      <td>16.00</td>\n      <td>40.0</td>\n      <td>504.0</td>\n      <td>Thu, 02 Jan 2020 14:00:13 GMT</td>\n      <td>True</td>\n      <td>Thu, 02 Jan 2020 22:24:01 GMT</td>\n    </tr>\n    <tr>\n      <th>...</th>\n      <td>...</td>\n      <td>...</td>\n      <td>...</td>\n      <td>...</td>\n      <td>...</td>\n      <td>...</td>\n      <td>...</td>\n      <td>...</td>\n      <td>...</td>\n      <td>...</td>\n      <td>...</td>\n      <td>...</td>\n      <td>...</td>\n      <td>...</td>\n      <td>...</td>\n      <td>...</td>\n      <td>...</td>\n      <td>...</td>\n    </tr>\n    <tr>\n      <th>65032</th>\n      <td>5d2fbdd3f9af8b4d0dd0d54a</td>\n      <td>2019-07-01 21:49:12+00:00</td>\n      <td>2019-07-02 01:37:18+00:00</td>\n      <td>2019-07-01 23:14:33+00:00</td>\n      <td>8.399</td>\n      <td>1_1_179_798_2019-07-01 21:49:11.873404</td>\n      <td>1</td>\n      <td>AG-3F18</td>\n      <td>1-1-179-798</td>\n      <td>America/Los_Angeles</td>\n      <td>1346.0</td>\n      <td>400.0</td>\n      <td>32.00</td>\n      <td>80.0</td>\n      <td>36.0</td>\n      <td>Mon, 01 Jul 2019 21:49:37 GMT</td>\n      <td>True</td>\n      <td>Mon, 01 Jul 2019 22:25:12 GMT</td>\n    </tr>\n    <tr>\n      <th>65033</th>\n      <td>5d2fbdd3f9af8b4d0dd0d54b</td>\n      <td>2019-07-01 21:58:45+00:00</td>\n      <td>2019-07-02 00:39:48+00:00</td>\n      <td>2019-07-02 00:40:21+00:00</td>\n      <td>16.864</td>\n      <td>1_1_179_794_2019-07-01 21:58:44.571011</td>\n      <td>1</td>\n      <td>AG-3F20</td>\n      <td>1-1-179-794</td>\n      <td>America/Los_Angeles</td>\n      <td>364.0</td>\n      <td>400.0</td>\n      <td>40.00</td>\n      <td>100.0</td>\n      <td>234.0</td>\n      <td>Mon, 01 Jul 2019 21:59:09 GMT</td>\n      <td>True</td>\n      <td>Tue, 02 Jul 2019 01:52:45 GMT</td>\n    </tr>\n    <tr>\n      <th>65034</th>\n      <td>5d2fbdd3f9af8b4d0dd0d54c</td>\n      <td>2019-07-01 22:02:21+00:00</td>\n      <td>2019-07-02 00:58:50+00:00</td>\n      <td>2019-07-02 00:59:23+00:00</td>\n      <td>18.335</td>\n      <td>1_1_191_807_2019-07-01 22:02:20.810735</td>\n      <td>1</td>\n      <td>AG-4F47</td>\n      <td>1-1-191-807</td>\n      <td>America/Los_Angeles</td>\n      <td>2050.0</td>\n      <td>333.0</td>\n      <td>29.97</td>\n      <td>90.0</td>\n      <td>309.0</td>\n      <td>Mon, 01 Jul 2019 22:02:37 GMT</td>\n      <td>True</td>\n      <td>Tue, 02 Jul 2019 03:11:21 GMT</td>\n    </tr>\n    <tr>\n      <th>65035</th>\n      <td>5d2fbdd3f9af8b4d0dd0d54d</td>\n      <td>2019-07-01 22:23:44+00:00</td>\n      <td>2019-07-02 02:03:36+00:00</td>\n      <td>2019-07-02 02:04:06+00:00</td>\n      <td>22.815</td>\n      <td>1_1_179_781_2019-07-01 22:23:32.496137</td>\n      <td>1</td>\n      <td>AG-3F31</td>\n      <td>1-1-179-781</td>\n      <td>America/Los_Angeles</td>\n      <td>1626.0</td>\n      <td>200.0</td>\n      <td>34.00</td>\n      <td>170.0</td>\n      <td>99.0</td>\n      <td>Mon, 01 Jul 2019 22:23:43 GMT</td>\n      <td>True</td>\n      <td>Tue, 02 Jul 2019 00:02:44 GMT</td>\n    </tr>\n    <tr>\n      <th>65036</th>\n      <td>5d2fbdd3f9af8b4d0dd0d54e</td>\n      <td>2019-07-01 22:36:08+00:00</td>\n      <td>2019-07-02 01:10:52+00:00</td>\n      <td>2019-07-02 00:24:32+00:00</td>\n      <td>10.241</td>\n      <td>1_1_193_819_2019-07-01 22:35:56.104381</td>\n      <td>1</td>\n      <td>AG-1F06</td>\n      <td>1-1-193-819</td>\n      <td>America/Los_Angeles</td>\n      <td>2299.0</td>\n      <td>333.0</td>\n      <td>16.65</td>\n      <td>50.0</td>\n      <td>191.0</td>\n      <td>Mon, 01 Jul 2019 22:36:08 GMT</td>\n      <td>True</td>\n      <td>Tue, 02 Jul 2019 01:47:08 GMT</td>\n    </tr>\n  </tbody>\n</table>\n<p>65037 rows × 18 columns</p>\n</div>"
     },
     "execution_count": 7,
     "metadata": {},
     "output_type": "execute_result"
    }
   ],
   "source": [
    "# check for duplicates\n",
    "duplicate_counter = charging_set.duplicated().sum()\n",
    "print(\"sum of duplicates:\", duplicate_counter)\n",
    "charging_set.drop_duplicates()"
   ]
  },
  {
   "cell_type": "code",
   "execution_count": 8,
   "id": "5aba7030b49abcb",
   "metadata": {
    "collapsed": false,
    "ExecuteTime": {
     "end_time": "2025-01-06T21:20:41.231256Z",
     "start_time": "2025-01-06T21:20:41.039008Z"
    }
   },
   "outputs": [
    {
     "name": "stdout",
     "output_type": "stream",
     "text": [
      "Feature: paymentRequired, Count of NaN-Values: 17263\n",
      "Feature: requestedDeparture, Count of NaN-Values: 17263\n",
      "Feature: milesRequested, Count of NaN-Values: 17263\n",
      "Feature: kWhRequested, Count of NaN-Values: 17263\n",
      "Feature: modifiedAt, Count of NaN-Values: 17263\n",
      "Feature: minutesAvailable, Count of NaN-Values: 17263\n",
      "Feature: WhPerMile, Count of NaN-Values: 17263\n",
      "Feature: userID, Count of NaN-Values: 17263\n",
      "Feature: doneChargingTime, Count of NaN-Values: 4088\n",
      "Feature: id, Count of NaN-Values: 0\n",
      "Feature: connectionTime, Count of NaN-Values: 0\n",
      "Feature: timezone, Count of NaN-Values: 0\n",
      "Feature: spaceID, Count of NaN-Values: 0\n",
      "Feature: stationID, Count of NaN-Values: 0\n",
      "Feature: sessionID, Count of NaN-Values: 0\n",
      "Feature: kWhDelivered, Count of NaN-Values: 0\n",
      "Feature: disconnectTime, Count of NaN-Values: 0\n",
      "Feature: siteID, Count of NaN-Values: 0\n"
     ]
    }
   ],
   "source": [
    "# check for none-values\n",
    "nan_counts = charging_set.isna().sum()\n",
    "nan_counts_sorted = nan_counts.sort_values(ascending=False)\n",
    "\n",
    "for column, count in nan_counts_sorted.items():\n",
    "    print(f\"Feature: {column}, Count of NaN-Values: {count}\")"
   ]
  },
  {
   "cell_type": "markdown",
   "source": [
    "We observe a large number of NaN-values in the columns that were separated from the column \\\"userInputs\\\". It is very noticeable that the number of NaN-values of the \\\"userInputs\\\"-columns is the same as the number of the NaN-values in the \\\"userID\\\"-column. Accordingly, we assume that the NaN-values in the \\\"userInputs\\\"-columns originate from users not being registered. In the following, we check if our assumption is correct:"
   ],
   "metadata": {
    "collapsed": false
   },
   "id": "8d4b16f220a339b5"
  },
  {
   "cell_type": "code",
   "outputs": [
    {
     "name": "stdout",
     "output_type": "stream",
     "text": [
      "Unregistered users are the reason for NaN-values in userInputs columns: True\n",
      "userID contains a -1 value:\n",
      " userID              False\n",
      "milesRequested      False\n",
      "paymentRequired     False\n",
      "minutesAvailable    False\n",
      "WhPerMile           False\n",
      "kWhRequested        False\n",
      "dtype: bool\n"
     ]
    }
   ],
   "source": [
    "# list of userInputs columns\n",
    "user_inputs = [\"requestedDeparture\", \"milesRequested\", \"paymentRequired\", \"modifiedAt\", \"minutesAvailable\", \"WhPerMile\", \"kWhRequested\"]\n",
    "\n",
    "def check_user_inputs_nan_condition(user_inputs_columns):\n",
    "    \"\"\"\n",
    "    check_user_inputs_nan_condition checks if userID is NaN when userInputs columns are NaN.\n",
    "    \n",
    "    :param user_inputs_columns: list of user input columns that were stored in the former \"userInputs\"-column\n",
    "    :return: True if no violations are found, False if a userID exists with NaN in the corresponding userInput column.\n",
    "    \"\"\"\n",
    "    # iterate over each row and compare userID-value to userInputs-values\n",
    "    for idx, row in charging_set.iterrows():\n",
    "        user_id_value = row[\"userID\"]\n",
    "\n",
    "        for user_input_column in user_inputs_columns:\n",
    "            user_input_value = row[user_input_column]\n",
    "\n",
    "            # if userID is not NaN but the userInputs-column is NaN, return false\n",
    "            if pd.isna(user_input_value) and not pd.isna(user_id_value):\n",
    "                return False\n",
    "\n",
    "    # if no violation of condition is found, return true\n",
    "    return True\n",
    "\n",
    "# check if unregistered users are the reason for NaN-values in userInputs columns\n",
    "print(\"Unregistered users are the reason for NaN-values in userInputs columns:\", check_user_inputs_nan_condition(user_inputs))\n",
    "\n",
    "# check if we can use -1 as a placeholder for NaN values for \"userID\" and userInputs columns, except for the time data since we want to treat them differently\n",
    "columns_contain_nan = [\"userID\", \"milesRequested\", \"paymentRequired\", \"minutesAvailable\", \"WhPerMile\", \"kWhRequested\"]\n",
    "\n",
    "contains_zero_value = (charging_set[columns_contain_nan] == -1).any()\n",
    "\n",
    "print(\"userID contains a -1 value:\\n\", contains_zero_value)"
   ],
   "metadata": {
    "collapsed": false,
    "ExecuteTime": {
     "end_time": "2025-01-06T21:20:54.493836Z",
     "start_time": "2025-01-06T21:20:45.621152Z"
    }
   },
   "id": "c98bb53415f1bd09",
   "execution_count": 9
  },
  {
   "cell_type": "code",
   "outputs": [],
   "source": [
    "# fill NaN values with -1 in columns that do not contain zero values, for the rest of the columns, use -1\n",
    "charging_set[columns_contain_nan] = charging_set[columns_contain_nan].fillna(-1)"
   ],
   "metadata": {
    "collapsed": false,
    "ExecuteTime": {
     "end_time": "2025-01-06T21:20:56.152669Z",
     "start_time": "2025-01-06T21:20:56.086167Z"
    }
   },
   "id": "bb3387b518c19d89",
   "execution_count": 10
  },
  {
   "cell_type": "markdown",
   "source": [
    "Additionally, we create a new column called isRegistered, since the exact ID of a user is not relevant, but only the information wether a user is registered or not."
   ],
   "metadata": {
    "collapsed": false
   },
   "id": "ac65cf9841d47f97"
  },
  {
   "cell_type": "code",
   "outputs": [],
   "source": [
    "# isRegistered should be 0 if a user is not registered (userID == NaN) and be 1 if a user is registered\n",
    "charging_set['isRegistered'] = charging_set['userID'].notnull().astype(int)"
   ],
   "metadata": {
    "collapsed": false,
    "ExecuteTime": {
     "end_time": "2025-01-06T21:20:58.296968Z",
     "start_time": "2025-01-06T21:20:58.256092Z"
    }
   },
   "id": "64abf67238404212",
   "execution_count": 11
  },
  {
   "cell_type": "markdown",
   "source": [
    "# Time-Data"
   ],
   "metadata": {
    "collapsed": false
   },
   "id": "44ece4784cd3e895"
  },
  {
   "cell_type": "markdown",
   "source": [
    "Now we have a look at the time data. Just as we filled the NaN-values for the userInputs with -1 as placeholders, we will use the minimum possible value for python's \"datetime\" datatype (01.01.0001, midnight UTC) as an equivalent to the 0 value we used for the other numeric columns. After, we will convert the time-data into human-readable format."
   ],
   "metadata": {
    "collapsed": false
   },
   "id": "39dcc81cbd942706"
  },
  {
   "cell_type": "code",
   "execution_count": 12,
   "id": "85789119",
   "metadata": {
    "ExecuteTime": {
     "end_time": "2025-01-06T21:21:02.615972Z",
     "start_time": "2025-01-06T21:21:00.709716Z"
    }
   },
   "outputs": [],
   "source": [
    "# convert time-data in correct datatype\n",
    "charging_set['connectionTime'] = pd.to_datetime(charging_set['connectionTime'])\n",
    "charging_set['disconnectTime'] = pd.to_datetime(charging_set['disconnectTime'])\n",
    "charging_set['doneChargingTime'] = pd.to_datetime(charging_set['doneChargingTime'])\n",
    "charging_set['modifiedAt'] = pd.to_datetime(charging_set['modifiedAt'])\n",
    "charging_set['requestedDeparture'] = pd.to_datetime(charging_set['requestedDeparture'])\n",
    "\n",
    "charging_set['connectionTime_year'] = charging_set['connectionTime'].dt.year\n",
    "charging_set['connectionTime_month'] = charging_set['connectionTime'].dt.month\n",
    "charging_set['connectionTime_day'] = charging_set['connectionTime'].dt.day\n",
    "charging_set['connectionTime_time'] = charging_set['connectionTime'].dt.time\n",
    "charging_set['connectionTime_weekday'] = charging_set['connectionTime'].dt.weekday\n",
    "\n",
    "charging_set['disconnectTime_year'] = charging_set['disconnectTime'].dt.year\n",
    "charging_set['disconnectTime_month'] = charging_set['disconnectTime'].dt.month\n",
    "charging_set['disconnectTime_day'] = charging_set['disconnectTime'].dt.day\n",
    "charging_set['disconnectTime_time'] = charging_set['disconnectTime'].dt.time\n",
    "charging_set['disconnectTime_weekday'] = charging_set['disconnectTime'].dt.weekday\n",
    "\n",
    "charging_set['doneChargingTime_year'] = charging_set['doneChargingTime'].dt.year\n",
    "charging_set['doneChargingTime_month'] = charging_set['doneChargingTime'].dt.month\n",
    "charging_set['doneChargingTime_day'] = charging_set['doneChargingTime'].dt.day\n",
    "charging_set['doneChargingTime_time'] = charging_set['doneChargingTime'].dt.time\n",
    "charging_set['doneChargingTime_weekday'] = charging_set['doneChargingTime'].dt.weekday\n",
    "\n",
    "charging_set['modifiedAt_year'] = charging_set['modifiedAt'].dt.year\n",
    "charging_set['modifiedAt_month'] = charging_set['modifiedAt'].dt.month\n",
    "charging_set['modifiedAt_day'] = charging_set['modifiedAt'].dt.day\n",
    "charging_set['modifiedAt_time'] = charging_set['modifiedAt'].dt.time\n",
    "charging_set['modifiedAt_weekday'] = charging_set['modifiedAt'].dt.weekday\n",
    "\n",
    "charging_set['requestedDeparture_year'] = charging_set['requestedDeparture'].dt.year\n",
    "charging_set['requestedDeparture_month'] = charging_set['requestedDeparture'].dt.month\n",
    "charging_set['requestedDeparture_day'] = charging_set['requestedDeparture'].dt.day\n",
    "charging_set['requestedDeparture_time'] = charging_set['requestedDeparture'].dt.time\n",
    "charging_set['requestedDeparture_weekday'] = charging_set['requestedDeparture'].dt.weekday"
   ]
  },
  {
   "cell_type": "code",
   "execution_count": 13,
   "id": "87a34429",
   "metadata": {
    "ExecuteTime": {
     "end_time": "2025-01-06T21:21:04.525188Z",
     "start_time": "2025-01-06T21:21:04.075171Z"
    }
   },
   "outputs": [],
   "source": [
    "def calculate_hours():\n",
    "    # Berechne die Ladezeit als Differenz zwischen disconnectTime und connectionTime\n",
    "    charging_set[\"chargingDurationTemp\"] = charging_set[\"disconnectTime\"] - charging_set[\"connectionTime\"]\n",
    "    \n",
    "    # Konvertiere die Differenz in Stunden\n",
    "    charging_set['chargingDuration'] = charging_set[\"chargingDurationTemp\"].apply(\n",
    "        lambda x: x.total_seconds() / 3600\n",
    "    )\n",
    "    \n",
    "    # Entferne die temporäre Spalte\n",
    "    charging_set.drop(columns=[\"chargingDurationTemp\"], inplace=True)\n",
    "    \n",
    "    return charging_set\n",
    "\n",
    "# Aufruf der Funktion\n",
    "charging_set = calculate_hours()"
   ]
  },
  {
   "cell_type": "code",
   "outputs": [
    {
     "name": "stdout",
     "output_type": "stream",
     "text": [
      "id types: [<class 'str'>]\n",
      "connectionTime types: [<class 'pandas._libs.tslibs.timestamps.Timestamp'>]\n",
      "disconnectTime types: [<class 'pandas._libs.tslibs.timestamps.Timestamp'>]\n",
      "doneChargingTime types: [<class 'pandas._libs.tslibs.timestamps.Timestamp'>\n",
      " <class 'pandas._libs.tslibs.nattype.NaTType'>]\n",
      "kWhDelivered types: [<class 'float'>]\n",
      "siteID types: [<class 'int'>]\n",
      "spaceID types: [<class 'str'>]\n",
      "stationID types: [<class 'str'>]\n",
      "timezone types: [<class 'str'>]\n",
      "userID types: [<class 'float'>]\n"
     ]
    }
   ],
   "source": [
    "### check data types of each column\n",
    "# Find the unique types\n",
    "# TODO: add userInputs columns into here\n",
    "id_types = charging_set[\"id\"].apply(type).unique()\n",
    "connectionTime_types = charging_set[\"connectionTime\"].apply(type).unique()\n",
    "disconnectTime_types = charging_set[\"disconnectTime\"].apply(type).unique()\n",
    "doneChargingTime_types = charging_set[\"doneChargingTime\"].apply(type).unique()\n",
    "kWhDelivered_types = charging_set[\"kWhDelivered\"].apply(type).unique()\n",
    "siteID_types = charging_set[\"siteID\"].apply(type).unique()\n",
    "spaceID_types = charging_set[\"spaceID\"].apply(type).unique()\n",
    "stationID_types = charging_set[\"stationID\"].apply(type).unique()\n",
    "timezone_types = charging_set[\"timezone\"].apply(type).unique()\n",
    "userID_types = charging_set[\"userID\"].apply(type).unique()\n",
    "\n",
    "# Print the unique types\n",
    "print(\"id types:\", id_types)\n",
    "print(\"connectionTime types:\", connectionTime_types)\n",
    "print(\"disconnectTime types:\", disconnectTime_types)\n",
    "print(\"doneChargingTime types:\", doneChargingTime_types)\n",
    "print(\"kWhDelivered types:\", kWhDelivered_types)\n",
    "print(\"siteID types:\", siteID_types)\n",
    "print(\"spaceID types:\", spaceID_types)\n",
    "print(\"stationID types:\", stationID_types)\n",
    "print(\"timezone types:\", timezone_types)\n",
    "print(\"userID types:\", userID_types)"
   ],
   "metadata": {
    "collapsed": false,
    "ExecuteTime": {
     "end_time": "2025-01-06T21:21:07.541301Z",
     "start_time": "2025-01-06T21:21:06.013422Z"
    }
   },
   "id": "87e94dbe4d0f4acd",
   "execution_count": 14
  },
  {
   "cell_type": "code",
   "outputs": [
    {
     "name": "stdout",
     "output_type": "stream",
     "text": [
      "Column 'kWhDelivered': min=0.501, max=108.79724166666666\n",
      "Column 'siteID': min=1, max=2\n",
      "Column 'userID': min=-1.0, max=19923.0\n",
      "Column 'WhPerMile': min=-1.0, max=2000.0\n",
      "Column 'kWhRequested': min=-1.0, max=215.32\n",
      "Column 'milesRequested': min=-1.0, max=775.0\n",
      "Column 'minutesAvailable': min=-1.0, max=10062.0\n",
      "Column 'isRegistered': min=1, max=1\n",
      "Column 'connectionTime_year': min=2018, max=2021\n",
      "Column 'connectionTime_month': min=1, max=12\n",
      "Column 'connectionTime_day': min=1, max=31\n",
      "Column 'connectionTime_weekday': min=0, max=6\n",
      "Column 'disconnectTime_year': min=2018, max=2021\n",
      "Column 'disconnectTime_month': min=1, max=12\n",
      "Column 'disconnectTime_day': min=1, max=31\n",
      "Column 'disconnectTime_weekday': min=0, max=6\n",
      "Column 'doneChargingTime_year': min=2018.0, max=2021.0\n",
      "Column 'doneChargingTime_month': min=1.0, max=12.0\n",
      "Column 'doneChargingTime_day': min=1.0, max=31.0\n",
      "Column 'doneChargingTime_weekday': min=0.0, max=6.0\n",
      "Column 'modifiedAt_year': min=2018.0, max=2021.0\n",
      "Column 'modifiedAt_month': min=1.0, max=12.0\n",
      "Column 'modifiedAt_day': min=1.0, max=31.0\n",
      "Column 'modifiedAt_weekday': min=0.0, max=6.0\n",
      "Column 'requestedDeparture_year': min=2018.0, max=2021.0\n",
      "Column 'requestedDeparture_month': min=1.0, max=12.0\n",
      "Column 'requestedDeparture_day': min=1.0, max=31.0\n",
      "Column 'requestedDeparture_weekday': min=0.0, max=6.0\n",
      "Column 'chargingDuration': min=0.034444444444444444, max=245.26916666666668\n",
      "Column 'id': unique values=['5e23b149f9af8b5fe4b973cf' '5e23b149f9af8b5fe4b973d0'\n",
      " '5e23b149f9af8b5fe4b973d1' ... '5d2fbdd3f9af8b4d0dd0d54c'\n",
      " '5d2fbdd3f9af8b4d0dd0d54d' '5d2fbdd3f9af8b4d0dd0d54e']\n",
      "Column 'connectionTime': unique values=<DatetimeArray>\n",
      "['2020-01-02 13:08:54+00:00', '2020-01-02 13:36:50+00:00',\n",
      " '2020-01-02 13:56:35+00:00', '2020-01-02 13:59:58+00:00',\n",
      " '2020-01-02 14:00:01+00:00', '2020-01-02 14:00:13+00:00',\n",
      " '2020-01-02 14:09:14+00:00', '2020-01-02 14:17:32+00:00',\n",
      " '2020-01-02 14:25:38+00:00', '2020-01-02 14:27:40+00:00',\n",
      " ...\n",
      " '2019-07-01 19:17:16+00:00', '2019-07-01 19:20:31+00:00',\n",
      " '2019-07-01 19:43:46+00:00', '2019-07-01 20:01:07+00:00',\n",
      " '2019-07-01 20:34:30+00:00', '2019-07-01 21:49:12+00:00',\n",
      " '2019-07-01 21:58:45+00:00', '2019-07-01 22:02:21+00:00',\n",
      " '2019-07-01 22:23:44+00:00', '2019-07-01 22:36:08+00:00']\n",
      "Length: 64839, dtype: datetime64[ns, UTC]\n",
      "Column 'disconnectTime': unique values=<DatetimeArray>\n",
      "['2020-01-02 19:11:15+00:00', '2020-01-02 22:38:21+00:00',\n",
      " '2020-01-03 00:39:22+00:00', '2020-01-02 16:38:39+00:00',\n",
      " '2020-01-02 22:08:40+00:00', '2020-01-02 23:00:41+00:00',\n",
      " '2020-01-03 01:57:58+00:00', '2020-01-03 00:44:54+00:00',\n",
      " '2020-01-02 19:36:05+00:00', '2020-01-02 20:01:48+00:00',\n",
      " ...\n",
      " '2019-07-02 00:41:27+00:00', '2019-07-02 00:16:32+00:00',\n",
      " '2019-07-02 02:58:53+00:00', '2019-07-02 00:32:26+00:00',\n",
      " '2019-07-02 00:30:52+00:00', '2019-07-02 01:37:18+00:00',\n",
      " '2019-07-02 00:39:48+00:00', '2019-07-02 00:58:50+00:00',\n",
      " '2019-07-02 02:03:36+00:00', '2019-07-02 01:10:52+00:00']\n",
      "Length: 64906, dtype: datetime64[ns, UTC]\n",
      "Column 'doneChargingTime': unique values=<DatetimeArray>\n",
      "['2020-01-02 17:31:35+00:00', '2020-01-02 20:18:05+00:00',\n",
      " '2020-01-02 16:35:06+00:00', '2020-01-02 15:18:45+00:00',\n",
      " '2020-01-02 18:17:30+00:00', '2020-01-02 20:13:21+00:00',\n",
      " '2020-01-03 00:59:21+00:00', '2020-01-02 20:22:40+00:00',\n",
      " '2020-01-02 18:38:39+00:00', '2020-01-02 19:17:46+00:00',\n",
      " ...\n",
      " '2019-07-02 00:42:25+00:00', '2019-07-02 00:16:42+00:00',\n",
      " '2019-07-02 02:43:53+00:00', '2019-07-02 00:32:59+00:00',\n",
      " '2019-07-01 21:27:44+00:00', '2019-07-01 23:14:33+00:00',\n",
      " '2019-07-02 00:40:21+00:00', '2019-07-02 00:59:23+00:00',\n",
      " '2019-07-02 02:04:06+00:00', '2019-07-02 00:24:32+00:00']\n",
      "Length: 60638, dtype: datetime64[ns, UTC]\n",
      "Column 'sessionID': unique values=['1_1_179_810_2020-01-02 13:08:53.870034'\n",
      " '1_1_193_825_2020-01-02 13:36:49.599853'\n",
      " '1_1_193_829_2020-01-02 13:56:35.214993' ...\n",
      " '1_1_191_807_2019-07-01 22:02:20.810735'\n",
      " '1_1_179_781_2019-07-01 22:23:32.496137'\n",
      " '1_1_193_819_2019-07-01 22:35:56.104381']\n",
      "Column 'spaceID': unique values=['AG-3F30' 'AG-1F01' 'AG-1F03' 'AG-1F04' 'AG-1F06' 'AG-1F13' 'AG-1F09'\n",
      " 'AG-4F34' 'AG-1F11' 'AG-1F08' 'AG-3F22' 'AG-1F14' 'AG-1F07' 'AG-1F12'\n",
      " 'AG-3F29' 'AG-1F05' 'AG-3F18' 'AG-1F10' 'AG-3F16' 'AG-4F37' 'AG-1F02'\n",
      " 'AG-3F28' 'AG-3F25' 'AG-3F24' 'AG-3F33' 'AG-3F23' 'AG-3F31' 'AG-3F32'\n",
      " 'AG-3F27' 'AG-3F26' 'AG-3F20' 'AG-3F17' 'AG-3F21' 'AG-3F19' 'AG-4F44'\n",
      " 'AG-4F52' 'AG-4F41' 'AG-4F48' 'AG-4F35' 'AG-4F50' 'AG-3F15' 'AG-4F51'\n",
      " 'AG-4F47' 'AG-4F46' 'AG-4F49' 'AG-4F43' 'AG-4F42' 'AG-4F45' 'AG-4F36'\n",
      " 'AG-4F38' 'AG-4F40' 'AG-4F39' 'CA-512' 'CA-327' 'CA-326' 'CA-303'\n",
      " 'CA-325' 'CA-311' 'CA-309' 'CA-491' 'CA-493' 'CA-499' 'CA-323' 'CA-313'\n",
      " 'CA-324' 'CA-513' 'CA-305' 'CA-317' 'CA-510' 'CA-315' 'CA-321' 'CA-490'\n",
      " 'CA-497' 'CA-489' 'CA-319' 'CA-492' 'CA-494' 'CA-502' 'CA-500' 'CA-495'\n",
      " 'CA-498' 'CA-304' 'CA-307' 'CA-306' 'CA-501' 'CA-318' 'CA-308' 'CA-316'\n",
      " 'CA-312' 'CA-320' 'CA-212' 'CA-508' 'CA-322' 'CA-314' 'CA-503' 'CA-504'\n",
      " 'CA-496' 'CA-310' 'CA-506' 'CA-149' 'CA-509' 'CA-507' 'CA-511' 'CA-213'\n",
      " 'CA-505' 'CA-148' '11900388']\n",
      "Column 'stationID': unique values=['1-1-179-810' '1-1-193-825' '1-1-193-829' '1-1-193-820' '1-1-193-819'\n",
      " '1-1-194-821' '1-1-178-817' '1-1-191-804' '1-1-194-826' '1-1-178-823'\n",
      " '1-1-179-788' '1-1-194-818' '1-1-178-824' '1-1-194-822' '1-1-179-783'\n",
      " '1-1-193-816' '1-1-179-798' '1-1-178-828' '1-1-179-787' '1-1-191-792'\n",
      " '1-1-193-827' '1-1-179-777' '1-1-179-799' '1-1-179-796' '1-1-179-815'\n",
      " '1-1-179-797' '1-1-179-781' '1-1-179-800' '1-1-179-809' '1-1-179-791'\n",
      " '1-1-179-794' '1-1-179-779' '1-1-179-801' '1-1-179-790' '1-1-191-802'\n",
      " '1-1-191-789' '1-1-191-806' '1-1-191-785' '1-1-191-808' '1-1-191-782'\n",
      " '1-1-179-813' '1-1-191-795' '1-1-191-807' '1-1-191-812' '1-1-191-803'\n",
      " '1-1-191-778' '1-1-191-811' '1-1-191-780' '1-1-191-786' '1-1-191-793'\n",
      " '1-1-191-784' '1-1-191-805' '2-39-138-566' '2-39-79-379' '2-39-79-378'\n",
      " '2-39-139-28' '2-39-79-377' '2-39-125-21' '2-39-127-19' '2-39-79-382'\n",
      " '2-39-78-361' '2-39-91-441' '2-39-78-366' '2-39-123-23' '2-39-79-376'\n",
      " '2-39-139-567' '2-39-131-30' '2-39-91-437' '2-39-130-564' '2-39-89-25'\n",
      " '2-39-78-365' '2-39-79-381' '2-39-95-444' '2-39-79-380' '2-39-95-27'\n",
      " '2-39-79-383' '2-39-78-367' '2-39-88-438' '2-39-90-440' '2-39-78-364'\n",
      " '2-39-92-442' '2-39-138-29' '2-39-129-17' '2-39-130-31' '2-39-89-439'\n",
      " '2-39-92-436' '2-39-128-18' '2-39-90-26' '2-39-124-22' '2-39-78-363'\n",
      " '2-39-83-386' '2-39-128-562' '2-39-78-360' '2-39-88-24' '2-39-123-557'\n",
      " '2-39-124-558' '2-39-78-362' '2-39-126-20' '2-39-126-560' '2-39-83-387'\n",
      " '2-39-129-563' '2-39-127-561' '2-39-131-565' '2-39-82-384' '2-39-125-559'\n",
      " '2-39-82-385' '2-39-81-4550']\n",
      "Column 'timezone': unique values=['America/Los_Angeles']\n",
      "Column 'modifiedAt': unique values=<DatetimeArray>\n",
      "['2020-01-02 13:09:39', '2020-01-02 13:37:11', '2020-01-02 13:57:17',\n",
      " '2020-01-02 14:00:03', '2020-01-02 14:00:13', '2020-01-02 14:00:12',\n",
      " '2020-01-02 14:09:33', '2020-01-02 14:17:40', '2020-01-02 14:25:45',\n",
      " '2020-01-02 14:27:48',\n",
      " ...\n",
      " '2019-07-01 19:16:24', '2019-07-01 19:23:09', '2019-07-01 19:43:58',\n",
      " '2019-07-01 20:03:21', '2019-07-01 20:34:29', '2019-07-01 21:49:37',\n",
      " '2019-07-01 21:59:09', '2019-07-01 22:02:37', '2019-07-01 22:23:43',\n",
      " '2019-07-01 22:36:08']\n",
      "Length: 47705, dtype: datetime64[ns]\n",
      "Column 'paymentRequired': unique values=[True -1]\n",
      "Column 'requestedDeparture': unique values=<DatetimeArray>\n",
      "['2020-01-02 20:51:54', '2020-01-02 23:31:50', '2020-01-02 14:56:35',\n",
      " '2020-01-02 15:04:58', '2020-01-02 22:24:01', '2020-01-03 00:24:13',\n",
      " '2020-01-03 00:56:14', '2020-01-02 16:23:32', '2020-01-02 22:36:38',\n",
      " '2020-01-02 18:13:40',\n",
      " ...\n",
      " '2019-07-01 22:19:32', '2019-07-01 22:44:31', '2019-07-02 00:53:46',\n",
      " '2019-07-02 00:47:07', '2019-07-02 02:55:30', '2019-07-01 22:25:12',\n",
      " '2019-07-02 01:52:45', '2019-07-02 03:11:21', '2019-07-02 00:02:44',\n",
      " '2019-07-02 01:47:08']\n",
      "Length: 47774, dtype: datetime64[ns]\n",
      "Column 'connectionTime_time': unique values=[datetime.time(13, 8, 54) datetime.time(13, 36, 50)\n",
      " datetime.time(13, 56, 35) ... datetime.time(14, 44, 46)\n",
      " datetime.time(19, 17, 16) datetime.time(22, 2, 21)]\n",
      "Column 'disconnectTime_time': unique values=[datetime.time(19, 11, 15) datetime.time(22, 38, 21)\n",
      " datetime.time(0, 39, 22) ... datetime.time(19, 7, 46)\n",
      " datetime.time(23, 48, 23) datetime.time(21, 24, 59)]\n",
      "Column 'doneChargingTime_time': unique values=[datetime.time(17, 31, 35) datetime.time(20, 18, 5)\n",
      " datetime.time(16, 35, 6) ... datetime.time(21, 13, 56)\n",
      " datetime.time(2, 43, 53) datetime.time(2, 4, 6)]\n",
      "Column 'modifiedAt_time': unique values=[datetime.time(13, 9, 39) datetime.time(13, 37, 11)\n",
      " datetime.time(13, 57, 17) ... datetime.time(20, 3, 21)\n",
      " datetime.time(21, 49, 37) datetime.time(22, 2, 37)]\n",
      "Column 'requestedDeparture_time': unique values=[datetime.time(20, 51, 54) datetime.time(23, 31, 50)\n",
      " datetime.time(14, 56, 35) ... datetime.time(23, 19, 4)\n",
      " datetime.time(22, 19, 32) datetime.time(1, 52, 45)]\n"
     ]
    }
   ],
   "source": [
    "# Check ranges of numeric columns\n",
    "numeric_columns = charging_set.select_dtypes(include=[np.number])\n",
    "for col in numeric_columns.columns:\n",
    "    print(f\"Column '{col}': min={numeric_columns[col].min()}, max={numeric_columns[col].max()}\")\n",
    "\n",
    "# Check unique values of categorical columns\n",
    "categorical_columns = charging_set.select_dtypes(exclude=[np.number])\n",
    "for col in categorical_columns.columns:\n",
    "    print(f\"Column '{col}': unique values={categorical_columns[col].unique()}\")"
   ],
   "metadata": {
    "collapsed": false,
    "ExecuteTime": {
     "end_time": "2025-01-06T21:21:09.237970Z",
     "start_time": "2025-01-06T21:21:08.898317Z"
    }
   },
   "id": "a37657251736f5",
   "execution_count": 15
  },
  {
   "cell_type": "markdown",
   "source": [
    "The timezone column only has one value: \"\". Hence, we can remove it since it does not bring any new information to the analysis."
   ],
   "metadata": {
    "collapsed": false
   },
   "id": "ef9ee008252ccb19"
  },
  {
   "cell_type": "code",
   "outputs": [
    {
     "data": {
      "text/plain": "                         id            connectionTime  \\\n0  5e23b149f9af8b5fe4b973cf 2020-01-02 13:08:54+00:00   \n1  5e23b149f9af8b5fe4b973d0 2020-01-02 13:36:50+00:00   \n2  5e23b149f9af8b5fe4b973d1 2020-01-02 13:56:35+00:00   \n\n             disconnectTime          doneChargingTime  kWhDelivered  \\\n0 2020-01-02 19:11:15+00:00 2020-01-02 17:31:35+00:00        25.016   \n1 2020-01-02 22:38:21+00:00 2020-01-02 20:18:05+00:00        33.097   \n2 2020-01-03 00:39:22+00:00 2020-01-02 16:35:06+00:00         6.521   \n\n                                sessionID  siteID  spaceID    stationID  \\\n0  1_1_179_810_2020-01-02 13:08:53.870034       1  AG-3F30  1-1-179-810   \n1  1_1_193_825_2020-01-02 13:36:49.599853       1  AG-1F01  1-1-193-825   \n2  1_1_193_829_2020-01-02 13:56:35.214993       1  AG-1F03  1-1-193-829   \n\n   userID  ...  modifiedAt_month  modifiedAt_day  modifiedAt_time  \\\n0   194.0  ...               1.0             2.0         13:09:39   \n1  4275.0  ...               1.0             2.0         13:37:11   \n2   344.0  ...               1.0             2.0         13:57:17   \n\n   modifiedAt_weekday requestedDeparture_year requestedDeparture_month  \\\n0                 3.0                  2020.0                      1.0   \n1                 3.0                  2020.0                      1.0   \n2                 3.0                  2020.0                      1.0   \n\n  requestedDeparture_day  requestedDeparture_time  requestedDeparture_weekday  \\\n0                    2.0                 20:51:54                         3.0   \n1                    2.0                 23:31:50                         3.0   \n2                    2.0                 14:56:35                         3.0   \n\n   chargingDuration  \n0          6.039167  \n1          9.025278  \n2         10.713056  \n\n[3 rows x 44 columns]",
      "text/html": "<div>\n<style scoped>\n    .dataframe tbody tr th:only-of-type {\n        vertical-align: middle;\n    }\n\n    .dataframe tbody tr th {\n        vertical-align: top;\n    }\n\n    .dataframe thead th {\n        text-align: right;\n    }\n</style>\n<table border=\"1\" class=\"dataframe\">\n  <thead>\n    <tr style=\"text-align: right;\">\n      <th></th>\n      <th>id</th>\n      <th>connectionTime</th>\n      <th>disconnectTime</th>\n      <th>doneChargingTime</th>\n      <th>kWhDelivered</th>\n      <th>sessionID</th>\n      <th>siteID</th>\n      <th>spaceID</th>\n      <th>stationID</th>\n      <th>userID</th>\n      <th>...</th>\n      <th>modifiedAt_month</th>\n      <th>modifiedAt_day</th>\n      <th>modifiedAt_time</th>\n      <th>modifiedAt_weekday</th>\n      <th>requestedDeparture_year</th>\n      <th>requestedDeparture_month</th>\n      <th>requestedDeparture_day</th>\n      <th>requestedDeparture_time</th>\n      <th>requestedDeparture_weekday</th>\n      <th>chargingDuration</th>\n    </tr>\n  </thead>\n  <tbody>\n    <tr>\n      <th>0</th>\n      <td>5e23b149f9af8b5fe4b973cf</td>\n      <td>2020-01-02 13:08:54+00:00</td>\n      <td>2020-01-02 19:11:15+00:00</td>\n      <td>2020-01-02 17:31:35+00:00</td>\n      <td>25.016</td>\n      <td>1_1_179_810_2020-01-02 13:08:53.870034</td>\n      <td>1</td>\n      <td>AG-3F30</td>\n      <td>1-1-179-810</td>\n      <td>194.0</td>\n      <td>...</td>\n      <td>1.0</td>\n      <td>2.0</td>\n      <td>13:09:39</td>\n      <td>3.0</td>\n      <td>2020.0</td>\n      <td>1.0</td>\n      <td>2.0</td>\n      <td>20:51:54</td>\n      <td>3.0</td>\n      <td>6.039167</td>\n    </tr>\n    <tr>\n      <th>1</th>\n      <td>5e23b149f9af8b5fe4b973d0</td>\n      <td>2020-01-02 13:36:50+00:00</td>\n      <td>2020-01-02 22:38:21+00:00</td>\n      <td>2020-01-02 20:18:05+00:00</td>\n      <td>33.097</td>\n      <td>1_1_193_825_2020-01-02 13:36:49.599853</td>\n      <td>1</td>\n      <td>AG-1F01</td>\n      <td>1-1-193-825</td>\n      <td>4275.0</td>\n      <td>...</td>\n      <td>1.0</td>\n      <td>2.0</td>\n      <td>13:37:11</td>\n      <td>3.0</td>\n      <td>2020.0</td>\n      <td>1.0</td>\n      <td>2.0</td>\n      <td>23:31:50</td>\n      <td>3.0</td>\n      <td>9.025278</td>\n    </tr>\n    <tr>\n      <th>2</th>\n      <td>5e23b149f9af8b5fe4b973d1</td>\n      <td>2020-01-02 13:56:35+00:00</td>\n      <td>2020-01-03 00:39:22+00:00</td>\n      <td>2020-01-02 16:35:06+00:00</td>\n      <td>6.521</td>\n      <td>1_1_193_829_2020-01-02 13:56:35.214993</td>\n      <td>1</td>\n      <td>AG-1F03</td>\n      <td>1-1-193-829</td>\n      <td>344.0</td>\n      <td>...</td>\n      <td>1.0</td>\n      <td>2.0</td>\n      <td>13:57:17</td>\n      <td>3.0</td>\n      <td>2020.0</td>\n      <td>1.0</td>\n      <td>2.0</td>\n      <td>14:56:35</td>\n      <td>3.0</td>\n      <td>10.713056</td>\n    </tr>\n  </tbody>\n</table>\n<p>3 rows × 44 columns</p>\n</div>"
     },
     "execution_count": 16,
     "metadata": {},
     "output_type": "execute_result"
    }
   ],
   "source": [
    "charging_set.drop('timezone', axis=1, inplace=True)\n",
    "charging_set.head(3)"
   ],
   "metadata": {
    "collapsed": false,
    "ExecuteTime": {
     "end_time": "2025-01-06T21:21:11.767344Z",
     "start_time": "2025-01-06T21:21:11.596128Z"
    }
   },
   "id": "91c99844557ed410",
   "execution_count": 16
  },
  {
   "cell_type": "code",
   "execution_count": 17,
   "id": "4f2c77bc9787c1ce",
   "metadata": {
    "collapsed": false,
    "ExecuteTime": {
     "end_time": "2025-01-06T21:21:25.099410Z",
     "start_time": "2025-01-06T21:21:19.794881Z"
    }
   },
   "outputs": [],
   "source": [
    "charging_set.to_csv('data/cleaned_charging_set.csv', index=False)"
   ]
  },
  {
   "cell_type": "code",
   "outputs": [],
   "source": [],
   "metadata": {
    "collapsed": false
   },
   "id": "c5d346f762fdba8a"
  }
 ],
 "metadata": {
  "kernelspec": {
   "display_name": "Python 3",
   "language": "python",
   "name": "python3"
  },
  "language_info": {
   "codemirror_mode": {
    "name": "ipython",
    "version": 3
   },
   "file_extension": ".py",
   "mimetype": "text/x-python",
   "name": "python",
   "nbconvert_exporter": "python",
   "pygments_lexer": "ipython3",
   "version": "3.9.5"
  }
 },
 "nbformat": 4,
 "nbformat_minor": 5
}
