{
 "cells": [
  {
   "cell_type": "code",
   "execution_count": 70,
   "id": "initial_id",
   "metadata": {
    "ExecuteTime": {
     "end_time": "2024-12-28T18:22:39.344343Z",
     "start_time": "2024-12-28T18:22:39.318850Z"
    }
   },
   "outputs": [],
   "source": [
    "import numpy as np\n",
    "import pandas as pd\n",
    "import datetime as dt\n",
    "import warnings\n",
    "warnings.filterwarnings('ignore')\n",
    "\n",
    "import ast\n",
    "\n",
    "import matplotlib as mpl\n",
    "import matplotlib.pyplot as plt\n",
    "import seaborn as sns\n",
    "\n",
    "import sklearn\n",
    "import warnings\n",
    "from sklearn.linear_model import LinearRegression\n",
    "from sklearn import linear_model\n",
    "from sklearn.model_selection import train_test_split \n",
    "\n",
    "from sklearn.metrics import mean_squared_error, mean_absolute_error, r2_score"
   ]
  },
  {
   "cell_type": "code",
   "execution_count": 71,
   "id": "51da85eed2db08df",
   "metadata": {
    "collapsed": false,
    "ExecuteTime": {
     "end_time": "2024-12-28T18:22:41.384520Z",
     "start_time": "2024-12-28T18:22:40.411552Z"
    }
   },
   "outputs": [],
   "source": [
    "charging_set = pd.read_csv(\"data/charging_sessions.csv\")"
   ]
  },
  {
   "cell_type": "code",
   "execution_count": 72,
   "id": "863eaec4a97ce060",
   "metadata": {
    "collapsed": false,
    "ExecuteTime": {
     "end_time": "2024-12-28T18:22:42.168139Z",
     "start_time": "2024-12-28T18:22:42.083065Z"
    }
   },
   "outputs": [
    {
     "name": "stdout",
     "output_type": "stream",
     "text": [
      "columns:\n",
      "Index(['Unnamed: 0', 'id', 'connectionTime', 'disconnectTime',\n",
      "       'doneChargingTime', 'kWhDelivered', 'sessionID', 'siteID', 'spaceID',\n",
      "       'stationID', 'timezone', 'userID', 'userInputs'],\n",
      "      dtype='object')\n",
      "-------------------------------------------------------------------------\n",
      "info():\n",
      "<class 'pandas.core.frame.DataFrame'>\n",
      "RangeIndex: 66450 entries, 0 to 66449\n",
      "Data columns (total 13 columns):\n",
      " #   Column            Non-Null Count  Dtype  \n",
      "---  ------            --------------  -----  \n",
      " 0   Unnamed: 0        66450 non-null  int64  \n",
      " 1   id                66450 non-null  object \n",
      " 2   connectionTime    66450 non-null  object \n",
      " 3   disconnectTime    66450 non-null  object \n",
      " 4   doneChargingTime  62362 non-null  object \n",
      " 5   kWhDelivered      66450 non-null  float64\n",
      " 6   sessionID         66450 non-null  object \n",
      " 7   siteID            66450 non-null  int64  \n",
      " 8   spaceID           66450 non-null  object \n",
      " 9   stationID         66450 non-null  object \n",
      " 10  timezone          66450 non-null  object \n",
      " 11  userID            49187 non-null  float64\n",
      " 12  userInputs        49187 non-null  object \n",
      "dtypes: float64(2), int64(2), object(9)\n",
      "memory usage: 6.6+ MB\n",
      "None\n",
      "-------------------------------------------------------------------------\n",
      "describe():\n",
      "         Unnamed: 0  kWhDelivered        siteID        userID\n",
      "count  66450.000000  66450.000000  66450.000000  49187.000000\n",
      "mean    4726.102062     11.787916      1.472656   1800.494582\n",
      "std     3568.025394     10.314789      0.499256   2617.548614\n",
      "min        0.000000      0.501000      1.000000      1.000000\n",
      "25%     1845.000000      5.097000      1.000000    431.000000\n",
      "50%     3960.000000      9.140000      1.000000    818.000000\n",
      "75%     7027.000000     14.183000      2.000000   1805.000000\n",
      "max    15291.000000    108.797242      2.000000  19923.000000\n"
     ]
    }
   ],
   "source": [
    "# get overview of data\n",
    "print(\"columns:\")\n",
    "print(charging_set.columns)\n",
    "print(\"-------------------------------------------------------------------------\")\n",
    "print(\"info():\")\n",
    "print(charging_set.info())\n",
    "print(\"-------------------------------------------------------------------------\")\n",
    "print(\"describe():\")\n",
    "print(charging_set.describe())"
   ]
  },
  {
   "cell_type": "code",
   "execution_count": 73,
   "id": "4bd9b0d96ee0f91d",
   "metadata": {
    "collapsed": false,
    "ExecuteTime": {
     "end_time": "2024-12-28T18:22:43.894190Z",
     "start_time": "2024-12-28T18:22:43.842520Z"
    }
   },
   "outputs": [
    {
     "data": {
      "text/plain": "   Unnamed: 0                        id             connectionTime  \\\n0           0  5e23b149f9af8b5fe4b973cf  2020-01-02 13:08:54+00:00   \n1           1  5e23b149f9af8b5fe4b973d0  2020-01-02 13:36:50+00:00   \n2           2  5e23b149f9af8b5fe4b973d1  2020-01-02 13:56:35+00:00   \n3           3  5e23b149f9af8b5fe4b973d2  2020-01-02 13:59:58+00:00   \n4           4  5e23b149f9af8b5fe4b973d3  2020-01-02 14:00:01+00:00   \n5           5  5e23b149f9af8b5fe4b973d4  2020-01-02 14:00:13+00:00   \n6           6  5e23b149f9af8b5fe4b973d5  2020-01-02 14:09:14+00:00   \n7           7  5e23b149f9af8b5fe4b973d6  2020-01-02 14:17:32+00:00   \n8           8  5e23b149f9af8b5fe4b973d7  2020-01-02 14:25:38+00:00   \n9           9  5e23b149f9af8b5fe4b973d8  2020-01-02 14:27:40+00:00   \n\n              disconnectTime           doneChargingTime  kWhDelivered  \\\n0  2020-01-02 19:11:15+00:00  2020-01-02 17:31:35+00:00        25.016   \n1  2020-01-02 22:38:21+00:00  2020-01-02 20:18:05+00:00        33.097   \n2  2020-01-03 00:39:22+00:00  2020-01-02 16:35:06+00:00         6.521   \n3  2020-01-02 16:38:39+00:00  2020-01-02 15:18:45+00:00         2.355   \n4  2020-01-02 22:08:40+00:00  2020-01-02 18:17:30+00:00        13.375   \n5  2020-01-02 23:00:41+00:00  2020-01-02 20:13:21+00:00        13.370   \n6  2020-01-03 01:57:58+00:00  2020-01-03 00:59:21+00:00        43.477   \n7  2020-01-03 00:44:54+00:00  2020-01-02 20:22:40+00:00        32.441   \n8  2020-01-02 19:36:05+00:00  2020-01-02 18:38:39+00:00        13.264   \n9  2020-01-02 20:01:48+00:00  2020-01-02 19:17:46+00:00        13.285   \n\n                                sessionID  siteID  spaceID    stationID  \\\n0  1_1_179_810_2020-01-02 13:08:53.870034       1  AG-3F30  1-1-179-810   \n1  1_1_193_825_2020-01-02 13:36:49.599853       1  AG-1F01  1-1-193-825   \n2  1_1_193_829_2020-01-02 13:56:35.214993       1  AG-1F03  1-1-193-829   \n3  1_1_193_820_2020-01-02 13:59:58.309319       1  AG-1F04  1-1-193-820   \n4  1_1_193_819_2020-01-02 14:00:00.779967       1  AG-1F06  1-1-193-819   \n5  1_1_194_821_2020-01-02 14:00:05.241573       1  AG-1F13  1-1-194-821   \n6  1_1_178_817_2020-01-02 14:09:14.451827       1  AG-1F09  1-1-178-817   \n7  1_1_191_804_2020-01-02 14:17:32.329535       1  AG-4F34  1-1-191-804   \n8  1_1_194_826_2020-01-02 14:25:37.578692       1  AG-1F11  1-1-194-826   \n9  1_1_178_823_2020-01-02 14:27:39.582337       1  AG-1F08  1-1-178-823   \n\n              timezone  userID  \\\n0  America/Los_Angeles   194.0   \n1  America/Los_Angeles  4275.0   \n2  America/Los_Angeles   344.0   \n3  America/Los_Angeles  1117.0   \n4  America/Los_Angeles   334.0   \n5  America/Los_Angeles  3519.0   \n6  America/Los_Angeles   933.0   \n7  America/Los_Angeles  3737.0   \n8  America/Los_Angeles   419.0   \n9  America/Los_Angeles   651.0   \n\n                                          userInputs  \n0  [{'WhPerMile': 250, 'kWhRequested': 25.0, 'mil...  \n1  [{'WhPerMile': 280, 'kWhRequested': 70.0, 'mil...  \n2  [{'WhPerMile': 400, 'kWhRequested': 8.0, 'mile...  \n3  [{'WhPerMile': 400, 'kWhRequested': 8.0, 'mile...  \n4  [{'WhPerMile': 400, 'kWhRequested': 16.0, 'mil...  \n5  [{'WhPerMile': 600, 'kWhRequested': 24.0, 'mil...  \n6  [{'WhPerMile': 385, 'kWhRequested': 65.45, 'mi...  \n7  [{'WhPerMile': 300, 'kWhRequested': 45.0, 'mil...  \n8  [{'WhPerMile': 400, 'kWhRequested': 40.0, 'mil...  \n9  [{'WhPerMile': 400, 'kWhRequested': 20.0, 'mil...  ",
      "text/html": "<div>\n<style scoped>\n    .dataframe tbody tr th:only-of-type {\n        vertical-align: middle;\n    }\n\n    .dataframe tbody tr th {\n        vertical-align: top;\n    }\n\n    .dataframe thead th {\n        text-align: right;\n    }\n</style>\n<table border=\"1\" class=\"dataframe\">\n  <thead>\n    <tr style=\"text-align: right;\">\n      <th></th>\n      <th>Unnamed: 0</th>\n      <th>id</th>\n      <th>connectionTime</th>\n      <th>disconnectTime</th>\n      <th>doneChargingTime</th>\n      <th>kWhDelivered</th>\n      <th>sessionID</th>\n      <th>siteID</th>\n      <th>spaceID</th>\n      <th>stationID</th>\n      <th>timezone</th>\n      <th>userID</th>\n      <th>userInputs</th>\n    </tr>\n  </thead>\n  <tbody>\n    <tr>\n      <th>0</th>\n      <td>0</td>\n      <td>5e23b149f9af8b5fe4b973cf</td>\n      <td>2020-01-02 13:08:54+00:00</td>\n      <td>2020-01-02 19:11:15+00:00</td>\n      <td>2020-01-02 17:31:35+00:00</td>\n      <td>25.016</td>\n      <td>1_1_179_810_2020-01-02 13:08:53.870034</td>\n      <td>1</td>\n      <td>AG-3F30</td>\n      <td>1-1-179-810</td>\n      <td>America/Los_Angeles</td>\n      <td>194.0</td>\n      <td>[{'WhPerMile': 250, 'kWhRequested': 25.0, 'mil...</td>\n    </tr>\n    <tr>\n      <th>1</th>\n      <td>1</td>\n      <td>5e23b149f9af8b5fe4b973d0</td>\n      <td>2020-01-02 13:36:50+00:00</td>\n      <td>2020-01-02 22:38:21+00:00</td>\n      <td>2020-01-02 20:18:05+00:00</td>\n      <td>33.097</td>\n      <td>1_1_193_825_2020-01-02 13:36:49.599853</td>\n      <td>1</td>\n      <td>AG-1F01</td>\n      <td>1-1-193-825</td>\n      <td>America/Los_Angeles</td>\n      <td>4275.0</td>\n      <td>[{'WhPerMile': 280, 'kWhRequested': 70.0, 'mil...</td>\n    </tr>\n    <tr>\n      <th>2</th>\n      <td>2</td>\n      <td>5e23b149f9af8b5fe4b973d1</td>\n      <td>2020-01-02 13:56:35+00:00</td>\n      <td>2020-01-03 00:39:22+00:00</td>\n      <td>2020-01-02 16:35:06+00:00</td>\n      <td>6.521</td>\n      <td>1_1_193_829_2020-01-02 13:56:35.214993</td>\n      <td>1</td>\n      <td>AG-1F03</td>\n      <td>1-1-193-829</td>\n      <td>America/Los_Angeles</td>\n      <td>344.0</td>\n      <td>[{'WhPerMile': 400, 'kWhRequested': 8.0, 'mile...</td>\n    </tr>\n    <tr>\n      <th>3</th>\n      <td>3</td>\n      <td>5e23b149f9af8b5fe4b973d2</td>\n      <td>2020-01-02 13:59:58+00:00</td>\n      <td>2020-01-02 16:38:39+00:00</td>\n      <td>2020-01-02 15:18:45+00:00</td>\n      <td>2.355</td>\n      <td>1_1_193_820_2020-01-02 13:59:58.309319</td>\n      <td>1</td>\n      <td>AG-1F04</td>\n      <td>1-1-193-820</td>\n      <td>America/Los_Angeles</td>\n      <td>1117.0</td>\n      <td>[{'WhPerMile': 400, 'kWhRequested': 8.0, 'mile...</td>\n    </tr>\n    <tr>\n      <th>4</th>\n      <td>4</td>\n      <td>5e23b149f9af8b5fe4b973d3</td>\n      <td>2020-01-02 14:00:01+00:00</td>\n      <td>2020-01-02 22:08:40+00:00</td>\n      <td>2020-01-02 18:17:30+00:00</td>\n      <td>13.375</td>\n      <td>1_1_193_819_2020-01-02 14:00:00.779967</td>\n      <td>1</td>\n      <td>AG-1F06</td>\n      <td>1-1-193-819</td>\n      <td>America/Los_Angeles</td>\n      <td>334.0</td>\n      <td>[{'WhPerMile': 400, 'kWhRequested': 16.0, 'mil...</td>\n    </tr>\n    <tr>\n      <th>5</th>\n      <td>5</td>\n      <td>5e23b149f9af8b5fe4b973d4</td>\n      <td>2020-01-02 14:00:13+00:00</td>\n      <td>2020-01-02 23:00:41+00:00</td>\n      <td>2020-01-02 20:13:21+00:00</td>\n      <td>13.370</td>\n      <td>1_1_194_821_2020-01-02 14:00:05.241573</td>\n      <td>1</td>\n      <td>AG-1F13</td>\n      <td>1-1-194-821</td>\n      <td>America/Los_Angeles</td>\n      <td>3519.0</td>\n      <td>[{'WhPerMile': 600, 'kWhRequested': 24.0, 'mil...</td>\n    </tr>\n    <tr>\n      <th>6</th>\n      <td>6</td>\n      <td>5e23b149f9af8b5fe4b973d5</td>\n      <td>2020-01-02 14:09:14+00:00</td>\n      <td>2020-01-03 01:57:58+00:00</td>\n      <td>2020-01-03 00:59:21+00:00</td>\n      <td>43.477</td>\n      <td>1_1_178_817_2020-01-02 14:09:14.451827</td>\n      <td>1</td>\n      <td>AG-1F09</td>\n      <td>1-1-178-817</td>\n      <td>America/Los_Angeles</td>\n      <td>933.0</td>\n      <td>[{'WhPerMile': 385, 'kWhRequested': 65.45, 'mi...</td>\n    </tr>\n    <tr>\n      <th>7</th>\n      <td>7</td>\n      <td>5e23b149f9af8b5fe4b973d6</td>\n      <td>2020-01-02 14:17:32+00:00</td>\n      <td>2020-01-03 00:44:54+00:00</td>\n      <td>2020-01-02 20:22:40+00:00</td>\n      <td>32.441</td>\n      <td>1_1_191_804_2020-01-02 14:17:32.329535</td>\n      <td>1</td>\n      <td>AG-4F34</td>\n      <td>1-1-191-804</td>\n      <td>America/Los_Angeles</td>\n      <td>3737.0</td>\n      <td>[{'WhPerMile': 300, 'kWhRequested': 45.0, 'mil...</td>\n    </tr>\n    <tr>\n      <th>8</th>\n      <td>8</td>\n      <td>5e23b149f9af8b5fe4b973d7</td>\n      <td>2020-01-02 14:25:38+00:00</td>\n      <td>2020-01-02 19:36:05+00:00</td>\n      <td>2020-01-02 18:38:39+00:00</td>\n      <td>13.264</td>\n      <td>1_1_194_826_2020-01-02 14:25:37.578692</td>\n      <td>1</td>\n      <td>AG-1F11</td>\n      <td>1-1-194-826</td>\n      <td>America/Los_Angeles</td>\n      <td>419.0</td>\n      <td>[{'WhPerMile': 400, 'kWhRequested': 40.0, 'mil...</td>\n    </tr>\n    <tr>\n      <th>9</th>\n      <td>9</td>\n      <td>5e23b149f9af8b5fe4b973d8</td>\n      <td>2020-01-02 14:27:40+00:00</td>\n      <td>2020-01-02 20:01:48+00:00</td>\n      <td>2020-01-02 19:17:46+00:00</td>\n      <td>13.285</td>\n      <td>1_1_178_823_2020-01-02 14:27:39.582337</td>\n      <td>1</td>\n      <td>AG-1F08</td>\n      <td>1-1-178-823</td>\n      <td>America/Los_Angeles</td>\n      <td>651.0</td>\n      <td>[{'WhPerMile': 400, 'kWhRequested': 20.0, 'mil...</td>\n    </tr>\n  </tbody>\n</table>\n</div>"
     },
     "execution_count": 73,
     "metadata": {},
     "output_type": "execute_result"
    }
   ],
   "source": [
    "charging_set.head(10)"
   ]
  },
  {
   "cell_type": "markdown",
   "id": "7c683e67-9dc3-4a3c-8a8b-8aca1cf5013f",
   "metadata": {},
   "source": [
    "# TODO\n",
    "\n",
    "- check validity and meaning of data (userInput)\n",
    "- remove irrelevant columns\n",
    "- split userInput in own columns\n",
    "- check for duplicates\n",
    "- check for None-values (userID)\n",
    "- split userID into binary dummy (isRegistered)\n",
    "- check for None-values for isRegistered = 1 (remove None-values for registered users)\n",
    "- check data types of columns\n",
    "- look at columns with multiple data types (remove wrong entries)\n",
    "- check ranges of columns & unique values"
   ]
  },
  {
   "cell_type": "markdown",
   "id": "6338b195-ffc8-41d9-b994-520187f70038",
   "metadata": {},
   "source": [
    "# Data Cleanup\n",
    "\n",
    "## Step 1: check validity of columns\n",
    "\n",
    "- remove unnecessary \"unnamed\" column\n",
    "- sessionID does not bring any relevant information for our analysis"
   ]
  },
  {
   "cell_type": "code",
   "execution_count": 74,
   "id": "f5e18851-cf2e-4ae7-aa0f-8b4d11f1ceea",
   "metadata": {
    "ExecuteTime": {
     "end_time": "2024-12-28T18:22:46.593042Z",
     "start_time": "2024-12-28T18:22:46.544494Z"
    }
   },
   "outputs": [
    {
     "data": {
      "text/plain": "                         id             connectionTime  \\\n0  5e23b149f9af8b5fe4b973cf  2020-01-02 13:08:54+00:00   \n1  5e23b149f9af8b5fe4b973d0  2020-01-02 13:36:50+00:00   \n2  5e23b149f9af8b5fe4b973d1  2020-01-02 13:56:35+00:00   \n\n              disconnectTime           doneChargingTime  kWhDelivered  siteID  \\\n0  2020-01-02 19:11:15+00:00  2020-01-02 17:31:35+00:00        25.016       1   \n1  2020-01-02 22:38:21+00:00  2020-01-02 20:18:05+00:00        33.097       1   \n2  2020-01-03 00:39:22+00:00  2020-01-02 16:35:06+00:00         6.521       1   \n\n   spaceID    stationID             timezone  userID  \\\n0  AG-3F30  1-1-179-810  America/Los_Angeles   194.0   \n1  AG-1F01  1-1-193-825  America/Los_Angeles  4275.0   \n2  AG-1F03  1-1-193-829  America/Los_Angeles   344.0   \n\n                                          userInputs  \n0  [{'WhPerMile': 250, 'kWhRequested': 25.0, 'mil...  \n1  [{'WhPerMile': 280, 'kWhRequested': 70.0, 'mil...  \n2  [{'WhPerMile': 400, 'kWhRequested': 8.0, 'mile...  ",
      "text/html": "<div>\n<style scoped>\n    .dataframe tbody tr th:only-of-type {\n        vertical-align: middle;\n    }\n\n    .dataframe tbody tr th {\n        vertical-align: top;\n    }\n\n    .dataframe thead th {\n        text-align: right;\n    }\n</style>\n<table border=\"1\" class=\"dataframe\">\n  <thead>\n    <tr style=\"text-align: right;\">\n      <th></th>\n      <th>id</th>\n      <th>connectionTime</th>\n      <th>disconnectTime</th>\n      <th>doneChargingTime</th>\n      <th>kWhDelivered</th>\n      <th>siteID</th>\n      <th>spaceID</th>\n      <th>stationID</th>\n      <th>timezone</th>\n      <th>userID</th>\n      <th>userInputs</th>\n    </tr>\n  </thead>\n  <tbody>\n    <tr>\n      <th>0</th>\n      <td>5e23b149f9af8b5fe4b973cf</td>\n      <td>2020-01-02 13:08:54+00:00</td>\n      <td>2020-01-02 19:11:15+00:00</td>\n      <td>2020-01-02 17:31:35+00:00</td>\n      <td>25.016</td>\n      <td>1</td>\n      <td>AG-3F30</td>\n      <td>1-1-179-810</td>\n      <td>America/Los_Angeles</td>\n      <td>194.0</td>\n      <td>[{'WhPerMile': 250, 'kWhRequested': 25.0, 'mil...</td>\n    </tr>\n    <tr>\n      <th>1</th>\n      <td>5e23b149f9af8b5fe4b973d0</td>\n      <td>2020-01-02 13:36:50+00:00</td>\n      <td>2020-01-02 22:38:21+00:00</td>\n      <td>2020-01-02 20:18:05+00:00</td>\n      <td>33.097</td>\n      <td>1</td>\n      <td>AG-1F01</td>\n      <td>1-1-193-825</td>\n      <td>America/Los_Angeles</td>\n      <td>4275.0</td>\n      <td>[{'WhPerMile': 280, 'kWhRequested': 70.0, 'mil...</td>\n    </tr>\n    <tr>\n      <th>2</th>\n      <td>5e23b149f9af8b5fe4b973d1</td>\n      <td>2020-01-02 13:56:35+00:00</td>\n      <td>2020-01-03 00:39:22+00:00</td>\n      <td>2020-01-02 16:35:06+00:00</td>\n      <td>6.521</td>\n      <td>1</td>\n      <td>AG-1F03</td>\n      <td>1-1-193-829</td>\n      <td>America/Los_Angeles</td>\n      <td>344.0</td>\n      <td>[{'WhPerMile': 400, 'kWhRequested': 8.0, 'mile...</td>\n    </tr>\n  </tbody>\n</table>\n</div>"
     },
     "execution_count": 74,
     "metadata": {},
     "output_type": "execute_result"
    }
   ],
   "source": [
    "# remove irrelevant columns\n",
    "charging_set.drop('Unnamed: 0', axis=1, inplace=True)\n",
    "charging_set.drop('sessionID', axis=1, inplace=True) # does not bring relevant information for our analysis\n",
    "charging_set.head(3)"
   ]
  },
  {
   "cell_type": "code",
   "execution_count": 75,
   "id": "a9b08dd3585a977c",
   "metadata": {
    "collapsed": false,
    "ExecuteTime": {
     "end_time": "2024-12-28T18:22:56.727854Z",
     "start_time": "2024-12-28T18:22:52.633952Z"
    }
   },
   "outputs": [
    {
     "data": {
      "text/plain": "                             id             connectionTime  \\\n0      5e23b149f9af8b5fe4b973cf  2020-01-02 13:08:54+00:00   \n1      5e23b149f9af8b5fe4b973d0  2020-01-02 13:36:50+00:00   \n2      5e23b149f9af8b5fe4b973d1  2020-01-02 13:56:35+00:00   \n3      5e23b149f9af8b5fe4b973d2  2020-01-02 13:59:58+00:00   \n4      5e23b149f9af8b5fe4b973d3  2020-01-02 14:00:01+00:00   \n...                         ...                        ...   \n66445  5d574ad2f9af8b4c10c03652  2019-07-31 18:08:04+00:00   \n66446  5d574ad2f9af8b4c10c03653  2019-07-31 18:40:41+00:00   \n66447  5d574ad2f9af8b4c10c03654  2019-07-31 19:04:40+00:00   \n66448  5d574ad2f9af8b4c10c03655  2019-07-31 19:19:47+00:00   \n66449  5d574ad2f9af8b4c10c03656  2019-07-31 19:21:47+00:00   \n\n                  disconnectTime           doneChargingTime  kWhDelivered  \\\n0      2020-01-02 19:11:15+00:00  2020-01-02 17:31:35+00:00        25.016   \n1      2020-01-02 22:38:21+00:00  2020-01-02 20:18:05+00:00        33.097   \n2      2020-01-03 00:39:22+00:00  2020-01-02 16:35:06+00:00         6.521   \n3      2020-01-02 16:38:39+00:00  2020-01-02 15:18:45+00:00         2.355   \n4      2020-01-02 22:08:40+00:00  2020-01-02 18:17:30+00:00        13.375   \n...                          ...                        ...           ...   \n66445  2019-07-31 23:29:18+00:00  2019-07-31 23:30:18+00:00        28.787   \n66446  2019-08-01 00:59:42+00:00  2019-07-31 21:44:23+00:00         7.787   \n66447  2019-07-31 22:44:22+00:00  2019-07-31 22:45:21+00:00        11.274   \n66448  2019-08-01 00:34:51+00:00  2019-07-31 21:25:30+00:00        11.589   \n66449  2019-07-31 22:00:04+00:00  2019-07-31 20:51:34+00:00         0.897   \n\n       siteID  spaceID    stationID             timezone  userID  WhPerMile  \\\n0           1  AG-3F30  1-1-179-810  America/Los_Angeles   194.0      250.0   \n1           1  AG-1F01  1-1-193-825  America/Los_Angeles  4275.0      280.0   \n2           1  AG-1F03  1-1-193-829  America/Los_Angeles   344.0      400.0   \n3           1  AG-1F04  1-1-193-820  America/Los_Angeles  1117.0      400.0   \n4           1  AG-1F06  1-1-193-819  America/Los_Angeles   334.0      400.0   \n...       ...      ...          ...                  ...     ...        ...   \n66445       1  AG-3F27  1-1-179-809  America/Los_Angeles   393.0      240.0   \n66446       1  AG-3F30  1-1-179-810  America/Los_Angeles   220.0      333.0   \n66447       1  AG-4F51  1-1-191-795  America/Los_Angeles  1974.0      333.0   \n66448       1  AG-4F43  1-1-191-778  America/Los_Angeles   942.0      275.0   \n66449       1  AG-1F09  1-1-178-817  America/Los_Angeles     NaN        NaN   \n\n       kWhRequested  milesRequested  minutesAvailable  \\\n0             25.00           100.0             463.0   \n1             70.00           250.0             595.0   \n2              8.00            20.0              60.0   \n3              8.00            20.0              65.0   \n4             16.00            40.0             504.0   \n...             ...             ...               ...   \n66445         31.20           130.0             355.0   \n66446          6.66            20.0             455.0   \n66447         19.98            60.0             184.0   \n66448         22.00            80.0              60.0   \n66449           NaN             NaN               NaN   \n\n                          modifiedAt paymentRequired  \\\n0      Thu, 02 Jan 2020 13:09:39 GMT            True   \n1      Thu, 02 Jan 2020 13:37:11 GMT            True   \n2      Thu, 02 Jan 2020 13:57:17 GMT            True   \n3      Thu, 02 Jan 2020 14:00:03 GMT            True   \n4      Thu, 02 Jan 2020 14:00:13 GMT            True   \n...                              ...             ...   \n66445  Wed, 31 Jul 2019 18:08:23 GMT            True   \n66446  Wed, 31 Jul 2019 18:41:02 GMT            True   \n66447  Wed, 31 Jul 2019 19:04:57 GMT            True   \n66448  Wed, 31 Jul 2019 19:20:10 GMT            True   \n66449                           None            None   \n\n                  requestedDeparture  \n0      Thu, 02 Jan 2020 20:51:54 GMT  \n1      Thu, 02 Jan 2020 23:31:50 GMT  \n2      Thu, 02 Jan 2020 14:56:35 GMT  \n3      Thu, 02 Jan 2020 15:04:58 GMT  \n4      Thu, 02 Jan 2020 22:24:01 GMT  \n...                              ...  \n66445  Thu, 01 Aug 2019 00:03:04 GMT  \n66446  Thu, 01 Aug 2019 02:15:41 GMT  \n66447  Wed, 31 Jul 2019 22:08:40 GMT  \n66448  Wed, 31 Jul 2019 20:19:47 GMT  \n66449                           None  \n\n[66450 rows x 17 columns]",
      "text/html": "<div>\n<style scoped>\n    .dataframe tbody tr th:only-of-type {\n        vertical-align: middle;\n    }\n\n    .dataframe tbody tr th {\n        vertical-align: top;\n    }\n\n    .dataframe thead th {\n        text-align: right;\n    }\n</style>\n<table border=\"1\" class=\"dataframe\">\n  <thead>\n    <tr style=\"text-align: right;\">\n      <th></th>\n      <th>id</th>\n      <th>connectionTime</th>\n      <th>disconnectTime</th>\n      <th>doneChargingTime</th>\n      <th>kWhDelivered</th>\n      <th>siteID</th>\n      <th>spaceID</th>\n      <th>stationID</th>\n      <th>timezone</th>\n      <th>userID</th>\n      <th>WhPerMile</th>\n      <th>kWhRequested</th>\n      <th>milesRequested</th>\n      <th>minutesAvailable</th>\n      <th>modifiedAt</th>\n      <th>paymentRequired</th>\n      <th>requestedDeparture</th>\n    </tr>\n  </thead>\n  <tbody>\n    <tr>\n      <th>0</th>\n      <td>5e23b149f9af8b5fe4b973cf</td>\n      <td>2020-01-02 13:08:54+00:00</td>\n      <td>2020-01-02 19:11:15+00:00</td>\n      <td>2020-01-02 17:31:35+00:00</td>\n      <td>25.016</td>\n      <td>1</td>\n      <td>AG-3F30</td>\n      <td>1-1-179-810</td>\n      <td>America/Los_Angeles</td>\n      <td>194.0</td>\n      <td>250.0</td>\n      <td>25.00</td>\n      <td>100.0</td>\n      <td>463.0</td>\n      <td>Thu, 02 Jan 2020 13:09:39 GMT</td>\n      <td>True</td>\n      <td>Thu, 02 Jan 2020 20:51:54 GMT</td>\n    </tr>\n    <tr>\n      <th>1</th>\n      <td>5e23b149f9af8b5fe4b973d0</td>\n      <td>2020-01-02 13:36:50+00:00</td>\n      <td>2020-01-02 22:38:21+00:00</td>\n      <td>2020-01-02 20:18:05+00:00</td>\n      <td>33.097</td>\n      <td>1</td>\n      <td>AG-1F01</td>\n      <td>1-1-193-825</td>\n      <td>America/Los_Angeles</td>\n      <td>4275.0</td>\n      <td>280.0</td>\n      <td>70.00</td>\n      <td>250.0</td>\n      <td>595.0</td>\n      <td>Thu, 02 Jan 2020 13:37:11 GMT</td>\n      <td>True</td>\n      <td>Thu, 02 Jan 2020 23:31:50 GMT</td>\n    </tr>\n    <tr>\n      <th>2</th>\n      <td>5e23b149f9af8b5fe4b973d1</td>\n      <td>2020-01-02 13:56:35+00:00</td>\n      <td>2020-01-03 00:39:22+00:00</td>\n      <td>2020-01-02 16:35:06+00:00</td>\n      <td>6.521</td>\n      <td>1</td>\n      <td>AG-1F03</td>\n      <td>1-1-193-829</td>\n      <td>America/Los_Angeles</td>\n      <td>344.0</td>\n      <td>400.0</td>\n      <td>8.00</td>\n      <td>20.0</td>\n      <td>60.0</td>\n      <td>Thu, 02 Jan 2020 13:57:17 GMT</td>\n      <td>True</td>\n      <td>Thu, 02 Jan 2020 14:56:35 GMT</td>\n    </tr>\n    <tr>\n      <th>3</th>\n      <td>5e23b149f9af8b5fe4b973d2</td>\n      <td>2020-01-02 13:59:58+00:00</td>\n      <td>2020-01-02 16:38:39+00:00</td>\n      <td>2020-01-02 15:18:45+00:00</td>\n      <td>2.355</td>\n      <td>1</td>\n      <td>AG-1F04</td>\n      <td>1-1-193-820</td>\n      <td>America/Los_Angeles</td>\n      <td>1117.0</td>\n      <td>400.0</td>\n      <td>8.00</td>\n      <td>20.0</td>\n      <td>65.0</td>\n      <td>Thu, 02 Jan 2020 14:00:03 GMT</td>\n      <td>True</td>\n      <td>Thu, 02 Jan 2020 15:04:58 GMT</td>\n    </tr>\n    <tr>\n      <th>4</th>\n      <td>5e23b149f9af8b5fe4b973d3</td>\n      <td>2020-01-02 14:00:01+00:00</td>\n      <td>2020-01-02 22:08:40+00:00</td>\n      <td>2020-01-02 18:17:30+00:00</td>\n      <td>13.375</td>\n      <td>1</td>\n      <td>AG-1F06</td>\n      <td>1-1-193-819</td>\n      <td>America/Los_Angeles</td>\n      <td>334.0</td>\n      <td>400.0</td>\n      <td>16.00</td>\n      <td>40.0</td>\n      <td>504.0</td>\n      <td>Thu, 02 Jan 2020 14:00:13 GMT</td>\n      <td>True</td>\n      <td>Thu, 02 Jan 2020 22:24:01 GMT</td>\n    </tr>\n    <tr>\n      <th>...</th>\n      <td>...</td>\n      <td>...</td>\n      <td>...</td>\n      <td>...</td>\n      <td>...</td>\n      <td>...</td>\n      <td>...</td>\n      <td>...</td>\n      <td>...</td>\n      <td>...</td>\n      <td>...</td>\n      <td>...</td>\n      <td>...</td>\n      <td>...</td>\n      <td>...</td>\n      <td>...</td>\n      <td>...</td>\n    </tr>\n    <tr>\n      <th>66445</th>\n      <td>5d574ad2f9af8b4c10c03652</td>\n      <td>2019-07-31 18:08:04+00:00</td>\n      <td>2019-07-31 23:29:18+00:00</td>\n      <td>2019-07-31 23:30:18+00:00</td>\n      <td>28.787</td>\n      <td>1</td>\n      <td>AG-3F27</td>\n      <td>1-1-179-809</td>\n      <td>America/Los_Angeles</td>\n      <td>393.0</td>\n      <td>240.0</td>\n      <td>31.20</td>\n      <td>130.0</td>\n      <td>355.0</td>\n      <td>Wed, 31 Jul 2019 18:08:23 GMT</td>\n      <td>True</td>\n      <td>Thu, 01 Aug 2019 00:03:04 GMT</td>\n    </tr>\n    <tr>\n      <th>66446</th>\n      <td>5d574ad2f9af8b4c10c03653</td>\n      <td>2019-07-31 18:40:41+00:00</td>\n      <td>2019-08-01 00:59:42+00:00</td>\n      <td>2019-07-31 21:44:23+00:00</td>\n      <td>7.787</td>\n      <td>1</td>\n      <td>AG-3F30</td>\n      <td>1-1-179-810</td>\n      <td>America/Los_Angeles</td>\n      <td>220.0</td>\n      <td>333.0</td>\n      <td>6.66</td>\n      <td>20.0</td>\n      <td>455.0</td>\n      <td>Wed, 31 Jul 2019 18:41:02 GMT</td>\n      <td>True</td>\n      <td>Thu, 01 Aug 2019 02:15:41 GMT</td>\n    </tr>\n    <tr>\n      <th>66447</th>\n      <td>5d574ad2f9af8b4c10c03654</td>\n      <td>2019-07-31 19:04:40+00:00</td>\n      <td>2019-07-31 22:44:22+00:00</td>\n      <td>2019-07-31 22:45:21+00:00</td>\n      <td>11.274</td>\n      <td>1</td>\n      <td>AG-4F51</td>\n      <td>1-1-191-795</td>\n      <td>America/Los_Angeles</td>\n      <td>1974.0</td>\n      <td>333.0</td>\n      <td>19.98</td>\n      <td>60.0</td>\n      <td>184.0</td>\n      <td>Wed, 31 Jul 2019 19:04:57 GMT</td>\n      <td>True</td>\n      <td>Wed, 31 Jul 2019 22:08:40 GMT</td>\n    </tr>\n    <tr>\n      <th>66448</th>\n      <td>5d574ad2f9af8b4c10c03655</td>\n      <td>2019-07-31 19:19:47+00:00</td>\n      <td>2019-08-01 00:34:51+00:00</td>\n      <td>2019-07-31 21:25:30+00:00</td>\n      <td>11.589</td>\n      <td>1</td>\n      <td>AG-4F43</td>\n      <td>1-1-191-778</td>\n      <td>America/Los_Angeles</td>\n      <td>942.0</td>\n      <td>275.0</td>\n      <td>22.00</td>\n      <td>80.0</td>\n      <td>60.0</td>\n      <td>Wed, 31 Jul 2019 19:20:10 GMT</td>\n      <td>True</td>\n      <td>Wed, 31 Jul 2019 20:19:47 GMT</td>\n    </tr>\n    <tr>\n      <th>66449</th>\n      <td>5d574ad2f9af8b4c10c03656</td>\n      <td>2019-07-31 19:21:47+00:00</td>\n      <td>2019-07-31 22:00:04+00:00</td>\n      <td>2019-07-31 20:51:34+00:00</td>\n      <td>0.897</td>\n      <td>1</td>\n      <td>AG-1F09</td>\n      <td>1-1-178-817</td>\n      <td>America/Los_Angeles</td>\n      <td>NaN</td>\n      <td>NaN</td>\n      <td>NaN</td>\n      <td>NaN</td>\n      <td>NaN</td>\n      <td>None</td>\n      <td>None</td>\n      <td>None</td>\n    </tr>\n  </tbody>\n</table>\n<p>66450 rows × 17 columns</p>\n</div>"
     },
     "execution_count": 75,
     "metadata": {},
     "output_type": "execute_result"
    }
   ],
   "source": [
    "# split userInputs into own columns\n",
    "def parse_user_inputs(row):\n",
    "    try:\n",
    "        # Parse the row as a Python object (e.g., list of dicts)\n",
    "        parsed = ast.literal_eval(row) if pd.notnull(row) else []\n",
    "        return parsed[0] if isinstance(parsed, list) and len(parsed) > 0 else {}\n",
    "    except (ValueError, SyntaxError):\n",
    "        return {}\n",
    "\n",
    "# Parse 'userInputs' column in charging_set\n",
    "charging_set['userInputs'] = charging_set['userInputs'].apply(parse_user_inputs)\n",
    "\n",
    "# Specify the desired features to extract\n",
    "desired_features = [\n",
    "    'WhPerMile', 'kWhRequested', 'milesRequested',\n",
    "    'minutesAvailable', 'modifiedAt', 'paymentRequired',\n",
    "    'requestedDeparture'\n",
    "]\n",
    "\n",
    "# Extract desired features and create new columns\n",
    "for feature in desired_features:\n",
    "    charging_set[feature] = charging_set['userInputs'].apply(\n",
    "        lambda x: x.get(feature) if isinstance(x, dict) else None\n",
    "    )\n",
    "# TODO: has to be commented so a cell further down in this notebook can run (it needs userInputs)\n",
    "charging_set = charging_set.drop(columns=['userInputs'])\n",
    "charging_set"
   ]
  },
  {
   "cell_type": "code",
   "execution_count": 76,
   "id": "74d6638dd49554a4",
   "metadata": {
    "collapsed": false,
    "ExecuteTime": {
     "end_time": "2024-12-28T18:22:58.368166Z",
     "start_time": "2024-12-28T18:22:57.786769Z"
    }
   },
   "outputs": [
    {
     "name": "stdout",
     "output_type": "stream",
     "text": [
      "sum of duplicates: 1413\n"
     ]
    },
    {
     "data": {
      "text/plain": "                             id             connectionTime  \\\n0      5e23b149f9af8b5fe4b973cf  2020-01-02 13:08:54+00:00   \n1      5e23b149f9af8b5fe4b973d0  2020-01-02 13:36:50+00:00   \n2      5e23b149f9af8b5fe4b973d1  2020-01-02 13:56:35+00:00   \n3      5e23b149f9af8b5fe4b973d2  2020-01-02 13:59:58+00:00   \n4      5e23b149f9af8b5fe4b973d3  2020-01-02 14:00:01+00:00   \n...                         ...                        ...   \n65032  5d2fbdd3f9af8b4d0dd0d54a  2019-07-01 21:49:12+00:00   \n65033  5d2fbdd3f9af8b4d0dd0d54b  2019-07-01 21:58:45+00:00   \n65034  5d2fbdd3f9af8b4d0dd0d54c  2019-07-01 22:02:21+00:00   \n65035  5d2fbdd3f9af8b4d0dd0d54d  2019-07-01 22:23:44+00:00   \n65036  5d2fbdd3f9af8b4d0dd0d54e  2019-07-01 22:36:08+00:00   \n\n                  disconnectTime           doneChargingTime  kWhDelivered  \\\n0      2020-01-02 19:11:15+00:00  2020-01-02 17:31:35+00:00        25.016   \n1      2020-01-02 22:38:21+00:00  2020-01-02 20:18:05+00:00        33.097   \n2      2020-01-03 00:39:22+00:00  2020-01-02 16:35:06+00:00         6.521   \n3      2020-01-02 16:38:39+00:00  2020-01-02 15:18:45+00:00         2.355   \n4      2020-01-02 22:08:40+00:00  2020-01-02 18:17:30+00:00        13.375   \n...                          ...                        ...           ...   \n65032  2019-07-02 01:37:18+00:00  2019-07-01 23:14:33+00:00         8.399   \n65033  2019-07-02 00:39:48+00:00  2019-07-02 00:40:21+00:00        16.864   \n65034  2019-07-02 00:58:50+00:00  2019-07-02 00:59:23+00:00        18.335   \n65035  2019-07-02 02:03:36+00:00  2019-07-02 02:04:06+00:00        22.815   \n65036  2019-07-02 01:10:52+00:00  2019-07-02 00:24:32+00:00        10.241   \n\n       siteID  spaceID    stationID             timezone  userID  WhPerMile  \\\n0           1  AG-3F30  1-1-179-810  America/Los_Angeles   194.0      250.0   \n1           1  AG-1F01  1-1-193-825  America/Los_Angeles  4275.0      280.0   \n2           1  AG-1F03  1-1-193-829  America/Los_Angeles   344.0      400.0   \n3           1  AG-1F04  1-1-193-820  America/Los_Angeles  1117.0      400.0   \n4           1  AG-1F06  1-1-193-819  America/Los_Angeles   334.0      400.0   \n...       ...      ...          ...                  ...     ...        ...   \n65032       1  AG-3F18  1-1-179-798  America/Los_Angeles  1346.0      400.0   \n65033       1  AG-3F20  1-1-179-794  America/Los_Angeles   364.0      400.0   \n65034       1  AG-4F47  1-1-191-807  America/Los_Angeles  2050.0      333.0   \n65035       1  AG-3F31  1-1-179-781  America/Los_Angeles  1626.0      200.0   \n65036       1  AG-1F06  1-1-193-819  America/Los_Angeles  2299.0      333.0   \n\n       kWhRequested  milesRequested  minutesAvailable  \\\n0             25.00           100.0             463.0   \n1             70.00           250.0             595.0   \n2              8.00            20.0              60.0   \n3              8.00            20.0              65.0   \n4             16.00            40.0             504.0   \n...             ...             ...               ...   \n65032         32.00            80.0              36.0   \n65033         40.00           100.0             234.0   \n65034         29.97            90.0             309.0   \n65035         34.00           170.0              99.0   \n65036         16.65            50.0             191.0   \n\n                          modifiedAt paymentRequired  \\\n0      Thu, 02 Jan 2020 13:09:39 GMT            True   \n1      Thu, 02 Jan 2020 13:37:11 GMT            True   \n2      Thu, 02 Jan 2020 13:57:17 GMT            True   \n3      Thu, 02 Jan 2020 14:00:03 GMT            True   \n4      Thu, 02 Jan 2020 14:00:13 GMT            True   \n...                              ...             ...   \n65032  Mon, 01 Jul 2019 21:49:37 GMT            True   \n65033  Mon, 01 Jul 2019 21:59:09 GMT            True   \n65034  Mon, 01 Jul 2019 22:02:37 GMT            True   \n65035  Mon, 01 Jul 2019 22:23:43 GMT            True   \n65036  Mon, 01 Jul 2019 22:36:08 GMT            True   \n\n                  requestedDeparture  \n0      Thu, 02 Jan 2020 20:51:54 GMT  \n1      Thu, 02 Jan 2020 23:31:50 GMT  \n2      Thu, 02 Jan 2020 14:56:35 GMT  \n3      Thu, 02 Jan 2020 15:04:58 GMT  \n4      Thu, 02 Jan 2020 22:24:01 GMT  \n...                              ...  \n65032  Mon, 01 Jul 2019 22:25:12 GMT  \n65033  Tue, 02 Jul 2019 01:52:45 GMT  \n65034  Tue, 02 Jul 2019 03:11:21 GMT  \n65035  Tue, 02 Jul 2019 00:02:44 GMT  \n65036  Tue, 02 Jul 2019 01:47:08 GMT  \n\n[65037 rows x 17 columns]",
      "text/html": "<div>\n<style scoped>\n    .dataframe tbody tr th:only-of-type {\n        vertical-align: middle;\n    }\n\n    .dataframe tbody tr th {\n        vertical-align: top;\n    }\n\n    .dataframe thead th {\n        text-align: right;\n    }\n</style>\n<table border=\"1\" class=\"dataframe\">\n  <thead>\n    <tr style=\"text-align: right;\">\n      <th></th>\n      <th>id</th>\n      <th>connectionTime</th>\n      <th>disconnectTime</th>\n      <th>doneChargingTime</th>\n      <th>kWhDelivered</th>\n      <th>siteID</th>\n      <th>spaceID</th>\n      <th>stationID</th>\n      <th>timezone</th>\n      <th>userID</th>\n      <th>WhPerMile</th>\n      <th>kWhRequested</th>\n      <th>milesRequested</th>\n      <th>minutesAvailable</th>\n      <th>modifiedAt</th>\n      <th>paymentRequired</th>\n      <th>requestedDeparture</th>\n    </tr>\n  </thead>\n  <tbody>\n    <tr>\n      <th>0</th>\n      <td>5e23b149f9af8b5fe4b973cf</td>\n      <td>2020-01-02 13:08:54+00:00</td>\n      <td>2020-01-02 19:11:15+00:00</td>\n      <td>2020-01-02 17:31:35+00:00</td>\n      <td>25.016</td>\n      <td>1</td>\n      <td>AG-3F30</td>\n      <td>1-1-179-810</td>\n      <td>America/Los_Angeles</td>\n      <td>194.0</td>\n      <td>250.0</td>\n      <td>25.00</td>\n      <td>100.0</td>\n      <td>463.0</td>\n      <td>Thu, 02 Jan 2020 13:09:39 GMT</td>\n      <td>True</td>\n      <td>Thu, 02 Jan 2020 20:51:54 GMT</td>\n    </tr>\n    <tr>\n      <th>1</th>\n      <td>5e23b149f9af8b5fe4b973d0</td>\n      <td>2020-01-02 13:36:50+00:00</td>\n      <td>2020-01-02 22:38:21+00:00</td>\n      <td>2020-01-02 20:18:05+00:00</td>\n      <td>33.097</td>\n      <td>1</td>\n      <td>AG-1F01</td>\n      <td>1-1-193-825</td>\n      <td>America/Los_Angeles</td>\n      <td>4275.0</td>\n      <td>280.0</td>\n      <td>70.00</td>\n      <td>250.0</td>\n      <td>595.0</td>\n      <td>Thu, 02 Jan 2020 13:37:11 GMT</td>\n      <td>True</td>\n      <td>Thu, 02 Jan 2020 23:31:50 GMT</td>\n    </tr>\n    <tr>\n      <th>2</th>\n      <td>5e23b149f9af8b5fe4b973d1</td>\n      <td>2020-01-02 13:56:35+00:00</td>\n      <td>2020-01-03 00:39:22+00:00</td>\n      <td>2020-01-02 16:35:06+00:00</td>\n      <td>6.521</td>\n      <td>1</td>\n      <td>AG-1F03</td>\n      <td>1-1-193-829</td>\n      <td>America/Los_Angeles</td>\n      <td>344.0</td>\n      <td>400.0</td>\n      <td>8.00</td>\n      <td>20.0</td>\n      <td>60.0</td>\n      <td>Thu, 02 Jan 2020 13:57:17 GMT</td>\n      <td>True</td>\n      <td>Thu, 02 Jan 2020 14:56:35 GMT</td>\n    </tr>\n    <tr>\n      <th>3</th>\n      <td>5e23b149f9af8b5fe4b973d2</td>\n      <td>2020-01-02 13:59:58+00:00</td>\n      <td>2020-01-02 16:38:39+00:00</td>\n      <td>2020-01-02 15:18:45+00:00</td>\n      <td>2.355</td>\n      <td>1</td>\n      <td>AG-1F04</td>\n      <td>1-1-193-820</td>\n      <td>America/Los_Angeles</td>\n      <td>1117.0</td>\n      <td>400.0</td>\n      <td>8.00</td>\n      <td>20.0</td>\n      <td>65.0</td>\n      <td>Thu, 02 Jan 2020 14:00:03 GMT</td>\n      <td>True</td>\n      <td>Thu, 02 Jan 2020 15:04:58 GMT</td>\n    </tr>\n    <tr>\n      <th>4</th>\n      <td>5e23b149f9af8b5fe4b973d3</td>\n      <td>2020-01-02 14:00:01+00:00</td>\n      <td>2020-01-02 22:08:40+00:00</td>\n      <td>2020-01-02 18:17:30+00:00</td>\n      <td>13.375</td>\n      <td>1</td>\n      <td>AG-1F06</td>\n      <td>1-1-193-819</td>\n      <td>America/Los_Angeles</td>\n      <td>334.0</td>\n      <td>400.0</td>\n      <td>16.00</td>\n      <td>40.0</td>\n      <td>504.0</td>\n      <td>Thu, 02 Jan 2020 14:00:13 GMT</td>\n      <td>True</td>\n      <td>Thu, 02 Jan 2020 22:24:01 GMT</td>\n    </tr>\n    <tr>\n      <th>...</th>\n      <td>...</td>\n      <td>...</td>\n      <td>...</td>\n      <td>...</td>\n      <td>...</td>\n      <td>...</td>\n      <td>...</td>\n      <td>...</td>\n      <td>...</td>\n      <td>...</td>\n      <td>...</td>\n      <td>...</td>\n      <td>...</td>\n      <td>...</td>\n      <td>...</td>\n      <td>...</td>\n      <td>...</td>\n    </tr>\n    <tr>\n      <th>65032</th>\n      <td>5d2fbdd3f9af8b4d0dd0d54a</td>\n      <td>2019-07-01 21:49:12+00:00</td>\n      <td>2019-07-02 01:37:18+00:00</td>\n      <td>2019-07-01 23:14:33+00:00</td>\n      <td>8.399</td>\n      <td>1</td>\n      <td>AG-3F18</td>\n      <td>1-1-179-798</td>\n      <td>America/Los_Angeles</td>\n      <td>1346.0</td>\n      <td>400.0</td>\n      <td>32.00</td>\n      <td>80.0</td>\n      <td>36.0</td>\n      <td>Mon, 01 Jul 2019 21:49:37 GMT</td>\n      <td>True</td>\n      <td>Mon, 01 Jul 2019 22:25:12 GMT</td>\n    </tr>\n    <tr>\n      <th>65033</th>\n      <td>5d2fbdd3f9af8b4d0dd0d54b</td>\n      <td>2019-07-01 21:58:45+00:00</td>\n      <td>2019-07-02 00:39:48+00:00</td>\n      <td>2019-07-02 00:40:21+00:00</td>\n      <td>16.864</td>\n      <td>1</td>\n      <td>AG-3F20</td>\n      <td>1-1-179-794</td>\n      <td>America/Los_Angeles</td>\n      <td>364.0</td>\n      <td>400.0</td>\n      <td>40.00</td>\n      <td>100.0</td>\n      <td>234.0</td>\n      <td>Mon, 01 Jul 2019 21:59:09 GMT</td>\n      <td>True</td>\n      <td>Tue, 02 Jul 2019 01:52:45 GMT</td>\n    </tr>\n    <tr>\n      <th>65034</th>\n      <td>5d2fbdd3f9af8b4d0dd0d54c</td>\n      <td>2019-07-01 22:02:21+00:00</td>\n      <td>2019-07-02 00:58:50+00:00</td>\n      <td>2019-07-02 00:59:23+00:00</td>\n      <td>18.335</td>\n      <td>1</td>\n      <td>AG-4F47</td>\n      <td>1-1-191-807</td>\n      <td>America/Los_Angeles</td>\n      <td>2050.0</td>\n      <td>333.0</td>\n      <td>29.97</td>\n      <td>90.0</td>\n      <td>309.0</td>\n      <td>Mon, 01 Jul 2019 22:02:37 GMT</td>\n      <td>True</td>\n      <td>Tue, 02 Jul 2019 03:11:21 GMT</td>\n    </tr>\n    <tr>\n      <th>65035</th>\n      <td>5d2fbdd3f9af8b4d0dd0d54d</td>\n      <td>2019-07-01 22:23:44+00:00</td>\n      <td>2019-07-02 02:03:36+00:00</td>\n      <td>2019-07-02 02:04:06+00:00</td>\n      <td>22.815</td>\n      <td>1</td>\n      <td>AG-3F31</td>\n      <td>1-1-179-781</td>\n      <td>America/Los_Angeles</td>\n      <td>1626.0</td>\n      <td>200.0</td>\n      <td>34.00</td>\n      <td>170.0</td>\n      <td>99.0</td>\n      <td>Mon, 01 Jul 2019 22:23:43 GMT</td>\n      <td>True</td>\n      <td>Tue, 02 Jul 2019 00:02:44 GMT</td>\n    </tr>\n    <tr>\n      <th>65036</th>\n      <td>5d2fbdd3f9af8b4d0dd0d54e</td>\n      <td>2019-07-01 22:36:08+00:00</td>\n      <td>2019-07-02 01:10:52+00:00</td>\n      <td>2019-07-02 00:24:32+00:00</td>\n      <td>10.241</td>\n      <td>1</td>\n      <td>AG-1F06</td>\n      <td>1-1-193-819</td>\n      <td>America/Los_Angeles</td>\n      <td>2299.0</td>\n      <td>333.0</td>\n      <td>16.65</td>\n      <td>50.0</td>\n      <td>191.0</td>\n      <td>Mon, 01 Jul 2019 22:36:08 GMT</td>\n      <td>True</td>\n      <td>Tue, 02 Jul 2019 01:47:08 GMT</td>\n    </tr>\n  </tbody>\n</table>\n<p>65037 rows × 17 columns</p>\n</div>"
     },
     "execution_count": 76,
     "metadata": {},
     "output_type": "execute_result"
    }
   ],
   "source": [
    "# check for duplicates\n",
    "duplicate_counter = charging_set.duplicated().sum()\n",
    "duplicates = charging_set[charging_set.duplicated()]\n",
    "print(\"sum of duplicates:\", duplicate_counter)\n",
    "charging_set.drop_duplicates()"
   ]
  },
  {
   "cell_type": "markdown",
   "source": [
    "The next step is to check for NaN-values. We want to differentiate between time-data and non-time-data since we need to treat time-data differently because of the time-format. Before we look at the time-data we handle the NaN-values of the non-time-data."
   ],
   "metadata": {
    "collapsed": false
   },
   "id": "901680e8d6dc8e20"
  },
  {
   "cell_type": "code",
   "execution_count": 77,
   "id": "5aba7030b49abcb",
   "metadata": {
    "collapsed": false,
    "ExecuteTime": {
     "end_time": "2024-12-28T18:23:00.318403Z",
     "start_time": "2024-12-28T18:23:00.267845Z"
    }
   },
   "outputs": [
    {
     "name": "stdout",
     "output_type": "stream",
     "text": [
      "Feature: requestedDeparture, Count of NaN-Values: 17263\n",
      "Feature: milesRequested, Count of NaN-Values: 17263\n",
      "Feature: paymentRequired, Count of NaN-Values: 17263\n",
      "Feature: modifiedAt, Count of NaN-Values: 17263\n",
      "Feature: minutesAvailable, Count of NaN-Values: 17263\n",
      "Feature: WhPerMile, Count of NaN-Values: 17263\n",
      "Feature: kWhRequested, Count of NaN-Values: 17263\n",
      "Feature: userID, Count of NaN-Values: 17263\n",
      "Feature: doneChargingTime, Count of NaN-Values: 4088\n",
      "Feature: id, Count of NaN-Values: 0\n",
      "Feature: timezone, Count of NaN-Values: 0\n",
      "Feature: spaceID, Count of NaN-Values: 0\n",
      "Feature: stationID, Count of NaN-Values: 0\n",
      "Feature: kWhDelivered, Count of NaN-Values: 0\n",
      "Feature: disconnectTime, Count of NaN-Values: 0\n",
      "Feature: connectionTime, Count of NaN-Values: 0\n",
      "Feature: siteID, Count of NaN-Values: 0\n"
     ]
    }
   ],
   "source": [
    "# check for none-values\n",
    "nan_counts = charging_set.isna().sum()\n",
    "nan_counts_sorted = nan_counts.sort_values(ascending=False)\n",
    "\n",
    "for column, count in nan_counts_sorted.items():\n",
    "    print(f\"Feature: {column}, Count of NaN-Values: {count}\")"
   ]
  },
  {
   "cell_type": "markdown",
   "source": [
    "We observe a large number of NaN-values in the columns that were separated from the column \"userInputs\". It is very noticeable that the number of NaN-values of the \"userInputs\"-columns is the same as the number of the NaN-values in the \"userID\"-column. Accordingly, we assume that the NaN-values in the \"userInputs\"-columns originate from users not being registered. In the following, we check if our assumption is correct:"
   ],
   "metadata": {
    "collapsed": false
   },
   "id": "a24f5829e44ab110"
  },
  {
   "cell_type": "code",
   "outputs": [
    {
     "name": "stdout",
     "output_type": "stream",
     "text": [
      "unregistered users are the reason for NaN-values in userInputs-columns: True\n",
      "userID contains a zero value:\n",
      " userID              False\n",
      "milesRequested       True\n",
      "paymentRequired     False\n",
      "minutesAvailable    False\n",
      "WhPerMile           False\n",
      "kWhRequested         True\n",
      "dtype: bool\n"
     ]
    }
   ],
   "source": [
    "# check if users not being registered is the reason for NaN-values in userInputs-columns\n",
    "user_inputs = [\"requestedDeparture\", \"milesRequested\", \"paymentRequired\", \"modifiedAt\", \"minutesAvailable\", \"WhPerMile\", \"kWhRequested\"]\n",
    "def check_user_inputs_nan_condition(user_inputs_columns):\n",
    "    \"\"\"\n",
    "    check_userInputs_nan_condition checks if userID is NaN when unserInputs-columns are NaN\n",
    "    \n",
    "    :param user_inputs_columns: all columns that were stored in the former \"userInputs\"-column\n",
    "    :return: \n",
    "    \"\"\"\n",
    "    # iterate over each row and compare userID-value to userInputs-values\n",
    "    for idx, row in charging_set.iterrows():\n",
    "        user_id_value = row[\"userID\"]\n",
    "\n",
    "        for user_input_column in user_inputs_columns:\n",
    "            user_input_value = row[user_input_column]\n",
    "\n",
    "            # if userID is NaN but userInput_column is not NaN, return false\n",
    "            if pd.isna(user_input_value) and not pd.isna(user_id_value):\n",
    "                return False\n",
    "\n",
    "    # if no violation of condition is found, return true\n",
    "    return True\n",
    "\n",
    "print(\"unregistered users are the reason for NaN-values in userInputs-columns:\", check_user_inputs_nan_condition(user_inputs))\n",
    "\n",
    "# check if we can use 0 as a placeholder for NaN values for \"userID\" and \"userInputs\"-columns\n",
    "columns_contain_nan = [\"userID\", \"milesRequested\", \"paymentRequired\", \"minutesAvailable\", \"WhPerMile\", \"kWhRequested\"] # INFO: we excluded time data here, since we need to treat it differently beacause of the time-format\n",
    "contains_zero_value = (charging_set[columns_contain_nan] == 0).any()\n",
    "print(\"userID contains a zero value:\\n\", contains_zero_value)\n",
    "\n",
    "columns_contain_nan_wo_zero_values = [col for col in columns_contain_nan if not (charging_set[col] == 0).any()]\n",
    "columns_contain_nan_w_zero_values = [col for col in columns_contain_nan if (charging_set[col] == 0).any()]\n",
    "\n",
    "# fill NaN-values with 0 in columns that do not contain zero values, for the rest of the columns, use -1\n",
    "charging_set[columns_contain_nan_wo_zero_values] = charging_set[columns_contain_nan_wo_zero_values].fillna(0)\n",
    "charging_set[columns_contain_nan_w_zero_values] = charging_set[columns_contain_nan_w_zero_values].fillna(-1)"
   ],
   "metadata": {
    "collapsed": false,
    "ExecuteTime": {
     "end_time": "2024-12-28T18:23:09.290895Z",
     "start_time": "2024-12-28T18:23:02.570457Z"
    }
   },
   "id": "f3cce4366fefbb32",
   "execution_count": 78
  },
  {
   "cell_type": "markdown",
   "id": "ed938cfe-22fd-4458-ab73-a1cd58c47b87",
   "metadata": {},
   "source": [
    "Now we have a look at the time data. Since all the time-data is still in a human-unreadable-format, first we convert the data into a for us readable format. After that we take care of the NaN-values. "
   ]
  },
  {
   "cell_type": "code",
   "execution_count": 79,
   "id": "aaad9ca0738a724d",
   "metadata": {
    "collapsed": false,
    "ExecuteTime": {
     "end_time": "2024-12-28T18:23:15.984958Z",
     "start_time": "2024-12-28T18:23:15.032987Z"
    }
   },
   "outputs": [],
   "source": [
    "# Convert the columns to datetime format\n",
    "charging_set['connectionTime'] = pd.to_datetime(charging_set['connectionTime'])\n",
    "charging_set['disconnectTime'] = pd.to_datetime(charging_set['disconnectTime'])\n",
    "charging_set['doneChargingTime'] = pd.to_datetime(charging_set['doneChargingTime'])\n",
    "charging_set['modifiedAt'] = pd.to_datetime(charging_set['modifiedAt'])\n",
    "charging_set['requestedDeparture'] = pd.to_datetime(charging_set['requestedDeparture'])\n",
    "\n",
    "### split connectionTime in separate day and time columns\n",
    "charging_set['connectionTime_date'] = charging_set['connectionTime'].dt.date\n",
    "charging_set['connectionTime_time'] = charging_set['connectionTime'].dt.time\n",
    "\n",
    "### split disconnectTime in separate day and time columns\n",
    "charging_set['disconnectTime_date'] = charging_set['disconnectTime'].dt.date\n",
    "charging_set['disconnectTime_time'] = charging_set['disconnectTime'].dt.time\n",
    "\n",
    "### split doneChargingTime in separate day and time columns\n",
    "charging_set['doneChargingTime_date'] = charging_set['doneChargingTime'].dt.date\n",
    "charging_set['doneChargingTime_time'] = charging_set['doneChargingTime'].dt.time\n",
    "\n",
    "\n",
    "### split disconnectTime in separate day and time columns\n",
    "charging_set['modifiedAt_date'] = charging_set['modifiedAt'].dt.date\n",
    "charging_set['modifiedAt_time'] = charging_set['modifiedAt'].dt.time\n",
    "\n",
    "### split disconnectTime in separate day and time columns\n",
    "charging_set['requestedDeparture_date'] = charging_set['requestedDeparture'].dt.date\n",
    "charging_set['requestedDeparture_time'] = charging_set['requestedDeparture'].dt.time"
   ]
  },
  {
   "cell_type": "code",
   "execution_count": 80,
   "id": "85789119",
   "metadata": {
    "ExecuteTime": {
     "end_time": "2024-12-28T18:23:16.824505Z",
     "start_time": "2024-12-28T18:23:16.713542Z"
    }
   },
   "outputs": [],
   "source": [
    "### convert date columns into separate year, month and day columns\n",
    "\n",
    "# Das muss rein, weil sonst kommt ein Fehler\n",
    "charging_set['connectionTime_date'] = pd.to_datetime(charging_set['connectionTime_date'])\n",
    "charging_set['disconnectTime_date'] = pd.to_datetime(charging_set['disconnectTime_date'])\n",
    "charging_set['doneChargingTime_date'] = pd.to_datetime(charging_set['doneChargingTime_date'])\n",
    "charging_set['modifiedAt_date'] = pd.to_datetime(charging_set['modifiedAt_date'])\n",
    "charging_set['requestedDeparture_date'] = pd.to_datetime(charging_set['requestedDeparture_date'])\n",
    "\n",
    "charging_set['connectionTime_year'] = charging_set['connectionTime_date'].dt.year\n",
    "charging_set['connectionTime_month'] = charging_set['connectionTime_date'].dt.month\n",
    "charging_set['connectionTime_day'] = charging_set['connectionTime_date'].dt.day\n",
    "\n",
    "charging_set['disconnectTime_year'] = charging_set['disconnectTime_date'].dt.year\n",
    "charging_set['disconnectTime_month'] = charging_set['disconnectTime_date'].dt.month\n",
    "charging_set['disconnectTime_day'] = charging_set['disconnectTime_date'].dt.day\n",
    "\n",
    "charging_set['doneChargingTime_year'] = charging_set['doneChargingTime_date'].dt.year\n",
    "charging_set['doneChargingTime_month'] = charging_set['doneChargingTime_date'].dt.month\n",
    "charging_set['doneChargingTime_day'] = charging_set['doneChargingTime_date'].dt.day\n",
    "\n",
    "charging_set['modifiedAt_year'] = charging_set['modifiedAt_date'].dt.year\n",
    "charging_set['modifiedAt_month'] = charging_set['modifiedAt_date'].dt.month\n",
    "charging_set['modifiedAt_day'] = charging_set['modifiedAt_date'].dt.day\n",
    "# charging_set['modifiedAt_weekday'] = charging_set['modifiedAt_date'].dt.weekday\n",
    "\n",
    "charging_set['requestedDeparture_year'] = charging_set['requestedDeparture_date'].dt.year\n",
    "charging_set['requestedDeparture_month'] = charging_set['requestedDeparture_date'].dt.month\n",
    "charging_set['requestedDeparture_day'] = charging_set['requestedDeparture_date'].dt.day\n",
    "# charging_set['requestedDeparture_weekday'] = charging_set['requestedDeparture_date'].dt.weekday"
   ]
  },
  {
   "cell_type": "code",
   "execution_count": 81,
   "id": "87a34429",
   "metadata": {
    "ExecuteTime": {
     "end_time": "2024-12-28T18:23:18.683945Z",
     "start_time": "2024-12-28T18:23:18.503651Z"
    }
   },
   "outputs": [],
   "source": [
    "def calculate_hours():\n",
    "    # Berechne die Ladezeit als Differenz zwischen disconnectTime und connectionTime\n",
    "    charging_set[\"chargingDurationTemp\"] = charging_set[\"disconnectTime\"] - charging_set[\"connectionTime\"]\n",
    "    \n",
    "    # Konvertiere die Differenz in Stunden\n",
    "    charging_set['chargingDuration'] = charging_set[\"chargingDurationTemp\"].apply(\n",
    "        lambda x: x.total_seconds() / 3600\n",
    "    )\n",
    "    \n",
    "    # Entferne die temporäre Spalte\n",
    "    charging_set.drop(columns=[\"chargingDurationTemp\"], inplace=True)\n",
    "    \n",
    "    return charging_set\n",
    "\n",
    "# Aufruf der Funktion\n",
    "charging_set = calculate_hours()"
   ]
  },
  {
   "cell_type": "code",
   "execution_count": 82,
   "id": "cc63cb18",
   "metadata": {
    "ExecuteTime": {
     "end_time": "2024-12-28T18:23:19.610884Z",
     "start_time": "2024-12-28T18:23:19.570610Z"
    }
   },
   "outputs": [],
   "source": [
    "# clean \"connectionTime\", \"disconnectTime\", \"doneChargingTime\" from dataframe\n",
    "charging_set = charging_set.drop(columns=[\"connectionTime\", \"disconnectTime\", \"doneChargingTime\"])"
   ]
  },
  {
   "cell_type": "code",
   "outputs": [
    {
     "name": "stdout",
     "output_type": "stream",
     "text": [
      "id types: [<class 'str'>]\n",
      "kWhDelivered types: [<class 'float'>]\n",
      "siteID types: [<class 'int'>]\n",
      "spaceID types: [<class 'str'>]\n",
      "stationID types: [<class 'str'>]\n",
      "timezone types: [<class 'str'>]\n",
      "userID types: [<class 'float'>]\n"
     ]
    }
   ],
   "source": [
    "### check data types of each column\n",
    "# Find the unique types\n",
    "# TODO: add userInputs columns into here\n",
    "id_types = charging_set[\"id\"].apply(type).unique()\n",
    "kWhDelivered_types = charging_set[\"kWhDelivered\"].apply(type).unique()\n",
    "siteID_types = charging_set[\"siteID\"].apply(type).unique()\n",
    "spaceID_types = charging_set[\"spaceID\"].apply(type).unique()\n",
    "stationID_types = charging_set[\"stationID\"].apply(type).unique()\n",
    "timezone_types = charging_set[\"timezone\"].apply(type).unique()\n",
    "userID_types = charging_set[\"userID\"].apply(type).unique()\n",
    "\n",
    "# Print the unique types\n",
    "print(\"id types:\", id_types)\n",
    "print(\"kWhDelivered types:\", kWhDelivered_types)\n",
    "print(\"siteID types:\", siteID_types)\n",
    "print(\"spaceID types:\", spaceID_types)\n",
    "print(\"stationID types:\", stationID_types)\n",
    "print(\"timezone types:\", timezone_types)\n",
    "print(\"userID types:\", userID_types)"
   ],
   "metadata": {
    "collapsed": false,
    "ExecuteTime": {
     "end_time": "2024-12-28T18:23:39.043561Z",
     "start_time": "2024-12-28T18:23:38.953600Z"
    }
   },
   "id": "faa54032a26626a3",
   "execution_count": 84
  },
  {
   "cell_type": "code",
   "outputs": [
    {
     "name": "stdout",
     "output_type": "stream",
     "text": [
      "kWhDelivered data range:\n",
      " [  0.501        0.502        0.503      ...  77.7         89.36273194\n",
      " 108.79724167]\n",
      "siteID data range:\n",
      " [1 2]\n",
      "spaceID data range:\n",
      " ['11900388' 'AG-1F01' 'AG-1F02' 'AG-1F03' 'AG-1F04' 'AG-1F05' 'AG-1F06'\n",
      " 'AG-1F07' 'AG-1F08' 'AG-1F09' 'AG-1F10' 'AG-1F11' 'AG-1F12' 'AG-1F13'\n",
      " 'AG-1F14' 'AG-3F15' 'AG-3F16' 'AG-3F17' 'AG-3F18' 'AG-3F19' 'AG-3F20'\n",
      " 'AG-3F21' 'AG-3F22' 'AG-3F23' 'AG-3F24' 'AG-3F25' 'AG-3F26' 'AG-3F27'\n",
      " 'AG-3F28' 'AG-3F29' 'AG-3F30' 'AG-3F31' 'AG-3F32' 'AG-3F33' 'AG-4F34'\n",
      " 'AG-4F35' 'AG-4F36' 'AG-4F37' 'AG-4F38' 'AG-4F39' 'AG-4F40' 'AG-4F41'\n",
      " 'AG-4F42' 'AG-4F43' 'AG-4F44' 'AG-4F45' 'AG-4F46' 'AG-4F47' 'AG-4F48'\n",
      " 'AG-4F49' 'AG-4F50' 'AG-4F51' 'AG-4F52' 'CA-148' 'CA-149' 'CA-212'\n",
      " 'CA-213' 'CA-303' 'CA-304' 'CA-305' 'CA-306' 'CA-307' 'CA-308' 'CA-309'\n",
      " 'CA-310' 'CA-311' 'CA-312' 'CA-313' 'CA-314' 'CA-315' 'CA-316' 'CA-317'\n",
      " 'CA-318' 'CA-319' 'CA-320' 'CA-321' 'CA-322' 'CA-323' 'CA-324' 'CA-325'\n",
      " 'CA-326' 'CA-327' 'CA-489' 'CA-490' 'CA-491' 'CA-492' 'CA-493' 'CA-494'\n",
      " 'CA-495' 'CA-496' 'CA-497' 'CA-498' 'CA-499' 'CA-500' 'CA-501' 'CA-502'\n",
      " 'CA-503' 'CA-504' 'CA-505' 'CA-506' 'CA-507' 'CA-508' 'CA-509' 'CA-510'\n",
      " 'CA-511' 'CA-512' 'CA-513']\n",
      "stationID data range:\n",
      " ['1-1-178-817' '1-1-178-823' '1-1-178-824' '1-1-178-828' '1-1-179-777'\n",
      " '1-1-179-779' '1-1-179-781' '1-1-179-783' '1-1-179-787' '1-1-179-788'\n",
      " '1-1-179-790' '1-1-179-791' '1-1-179-794' '1-1-179-796' '1-1-179-797'\n",
      " '1-1-179-798' '1-1-179-799' '1-1-179-800' '1-1-179-801' '1-1-179-809'\n",
      " '1-1-179-810' '1-1-179-813' '1-1-179-815' '1-1-191-778' '1-1-191-780'\n",
      " '1-1-191-782' '1-1-191-784' '1-1-191-785' '1-1-191-786' '1-1-191-789'\n",
      " '1-1-191-792' '1-1-191-793' '1-1-191-795' '1-1-191-802' '1-1-191-803'\n",
      " '1-1-191-804' '1-1-191-805' '1-1-191-806' '1-1-191-807' '1-1-191-808'\n",
      " '1-1-191-811' '1-1-191-812' '1-1-193-816' '1-1-193-819' '1-1-193-820'\n",
      " '1-1-193-825' '1-1-193-827' '1-1-193-829' '1-1-194-818' '1-1-194-821'\n",
      " '1-1-194-822' '1-1-194-826' '2-39-123-23' '2-39-123-557' '2-39-124-22'\n",
      " '2-39-124-558' '2-39-125-21' '2-39-125-559' '2-39-126-20' '2-39-126-560'\n",
      " '2-39-127-19' '2-39-127-561' '2-39-128-18' '2-39-128-562' '2-39-129-17'\n",
      " '2-39-129-563' '2-39-130-31' '2-39-130-564' '2-39-131-30' '2-39-131-565'\n",
      " '2-39-138-29' '2-39-138-566' '2-39-139-28' '2-39-139-567' '2-39-78-360'\n",
      " '2-39-78-361' '2-39-78-362' '2-39-78-363' '2-39-78-364' '2-39-78-365'\n",
      " '2-39-78-366' '2-39-78-367' '2-39-79-376' '2-39-79-377' '2-39-79-378'\n",
      " '2-39-79-379' '2-39-79-380' '2-39-79-381' '2-39-79-382' '2-39-79-383'\n",
      " '2-39-81-4550' '2-39-82-384' '2-39-82-385' '2-39-83-386' '2-39-83-387'\n",
      " '2-39-88-24' '2-39-88-438' '2-39-89-25' '2-39-89-439' '2-39-90-26'\n",
      " '2-39-90-440' '2-39-91-437' '2-39-91-441' '2-39-92-436' '2-39-92-442'\n",
      " '2-39-95-27' '2-39-95-444']\n",
      "timezone data range:\n",
      " ['America/Los_Angeles']\n",
      "userID data range:\n",
      " [0.0000e+00 1.0000e+00 1.7000e+01 ... 1.9652e+04 1.9869e+04 1.9923e+04]\n"
     ]
    }
   ],
   "source": [
    "##### check ranges of relevant column values\n",
    "# TODO: fix dataset such that there is only one datatype for one column, then this cell runs smoothly\n",
    "# time data is still in human unreadable format\n",
    "# print(\"connectionTime data range:\\n\", np.sort(charging_set[\"connectionTime\"].unique()))\n",
    "# print(\"disconnectTime data range:\\n\", np.sort(charging_set[\"disconnectTime\"].unique()))\n",
    "# print(\"doneChargingTime data range:\\n\", np.sort(charging_set[\"doneChargingTime\"].unique()))\n",
    "print(\"kWhDelivered data range:\\n\", np.sort(charging_set[\"kWhDelivered\"].unique()))\n",
    "print(\"siteID data range:\\n\", np.sort(charging_set[\"siteID\"].unique()))\n",
    "print(\"spaceID data range:\\n\", np.sort(charging_set[\"spaceID\"].unique()))\n",
    "print(\"stationID data range:\\n\", np.sort(charging_set[\"stationID\"].unique()))\n",
    "print(\"timezone data range:\\n\", np.sort(charging_set[\"timezone\"].unique()))\n",
    "print(\"userID data range:\\n\", np.sort(charging_set[\"userID\"].unique()))\n",
    "# print(\"connectionTime_date data range:\\n\", np.sort(charging_set[\"connectionTime_date\"].unique()))\n",
    "# print(\"connectionTime_time data range:\\n\", np.sort(charging_set[\"connectionTime_time\"].unique()))\n",
    "# print(\"disconnectTime_date data range:\\n\", np.sort(charging_set[\"disconnectTime_date\"].unique()))\n",
    "# print(\"disconnectTime_time data range:\\n\", np.sort(charging_set[\"disconnectTime_time\"].unique()))\n",
    "# print(\"doneChargingTime_date data range:\\n\", np.sort(charging_set[\"doneChargingTime_date\"].unique()))\n",
    "# print(\"doneChargingTime_time data range:\\n\", np.sort(charging_set[\"doneChargingTime_time\"].unique()))"
   ],
   "metadata": {
    "collapsed": false,
    "ExecuteTime": {
     "end_time": "2024-12-28T18:23:59.993242Z",
     "start_time": "2024-12-28T18:23:59.945537Z"
    }
   },
   "id": "92a8a9f6240d06c6",
   "execution_count": 87
  },
  {
   "cell_type": "code",
   "outputs": [
    {
     "data": {
      "text/plain": "                         id  kWhDelivered  siteID  spaceID    stationID  \\\n0  5e23b149f9af8b5fe4b973cf        25.016       1  AG-3F30  1-1-179-810   \n1  5e23b149f9af8b5fe4b973d0        33.097       1  AG-1F01  1-1-193-825   \n2  5e23b149f9af8b5fe4b973d1         6.521       1  AG-1F03  1-1-193-829   \n\n   userID  WhPerMile  kWhRequested  milesRequested  minutesAvailable  ...  \\\n0   194.0      250.0          25.0           100.0             463.0  ...   \n1  4275.0      280.0          70.0           250.0             595.0  ...   \n2   344.0      400.0           8.0            20.0              60.0  ...   \n\n  doneChargingTime_year doneChargingTime_month doneChargingTime_day  \\\n0                2020.0                    1.0                  2.0   \n1                2020.0                    1.0                  2.0   \n2                2020.0                    1.0                  2.0   \n\n  modifiedAt_year modifiedAt_month modifiedAt_day requestedDeparture_year  \\\n0          2020.0              1.0            2.0                  2020.0   \n1          2020.0              1.0            2.0                  2020.0   \n2          2020.0              1.0            2.0                  2020.0   \n\n  requestedDeparture_month requestedDeparture_day chargingDuration  \n0                      1.0                    2.0         6.039167  \n1                      1.0                    2.0         9.025278  \n2                      1.0                    2.0        10.713056  \n\n[3 rows x 39 columns]",
      "text/html": "<div>\n<style scoped>\n    .dataframe tbody tr th:only-of-type {\n        vertical-align: middle;\n    }\n\n    .dataframe tbody tr th {\n        vertical-align: top;\n    }\n\n    .dataframe thead th {\n        text-align: right;\n    }\n</style>\n<table border=\"1\" class=\"dataframe\">\n  <thead>\n    <tr style=\"text-align: right;\">\n      <th></th>\n      <th>id</th>\n      <th>kWhDelivered</th>\n      <th>siteID</th>\n      <th>spaceID</th>\n      <th>stationID</th>\n      <th>userID</th>\n      <th>WhPerMile</th>\n      <th>kWhRequested</th>\n      <th>milesRequested</th>\n      <th>minutesAvailable</th>\n      <th>...</th>\n      <th>doneChargingTime_year</th>\n      <th>doneChargingTime_month</th>\n      <th>doneChargingTime_day</th>\n      <th>modifiedAt_year</th>\n      <th>modifiedAt_month</th>\n      <th>modifiedAt_day</th>\n      <th>requestedDeparture_year</th>\n      <th>requestedDeparture_month</th>\n      <th>requestedDeparture_day</th>\n      <th>chargingDuration</th>\n    </tr>\n  </thead>\n  <tbody>\n    <tr>\n      <th>0</th>\n      <td>5e23b149f9af8b5fe4b973cf</td>\n      <td>25.016</td>\n      <td>1</td>\n      <td>AG-3F30</td>\n      <td>1-1-179-810</td>\n      <td>194.0</td>\n      <td>250.0</td>\n      <td>25.0</td>\n      <td>100.0</td>\n      <td>463.0</td>\n      <td>...</td>\n      <td>2020.0</td>\n      <td>1.0</td>\n      <td>2.0</td>\n      <td>2020.0</td>\n      <td>1.0</td>\n      <td>2.0</td>\n      <td>2020.0</td>\n      <td>1.0</td>\n      <td>2.0</td>\n      <td>6.039167</td>\n    </tr>\n    <tr>\n      <th>1</th>\n      <td>5e23b149f9af8b5fe4b973d0</td>\n      <td>33.097</td>\n      <td>1</td>\n      <td>AG-1F01</td>\n      <td>1-1-193-825</td>\n      <td>4275.0</td>\n      <td>280.0</td>\n      <td>70.0</td>\n      <td>250.0</td>\n      <td>595.0</td>\n      <td>...</td>\n      <td>2020.0</td>\n      <td>1.0</td>\n      <td>2.0</td>\n      <td>2020.0</td>\n      <td>1.0</td>\n      <td>2.0</td>\n      <td>2020.0</td>\n      <td>1.0</td>\n      <td>2.0</td>\n      <td>9.025278</td>\n    </tr>\n    <tr>\n      <th>2</th>\n      <td>5e23b149f9af8b5fe4b973d1</td>\n      <td>6.521</td>\n      <td>1</td>\n      <td>AG-1F03</td>\n      <td>1-1-193-829</td>\n      <td>344.0</td>\n      <td>400.0</td>\n      <td>8.0</td>\n      <td>20.0</td>\n      <td>60.0</td>\n      <td>...</td>\n      <td>2020.0</td>\n      <td>1.0</td>\n      <td>2.0</td>\n      <td>2020.0</td>\n      <td>1.0</td>\n      <td>2.0</td>\n      <td>2020.0</td>\n      <td>1.0</td>\n      <td>2.0</td>\n      <td>10.713056</td>\n    </tr>\n  </tbody>\n</table>\n<p>3 rows × 39 columns</p>\n</div>"
     },
     "execution_count": 88,
     "metadata": {},
     "output_type": "execute_result"
    }
   ],
   "source": [
    "charging_set.drop('timezone', axis=1, inplace=True)\n",
    "charging_set.head(3)"
   ],
   "metadata": {
    "collapsed": false,
    "ExecuteTime": {
     "end_time": "2024-12-28T18:24:02.549254Z",
     "start_time": "2024-12-28T18:24:02.483142Z"
    }
   },
   "id": "ee18ea18bb993952",
   "execution_count": 88
  },
  {
   "cell_type": "code",
   "execution_count": 89,
   "id": "45d5b5e1552d4532",
   "metadata": {
    "collapsed": false,
    "ExecuteTime": {
     "end_time": "2024-12-28T18:24:06.447833Z",
     "start_time": "2024-12-28T18:24:06.420981Z"
    }
   },
   "outputs": [
    {
     "data": {
      "text/plain": "id                          5e23b149f9af8b5fe4b973da\nkWhDelivered                                   0.812\nsiteID                                             1\nspaceID                                      AG-1F14\nstationID                                1-1-194-818\nuserID                                           0.0\nWhPerMile                                        0.0\nkWhRequested                                    -1.0\nmilesRequested                                  -1.0\nminutesAvailable                                 0.0\nmodifiedAt                                       NaT\npaymentRequired                                    0\nrequestedDeparture                               NaT\nconnectionTime_date              2020-01-02 00:00:00\nconnectionTime_time                         15:04:38\ndisconnectTime_date              2020-01-02 00:00:00\ndisconnectTime_time                         23:33:26\ndoneChargingTime_date            2020-01-02 00:00:00\ndoneChargingTime_time                       22:48:48\nmodifiedAt_date                                  NaT\nmodifiedAt_time                                  NaT\nrequestedDeparture_date                          NaT\nrequestedDeparture_time                          NaT\nconnectionTime_year                             2020\nconnectionTime_month                               1\nconnectionTime_day                                 2\ndisconnectTime_year                             2020\ndisconnectTime_month                               1\ndisconnectTime_day                                 2\ndoneChargingTime_year                         2020.0\ndoneChargingTime_month                           1.0\ndoneChargingTime_day                             2.0\nmodifiedAt_year                                  NaN\nmodifiedAt_month                                 NaN\nmodifiedAt_day                                   NaN\nrequestedDeparture_year                          NaN\nrequestedDeparture_month                         NaN\nrequestedDeparture_day                           NaN\nchargingDuration                                8.48\nName: 11, dtype: object"
     },
     "execution_count": 89,
     "metadata": {},
     "output_type": "execute_result"
    }
   ],
   "source": [
    "##### Warum haben wir uns das angeschaut? Können wir das rausnehmen?\n",
    "# show example row of charging_set where user is not registered \n",
    "charging_set.loc[charging_set[charging_set['userID'] == 0].index[0]]"
   ]
  },
  {
   "cell_type": "code",
   "execution_count": 90,
   "id": "d3bf595f45ea7693",
   "metadata": {
    "collapsed": false,
    "ExecuteTime": {
     "end_time": "2024-12-28T18:24:11.641240Z",
     "start_time": "2024-12-28T18:24:11.605994Z"
    }
   },
   "outputs": [
    {
     "data": {
      "text/plain": "id                          5ea6278df9af8b4a2e7bd22c\nkWhDelivered                                   4.725\nsiteID                                             1\nspaceID                                      AG-1F10\nstationID                                1-1-178-828\nuserID                                         651.0\nWhPerMile                                      400.0\nkWhRequested                                    20.0\nmilesRequested                                  50.0\nminutesAvailable                               183.0\nmodifiedAt                       2020-04-10 14:55:16\npaymentRequired                                 True\nrequestedDeparture               2020-04-10 17:58:07\nconnectionTime_date              2020-04-10 00:00:00\nconnectionTime_time                         14:55:07\ndisconnectTime_date              2020-04-10 00:00:00\ndisconnectTime_time                         15:43:03\ndoneChargingTime_date                            NaT\ndoneChargingTime_time                            NaT\nmodifiedAt_date                  2020-04-10 00:00:00\nmodifiedAt_time                             14:55:16\nrequestedDeparture_date          2020-04-10 00:00:00\nrequestedDeparture_time                     17:58:07\nconnectionTime_year                             2020\nconnectionTime_month                               4\nconnectionTime_day                                10\ndisconnectTime_year                             2020\ndisconnectTime_month                               4\ndisconnectTime_day                                10\ndoneChargingTime_year                            NaN\ndoneChargingTime_month                           NaN\ndoneChargingTime_day                             NaN\nmodifiedAt_year                               2020.0\nmodifiedAt_month                                 4.0\nmodifiedAt_day                                  10.0\nrequestedDeparture_year                       2020.0\nrequestedDeparture_month                         4.0\nrequestedDeparture_day                          10.0\nchargingDuration                            0.798889\nName: 3765, dtype: object"
     },
     "execution_count": 90,
     "metadata": {},
     "output_type": "execute_result"
    }
   ],
   "source": [
    "charging_set.loc[3765]"
   ]
  },
  {
   "cell_type": "code",
   "execution_count": 24,
   "id": "4f2c77bc9787c1ce",
   "metadata": {
    "collapsed": false
   },
   "outputs": [],
   "source": [
    "# charging_set.to_csv('data/cleaned_charging_set.csv', index=False)"
   ]
  }
 ],
 "metadata": {
  "kernelspec": {
   "display_name": "Python 3",
   "language": "python",
   "name": "python3"
  },
  "language_info": {
   "codemirror_mode": {
    "name": "ipython",
    "version": 3
   },
   "file_extension": ".py",
   "mimetype": "text/x-python",
   "name": "python",
   "nbconvert_exporter": "python",
   "pygments_lexer": "ipython3",
   "version": "3.9.5"
  }
 },
 "nbformat": 4,
 "nbformat_minor": 5
}
