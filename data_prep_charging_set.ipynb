{
 "cells": [
  {
   "cell_type": "code",
   "execution_count": 18,
   "id": "initial_id",
   "metadata": {
    "ExecuteTime": {
     "end_time": "2025-01-03T14:32:11.755159Z",
     "start_time": "2025-01-03T14:32:11.671522Z"
    }
   },
   "outputs": [],
   "source": [
    "import numpy as np\n",
    "import pandas as pd\n",
    "\n",
    "# for time data\n",
    "import datetime as dt\n",
    "import pytz\n",
    "\n",
    "import warnings\n",
    "warnings.filterwarnings('ignore')\n",
    "\n",
    "import ast"
   ]
  },
  {
   "cell_type": "code",
   "execution_count": 4,
   "id": "51da85eed2db08df",
   "metadata": {
    "collapsed": false,
    "ExecuteTime": {
     "end_time": "2025-01-03T13:00:29.665390Z",
     "start_time": "2025-01-03T13:00:28.695645Z"
    }
   },
   "outputs": [],
   "source": [
    "charging_set = pd.read_csv(\"data/charging_sessions.csv\")"
   ]
  },
  {
   "cell_type": "code",
   "execution_count": 5,
   "id": "863eaec4a97ce060",
   "metadata": {
    "collapsed": false,
    "ExecuteTime": {
     "end_time": "2025-01-03T13:00:30.799633Z",
     "start_time": "2025-01-03T13:00:30.657214Z"
    }
   },
   "outputs": [
    {
     "name": "stdout",
     "output_type": "stream",
     "text": [
      "columns:\n",
      "Index(['Unnamed: 0', 'id', 'connectionTime', 'disconnectTime',\n",
      "       'doneChargingTime', 'kWhDelivered', 'sessionID', 'siteID', 'spaceID',\n",
      "       'stationID', 'timezone', 'userID', 'userInputs'],\n",
      "      dtype='object')\n",
      "-------------------------------------------------------------------------\n",
      "info():\n",
      "<class 'pandas.core.frame.DataFrame'>\n",
      "RangeIndex: 66450 entries, 0 to 66449\n",
      "Data columns (total 13 columns):\n",
      " #   Column            Non-Null Count  Dtype  \n",
      "---  ------            --------------  -----  \n",
      " 0   Unnamed: 0        66450 non-null  int64  \n",
      " 1   id                66450 non-null  object \n",
      " 2   connectionTime    66450 non-null  object \n",
      " 3   disconnectTime    66450 non-null  object \n",
      " 4   doneChargingTime  62362 non-null  object \n",
      " 5   kWhDelivered      66450 non-null  float64\n",
      " 6   sessionID         66450 non-null  object \n",
      " 7   siteID            66450 non-null  int64  \n",
      " 8   spaceID           66450 non-null  object \n",
      " 9   stationID         66450 non-null  object \n",
      " 10  timezone          66450 non-null  object \n",
      " 11  userID            49187 non-null  float64\n",
      " 12  userInputs        49187 non-null  object \n",
      "dtypes: float64(2), int64(2), object(9)\n",
      "memory usage: 6.6+ MB\n",
      "None\n",
      "-------------------------------------------------------------------------\n",
      "describe():\n",
      "         Unnamed: 0  kWhDelivered        siteID        userID\n",
      "count  66450.000000  66450.000000  66450.000000  49187.000000\n",
      "mean    4726.102062     11.787916      1.472656   1800.494582\n",
      "std     3568.025394     10.314789      0.499256   2617.548614\n",
      "min        0.000000      0.501000      1.000000      1.000000\n",
      "25%     1845.000000      5.097000      1.000000    431.000000\n",
      "50%     3960.000000      9.140000      1.000000    818.000000\n",
      "75%     7027.000000     14.183000      2.000000   1805.000000\n",
      "max    15291.000000    108.797242      2.000000  19923.000000\n"
     ]
    }
   ],
   "source": [
    "# get overview of data\n",
    "print(\"columns:\")\n",
    "print(charging_set.columns)\n",
    "print(\"-------------------------------------------------------------------------\")\n",
    "print(\"info():\")\n",
    "print(charging_set.info())\n",
    "print(\"-------------------------------------------------------------------------\")\n",
    "print(\"describe():\")\n",
    "print(charging_set.describe())"
   ]
  },
  {
   "cell_type": "code",
   "execution_count": 15,
   "id": "4bd9b0d96ee0f91d",
   "metadata": {
    "collapsed": false,
    "ExecuteTime": {
     "end_time": "2025-01-03T13:04:31.630110Z",
     "start_time": "2025-01-03T13:04:31.494936Z"
    }
   },
   "outputs": [
    {
     "data": {
      "text/plain": "                          id            connectionTime  \\\n0   5e23b149f9af8b5fe4b973cf 2020-01-02 13:08:54+00:00   \n1   5e23b149f9af8b5fe4b973d0 2020-01-02 13:36:50+00:00   \n2   5e23b149f9af8b5fe4b973d1 2020-01-02 13:56:35+00:00   \n3   5e23b149f9af8b5fe4b973d2 2020-01-02 13:59:58+00:00   \n4   5e23b149f9af8b5fe4b973d3 2020-01-02 14:00:01+00:00   \n5   5e23b149f9af8b5fe4b973d4 2020-01-02 14:00:13+00:00   \n6   5e23b149f9af8b5fe4b973d5 2020-01-02 14:09:14+00:00   \n7   5e23b149f9af8b5fe4b973d6 2020-01-02 14:17:32+00:00   \n8   5e23b149f9af8b5fe4b973d7 2020-01-02 14:25:38+00:00   \n9   5e23b149f9af8b5fe4b973d8 2020-01-02 14:27:40+00:00   \n10  5e23b149f9af8b5fe4b973d9 2020-01-02 14:30:45+00:00   \n11  5e23b149f9af8b5fe4b973da 2020-01-02 15:04:38+00:00   \n\n              disconnectTime          doneChargingTime  kWhDelivered  siteID  \\\n0  2020-01-02 19:11:15+00:00 2020-01-02 17:31:35+00:00        25.016       1   \n1  2020-01-02 22:38:21+00:00 2020-01-02 20:18:05+00:00        33.097       1   \n2  2020-01-03 00:39:22+00:00 2020-01-02 16:35:06+00:00         6.521       1   \n3  2020-01-02 16:38:39+00:00 2020-01-02 15:18:45+00:00         2.355       1   \n4  2020-01-02 22:08:40+00:00 2020-01-02 18:17:30+00:00        13.375       1   \n5  2020-01-02 23:00:41+00:00 2020-01-02 20:13:21+00:00        13.370       1   \n6  2020-01-03 01:57:58+00:00 2020-01-03 00:59:21+00:00        43.477       1   \n7  2020-01-03 00:44:54+00:00 2020-01-02 20:22:40+00:00        32.441       1   \n8  2020-01-02 19:36:05+00:00 2020-01-02 18:38:39+00:00        13.264       1   \n9  2020-01-02 20:01:48+00:00 2020-01-02 19:17:46+00:00        13.285       1   \n10 2020-01-03 00:06:42+00:00 2020-01-02 17:33:07+00:00        11.633       1   \n11 2020-01-02 23:33:26+00:00 2020-01-02 22:48:48+00:00         0.812       1   \n\n    spaceID    stationID             timezone  WhPerMile  kWhRequested  \\\n0   AG-3F30  1-1-179-810  America/Los_Angeles      250.0         25.00   \n1   AG-1F01  1-1-193-825  America/Los_Angeles      280.0         70.00   \n2   AG-1F03  1-1-193-829  America/Los_Angeles      400.0          8.00   \n3   AG-1F04  1-1-193-820  America/Los_Angeles      400.0          8.00   \n4   AG-1F06  1-1-193-819  America/Los_Angeles      400.0         16.00   \n5   AG-1F13  1-1-194-821  America/Los_Angeles      600.0         24.00   \n6   AG-1F09  1-1-178-817  America/Los_Angeles      385.0         65.45   \n7   AG-4F34  1-1-191-804  America/Los_Angeles      300.0         45.00   \n8   AG-1F11  1-1-194-826  America/Los_Angeles      400.0         40.00   \n9   AG-1F08  1-1-178-823  America/Los_Angeles      400.0         20.00   \n10  AG-3F22  1-1-179-788  America/Los_Angeles      400.0         32.00   \n11  AG-1F14  1-1-194-818  America/Los_Angeles        0.0         -1.00   \n\n    milesRequested  minutesAvailable                     modifiedAt  \\\n0            100.0             463.0  Thu, 02 Jan 2020 13:09:39 GMT   \n1            250.0             595.0  Thu, 02 Jan 2020 13:37:11 GMT   \n2             20.0              60.0  Thu, 02 Jan 2020 13:57:17 GMT   \n3             20.0              65.0  Thu, 02 Jan 2020 14:00:03 GMT   \n4             40.0             504.0  Thu, 02 Jan 2020 14:00:13 GMT   \n5             40.0             624.0  Thu, 02 Jan 2020 14:00:12 GMT   \n6            170.0             647.0  Thu, 02 Jan 2020 14:09:33 GMT   \n7            150.0             126.0  Thu, 02 Jan 2020 14:17:40 GMT   \n8            100.0             491.0  Thu, 02 Jan 2020 14:25:45 GMT   \n9             50.0             226.0  Thu, 02 Jan 2020 14:27:48 GMT   \n10            80.0             325.0  Thu, 02 Jan 2020 14:30:49 GMT   \n11            -1.0               0.0                              0   \n\n   paymentRequired             requestedDeparture  isRegistered  \n0             True  Thu, 02 Jan 2020 20:51:54 GMT             1  \n1             True  Thu, 02 Jan 2020 23:31:50 GMT             1  \n2             True  Thu, 02 Jan 2020 14:56:35 GMT             1  \n3             True  Thu, 02 Jan 2020 15:04:58 GMT             1  \n4             True  Thu, 02 Jan 2020 22:24:01 GMT             1  \n5             True  Fri, 03 Jan 2020 00:24:13 GMT             1  \n6             True  Fri, 03 Jan 2020 00:56:14 GMT             1  \n7             True  Thu, 02 Jan 2020 16:23:32 GMT             1  \n8             True  Thu, 02 Jan 2020 22:36:38 GMT             1  \n9             True  Thu, 02 Jan 2020 18:13:40 GMT             1  \n10            True  Thu, 02 Jan 2020 19:55:45 GMT             1  \n11               0                              0             1  ",
      "text/html": "<div>\n<style scoped>\n    .dataframe tbody tr th:only-of-type {\n        vertical-align: middle;\n    }\n\n    .dataframe tbody tr th {\n        vertical-align: top;\n    }\n\n    .dataframe thead th {\n        text-align: right;\n    }\n</style>\n<table border=\"1\" class=\"dataframe\">\n  <thead>\n    <tr style=\"text-align: right;\">\n      <th></th>\n      <th>id</th>\n      <th>connectionTime</th>\n      <th>disconnectTime</th>\n      <th>doneChargingTime</th>\n      <th>kWhDelivered</th>\n      <th>siteID</th>\n      <th>spaceID</th>\n      <th>stationID</th>\n      <th>timezone</th>\n      <th>WhPerMile</th>\n      <th>kWhRequested</th>\n      <th>milesRequested</th>\n      <th>minutesAvailable</th>\n      <th>modifiedAt</th>\n      <th>paymentRequired</th>\n      <th>requestedDeparture</th>\n      <th>isRegistered</th>\n    </tr>\n  </thead>\n  <tbody>\n    <tr>\n      <th>0</th>\n      <td>5e23b149f9af8b5fe4b973cf</td>\n      <td>2020-01-02 13:08:54+00:00</td>\n      <td>2020-01-02 19:11:15+00:00</td>\n      <td>2020-01-02 17:31:35+00:00</td>\n      <td>25.016</td>\n      <td>1</td>\n      <td>AG-3F30</td>\n      <td>1-1-179-810</td>\n      <td>America/Los_Angeles</td>\n      <td>250.0</td>\n      <td>25.00</td>\n      <td>100.0</td>\n      <td>463.0</td>\n      <td>Thu, 02 Jan 2020 13:09:39 GMT</td>\n      <td>True</td>\n      <td>Thu, 02 Jan 2020 20:51:54 GMT</td>\n      <td>1</td>\n    </tr>\n    <tr>\n      <th>1</th>\n      <td>5e23b149f9af8b5fe4b973d0</td>\n      <td>2020-01-02 13:36:50+00:00</td>\n      <td>2020-01-02 22:38:21+00:00</td>\n      <td>2020-01-02 20:18:05+00:00</td>\n      <td>33.097</td>\n      <td>1</td>\n      <td>AG-1F01</td>\n      <td>1-1-193-825</td>\n      <td>America/Los_Angeles</td>\n      <td>280.0</td>\n      <td>70.00</td>\n      <td>250.0</td>\n      <td>595.0</td>\n      <td>Thu, 02 Jan 2020 13:37:11 GMT</td>\n      <td>True</td>\n      <td>Thu, 02 Jan 2020 23:31:50 GMT</td>\n      <td>1</td>\n    </tr>\n    <tr>\n      <th>2</th>\n      <td>5e23b149f9af8b5fe4b973d1</td>\n      <td>2020-01-02 13:56:35+00:00</td>\n      <td>2020-01-03 00:39:22+00:00</td>\n      <td>2020-01-02 16:35:06+00:00</td>\n      <td>6.521</td>\n      <td>1</td>\n      <td>AG-1F03</td>\n      <td>1-1-193-829</td>\n      <td>America/Los_Angeles</td>\n      <td>400.0</td>\n      <td>8.00</td>\n      <td>20.0</td>\n      <td>60.0</td>\n      <td>Thu, 02 Jan 2020 13:57:17 GMT</td>\n      <td>True</td>\n      <td>Thu, 02 Jan 2020 14:56:35 GMT</td>\n      <td>1</td>\n    </tr>\n    <tr>\n      <th>3</th>\n      <td>5e23b149f9af8b5fe4b973d2</td>\n      <td>2020-01-02 13:59:58+00:00</td>\n      <td>2020-01-02 16:38:39+00:00</td>\n      <td>2020-01-02 15:18:45+00:00</td>\n      <td>2.355</td>\n      <td>1</td>\n      <td>AG-1F04</td>\n      <td>1-1-193-820</td>\n      <td>America/Los_Angeles</td>\n      <td>400.0</td>\n      <td>8.00</td>\n      <td>20.0</td>\n      <td>65.0</td>\n      <td>Thu, 02 Jan 2020 14:00:03 GMT</td>\n      <td>True</td>\n      <td>Thu, 02 Jan 2020 15:04:58 GMT</td>\n      <td>1</td>\n    </tr>\n    <tr>\n      <th>4</th>\n      <td>5e23b149f9af8b5fe4b973d3</td>\n      <td>2020-01-02 14:00:01+00:00</td>\n      <td>2020-01-02 22:08:40+00:00</td>\n      <td>2020-01-02 18:17:30+00:00</td>\n      <td>13.375</td>\n      <td>1</td>\n      <td>AG-1F06</td>\n      <td>1-1-193-819</td>\n      <td>America/Los_Angeles</td>\n      <td>400.0</td>\n      <td>16.00</td>\n      <td>40.0</td>\n      <td>504.0</td>\n      <td>Thu, 02 Jan 2020 14:00:13 GMT</td>\n      <td>True</td>\n      <td>Thu, 02 Jan 2020 22:24:01 GMT</td>\n      <td>1</td>\n    </tr>\n    <tr>\n      <th>5</th>\n      <td>5e23b149f9af8b5fe4b973d4</td>\n      <td>2020-01-02 14:00:13+00:00</td>\n      <td>2020-01-02 23:00:41+00:00</td>\n      <td>2020-01-02 20:13:21+00:00</td>\n      <td>13.370</td>\n      <td>1</td>\n      <td>AG-1F13</td>\n      <td>1-1-194-821</td>\n      <td>America/Los_Angeles</td>\n      <td>600.0</td>\n      <td>24.00</td>\n      <td>40.0</td>\n      <td>624.0</td>\n      <td>Thu, 02 Jan 2020 14:00:12 GMT</td>\n      <td>True</td>\n      <td>Fri, 03 Jan 2020 00:24:13 GMT</td>\n      <td>1</td>\n    </tr>\n    <tr>\n      <th>6</th>\n      <td>5e23b149f9af8b5fe4b973d5</td>\n      <td>2020-01-02 14:09:14+00:00</td>\n      <td>2020-01-03 01:57:58+00:00</td>\n      <td>2020-01-03 00:59:21+00:00</td>\n      <td>43.477</td>\n      <td>1</td>\n      <td>AG-1F09</td>\n      <td>1-1-178-817</td>\n      <td>America/Los_Angeles</td>\n      <td>385.0</td>\n      <td>65.45</td>\n      <td>170.0</td>\n      <td>647.0</td>\n      <td>Thu, 02 Jan 2020 14:09:33 GMT</td>\n      <td>True</td>\n      <td>Fri, 03 Jan 2020 00:56:14 GMT</td>\n      <td>1</td>\n    </tr>\n    <tr>\n      <th>7</th>\n      <td>5e23b149f9af8b5fe4b973d6</td>\n      <td>2020-01-02 14:17:32+00:00</td>\n      <td>2020-01-03 00:44:54+00:00</td>\n      <td>2020-01-02 20:22:40+00:00</td>\n      <td>32.441</td>\n      <td>1</td>\n      <td>AG-4F34</td>\n      <td>1-1-191-804</td>\n      <td>America/Los_Angeles</td>\n      <td>300.0</td>\n      <td>45.00</td>\n      <td>150.0</td>\n      <td>126.0</td>\n      <td>Thu, 02 Jan 2020 14:17:40 GMT</td>\n      <td>True</td>\n      <td>Thu, 02 Jan 2020 16:23:32 GMT</td>\n      <td>1</td>\n    </tr>\n    <tr>\n      <th>8</th>\n      <td>5e23b149f9af8b5fe4b973d7</td>\n      <td>2020-01-02 14:25:38+00:00</td>\n      <td>2020-01-02 19:36:05+00:00</td>\n      <td>2020-01-02 18:38:39+00:00</td>\n      <td>13.264</td>\n      <td>1</td>\n      <td>AG-1F11</td>\n      <td>1-1-194-826</td>\n      <td>America/Los_Angeles</td>\n      <td>400.0</td>\n      <td>40.00</td>\n      <td>100.0</td>\n      <td>491.0</td>\n      <td>Thu, 02 Jan 2020 14:25:45 GMT</td>\n      <td>True</td>\n      <td>Thu, 02 Jan 2020 22:36:38 GMT</td>\n      <td>1</td>\n    </tr>\n    <tr>\n      <th>9</th>\n      <td>5e23b149f9af8b5fe4b973d8</td>\n      <td>2020-01-02 14:27:40+00:00</td>\n      <td>2020-01-02 20:01:48+00:00</td>\n      <td>2020-01-02 19:17:46+00:00</td>\n      <td>13.285</td>\n      <td>1</td>\n      <td>AG-1F08</td>\n      <td>1-1-178-823</td>\n      <td>America/Los_Angeles</td>\n      <td>400.0</td>\n      <td>20.00</td>\n      <td>50.0</td>\n      <td>226.0</td>\n      <td>Thu, 02 Jan 2020 14:27:48 GMT</td>\n      <td>True</td>\n      <td>Thu, 02 Jan 2020 18:13:40 GMT</td>\n      <td>1</td>\n    </tr>\n    <tr>\n      <th>10</th>\n      <td>5e23b149f9af8b5fe4b973d9</td>\n      <td>2020-01-02 14:30:45+00:00</td>\n      <td>2020-01-03 00:06:42+00:00</td>\n      <td>2020-01-02 17:33:07+00:00</td>\n      <td>11.633</td>\n      <td>1</td>\n      <td>AG-3F22</td>\n      <td>1-1-179-788</td>\n      <td>America/Los_Angeles</td>\n      <td>400.0</td>\n      <td>32.00</td>\n      <td>80.0</td>\n      <td>325.0</td>\n      <td>Thu, 02 Jan 2020 14:30:49 GMT</td>\n      <td>True</td>\n      <td>Thu, 02 Jan 2020 19:55:45 GMT</td>\n      <td>1</td>\n    </tr>\n    <tr>\n      <th>11</th>\n      <td>5e23b149f9af8b5fe4b973da</td>\n      <td>2020-01-02 15:04:38+00:00</td>\n      <td>2020-01-02 23:33:26+00:00</td>\n      <td>2020-01-02 22:48:48+00:00</td>\n      <td>0.812</td>\n      <td>1</td>\n      <td>AG-1F14</td>\n      <td>1-1-194-818</td>\n      <td>America/Los_Angeles</td>\n      <td>0.0</td>\n      <td>-1.00</td>\n      <td>-1.0</td>\n      <td>0.0</td>\n      <td>0</td>\n      <td>0</td>\n      <td>0</td>\n      <td>1</td>\n    </tr>\n  </tbody>\n</table>\n</div>"
     },
     "execution_count": 15,
     "metadata": {},
     "output_type": "execute_result"
    }
   ],
   "source": [
    "charging_set.head(12)"
   ]
  },
  {
   "cell_type": "markdown",
   "id": "7c683e67-9dc3-4a3c-8a8b-8aca1cf5013f",
   "metadata": {},
   "source": [
    "# TODO\n",
    "\n",
    "- check validity and meaning of data (userInput)\n",
    "- remove irrelevant columns\n",
    "- split userInput in own columns\n",
    "- check for duplicates\n",
    "- check for None-values (userID)\n",
    "- split userID into binary dummy (isRegistered)\n",
    "- check for None-values for isRegistered = 1 (remove None-values for registered users)\n",
    "- check data types of columns\n",
    "- look at columns with multiple data types (remove wrong entries)\n",
    "- check ranges of columns & unique values"
   ]
  },
  {
   "cell_type": "markdown",
   "id": "6338b195-ffc8-41d9-b994-520187f70038",
   "metadata": {},
   "source": [
    "# Data Cleanup\n",
    "\n",
    "## Step 1: check validity of columns\n",
    "\n",
    "- remove unnecessary \"unnamed\" column\n",
    "- sessionID does not bring any relevant information for our analysis"
   ]
  },
  {
   "cell_type": "code",
   "execution_count": 7,
   "id": "f5e18851-cf2e-4ae7-aa0f-8b4d11f1ceea",
   "metadata": {
    "ExecuteTime": {
     "end_time": "2025-01-03T13:00:58.201327Z",
     "start_time": "2025-01-03T13:00:58.096668Z"
    }
   },
   "outputs": [
    {
     "data": {
      "text/plain": "                         id             connectionTime  \\\n0  5e23b149f9af8b5fe4b973cf  2020-01-02 13:08:54+00:00   \n1  5e23b149f9af8b5fe4b973d0  2020-01-02 13:36:50+00:00   \n2  5e23b149f9af8b5fe4b973d1  2020-01-02 13:56:35+00:00   \n\n              disconnectTime           doneChargingTime  kWhDelivered  siteID  \\\n0  2020-01-02 19:11:15+00:00  2020-01-02 17:31:35+00:00        25.016       1   \n1  2020-01-02 22:38:21+00:00  2020-01-02 20:18:05+00:00        33.097       1   \n2  2020-01-03 00:39:22+00:00  2020-01-02 16:35:06+00:00         6.521       1   \n\n   spaceID    stationID             timezone  userID  \\\n0  AG-3F30  1-1-179-810  America/Los_Angeles   194.0   \n1  AG-1F01  1-1-193-825  America/Los_Angeles  4275.0   \n2  AG-1F03  1-1-193-829  America/Los_Angeles   344.0   \n\n                                          userInputs  \n0  [{'WhPerMile': 250, 'kWhRequested': 25.0, 'mil...  \n1  [{'WhPerMile': 280, 'kWhRequested': 70.0, 'mil...  \n2  [{'WhPerMile': 400, 'kWhRequested': 8.0, 'mile...  ",
      "text/html": "<div>\n<style scoped>\n    .dataframe tbody tr th:only-of-type {\n        vertical-align: middle;\n    }\n\n    .dataframe tbody tr th {\n        vertical-align: top;\n    }\n\n    .dataframe thead th {\n        text-align: right;\n    }\n</style>\n<table border=\"1\" class=\"dataframe\">\n  <thead>\n    <tr style=\"text-align: right;\">\n      <th></th>\n      <th>id</th>\n      <th>connectionTime</th>\n      <th>disconnectTime</th>\n      <th>doneChargingTime</th>\n      <th>kWhDelivered</th>\n      <th>siteID</th>\n      <th>spaceID</th>\n      <th>stationID</th>\n      <th>timezone</th>\n      <th>userID</th>\n      <th>userInputs</th>\n    </tr>\n  </thead>\n  <tbody>\n    <tr>\n      <th>0</th>\n      <td>5e23b149f9af8b5fe4b973cf</td>\n      <td>2020-01-02 13:08:54+00:00</td>\n      <td>2020-01-02 19:11:15+00:00</td>\n      <td>2020-01-02 17:31:35+00:00</td>\n      <td>25.016</td>\n      <td>1</td>\n      <td>AG-3F30</td>\n      <td>1-1-179-810</td>\n      <td>America/Los_Angeles</td>\n      <td>194.0</td>\n      <td>[{'WhPerMile': 250, 'kWhRequested': 25.0, 'mil...</td>\n    </tr>\n    <tr>\n      <th>1</th>\n      <td>5e23b149f9af8b5fe4b973d0</td>\n      <td>2020-01-02 13:36:50+00:00</td>\n      <td>2020-01-02 22:38:21+00:00</td>\n      <td>2020-01-02 20:18:05+00:00</td>\n      <td>33.097</td>\n      <td>1</td>\n      <td>AG-1F01</td>\n      <td>1-1-193-825</td>\n      <td>America/Los_Angeles</td>\n      <td>4275.0</td>\n      <td>[{'WhPerMile': 280, 'kWhRequested': 70.0, 'mil...</td>\n    </tr>\n    <tr>\n      <th>2</th>\n      <td>5e23b149f9af8b5fe4b973d1</td>\n      <td>2020-01-02 13:56:35+00:00</td>\n      <td>2020-01-03 00:39:22+00:00</td>\n      <td>2020-01-02 16:35:06+00:00</td>\n      <td>6.521</td>\n      <td>1</td>\n      <td>AG-1F03</td>\n      <td>1-1-193-829</td>\n      <td>America/Los_Angeles</td>\n      <td>344.0</td>\n      <td>[{'WhPerMile': 400, 'kWhRequested': 8.0, 'mile...</td>\n    </tr>\n  </tbody>\n</table>\n</div>"
     },
     "execution_count": 7,
     "metadata": {},
     "output_type": "execute_result"
    }
   ],
   "source": [
    "# remove irrelevant columns\n",
    "charging_set.drop('Unnamed: 0', axis=1, inplace=True)\n",
    "charging_set.drop('sessionID', axis=1, inplace=True) # does not bring relevant information for our analysis\n",
    "charging_set.head(3)"
   ]
  },
  {
   "cell_type": "code",
   "execution_count": 8,
   "id": "a9b08dd3585a977c",
   "metadata": {
    "collapsed": false,
    "ExecuteTime": {
     "end_time": "2025-01-03T13:01:05.892416Z",
     "start_time": "2025-01-03T13:01:01.674840Z"
    }
   },
   "outputs": [
    {
     "data": {
      "text/plain": "                             id             connectionTime  \\\n0      5e23b149f9af8b5fe4b973cf  2020-01-02 13:08:54+00:00   \n1      5e23b149f9af8b5fe4b973d0  2020-01-02 13:36:50+00:00   \n2      5e23b149f9af8b5fe4b973d1  2020-01-02 13:56:35+00:00   \n3      5e23b149f9af8b5fe4b973d2  2020-01-02 13:59:58+00:00   \n4      5e23b149f9af8b5fe4b973d3  2020-01-02 14:00:01+00:00   \n...                         ...                        ...   \n66445  5d574ad2f9af8b4c10c03652  2019-07-31 18:08:04+00:00   \n66446  5d574ad2f9af8b4c10c03653  2019-07-31 18:40:41+00:00   \n66447  5d574ad2f9af8b4c10c03654  2019-07-31 19:04:40+00:00   \n66448  5d574ad2f9af8b4c10c03655  2019-07-31 19:19:47+00:00   \n66449  5d574ad2f9af8b4c10c03656  2019-07-31 19:21:47+00:00   \n\n                  disconnectTime           doneChargingTime  kWhDelivered  \\\n0      2020-01-02 19:11:15+00:00  2020-01-02 17:31:35+00:00        25.016   \n1      2020-01-02 22:38:21+00:00  2020-01-02 20:18:05+00:00        33.097   \n2      2020-01-03 00:39:22+00:00  2020-01-02 16:35:06+00:00         6.521   \n3      2020-01-02 16:38:39+00:00  2020-01-02 15:18:45+00:00         2.355   \n4      2020-01-02 22:08:40+00:00  2020-01-02 18:17:30+00:00        13.375   \n...                          ...                        ...           ...   \n66445  2019-07-31 23:29:18+00:00  2019-07-31 23:30:18+00:00        28.787   \n66446  2019-08-01 00:59:42+00:00  2019-07-31 21:44:23+00:00         7.787   \n66447  2019-07-31 22:44:22+00:00  2019-07-31 22:45:21+00:00        11.274   \n66448  2019-08-01 00:34:51+00:00  2019-07-31 21:25:30+00:00        11.589   \n66449  2019-07-31 22:00:04+00:00  2019-07-31 20:51:34+00:00         0.897   \n\n       siteID  spaceID    stationID             timezone  userID  WhPerMile  \\\n0           1  AG-3F30  1-1-179-810  America/Los_Angeles   194.0      250.0   \n1           1  AG-1F01  1-1-193-825  America/Los_Angeles  4275.0      280.0   \n2           1  AG-1F03  1-1-193-829  America/Los_Angeles   344.0      400.0   \n3           1  AG-1F04  1-1-193-820  America/Los_Angeles  1117.0      400.0   \n4           1  AG-1F06  1-1-193-819  America/Los_Angeles   334.0      400.0   \n...       ...      ...          ...                  ...     ...        ...   \n66445       1  AG-3F27  1-1-179-809  America/Los_Angeles   393.0      240.0   \n66446       1  AG-3F30  1-1-179-810  America/Los_Angeles   220.0      333.0   \n66447       1  AG-4F51  1-1-191-795  America/Los_Angeles  1974.0      333.0   \n66448       1  AG-4F43  1-1-191-778  America/Los_Angeles   942.0      275.0   \n66449       1  AG-1F09  1-1-178-817  America/Los_Angeles     NaN        NaN   \n\n       kWhRequested  milesRequested  minutesAvailable  \\\n0             25.00           100.0             463.0   \n1             70.00           250.0             595.0   \n2              8.00            20.0              60.0   \n3              8.00            20.0              65.0   \n4             16.00            40.0             504.0   \n...             ...             ...               ...   \n66445         31.20           130.0             355.0   \n66446          6.66            20.0             455.0   \n66447         19.98            60.0             184.0   \n66448         22.00            80.0              60.0   \n66449           NaN             NaN               NaN   \n\n                          modifiedAt paymentRequired  \\\n0      Thu, 02 Jan 2020 13:09:39 GMT            True   \n1      Thu, 02 Jan 2020 13:37:11 GMT            True   \n2      Thu, 02 Jan 2020 13:57:17 GMT            True   \n3      Thu, 02 Jan 2020 14:00:03 GMT            True   \n4      Thu, 02 Jan 2020 14:00:13 GMT            True   \n...                              ...             ...   \n66445  Wed, 31 Jul 2019 18:08:23 GMT            True   \n66446  Wed, 31 Jul 2019 18:41:02 GMT            True   \n66447  Wed, 31 Jul 2019 19:04:57 GMT            True   \n66448  Wed, 31 Jul 2019 19:20:10 GMT            True   \n66449                           None            None   \n\n                  requestedDeparture  \n0      Thu, 02 Jan 2020 20:51:54 GMT  \n1      Thu, 02 Jan 2020 23:31:50 GMT  \n2      Thu, 02 Jan 2020 14:56:35 GMT  \n3      Thu, 02 Jan 2020 15:04:58 GMT  \n4      Thu, 02 Jan 2020 22:24:01 GMT  \n...                              ...  \n66445  Thu, 01 Aug 2019 00:03:04 GMT  \n66446  Thu, 01 Aug 2019 02:15:41 GMT  \n66447  Wed, 31 Jul 2019 22:08:40 GMT  \n66448  Wed, 31 Jul 2019 20:19:47 GMT  \n66449                           None  \n\n[66450 rows x 17 columns]",
      "text/html": "<div>\n<style scoped>\n    .dataframe tbody tr th:only-of-type {\n        vertical-align: middle;\n    }\n\n    .dataframe tbody tr th {\n        vertical-align: top;\n    }\n\n    .dataframe thead th {\n        text-align: right;\n    }\n</style>\n<table border=\"1\" class=\"dataframe\">\n  <thead>\n    <tr style=\"text-align: right;\">\n      <th></th>\n      <th>id</th>\n      <th>connectionTime</th>\n      <th>disconnectTime</th>\n      <th>doneChargingTime</th>\n      <th>kWhDelivered</th>\n      <th>siteID</th>\n      <th>spaceID</th>\n      <th>stationID</th>\n      <th>timezone</th>\n      <th>userID</th>\n      <th>WhPerMile</th>\n      <th>kWhRequested</th>\n      <th>milesRequested</th>\n      <th>minutesAvailable</th>\n      <th>modifiedAt</th>\n      <th>paymentRequired</th>\n      <th>requestedDeparture</th>\n    </tr>\n  </thead>\n  <tbody>\n    <tr>\n      <th>0</th>\n      <td>5e23b149f9af8b5fe4b973cf</td>\n      <td>2020-01-02 13:08:54+00:00</td>\n      <td>2020-01-02 19:11:15+00:00</td>\n      <td>2020-01-02 17:31:35+00:00</td>\n      <td>25.016</td>\n      <td>1</td>\n      <td>AG-3F30</td>\n      <td>1-1-179-810</td>\n      <td>America/Los_Angeles</td>\n      <td>194.0</td>\n      <td>250.0</td>\n      <td>25.00</td>\n      <td>100.0</td>\n      <td>463.0</td>\n      <td>Thu, 02 Jan 2020 13:09:39 GMT</td>\n      <td>True</td>\n      <td>Thu, 02 Jan 2020 20:51:54 GMT</td>\n    </tr>\n    <tr>\n      <th>1</th>\n      <td>5e23b149f9af8b5fe4b973d0</td>\n      <td>2020-01-02 13:36:50+00:00</td>\n      <td>2020-01-02 22:38:21+00:00</td>\n      <td>2020-01-02 20:18:05+00:00</td>\n      <td>33.097</td>\n      <td>1</td>\n      <td>AG-1F01</td>\n      <td>1-1-193-825</td>\n      <td>America/Los_Angeles</td>\n      <td>4275.0</td>\n      <td>280.0</td>\n      <td>70.00</td>\n      <td>250.0</td>\n      <td>595.0</td>\n      <td>Thu, 02 Jan 2020 13:37:11 GMT</td>\n      <td>True</td>\n      <td>Thu, 02 Jan 2020 23:31:50 GMT</td>\n    </tr>\n    <tr>\n      <th>2</th>\n      <td>5e23b149f9af8b5fe4b973d1</td>\n      <td>2020-01-02 13:56:35+00:00</td>\n      <td>2020-01-03 00:39:22+00:00</td>\n      <td>2020-01-02 16:35:06+00:00</td>\n      <td>6.521</td>\n      <td>1</td>\n      <td>AG-1F03</td>\n      <td>1-1-193-829</td>\n      <td>America/Los_Angeles</td>\n      <td>344.0</td>\n      <td>400.0</td>\n      <td>8.00</td>\n      <td>20.0</td>\n      <td>60.0</td>\n      <td>Thu, 02 Jan 2020 13:57:17 GMT</td>\n      <td>True</td>\n      <td>Thu, 02 Jan 2020 14:56:35 GMT</td>\n    </tr>\n    <tr>\n      <th>3</th>\n      <td>5e23b149f9af8b5fe4b973d2</td>\n      <td>2020-01-02 13:59:58+00:00</td>\n      <td>2020-01-02 16:38:39+00:00</td>\n      <td>2020-01-02 15:18:45+00:00</td>\n      <td>2.355</td>\n      <td>1</td>\n      <td>AG-1F04</td>\n      <td>1-1-193-820</td>\n      <td>America/Los_Angeles</td>\n      <td>1117.0</td>\n      <td>400.0</td>\n      <td>8.00</td>\n      <td>20.0</td>\n      <td>65.0</td>\n      <td>Thu, 02 Jan 2020 14:00:03 GMT</td>\n      <td>True</td>\n      <td>Thu, 02 Jan 2020 15:04:58 GMT</td>\n    </tr>\n    <tr>\n      <th>4</th>\n      <td>5e23b149f9af8b5fe4b973d3</td>\n      <td>2020-01-02 14:00:01+00:00</td>\n      <td>2020-01-02 22:08:40+00:00</td>\n      <td>2020-01-02 18:17:30+00:00</td>\n      <td>13.375</td>\n      <td>1</td>\n      <td>AG-1F06</td>\n      <td>1-1-193-819</td>\n      <td>America/Los_Angeles</td>\n      <td>334.0</td>\n      <td>400.0</td>\n      <td>16.00</td>\n      <td>40.0</td>\n      <td>504.0</td>\n      <td>Thu, 02 Jan 2020 14:00:13 GMT</td>\n      <td>True</td>\n      <td>Thu, 02 Jan 2020 22:24:01 GMT</td>\n    </tr>\n    <tr>\n      <th>...</th>\n      <td>...</td>\n      <td>...</td>\n      <td>...</td>\n      <td>...</td>\n      <td>...</td>\n      <td>...</td>\n      <td>...</td>\n      <td>...</td>\n      <td>...</td>\n      <td>...</td>\n      <td>...</td>\n      <td>...</td>\n      <td>...</td>\n      <td>...</td>\n      <td>...</td>\n      <td>...</td>\n      <td>...</td>\n    </tr>\n    <tr>\n      <th>66445</th>\n      <td>5d574ad2f9af8b4c10c03652</td>\n      <td>2019-07-31 18:08:04+00:00</td>\n      <td>2019-07-31 23:29:18+00:00</td>\n      <td>2019-07-31 23:30:18+00:00</td>\n      <td>28.787</td>\n      <td>1</td>\n      <td>AG-3F27</td>\n      <td>1-1-179-809</td>\n      <td>America/Los_Angeles</td>\n      <td>393.0</td>\n      <td>240.0</td>\n      <td>31.20</td>\n      <td>130.0</td>\n      <td>355.0</td>\n      <td>Wed, 31 Jul 2019 18:08:23 GMT</td>\n      <td>True</td>\n      <td>Thu, 01 Aug 2019 00:03:04 GMT</td>\n    </tr>\n    <tr>\n      <th>66446</th>\n      <td>5d574ad2f9af8b4c10c03653</td>\n      <td>2019-07-31 18:40:41+00:00</td>\n      <td>2019-08-01 00:59:42+00:00</td>\n      <td>2019-07-31 21:44:23+00:00</td>\n      <td>7.787</td>\n      <td>1</td>\n      <td>AG-3F30</td>\n      <td>1-1-179-810</td>\n      <td>America/Los_Angeles</td>\n      <td>220.0</td>\n      <td>333.0</td>\n      <td>6.66</td>\n      <td>20.0</td>\n      <td>455.0</td>\n      <td>Wed, 31 Jul 2019 18:41:02 GMT</td>\n      <td>True</td>\n      <td>Thu, 01 Aug 2019 02:15:41 GMT</td>\n    </tr>\n    <tr>\n      <th>66447</th>\n      <td>5d574ad2f9af8b4c10c03654</td>\n      <td>2019-07-31 19:04:40+00:00</td>\n      <td>2019-07-31 22:44:22+00:00</td>\n      <td>2019-07-31 22:45:21+00:00</td>\n      <td>11.274</td>\n      <td>1</td>\n      <td>AG-4F51</td>\n      <td>1-1-191-795</td>\n      <td>America/Los_Angeles</td>\n      <td>1974.0</td>\n      <td>333.0</td>\n      <td>19.98</td>\n      <td>60.0</td>\n      <td>184.0</td>\n      <td>Wed, 31 Jul 2019 19:04:57 GMT</td>\n      <td>True</td>\n      <td>Wed, 31 Jul 2019 22:08:40 GMT</td>\n    </tr>\n    <tr>\n      <th>66448</th>\n      <td>5d574ad2f9af8b4c10c03655</td>\n      <td>2019-07-31 19:19:47+00:00</td>\n      <td>2019-08-01 00:34:51+00:00</td>\n      <td>2019-07-31 21:25:30+00:00</td>\n      <td>11.589</td>\n      <td>1</td>\n      <td>AG-4F43</td>\n      <td>1-1-191-778</td>\n      <td>America/Los_Angeles</td>\n      <td>942.0</td>\n      <td>275.0</td>\n      <td>22.00</td>\n      <td>80.0</td>\n      <td>60.0</td>\n      <td>Wed, 31 Jul 2019 19:20:10 GMT</td>\n      <td>True</td>\n      <td>Wed, 31 Jul 2019 20:19:47 GMT</td>\n    </tr>\n    <tr>\n      <th>66449</th>\n      <td>5d574ad2f9af8b4c10c03656</td>\n      <td>2019-07-31 19:21:47+00:00</td>\n      <td>2019-07-31 22:00:04+00:00</td>\n      <td>2019-07-31 20:51:34+00:00</td>\n      <td>0.897</td>\n      <td>1</td>\n      <td>AG-1F09</td>\n      <td>1-1-178-817</td>\n      <td>America/Los_Angeles</td>\n      <td>NaN</td>\n      <td>NaN</td>\n      <td>NaN</td>\n      <td>NaN</td>\n      <td>NaN</td>\n      <td>None</td>\n      <td>None</td>\n      <td>None</td>\n    </tr>\n  </tbody>\n</table>\n<p>66450 rows × 17 columns</p>\n</div>"
     },
     "execution_count": 8,
     "metadata": {},
     "output_type": "execute_result"
    }
   ],
   "source": [
    "# split userInputs into own columns\n",
    "def parse_user_inputs(row):\n",
    "    try:\n",
    "        # Parse the row as a Python object (e.g., list of dicts)\n",
    "        parsed = ast.literal_eval(row) if pd.notnull(row) else []\n",
    "        return parsed[0] if isinstance(parsed, list) and len(parsed) > 0 else {}\n",
    "    except (ValueError, SyntaxError):\n",
    "        return {}\n",
    "\n",
    "# Parse 'userInputs' column in charging_set\n",
    "charging_set['userInputs'] = charging_set['userInputs'].apply(parse_user_inputs)\n",
    "\n",
    "# Specify the desired features to extract\n",
    "desired_features = [\n",
    "    'WhPerMile', 'kWhRequested', 'milesRequested',\n",
    "    'minutesAvailable', 'modifiedAt', 'paymentRequired',\n",
    "    'requestedDeparture'\n",
    "]\n",
    "\n",
    "# Extract desired features and create new columns\n",
    "for feature in desired_features:\n",
    "    charging_set[feature] = charging_set['userInputs'].apply(\n",
    "        lambda x: x.get(feature) if isinstance(x, dict) else None\n",
    "    )\n",
    "# TODO: has to be commented so a cell further down in this notebook can run (it needs userInputs)\n",
    "charging_set = charging_set.drop(columns=['userInputs'])\n",
    "charging_set"
   ]
  },
  {
   "cell_type": "code",
   "execution_count": 9,
   "id": "74d6638dd49554a4",
   "metadata": {
    "collapsed": false,
    "ExecuteTime": {
     "end_time": "2025-01-03T13:01:10.306518Z",
     "start_time": "2025-01-03T13:01:09.899523Z"
    }
   },
   "outputs": [
    {
     "name": "stdout",
     "output_type": "stream",
     "text": [
      "sum of duplicates: 1413\n"
     ]
    },
    {
     "data": {
      "text/plain": "                             id             connectionTime  \\\n0      5e23b149f9af8b5fe4b973cf  2020-01-02 13:08:54+00:00   \n1      5e23b149f9af8b5fe4b973d0  2020-01-02 13:36:50+00:00   \n2      5e23b149f9af8b5fe4b973d1  2020-01-02 13:56:35+00:00   \n3      5e23b149f9af8b5fe4b973d2  2020-01-02 13:59:58+00:00   \n4      5e23b149f9af8b5fe4b973d3  2020-01-02 14:00:01+00:00   \n...                         ...                        ...   \n65032  5d2fbdd3f9af8b4d0dd0d54a  2019-07-01 21:49:12+00:00   \n65033  5d2fbdd3f9af8b4d0dd0d54b  2019-07-01 21:58:45+00:00   \n65034  5d2fbdd3f9af8b4d0dd0d54c  2019-07-01 22:02:21+00:00   \n65035  5d2fbdd3f9af8b4d0dd0d54d  2019-07-01 22:23:44+00:00   \n65036  5d2fbdd3f9af8b4d0dd0d54e  2019-07-01 22:36:08+00:00   \n\n                  disconnectTime           doneChargingTime  kWhDelivered  \\\n0      2020-01-02 19:11:15+00:00  2020-01-02 17:31:35+00:00        25.016   \n1      2020-01-02 22:38:21+00:00  2020-01-02 20:18:05+00:00        33.097   \n2      2020-01-03 00:39:22+00:00  2020-01-02 16:35:06+00:00         6.521   \n3      2020-01-02 16:38:39+00:00  2020-01-02 15:18:45+00:00         2.355   \n4      2020-01-02 22:08:40+00:00  2020-01-02 18:17:30+00:00        13.375   \n...                          ...                        ...           ...   \n65032  2019-07-02 01:37:18+00:00  2019-07-01 23:14:33+00:00         8.399   \n65033  2019-07-02 00:39:48+00:00  2019-07-02 00:40:21+00:00        16.864   \n65034  2019-07-02 00:58:50+00:00  2019-07-02 00:59:23+00:00        18.335   \n65035  2019-07-02 02:03:36+00:00  2019-07-02 02:04:06+00:00        22.815   \n65036  2019-07-02 01:10:52+00:00  2019-07-02 00:24:32+00:00        10.241   \n\n       siteID  spaceID    stationID             timezone  userID  WhPerMile  \\\n0           1  AG-3F30  1-1-179-810  America/Los_Angeles   194.0      250.0   \n1           1  AG-1F01  1-1-193-825  America/Los_Angeles  4275.0      280.0   \n2           1  AG-1F03  1-1-193-829  America/Los_Angeles   344.0      400.0   \n3           1  AG-1F04  1-1-193-820  America/Los_Angeles  1117.0      400.0   \n4           1  AG-1F06  1-1-193-819  America/Los_Angeles   334.0      400.0   \n...       ...      ...          ...                  ...     ...        ...   \n65032       1  AG-3F18  1-1-179-798  America/Los_Angeles  1346.0      400.0   \n65033       1  AG-3F20  1-1-179-794  America/Los_Angeles   364.0      400.0   \n65034       1  AG-4F47  1-1-191-807  America/Los_Angeles  2050.0      333.0   \n65035       1  AG-3F31  1-1-179-781  America/Los_Angeles  1626.0      200.0   \n65036       1  AG-1F06  1-1-193-819  America/Los_Angeles  2299.0      333.0   \n\n       kWhRequested  milesRequested  minutesAvailable  \\\n0             25.00           100.0             463.0   \n1             70.00           250.0             595.0   \n2              8.00            20.0              60.0   \n3              8.00            20.0              65.0   \n4             16.00            40.0             504.0   \n...             ...             ...               ...   \n65032         32.00            80.0              36.0   \n65033         40.00           100.0             234.0   \n65034         29.97            90.0             309.0   \n65035         34.00           170.0              99.0   \n65036         16.65            50.0             191.0   \n\n                          modifiedAt paymentRequired  \\\n0      Thu, 02 Jan 2020 13:09:39 GMT            True   \n1      Thu, 02 Jan 2020 13:37:11 GMT            True   \n2      Thu, 02 Jan 2020 13:57:17 GMT            True   \n3      Thu, 02 Jan 2020 14:00:03 GMT            True   \n4      Thu, 02 Jan 2020 14:00:13 GMT            True   \n...                              ...             ...   \n65032  Mon, 01 Jul 2019 21:49:37 GMT            True   \n65033  Mon, 01 Jul 2019 21:59:09 GMT            True   \n65034  Mon, 01 Jul 2019 22:02:37 GMT            True   \n65035  Mon, 01 Jul 2019 22:23:43 GMT            True   \n65036  Mon, 01 Jul 2019 22:36:08 GMT            True   \n\n                  requestedDeparture  \n0      Thu, 02 Jan 2020 20:51:54 GMT  \n1      Thu, 02 Jan 2020 23:31:50 GMT  \n2      Thu, 02 Jan 2020 14:56:35 GMT  \n3      Thu, 02 Jan 2020 15:04:58 GMT  \n4      Thu, 02 Jan 2020 22:24:01 GMT  \n...                              ...  \n65032  Mon, 01 Jul 2019 22:25:12 GMT  \n65033  Tue, 02 Jul 2019 01:52:45 GMT  \n65034  Tue, 02 Jul 2019 03:11:21 GMT  \n65035  Tue, 02 Jul 2019 00:02:44 GMT  \n65036  Tue, 02 Jul 2019 01:47:08 GMT  \n\n[65037 rows x 17 columns]",
      "text/html": "<div>\n<style scoped>\n    .dataframe tbody tr th:only-of-type {\n        vertical-align: middle;\n    }\n\n    .dataframe tbody tr th {\n        vertical-align: top;\n    }\n\n    .dataframe thead th {\n        text-align: right;\n    }\n</style>\n<table border=\"1\" class=\"dataframe\">\n  <thead>\n    <tr style=\"text-align: right;\">\n      <th></th>\n      <th>id</th>\n      <th>connectionTime</th>\n      <th>disconnectTime</th>\n      <th>doneChargingTime</th>\n      <th>kWhDelivered</th>\n      <th>siteID</th>\n      <th>spaceID</th>\n      <th>stationID</th>\n      <th>timezone</th>\n      <th>userID</th>\n      <th>WhPerMile</th>\n      <th>kWhRequested</th>\n      <th>milesRequested</th>\n      <th>minutesAvailable</th>\n      <th>modifiedAt</th>\n      <th>paymentRequired</th>\n      <th>requestedDeparture</th>\n    </tr>\n  </thead>\n  <tbody>\n    <tr>\n      <th>0</th>\n      <td>5e23b149f9af8b5fe4b973cf</td>\n      <td>2020-01-02 13:08:54+00:00</td>\n      <td>2020-01-02 19:11:15+00:00</td>\n      <td>2020-01-02 17:31:35+00:00</td>\n      <td>25.016</td>\n      <td>1</td>\n      <td>AG-3F30</td>\n      <td>1-1-179-810</td>\n      <td>America/Los_Angeles</td>\n      <td>194.0</td>\n      <td>250.0</td>\n      <td>25.00</td>\n      <td>100.0</td>\n      <td>463.0</td>\n      <td>Thu, 02 Jan 2020 13:09:39 GMT</td>\n      <td>True</td>\n      <td>Thu, 02 Jan 2020 20:51:54 GMT</td>\n    </tr>\n    <tr>\n      <th>1</th>\n      <td>5e23b149f9af8b5fe4b973d0</td>\n      <td>2020-01-02 13:36:50+00:00</td>\n      <td>2020-01-02 22:38:21+00:00</td>\n      <td>2020-01-02 20:18:05+00:00</td>\n      <td>33.097</td>\n      <td>1</td>\n      <td>AG-1F01</td>\n      <td>1-1-193-825</td>\n      <td>America/Los_Angeles</td>\n      <td>4275.0</td>\n      <td>280.0</td>\n      <td>70.00</td>\n      <td>250.0</td>\n      <td>595.0</td>\n      <td>Thu, 02 Jan 2020 13:37:11 GMT</td>\n      <td>True</td>\n      <td>Thu, 02 Jan 2020 23:31:50 GMT</td>\n    </tr>\n    <tr>\n      <th>2</th>\n      <td>5e23b149f9af8b5fe4b973d1</td>\n      <td>2020-01-02 13:56:35+00:00</td>\n      <td>2020-01-03 00:39:22+00:00</td>\n      <td>2020-01-02 16:35:06+00:00</td>\n      <td>6.521</td>\n      <td>1</td>\n      <td>AG-1F03</td>\n      <td>1-1-193-829</td>\n      <td>America/Los_Angeles</td>\n      <td>344.0</td>\n      <td>400.0</td>\n      <td>8.00</td>\n      <td>20.0</td>\n      <td>60.0</td>\n      <td>Thu, 02 Jan 2020 13:57:17 GMT</td>\n      <td>True</td>\n      <td>Thu, 02 Jan 2020 14:56:35 GMT</td>\n    </tr>\n    <tr>\n      <th>3</th>\n      <td>5e23b149f9af8b5fe4b973d2</td>\n      <td>2020-01-02 13:59:58+00:00</td>\n      <td>2020-01-02 16:38:39+00:00</td>\n      <td>2020-01-02 15:18:45+00:00</td>\n      <td>2.355</td>\n      <td>1</td>\n      <td>AG-1F04</td>\n      <td>1-1-193-820</td>\n      <td>America/Los_Angeles</td>\n      <td>1117.0</td>\n      <td>400.0</td>\n      <td>8.00</td>\n      <td>20.0</td>\n      <td>65.0</td>\n      <td>Thu, 02 Jan 2020 14:00:03 GMT</td>\n      <td>True</td>\n      <td>Thu, 02 Jan 2020 15:04:58 GMT</td>\n    </tr>\n    <tr>\n      <th>4</th>\n      <td>5e23b149f9af8b5fe4b973d3</td>\n      <td>2020-01-02 14:00:01+00:00</td>\n      <td>2020-01-02 22:08:40+00:00</td>\n      <td>2020-01-02 18:17:30+00:00</td>\n      <td>13.375</td>\n      <td>1</td>\n      <td>AG-1F06</td>\n      <td>1-1-193-819</td>\n      <td>America/Los_Angeles</td>\n      <td>334.0</td>\n      <td>400.0</td>\n      <td>16.00</td>\n      <td>40.0</td>\n      <td>504.0</td>\n      <td>Thu, 02 Jan 2020 14:00:13 GMT</td>\n      <td>True</td>\n      <td>Thu, 02 Jan 2020 22:24:01 GMT</td>\n    </tr>\n    <tr>\n      <th>...</th>\n      <td>...</td>\n      <td>...</td>\n      <td>...</td>\n      <td>...</td>\n      <td>...</td>\n      <td>...</td>\n      <td>...</td>\n      <td>...</td>\n      <td>...</td>\n      <td>...</td>\n      <td>...</td>\n      <td>...</td>\n      <td>...</td>\n      <td>...</td>\n      <td>...</td>\n      <td>...</td>\n      <td>...</td>\n    </tr>\n    <tr>\n      <th>65032</th>\n      <td>5d2fbdd3f9af8b4d0dd0d54a</td>\n      <td>2019-07-01 21:49:12+00:00</td>\n      <td>2019-07-02 01:37:18+00:00</td>\n      <td>2019-07-01 23:14:33+00:00</td>\n      <td>8.399</td>\n      <td>1</td>\n      <td>AG-3F18</td>\n      <td>1-1-179-798</td>\n      <td>America/Los_Angeles</td>\n      <td>1346.0</td>\n      <td>400.0</td>\n      <td>32.00</td>\n      <td>80.0</td>\n      <td>36.0</td>\n      <td>Mon, 01 Jul 2019 21:49:37 GMT</td>\n      <td>True</td>\n      <td>Mon, 01 Jul 2019 22:25:12 GMT</td>\n    </tr>\n    <tr>\n      <th>65033</th>\n      <td>5d2fbdd3f9af8b4d0dd0d54b</td>\n      <td>2019-07-01 21:58:45+00:00</td>\n      <td>2019-07-02 00:39:48+00:00</td>\n      <td>2019-07-02 00:40:21+00:00</td>\n      <td>16.864</td>\n      <td>1</td>\n      <td>AG-3F20</td>\n      <td>1-1-179-794</td>\n      <td>America/Los_Angeles</td>\n      <td>364.0</td>\n      <td>400.0</td>\n      <td>40.00</td>\n      <td>100.0</td>\n      <td>234.0</td>\n      <td>Mon, 01 Jul 2019 21:59:09 GMT</td>\n      <td>True</td>\n      <td>Tue, 02 Jul 2019 01:52:45 GMT</td>\n    </tr>\n    <tr>\n      <th>65034</th>\n      <td>5d2fbdd3f9af8b4d0dd0d54c</td>\n      <td>2019-07-01 22:02:21+00:00</td>\n      <td>2019-07-02 00:58:50+00:00</td>\n      <td>2019-07-02 00:59:23+00:00</td>\n      <td>18.335</td>\n      <td>1</td>\n      <td>AG-4F47</td>\n      <td>1-1-191-807</td>\n      <td>America/Los_Angeles</td>\n      <td>2050.0</td>\n      <td>333.0</td>\n      <td>29.97</td>\n      <td>90.0</td>\n      <td>309.0</td>\n      <td>Mon, 01 Jul 2019 22:02:37 GMT</td>\n      <td>True</td>\n      <td>Tue, 02 Jul 2019 03:11:21 GMT</td>\n    </tr>\n    <tr>\n      <th>65035</th>\n      <td>5d2fbdd3f9af8b4d0dd0d54d</td>\n      <td>2019-07-01 22:23:44+00:00</td>\n      <td>2019-07-02 02:03:36+00:00</td>\n      <td>2019-07-02 02:04:06+00:00</td>\n      <td>22.815</td>\n      <td>1</td>\n      <td>AG-3F31</td>\n      <td>1-1-179-781</td>\n      <td>America/Los_Angeles</td>\n      <td>1626.0</td>\n      <td>200.0</td>\n      <td>34.00</td>\n      <td>170.0</td>\n      <td>99.0</td>\n      <td>Mon, 01 Jul 2019 22:23:43 GMT</td>\n      <td>True</td>\n      <td>Tue, 02 Jul 2019 00:02:44 GMT</td>\n    </tr>\n    <tr>\n      <th>65036</th>\n      <td>5d2fbdd3f9af8b4d0dd0d54e</td>\n      <td>2019-07-01 22:36:08+00:00</td>\n      <td>2019-07-02 01:10:52+00:00</td>\n      <td>2019-07-02 00:24:32+00:00</td>\n      <td>10.241</td>\n      <td>1</td>\n      <td>AG-1F06</td>\n      <td>1-1-193-819</td>\n      <td>America/Los_Angeles</td>\n      <td>2299.0</td>\n      <td>333.0</td>\n      <td>16.65</td>\n      <td>50.0</td>\n      <td>191.0</td>\n      <td>Mon, 01 Jul 2019 22:36:08 GMT</td>\n      <td>True</td>\n      <td>Tue, 02 Jul 2019 01:47:08 GMT</td>\n    </tr>\n  </tbody>\n</table>\n<p>65037 rows × 17 columns</p>\n</div>"
     },
     "execution_count": 9,
     "metadata": {},
     "output_type": "execute_result"
    }
   ],
   "source": [
    "# check for duplicates\n",
    "duplicate_counter = charging_set.duplicated().sum()\n",
    "duplicates = charging_set[charging_set.duplicated()]\n",
    "print(\"sum of duplicates:\", duplicate_counter)\n",
    "charging_set.drop_duplicates()"
   ]
  },
  {
   "cell_type": "code",
   "execution_count": 10,
   "id": "5aba7030b49abcb",
   "metadata": {
    "collapsed": false,
    "ExecuteTime": {
     "end_time": "2025-01-03T13:01:13.661619Z",
     "start_time": "2025-01-03T13:01:13.600821Z"
    }
   },
   "outputs": [
    {
     "name": "stdout",
     "output_type": "stream",
     "text": [
      "Feature: requestedDeparture, Count of NaN-Values: 17263\n",
      "Feature: milesRequested, Count of NaN-Values: 17263\n",
      "Feature: paymentRequired, Count of NaN-Values: 17263\n",
      "Feature: modifiedAt, Count of NaN-Values: 17263\n",
      "Feature: minutesAvailable, Count of NaN-Values: 17263\n",
      "Feature: WhPerMile, Count of NaN-Values: 17263\n",
      "Feature: kWhRequested, Count of NaN-Values: 17263\n",
      "Feature: userID, Count of NaN-Values: 17263\n",
      "Feature: doneChargingTime, Count of NaN-Values: 4088\n",
      "Feature: id, Count of NaN-Values: 0\n",
      "Feature: timezone, Count of NaN-Values: 0\n",
      "Feature: spaceID, Count of NaN-Values: 0\n",
      "Feature: stationID, Count of NaN-Values: 0\n",
      "Feature: kWhDelivered, Count of NaN-Values: 0\n",
      "Feature: disconnectTime, Count of NaN-Values: 0\n",
      "Feature: connectionTime, Count of NaN-Values: 0\n",
      "Feature: siteID, Count of NaN-Values: 0\n"
     ]
    }
   ],
   "source": [
    "# check for none-values\n",
    "nan_counts = charging_set.isna().sum()\n",
    "nan_counts_sorted = nan_counts.sort_values(ascending=False)\n",
    "\n",
    "for column, count in nan_counts_sorted.items():\n",
    "    print(f\"Feature: {column}, Count of NaN-Values: {count}\")"
   ]
  },
  {
   "cell_type": "markdown",
   "source": [
    "We observe a large number of NaN-values in the columns that were separated from the column \\\"userInputs\\\". It is very noticeable that the number of NaN-values of the \\\"userInputs\\\"-columns is the same as the number of the NaN-values in the \\\"userID\\\"-column. Accordingly, we assume that the NaN-values in the \\\"userInputs\\\"-columns originate from users not being registered. In the following, we check if our assumption is correct:"
   ],
   "metadata": {
    "collapsed": false
   },
   "id": "8d4b16f220a339b5"
  },
  {
   "cell_type": "markdown",
   "source": [
    "# Clean: userInputs"
   ],
   "metadata": {
    "collapsed": false
   },
   "id": "f53ac96f1accd313"
  },
  {
   "cell_type": "code",
   "outputs": [
    {
     "name": "stdout",
     "output_type": "stream",
     "text": [
      "Unregistered users are the reason for NaN-values in userInputs columns: True\n",
      "userID contains a zero value:\n",
      " userID                False\n",
      "requestedDeparture    False\n",
      "milesRequested         True\n",
      "paymentRequired       False\n",
      "modifiedAt            False\n",
      "minutesAvailable      False\n",
      "WhPerMile             False\n",
      "kWhRequested           True\n",
      "dtype: bool\n"
     ]
    }
   ],
   "source": [
    "# list of userInputs columns\n",
    "user_inputs = [\"requestedDeparture\", \"milesRequested\", \"paymentRequired\", \"modifiedAt\", \"minutesAvailable\", \"WhPerMile\", \"kWhRequested\"]\n",
    "\n",
    "def check_user_inputs_nan_condition(user_inputs_columns):\n",
    "    \"\"\"\n",
    "    check_user_inputs_nan_condition checks if userID is NaN when userInputs columns are NaN.\n",
    "    \n",
    "    :param user_inputs_columns: list of user input columns that were stored in the former \"userInputs\"-column\n",
    "    :return: True if no violations are found, False if a userID exists with NaN in the corresponding userInput column.\n",
    "    \"\"\"\n",
    "    # iterate over each row and compare userID-value to userInputs-values\n",
    "    for idx, row in charging_set.iterrows():\n",
    "        user_id_value = row[\"userID\"]\n",
    "\n",
    "        for user_input_column in user_inputs_columns:\n",
    "            user_input_value = row[user_input_column]\n",
    "\n",
    "            # if userID is not NaN but the userInputs-column is NaN, return false\n",
    "            if pd.isna(user_input_value) and not pd.isna(user_id_value):\n",
    "                return False\n",
    "\n",
    "    # if no violation of condition is found, return true\n",
    "    return True\n",
    "\n",
    "# check if unregistered users are the reason for NaN-values in userInputs columns\n",
    "print(\"Unregistered users are the reason for NaN-values in userInputs columns:\", check_user_inputs_nan_condition(user_inputs))\n",
    "\n",
    "# check if we can use 0 as a placeholder for NaN values for \"userID\", \"doneChargingTime\", and userInputs columns\n",
    "columns_contain_nan = [\"userID\"] + user_inputs\n",
    "contains_zero_value = (charging_set[columns_contain_nan] == 0).any()\n",
    "\n",
    "print(\"userID contains a zero value:\\n\", contains_zero_value)\n",
    "\n",
    "# separate columns that contain NaN but not zero values from columns that contain both NaN and zero values\n",
    "columns_contain_nan_wo_zero_values = [col for col in columns_contain_nan if not (charging_set[col] == 0).any()]\n",
    "columns_contain_nan_w_zero_values = [col for col in columns_contain_nan if (charging_set[col] == 0).any()]\n",
    "\n",
    "# fill NaN values with 0 in columns that do not contain zero values, for the rest of the columns, use -1\n",
    "charging_set[columns_contain_nan_wo_zero_values] = charging_set[columns_contain_nan_wo_zero_values].fillna(0)\n",
    "charging_set[columns_contain_nan_w_zero_values] = charging_set[columns_contain_nan_w_zero_values].fillna(-1)"
   ],
   "metadata": {
    "collapsed": false,
    "ExecuteTime": {
     "end_time": "2025-01-03T13:01:25.941892Z",
     "start_time": "2025-01-03T13:01:19.101672Z"
    }
   },
   "id": "c98bb53415f1bd09",
   "execution_count": 11
  },
  {
   "cell_type": "markdown",
   "source": [
    "Additionally, we change create a new column called isRegistered, since the exact ID of a user is not relevant, but only the information wether a user is registered or not."
   ],
   "metadata": {
    "collapsed": false
   },
   "id": "ac65cf9841d47f97"
  },
  {
   "cell_type": "code",
   "outputs": [],
   "source": [
    "# isRegistered should be 0 if a user is not registered (userID == NaN) and be 1 if a user is registered\n",
    "charging_set['isRegistered'] = charging_set['userID'].notnull().astype(int)\n",
    "\n",
    "# remove userID\n",
    "charging_set = charging_set.drop(columns=['userID'])"
   ],
   "metadata": {
    "collapsed": false,
    "ExecuteTime": {
     "end_time": "2025-01-03T13:02:19.012469Z",
     "start_time": "2025-01-03T13:02:18.971201Z"
    }
   },
   "id": "64abf67238404212",
   "execution_count": 13
  },
  {
   "cell_type": "markdown",
   "source": [
    "# Clean: Time-Data"
   ],
   "metadata": {
    "collapsed": false
   },
   "id": "44ece4784cd3e895"
  },
  {
   "cell_type": "markdown",
   "source": [
    "Now we have a look at the time data. Like we filled the NaN-values for the userInputs with 0 or -1 as placeholders, we will use the minimum possible value for python's \"datetime\" datatype (01.01.0001, midnight UTC) as an equivalent to the 0 value we used for the other numeric columns. After, we will convert the time-data into human-readable format."
   ],
   "metadata": {
    "collapsed": false
   },
   "id": "39dcc81cbd942706"
  },
  {
   "cell_type": "code",
   "execution_count": 54,
   "id": "85789119",
   "metadata": {
    "ExecuteTime": {
     "end_time": "2025-01-03T15:02:38.195552Z",
     "start_time": "2025-01-03T15:02:38.009676Z"
    }
   },
   "outputs": [
    {
     "ename": "ValueError",
     "evalue": "Cannot mix tz-aware with tz-naive values, at position 3756",
     "output_type": "error",
     "traceback": [
      "\u001B[0;31m---------------------------------------------------------------------------\u001B[0m",
      "\u001B[0;31mValueError\u001B[0m                                Traceback (most recent call last)",
      "Cell \u001B[0;32mIn[54], line 11\u001B[0m\n\u001B[1;32m      9\u001B[0m charging_set[\u001B[38;5;124m'\u001B[39m\u001B[38;5;124mconnectionTime\u001B[39m\u001B[38;5;124m'\u001B[39m] \u001B[38;5;241m=\u001B[39m pd\u001B[38;5;241m.\u001B[39mto_datetime(charging_set[\u001B[38;5;124m'\u001B[39m\u001B[38;5;124mconnectionTime\u001B[39m\u001B[38;5;124m'\u001B[39m])\n\u001B[1;32m     10\u001B[0m charging_set[\u001B[38;5;124m'\u001B[39m\u001B[38;5;124mdisconnectTime\u001B[39m\u001B[38;5;124m'\u001B[39m] \u001B[38;5;241m=\u001B[39m pd\u001B[38;5;241m.\u001B[39mto_datetime(charging_set[\u001B[38;5;124m'\u001B[39m\u001B[38;5;124mdisconnectTime\u001B[39m\u001B[38;5;124m'\u001B[39m])\n\u001B[0;32m---> 11\u001B[0m charging_set[\u001B[38;5;124m'\u001B[39m\u001B[38;5;124mdoneChargingTime\u001B[39m\u001B[38;5;124m'\u001B[39m] \u001B[38;5;241m=\u001B[39m \u001B[43mpd\u001B[49m\u001B[38;5;241;43m.\u001B[39;49m\u001B[43mto_datetime\u001B[49m\u001B[43m(\u001B[49m\u001B[43mcharging_set\u001B[49m\u001B[43m[\u001B[49m\u001B[38;5;124;43m'\u001B[39;49m\u001B[38;5;124;43mdoneChargingTime\u001B[39;49m\u001B[38;5;124;43m'\u001B[39;49m\u001B[43m]\u001B[49m\u001B[43m)\u001B[49m\n\u001B[1;32m     12\u001B[0m charging_set[\u001B[38;5;124m'\u001B[39m\u001B[38;5;124mmodifiedAt\u001B[39m\u001B[38;5;124m'\u001B[39m] \u001B[38;5;241m=\u001B[39m pd\u001B[38;5;241m.\u001B[39mto_datetime(charging_set[\u001B[38;5;124m'\u001B[39m\u001B[38;5;124mmodifiedAt\u001B[39m\u001B[38;5;124m'\u001B[39m])\n\u001B[1;32m     13\u001B[0m charging_set[\u001B[38;5;124m'\u001B[39m\u001B[38;5;124mrequestedDeparture\u001B[39m\u001B[38;5;124m'\u001B[39m] \u001B[38;5;241m=\u001B[39m pd\u001B[38;5;241m.\u001B[39mto_datetime(charging_set[\u001B[38;5;124m'\u001B[39m\u001B[38;5;124mrequestedDeparture\u001B[39m\u001B[38;5;124m'\u001B[39m])\n",
      "File \u001B[0;32m~/Desktop/UNI/_MASTER/semester_1/Analytics_&_Applications/GinyuForce/venv/lib/python3.9/site-packages/pandas/core/tools/datetimes.py:1067\u001B[0m, in \u001B[0;36mto_datetime\u001B[0;34m(arg, errors, dayfirst, yearfirst, utc, format, exact, unit, infer_datetime_format, origin, cache)\u001B[0m\n\u001B[1;32m   1065\u001B[0m         result \u001B[38;5;241m=\u001B[39m arg\u001B[38;5;241m.\u001B[39mmap(cache_array)\n\u001B[1;32m   1066\u001B[0m     \u001B[38;5;28;01melse\u001B[39;00m:\n\u001B[0;32m-> 1067\u001B[0m         values \u001B[38;5;241m=\u001B[39m \u001B[43mconvert_listlike\u001B[49m\u001B[43m(\u001B[49m\u001B[43marg\u001B[49m\u001B[38;5;241;43m.\u001B[39;49m\u001B[43m_values\u001B[49m\u001B[43m,\u001B[49m\u001B[43m \u001B[49m\u001B[38;5;28;43mformat\u001B[39;49m\u001B[43m)\u001B[49m\n\u001B[1;32m   1068\u001B[0m         result \u001B[38;5;241m=\u001B[39m arg\u001B[38;5;241m.\u001B[39m_constructor(values, index\u001B[38;5;241m=\u001B[39marg\u001B[38;5;241m.\u001B[39mindex, name\u001B[38;5;241m=\u001B[39marg\u001B[38;5;241m.\u001B[39mname)\n\u001B[1;32m   1069\u001B[0m \u001B[38;5;28;01melif\u001B[39;00m \u001B[38;5;28misinstance\u001B[39m(arg, (ABCDataFrame, abc\u001B[38;5;241m.\u001B[39mMutableMapping)):\n",
      "File \u001B[0;32m~/Desktop/UNI/_MASTER/semester_1/Analytics_&_Applications/GinyuForce/venv/lib/python3.9/site-packages/pandas/core/tools/datetimes.py:435\u001B[0m, in \u001B[0;36m_convert_listlike_datetimes\u001B[0;34m(arg, format, name, utc, unit, errors, dayfirst, yearfirst, exact)\u001B[0m\n\u001B[1;32m    432\u001B[0m \u001B[38;5;28;01mif\u001B[39;00m \u001B[38;5;28mformat\u001B[39m \u001B[38;5;129;01mis\u001B[39;00m \u001B[38;5;129;01mnot\u001B[39;00m \u001B[38;5;28;01mNone\u001B[39;00m \u001B[38;5;129;01mand\u001B[39;00m \u001B[38;5;28mformat\u001B[39m \u001B[38;5;241m!=\u001B[39m \u001B[38;5;124m\"\u001B[39m\u001B[38;5;124mmixed\u001B[39m\u001B[38;5;124m\"\u001B[39m:\n\u001B[1;32m    433\u001B[0m     \u001B[38;5;28;01mreturn\u001B[39;00m _array_strptime_with_fallback(arg, name, utc, \u001B[38;5;28mformat\u001B[39m, exact, errors)\n\u001B[0;32m--> 435\u001B[0m result, tz_parsed \u001B[38;5;241m=\u001B[39m \u001B[43mobjects_to_datetime64\u001B[49m\u001B[43m(\u001B[49m\n\u001B[1;32m    436\u001B[0m \u001B[43m    \u001B[49m\u001B[43marg\u001B[49m\u001B[43m,\u001B[49m\n\u001B[1;32m    437\u001B[0m \u001B[43m    \u001B[49m\u001B[43mdayfirst\u001B[49m\u001B[38;5;241;43m=\u001B[39;49m\u001B[43mdayfirst\u001B[49m\u001B[43m,\u001B[49m\n\u001B[1;32m    438\u001B[0m \u001B[43m    \u001B[49m\u001B[43myearfirst\u001B[49m\u001B[38;5;241;43m=\u001B[39;49m\u001B[43myearfirst\u001B[49m\u001B[43m,\u001B[49m\n\u001B[1;32m    439\u001B[0m \u001B[43m    \u001B[49m\u001B[43mutc\u001B[49m\u001B[38;5;241;43m=\u001B[39;49m\u001B[43mutc\u001B[49m\u001B[43m,\u001B[49m\n\u001B[1;32m    440\u001B[0m \u001B[43m    \u001B[49m\u001B[43merrors\u001B[49m\u001B[38;5;241;43m=\u001B[39;49m\u001B[43merrors\u001B[49m\u001B[43m,\u001B[49m\n\u001B[1;32m    441\u001B[0m \u001B[43m    \u001B[49m\u001B[43mallow_object\u001B[49m\u001B[38;5;241;43m=\u001B[39;49m\u001B[38;5;28;43;01mTrue\u001B[39;49;00m\u001B[43m,\u001B[49m\n\u001B[1;32m    442\u001B[0m \u001B[43m\u001B[49m\u001B[43m)\u001B[49m\n\u001B[1;32m    444\u001B[0m \u001B[38;5;28;01mif\u001B[39;00m tz_parsed \u001B[38;5;129;01mis\u001B[39;00m \u001B[38;5;129;01mnot\u001B[39;00m \u001B[38;5;28;01mNone\u001B[39;00m:\n\u001B[1;32m    445\u001B[0m     \u001B[38;5;66;03m# We can take a shortcut since the datetime64 numpy array\u001B[39;00m\n\u001B[1;32m    446\u001B[0m     \u001B[38;5;66;03m# is in UTC\u001B[39;00m\n\u001B[1;32m    447\u001B[0m     out_unit \u001B[38;5;241m=\u001B[39m np\u001B[38;5;241m.\u001B[39mdatetime_data(result\u001B[38;5;241m.\u001B[39mdtype)[\u001B[38;5;241m0\u001B[39m]\n",
      "File \u001B[0;32m~/Desktop/UNI/_MASTER/semester_1/Analytics_&_Applications/GinyuForce/venv/lib/python3.9/site-packages/pandas/core/arrays/datetimes.py:2398\u001B[0m, in \u001B[0;36mobjects_to_datetime64\u001B[0;34m(data, dayfirst, yearfirst, utc, errors, allow_object, out_unit)\u001B[0m\n\u001B[1;32m   2395\u001B[0m \u001B[38;5;66;03m# if str-dtype, convert\u001B[39;00m\n\u001B[1;32m   2396\u001B[0m data \u001B[38;5;241m=\u001B[39m np\u001B[38;5;241m.\u001B[39masarray(data, dtype\u001B[38;5;241m=\u001B[39mnp\u001B[38;5;241m.\u001B[39mobject_)\n\u001B[0;32m-> 2398\u001B[0m result, tz_parsed \u001B[38;5;241m=\u001B[39m \u001B[43mtslib\u001B[49m\u001B[38;5;241;43m.\u001B[39;49m\u001B[43marray_to_datetime\u001B[49m\u001B[43m(\u001B[49m\n\u001B[1;32m   2399\u001B[0m \u001B[43m    \u001B[49m\u001B[43mdata\u001B[49m\u001B[43m,\u001B[49m\n\u001B[1;32m   2400\u001B[0m \u001B[43m    \u001B[49m\u001B[43merrors\u001B[49m\u001B[38;5;241;43m=\u001B[39;49m\u001B[43merrors\u001B[49m\u001B[43m,\u001B[49m\n\u001B[1;32m   2401\u001B[0m \u001B[43m    \u001B[49m\u001B[43mutc\u001B[49m\u001B[38;5;241;43m=\u001B[39;49m\u001B[43mutc\u001B[49m\u001B[43m,\u001B[49m\n\u001B[1;32m   2402\u001B[0m \u001B[43m    \u001B[49m\u001B[43mdayfirst\u001B[49m\u001B[38;5;241;43m=\u001B[39;49m\u001B[43mdayfirst\u001B[49m\u001B[43m,\u001B[49m\n\u001B[1;32m   2403\u001B[0m \u001B[43m    \u001B[49m\u001B[43myearfirst\u001B[49m\u001B[38;5;241;43m=\u001B[39;49m\u001B[43myearfirst\u001B[49m\u001B[43m,\u001B[49m\n\u001B[1;32m   2404\u001B[0m \u001B[43m    \u001B[49m\u001B[43mcreso\u001B[49m\u001B[38;5;241;43m=\u001B[39;49m\u001B[43mabbrev_to_npy_unit\u001B[49m\u001B[43m(\u001B[49m\u001B[43mout_unit\u001B[49m\u001B[43m)\u001B[49m\u001B[43m,\u001B[49m\n\u001B[1;32m   2405\u001B[0m \u001B[43m\u001B[49m\u001B[43m)\u001B[49m\n\u001B[1;32m   2407\u001B[0m \u001B[38;5;28;01mif\u001B[39;00m tz_parsed \u001B[38;5;129;01mis\u001B[39;00m \u001B[38;5;129;01mnot\u001B[39;00m \u001B[38;5;28;01mNone\u001B[39;00m:\n\u001B[1;32m   2408\u001B[0m     \u001B[38;5;66;03m# We can take a shortcut since the datetime64 numpy array\u001B[39;00m\n\u001B[1;32m   2409\u001B[0m     \u001B[38;5;66;03m#  is in UTC\u001B[39;00m\n\u001B[1;32m   2410\u001B[0m     \u001B[38;5;28;01mreturn\u001B[39;00m result, tz_parsed\n",
      "File \u001B[0;32mtslib.pyx:414\u001B[0m, in \u001B[0;36mpandas._libs.tslib.array_to_datetime\u001B[0;34m()\u001B[0m\n",
      "File \u001B[0;32mtslib.pyx:596\u001B[0m, in \u001B[0;36mpandas._libs.tslib.array_to_datetime\u001B[0;34m()\u001B[0m\n",
      "File \u001B[0;32mtslib.pyx:504\u001B[0m, in \u001B[0;36mpandas._libs.tslib.array_to_datetime\u001B[0;34m()\u001B[0m\n",
      "File \u001B[0;32mstrptime.pyx:292\u001B[0m, in \u001B[0;36mpandas._libs.tslibs.strptime.DatetimeParseState.process_datetime\u001B[0;34m()\u001B[0m\n",
      "\u001B[0;31mValueError\u001B[0m: Cannot mix tz-aware with tz-naive values, at position 3756"
     ]
    }
   ],
   "source": [
    "# fill NaN-values with 01.01.1970, midnight UTC\n",
    "na_placeholder = dt.datetime(1970, 1, 1, 0, 0, tzinfo=dt.timezone.utc)\n",
    "# store time-data columns that need cleaning of Na-values in list\n",
    "time_data_columns = [\"doneChargingTime\", \"modifiedAt\", \"requestedDeparture\"]\n",
    "# replace Na-values with placeholder\n",
    "charging_set[time_data_columns] = charging_set[time_data_columns].fillna(na_placeholder)\n",
    "\n",
    "# convert time-data in correct datatype\n",
    "charging_set['connectionTime'] = pd.to_datetime(charging_set['connectionTime'])\n",
    "charging_set['disconnectTime'] = pd.to_datetime(charging_set['disconnectTime'])\n",
    "charging_set['doneChargingTime'] = pd.to_datetime(charging_set['doneChargingTime'])\n",
    "charging_set['modifiedAt'] = pd.to_datetime(charging_set['modifiedAt'])\n",
    "charging_set['requestedDeparture'] = pd.to_datetime(charging_set['requestedDeparture'])\n",
    "\n",
    "charging_set['connectionTime_year'] = charging_set['connectionTime'].dt.year\n",
    "charging_set['connectionTime_month'] = charging_set['connectionTime'].dt.month\n",
    "charging_set['connectionTime_day'] = charging_set['connectionTime'].dt.day\n",
    "charging_set['connectionTime_time'] = charging_set['connectionTime'].dt.time\n",
    "charging_set['connectionTime_weekday'] = charging_set['connectionTime_day'].dt.weekday\n",
    "\n",
    "charging_set['disconnectTime_year'] = charging_set['disconnectTime'].dt.year\n",
    "charging_set['disconnectTime_month'] = charging_set['disconnectTime'].dt.month\n",
    "charging_set['disconnectTime_day'] = charging_set['disconnectTime'].dt.day\n",
    "charging_set['disconnectTime_time'] = charging_set['disconnectTime'].dt.time\n",
    "charging_set['disconnectTime_weekday'] = charging_set['disconnectTime_day'].dt.weekday\n",
    "\n",
    "charging_set['doneChargingTime_year'] = charging_set['doneChargingTime'].dt.year\n",
    "charging_set['doneChargingTime_month'] = charging_set['doneChargingTime'].dt.month\n",
    "charging_set['doneChargingTime_day'] = charging_set['doneChargingTime'].dt.day\n",
    "charging_set['doneChargingTime_time'] = charging_set['doneChargingTime'].dt.time\n",
    "charging_set['doneChargingTime_weekday'] = charging_set['doneChargingTime_day'].dt.weekday\n",
    "\n",
    "charging_set['modifiedAt_year'] = charging_set['modifiedAt'].dt.year\n",
    "charging_set['modifiedAt_month'] = charging_set['modifiedAt'].dt.month\n",
    "charging_set['modifiedAt_day'] = charging_set['modifiedAt'].dt.day\n",
    "charging_set['modifiedAt_time'] = charging_set['modifiedAt'].dt.time\n",
    "charging_set['modifiedAt_weekday'] = charging_set['modifiedAt_day'].dt.weekday\n",
    "\n",
    "charging_set['requestedDeparture_year'] = charging_set['requestedDeparture'].dt.year\n",
    "charging_set['requestedDeparture_month'] = charging_set['requestedDeparture'].dt.month\n",
    "charging_set['requestedDeparture_day'] = charging_set['requestedDeparture'].dt.day\n",
    "charging_set['requestedDeparture_time'] = charging_set['requestedDeparture'].dt.time\n",
    "charging_set['requestedDeparture_weekday'] = charging_set['requestedDeparture_day'].dt.weekday\n",
    "\n",
    "# remove original columns\n",
    "charging_set = charging_set.drop(columns=['modifiedAt', 'requestedDeparture', 'connectionTime', 'disconnectTime', 'doneChargingTime', 'modifiedAt', 'requestedDeparture'])"
   ]
  },
  {
   "cell_type": "code",
   "execution_count": 14,
   "id": "87a34429",
   "metadata": {
    "ExecuteTime": {
     "end_time": "2024-12-25T16:14:45.497082Z",
     "start_time": "2024-12-25T16:14:45.089201Z"
    }
   },
   "outputs": [],
   "source": [
    "def calculate_hours():\n",
    "    # Berechne die Ladezeit als Differenz zwischen disconnectTime und connectionTime\n",
    "    charging_set[\"chargingDurationTemp\"] = charging_set[\"disconnectTime\"] - charging_set[\"connectionTime\"]\n",
    "    \n",
    "    # Konvertiere die Differenz in Stunden\n",
    "    charging_set['chargingDuration'] = charging_set[\"chargingDurationTemp\"].apply(\n",
    "        lambda x: x.total_seconds() / 3600\n",
    "    )\n",
    "    \n",
    "    # Entferne die temporäre Spalte\n",
    "    charging_set.drop(columns=[\"chargingDurationTemp\"], inplace=True)\n",
    "    \n",
    "    return charging_set\n",
    "\n",
    "# Aufruf der Funktion\n",
    "charging_set = calculate_hours()"
   ]
  },
  {
   "cell_type": "code",
   "execution_count": 15,
   "id": "cc63cb18",
   "metadata": {
    "ExecuteTime": {
     "end_time": "2024-12-25T16:14:46.864342Z",
     "start_time": "2024-12-25T16:14:46.815657Z"
    }
   },
   "outputs": [],
   "source": [
    "# clean \"connectionTime\", \"disconnectTime\", \"doneChargingTime\" from dataframe\n",
    "charging_set = charging_set.drop(columns=[\"connectionTime\", \"disconnectTime\", \"doneChargingTime\"])"
   ]
  },
  {
   "cell_type": "code",
   "outputs": [],
   "source": [
    "### check data types of each column\n",
    "# Find the unique types\n",
    "# TODO: add userInputs columns into here\n",
    "id_types = charging_set[\"id\"].apply(type).unique()\n",
    "connectionTime_types = charging_set[\"connectionTime\"].apply(type).unique()\n",
    "disconnectTime_types = charging_set[\"disconnectTime\"].apply(type).unique()\n",
    "doneChargingTime_types = charging_set[\"doneChargingTime\"].apply(type).unique()\n",
    "kWhDelivered_types = charging_set[\"kWhDelivered\"].apply(type).unique()\n",
    "siteID_types = charging_set[\"siteID\"].apply(type).unique()\n",
    "spaceID_types = charging_set[\"spaceID\"].apply(type).unique()\n",
    "stationID_types = charging_set[\"stationID\"].apply(type).unique()\n",
    "timezone_types = charging_set[\"timezone\"].apply(type).unique()\n",
    "userID_types = charging_set[\"userID\"].apply(type).unique()\n",
    "\n",
    "# Print the unique types\n",
    "print(\"id types:\", id_types)\n",
    "print(\"connectionTime types:\", connectionTime_types)\n",
    "print(\"disconnectTime types:\", disconnectTime_types)\n",
    "print(\"doneChargingTime types:\", doneChargingTime_types)\n",
    "print(\"kWhDelivered types:\", kWhDelivered_types)\n",
    "print(\"siteID types:\", siteID_types)\n",
    "print(\"spaceID types:\", spaceID_types)\n",
    "print(\"stationID types:\", stationID_types)\n",
    "print(\"timezone types:\", timezone_types)\n",
    "print(\"userID types:\", userID_types)"
   ],
   "metadata": {
    "collapsed": false
   },
   "id": "87e94dbe4d0f4acd"
  },
  {
   "cell_type": "code",
   "outputs": [
    {
     "name": "stdout",
     "output_type": "stream",
     "text": [
      "Column 'kWhDelivered': min=0.501, max=108.79724166666666\n",
      "Column 'siteID': min=1, max=2\n",
      "Column 'WhPerMile': min=0.0, max=2000.0\n",
      "Column 'kWhRequested': min=-1.0, max=215.32\n",
      "Column 'milesRequested': min=-1.0, max=775.0\n",
      "Column 'minutesAvailable': min=0.0, max=10062.0\n",
      "Column 'isRegistered': min=1, max=1\n",
      "Column 'id': unique values=['5e23b149f9af8b5fe4b973cf' '5e23b149f9af8b5fe4b973d0'\n",
      " '5e23b149f9af8b5fe4b973d1' ... '5d2fbdd3f9af8b4d0dd0d54c'\n",
      " '5d2fbdd3f9af8b4d0dd0d54d' '5d2fbdd3f9af8b4d0dd0d54e']\n",
      "Column 'connectionTime': unique values=<DatetimeArray>\n",
      "['2020-01-02 13:08:54+00:00', '2020-01-02 13:36:50+00:00',\n",
      " '2020-01-02 13:56:35+00:00', '2020-01-02 13:59:58+00:00',\n",
      " '2020-01-02 14:00:01+00:00', '2020-01-02 14:00:13+00:00',\n",
      " '2020-01-02 14:09:14+00:00', '2020-01-02 14:17:32+00:00',\n",
      " '2020-01-02 14:25:38+00:00', '2020-01-02 14:27:40+00:00',\n",
      " ...\n",
      " '2019-07-01 19:17:16+00:00', '2019-07-01 19:20:31+00:00',\n",
      " '2019-07-01 19:43:46+00:00', '2019-07-01 20:01:07+00:00',\n",
      " '2019-07-01 20:34:30+00:00', '2019-07-01 21:49:12+00:00',\n",
      " '2019-07-01 21:58:45+00:00', '2019-07-01 22:02:21+00:00',\n",
      " '2019-07-01 22:23:44+00:00', '2019-07-01 22:36:08+00:00']\n",
      "Length: 64839, dtype: datetime64[ns, UTC]\n",
      "Column 'disconnectTime': unique values=<DatetimeArray>\n",
      "['2020-01-02 19:11:15+00:00', '2020-01-02 22:38:21+00:00',\n",
      " '2020-01-03 00:39:22+00:00', '2020-01-02 16:38:39+00:00',\n",
      " '2020-01-02 22:08:40+00:00', '2020-01-02 23:00:41+00:00',\n",
      " '2020-01-03 01:57:58+00:00', '2020-01-03 00:44:54+00:00',\n",
      " '2020-01-02 19:36:05+00:00', '2020-01-02 20:01:48+00:00',\n",
      " ...\n",
      " '2019-07-02 00:41:27+00:00', '2019-07-02 00:16:32+00:00',\n",
      " '2019-07-02 02:58:53+00:00', '2019-07-02 00:32:26+00:00',\n",
      " '2019-07-02 00:30:52+00:00', '2019-07-02 01:37:18+00:00',\n",
      " '2019-07-02 00:39:48+00:00', '2019-07-02 00:58:50+00:00',\n",
      " '2019-07-02 02:03:36+00:00', '2019-07-02 01:10:52+00:00']\n",
      "Length: 64906, dtype: datetime64[ns, UTC]\n",
      "Column 'doneChargingTime': unique values=[Timestamp('2020-01-02 17:31:35+0000', tz='UTC')\n",
      " Timestamp('2020-01-02 20:18:05+0000', tz='UTC')\n",
      " Timestamp('2020-01-02 16:35:06+0000', tz='UTC') ...\n",
      " Timestamp('2019-07-02 00:59:23+0000', tz='UTC')\n",
      " Timestamp('2019-07-02 02:04:06+0000', tz='UTC')\n",
      " Timestamp('2019-07-02 00:24:32+0000', tz='UTC')]\n",
      "Column 'spaceID': unique values=['AG-3F30' 'AG-1F01' 'AG-1F03' 'AG-1F04' 'AG-1F06' 'AG-1F13' 'AG-1F09'\n",
      " 'AG-4F34' 'AG-1F11' 'AG-1F08' 'AG-3F22' 'AG-1F14' 'AG-1F07' 'AG-1F12'\n",
      " 'AG-3F29' 'AG-1F05' 'AG-3F18' 'AG-1F10' 'AG-3F16' 'AG-4F37' 'AG-1F02'\n",
      " 'AG-3F28' 'AG-3F25' 'AG-3F24' 'AG-3F33' 'AG-3F23' 'AG-3F31' 'AG-3F32'\n",
      " 'AG-3F27' 'AG-3F26' 'AG-3F20' 'AG-3F17' 'AG-3F21' 'AG-3F19' 'AG-4F44'\n",
      " 'AG-4F52' 'AG-4F41' 'AG-4F48' 'AG-4F35' 'AG-4F50' 'AG-3F15' 'AG-4F51'\n",
      " 'AG-4F47' 'AG-4F46' 'AG-4F49' 'AG-4F43' 'AG-4F42' 'AG-4F45' 'AG-4F36'\n",
      " 'AG-4F38' 'AG-4F40' 'AG-4F39' 'CA-512' 'CA-327' 'CA-326' 'CA-303'\n",
      " 'CA-325' 'CA-311' 'CA-309' 'CA-491' 'CA-493' 'CA-499' 'CA-323' 'CA-313'\n",
      " 'CA-324' 'CA-513' 'CA-305' 'CA-317' 'CA-510' 'CA-315' 'CA-321' 'CA-490'\n",
      " 'CA-497' 'CA-489' 'CA-319' 'CA-492' 'CA-494' 'CA-502' 'CA-500' 'CA-495'\n",
      " 'CA-498' 'CA-304' 'CA-307' 'CA-306' 'CA-501' 'CA-318' 'CA-308' 'CA-316'\n",
      " 'CA-312' 'CA-320' 'CA-212' 'CA-508' 'CA-322' 'CA-314' 'CA-503' 'CA-504'\n",
      " 'CA-496' 'CA-310' 'CA-506' 'CA-149' 'CA-509' 'CA-507' 'CA-511' 'CA-213'\n",
      " 'CA-505' 'CA-148' '11900388']\n",
      "Column 'stationID': unique values=['1-1-179-810' '1-1-193-825' '1-1-193-829' '1-1-193-820' '1-1-193-819'\n",
      " '1-1-194-821' '1-1-178-817' '1-1-191-804' '1-1-194-826' '1-1-178-823'\n",
      " '1-1-179-788' '1-1-194-818' '1-1-178-824' '1-1-194-822' '1-1-179-783'\n",
      " '1-1-193-816' '1-1-179-798' '1-1-178-828' '1-1-179-787' '1-1-191-792'\n",
      " '1-1-193-827' '1-1-179-777' '1-1-179-799' '1-1-179-796' '1-1-179-815'\n",
      " '1-1-179-797' '1-1-179-781' '1-1-179-800' '1-1-179-809' '1-1-179-791'\n",
      " '1-1-179-794' '1-1-179-779' '1-1-179-801' '1-1-179-790' '1-1-191-802'\n",
      " '1-1-191-789' '1-1-191-806' '1-1-191-785' '1-1-191-808' '1-1-191-782'\n",
      " '1-1-179-813' '1-1-191-795' '1-1-191-807' '1-1-191-812' '1-1-191-803'\n",
      " '1-1-191-778' '1-1-191-811' '1-1-191-780' '1-1-191-786' '1-1-191-793'\n",
      " '1-1-191-784' '1-1-191-805' '2-39-138-566' '2-39-79-379' '2-39-79-378'\n",
      " '2-39-139-28' '2-39-79-377' '2-39-125-21' '2-39-127-19' '2-39-79-382'\n",
      " '2-39-78-361' '2-39-91-441' '2-39-78-366' '2-39-123-23' '2-39-79-376'\n",
      " '2-39-139-567' '2-39-131-30' '2-39-91-437' '2-39-130-564' '2-39-89-25'\n",
      " '2-39-78-365' '2-39-79-381' '2-39-95-444' '2-39-79-380' '2-39-95-27'\n",
      " '2-39-79-383' '2-39-78-367' '2-39-88-438' '2-39-90-440' '2-39-78-364'\n",
      " '2-39-92-442' '2-39-138-29' '2-39-129-17' '2-39-130-31' '2-39-89-439'\n",
      " '2-39-92-436' '2-39-128-18' '2-39-90-26' '2-39-124-22' '2-39-78-363'\n",
      " '2-39-83-386' '2-39-128-562' '2-39-78-360' '2-39-88-24' '2-39-123-557'\n",
      " '2-39-124-558' '2-39-78-362' '2-39-126-20' '2-39-126-560' '2-39-83-387'\n",
      " '2-39-129-563' '2-39-127-561' '2-39-131-565' '2-39-82-384' '2-39-125-559'\n",
      " '2-39-82-385' '2-39-81-4550']\n",
      "Column 'timezone': unique values=['America/Los_Angeles']\n",
      "Column 'modifiedAt': unique values=['Thu, 02 Jan 2020 13:09:39 GMT' 'Thu, 02 Jan 2020 13:37:11 GMT'\n",
      " 'Thu, 02 Jan 2020 13:57:17 GMT' ... 'Mon, 01 Jul 2019 22:02:37 GMT'\n",
      " 'Mon, 01 Jul 2019 22:23:43 GMT' 'Mon, 01 Jul 2019 22:36:08 GMT']\n",
      "Column 'paymentRequired': unique values=[True 0]\n",
      "Column 'requestedDeparture': unique values=['Thu, 02 Jan 2020 20:51:54 GMT' 'Thu, 02 Jan 2020 23:31:50 GMT'\n",
      " 'Thu, 02 Jan 2020 14:56:35 GMT' ... 'Tue, 02 Jul 2019 03:11:21 GMT'\n",
      " 'Tue, 02 Jul 2019 00:02:44 GMT' 'Tue, 02 Jul 2019 01:47:08 GMT']\n"
     ]
    }
   ],
   "source": [
    "# Check ranges of numeric columns\n",
    "numeric_columns = charging_set.select_dtypes(include=[np.number])\n",
    "for col in numeric_columns.columns:\n",
    "    print(f\"Column '{col}': min={numeric_columns[col].min()}, max={numeric_columns[col].max()}\")\n",
    "\n",
    "# Check unique values of categorical columns\n",
    "categorical_columns = charging_set.select_dtypes(exclude=[np.number])\n",
    "for col in categorical_columns.columns:\n",
    "    print(f\"Column '{col}': unique values={categorical_columns[col].unique()}\")"
   ],
   "metadata": {
    "collapsed": false,
    "ExecuteTime": {
     "end_time": "2025-01-03T15:09:15.140134Z",
     "start_time": "2025-01-03T15:09:14.951530Z"
    }
   },
   "id": "a37657251736f5",
   "execution_count": 55
  },
  {
   "cell_type": "markdown",
   "source": [
    "The timezone column only has one value: \"\". Hence, we can remove it since it does not bring any new information to the analysis."
   ],
   "metadata": {
    "collapsed": false
   },
   "id": "ef9ee008252ccb19"
  },
  {
   "cell_type": "code",
   "outputs": [],
   "source": [
    "charging_set.drop('timezone', axis=1, inplace=True)\n",
    "charging_set.head(3)"
   ],
   "metadata": {
    "collapsed": false
   },
   "id": "91c99844557ed410"
  },
  {
   "cell_type": "code",
   "outputs": [
    {
     "name": "stdout",
     "output_type": "stream",
     "text": [
      "id: 5bc93eacf9af8b0dc677dcb4\n",
      "kWhDelivered: 13.196\n",
      "siteID: 2\n",
      "spaceID: CA-323\n",
      "stationID: 2-39-78-366\n",
      "userID: nan\n",
      "WhPerMile: nan\n",
      "kWhRequested: nan\n",
      "milesRequested: nan\n",
      "minutesAvailable: nan\n",
      "modifiedAt: NaT\n",
      "paymentRequired: None\n",
      "requestedDeparture: NaT\n",
      "connectionTime_date: 2018-09-20 00:00:00\n",
      "connectionTime_time: 00:41:03\n",
      "disconnectTime_date: 2018-09-20 00:00:00\n",
      "disconnectTime_time: 13:04:07\n",
      "doneChargingTime_date: 2018-09-20 00:00:00\n",
      "doneChargingTime_time: 06:06:37\n",
      "modifiedAt_date: NaT\n",
      "modifiedAt_time: NaT\n",
      "requestedDeparture_date: NaT\n",
      "requestedDeparture_time: NaT\n",
      "connectionTime_year: 2018\n",
      "connectionTime_month: 9\n",
      "connectionTime_day: 20\n",
      "disconnectTime_year: 2018\n",
      "disconnectTime_month: 9\n",
      "disconnectTime_day: 20\n",
      "doneChargingTime_year: 2018.0\n",
      "doneChargingTime_month: 9.0\n",
      "doneChargingTime_day: 20.0\n",
      "modifiedAt_year: nan\n",
      "modifiedAt_month: nan\n",
      "modifiedAt_day: nan\n",
      "requestedDeparture_year: nan\n",
      "requestedDeparture_month: nan\n",
      "requestedDeparture_day: nan\n",
      "chargingDuration: 12.384444444444444\n",
      "UserID: 0\n"
     ]
    }
   ],
   "source": [
    "random_entry = charging_set.sample(n=1).iloc[0]\n",
    "\n",
    "# Zellenwerte einzeln ausgeben\n",
    "for column_name, value in random_entry.items():\n",
    "    print(f\"{column_name}: {value}\")"
   ],
   "metadata": {
    "collapsed": false
   },
   "id": "35d27afa",
   "execution_count": 22
  },
  {
   "cell_type": "code",
   "execution_count": 23,
   "id": "41049169",
   "metadata": {},
   "outputs": [],
   "source": [
    "charging_set = charging_set.drop(columns=['modifiedAt', 'requestedDeparture', 'connectionTime_date', 'disconnectTime_date', 'doneChargingTime_date', 'modifiedAt_date', 'requestedDeparture_date'])"
   ]
  },
  {
   "cell_type": "code",
   "execution_count": 24,
   "id": "f3082a89",
   "metadata": {},
   "outputs": [
    {
     "name": "stdout",
     "output_type": "stream",
     "text": [
      "id: 5d4b6d54f9af8b256a1e0d1b\n",
      "kWhDelivered: 9.957\n",
      "siteID: 1\n",
      "spaceID: AG-3F15\n",
      "stationID: 1-1-179-813\n",
      "userID: 1461.0\n",
      "WhPerMile: 600.0\n",
      "kWhRequested: 48.0\n",
      "milesRequested: 80.0\n",
      "minutesAvailable: 419.0\n",
      "paymentRequired: True\n",
      "connectionTime_time: 13:49:28\n",
      "disconnectTime_time: 23:06:49\n",
      "doneChargingTime_time: 16:20:22\n",
      "modifiedAt_time: 00:00:00\n",
      "requestedDeparture_time: 20:48:28\n",
      "connectionTime_year: 2019\n",
      "connectionTime_month: 7\n",
      "connectionTime_day: 22\n",
      "disconnectTime_year: 2019\n",
      "disconnectTime_month: 7\n",
      "disconnectTime_day: 22\n",
      "doneChargingTime_year: 2019.0\n",
      "doneChargingTime_month: 7.0\n",
      "doneChargingTime_day: 22.0\n",
      "modifiedAt_year: 2019.0\n",
      "modifiedAt_month: 7.0\n",
      "modifiedAt_day: 22.0\n",
      "requestedDeparture_year: 2019.0\n",
      "requestedDeparture_month: 7.0\n",
      "requestedDeparture_day: 22.0\n",
      "chargingDuration: 9.289166666666667\n",
      "UserID: 1\n"
     ]
    }
   ],
   "source": [
    "random_entry = charging_set.sample(n=1).iloc[0]\n",
    "\n",
    "# Zellenwerte einzeln ausgeben\n",
    "for column_name, value in random_entry.items():\n",
    "    print(f\"{column_name}: {value}\")"
   ]
  },
  {
   "cell_type": "code",
   "execution_count": 25,
   "id": "4f2c77bc9787c1ce",
   "metadata": {
    "collapsed": false
   },
   "outputs": [],
   "source": [
    "# charging_set.to_csv('data/cleaned_charging_set.csv', index=False)"
   ]
  }
 ],
 "metadata": {
  "kernelspec": {
   "display_name": "Python 3",
   "language": "python",
   "name": "python3"
  },
  "language_info": {
   "codemirror_mode": {
    "name": "ipython",
    "version": 3
   },
   "file_extension": ".py",
   "mimetype": "text/x-python",
   "name": "python",
   "nbconvert_exporter": "python",
   "pygments_lexer": "ipython3",
   "version": "3.9.5"
  }
 },
 "nbformat": 4,
 "nbformat_minor": 5
}
