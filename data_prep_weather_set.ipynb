{
 "cells": [
  {
   "cell_type": "code",
   "execution_count": 39,
   "id": "initial_id",
   "metadata": {
    "collapsed": true,
    "ExecuteTime": {
     "end_time": "2024-12-31T08:38:07.673987Z",
     "start_time": "2024-12-31T08:38:07.656160Z"
    }
   },
   "outputs": [],
   "source": [
    "import numpy as np\n",
    "import pandas as pd\n",
    "import datetime as dt\n",
    "import warnings\n",
    "warnings.filterwarnings('ignore')\n",
    "\n",
    "import matplotlib as mpl\n",
    "import matplotlib.pyplot as plt\n",
    "import seaborn as sns\n",
    "\n",
    "import sklearn\n",
    "import warnings\n",
    "from sklearn.linear_model import LinearRegression\n",
    "from sklearn import linear_model\n",
    "from sklearn.model_selection import train_test_split \n",
    "\n",
    "from sklearn.metrics import mean_squared_error, mean_absolute_error, r2_score"
   ]
  },
  {
   "cell_type": "code",
   "execution_count": 40,
   "id": "af7687d4",
   "metadata": {
    "ExecuteTime": {
     "end_time": "2024-12-31T08:38:09.116854Z",
     "start_time": "2024-12-31T08:38:09.038552Z"
    }
   },
   "outputs": [],
   "source": [
    "weather_set = pd.read_csv(\"data/weather_burbank_airport.csv\")"
   ]
  },
  {
   "cell_type": "code",
   "execution_count": 41,
   "id": "65c535bf9a7046c4",
   "metadata": {
    "collapsed": false,
    "ExecuteTime": {
     "end_time": "2024-12-31T08:38:10.662312Z",
     "start_time": "2024-12-31T08:38:10.648925Z"
    }
   },
   "outputs": [
    {
     "data": {
      "text/plain": "          city            timestamp  temperature  cloud_cover  \\\n0      Burbank  2018-01-01 08:53:00          9.0         33.0   \n1      Burbank  2018-01-01 09:53:00          9.0         33.0   \n2      Burbank  2018-01-01 10:53:00          9.0         21.0   \n3      Burbank  2018-01-01 11:53:00          9.0         29.0   \n4      Burbank  2018-01-01 12:53:00          8.0         33.0   \n...        ...                  ...          ...          ...   \n29239  Burbank  2021-01-01 03:53:00         13.0         33.0   \n29240  Burbank  2021-01-01 04:53:00         12.0         33.0   \n29241  Burbank  2021-01-01 05:53:00         12.0         33.0   \n29242  Burbank  2021-01-01 06:53:00         11.0         33.0   \n29243  Burbank  2021-01-01 07:53:00         10.0         33.0   \n\n      cloud_cover_description  pressure  windspeed  precipitation  \\\n0                        Fair    991.75        9.0            0.0   \n1                        Fair    992.08        0.0            0.0   \n2                        Haze    992.08        0.0            0.0   \n3               Partly Cloudy    992.08        0.0            0.0   \n4                        Fair    992.08        0.0            0.0   \n...                       ...       ...        ...            ...   \n29239                    Fair    986.81        0.0            0.0   \n29240                    Fair    986.81       11.0            0.0   \n29241                    Fair    987.47        9.0            0.0   \n29242                    Fair    987.14       13.0            0.0   \n29243                    Fair    987.80        6.0            0.0   \n\n       felt_temperature  \n0                   8.0  \n1                   9.0  \n2                   9.0  \n3                   9.0  \n4                   8.0  \n...                 ...  \n29239              13.0  \n29240              12.0  \n29241              12.0  \n29242              11.0  \n29243              10.0  \n\n[29244 rows x 9 columns]",
      "text/html": "<div>\n<style scoped>\n    .dataframe tbody tr th:only-of-type {\n        vertical-align: middle;\n    }\n\n    .dataframe tbody tr th {\n        vertical-align: top;\n    }\n\n    .dataframe thead th {\n        text-align: right;\n    }\n</style>\n<table border=\"1\" class=\"dataframe\">\n  <thead>\n    <tr style=\"text-align: right;\">\n      <th></th>\n      <th>city</th>\n      <th>timestamp</th>\n      <th>temperature</th>\n      <th>cloud_cover</th>\n      <th>cloud_cover_description</th>\n      <th>pressure</th>\n      <th>windspeed</th>\n      <th>precipitation</th>\n      <th>felt_temperature</th>\n    </tr>\n  </thead>\n  <tbody>\n    <tr>\n      <th>0</th>\n      <td>Burbank</td>\n      <td>2018-01-01 08:53:00</td>\n      <td>9.0</td>\n      <td>33.0</td>\n      <td>Fair</td>\n      <td>991.75</td>\n      <td>9.0</td>\n      <td>0.0</td>\n      <td>8.0</td>\n    </tr>\n    <tr>\n      <th>1</th>\n      <td>Burbank</td>\n      <td>2018-01-01 09:53:00</td>\n      <td>9.0</td>\n      <td>33.0</td>\n      <td>Fair</td>\n      <td>992.08</td>\n      <td>0.0</td>\n      <td>0.0</td>\n      <td>9.0</td>\n    </tr>\n    <tr>\n      <th>2</th>\n      <td>Burbank</td>\n      <td>2018-01-01 10:53:00</td>\n      <td>9.0</td>\n      <td>21.0</td>\n      <td>Haze</td>\n      <td>992.08</td>\n      <td>0.0</td>\n      <td>0.0</td>\n      <td>9.0</td>\n    </tr>\n    <tr>\n      <th>3</th>\n      <td>Burbank</td>\n      <td>2018-01-01 11:53:00</td>\n      <td>9.0</td>\n      <td>29.0</td>\n      <td>Partly Cloudy</td>\n      <td>992.08</td>\n      <td>0.0</td>\n      <td>0.0</td>\n      <td>9.0</td>\n    </tr>\n    <tr>\n      <th>4</th>\n      <td>Burbank</td>\n      <td>2018-01-01 12:53:00</td>\n      <td>8.0</td>\n      <td>33.0</td>\n      <td>Fair</td>\n      <td>992.08</td>\n      <td>0.0</td>\n      <td>0.0</td>\n      <td>8.0</td>\n    </tr>\n    <tr>\n      <th>...</th>\n      <td>...</td>\n      <td>...</td>\n      <td>...</td>\n      <td>...</td>\n      <td>...</td>\n      <td>...</td>\n      <td>...</td>\n      <td>...</td>\n      <td>...</td>\n    </tr>\n    <tr>\n      <th>29239</th>\n      <td>Burbank</td>\n      <td>2021-01-01 03:53:00</td>\n      <td>13.0</td>\n      <td>33.0</td>\n      <td>Fair</td>\n      <td>986.81</td>\n      <td>0.0</td>\n      <td>0.0</td>\n      <td>13.0</td>\n    </tr>\n    <tr>\n      <th>29240</th>\n      <td>Burbank</td>\n      <td>2021-01-01 04:53:00</td>\n      <td>12.0</td>\n      <td>33.0</td>\n      <td>Fair</td>\n      <td>986.81</td>\n      <td>11.0</td>\n      <td>0.0</td>\n      <td>12.0</td>\n    </tr>\n    <tr>\n      <th>29241</th>\n      <td>Burbank</td>\n      <td>2021-01-01 05:53:00</td>\n      <td>12.0</td>\n      <td>33.0</td>\n      <td>Fair</td>\n      <td>987.47</td>\n      <td>9.0</td>\n      <td>0.0</td>\n      <td>12.0</td>\n    </tr>\n    <tr>\n      <th>29242</th>\n      <td>Burbank</td>\n      <td>2021-01-01 06:53:00</td>\n      <td>11.0</td>\n      <td>33.0</td>\n      <td>Fair</td>\n      <td>987.14</td>\n      <td>13.0</td>\n      <td>0.0</td>\n      <td>11.0</td>\n    </tr>\n    <tr>\n      <th>29243</th>\n      <td>Burbank</td>\n      <td>2021-01-01 07:53:00</td>\n      <td>10.0</td>\n      <td>33.0</td>\n      <td>Fair</td>\n      <td>987.80</td>\n      <td>6.0</td>\n      <td>0.0</td>\n      <td>10.0</td>\n    </tr>\n  </tbody>\n</table>\n<p>29244 rows × 9 columns</p>\n</div>"
     },
     "execution_count": 41,
     "metadata": {},
     "output_type": "execute_result"
    }
   ],
   "source": [
    "weather_set"
   ]
  },
  {
   "cell_type": "code",
   "execution_count": 42,
   "id": "e132b2aa",
   "metadata": {
    "ExecuteTime": {
     "end_time": "2024-12-31T08:38:13.255648Z",
     "start_time": "2024-12-31T08:38:13.224921Z"
    }
   },
   "outputs": [
    {
     "name": "stdout",
     "output_type": "stream",
     "text": [
      "sum of duplicates: 0\n"
     ]
    }
   ],
   "source": [
    "# check for duplicates\n",
    "duplicate_counter = weather_set.duplicated().sum()\n",
    "# duplicates = weather_set[weather_set.duplicated()]\n",
    "print(\"sum of duplicates:\", duplicate_counter)"
   ]
  },
  {
   "cell_type": "code",
   "outputs": [
    {
     "name": "stdout",
     "output_type": "stream",
     "text": [
      "Feature: windspeed, Count of NaN-Values: 86\n",
      "Feature: felt_temperature, Count of NaN-Values: 26\n",
      "Feature: temperature, Count of NaN-Values: 25\n",
      "Feature: cloud_cover_description, Count of NaN-Values: 20\n",
      "Feature: cloud_cover, Count of NaN-Values: 20\n",
      "Feature: pressure, Count of NaN-Values: 8\n",
      "Feature: city, Count of NaN-Values: 0\n",
      "Feature: timestamp, Count of NaN-Values: 0\n",
      "Feature: precipitation, Count of NaN-Values: 0\n"
     ]
    }
   ],
   "source": [
    "# check for none-values\n",
    "nan_counts = weather_set.isna().sum()\n",
    "nan_counts_sorted = nan_counts.sort_values(ascending=False)\n",
    "\n",
    "for column, count in nan_counts_sorted.items():\n",
    "    print(f\"Feature: {column}, Count of NaN-Values: {count}\")"
   ],
   "metadata": {
    "collapsed": false,
    "ExecuteTime": {
     "end_time": "2024-12-31T08:38:15.525052Z",
     "start_time": "2024-12-31T08:38:15.498858Z"
    }
   },
   "id": "457f921077565550",
   "execution_count": 43
  },
  {
   "cell_type": "markdown",
   "source": [
    "-> Idee: NaN Werte mit dem Durchschnitt oder \"Randoms\" die den Durchschnitt ergeben auffüllen -> verlieren keine Rows\n",
    "-> Ich würde alle Na-rows rausschmeißen, es handelt sich hier bei um 139 rows von insgesamt knapp 30.000, außerdem war das Hauptargument bei dem charging_set, dass wir die Na-Werte auffüllen bei den userInputs damit wir den rest der spalten nicht verlieren, da wir die gesondert in einer Analyse verwenden müssen. Das haben wir hier auch nicht zwingend. Wir haben mehr als genug datenpunkte um ein modell zu trainieren auch ohne die Na-rows, daher würde Ich die einfach rausschmeißen um das ergebnis des modells nicht zu beeinflussen mit \"falschen\" Werten"
   ],
   "metadata": {
    "collapsed": false
   },
   "id": "3aa8383ee904db76"
  },
  {
   "cell_type": "code",
   "outputs": [
    {
     "data": {
      "text/plain": "          city            timestamp  temperature  cloud_cover  \\\n0      Burbank  2018-01-01 08:53:00          9.0         33.0   \n1      Burbank  2018-01-01 09:53:00          9.0         33.0   \n2      Burbank  2018-01-01 10:53:00          9.0         21.0   \n3      Burbank  2018-01-01 11:53:00          9.0         29.0   \n4      Burbank  2018-01-01 12:53:00          8.0         33.0   \n...        ...                  ...          ...          ...   \n29239  Burbank  2021-01-01 03:53:00         13.0         33.0   \n29240  Burbank  2021-01-01 04:53:00         12.0         33.0   \n29241  Burbank  2021-01-01 05:53:00         12.0         33.0   \n29242  Burbank  2021-01-01 06:53:00         11.0         33.0   \n29243  Burbank  2021-01-01 07:53:00         10.0         33.0   \n\n      cloud_cover_description  pressure  windspeed  precipitation  \\\n0                        Fair    991.75        9.0            0.0   \n1                        Fair    992.08        0.0            0.0   \n2                        Haze    992.08        0.0            0.0   \n3               Partly Cloudy    992.08        0.0            0.0   \n4                        Fair    992.08        0.0            0.0   \n...                       ...       ...        ...            ...   \n29239                    Fair    986.81        0.0            0.0   \n29240                    Fair    986.81       11.0            0.0   \n29241                    Fair    987.47        9.0            0.0   \n29242                    Fair    987.14       13.0            0.0   \n29243                    Fair    987.80        6.0            0.0   \n\n       felt_temperature  \n0                   8.0  \n1                   9.0  \n2                   9.0  \n3                   9.0  \n4                   8.0  \n...                 ...  \n29239              13.0  \n29240              12.0  \n29241              12.0  \n29242              11.0  \n29243              10.0  \n\n[29105 rows x 9 columns]",
      "text/html": "<div>\n<style scoped>\n    .dataframe tbody tr th:only-of-type {\n        vertical-align: middle;\n    }\n\n    .dataframe tbody tr th {\n        vertical-align: top;\n    }\n\n    .dataframe thead th {\n        text-align: right;\n    }\n</style>\n<table border=\"1\" class=\"dataframe\">\n  <thead>\n    <tr style=\"text-align: right;\">\n      <th></th>\n      <th>city</th>\n      <th>timestamp</th>\n      <th>temperature</th>\n      <th>cloud_cover</th>\n      <th>cloud_cover_description</th>\n      <th>pressure</th>\n      <th>windspeed</th>\n      <th>precipitation</th>\n      <th>felt_temperature</th>\n    </tr>\n  </thead>\n  <tbody>\n    <tr>\n      <th>0</th>\n      <td>Burbank</td>\n      <td>2018-01-01 08:53:00</td>\n      <td>9.0</td>\n      <td>33.0</td>\n      <td>Fair</td>\n      <td>991.75</td>\n      <td>9.0</td>\n      <td>0.0</td>\n      <td>8.0</td>\n    </tr>\n    <tr>\n      <th>1</th>\n      <td>Burbank</td>\n      <td>2018-01-01 09:53:00</td>\n      <td>9.0</td>\n      <td>33.0</td>\n      <td>Fair</td>\n      <td>992.08</td>\n      <td>0.0</td>\n      <td>0.0</td>\n      <td>9.0</td>\n    </tr>\n    <tr>\n      <th>2</th>\n      <td>Burbank</td>\n      <td>2018-01-01 10:53:00</td>\n      <td>9.0</td>\n      <td>21.0</td>\n      <td>Haze</td>\n      <td>992.08</td>\n      <td>0.0</td>\n      <td>0.0</td>\n      <td>9.0</td>\n    </tr>\n    <tr>\n      <th>3</th>\n      <td>Burbank</td>\n      <td>2018-01-01 11:53:00</td>\n      <td>9.0</td>\n      <td>29.0</td>\n      <td>Partly Cloudy</td>\n      <td>992.08</td>\n      <td>0.0</td>\n      <td>0.0</td>\n      <td>9.0</td>\n    </tr>\n    <tr>\n      <th>4</th>\n      <td>Burbank</td>\n      <td>2018-01-01 12:53:00</td>\n      <td>8.0</td>\n      <td>33.0</td>\n      <td>Fair</td>\n      <td>992.08</td>\n      <td>0.0</td>\n      <td>0.0</td>\n      <td>8.0</td>\n    </tr>\n    <tr>\n      <th>...</th>\n      <td>...</td>\n      <td>...</td>\n      <td>...</td>\n      <td>...</td>\n      <td>...</td>\n      <td>...</td>\n      <td>...</td>\n      <td>...</td>\n      <td>...</td>\n    </tr>\n    <tr>\n      <th>29239</th>\n      <td>Burbank</td>\n      <td>2021-01-01 03:53:00</td>\n      <td>13.0</td>\n      <td>33.0</td>\n      <td>Fair</td>\n      <td>986.81</td>\n      <td>0.0</td>\n      <td>0.0</td>\n      <td>13.0</td>\n    </tr>\n    <tr>\n      <th>29240</th>\n      <td>Burbank</td>\n      <td>2021-01-01 04:53:00</td>\n      <td>12.0</td>\n      <td>33.0</td>\n      <td>Fair</td>\n      <td>986.81</td>\n      <td>11.0</td>\n      <td>0.0</td>\n      <td>12.0</td>\n    </tr>\n    <tr>\n      <th>29241</th>\n      <td>Burbank</td>\n      <td>2021-01-01 05:53:00</td>\n      <td>12.0</td>\n      <td>33.0</td>\n      <td>Fair</td>\n      <td>987.47</td>\n      <td>9.0</td>\n      <td>0.0</td>\n      <td>12.0</td>\n    </tr>\n    <tr>\n      <th>29242</th>\n      <td>Burbank</td>\n      <td>2021-01-01 06:53:00</td>\n      <td>11.0</td>\n      <td>33.0</td>\n      <td>Fair</td>\n      <td>987.14</td>\n      <td>13.0</td>\n      <td>0.0</td>\n      <td>11.0</td>\n    </tr>\n    <tr>\n      <th>29243</th>\n      <td>Burbank</td>\n      <td>2021-01-01 07:53:00</td>\n      <td>10.0</td>\n      <td>33.0</td>\n      <td>Fair</td>\n      <td>987.80</td>\n      <td>6.0</td>\n      <td>0.0</td>\n      <td>10.0</td>\n    </tr>\n  </tbody>\n</table>\n<p>29105 rows × 9 columns</p>\n</div>"
     },
     "execution_count": 44,
     "metadata": {},
     "output_type": "execute_result"
    }
   ],
   "source": [
    "# remove missing data\n",
    "weather_set.dropna()"
   ],
   "metadata": {
    "collapsed": false,
    "ExecuteTime": {
     "end_time": "2024-12-31T08:38:22.497024Z",
     "start_time": "2024-12-31T08:38:22.458401Z"
    }
   },
   "id": "24bffd6a7057b0d2",
   "execution_count": 44
  },
  {
   "cell_type": "code",
   "execution_count": 5,
   "id": "cb8b4a65",
   "metadata": {},
   "outputs": [
    {
     "data": {
      "text/plain": [
       "city                        object\n",
       "timestamp                   object\n",
       "temperature                float64\n",
       "cloud_cover                float64\n",
       "cloud_cover_description     object\n",
       "pressure                   float64\n",
       "windspeed                  float64\n",
       "precipitation              float64\n",
       "felt_temperature           float64\n",
       "dtype: object"
      ]
     },
     "execution_count": 5,
     "metadata": {},
     "output_type": "execute_result"
    }
   ],
   "source": [
    "weather_set.dtypes"
   ]
  },
  {
   "cell_type": "markdown",
   "id": "24eebea1",
   "metadata": {},
   "source": [
    "# Feature Engineering"
   ]
  },
  {
   "cell_type": "code",
   "execution_count": 45,
   "id": "919c2032",
   "metadata": {
    "ExecuteTime": {
     "end_time": "2024-12-31T08:38:36.671630Z",
     "start_time": "2024-12-31T08:38:36.655189Z"
    }
   },
   "outputs": [],
   "source": [
    "weather_set['temperature_difference'] = abs(weather_set['felt_temperature'] - weather_set['temperature'])"
   ]
  },
  {
   "cell_type": "code",
   "execution_count": 47,
   "id": "f0b359a5",
   "metadata": {
    "ExecuteTime": {
     "end_time": "2024-12-31T08:38:45.706843Z",
     "start_time": "2024-12-31T08:38:45.678147Z"
    }
   },
   "outputs": [
    {
     "name": "stdout",
     "output_type": "stream",
     "text": [
      "Unique values in column 'city': ['Burbank']\n",
      "Unique values in column 'timestamp': ['2018-01-01 08:53:00' '2018-01-01 09:53:00' '2018-01-01 10:53:00' ...\n",
      " '2021-01-01 05:53:00' '2021-01-01 06:53:00' '2021-01-01 07:53:00']\n",
      "Unique values in column 'temperature': [ 9.  8.  7. 12. 16. 19. 21. 22. 23. 17. 15. 14. 13. 18. 24. 27. 25. 20.\n",
      " 11. 10. 26. 28.  6.  4. 29. 30.  5.  3.  2. 31. 33. 34. 32. nan 36. 37.\n",
      " 42. 43. 44. 45. 41. 39. 38. 40. 35. 46.]\n",
      "Unique values in column 'cloud_cover': [33. 21. 29. 30. 34. 28. 26. 27. 20. 11. 12. 40.  4. 38. nan 47. 22. 19.]\n",
      "Unique values in column 'cloud_cover_description': ['Fair' 'Haze' 'Partly Cloudy' 'Mostly Cloudy' 'Cloudy' 'Fog' 'Light Rain'\n",
      " 'Rain' 'Heavy Rain' 'Heavy Rain / Windy' 'Light Rain / Windy' 'T-Storm'\n",
      " 'Fair / Windy' 'Cloudy / Windy' 'Mostly Cloudy / Windy'\n",
      " 'Partly Cloudy / Windy' 'Thunder in the Vicinity' 'Thunder' nan 'Smoke'\n",
      " 'Light Rain with Thunder' 'Heavy T-Storm' 'Rain / Windy' 'Blowing Dust']\n",
      "Unique values in column 'pressure': [991.75 992.08 992.41 993.39 994.05 993.72 991.09 990.1  990.43 990.76\n",
      " 991.42 992.73 993.06 989.44 989.77 989.11 988.78 988.45 988.13 994.38\n",
      " 994.71 987.8  987.47 987.14 986.48 985.82 986.15 986.81 984.83 984.5\n",
      " 984.17 983.84 983.19 982.53 981.87 981.54 980.55 980.22 979.89 979.56\n",
      " 979.24 977.59 976.93 976.27 975.61 975.28 974.95 974.63 978.25 978.91\n",
      " 980.88 978.58 977.92 981.21 985.16 985.49 995.7  996.36 995.37 996.03\n",
      " 997.34 997.67 997.02 996.69 995.04 983.52 982.2  982.86 998.   998.33\n",
      " 998.99    nan 998.66 999.65 999.32 976.6  973.64 974.3  975.94 973.31\n",
      " 972.65 971.99 972.32 971.66 971.33 971.   973.97 972.98 977.26]\n",
      "Unique values in column 'windspeed': [ 9.  0.  7.  6. 13. 11. nan 17. 15. 19. 20. 31. 22. 26. 28. 24. 30. 37.\n",
      " 33. 43. 35. 39. 41. 48. 46. 52. 44. 57. 54.]\n",
      "Unique values in column 'precipitation': [ 0.    0.25  1.02  0.76  1.52  1.78  4.57  1.27  3.3   0.51  2.29  2.54\n",
      "  3.05  3.81  2.79  6.35  4.32  5.08  8.64  3.56  2.03  5.33  7.37 10.92\n",
      "  5.59  5.84  4.06  8.38  6.6   8.13 12.45  6.1   4.83  6.86  7.62 11.18\n",
      " 13.97 12.7  10.67 11.43  7.87  9.91  7.11 18.54]\n",
      "Unique values in column 'felt_temperature': [ 8.  9.  7. 12. 16. 19. 21. 22. 23. 17. 15. 14. 13. 18. 24. 26. 25. 20.\n",
      " 11. 10.  6.  2.  4.  5. 27. 28.  3.  1. 29. 30. 31. nan 32. 33. 34. 38.\n",
      " 39. 41. 40. 36. 35. 37.  0. 42.]\n",
      "Unique values in column 'temperature_difference': [ 1.  0.  2.  4.  5.  3. nan]\n"
     ]
    }
   ],
   "source": [
    "for column in weather_set.columns:\n",
    "    unique_values = weather_set[column].unique()\n",
    "    print(f\"Unique values in column '{column}': {unique_values}\")"
   ]
  },
  {
   "cell_type": "code",
   "execution_count": 48,
   "id": "7df399bc",
   "metadata": {
    "ExecuteTime": {
     "end_time": "2024-12-31T08:38:47.709460Z",
     "start_time": "2024-12-31T08:38:47.683867Z"
    }
   },
   "outputs": [
    {
     "name": "stdout",
     "output_type": "stream",
     "text": [
      "cloud_cover_description\n",
      "Fair                       17122\n",
      "Cloudy                      4936\n",
      "Partly Cloudy               2668\n",
      "Mostly Cloudy               1830\n",
      "Light Rain                   896\n",
      "Haze                         579\n",
      "Smoke                        329\n",
      "Fog                          325\n",
      "Rain                         247\n",
      "Heavy Rain                   120\n",
      "Fair / Windy                  74\n",
      "NaN                           20\n",
      "T-Storm                       18\n",
      "Thunder in the Vicinity       17\n",
      "Partly Cloudy / Windy         14\n",
      "Mostly Cloudy / Windy         10\n",
      "Light Rain / Windy            10\n",
      "Cloudy / Windy                 9\n",
      "Heavy Rain / Windy             7\n",
      "Blowing Dust                   5\n",
      "Heavy T-Storm                  4\n",
      "Rain / Windy                   2\n",
      "Thunder                        1\n",
      "Light Rain with Thunder        1\n",
      "Name: count, dtype: int64\n"
     ]
    }
   ],
   "source": [
    "frequency = weather_set['cloud_cover_description'].value_counts(dropna=False)\n",
    "\n",
    "print(frequency)"
   ]
  },
  {
   "cell_type": "markdown",
   "id": "45c6f293",
   "metadata": {},
   "source": [
    "Feature Engineering:\n",
    "- Konzept überlegen, mit dem man Überschneidungen zuteilt\n",
    "- Idee: \"Partly\" \"Light\" Heavy\" als eigenes Feature implementieren und die Einträge überarbeiten"
   ]
  },
  {
   "cell_type": "markdown",
   "id": "39403106",
   "metadata": {},
   "source": [
    "WICHTIG: Spalten mit unnötigen Wörtern händisch umbennen"
   ]
  },
  {
   "cell_type": "code",
   "execution_count": 49,
   "id": "bcd99d44",
   "metadata": {
    "ExecuteTime": {
     "end_time": "2024-12-31T08:39:31.440816Z",
     "start_time": "2024-12-31T08:39:31.155315Z"
    }
   },
   "outputs": [],
   "source": [
    "weather_set['cloud_cover_description'] = weather_set['cloud_cover_description'].fillna('')\n",
    "\n",
    "# Definieren der Sonderfälle und deren neue Bezeichnungen\n",
    "special_cases = {\n",
    "    'Thunder in the Vicinity': 'thunder_in_vicinity',\n",
    "    'Light Rain with Thunder': 'light_rain_thunder',\n",
    "    'Blowing Dust': 'blowing_dust'\n",
    "}\n",
    "\n",
    "# Liste von Wörtern, die ignoriert werden sollen\n",
    "stop_words = {'in', 'the'}\n",
    "\n",
    "# Set für alle einzigartigen Features\n",
    "unique_features = set()\n",
    "\n",
    "for entry in weather_set['cloud_cover_description']:\n",
    "    # Sonderfälle zuerst ersetzen\n",
    "    for case, replacement in special_cases.items():\n",
    "        if case in entry:\n",
    "            entry = entry.replace(case, replacement)\n",
    "    \n",
    "    # Trennen bei Leerzeichen und Slashes\n",
    "    words = entry.replace('/', ' ').split()\n",
    "    \n",
    "    # Wörter zu den Features hinzufügen, außer Stoppwörter\n",
    "    unique_features.update(word for word in words if word.lower() not in stop_words)\n",
    "\n",
    "# Für jedes Feature eine neue Spalte erstellen\n",
    "for feature in unique_features:\n",
    "    weather_set[feature.lower()] = weather_set['cloud_cover_description'].apply(\n",
    "        lambda x: 1 if feature in x else 0\n",
    "    )"
   ]
  },
  {
   "cell_type": "code",
   "execution_count": 50,
   "id": "e1ee2785",
   "metadata": {
    "ExecuteTime": {
     "end_time": "2024-12-31T08:39:33.618092Z",
     "start_time": "2024-12-31T08:39:33.540705Z"
    }
   },
   "outputs": [
    {
     "data": {
      "text/plain": "          city            timestamp  temperature  cloud_cover  \\\n0      Burbank  2018-01-01 08:53:00          9.0         33.0   \n1      Burbank  2018-01-01 09:53:00          9.0         33.0   \n2      Burbank  2018-01-01 10:53:00          9.0         21.0   \n3      Burbank  2018-01-01 11:53:00          9.0         29.0   \n4      Burbank  2018-01-01 12:53:00          8.0         33.0   \n...        ...                  ...          ...          ...   \n29239  Burbank  2021-01-01 03:53:00         13.0         33.0   \n29240  Burbank  2021-01-01 04:53:00         12.0         33.0   \n29241  Burbank  2021-01-01 05:53:00         12.0         33.0   \n29242  Burbank  2021-01-01 06:53:00         11.0         33.0   \n29243  Burbank  2021-01-01 07:53:00         10.0         33.0   \n\n      cloud_cover_description  pressure  windspeed  precipitation  \\\n0                        Fair    991.75        9.0            0.0   \n1                        Fair    992.08        0.0            0.0   \n2                        Haze    992.08        0.0            0.0   \n3               Partly Cloudy    992.08        0.0            0.0   \n4                        Fair    992.08        0.0            0.0   \n...                       ...       ...        ...            ...   \n29239                    Fair    986.81        0.0            0.0   \n29240                    Fair    986.81       11.0            0.0   \n29241                    Fair    987.47        9.0            0.0   \n29242                    Fair    987.14       13.0            0.0   \n29243                    Fair    987.80        6.0            0.0   \n\n       felt_temperature  temperature_difference  ...  thunder_in_vicinity  \\\n0                   8.0                     1.0  ...                    0   \n1                   9.0                     0.0  ...                    0   \n2                   9.0                     0.0  ...                    0   \n3                   9.0                     0.0  ...                    0   \n4                   8.0                     0.0  ...                    0   \n...                 ...                     ...  ...                  ...   \n29239              13.0                     0.0  ...                    0   \n29240              12.0                     0.0  ...                    0   \n29241              12.0                     0.0  ...                    0   \n29242              11.0                     0.0  ...                    0   \n29243              10.0                     0.0  ...                    0   \n\n       light_rain_thunder  mostly  partly  blowing_dust  windy  cloudy  heavy  \\\n0                       0       0       0             0      0       0      0   \n1                       0       0       0             0      0       0      0   \n2                       0       0       0             0      0       0      0   \n3                       0       0       1             0      0       1      0   \n4                       0       0       0             0      0       0      0   \n...                   ...     ...     ...           ...    ...     ...    ...   \n29239                   0       0       0             0      0       0      0   \n29240                   0       0       0             0      0       0      0   \n29241                   0       0       0             0      0       0      0   \n29242                   0       0       0             0      0       0      0   \n29243                   0       0       0             0      0       0      0   \n\n       fair  haze  \n0         1     0  \n1         1     0  \n2         0     1  \n3         0     0  \n4         1     0  \n...     ...   ...  \n29239     1     0  \n29240     1     0  \n29241     1     0  \n29242     1     0  \n29243     1     0  \n\n[29244 rows x 26 columns]",
      "text/html": "<div>\n<style scoped>\n    .dataframe tbody tr th:only-of-type {\n        vertical-align: middle;\n    }\n\n    .dataframe tbody tr th {\n        vertical-align: top;\n    }\n\n    .dataframe thead th {\n        text-align: right;\n    }\n</style>\n<table border=\"1\" class=\"dataframe\">\n  <thead>\n    <tr style=\"text-align: right;\">\n      <th></th>\n      <th>city</th>\n      <th>timestamp</th>\n      <th>temperature</th>\n      <th>cloud_cover</th>\n      <th>cloud_cover_description</th>\n      <th>pressure</th>\n      <th>windspeed</th>\n      <th>precipitation</th>\n      <th>felt_temperature</th>\n      <th>temperature_difference</th>\n      <th>...</th>\n      <th>thunder_in_vicinity</th>\n      <th>light_rain_thunder</th>\n      <th>mostly</th>\n      <th>partly</th>\n      <th>blowing_dust</th>\n      <th>windy</th>\n      <th>cloudy</th>\n      <th>heavy</th>\n      <th>fair</th>\n      <th>haze</th>\n    </tr>\n  </thead>\n  <tbody>\n    <tr>\n      <th>0</th>\n      <td>Burbank</td>\n      <td>2018-01-01 08:53:00</td>\n      <td>9.0</td>\n      <td>33.0</td>\n      <td>Fair</td>\n      <td>991.75</td>\n      <td>9.0</td>\n      <td>0.0</td>\n      <td>8.0</td>\n      <td>1.0</td>\n      <td>...</td>\n      <td>0</td>\n      <td>0</td>\n      <td>0</td>\n      <td>0</td>\n      <td>0</td>\n      <td>0</td>\n      <td>0</td>\n      <td>0</td>\n      <td>1</td>\n      <td>0</td>\n    </tr>\n    <tr>\n      <th>1</th>\n      <td>Burbank</td>\n      <td>2018-01-01 09:53:00</td>\n      <td>9.0</td>\n      <td>33.0</td>\n      <td>Fair</td>\n      <td>992.08</td>\n      <td>0.0</td>\n      <td>0.0</td>\n      <td>9.0</td>\n      <td>0.0</td>\n      <td>...</td>\n      <td>0</td>\n      <td>0</td>\n      <td>0</td>\n      <td>0</td>\n      <td>0</td>\n      <td>0</td>\n      <td>0</td>\n      <td>0</td>\n      <td>1</td>\n      <td>0</td>\n    </tr>\n    <tr>\n      <th>2</th>\n      <td>Burbank</td>\n      <td>2018-01-01 10:53:00</td>\n      <td>9.0</td>\n      <td>21.0</td>\n      <td>Haze</td>\n      <td>992.08</td>\n      <td>0.0</td>\n      <td>0.0</td>\n      <td>9.0</td>\n      <td>0.0</td>\n      <td>...</td>\n      <td>0</td>\n      <td>0</td>\n      <td>0</td>\n      <td>0</td>\n      <td>0</td>\n      <td>0</td>\n      <td>0</td>\n      <td>0</td>\n      <td>0</td>\n      <td>1</td>\n    </tr>\n    <tr>\n      <th>3</th>\n      <td>Burbank</td>\n      <td>2018-01-01 11:53:00</td>\n      <td>9.0</td>\n      <td>29.0</td>\n      <td>Partly Cloudy</td>\n      <td>992.08</td>\n      <td>0.0</td>\n      <td>0.0</td>\n      <td>9.0</td>\n      <td>0.0</td>\n      <td>...</td>\n      <td>0</td>\n      <td>0</td>\n      <td>0</td>\n      <td>1</td>\n      <td>0</td>\n      <td>0</td>\n      <td>1</td>\n      <td>0</td>\n      <td>0</td>\n      <td>0</td>\n    </tr>\n    <tr>\n      <th>4</th>\n      <td>Burbank</td>\n      <td>2018-01-01 12:53:00</td>\n      <td>8.0</td>\n      <td>33.0</td>\n      <td>Fair</td>\n      <td>992.08</td>\n      <td>0.0</td>\n      <td>0.0</td>\n      <td>8.0</td>\n      <td>0.0</td>\n      <td>...</td>\n      <td>0</td>\n      <td>0</td>\n      <td>0</td>\n      <td>0</td>\n      <td>0</td>\n      <td>0</td>\n      <td>0</td>\n      <td>0</td>\n      <td>1</td>\n      <td>0</td>\n    </tr>\n    <tr>\n      <th>...</th>\n      <td>...</td>\n      <td>...</td>\n      <td>...</td>\n      <td>...</td>\n      <td>...</td>\n      <td>...</td>\n      <td>...</td>\n      <td>...</td>\n      <td>...</td>\n      <td>...</td>\n      <td>...</td>\n      <td>...</td>\n      <td>...</td>\n      <td>...</td>\n      <td>...</td>\n      <td>...</td>\n      <td>...</td>\n      <td>...</td>\n      <td>...</td>\n      <td>...</td>\n      <td>...</td>\n    </tr>\n    <tr>\n      <th>29239</th>\n      <td>Burbank</td>\n      <td>2021-01-01 03:53:00</td>\n      <td>13.0</td>\n      <td>33.0</td>\n      <td>Fair</td>\n      <td>986.81</td>\n      <td>0.0</td>\n      <td>0.0</td>\n      <td>13.0</td>\n      <td>0.0</td>\n      <td>...</td>\n      <td>0</td>\n      <td>0</td>\n      <td>0</td>\n      <td>0</td>\n      <td>0</td>\n      <td>0</td>\n      <td>0</td>\n      <td>0</td>\n      <td>1</td>\n      <td>0</td>\n    </tr>\n    <tr>\n      <th>29240</th>\n      <td>Burbank</td>\n      <td>2021-01-01 04:53:00</td>\n      <td>12.0</td>\n      <td>33.0</td>\n      <td>Fair</td>\n      <td>986.81</td>\n      <td>11.0</td>\n      <td>0.0</td>\n      <td>12.0</td>\n      <td>0.0</td>\n      <td>...</td>\n      <td>0</td>\n      <td>0</td>\n      <td>0</td>\n      <td>0</td>\n      <td>0</td>\n      <td>0</td>\n      <td>0</td>\n      <td>0</td>\n      <td>1</td>\n      <td>0</td>\n    </tr>\n    <tr>\n      <th>29241</th>\n      <td>Burbank</td>\n      <td>2021-01-01 05:53:00</td>\n      <td>12.0</td>\n      <td>33.0</td>\n      <td>Fair</td>\n      <td>987.47</td>\n      <td>9.0</td>\n      <td>0.0</td>\n      <td>12.0</td>\n      <td>0.0</td>\n      <td>...</td>\n      <td>0</td>\n      <td>0</td>\n      <td>0</td>\n      <td>0</td>\n      <td>0</td>\n      <td>0</td>\n      <td>0</td>\n      <td>0</td>\n      <td>1</td>\n      <td>0</td>\n    </tr>\n    <tr>\n      <th>29242</th>\n      <td>Burbank</td>\n      <td>2021-01-01 06:53:00</td>\n      <td>11.0</td>\n      <td>33.0</td>\n      <td>Fair</td>\n      <td>987.14</td>\n      <td>13.0</td>\n      <td>0.0</td>\n      <td>11.0</td>\n      <td>0.0</td>\n      <td>...</td>\n      <td>0</td>\n      <td>0</td>\n      <td>0</td>\n      <td>0</td>\n      <td>0</td>\n      <td>0</td>\n      <td>0</td>\n      <td>0</td>\n      <td>1</td>\n      <td>0</td>\n    </tr>\n    <tr>\n      <th>29243</th>\n      <td>Burbank</td>\n      <td>2021-01-01 07:53:00</td>\n      <td>10.0</td>\n      <td>33.0</td>\n      <td>Fair</td>\n      <td>987.80</td>\n      <td>6.0</td>\n      <td>0.0</td>\n      <td>10.0</td>\n      <td>0.0</td>\n      <td>...</td>\n      <td>0</td>\n      <td>0</td>\n      <td>0</td>\n      <td>0</td>\n      <td>0</td>\n      <td>0</td>\n      <td>0</td>\n      <td>0</td>\n      <td>1</td>\n      <td>0</td>\n    </tr>\n  </tbody>\n</table>\n<p>29244 rows × 26 columns</p>\n</div>"
     },
     "execution_count": 50,
     "metadata": {},
     "output_type": "execute_result"
    }
   ],
   "source": [
    "weather_set"
   ]
  },
  {
   "cell_type": "code",
   "execution_count": 51,
   "id": "1abaf663",
   "metadata": {
    "ExecuteTime": {
     "end_time": "2024-12-31T08:39:45.140891Z",
     "start_time": "2024-12-31T08:39:45.127443Z"
    }
   },
   "outputs": [
    {
     "data": {
      "text/plain": "Index(['city', 'timestamp', 'temperature', 'cloud_cover',\n       'cloud_cover_description', 'pressure', 'windspeed', 'precipitation',\n       'felt_temperature', 'temperature_difference', 'thunder', 'light', 'fog',\n       't-storm', 'rain', 'smoke', 'thunder_in_vicinity', 'light_rain_thunder',\n       'mostly', 'partly', 'blowing_dust', 'windy', 'cloudy', 'heavy', 'fair',\n       'haze'],\n      dtype='object')"
     },
     "execution_count": 51,
     "metadata": {},
     "output_type": "execute_result"
    }
   ],
   "source": [
    "weather_set.columns"
   ]
  },
  {
   "cell_type": "code",
   "execution_count": 52,
   "id": "d43ca7d9",
   "metadata": {
    "ExecuteTime": {
     "end_time": "2024-12-31T08:39:48.725947Z",
     "start_time": "2024-12-31T08:39:48.717880Z"
    }
   },
   "outputs": [
    {
     "name": "stdout",
     "output_type": "stream",
     "text": [
      "city: Burbank\n",
      "timestamp: 2018-09-03 05:53:00\n",
      "temperature: 20.0\n",
      "cloud_cover: 26.0\n",
      "cloud_cover_description: Cloudy\n",
      "pressure: 984.83\n",
      "windspeed: 7.0\n",
      "precipitation: 0.0\n",
      "felt_temperature: 20.0\n",
      "temperature_difference: 0.0\n",
      "thunder: 0\n",
      "light: 0\n",
      "fog: 0\n",
      "t-storm: 0\n",
      "rain: 0\n",
      "smoke: 0\n",
      "thunder_in_vicinity: 0\n",
      "light_rain_thunder: 0\n",
      "mostly: 0\n",
      "partly: 0\n",
      "blowing_dust: 0\n",
      "windy: 0\n",
      "cloudy: 1\n",
      "heavy: 0\n",
      "fair: 0\n",
      "haze: 0\n"
     ]
    }
   ],
   "source": [
    "random_entry = weather_set.sample(n=1).iloc[0]\n",
    "\n",
    "# Zellenwerte einzeln ausgeben\n",
    "for column_name, value in random_entry.items():\n",
    "    print(f\"{column_name}: {value}\")"
   ]
  },
  {
   "cell_type": "code",
   "execution_count": 19,
   "id": "12b8efb1",
   "metadata": {},
   "outputs": [],
   "source": [
    "# weather_set['timestamp'] = pd.to_datetime(weather_set['timestamp_date'])\n",
    "\n",
    "# weather_set['timestamp_year'] = charging_set['connectionTime_date'].dt.year\n",
    "# charging_set['timestamp_month'] = charging_set['connectionTime_date'].dt.month"
   ]
  },
  {
   "cell_type": "code",
   "outputs": [],
   "source": [
    "# # split time-related data into year, month, day, time\n",
    "# ### split connectionTime in separate date and time columns\n",
    "# # Convert the column to datetime format\n",
    "# weather_set['timestamp'] = pd.to_datetime(weather_set['timestamp'])\n",
    "# \n",
    "# weather_set['timestamp_year'] = weather_set['timestamp'].dt.year\n",
    "# weather_set['timestamp_month'] = weather_set['timestamp'].dt.month\n",
    "# weather_set['timestamp_day'] = weather_set['timestamp'].dt.day\n",
    "# weather_set['timestamp_time'] = weather_set['timestamp'].dt.time"
   ],
   "metadata": {
    "collapsed": false,
    "ExecuteTime": {
     "end_time": "2024-12-31T08:36:39.620608Z",
     "start_time": "2024-12-31T08:36:39.580339Z"
    }
   },
   "id": "334baeff4f94b7f",
   "execution_count": 38
  },
  {
   "cell_type": "code",
   "outputs": [],
   "source": [
    "# suggestion: season, isWeekday, time instead\n",
    "weather_set['timestamp'] = pd.to_datetime(weather_set['timestamp'])\n",
    "\n",
    "# 0: january, february, march = spring\n",
    "# 1: april, may, june = summer\n",
    "# 2: july, august, september = fall\n",
    "# 3: oktober, november, december = winter \n",
    "weather_set['season'] = (weather_set['timestamp'].dt.month - 1) // 3\n",
    "weather_set['isWeekday'] = weather_set['timestamp'].dt.dayofweek.apply(lambda x: 1 if x > 5 else 0)\n",
    "weather_set['timestamp_time'] = weather_set['timestamp'].dt.time"
   ],
   "metadata": {
    "collapsed": false,
    "ExecuteTime": {
     "end_time": "2024-12-31T08:39:54.883715Z",
     "start_time": "2024-12-31T08:39:54.828118Z"
    }
   },
   "id": "ddbcbd2dfdd5450c",
   "execution_count": 53
  },
  {
   "cell_type": "code",
   "execution_count": 54,
   "id": "54cf77ac",
   "metadata": {
    "ExecuteTime": {
     "end_time": "2024-12-31T08:41:01.119240Z",
     "start_time": "2024-12-31T08:41:00.554093Z"
    }
   },
   "outputs": [],
   "source": [
    "weather_set.to_csv('data/cleaned_weather_set.csv', mode='w', index=False)"
   ]
  },
  {
   "cell_type": "code",
   "outputs": [],
   "source": [],
   "metadata": {
    "collapsed": false
   },
   "id": "f8d429f0ae2e8d18"
  }
 ],
 "metadata": {
  "kernelspec": {
   "display_name": "Python 3",
   "language": "python",
   "name": "python3"
  },
  "language_info": {
   "codemirror_mode": {
    "name": "ipython",
    "version": 3
   },
   "file_extension": ".py",
   "mimetype": "text/x-python",
   "name": "python",
   "nbconvert_exporter": "python",
   "pygments_lexer": "ipython3",
   "version": "3.9.5"
  }
 },
 "nbformat": 4,
 "nbformat_minor": 5
}
