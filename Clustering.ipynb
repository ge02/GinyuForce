{
 "cells": [
  {
   "cell_type": "code",
   "execution_count": 5,
   "id": "4d99dd63",
   "metadata": {},
   "outputs": [],
   "source": [
    "## imports\n",
    "\n",
    "import numpy as np\n",
    "import pandas as pd\n",
    "import matplotlib.pyplot as plt\n",
    "import seaborn as sns\n",
    "import warnings\n",
    "\n",
    "from sklearn.cluster import KMeans\n",
    "%matplotlib inline"
   ]
  },
  {
   "cell_type": "markdown",
   "id": "207ee370",
   "metadata": {},
   "source": [
    "## Data Prep for Clustering\n",
    "\n",
    "The following part of the notebook will prepare the datasets for the clustering task.\n",
    "\n",
    "For clustering, only a select amount of features can be relevant. Since most clustering algorithms use distance based calcualtions to determine the clusters, input features need to be of numerical values. It is also important for them to be ordinal and continous. This becomes evidant when looking at time data. When looking at hourly datapaints for example, an entry at hour 23:00 and 01:00 would be classified as far apart instead of close to each other. \n",
    "\n",
    "After datasets only consist of suitable features (suitable features meaning potentially usable for the algorithm, not features that will actually be selected), the dataset will be normalised using the Standard Scaler importated from sklearn\n",
    "\n"
   ]
  },
  {
   "cell_type": "code",
   "execution_count": 7,
   "id": "63bd93d6",
   "metadata": {},
   "outputs": [],
   "source": [
    "# load dataset\n",
    "charging_set_complete = pd.read_csv(\"data/cleaned_charging_set.csv\")\n"
   ]
  },
  {
   "cell_type": "code",
   "execution_count": 8,
   "id": "19797dd9",
   "metadata": {},
   "outputs": [
    {
     "data": {
      "text/html": [
       "<div>\n",
       "<style scoped>\n",
       "    .dataframe tbody tr th:only-of-type {\n",
       "        vertical-align: middle;\n",
       "    }\n",
       "\n",
       "    .dataframe tbody tr th {\n",
       "        vertical-align: top;\n",
       "    }\n",
       "\n",
       "    .dataframe thead th {\n",
       "        text-align: right;\n",
       "    }\n",
       "</style>\n",
       "<table border=\"1\" class=\"dataframe\">\n",
       "  <thead>\n",
       "    <tr style=\"text-align: right;\">\n",
       "      <th></th>\n",
       "      <th>id</th>\n",
       "      <th>kWhDelivered</th>\n",
       "      <th>siteID</th>\n",
       "      <th>spaceID</th>\n",
       "      <th>stationID</th>\n",
       "      <th>timezone</th>\n",
       "      <th>userID</th>\n",
       "      <th>connectionTime_date</th>\n",
       "      <th>connectionTime_time</th>\n",
       "      <th>disconnectTime_date</th>\n",
       "      <th>...</th>\n",
       "      <th>paymentRequired</th>\n",
       "      <th>requestedDeparture</th>\n",
       "      <th>UserID</th>\n",
       "      <th>WhPerMile_present</th>\n",
       "      <th>kWhRequested_present</th>\n",
       "      <th>milesRequested_present</th>\n",
       "      <th>minutesAvailable_present</th>\n",
       "      <th>modifiedAt_present</th>\n",
       "      <th>paymentRequired_present</th>\n",
       "      <th>requestedDeparture_present</th>\n",
       "    </tr>\n",
       "  </thead>\n",
       "  <tbody>\n",
       "    <tr>\n",
       "      <th>0</th>\n",
       "      <td>5e23b149f9af8b5fe4b973cf</td>\n",
       "      <td>25.016</td>\n",
       "      <td>1</td>\n",
       "      <td>AG-3F30</td>\n",
       "      <td>1-1-179-810</td>\n",
       "      <td>America/Los_Angeles</td>\n",
       "      <td>194.0</td>\n",
       "      <td>2020-01-02</td>\n",
       "      <td>13:08:54</td>\n",
       "      <td>2020-01-02</td>\n",
       "      <td>...</td>\n",
       "      <td>True</td>\n",
       "      <td>Thu, 02 Jan 2020 20:51:54 GMT</td>\n",
       "      <td>1</td>\n",
       "      <td>1</td>\n",
       "      <td>1</td>\n",
       "      <td>1</td>\n",
       "      <td>1</td>\n",
       "      <td>1</td>\n",
       "      <td>1</td>\n",
       "      <td>1</td>\n",
       "    </tr>\n",
       "    <tr>\n",
       "      <th>1</th>\n",
       "      <td>5e23b149f9af8b5fe4b973d0</td>\n",
       "      <td>33.097</td>\n",
       "      <td>1</td>\n",
       "      <td>AG-1F01</td>\n",
       "      <td>1-1-193-825</td>\n",
       "      <td>America/Los_Angeles</td>\n",
       "      <td>4275.0</td>\n",
       "      <td>2020-01-02</td>\n",
       "      <td>13:36:50</td>\n",
       "      <td>2020-01-02</td>\n",
       "      <td>...</td>\n",
       "      <td>True</td>\n",
       "      <td>Thu, 02 Jan 2020 23:31:50 GMT</td>\n",
       "      <td>1</td>\n",
       "      <td>1</td>\n",
       "      <td>1</td>\n",
       "      <td>1</td>\n",
       "      <td>1</td>\n",
       "      <td>1</td>\n",
       "      <td>1</td>\n",
       "      <td>1</td>\n",
       "    </tr>\n",
       "    <tr>\n",
       "      <th>2</th>\n",
       "      <td>5e23b149f9af8b5fe4b973d1</td>\n",
       "      <td>6.521</td>\n",
       "      <td>1</td>\n",
       "      <td>AG-1F03</td>\n",
       "      <td>1-1-193-829</td>\n",
       "      <td>America/Los_Angeles</td>\n",
       "      <td>344.0</td>\n",
       "      <td>2020-01-02</td>\n",
       "      <td>13:56:35</td>\n",
       "      <td>2020-01-03</td>\n",
       "      <td>...</td>\n",
       "      <td>True</td>\n",
       "      <td>Thu, 02 Jan 2020 14:56:35 GMT</td>\n",
       "      <td>1</td>\n",
       "      <td>1</td>\n",
       "      <td>1</td>\n",
       "      <td>1</td>\n",
       "      <td>1</td>\n",
       "      <td>1</td>\n",
       "      <td>1</td>\n",
       "      <td>1</td>\n",
       "    </tr>\n",
       "    <tr>\n",
       "      <th>3</th>\n",
       "      <td>5e23b149f9af8b5fe4b973d2</td>\n",
       "      <td>2.355</td>\n",
       "      <td>1</td>\n",
       "      <td>AG-1F04</td>\n",
       "      <td>1-1-193-820</td>\n",
       "      <td>America/Los_Angeles</td>\n",
       "      <td>1117.0</td>\n",
       "      <td>2020-01-02</td>\n",
       "      <td>13:59:58</td>\n",
       "      <td>2020-01-02</td>\n",
       "      <td>...</td>\n",
       "      <td>True</td>\n",
       "      <td>Thu, 02 Jan 2020 15:04:58 GMT</td>\n",
       "      <td>1</td>\n",
       "      <td>1</td>\n",
       "      <td>1</td>\n",
       "      <td>1</td>\n",
       "      <td>1</td>\n",
       "      <td>1</td>\n",
       "      <td>1</td>\n",
       "      <td>1</td>\n",
       "    </tr>\n",
       "    <tr>\n",
       "      <th>4</th>\n",
       "      <td>5e23b149f9af8b5fe4b973d3</td>\n",
       "      <td>13.375</td>\n",
       "      <td>1</td>\n",
       "      <td>AG-1F06</td>\n",
       "      <td>1-1-193-819</td>\n",
       "      <td>America/Los_Angeles</td>\n",
       "      <td>334.0</td>\n",
       "      <td>2020-01-02</td>\n",
       "      <td>14:00:01</td>\n",
       "      <td>2020-01-02</td>\n",
       "      <td>...</td>\n",
       "      <td>True</td>\n",
       "      <td>Thu, 02 Jan 2020 22:24:01 GMT</td>\n",
       "      <td>1</td>\n",
       "      <td>1</td>\n",
       "      <td>1</td>\n",
       "      <td>1</td>\n",
       "      <td>1</td>\n",
       "      <td>1</td>\n",
       "      <td>1</td>\n",
       "      <td>1</td>\n",
       "    </tr>\n",
       "    <tr>\n",
       "      <th>5</th>\n",
       "      <td>5e23b149f9af8b5fe4b973d4</td>\n",
       "      <td>13.370</td>\n",
       "      <td>1</td>\n",
       "      <td>AG-1F13</td>\n",
       "      <td>1-1-194-821</td>\n",
       "      <td>America/Los_Angeles</td>\n",
       "      <td>3519.0</td>\n",
       "      <td>2020-01-02</td>\n",
       "      <td>14:00:13</td>\n",
       "      <td>2020-01-02</td>\n",
       "      <td>...</td>\n",
       "      <td>True</td>\n",
       "      <td>Fri, 03 Jan 2020 00:24:13 GMT</td>\n",
       "      <td>1</td>\n",
       "      <td>1</td>\n",
       "      <td>1</td>\n",
       "      <td>1</td>\n",
       "      <td>1</td>\n",
       "      <td>1</td>\n",
       "      <td>1</td>\n",
       "      <td>1</td>\n",
       "    </tr>\n",
       "    <tr>\n",
       "      <th>6</th>\n",
       "      <td>5e23b149f9af8b5fe4b973d5</td>\n",
       "      <td>43.477</td>\n",
       "      <td>1</td>\n",
       "      <td>AG-1F09</td>\n",
       "      <td>1-1-178-817</td>\n",
       "      <td>America/Los_Angeles</td>\n",
       "      <td>933.0</td>\n",
       "      <td>2020-01-02</td>\n",
       "      <td>14:09:14</td>\n",
       "      <td>2020-01-03</td>\n",
       "      <td>...</td>\n",
       "      <td>True</td>\n",
       "      <td>Fri, 03 Jan 2020 00:56:14 GMT</td>\n",
       "      <td>1</td>\n",
       "      <td>1</td>\n",
       "      <td>1</td>\n",
       "      <td>1</td>\n",
       "      <td>1</td>\n",
       "      <td>1</td>\n",
       "      <td>1</td>\n",
       "      <td>1</td>\n",
       "    </tr>\n",
       "    <tr>\n",
       "      <th>7</th>\n",
       "      <td>5e23b149f9af8b5fe4b973d6</td>\n",
       "      <td>32.441</td>\n",
       "      <td>1</td>\n",
       "      <td>AG-4F34</td>\n",
       "      <td>1-1-191-804</td>\n",
       "      <td>America/Los_Angeles</td>\n",
       "      <td>3737.0</td>\n",
       "      <td>2020-01-02</td>\n",
       "      <td>14:17:32</td>\n",
       "      <td>2020-01-03</td>\n",
       "      <td>...</td>\n",
       "      <td>True</td>\n",
       "      <td>Thu, 02 Jan 2020 16:23:32 GMT</td>\n",
       "      <td>1</td>\n",
       "      <td>1</td>\n",
       "      <td>1</td>\n",
       "      <td>1</td>\n",
       "      <td>1</td>\n",
       "      <td>1</td>\n",
       "      <td>1</td>\n",
       "      <td>1</td>\n",
       "    </tr>\n",
       "    <tr>\n",
       "      <th>8</th>\n",
       "      <td>5e23b149f9af8b5fe4b973d7</td>\n",
       "      <td>13.264</td>\n",
       "      <td>1</td>\n",
       "      <td>AG-1F11</td>\n",
       "      <td>1-1-194-826</td>\n",
       "      <td>America/Los_Angeles</td>\n",
       "      <td>419.0</td>\n",
       "      <td>2020-01-02</td>\n",
       "      <td>14:25:38</td>\n",
       "      <td>2020-01-02</td>\n",
       "      <td>...</td>\n",
       "      <td>True</td>\n",
       "      <td>Thu, 02 Jan 2020 22:36:38 GMT</td>\n",
       "      <td>1</td>\n",
       "      <td>1</td>\n",
       "      <td>1</td>\n",
       "      <td>1</td>\n",
       "      <td>1</td>\n",
       "      <td>1</td>\n",
       "      <td>1</td>\n",
       "      <td>1</td>\n",
       "    </tr>\n",
       "    <tr>\n",
       "      <th>9</th>\n",
       "      <td>5e23b149f9af8b5fe4b973d8</td>\n",
       "      <td>13.285</td>\n",
       "      <td>1</td>\n",
       "      <td>AG-1F08</td>\n",
       "      <td>1-1-178-823</td>\n",
       "      <td>America/Los_Angeles</td>\n",
       "      <td>651.0</td>\n",
       "      <td>2020-01-02</td>\n",
       "      <td>14:27:40</td>\n",
       "      <td>2020-01-02</td>\n",
       "      <td>...</td>\n",
       "      <td>True</td>\n",
       "      <td>Thu, 02 Jan 2020 18:13:40 GMT</td>\n",
       "      <td>1</td>\n",
       "      <td>1</td>\n",
       "      <td>1</td>\n",
       "      <td>1</td>\n",
       "      <td>1</td>\n",
       "      <td>1</td>\n",
       "      <td>1</td>\n",
       "      <td>1</td>\n",
       "    </tr>\n",
       "  </tbody>\n",
       "</table>\n",
       "<p>10 rows × 38 columns</p>\n",
       "</div>"
      ],
      "text/plain": [
       "                         id  kWhDelivered  siteID  spaceID    stationID  \\\n",
       "0  5e23b149f9af8b5fe4b973cf        25.016       1  AG-3F30  1-1-179-810   \n",
       "1  5e23b149f9af8b5fe4b973d0        33.097       1  AG-1F01  1-1-193-825   \n",
       "2  5e23b149f9af8b5fe4b973d1         6.521       1  AG-1F03  1-1-193-829   \n",
       "3  5e23b149f9af8b5fe4b973d2         2.355       1  AG-1F04  1-1-193-820   \n",
       "4  5e23b149f9af8b5fe4b973d3        13.375       1  AG-1F06  1-1-193-819   \n",
       "5  5e23b149f9af8b5fe4b973d4        13.370       1  AG-1F13  1-1-194-821   \n",
       "6  5e23b149f9af8b5fe4b973d5        43.477       1  AG-1F09  1-1-178-817   \n",
       "7  5e23b149f9af8b5fe4b973d6        32.441       1  AG-4F34  1-1-191-804   \n",
       "8  5e23b149f9af8b5fe4b973d7        13.264       1  AG-1F11  1-1-194-826   \n",
       "9  5e23b149f9af8b5fe4b973d8        13.285       1  AG-1F08  1-1-178-823   \n",
       "\n",
       "              timezone  userID connectionTime_date connectionTime_time  \\\n",
       "0  America/Los_Angeles   194.0          2020-01-02            13:08:54   \n",
       "1  America/Los_Angeles  4275.0          2020-01-02            13:36:50   \n",
       "2  America/Los_Angeles   344.0          2020-01-02            13:56:35   \n",
       "3  America/Los_Angeles  1117.0          2020-01-02            13:59:58   \n",
       "4  America/Los_Angeles   334.0          2020-01-02            14:00:01   \n",
       "5  America/Los_Angeles  3519.0          2020-01-02            14:00:13   \n",
       "6  America/Los_Angeles   933.0          2020-01-02            14:09:14   \n",
       "7  America/Los_Angeles  3737.0          2020-01-02            14:17:32   \n",
       "8  America/Los_Angeles   419.0          2020-01-02            14:25:38   \n",
       "9  America/Los_Angeles   651.0          2020-01-02            14:27:40   \n",
       "\n",
       "  disconnectTime_date  ... paymentRequired             requestedDeparture  \\\n",
       "0          2020-01-02  ...            True  Thu, 02 Jan 2020 20:51:54 GMT   \n",
       "1          2020-01-02  ...            True  Thu, 02 Jan 2020 23:31:50 GMT   \n",
       "2          2020-01-03  ...            True  Thu, 02 Jan 2020 14:56:35 GMT   \n",
       "3          2020-01-02  ...            True  Thu, 02 Jan 2020 15:04:58 GMT   \n",
       "4          2020-01-02  ...            True  Thu, 02 Jan 2020 22:24:01 GMT   \n",
       "5          2020-01-02  ...            True  Fri, 03 Jan 2020 00:24:13 GMT   \n",
       "6          2020-01-03  ...            True  Fri, 03 Jan 2020 00:56:14 GMT   \n",
       "7          2020-01-03  ...            True  Thu, 02 Jan 2020 16:23:32 GMT   \n",
       "8          2020-01-02  ...            True  Thu, 02 Jan 2020 22:36:38 GMT   \n",
       "9          2020-01-02  ...            True  Thu, 02 Jan 2020 18:13:40 GMT   \n",
       "\n",
       "  UserID  WhPerMile_present  kWhRequested_present  milesRequested_present  \\\n",
       "0      1                  1                     1                       1   \n",
       "1      1                  1                     1                       1   \n",
       "2      1                  1                     1                       1   \n",
       "3      1                  1                     1                       1   \n",
       "4      1                  1                     1                       1   \n",
       "5      1                  1                     1                       1   \n",
       "6      1                  1                     1                       1   \n",
       "7      1                  1                     1                       1   \n",
       "8      1                  1                     1                       1   \n",
       "9      1                  1                     1                       1   \n",
       "\n",
       "   minutesAvailable_present  modifiedAt_present  paymentRequired_present  \\\n",
       "0                         1                   1                        1   \n",
       "1                         1                   1                        1   \n",
       "2                         1                   1                        1   \n",
       "3                         1                   1                        1   \n",
       "4                         1                   1                        1   \n",
       "5                         1                   1                        1   \n",
       "6                         1                   1                        1   \n",
       "7                         1                   1                        1   \n",
       "8                         1                   1                        1   \n",
       "9                         1                   1                        1   \n",
       "\n",
       "   requestedDeparture_present  \n",
       "0                           1  \n",
       "1                           1  \n",
       "2                           1  \n",
       "3                           1  \n",
       "4                           1  \n",
       "5                           1  \n",
       "6                           1  \n",
       "7                           1  \n",
       "8                           1  \n",
       "9                           1  \n",
       "\n",
       "[10 rows x 38 columns]"
      ]
     },
     "execution_count": 8,
     "metadata": {},
     "output_type": "execute_result"
    }
   ],
   "source": [
    "# look at dataset again\n",
    "charging_set_complete.head(10)"
   ]
  },
  {
   "cell_type": "code",
   "execution_count": 9,
   "id": "88498f5e",
   "metadata": {},
   "outputs": [
    {
     "name": "stdout",
     "output_type": "stream",
     "text": [
      "<class 'pandas.core.frame.DataFrame'>\n",
      "RangeIndex: 66450 entries, 0 to 66449\n",
      "Data columns (total 38 columns):\n",
      " #   Column                      Non-Null Count  Dtype  \n",
      "---  ------                      --------------  -----  \n",
      " 0   id                          66450 non-null  object \n",
      " 1   kWhDelivered                66450 non-null  float64\n",
      " 2   siteID                      66450 non-null  int64  \n",
      " 3   spaceID                     66450 non-null  object \n",
      " 4   stationID                   66450 non-null  object \n",
      " 5   timezone                    66450 non-null  object \n",
      " 6   userID                      49187 non-null  float64\n",
      " 7   connectionTime_date         66450 non-null  object \n",
      " 8   connectionTime_time         66450 non-null  object \n",
      " 9   disconnectTime_date         66450 non-null  object \n",
      " 10  disconnectTime_time         66450 non-null  object \n",
      " 11  doneChargingTime_date       62362 non-null  object \n",
      " 12  doneChargingTime_time       62362 non-null  object \n",
      " 13  connectionTime_year         66450 non-null  int64  \n",
      " 14  connectionTime_month        66450 non-null  int64  \n",
      " 15  connectionTime_day          66450 non-null  int64  \n",
      " 16  disconnectTime_year         66450 non-null  int64  \n",
      " 17  disconnectTime_month        66450 non-null  int64  \n",
      " 18  disconnectTime_day          66450 non-null  int64  \n",
      " 19  doneChargingTime_year       62362 non-null  float64\n",
      " 20  doneChargingTime_month      62362 non-null  float64\n",
      " 21  doneChargingTime_day        62362 non-null  float64\n",
      " 22  chargingDuration            66450 non-null  float64\n",
      " 23  WhPerMile                   49187 non-null  float64\n",
      " 24  kWhRequested                49187 non-null  float64\n",
      " 25  milesRequested              49187 non-null  float64\n",
      " 26  minutesAvailable            49187 non-null  float64\n",
      " 27  modifiedAt                  49187 non-null  object \n",
      " 28  paymentRequired             49187 non-null  object \n",
      " 29  requestedDeparture          49187 non-null  object \n",
      " 30  UserID                      66450 non-null  int64  \n",
      " 31  WhPerMile_present           66450 non-null  int64  \n",
      " 32  kWhRequested_present        66450 non-null  int64  \n",
      " 33  milesRequested_present      66450 non-null  int64  \n",
      " 34  minutesAvailable_present    66450 non-null  int64  \n",
      " 35  modifiedAt_present          66450 non-null  int64  \n",
      " 36  paymentRequired_present     66450 non-null  int64  \n",
      " 37  requestedDeparture_present  66450 non-null  int64  \n",
      "dtypes: float64(10), int64(15), object(13)\n",
      "memory usage: 19.3+ MB\n"
     ]
    }
   ],
   "source": [
    "\n",
    "charging_set_complete.info()"
   ]
  },
  {
   "cell_type": "code",
   "execution_count": 10,
   "id": "ca48a087",
   "metadata": {},
   "outputs": [
    {
     "data": {
      "text/html": [
       "<div>\n",
       "<style scoped>\n",
       "    .dataframe tbody tr th:only-of-type {\n",
       "        vertical-align: middle;\n",
       "    }\n",
       "\n",
       "    .dataframe tbody tr th {\n",
       "        vertical-align: top;\n",
       "    }\n",
       "\n",
       "    .dataframe thead th {\n",
       "        text-align: right;\n",
       "    }\n",
       "</style>\n",
       "<table border=\"1\" class=\"dataframe\">\n",
       "  <thead>\n",
       "    <tr style=\"text-align: right;\">\n",
       "      <th></th>\n",
       "      <th>realChargingTime</th>\n",
       "      <th>chargingDuration</th>\n",
       "    </tr>\n",
       "  </thead>\n",
       "  <tbody>\n",
       "    <tr>\n",
       "      <th>0</th>\n",
       "      <td>4.378056</td>\n",
       "      <td>6.039167</td>\n",
       "    </tr>\n",
       "    <tr>\n",
       "      <th>1</th>\n",
       "      <td>6.687500</td>\n",
       "      <td>9.025278</td>\n",
       "    </tr>\n",
       "    <tr>\n",
       "      <th>2</th>\n",
       "      <td>2.641944</td>\n",
       "      <td>10.713056</td>\n",
       "    </tr>\n",
       "    <tr>\n",
       "      <th>3</th>\n",
       "      <td>1.313056</td>\n",
       "      <td>2.644722</td>\n",
       "    </tr>\n",
       "    <tr>\n",
       "      <th>4</th>\n",
       "      <td>4.291389</td>\n",
       "      <td>8.144167</td>\n",
       "    </tr>\n",
       "    <tr>\n",
       "      <th>5</th>\n",
       "      <td>6.218889</td>\n",
       "      <td>9.007778</td>\n",
       "    </tr>\n",
       "    <tr>\n",
       "      <th>6</th>\n",
       "      <td>10.835278</td>\n",
       "      <td>11.812222</td>\n",
       "    </tr>\n",
       "    <tr>\n",
       "      <th>7</th>\n",
       "      <td>6.085556</td>\n",
       "      <td>10.456111</td>\n",
       "    </tr>\n",
       "    <tr>\n",
       "      <th>8</th>\n",
       "      <td>4.216944</td>\n",
       "      <td>5.174167</td>\n",
       "    </tr>\n",
       "    <tr>\n",
       "      <th>9</th>\n",
       "      <td>4.835000</td>\n",
       "      <td>5.568889</td>\n",
       "    </tr>\n",
       "  </tbody>\n",
       "</table>\n",
       "</div>"
      ],
      "text/plain": [
       "   realChargingTime  chargingDuration\n",
       "0          4.378056          6.039167\n",
       "1          6.687500          9.025278\n",
       "2          2.641944         10.713056\n",
       "3          1.313056          2.644722\n",
       "4          4.291389          8.144167\n",
       "5          6.218889          9.007778\n",
       "6         10.835278         11.812222\n",
       "7          6.085556         10.456111\n",
       "8          4.216944          5.174167\n",
       "9          4.835000          5.568889"
      ]
     },
     "execution_count": 10,
     "metadata": {},
     "output_type": "execute_result"
    }
   ],
   "source": [
    "# method to calculate the actual chargingDuration instead of the connection time\n",
    "\n",
    "def calc_realConnectionTime():\n",
    "    charging_set_complete[\"tempDoneChargingTime\"] = charging_set_complete[\"doneChargingTime_date\"] + ' ' + charging_set_complete[\"doneChargingTime_time\"]\n",
    "    charging_set_complete[\"tempConnectionTime\"] = charging_set_complete[\"connectionTime_date\"] + ' ' + charging_set_complete[\"connectionTime_time\"]\n",
    "    charging_set_complete[\"dt_doneChargingTime_time\"] = pd.to_datetime(charging_set_complete[\"tempDoneChargingTime\"])\n",
    "    charging_set_complete[\"dt_connectionTime_time\"] = pd.to_datetime(charging_set_complete[\"tempConnectionTime\"])\n",
    "    \n",
    "    charging_set_complete[\"real_connectionTimeTemp\"] = charging_set_complete[\"dt_doneChargingTime_time\"] - charging_set_complete[\"dt_connectionTime_time\"]\n",
    "    charging_set_complete['realChargingTime'] = charging_set_complete[\"real_connectionTimeTemp\"].apply(\n",
    "        lambda x: x.total_seconds() / 3600\n",
    "    )\n",
    "    charging_set_complete.drop(columns=[\"tempDoneChargingTime\",\"tempConnectionTime\",\"dt_doneChargingTime_time\",\"dt_connectionTime_time\",\"real_connectionTimeTemp\"], inplace=True)\n",
    "\n",
    "calc_realConnectionTime()\n",
    "columns = [\"realChargingTime\",\"chargingDuration\"]\n",
    "charging_set_complete[columns].head(10)"
   ]
  },
  {
   "cell_type": "code",
   "execution_count": 28,
   "id": "c6c58f8e",
   "metadata": {},
   "outputs": [
    {
     "data": {
      "text/plain": [
       "id                                 5e23b149f9af8b5fe4b973d0\n",
       "kWhDelivered                                         33.097\n",
       "siteID                                                    1\n",
       "spaceID                                             AG-1F01\n",
       "stationID                                       1-1-193-825\n",
       "timezone                                America/Los_Angeles\n",
       "userID                                               4275.0\n",
       "connectionTime_date                              2020-01-02\n",
       "connectionTime_time                                13:36:50\n",
       "disconnectTime_date                              2020-01-02\n",
       "disconnectTime_time                                22:38:21\n",
       "doneChargingTime_date                            2020-01-02\n",
       "doneChargingTime_time                              20:18:05\n",
       "connectionTime_year                                    2020\n",
       "connectionTime_month                                      1\n",
       "connectionTime_day                                        2\n",
       "disconnectTime_year                                    2020\n",
       "disconnectTime_month                                      1\n",
       "disconnectTime_day                                        2\n",
       "doneChargingTime_year                                2020.0\n",
       "doneChargingTime_month                                  1.0\n",
       "doneChargingTime_day                                    2.0\n",
       "chargingDuration                                   9.025278\n",
       "WhPerMile                                             280.0\n",
       "kWhRequested                                           70.0\n",
       "milesRequested                                        250.0\n",
       "minutesAvailable                                      595.0\n",
       "modifiedAt                    Thu, 02 Jan 2020 13:37:11 GMT\n",
       "paymentRequired                                        True\n",
       "requestedDeparture            Thu, 02 Jan 2020 23:31:50 GMT\n",
       "UserID                                                    1\n",
       "WhPerMile_present                                         1\n",
       "kWhRequested_present                                      1\n",
       "milesRequested_present                                    1\n",
       "minutesAvailable_present                                  1\n",
       "modifiedAt_present                                        1\n",
       "paymentRequired_present                                   1\n",
       "requestedDeparture_present                                1\n",
       "realChargingTime                                     6.6875\n",
       "Name: 1, dtype: object"
      ]
     },
     "execution_count": 28,
     "metadata": {},
     "output_type": "execute_result"
    }
   ],
   "source": [
    "charging_set_complete.loc[1]"
   ]
  },
  {
   "cell_type": "code",
   "execution_count": 11,
   "id": "34444fe9",
   "metadata": {},
   "outputs": [],
   "source": [
    "## only execute this once!\n",
    "\n",
    "## drop boolean values\n",
    "\n",
    "charging_set_complete = charging_set_complete.drop([\"paymentRequired_present\",\"WhPerMile_present\",\"kWhRequested_present\",\"milesRequested_present\",\"minutesAvailable_present\",\"modifiedAt_present\",\"requestedDeparture_present\"],axis = 1)\n",
    "\n",
    "## dropping non numerical values in the dataset in order to allow normalisation using the StandardScaler later\n",
    "\n",
    "charging_set_complete = charging_set_complete.drop([\"userID\", \"id\",\"siteID\",\"spaceID\",\"stationID\",\"timezone\",\"connectionTime_date\",\"connectionTime_time\",\"disconnectTime_date\",\"disconnectTime_time\",\"doneChargingTime_date\",\"doneChargingTime_time\",\"modifiedAt\",\"paymentRequired\",\"requestedDeparture\"], axis=1)\n",
    "\n",
    "## count number of unregistered user \n",
    "\n",
    "count_of_zero = charging_set_complete[charging_set_complete['UserID']==0].shape[0]\n",
    "\n",
    "## split dataset into registered user\n",
    "charging_set_registered = charging_set_complete[charging_set_complete[\"UserID\"]==1]\n",
    "charging_set_unregistered = charging_set_complete[charging_set_complete[\"UserID\"]==0]\n",
    "\n",
    "# drop User ID\n",
    "charging_set_registered = charging_set_registered.drop(\"UserID\",axis = 1)\n",
    "charging_set_unregistered = charging_set_unregistered.drop(\"UserID\", axis = 1)\n",
    "charging_set_complete = charging_set_complete.drop(\"UserID\", axis = 1)\n"
   ]
  },
  {
   "cell_type": "code",
   "execution_count": 18,
   "id": "1b320152",
   "metadata": {},
   "outputs": [],
   "source": [
    "\n",
    "\n",
    "# normalise registered User dataset \n",
    "#from sklearn.preprocessing import StandardScaler\n",
    "#scaler = StandardScaler()\n",
    "#scaler.fit(charging_set_registered)\n",
    "#cs_registered = scaler.transform(charging_set_registered)\n",
    "#scaled_registered = pd.DataFrame(cs_registered, columns=charging_set_registered.columns,index = charging_set_registered.index)\n",
    "#scaled_registered.head()"
   ]
  },
  {
   "cell_type": "code",
   "execution_count": 19,
   "id": "3b4e307c",
   "metadata": {},
   "outputs": [],
   "source": [
    "## drop NaN values, only execute once!!!\n",
    "\n",
    "#charging_set_unregistered = charging_set_unregistered.drop([\"WhPerMile\",\"kWhRequested\",\"milesRequested\",\"minutesAvailable\"],axis = 1)\n",
    "# normalise unregistered dataset \n",
    "#from sklearn.preprocessing import StandardScaler\n",
    "#scaler = StandardScaler()\n",
    "#scaler.fit(charging_set_unregistered)\n",
    "#cs_unregistered = scaler.transform(charging_set_unregistered)\n",
    "#sclaed_unregisterd = pd.DataFrame(cs_unregistered, columns=charging_set_unregistered.columns,index = charging_set_unregistered.index)\n",
    "#sclaed_unregisterd.head()"
   ]
  },
  {
   "cell_type": "code",
   "execution_count": 20,
   "id": "557856e2",
   "metadata": {},
   "outputs": [],
   "source": [
    "# normalise entire dataset \n",
    "#from sklearn.preprocessing import StandardScaler\n",
    "#scaler = StandardScaler()\n",
    "#scaler.fit(charging_set_complete)\n",
    "#cs_complete = scaler.transform(charging_set_complete)\n",
    "#scaled_all = pd.DataFrame(cs_complete, columns=charging_set_complete.columns,index = charging_set_complete.index)\n",
    "#scaled_all.head()"
   ]
  },
  {
   "cell_type": "code",
   "execution_count": 12,
   "id": "0381c7f2",
   "metadata": {},
   "outputs": [
    {
     "name": "stdout",
     "output_type": "stream",
     "text": [
      "<class 'pandas.core.frame.DataFrame'>\n",
      "RangeIndex: 66450 entries, 0 to 66449\n",
      "Data columns (total 16 columns):\n",
      " #   Column                  Non-Null Count  Dtype  \n",
      "---  ------                  --------------  -----  \n",
      " 0   kWhDelivered            66450 non-null  float64\n",
      " 1   connectionTime_year     66450 non-null  int64  \n",
      " 2   connectionTime_month    66450 non-null  int64  \n",
      " 3   connectionTime_day      66450 non-null  int64  \n",
      " 4   disconnectTime_year     66450 non-null  int64  \n",
      " 5   disconnectTime_month    66450 non-null  int64  \n",
      " 6   disconnectTime_day      66450 non-null  int64  \n",
      " 7   doneChargingTime_year   62362 non-null  float64\n",
      " 8   doneChargingTime_month  62362 non-null  float64\n",
      " 9   doneChargingTime_day    62362 non-null  float64\n",
      " 10  chargingDuration        66450 non-null  float64\n",
      " 11  WhPerMile               49187 non-null  float64\n",
      " 12  kWhRequested            49187 non-null  float64\n",
      " 13  milesRequested          49187 non-null  float64\n",
      " 14  minutesAvailable        49187 non-null  float64\n",
      " 15  realChargingTime        62362 non-null  float64\n",
      "dtypes: float64(10), int64(6)\n",
      "memory usage: 8.1 MB\n"
     ]
    }
   ],
   "source": [
    "charging_set_complete.info()"
   ]
  },
  {
   "cell_type": "markdown",
   "id": "7f5ac264",
   "metadata": {},
   "source": [
    "## Clustering for entire dataset \n",
    "\n",
    "*note that entire dataset means all 68000 entries, but not every column*"
   ]
  },
  {
   "cell_type": "code",
   "execution_count": 13,
   "id": "d9452674",
   "metadata": {},
   "outputs": [],
   "source": [
    "## select features for initial clustering\n",
    "clustering_df = charging_set_complete[[\"kWhDelivered\",\"realChargingTime\",\"chargingDuration\"]]\n",
    "clusters = []\n",
    "losses = []\n",
    "\n",
    "## set random kmax value\n",
    "k_max = 30\n",
    "clustering_df = clustering_df.dropna()"
   ]
  },
  {
   "cell_type": "markdown",
   "id": "5005580a",
   "metadata": {},
   "source": [
    "#### Explaination of feature selection:\n",
    "\n",
    "Time data can not be effectively used \n"
   ]
  },
  {
   "cell_type": "code",
   "execution_count": 14,
   "id": "f358d13a",
   "metadata": {},
   "outputs": [
    {
     "data": {
      "text/html": [
       "<div>\n",
       "<style scoped>\n",
       "    .dataframe tbody tr th:only-of-type {\n",
       "        vertical-align: middle;\n",
       "    }\n",
       "\n",
       "    .dataframe tbody tr th {\n",
       "        vertical-align: top;\n",
       "    }\n",
       "\n",
       "    .dataframe thead th {\n",
       "        text-align: right;\n",
       "    }\n",
       "</style>\n",
       "<table border=\"1\" class=\"dataframe\">\n",
       "  <thead>\n",
       "    <tr style=\"text-align: right;\">\n",
       "      <th></th>\n",
       "      <th>kWhDelivered</th>\n",
       "      <th>realChargingTime</th>\n",
       "      <th>chargingDuration</th>\n",
       "    </tr>\n",
       "  </thead>\n",
       "  <tbody>\n",
       "    <tr>\n",
       "      <th>0</th>\n",
       "      <td>25.016</td>\n",
       "      <td>4.378056</td>\n",
       "      <td>6.039167</td>\n",
       "    </tr>\n",
       "    <tr>\n",
       "      <th>1</th>\n",
       "      <td>33.097</td>\n",
       "      <td>6.687500</td>\n",
       "      <td>9.025278</td>\n",
       "    </tr>\n",
       "    <tr>\n",
       "      <th>2</th>\n",
       "      <td>6.521</td>\n",
       "      <td>2.641944</td>\n",
       "      <td>10.713056</td>\n",
       "    </tr>\n",
       "    <tr>\n",
       "      <th>3</th>\n",
       "      <td>2.355</td>\n",
       "      <td>1.313056</td>\n",
       "      <td>2.644722</td>\n",
       "    </tr>\n",
       "    <tr>\n",
       "      <th>4</th>\n",
       "      <td>13.375</td>\n",
       "      <td>4.291389</td>\n",
       "      <td>8.144167</td>\n",
       "    </tr>\n",
       "  </tbody>\n",
       "</table>\n",
       "</div>"
      ],
      "text/plain": [
       "   kWhDelivered  realChargingTime  chargingDuration\n",
       "0        25.016          4.378056          6.039167\n",
       "1        33.097          6.687500          9.025278\n",
       "2         6.521          2.641944         10.713056\n",
       "3         2.355          1.313056          2.644722\n",
       "4        13.375          4.291389          8.144167"
      ]
     },
     "execution_count": 14,
     "metadata": {},
     "output_type": "execute_result"
    }
   ],
   "source": [
    "clustering_df.head()\n",
    "\n"
   ]
  },
  {
   "cell_type": "code",
   "execution_count": 35,
   "id": "9c8987a8",
   "metadata": {},
   "outputs": [
    {
     "data": {
      "text/plain": [
       "200.01583333333335"
      ]
     },
     "execution_count": 35,
     "metadata": {},
     "output_type": "execute_result"
    }
   ],
   "source": [
    "clustering_df[\"realChargingTime\"].max()"
   ]
  },
  {
   "cell_type": "code",
   "execution_count": 15,
   "id": "62d95dfc",
   "metadata": {},
   "outputs": [
    {
     "data": {
      "text/html": [
       "<div>\n",
       "<style scoped>\n",
       "    .dataframe tbody tr th:only-of-type {\n",
       "        vertical-align: middle;\n",
       "    }\n",
       "\n",
       "    .dataframe tbody tr th {\n",
       "        vertical-align: top;\n",
       "    }\n",
       "\n",
       "    .dataframe thead th {\n",
       "        text-align: right;\n",
       "    }\n",
       "</style>\n",
       "<table border=\"1\" class=\"dataframe\">\n",
       "  <thead>\n",
       "    <tr style=\"text-align: right;\">\n",
       "      <th></th>\n",
       "      <th>kWhDelivered</th>\n",
       "      <th>realChargingTime</th>\n",
       "      <th>chargingDuration</th>\n",
       "    </tr>\n",
       "  </thead>\n",
       "  <tbody>\n",
       "    <tr>\n",
       "      <th>0</th>\n",
       "      <td>1.311510</td>\n",
       "      <td>0.273864</td>\n",
       "      <td>-0.072643</td>\n",
       "    </tr>\n",
       "    <tr>\n",
       "      <th>1</th>\n",
       "      <td>2.104084</td>\n",
       "      <td>1.029713</td>\n",
       "      <td>0.537904</td>\n",
       "    </tr>\n",
       "    <tr>\n",
       "      <th>2</th>\n",
       "      <td>-0.502456</td>\n",
       "      <td>-0.294340</td>\n",
       "      <td>0.882991</td>\n",
       "    </tr>\n",
       "    <tr>\n",
       "      <th>3</th>\n",
       "      <td>-0.911051</td>\n",
       "      <td>-0.729266</td>\n",
       "      <td>-0.766679</td>\n",
       "    </tr>\n",
       "    <tr>\n",
       "      <th>4</th>\n",
       "      <td>0.169776</td>\n",
       "      <td>0.245500</td>\n",
       "      <td>0.357750</td>\n",
       "    </tr>\n",
       "  </tbody>\n",
       "</table>\n",
       "</div>"
      ],
      "text/plain": [
       "   kWhDelivered  realChargingTime  chargingDuration\n",
       "0      1.311510          0.273864         -0.072643\n",
       "1      2.104084          1.029713          0.537904\n",
       "2     -0.502456         -0.294340          0.882991\n",
       "3     -0.911051         -0.729266         -0.766679\n",
       "4      0.169776          0.245500          0.357750"
      ]
     },
     "execution_count": 15,
     "metadata": {},
     "output_type": "execute_result"
    }
   ],
   "source": [
    "from sklearn.preprocessing import StandardScaler\n",
    "scaler = StandardScaler()\n",
    "scaler.fit(clustering_df)\n",
    "cluster_scaled = scaler.transform(clustering_df)\n",
    "scaled_df = pd.DataFrame(cluster_scaled, columns= clustering_df.columns,index = clustering_df.index)\n",
    "scaled_df.head()"
   ]
  },
  {
   "cell_type": "code",
   "execution_count": 33,
   "id": "a0eafa50",
   "metadata": {},
   "outputs": [
    {
     "data": {
      "text/plain": [
       "64.3033123079879"
      ]
     },
     "execution_count": 33,
     "metadata": {},
     "output_type": "execute_result"
    }
   ],
   "source": [
    "scaled_df[\"realChargingTime\"].max()"
   ]
  },
  {
   "cell_type": "code",
   "execution_count": 45,
   "id": "7de191f0",
   "metadata": {},
   "outputs": [
    {
     "data": {
      "text/plain": [
       "array([[ 1.31150979,  0.27386439, -0.07264276],\n",
       "       [ 2.10408366,  1.02971255,  0.53790423],\n",
       "       [-0.50245553, -0.29433995,  0.88299107],\n",
       "       ...,\n",
       "       [-0.03628753,  0.0447644 , -0.55875176],\n",
       "       [-0.00539274, -0.47325614, -0.23377037],\n",
       "       [-1.05405007, -0.66926391, -0.76804159]])"
      ]
     },
     "execution_count": 45,
     "metadata": {},
     "output_type": "execute_result"
    }
   ],
   "source": [
    "cluster_scaled"
   ]
  },
  {
   "cell_type": "code",
   "execution_count": 16,
   "id": "72c90a15",
   "metadata": {},
   "outputs": [],
   "source": [
    "for k in range(k_max):\n",
    "    model = KMeans(n_clusters=k+1, n_init=\"auto\")\n",
    "    model.fit(cluster_scaled)\n",
    "    clusters.append(k+1)\n",
    "    losses.append(model.inertia_)"
   ]
  },
  {
   "cell_type": "code",
   "execution_count": 17,
   "id": "245ab5c8",
   "metadata": {},
   "outputs": [
    {
     "data": {
      "image/png": "[encoded data removed]",
      "text/plain": [
       "<Figure size 432x288 with 1 Axes>"
      ]
     },
     "metadata": {
      "needs_background": "light"
     },
     "output_type": "display_data"
    }
   ],
   "source": [
    "# plot loss in relation to cluster amount \n",
    "plt.plot(clusters, losses)\n",
    "plt.ylabel(\"Loss\")\n",
    "plt.xlabel(\"Number of clusters\")\n",
    "plt.show()"
   ]
  },
  {
   "cell_type": "code",
   "execution_count": 18,
   "id": "89374868",
   "metadata": {},
   "outputs": [
    {
     "data": {
      "text/plain": [
       "(0.0, 15.0)"
      ]
     },
     "execution_count": 18,
     "metadata": {},
     "output_type": "execute_result"
    },
    {
     "data": {
      "image/png": "[encoded data removed]",
      "text/plain": [
       "<Figure size 432x288 with 1 Axes>"
      ]
     },
     "metadata": {
      "needs_background": "light"
     },
     "output_type": "display_data"
    }
   ],
   "source": [
    "# zoom in \n",
    "plt.plot(clusters, losses)\n",
    "plt.ylabel(\"Loss\")\n",
    "plt.xlabel(\"Number of clusters\")\n",
    "plt.xlim([0,15])"
   ]
  },
  {
   "cell_type": "code",
   "execution_count": 19,
   "id": "d4fa9efd",
   "metadata": {},
   "outputs": [
    {
     "data": {
      "text/plain": [
       "(0.0, 10.0)"
      ]
     },
     "execution_count": 19,
     "metadata": {},
     "output_type": "execute_result"
    },
    {
     "data": {
      "image/png": "[encoded data removed]",
      "text/plain": [
       "<Figure size 432x288 with 1 Axes>"
      ]
     },
     "metadata": {
      "needs_background": "light"
     },
     "output_type": "display_data"
    }
   ],
   "source": [
    "# zoom in again\n",
    "plt.plot(clusters, losses)\n",
    "plt.ylabel(\"Loss\")\n",
    "plt.xlabel(\"Number of clusters\")\n",
    "plt.xlim([0,10])"
   ]
  },
  {
   "cell_type": "markdown",
   "id": "cd69e989",
   "metadata": {},
   "source": [
    "Sharpest fold at 2-6, therefore and appropriate cluster amount lies in that region. Let's pick 4 clusters for now"
   ]
  },
  {
   "cell_type": "code",
   "execution_count": 22,
   "id": "c1514ebd",
   "metadata": {},
   "outputs": [
    {
     "data": {
      "text/html": [
       "<div>\n",
       "<style scoped>\n",
       "    .dataframe tbody tr th:only-of-type {\n",
       "        vertical-align: middle;\n",
       "    }\n",
       "\n",
       "    .dataframe tbody tr th {\n",
       "        vertical-align: top;\n",
       "    }\n",
       "\n",
       "    .dataframe thead th {\n",
       "        text-align: right;\n",
       "    }\n",
       "</style>\n",
       "<table border=\"1\" class=\"dataframe\">\n",
       "  <thead>\n",
       "    <tr style=\"text-align: right;\">\n",
       "      <th></th>\n",
       "      <th>kWhDelivered</th>\n",
       "      <th>realChargingTime</th>\n",
       "      <th>chargingDuration</th>\n",
       "      <th>cluster</th>\n",
       "    </tr>\n",
       "  </thead>\n",
       "  <tbody>\n",
       "    <tr>\n",
       "      <th>0</th>\n",
       "      <td>1.311510</td>\n",
       "      <td>0.273864</td>\n",
       "      <td>-0.072643</td>\n",
       "      <td>two</td>\n",
       "    </tr>\n",
       "    <tr>\n",
       "      <th>1</th>\n",
       "      <td>2.104084</td>\n",
       "      <td>1.029713</td>\n",
       "      <td>0.537904</td>\n",
       "      <td>two</td>\n",
       "    </tr>\n",
       "    <tr>\n",
       "      <th>2</th>\n",
       "      <td>-0.502456</td>\n",
       "      <td>-0.294340</td>\n",
       "      <td>0.882991</td>\n",
       "      <td>zero</td>\n",
       "    </tr>\n",
       "    <tr>\n",
       "      <th>3</th>\n",
       "      <td>-0.911051</td>\n",
       "      <td>-0.729266</td>\n",
       "      <td>-0.766679</td>\n",
       "      <td>one</td>\n",
       "    </tr>\n",
       "    <tr>\n",
       "      <th>4</th>\n",
       "      <td>0.169776</td>\n",
       "      <td>0.245500</td>\n",
       "      <td>0.357750</td>\n",
       "      <td>zero</td>\n",
       "    </tr>\n",
       "  </tbody>\n",
       "</table>\n",
       "</div>"
      ],
      "text/plain": [
       "   kWhDelivered  realChargingTime  chargingDuration cluster\n",
       "0      1.311510          0.273864         -0.072643     two\n",
       "1      2.104084          1.029713          0.537904     two\n",
       "2     -0.502456         -0.294340          0.882991    zero\n",
       "3     -0.911051         -0.729266         -0.766679     one\n",
       "4      0.169776          0.245500          0.357750    zero"
      ]
     },
     "execution_count": 22,
     "metadata": {},
     "output_type": "execute_result"
    }
   ],
   "source": [
    "numbers = [\"zero\", \"one\", \"two\", \"three\"]\n",
    "\n",
    "# refit algorithm\n",
    "four_means = KMeans(n_clusters=4, n_init=\"auto\")\n",
    "four_means.fit(cluster_scaled)\n",
    "\n",
    "# match records to clusters by calling predict\n",
    "scaled_df[\"cluster\"] = four_means.predict(cluster_scaled)\n",
    "scaled_df[\"cluster\"] = scaled_df[\"cluster\"].apply(lambda x: numbers[x])\n",
    "\n",
    "scaled_df.head()\n"
   ]
  },
  {
   "cell_type": "code",
   "execution_count": 23,
   "id": "6af79bcd",
   "metadata": {},
   "outputs": [
    {
     "data": {
      "text/plain": [
       "<seaborn.axisgrid.PairGrid at 0x7fde15e8da90>"
      ]
     },
     "execution_count": 23,
     "metadata": {},
     "output_type": "execute_result"
    },
    {
     "data": {
      "image/png": "[encoded data removed]",
      "text/plain": [
       "<Figure size 602.375x540 with 12 Axes>"
      ]
     },
     "metadata": {
      "needs_background": "light"
     },
     "output_type": "display_data"
    }
   ],
   "source": [
    "sns.pairplot(data=scaled_df, hue=\"cluster\")"
   ]
  },
  {
   "cell_type": "code",
   "execution_count": 32,
   "id": "b3161507",
   "metadata": {},
   "outputs": [
    {
     "data": {
      "text/plain": [
       "<AxesSubplot:xlabel='kWhDelivered', ylabel='realChargingTime'>"
      ]
     },
     "execution_count": 32,
     "metadata": {},
     "output_type": "execute_result"
    },
    {
     "data": {
      "image/png": "[encoded data removed]",
      "text/plain": [
       "<Figure size 432x288 with 1 Axes>"
      ]
     },
     "metadata": {
      "needs_background": "light"
     },
     "output_type": "display_data"
    }
   ],
   "source": [
    "## plot only realChargingDuration\n",
    "\n",
    "sns.scatterplot(data=scaled_df, x=\"kWhDelivered\", y=\"realChargingTime\", hue=\"cluster\")"
   ]
  },
  {
   "cell_type": "code",
   "execution_count": 30,
   "id": "4d23c342",
   "metadata": {},
   "outputs": [
    {
     "data": {
      "text/html": [
       "<div>\n",
       "<style scoped>\n",
       "    .dataframe tbody tr th:only-of-type {\n",
       "        vertical-align: middle;\n",
       "    }\n",
       "\n",
       "    .dataframe tbody tr th {\n",
       "        vertical-align: top;\n",
       "    }\n",
       "\n",
       "    .dataframe thead th {\n",
       "        text-align: right;\n",
       "    }\n",
       "</style>\n",
       "<table border=\"1\" class=\"dataframe\">\n",
       "  <thead>\n",
       "    <tr style=\"text-align: right;\">\n",
       "      <th></th>\n",
       "      <th>kWhDelivered</th>\n",
       "      <th>realChargingTime</th>\n",
       "      <th>chargingDuration</th>\n",
       "      <th>cluster</th>\n",
       "    </tr>\n",
       "  </thead>\n",
       "  <tbody>\n",
       "    <tr>\n",
       "      <th>0</th>\n",
       "      <td>1.311510</td>\n",
       "      <td>0.273864</td>\n",
       "      <td>-0.072643</td>\n",
       "      <td>two</td>\n",
       "    </tr>\n",
       "    <tr>\n",
       "      <th>1</th>\n",
       "      <td>2.104084</td>\n",
       "      <td>1.029713</td>\n",
       "      <td>0.537904</td>\n",
       "      <td>two</td>\n",
       "    </tr>\n",
       "    <tr>\n",
       "      <th>2</th>\n",
       "      <td>-0.502456</td>\n",
       "      <td>-0.294340</td>\n",
       "      <td>0.882991</td>\n",
       "      <td>zero</td>\n",
       "    </tr>\n",
       "    <tr>\n",
       "      <th>3</th>\n",
       "      <td>-0.911051</td>\n",
       "      <td>-0.729266</td>\n",
       "      <td>-0.766679</td>\n",
       "      <td>one</td>\n",
       "    </tr>\n",
       "    <tr>\n",
       "      <th>4</th>\n",
       "      <td>0.169776</td>\n",
       "      <td>0.245500</td>\n",
       "      <td>0.357750</td>\n",
       "      <td>zero</td>\n",
       "    </tr>\n",
       "  </tbody>\n",
       "</table>\n",
       "</div>"
      ],
      "text/plain": [
       "   kWhDelivered  realChargingTime  chargingDuration cluster\n",
       "0      1.311510          0.273864         -0.072643     two\n",
       "1      2.104084          1.029713          0.537904     two\n",
       "2     -0.502456         -0.294340          0.882991    zero\n",
       "3     -0.911051         -0.729266         -0.766679     one\n",
       "4      0.169776          0.245500          0.357750    zero"
      ]
     },
     "execution_count": 30,
     "metadata": {},
     "output_type": "execute_result"
    }
   ],
   "source": [
    "scaled_df.head()"
   ]
  },
  {
   "cell_type": "code",
   "execution_count": 28,
   "id": "74321c76",
   "metadata": {},
   "outputs": [
    {
     "data": {
      "text/plain": [
       "<AxesSubplot:xlabel='kWhDelivered', ylabel='chargingDuration'>"
      ]
     },
     "execution_count": 28,
     "metadata": {},
     "output_type": "execute_result"
    },
    {
     "data": {
      "image/png": "[encoded data removed]",
      "text/plain": [
       "<Figure size 432x576 with 1 Axes>"
      ]
     },
     "metadata": {
      "needs_background": "light"
     },
     "output_type": "display_data"
    }
   ],
   "source": [
    "## plot only chargingDuration\n",
    "\n",
    "plt.figure(figsize=(6,8))\n",
    "sns.scatterplot(data=scaled_df, x=\"kWhDelivered\", y=\"chargingDuration\", hue=\"cluster\")"
   ]
  }
 ],
 "metadata": {
  "kernelspec": {
   "display_name": "base",
   "language": "python",
   "name": "python3"
  },
  "language_info": {
   "codemirror_mode": {
    "name": "ipython",
    "version": 3
   },
   "file_extension": ".py",
   "mimetype": "text/x-python",
   "name": "python",
   "nbconvert_exporter": "python",
   "pygments_lexer": "ipython3",
   "version": "3.9.7"
  }
 },
 "nbformat": 4,
 "nbformat_minor": 5
}
